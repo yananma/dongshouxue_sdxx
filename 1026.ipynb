{
  "nbformat": 4,
  "nbformat_minor": 0,
  "metadata": {
    "colab": {
      "name": "1026.ipynb",
      "provenance": [],
      "include_colab_link": true
    },
    "kernelspec": {
      "name": "python3",
      "display_name": "Python 3"
    },
    "accelerator": "GPU"
  },
  "cells": [
    {
      "cell_type": "markdown",
      "metadata": {
        "id": "view-in-github",
        "colab_type": "text"
      },
      "source": [
        "<a href=\"https://colab.research.google.com/github/yananma/5_programs_per_day/blob/master/1026.ipynb\" target=\"_parent\"><img src=\"https://colab.research.google.com/assets/colab-badge.svg\" alt=\"Open In Colab\"/></a>"
      ]
    },
    {
      "cell_type": "markdown",
      "metadata": {
        "id": "vS9Ulqu2JHtB",
        "colab_type": "text"
      },
      "source": [
        "## d2l Chapter 3"
      ]
    },
    {
      "cell_type": "code",
      "metadata": {
        "id": "93Ia91Nfd20C",
        "colab_type": "code",
        "colab": {}
      },
      "source": [
        "!pip install mxnet\n",
        "import mxnet"
      ],
      "execution_count": 0,
      "outputs": []
    },
    {
      "cell_type": "code",
      "metadata": {
        "id": "JHt82jDkRfES",
        "colab_type": "code",
        "colab": {}
      },
      "source": [
        "from mxnet import nd \n",
        "from time import time \n",
        "\n",
        "a = nd.ones(shape=1000)\n",
        "b = nd.ones(shape=1000)"
      ],
      "execution_count": 0,
      "outputs": []
    },
    {
      "cell_type": "code",
      "metadata": {
        "id": "m9WZbScuSgOC",
        "colab_type": "code",
        "outputId": "a1c41265-470b-49e4-fa53-3de4d87a0988",
        "colab": {
          "base_uri": "https://localhost:8080/",
          "height": 34
        }
      },
      "source": [
        "start = time()\n",
        "c = nd.zeros(shape=1000)\n",
        "for i in range(1000):\n",
        "    c[i] = a[i] + b[i]\n",
        "time() - start"
      ],
      "execution_count": 0,
      "outputs": [
        {
          "output_type": "execute_result",
          "data": {
            "text/plain": [
              "0.19153738021850586"
            ]
          },
          "metadata": {
            "tags": []
          },
          "execution_count": 5
        }
      ]
    },
    {
      "cell_type": "code",
      "metadata": {
        "id": "-uNmtB1ES2oc",
        "colab_type": "code",
        "outputId": "2e73c095-14fb-4009-9316-56de081db626",
        "colab": {
          "base_uri": "https://localhost:8080/",
          "height": 34
        }
      },
      "source": [
        "start = time()\n",
        "d = a + b \n",
        "time() - start"
      ],
      "execution_count": 0,
      "outputs": [
        {
          "output_type": "execute_result",
          "data": {
            "text/plain": [
              "0.0010044574737548828"
            ]
          },
          "metadata": {
            "tags": []
          },
          "execution_count": 6
        }
      ]
    },
    {
      "cell_type": "code",
      "metadata": {
        "id": "JhkeE-x7S-3b",
        "colab_type": "code",
        "outputId": "5b9e7a4e-1346-403e-c2b6-fd02130b1c9f",
        "colab": {
          "base_uri": "https://localhost:8080/",
          "height": 70
        }
      },
      "source": [
        "a = nd.ones(shape=3)\n",
        "b = 10 \n",
        "a + b"
      ],
      "execution_count": 0,
      "outputs": [
        {
          "output_type": "execute_result",
          "data": {
            "text/plain": [
              "\n",
              "[11. 11. 11.]\n",
              "<NDArray 3 @cpu(0)>"
            ]
          },
          "metadata": {
            "tags": []
          },
          "execution_count": 7
        }
      ]
    },
    {
      "cell_type": "code",
      "metadata": {
        "id": "nP13snSqXzg8",
        "colab_type": "code",
        "colab": {}
      },
      "source": [
        "from IPython import display \n",
        "import matplotlib.pyplot as plt \n",
        "from mxnet import autograd, nd \n",
        "import random\n",
        "%matplotlib inline "
      ],
      "execution_count": 0,
      "outputs": []
    },
    {
      "cell_type": "code",
      "metadata": {
        "id": "cxHskX0RZNrF",
        "colab_type": "code",
        "colab": {}
      },
      "source": [
        "num_inputs = 2 \n",
        "num_examples = 1000 \n",
        "true_w = [2, -3.4]\n",
        "true_b = 4.2 \n",
        "features = nd.random.normal(scale=1, shape=(num_examples, num_inputs))\n",
        "labels = true_w[0] * features[:, 0] + true_w[1] * features[:, 1] + true_b \n",
        "labels += nd.random.normal(scale=0.01, shape=labels.shape)"
      ],
      "execution_count": 0,
      "outputs": []
    },
    {
      "cell_type": "code",
      "metadata": {
        "id": "bctqBaouaq_r",
        "colab_type": "code",
        "outputId": "2445c8a1-d49b-416c-d04a-de8336cba149",
        "colab": {
          "base_uri": "https://localhost:8080/",
          "height": 105
        }
      },
      "source": [
        "features[0], labels[0]"
      ],
      "execution_count": 0,
      "outputs": [
        {
          "output_type": "execute_result",
          "data": {
            "text/plain": [
              "(\n",
              " [2.2122064 0.7740038]\n",
              " <NDArray 2 @cpu(0)>, \n",
              " [6.000587]\n",
              " <NDArray 1 @cpu(0)>)"
            ]
          },
          "metadata": {
            "tags": []
          },
          "execution_count": 10
        }
      ]
    },
    {
      "cell_type": "code",
      "metadata": {
        "id": "m9FrHOH0a5BP",
        "colab_type": "code",
        "colab": {}
      },
      "source": [
        "def use_svg_display():\n",
        "    display.set_matplotlib_formats('svg')"
      ],
      "execution_count": 0,
      "outputs": []
    },
    {
      "cell_type": "code",
      "metadata": {
        "id": "eAbKPHx4bNsY",
        "colab_type": "code",
        "colab": {}
      },
      "source": [
        "def set_figsize(figsize=(3.5, 2.5)):\n",
        "    use_svg_display()\n",
        "    plt.rcParams['figure.figsize'] = figsize"
      ],
      "execution_count": 0,
      "outputs": []
    },
    {
      "cell_type": "code",
      "metadata": {
        "id": "gsJun0hqcC9X",
        "colab_type": "code",
        "collapsed": true,
        "outputId": "7f6bdc11-f1b8-4daf-97ae-51c60718178b",
        "colab": {
          "base_uri": "https://localhost:8080/",
          "height": 1000
        }
      },
      "source": [
        "help(plt.rcParams)"
      ],
      "execution_count": 0,
      "outputs": [
        {
          "output_type": "stream",
          "text": [
            "Help on RcParams in module matplotlib object:\n",
            "\n",
            "class RcParams(collections.abc.MutableMapping, builtins.dict)\n",
            " |  A dictionary object including validation\n",
            " |  \n",
            " |  validating functions are defined and associated with rc parameters in\n",
            " |  :mod:`matplotlib.rcsetup`\n",
            " |  \n",
            " |  Method resolution order:\n",
            " |      RcParams\n",
            " |      collections.abc.MutableMapping\n",
            " |      collections.abc.Mapping\n",
            " |      collections.abc.Collection\n",
            " |      collections.abc.Sized\n",
            " |      collections.abc.Iterable\n",
            " |      collections.abc.Container\n",
            " |      builtins.dict\n",
            " |      builtins.object\n",
            " |  \n",
            " |  Methods defined here:\n",
            " |  \n",
            " |  __getitem__(self, key)\n",
            " |      x.__getitem__(y) <==> x[y]\n",
            " |  \n",
            " |  __init__(self, *args, **kwargs)\n",
            " |      Initialize self.  See help(type(self)) for accurate signature.\n",
            " |  \n",
            " |  __iter__(self)\n",
            " |      Yield sorted list of keys.\n",
            " |  \n",
            " |  __len__(self)\n",
            " |      Return len(self).\n",
            " |  \n",
            " |  __repr__(self)\n",
            " |      Return repr(self).\n",
            " |  \n",
            " |  __setitem__(self, key, val)\n",
            " |      Set self[key] to value.\n",
            " |  \n",
            " |  __str__(self)\n",
            " |      Return str(self).\n",
            " |  \n",
            " |  copy(self)\n",
            " |      D.copy() -> a shallow copy of D\n",
            " |  \n",
            " |  find_all(self, pattern)\n",
            " |      Return the subset of this RcParams dictionary whose keys match,\n",
            " |      using :func:`re.search`, the given ``pattern``.\n",
            " |      \n",
            " |      .. note::\n",
            " |      \n",
            " |          Changes to the returned dictionary are *not* propagated to\n",
            " |          the parent RcParams dictionary.\n",
            " |  \n",
            " |  ----------------------------------------------------------------------\n",
            " |  Data descriptors defined here:\n",
            " |  \n",
            " |  __dict__\n",
            " |      dictionary for instance variables (if defined)\n",
            " |  \n",
            " |  __weakref__\n",
            " |      list of weak references to the object (if defined)\n",
            " |  \n",
            " |  msg_backend_obsolete\n",
            " |  \n",
            " |  msg_depr\n",
            " |  \n",
            " |  msg_depr_ignore\n",
            " |  \n",
            " |  msg_depr_set\n",
            " |  \n",
            " |  msg_obsolete\n",
            " |  \n",
            " |  ----------------------------------------------------------------------\n",
            " |  Data and other attributes defined here:\n",
            " |  \n",
            " |  __abstractmethods__ = frozenset({'__delitem__'})\n",
            " |  \n",
            " |  validate = {'_internal.classic_mode': <function validate_bool>, 'agg.p...\n",
            " |  \n",
            " |  ----------------------------------------------------------------------\n",
            " |  Methods inherited from collections.abc.MutableMapping:\n",
            " |  \n",
            " |  __delitem__(self, key)\n",
            " |  \n",
            " |  clear(self)\n",
            " |      D.clear() -> None.  Remove all items from D.\n",
            " |  \n",
            " |  pop(self, key, default=<object object at 0x7f9d963a3060>)\n",
            " |      D.pop(k[,d]) -> v, remove specified key and return the corresponding value.\n",
            " |      If key is not found, d is returned if given, otherwise KeyError is raised.\n",
            " |  \n",
            " |  popitem(self)\n",
            " |      D.popitem() -> (k, v), remove and return some (key, value) pair\n",
            " |      as a 2-tuple; but raise KeyError if D is empty.\n",
            " |  \n",
            " |  setdefault(self, key, default=None)\n",
            " |      D.setdefault(k[,d]) -> D.get(k,d), also set D[k]=d if k not in D\n",
            " |  \n",
            " |  update(*args, **kwds)\n",
            " |      D.update([E, ]**F) -> None.  Update D from mapping/iterable E and F.\n",
            " |      If E present and has a .keys() method, does:     for k in E: D[k] = E[k]\n",
            " |      If E present and lacks .keys() method, does:     for (k, v) in E: D[k] = v\n",
            " |      In either case, this is followed by: for k, v in F.items(): D[k] = v\n",
            " |  \n",
            " |  ----------------------------------------------------------------------\n",
            " |  Methods inherited from collections.abc.Mapping:\n",
            " |  \n",
            " |  __contains__(self, key)\n",
            " |  \n",
            " |  __eq__(self, other)\n",
            " |      Return self==value.\n",
            " |  \n",
            " |  get(self, key, default=None)\n",
            " |      D.get(k[,d]) -> D[k] if k in D, else d.  d defaults to None.\n",
            " |  \n",
            " |  items(self)\n",
            " |      D.items() -> a set-like object providing a view on D's items\n",
            " |  \n",
            " |  keys(self)\n",
            " |      D.keys() -> a set-like object providing a view on D's keys\n",
            " |  \n",
            " |  values(self)\n",
            " |      D.values() -> an object providing a view on D's values\n",
            " |  \n",
            " |  ----------------------------------------------------------------------\n",
            " |  Data and other attributes inherited from collections.abc.Mapping:\n",
            " |  \n",
            " |  __hash__ = None\n",
            " |  \n",
            " |  __reversed__ = None\n",
            " |  \n",
            " |  ----------------------------------------------------------------------\n",
            " |  Class methods inherited from collections.abc.Collection:\n",
            " |  \n",
            " |  __subclasshook__(C) from abc.ABCMeta\n",
            " |      Abstract classes can override this to customize issubclass().\n",
            " |      \n",
            " |      This is invoked early on by abc.ABCMeta.__subclasscheck__().\n",
            " |      It should return True, False or NotImplemented.  If it returns\n",
            " |      NotImplemented, the normal algorithm is used.  Otherwise, it\n",
            " |      overrides the normal algorithm (and the outcome is cached).\n",
            " |  \n",
            " |  ----------------------------------------------------------------------\n",
            " |  Methods inherited from builtins.dict:\n",
            " |  \n",
            " |  __ge__(self, value, /)\n",
            " |      Return self>=value.\n",
            " |  \n",
            " |  __getattribute__(self, name, /)\n",
            " |      Return getattr(self, name).\n",
            " |  \n",
            " |  __gt__(self, value, /)\n",
            " |      Return self>value.\n",
            " |  \n",
            " |  __le__(self, value, /)\n",
            " |      Return self<=value.\n",
            " |  \n",
            " |  __lt__(self, value, /)\n",
            " |      Return self<value.\n",
            " |  \n",
            " |  __ne__(self, value, /)\n",
            " |      Return self!=value.\n",
            " |  \n",
            " |  __new__(*args, **kwargs) from builtins.type\n",
            " |      Create and return a new object.  See help(type) for accurate signature.\n",
            " |  \n",
            " |  __sizeof__(...)\n",
            " |      D.__sizeof__() -> size of D in memory, in bytes\n",
            " |  \n",
            " |  fromkeys(iterable, value=None, /) from abc.ABCMeta\n",
            " |      Returns a new dict with keys from iterable and values equal to value.\n",
            "\n"
          ],
          "name": "stdout"
        }
      ]
    },
    {
      "cell_type": "code",
      "metadata": {
        "id": "NLfd1kTucsha",
        "colab_type": "code",
        "outputId": "76362989-9b4f-4bd4-bbdf-85adcc86f8ca",
        "colab": {
          "base_uri": "https://localhost:8080/",
          "height": 260
        }
      },
      "source": [
        "set_figsize()\n",
        "plt.scatter(features[:, 1].asnumpy(), labels.asnumpy(), 1)"
      ],
      "execution_count": 0,
      "outputs": [
        {
          "output_type": "execute_result",
          "data": {
            "text/plain": [
              "<matplotlib.collections.PathCollection at 0x7f9d4f62a978>"
            ]
          },
          "metadata": {
            "tags": []
          },
          "execution_count": 14
        },
        {
          "output_type": "display_data",
          "data": {
            "text/plain": [
              "<Figure size 252x180 with 1 Axes>"
            ],
            "image/svg+xml": "<?xml version=\"1.0\" encoding=\"utf-8\" standalone=\"no\"?>\n<!DOCTYPE svg PUBLIC \"-//W3C//DTD SVG 1.1//EN\"\n  \"http://www.w3.org/Graphics/SVG/1.1/DTD/svg11.dtd\">\n<!-- Created with matplotlib (https://matplotlib.org/) -->\n<svg height=\"166.978125pt\" version=\"1.1\" viewBox=\"0 0 237.804688 166.978125\" width=\"237.804688pt\" xmlns=\"http://www.w3.org/2000/svg\" xmlns:xlink=\"http://www.w3.org/1999/xlink\">\n <defs>\n  <style type=\"text/css\">\n*{stroke-linecap:butt;stroke-linejoin:round;}\n  </style>\n </defs>\n <g id=\"figure_1\">\n  <g id=\"patch_1\">\n   <path d=\"M 0 166.978125 \nL 237.804688 166.978125 \nL 237.804688 0 \nL 0 0 \nz\n\" style=\"fill:none;\"/>\n  </g>\n  <g id=\"axes_1\">\n   <g id=\"patch_2\">\n    <path d=\"M 35.304688 143.1 \nL 230.604688 143.1 \nL 230.604688 7.2 \nL 35.304688 7.2 \nz\n\" style=\"fill:#ffffff;\"/>\n   </g>\n   <g id=\"PathCollection_1\">\n    <defs>\n     <path d=\"M 0 0.5 \nC 0.132602 0.5 0.25979 0.447317 0.353553 0.353553 \nC 0.447317 0.25979 0.5 0.132602 0.5 0 \nC 0.5 -0.132602 0.447317 -0.25979 0.353553 -0.353553 \nC 0.25979 -0.447317 0.132602 -0.5 0 -0.5 \nC -0.132602 -0.5 -0.25979 -0.447317 -0.353553 -0.353553 \nC -0.447317 -0.25979 -0.5 -0.132602 -0.5 0 \nC -0.5 0.132602 -0.447317 0.25979 -0.353553 0.353553 \nC -0.25979 0.447317 -0.132602 0.5 0 0.5 \nz\n\" id=\"ma4ce8d50c5\" style=\"stroke:#1f77b4;\"/>\n    </defs>\n    <g clip-path=\"url(#p7f29ae8417)\">\n     <use style=\"fill:#1f77b4;stroke:#1f77b4;\" x=\"152.110325\" xlink:href=\"#ma4ce8d50c5\" y=\"61.427259\"/>\n     <use style=\"fill:#1f77b4;stroke:#1f77b4;\" x=\"162.965175\" xlink:href=\"#ma4ce8d50c5\" y=\"77.599786\"/>\n     <use style=\"fill:#1f77b4;stroke:#1f77b4;\" x=\"98.918144\" xlink:href=\"#ma4ce8d50c5\" y=\"34.602631\"/>\n     <use style=\"fill:#1f77b4;stroke:#1f77b4;\" x=\"119.661674\" xlink:href=\"#ma4ce8d50c5\" y=\"77.921716\"/>\n     <use style=\"fill:#1f77b4;stroke:#1f77b4;\" x=\"82.46486\" xlink:href=\"#ma4ce8d50c5\" y=\"36.830989\"/>\n     <use style=\"fill:#1f77b4;stroke:#1f77b4;\" x=\"126.106059\" xlink:href=\"#ma4ce8d50c5\" y=\"83.327675\"/>\n     <use style=\"fill:#1f77b4;stroke:#1f77b4;\" x=\"130.630445\" xlink:href=\"#ma4ce8d50c5\" y=\"66.570132\"/>\n     <use style=\"fill:#1f77b4;stroke:#1f77b4;\" x=\"131.015558\" xlink:href=\"#ma4ce8d50c5\" y=\"73.080533\"/>\n     <use style=\"fill:#1f77b4;stroke:#1f77b4;\" x=\"170.437935\" xlink:href=\"#ma4ce8d50c5\" y=\"85.829735\"/>\n     <use style=\"fill:#1f77b4;stroke:#1f77b4;\" x=\"141.013946\" xlink:href=\"#ma4ce8d50c5\" y=\"68.476347\"/>\n     <use style=\"fill:#1f77b4;stroke:#1f77b4;\" x=\"134.79673\" xlink:href=\"#ma4ce8d50c5\" y=\"61.743283\"/>\n     <use style=\"fill:#1f77b4;stroke:#1f77b4;\" x=\"111.073789\" xlink:href=\"#ma4ce8d50c5\" y=\"66.233375\"/>\n     <use style=\"fill:#1f77b4;stroke:#1f77b4;\" x=\"151.256837\" xlink:href=\"#ma4ce8d50c5\" y=\"86.926989\"/>\n     <use style=\"fill:#1f77b4;stroke:#1f77b4;\" x=\"103.198649\" xlink:href=\"#ma4ce8d50c5\" y=\"66.207096\"/>\n     <use style=\"fill:#1f77b4;stroke:#1f77b4;\" x=\"96.451677\" xlink:href=\"#ma4ce8d50c5\" y=\"58.670109\"/>\n     <use style=\"fill:#1f77b4;stroke:#1f77b4;\" x=\"117.735033\" xlink:href=\"#ma4ce8d50c5\" y=\"74.247484\"/>\n     <use style=\"fill:#1f77b4;stroke:#1f77b4;\" x=\"155.31604\" xlink:href=\"#ma4ce8d50c5\" y=\"71.479809\"/>\n     <use style=\"fill:#1f77b4;stroke:#1f77b4;\" x=\"163.498234\" xlink:href=\"#ma4ce8d50c5\" y=\"92.179662\"/>\n     <use style=\"fill:#1f77b4;stroke:#1f77b4;\" x=\"116.188046\" xlink:href=\"#ma4ce8d50c5\" y=\"69.026591\"/>\n     <use style=\"fill:#1f77b4;stroke:#1f77b4;\" x=\"156.241342\" xlink:href=\"#ma4ce8d50c5\" y=\"79.787695\"/>\n     <use style=\"fill:#1f77b4;stroke:#1f77b4;\" x=\"117.907739\" xlink:href=\"#ma4ce8d50c5\" y=\"73.891317\"/>\n     <use style=\"fill:#1f77b4;stroke:#1f77b4;\" x=\"139.196006\" xlink:href=\"#ma4ce8d50c5\" y=\"55.956589\"/>\n     <use style=\"fill:#1f77b4;stroke:#1f77b4;\" x=\"157.294002\" xlink:href=\"#ma4ce8d50c5\" y=\"78.641941\"/>\n     <use style=\"fill:#1f77b4;stroke:#1f77b4;\" x=\"81.590798\" xlink:href=\"#ma4ce8d50c5\" y=\"45.976216\"/>\n     <use style=\"fill:#1f77b4;stroke:#1f77b4;\" x=\"119.570881\" xlink:href=\"#ma4ce8d50c5\" y=\"56.938241\"/>\n     <use style=\"fill:#1f77b4;stroke:#1f77b4;\" x=\"97.183879\" xlink:href=\"#ma4ce8d50c5\" y=\"47.287893\"/>\n     <use style=\"fill:#1f77b4;stroke:#1f77b4;\" x=\"170.101636\" xlink:href=\"#ma4ce8d50c5\" y=\"87.405309\"/>\n     <use style=\"fill:#1f77b4;stroke:#1f77b4;\" x=\"144.298007\" xlink:href=\"#ma4ce8d50c5\" y=\"74.205863\"/>\n     <use style=\"fill:#1f77b4;stroke:#1f77b4;\" x=\"104.55625\" xlink:href=\"#ma4ce8d50c5\" y=\"45.71103\"/>\n     <use style=\"fill:#1f77b4;stroke:#1f77b4;\" x=\"123.175637\" xlink:href=\"#ma4ce8d50c5\" y=\"65.138588\"/>\n     <use style=\"fill:#1f77b4;stroke:#1f77b4;\" x=\"141.056097\" xlink:href=\"#ma4ce8d50c5\" y=\"76.083312\"/>\n     <use style=\"fill:#1f77b4;stroke:#1f77b4;\" x=\"139.728026\" xlink:href=\"#ma4ce8d50c5\" y=\"67.259585\"/>\n     <use style=\"fill:#1f77b4;stroke:#1f77b4;\" x=\"126.198013\" xlink:href=\"#ma4ce8d50c5\" y=\"69.853636\"/>\n     <use style=\"fill:#1f77b4;stroke:#1f77b4;\" x=\"166.18377\" xlink:href=\"#ma4ce8d50c5\" y=\"92.029982\"/>\n     <use style=\"fill:#1f77b4;stroke:#1f77b4;\" x=\"163.238163\" xlink:href=\"#ma4ce8d50c5\" y=\"81.260809\"/>\n     <use style=\"fill:#1f77b4;stroke:#1f77b4;\" x=\"138.518156\" xlink:href=\"#ma4ce8d50c5\" y=\"88.066949\"/>\n     <use style=\"fill:#1f77b4;stroke:#1f77b4;\" x=\"123.298696\" xlink:href=\"#ma4ce8d50c5\" y=\"66.947478\"/>\n     <use style=\"fill:#1f77b4;stroke:#1f77b4;\" x=\"147.894182\" xlink:href=\"#ma4ce8d50c5\" y=\"77.993259\"/>\n     <use style=\"fill:#1f77b4;stroke:#1f77b4;\" x=\"78.830064\" xlink:href=\"#ma4ce8d50c5\" y=\"50.145374\"/>\n     <use style=\"fill:#1f77b4;stroke:#1f77b4;\" x=\"148.546168\" xlink:href=\"#ma4ce8d50c5\" y=\"73.489463\"/>\n     <use style=\"fill:#1f77b4;stroke:#1f77b4;\" x=\"136.467624\" xlink:href=\"#ma4ce8d50c5\" y=\"77.189302\"/>\n     <use style=\"fill:#1f77b4;stroke:#1f77b4;\" x=\"136.864576\" xlink:href=\"#ma4ce8d50c5\" y=\"69.009236\"/>\n     <use style=\"fill:#1f77b4;stroke:#1f77b4;\" x=\"128.968358\" xlink:href=\"#ma4ce8d50c5\" y=\"52.178177\"/>\n     <use style=\"fill:#1f77b4;stroke:#1f77b4;\" x=\"102.253031\" xlink:href=\"#ma4ce8d50c5\" y=\"65.059969\"/>\n     <use style=\"fill:#1f77b4;stroke:#1f77b4;\" x=\"159.17084\" xlink:href=\"#ma4ce8d50c5\" y=\"91.808083\"/>\n     <use style=\"fill:#1f77b4;stroke:#1f77b4;\" x=\"149.572712\" xlink:href=\"#ma4ce8d50c5\" y=\"81.824222\"/>\n     <use style=\"fill:#1f77b4;stroke:#1f77b4;\" x=\"120.37165\" xlink:href=\"#ma4ce8d50c5\" y=\"70.300347\"/>\n     <use style=\"fill:#1f77b4;stroke:#1f77b4;\" x=\"92.488313\" xlink:href=\"#ma4ce8d50c5\" y=\"53.089345\"/>\n     <use style=\"fill:#1f77b4;stroke:#1f77b4;\" x=\"114.452536\" xlink:href=\"#ma4ce8d50c5\" y=\"54.897365\"/>\n     <use style=\"fill:#1f77b4;stroke:#1f77b4;\" x=\"146.803054\" xlink:href=\"#ma4ce8d50c5\" y=\"77.10587\"/>\n     <use style=\"fill:#1f77b4;stroke:#1f77b4;\" x=\"201.808587\" xlink:href=\"#ma4ce8d50c5\" y=\"116.13768\"/>\n     <use style=\"fill:#1f77b4;stroke:#1f77b4;\" x=\"182.280521\" xlink:href=\"#ma4ce8d50c5\" y=\"96.590082\"/>\n     <use style=\"fill:#1f77b4;stroke:#1f77b4;\" x=\"104.712178\" xlink:href=\"#ma4ce8d50c5\" y=\"67.590936\"/>\n     <use style=\"fill:#1f77b4;stroke:#1f77b4;\" x=\"147.009255\" xlink:href=\"#ma4ce8d50c5\" y=\"77.094657\"/>\n     <use style=\"fill:#1f77b4;stroke:#1f77b4;\" x=\"160.806736\" xlink:href=\"#ma4ce8d50c5\" y=\"86.087303\"/>\n     <use style=\"fill:#1f77b4;stroke:#1f77b4;\" x=\"108.277796\" xlink:href=\"#ma4ce8d50c5\" y=\"61.4955\"/>\n     <use style=\"fill:#1f77b4;stroke:#1f77b4;\" x=\"156.993348\" xlink:href=\"#ma4ce8d50c5\" y=\"70.695542\"/>\n     <use style=\"fill:#1f77b4;stroke:#1f77b4;\" x=\"127.417234\" xlink:href=\"#ma4ce8d50c5\" y=\"66.093839\"/>\n     <use style=\"fill:#1f77b4;stroke:#1f77b4;\" x=\"154.572674\" xlink:href=\"#ma4ce8d50c5\" y=\"86.167011\"/>\n     <use style=\"fill:#1f77b4;stroke:#1f77b4;\" x=\"126.277762\" xlink:href=\"#ma4ce8d50c5\" y=\"62.266229\"/>\n     <use style=\"fill:#1f77b4;stroke:#1f77b4;\" x=\"150.667171\" xlink:href=\"#ma4ce8d50c5\" y=\"72.191703\"/>\n     <use style=\"fill:#1f77b4;stroke:#1f77b4;\" x=\"140.903861\" xlink:href=\"#ma4ce8d50c5\" y=\"79.897944\"/>\n     <use style=\"fill:#1f77b4;stroke:#1f77b4;\" x=\"111.973649\" xlink:href=\"#ma4ce8d50c5\" y=\"45.344924\"/>\n     <use style=\"fill:#1f77b4;stroke:#1f77b4;\" x=\"148.614296\" xlink:href=\"#ma4ce8d50c5\" y=\"89.922344\"/>\n     <use style=\"fill:#1f77b4;stroke:#1f77b4;\" x=\"84.810933\" xlink:href=\"#ma4ce8d50c5\" y=\"48.878877\"/>\n     <use style=\"fill:#1f77b4;stroke:#1f77b4;\" x=\"148.849347\" xlink:href=\"#ma4ce8d50c5\" y=\"86.757084\"/>\n     <use style=\"fill:#1f77b4;stroke:#1f77b4;\" x=\"127.882704\" xlink:href=\"#ma4ce8d50c5\" y=\"74.992898\"/>\n     <use style=\"fill:#1f77b4;stroke:#1f77b4;\" x=\"162.293468\" xlink:href=\"#ma4ce8d50c5\" y=\"79.530631\"/>\n     <use style=\"fill:#1f77b4;stroke:#1f77b4;\" x=\"131.497703\" xlink:href=\"#ma4ce8d50c5\" y=\"52.142797\"/>\n     <use style=\"fill:#1f77b4;stroke:#1f77b4;\" x=\"147.12287\" xlink:href=\"#ma4ce8d50c5\" y=\"55.266863\"/>\n     <use style=\"fill:#1f77b4;stroke:#1f77b4;\" x=\"135.593646\" xlink:href=\"#ma4ce8d50c5\" y=\"77.568302\"/>\n     <use style=\"fill:#1f77b4;stroke:#1f77b4;\" x=\"123.229756\" xlink:href=\"#ma4ce8d50c5\" y=\"86.976717\"/>\n     <use style=\"fill:#1f77b4;stroke:#1f77b4;\" x=\"127.387462\" xlink:href=\"#ma4ce8d50c5\" y=\"83.397199\"/>\n     <use style=\"fill:#1f77b4;stroke:#1f77b4;\" x=\"131.175211\" xlink:href=\"#ma4ce8d50c5\" y=\"77.419754\"/>\n     <use style=\"fill:#1f77b4;stroke:#1f77b4;\" x=\"112.850049\" xlink:href=\"#ma4ce8d50c5\" y=\"47.040254\"/>\n     <use style=\"fill:#1f77b4;stroke:#1f77b4;\" x=\"142.022025\" xlink:href=\"#ma4ce8d50c5\" y=\"72.904527\"/>\n     <use style=\"fill:#1f77b4;stroke:#1f77b4;\" x=\"72.958558\" xlink:href=\"#ma4ce8d50c5\" y=\"45.521689\"/>\n     <use style=\"fill:#1f77b4;stroke:#1f77b4;\" x=\"168.235172\" xlink:href=\"#ma4ce8d50c5\" y=\"90.857799\"/>\n     <use style=\"fill:#1f77b4;stroke:#1f77b4;\" x=\"187.632911\" xlink:href=\"#ma4ce8d50c5\" y=\"87.77593\"/>\n     <use style=\"fill:#1f77b4;stroke:#1f77b4;\" x=\"105.625518\" xlink:href=\"#ma4ce8d50c5\" y=\"41.6773\"/>\n     <use style=\"fill:#1f77b4;stroke:#1f77b4;\" x=\"152.678917\" xlink:href=\"#ma4ce8d50c5\" y=\"82.961862\"/>\n     <use style=\"fill:#1f77b4;stroke:#1f77b4;\" x=\"91.626042\" xlink:href=\"#ma4ce8d50c5\" y=\"46.880045\"/>\n     <use style=\"fill:#1f77b4;stroke:#1f77b4;\" x=\"89.189554\" xlink:href=\"#ma4ce8d50c5\" y=\"56.818925\"/>\n     <use style=\"fill:#1f77b4;stroke:#1f77b4;\" x=\"79.638911\" xlink:href=\"#ma4ce8d50c5\" y=\"28.926225\"/>\n     <use style=\"fill:#1f77b4;stroke:#1f77b4;\" x=\"85.335782\" xlink:href=\"#ma4ce8d50c5\" y=\"45.021122\"/>\n     <use style=\"fill:#1f77b4;stroke:#1f77b4;\" x=\"160.902614\" xlink:href=\"#ma4ce8d50c5\" y=\"73.927323\"/>\n     <use style=\"fill:#1f77b4;stroke:#1f77b4;\" x=\"95.068172\" xlink:href=\"#ma4ce8d50c5\" y=\"48.469434\"/>\n     <use style=\"fill:#1f77b4;stroke:#1f77b4;\" x=\"131.697937\" xlink:href=\"#ma4ce8d50c5\" y=\"72.914257\"/>\n     <use style=\"fill:#1f77b4;stroke:#1f77b4;\" x=\"173.441839\" xlink:href=\"#ma4ce8d50c5\" y=\"87.027962\"/>\n     <use style=\"fill:#1f77b4;stroke:#1f77b4;\" x=\"115.454838\" xlink:href=\"#ma4ce8d50c5\" y=\"61.216539\"/>\n     <use style=\"fill:#1f77b4;stroke:#1f77b4;\" x=\"164.968987\" xlink:href=\"#ma4ce8d50c5\" y=\"105.20042\"/>\n     <use style=\"fill:#1f77b4;stroke:#1f77b4;\" x=\"158.756751\" xlink:href=\"#ma4ce8d50c5\" y=\"77.172615\"/>\n     <use style=\"fill:#1f77b4;stroke:#1f77b4;\" x=\"144.48824\" xlink:href=\"#ma4ce8d50c5\" y=\"71.35595\"/>\n     <use style=\"fill:#1f77b4;stroke:#1f77b4;\" x=\"169.648359\" xlink:href=\"#ma4ce8d50c5\" y=\"103.228639\"/>\n     <use style=\"fill:#1f77b4;stroke:#1f77b4;\" x=\"111.548962\" xlink:href=\"#ma4ce8d50c5\" y=\"63.335338\"/>\n     <use style=\"fill:#1f77b4;stroke:#1f77b4;\" x=\"113.967932\" xlink:href=\"#ma4ce8d50c5\" y=\"52.44347\"/>\n     <use style=\"fill:#1f77b4;stroke:#1f77b4;\" x=\"127.612678\" xlink:href=\"#ma4ce8d50c5\" y=\"42.986245\"/>\n     <use style=\"fill:#1f77b4;stroke:#1f77b4;\" x=\"179.64405\" xlink:href=\"#ma4ce8d50c5\" y=\"101.708741\"/>\n     <use style=\"fill:#1f77b4;stroke:#1f77b4;\" x=\"100.407572\" xlink:href=\"#ma4ce8d50c5\" y=\"70.173597\"/>\n     <use style=\"fill:#1f77b4;stroke:#1f77b4;\" x=\"129.357927\" xlink:href=\"#ma4ce8d50c5\" y=\"75.587853\"/>\n     <use style=\"fill:#1f77b4;stroke:#1f77b4;\" x=\"142.9455\" xlink:href=\"#ma4ce8d50c5\" y=\"68.550674\"/>\n     <use style=\"fill:#1f77b4;stroke:#1f77b4;\" x=\"167.087747\" xlink:href=\"#ma4ce8d50c5\" y=\"94.233722\"/>\n     <use style=\"fill:#1f77b4;stroke:#1f77b4;\" x=\"151.70754\" xlink:href=\"#ma4ce8d50c5\" y=\"89.00764\"/>\n     <use style=\"fill:#1f77b4;stroke:#1f77b4;\" x=\"127.402143\" xlink:href=\"#ma4ce8d50c5\" y=\"81.559014\"/>\n     <use style=\"fill:#1f77b4;stroke:#1f77b4;\" x=\"147.784087\" xlink:href=\"#ma4ce8d50c5\" y=\"64.44247\"/>\n     <use style=\"fill:#1f77b4;stroke:#1f77b4;\" x=\"140.018062\" xlink:href=\"#ma4ce8d50c5\" y=\"83.236625\"/>\n     <use style=\"fill:#1f77b4;stroke:#1f77b4;\" x=\"99.814198\" xlink:href=\"#ma4ce8d50c5\" y=\"38.587463\"/>\n     <use style=\"fill:#1f77b4;stroke:#1f77b4;\" x=\"100.526838\" xlink:href=\"#ma4ce8d50c5\" y=\"54.700736\"/>\n     <use style=\"fill:#1f77b4;stroke:#1f77b4;\" x=\"162.212896\" xlink:href=\"#ma4ce8d50c5\" y=\"87.798863\"/>\n     <use style=\"fill:#1f77b4;stroke:#1f77b4;\" x=\"127.394285\" xlink:href=\"#ma4ce8d50c5\" y=\"51.866414\"/>\n     <use style=\"fill:#1f77b4;stroke:#1f77b4;\" x=\"167.661998\" xlink:href=\"#ma4ce8d50c5\" y=\"95.491704\"/>\n     <use style=\"fill:#1f77b4;stroke:#1f77b4;\" x=\"150.23596\" xlink:href=\"#ma4ce8d50c5\" y=\"65.265035\"/>\n     <use style=\"fill:#1f77b4;stroke:#1f77b4;\" x=\"186.21448\" xlink:href=\"#ma4ce8d50c5\" y=\"107.622073\"/>\n     <use style=\"fill:#1f77b4;stroke:#1f77b4;\" x=\"158.513243\" xlink:href=\"#ma4ce8d50c5\" y=\"80.655329\"/>\n     <use style=\"fill:#1f77b4;stroke:#1f77b4;\" x=\"110.194873\" xlink:href=\"#ma4ce8d50c5\" y=\"49.838247\"/>\n     <use style=\"fill:#1f77b4;stroke:#1f77b4;\" x=\"148.805748\" xlink:href=\"#ma4ce8d50c5\" y=\"85.629344\"/>\n     <use style=\"fill:#1f77b4;stroke:#1f77b4;\" x=\"138.451798\" xlink:href=\"#ma4ce8d50c5\" y=\"62.405168\"/>\n     <use style=\"fill:#1f77b4;stroke:#1f77b4;\" x=\"95.276966\" xlink:href=\"#ma4ce8d50c5\" y=\"73.525853\"/>\n     <use style=\"fill:#1f77b4;stroke:#1f77b4;\" x=\"124.110241\" xlink:href=\"#ma4ce8d50c5\" y=\"63.830787\"/>\n     <use style=\"fill:#1f77b4;stroke:#1f77b4;\" x=\"102.102851\" xlink:href=\"#ma4ce8d50c5\" y=\"44.548151\"/>\n     <use style=\"fill:#1f77b4;stroke:#1f77b4;\" x=\"128.103453\" xlink:href=\"#ma4ce8d50c5\" y=\"58.181402\"/>\n     <use style=\"fill:#1f77b4;stroke:#1f77b4;\" x=\"164.427942\" xlink:href=\"#ma4ce8d50c5\" y=\"83.082501\"/>\n     <use style=\"fill:#1f77b4;stroke:#1f77b4;\" x=\"101.812688\" xlink:href=\"#ma4ce8d50c5\" y=\"50.530898\"/>\n     <use style=\"fill:#1f77b4;stroke:#1f77b4;\" x=\"150.723897\" xlink:href=\"#ma4ce8d50c5\" y=\"81.253206\"/>\n     <use style=\"fill:#1f77b4;stroke:#1f77b4;\" x=\"127.891154\" xlink:href=\"#ma4ce8d50c5\" y=\"68.683244\"/>\n     <use style=\"fill:#1f77b4;stroke:#1f77b4;\" x=\"153.873996\" xlink:href=\"#ma4ce8d50c5\" y=\"81.164783\"/>\n     <use style=\"fill:#1f77b4;stroke:#1f77b4;\" x=\"152.097845\" xlink:href=\"#ma4ce8d50c5\" y=\"91.685301\"/>\n     <use style=\"fill:#1f77b4;stroke:#1f77b4;\" x=\"119.214266\" xlink:href=\"#ma4ce8d50c5\" y=\"55.349366\"/>\n     <use style=\"fill:#1f77b4;stroke:#1f77b4;\" x=\"184.065769\" xlink:href=\"#ma4ce8d50c5\" y=\"94.914815\"/>\n     <use style=\"fill:#1f77b4;stroke:#1f77b4;\" x=\"122.131818\" xlink:href=\"#ma4ce8d50c5\" y=\"61.170487\"/>\n     <use style=\"fill:#1f77b4;stroke:#1f77b4;\" x=\"122.043379\" xlink:href=\"#ma4ce8d50c5\" y=\"63.460905\"/>\n     <use style=\"fill:#1f77b4;stroke:#1f77b4;\" x=\"93.047882\" xlink:href=\"#ma4ce8d50c5\" y=\"36.948688\"/>\n     <use style=\"fill:#1f77b4;stroke:#1f77b4;\" x=\"122.512627\" xlink:href=\"#ma4ce8d50c5\" y=\"63.006165\"/>\n     <use style=\"fill:#1f77b4;stroke:#1f77b4;\" x=\"125.629729\" xlink:href=\"#ma4ce8d50c5\" y=\"67.321271\"/>\n     <use style=\"fill:#1f77b4;stroke:#1f77b4;\" x=\"135.895578\" xlink:href=\"#ma4ce8d50c5\" y=\"81.817621\"/>\n     <use style=\"fill:#1f77b4;stroke:#1f77b4;\" x=\"150.951291\" xlink:href=\"#ma4ce8d50c5\" y=\"73.810444\"/>\n     <use style=\"fill:#1f77b4;stroke:#1f77b4;\" x=\"86.429177\" xlink:href=\"#ma4ce8d50c5\" y=\"34.680302\"/>\n     <use style=\"fill:#1f77b4;stroke:#1f77b4;\" x=\"93.282027\" xlink:href=\"#ma4ce8d50c5\" y=\"51.877012\"/>\n     <use style=\"fill:#1f77b4;stroke:#1f77b4;\" x=\"94.215321\" xlink:href=\"#ma4ce8d50c5\" y=\"59.953789\"/>\n     <use style=\"fill:#1f77b4;stroke:#1f77b4;\" x=\"98.735185\" xlink:href=\"#ma4ce8d50c5\" y=\"63.33622\"/>\n     <use style=\"fill:#1f77b4;stroke:#1f77b4;\" x=\"97.448856\" xlink:href=\"#ma4ce8d50c5\" y=\"35.962957\"/>\n     <use style=\"fill:#1f77b4;stroke:#1f77b4;\" x=\"139.572897\" xlink:href=\"#ma4ce8d50c5\" y=\"78.159699\"/>\n     <use style=\"fill:#1f77b4;stroke:#1f77b4;\" x=\"44.249754\" xlink:href=\"#ma4ce8d50c5\" y=\"33.514113\"/>\n     <use style=\"fill:#1f77b4;stroke:#1f77b4;\" x=\"123.436664\" xlink:href=\"#ma4ce8d50c5\" y=\"73.739237\"/>\n     <use style=\"fill:#1f77b4;stroke:#1f77b4;\" x=\"118.811239\" xlink:href=\"#ma4ce8d50c5\" y=\"76.061791\"/>\n     <use style=\"fill:#1f77b4;stroke:#1f77b4;\" x=\"161.694279\" xlink:href=\"#ma4ce8d50c5\" y=\"97.02759\"/>\n     <use style=\"fill:#1f77b4;stroke:#1f77b4;\" x=\"110.156314\" xlink:href=\"#ma4ce8d50c5\" y=\"59.649861\"/>\n     <use style=\"fill:#1f77b4;stroke:#1f77b4;\" x=\"83.615347\" xlink:href=\"#ma4ce8d50c5\" y=\"37.692344\"/>\n     <use style=\"fill:#1f77b4;stroke:#1f77b4;\" x=\"124.703161\" xlink:href=\"#ma4ce8d50c5\" y=\"50.677217\"/>\n     <use style=\"fill:#1f77b4;stroke:#1f77b4;\" x=\"102.416356\" xlink:href=\"#ma4ce8d50c5\" y=\"45.741468\"/>\n     <use style=\"fill:#1f77b4;stroke:#1f77b4;\" x=\"144.254661\" xlink:href=\"#ma4ce8d50c5\" y=\"66.388769\"/>\n     <use style=\"fill:#1f77b4;stroke:#1f77b4;\" x=\"176.409741\" xlink:href=\"#ma4ce8d50c5\" y=\"90.500037\"/>\n     <use style=\"fill:#1f77b4;stroke:#1f77b4;\" x=\"122.144544\" xlink:href=\"#ma4ce8d50c5\" y=\"68.426379\"/>\n     <use style=\"fill:#1f77b4;stroke:#1f77b4;\" x=\"106.598641\" xlink:href=\"#ma4ce8d50c5\" y=\"62.755671\"/>\n     <use style=\"fill:#1f77b4;stroke:#1f77b4;\" x=\"98.892919\" xlink:href=\"#ma4ce8d50c5\" y=\"56.598388\"/>\n     <use style=\"fill:#1f77b4;stroke:#1f77b4;\" x=\"145.502958\" xlink:href=\"#ma4ce8d50c5\" y=\"74.776431\"/>\n     <use style=\"fill:#1f77b4;stroke:#1f77b4;\" x=\"132.38466\" xlink:href=\"#ma4ce8d50c5\" y=\"81.513056\"/>\n     <use style=\"fill:#1f77b4;stroke:#1f77b4;\" x=\"134.253064\" xlink:href=\"#ma4ce8d50c5\" y=\"73.575794\"/>\n     <use style=\"fill:#1f77b4;stroke:#1f77b4;\" x=\"108.080766\" xlink:href=\"#ma4ce8d50c5\" y=\"60.933516\"/>\n     <use style=\"fill:#1f77b4;stroke:#1f77b4;\" x=\"113.605182\" xlink:href=\"#ma4ce8d50c5\" y=\"72.003083\"/>\n     <use style=\"fill:#1f77b4;stroke:#1f77b4;\" x=\"145.057308\" xlink:href=\"#ma4ce8d50c5\" y=\"94.577376\"/>\n     <use style=\"fill:#1f77b4;stroke:#1f77b4;\" x=\"151.815577\" xlink:href=\"#ma4ce8d50c5\" y=\"78.439695\"/>\n     <use style=\"fill:#1f77b4;stroke:#1f77b4;\" x=\"144.003157\" xlink:href=\"#ma4ce8d50c5\" y=\"89.707084\"/>\n     <use style=\"fill:#1f77b4;stroke:#1f77b4;\" x=\"105.919146\" xlink:href=\"#ma4ce8d50c5\" y=\"62.511928\"/>\n     <use style=\"fill:#1f77b4;stroke:#1f77b4;\" x=\"142.698031\" xlink:href=\"#ma4ce8d50c5\" y=\"69.490086\"/>\n     <use style=\"fill:#1f77b4;stroke:#1f77b4;\" x=\"171.816471\" xlink:href=\"#ma4ce8d50c5\" y=\"93.89552\"/>\n     <use style=\"fill:#1f77b4;stroke:#1f77b4;\" x=\"150.552097\" xlink:href=\"#ma4ce8d50c5\" y=\"84.215663\"/>\n     <use style=\"fill:#1f77b4;stroke:#1f77b4;\" x=\"133.400621\" xlink:href=\"#ma4ce8d50c5\" y=\"62.014619\"/>\n     <use style=\"fill:#1f77b4;stroke:#1f77b4;\" x=\"148.493041\" xlink:href=\"#ma4ce8d50c5\" y=\"78.836089\"/>\n     <use style=\"fill:#1f77b4;stroke:#1f77b4;\" x=\"146.009917\" xlink:href=\"#ma4ce8d50c5\" y=\"70.051071\"/>\n     <use style=\"fill:#1f77b4;stroke:#1f77b4;\" x=\"81.959895\" xlink:href=\"#ma4ce8d50c5\" y=\"41.122051\"/>\n     <use style=\"fill:#1f77b4;stroke:#1f77b4;\" x=\"148.286364\" xlink:href=\"#ma4ce8d50c5\" y=\"66.792493\"/>\n     <use style=\"fill:#1f77b4;stroke:#1f77b4;\" x=\"147.176513\" xlink:href=\"#ma4ce8d50c5\" y=\"70.291685\"/>\n     <use style=\"fill:#1f77b4;stroke:#1f77b4;\" x=\"137.519382\" xlink:href=\"#ma4ce8d50c5\" y=\"74.907393\"/>\n     <use style=\"fill:#1f77b4;stroke:#1f77b4;\" x=\"100.012802\" xlink:href=\"#ma4ce8d50c5\" y=\"30.084448\"/>\n     <use style=\"fill:#1f77b4;stroke:#1f77b4;\" x=\"190.096871\" xlink:href=\"#ma4ce8d50c5\" y=\"106.418915\"/>\n     <use style=\"fill:#1f77b4;stroke:#1f77b4;\" x=\"103.726379\" xlink:href=\"#ma4ce8d50c5\" y=\"59.569399\"/>\n     <use style=\"fill:#1f77b4;stroke:#1f77b4;\" x=\"129.867842\" xlink:href=\"#ma4ce8d50c5\" y=\"70.509517\"/>\n     <use style=\"fill:#1f77b4;stroke:#1f77b4;\" x=\"78.91252\" xlink:href=\"#ma4ce8d50c5\" y=\"50.970982\"/>\n     <use style=\"fill:#1f77b4;stroke:#1f77b4;\" x=\"116.000377\" xlink:href=\"#ma4ce8d50c5\" y=\"72.018041\"/>\n     <use style=\"fill:#1f77b4;stroke:#1f77b4;\" x=\"139.040575\" xlink:href=\"#ma4ce8d50c5\" y=\"71.397968\"/>\n     <use style=\"fill:#1f77b4;stroke:#1f77b4;\" x=\"133.502686\" xlink:href=\"#ma4ce8d50c5\" y=\"79.125893\"/>\n     <use style=\"fill:#1f77b4;stroke:#1f77b4;\" x=\"119.038606\" xlink:href=\"#ma4ce8d50c5\" y=\"74.934026\"/>\n     <use style=\"fill:#1f77b4;stroke:#1f77b4;\" x=\"168.943402\" xlink:href=\"#ma4ce8d50c5\" y=\"86.502538\"/>\n     <use style=\"fill:#1f77b4;stroke:#1f77b4;\" x=\"117.345943\" xlink:href=\"#ma4ce8d50c5\" y=\"66.132445\"/>\n     <use style=\"fill:#1f77b4;stroke:#1f77b4;\" x=\"142.675716\" xlink:href=\"#ma4ce8d50c5\" y=\"87.047072\"/>\n     <use style=\"fill:#1f77b4;stroke:#1f77b4;\" x=\"156.146405\" xlink:href=\"#ma4ce8d50c5\" y=\"96.336272\"/>\n     <use style=\"fill:#1f77b4;stroke:#1f77b4;\" x=\"97.804549\" xlink:href=\"#ma4ce8d50c5\" y=\"49.701345\"/>\n     <use style=\"fill:#1f77b4;stroke:#1f77b4;\" x=\"169.213063\" xlink:href=\"#ma4ce8d50c5\" y=\"90.495495\"/>\n     <use style=\"fill:#1f77b4;stroke:#1f77b4;\" x=\"128.435921\" xlink:href=\"#ma4ce8d50c5\" y=\"76.987224\"/>\n     <use style=\"fill:#1f77b4;stroke:#1f77b4;\" x=\"193.984168\" xlink:href=\"#ma4ce8d50c5\" y=\"111.364392\"/>\n     <use style=\"fill:#1f77b4;stroke:#1f77b4;\" x=\"125.837232\" xlink:href=\"#ma4ce8d50c5\" y=\"57.993951\"/>\n     <use style=\"fill:#1f77b4;stroke:#1f77b4;\" x=\"172.940025\" xlink:href=\"#ma4ce8d50c5\" y=\"82.421962\"/>\n     <use style=\"fill:#1f77b4;stroke:#1f77b4;\" x=\"88.991838\" xlink:href=\"#ma4ce8d50c5\" y=\"51.421435\"/>\n     <use style=\"fill:#1f77b4;stroke:#1f77b4;\" x=\"166.786386\" xlink:href=\"#ma4ce8d50c5\" y=\"98.791084\"/>\n     <use style=\"fill:#1f77b4;stroke:#1f77b4;\" x=\"177.394075\" xlink:href=\"#ma4ce8d50c5\" y=\"95.657182\"/>\n     <use style=\"fill:#1f77b4;stroke:#1f77b4;\" x=\"127.185014\" xlink:href=\"#ma4ce8d50c5\" y=\"64.755431\"/>\n     <use style=\"fill:#1f77b4;stroke:#1f77b4;\" x=\"112.130423\" xlink:href=\"#ma4ce8d50c5\" y=\"57.15361\"/>\n     <use style=\"fill:#1f77b4;stroke:#1f77b4;\" x=\"150.345562\" xlink:href=\"#ma4ce8d50c5\" y=\"84.338807\"/>\n     <use style=\"fill:#1f77b4;stroke:#1f77b4;\" x=\"193.410167\" xlink:href=\"#ma4ce8d50c5\" y=\"107.82264\"/>\n     <use style=\"fill:#1f77b4;stroke:#1f77b4;\" x=\"146.965673\" xlink:href=\"#ma4ce8d50c5\" y=\"89.539886\"/>\n     <use style=\"fill:#1f77b4;stroke:#1f77b4;\" x=\"132.033807\" xlink:href=\"#ma4ce8d50c5\" y=\"72.254832\"/>\n     <use style=\"fill:#1f77b4;stroke:#1f77b4;\" x=\"162.944474\" xlink:href=\"#ma4ce8d50c5\" y=\"79.59068\"/>\n     <use style=\"fill:#1f77b4;stroke:#1f77b4;\" x=\"155.227433\" xlink:href=\"#ma4ce8d50c5\" y=\"68.893628\"/>\n     <use style=\"fill:#1f77b4;stroke:#1f77b4;\" x=\"109.233166\" xlink:href=\"#ma4ce8d50c5\" y=\"47.497462\"/>\n     <use style=\"fill:#1f77b4;stroke:#1f77b4;\" x=\"114.480446\" xlink:href=\"#ma4ce8d50c5\" y=\"46.797345\"/>\n     <use style=\"fill:#1f77b4;stroke:#1f77b4;\" x=\"174.211852\" xlink:href=\"#ma4ce8d50c5\" y=\"95.054841\"/>\n     <use style=\"fill:#1f77b4;stroke:#1f77b4;\" x=\"168.772196\" xlink:href=\"#ma4ce8d50c5\" y=\"83.180176\"/>\n     <use style=\"fill:#1f77b4;stroke:#1f77b4;\" x=\"138.076233\" xlink:href=\"#ma4ce8d50c5\" y=\"81.356479\"/>\n     <use style=\"fill:#1f77b4;stroke:#1f77b4;\" x=\"145.646528\" xlink:href=\"#ma4ce8d50c5\" y=\"82.376986\"/>\n     <use style=\"fill:#1f77b4;stroke:#1f77b4;\" x=\"138.798157\" xlink:href=\"#ma4ce8d50c5\" y=\"73.708693\"/>\n     <use style=\"fill:#1f77b4;stroke:#1f77b4;\" x=\"168.569236\" xlink:href=\"#ma4ce8d50c5\" y=\"93.222875\"/>\n     <use style=\"fill:#1f77b4;stroke:#1f77b4;\" x=\"107.923332\" xlink:href=\"#ma4ce8d50c5\" y=\"46.668376\"/>\n     <use style=\"fill:#1f77b4;stroke:#1f77b4;\" x=\"149.590241\" xlink:href=\"#ma4ce8d50c5\" y=\"82.881068\"/>\n     <use style=\"fill:#1f77b4;stroke:#1f77b4;\" x=\"157.264679\" xlink:href=\"#ma4ce8d50c5\" y=\"81.830599\"/>\n     <use style=\"fill:#1f77b4;stroke:#1f77b4;\" x=\"129.36784\" xlink:href=\"#ma4ce8d50c5\" y=\"68.887023\"/>\n     <use style=\"fill:#1f77b4;stroke:#1f77b4;\" x=\"87.693308\" xlink:href=\"#ma4ce8d50c5\" y=\"55.948136\"/>\n     <use style=\"fill:#1f77b4;stroke:#1f77b4;\" x=\"136.977718\" xlink:href=\"#ma4ce8d50c5\" y=\"67.125432\"/>\n     <use style=\"fill:#1f77b4;stroke:#1f77b4;\" x=\"128.625086\" xlink:href=\"#ma4ce8d50c5\" y=\"63.042928\"/>\n     <use style=\"fill:#1f77b4;stroke:#1f77b4;\" x=\"128.115182\" xlink:href=\"#ma4ce8d50c5\" y=\"74.718436\"/>\n     <use style=\"fill:#1f77b4;stroke:#1f77b4;\" x=\"113.30259\" xlink:href=\"#ma4ce8d50c5\" y=\"64.351834\"/>\n     <use style=\"fill:#1f77b4;stroke:#1f77b4;\" x=\"122.46141\" xlink:href=\"#ma4ce8d50c5\" y=\"60.88349\"/>\n     <use style=\"fill:#1f77b4;stroke:#1f77b4;\" x=\"108.497035\" xlink:href=\"#ma4ce8d50c5\" y=\"71.045333\"/>\n     <use style=\"fill:#1f77b4;stroke:#1f77b4;\" x=\"221.659621\" xlink:href=\"#ma4ce8d50c5\" y=\"120.525319\"/>\n     <use style=\"fill:#1f77b4;stroke:#1f77b4;\" x=\"116.081387\" xlink:href=\"#ma4ce8d50c5\" y=\"53.714324\"/>\n     <use style=\"fill:#1f77b4;stroke:#1f77b4;\" x=\"136.709975\" xlink:href=\"#ma4ce8d50c5\" y=\"84.456579\"/>\n     <use style=\"fill:#1f77b4;stroke:#1f77b4;\" x=\"138.719991\" xlink:href=\"#ma4ce8d50c5\" y=\"64.716042\"/>\n     <use style=\"fill:#1f77b4;stroke:#1f77b4;\" x=\"151.708722\" xlink:href=\"#ma4ce8d50c5\" y=\"85.750043\"/>\n     <use style=\"fill:#1f77b4;stroke:#1f77b4;\" x=\"92.564907\" xlink:href=\"#ma4ce8d50c5\" y=\"48.496678\"/>\n     <use style=\"fill:#1f77b4;stroke:#1f77b4;\" x=\"169.587059\" xlink:href=\"#ma4ce8d50c5\" y=\"95.839235\"/>\n     <use style=\"fill:#1f77b4;stroke:#1f77b4;\" x=\"69.192422\" xlink:href=\"#ma4ce8d50c5\" y=\"35.822018\"/>\n     <use style=\"fill:#1f77b4;stroke:#1f77b4;\" x=\"103.929352\" xlink:href=\"#ma4ce8d50c5\" y=\"60.122757\"/>\n     <use style=\"fill:#1f77b4;stroke:#1f77b4;\" x=\"129.360084\" xlink:href=\"#ma4ce8d50c5\" y=\"76.096424\"/>\n     <use style=\"fill:#1f77b4;stroke:#1f77b4;\" x=\"144.518956\" xlink:href=\"#ma4ce8d50c5\" y=\"55.353456\"/>\n     <use style=\"fill:#1f77b4;stroke:#1f77b4;\" x=\"94.960633\" xlink:href=\"#ma4ce8d50c5\" y=\"67.52367\"/>\n     <use style=\"fill:#1f77b4;stroke:#1f77b4;\" x=\"106.53739\" xlink:href=\"#ma4ce8d50c5\" y=\"56.960373\"/>\n     <use style=\"fill:#1f77b4;stroke:#1f77b4;\" x=\"120.600196\" xlink:href=\"#ma4ce8d50c5\" y=\"72.631473\"/>\n     <use style=\"fill:#1f77b4;stroke:#1f77b4;\" x=\"95.752989\" xlink:href=\"#ma4ce8d50c5\" y=\"31.931252\"/>\n     <use style=\"fill:#1f77b4;stroke:#1f77b4;\" x=\"149.629859\" xlink:href=\"#ma4ce8d50c5\" y=\"90.314362\"/>\n     <use style=\"fill:#1f77b4;stroke:#1f77b4;\" x=\"115.579414\" xlink:href=\"#ma4ce8d50c5\" y=\"80.408606\"/>\n     <use style=\"fill:#1f77b4;stroke:#1f77b4;\" x=\"118.019003\" xlink:href=\"#ma4ce8d50c5\" y=\"59.744812\"/>\n     <use style=\"fill:#1f77b4;stroke:#1f77b4;\" x=\"135.291222\" xlink:href=\"#ma4ce8d50c5\" y=\"78.807089\"/>\n     <use style=\"fill:#1f77b4;stroke:#1f77b4;\" x=\"169.43359\" xlink:href=\"#ma4ce8d50c5\" y=\"73.68753\"/>\n     <use style=\"fill:#1f77b4;stroke:#1f77b4;\" x=\"85.534878\" xlink:href=\"#ma4ce8d50c5\" y=\"58.2845\"/>\n     <use style=\"fill:#1f77b4;stroke:#1f77b4;\" x=\"156.895516\" xlink:href=\"#ma4ce8d50c5\" y=\"84.392192\"/>\n     <use style=\"fill:#1f77b4;stroke:#1f77b4;\" x=\"160.054375\" xlink:href=\"#ma4ce8d50c5\" y=\"68.005948\"/>\n     <use style=\"fill:#1f77b4;stroke:#1f77b4;\" x=\"138.786597\" xlink:href=\"#ma4ce8d50c5\" y=\"73.368349\"/>\n     <use style=\"fill:#1f77b4;stroke:#1f77b4;\" x=\"166.064743\" xlink:href=\"#ma4ce8d50c5\" y=\"79.317239\"/>\n     <use style=\"fill:#1f77b4;stroke:#1f77b4;\" x=\"129.575838\" xlink:href=\"#ma4ce8d50c5\" y=\"63.668159\"/>\n     <use style=\"fill:#1f77b4;stroke:#1f77b4;\" x=\"186.720416\" xlink:href=\"#ma4ce8d50c5\" y=\"96.238426\"/>\n     <use style=\"fill:#1f77b4;stroke:#1f77b4;\" x=\"134.165718\" xlink:href=\"#ma4ce8d50c5\" y=\"68.237674\"/>\n     <use style=\"fill:#1f77b4;stroke:#1f77b4;\" x=\"107.559434\" xlink:href=\"#ma4ce8d50c5\" y=\"56.706718\"/>\n     <use style=\"fill:#1f77b4;stroke:#1f77b4;\" x=\"167.078839\" xlink:href=\"#ma4ce8d50c5\" y=\"91.650143\"/>\n     <use style=\"fill:#1f77b4;stroke:#1f77b4;\" x=\"171.233236\" xlink:href=\"#ma4ce8d50c5\" y=\"94.933218\"/>\n     <use style=\"fill:#1f77b4;stroke:#1f77b4;\" x=\"160.259077\" xlink:href=\"#ma4ce8d50c5\" y=\"99.124939\"/>\n     <use style=\"fill:#1f77b4;stroke:#1f77b4;\" x=\"101.344909\" xlink:href=\"#ma4ce8d50c5\" y=\"45.500857\"/>\n     <use style=\"fill:#1f77b4;stroke:#1f77b4;\" x=\"117.452781\" xlink:href=\"#ma4ce8d50c5\" y=\"45.339276\"/>\n     <use style=\"fill:#1f77b4;stroke:#1f77b4;\" x=\"125.715576\" xlink:href=\"#ma4ce8d50c5\" y=\"58.464776\"/>\n     <use style=\"fill:#1f77b4;stroke:#1f77b4;\" x=\"127.468094\" xlink:href=\"#ma4ce8d50c5\" y=\"83.146576\"/>\n     <use style=\"fill:#1f77b4;stroke:#1f77b4;\" x=\"112.672845\" xlink:href=\"#ma4ce8d50c5\" y=\"62.332104\"/>\n     <use style=\"fill:#1f77b4;stroke:#1f77b4;\" x=\"121.327923\" xlink:href=\"#ma4ce8d50c5\" y=\"64.966428\"/>\n     <use style=\"fill:#1f77b4;stroke:#1f77b4;\" x=\"128.847244\" xlink:href=\"#ma4ce8d50c5\" y=\"76.187621\"/>\n     <use style=\"fill:#1f77b4;stroke:#1f77b4;\" x=\"146.922896\" xlink:href=\"#ma4ce8d50c5\" y=\"76.262356\"/>\n     <use style=\"fill:#1f77b4;stroke:#1f77b4;\" x=\"166.236726\" xlink:href=\"#ma4ce8d50c5\" y=\"88.242087\"/>\n     <use style=\"fill:#1f77b4;stroke:#1f77b4;\" x=\"162.161363\" xlink:href=\"#ma4ce8d50c5\" y=\"97.674316\"/>\n     <use style=\"fill:#1f77b4;stroke:#1f77b4;\" x=\"128.255514\" xlink:href=\"#ma4ce8d50c5\" y=\"61.086441\"/>\n     <use style=\"fill:#1f77b4;stroke:#1f77b4;\" x=\"105.885879\" xlink:href=\"#ma4ce8d50c5\" y=\"62.303924\"/>\n     <use style=\"fill:#1f77b4;stroke:#1f77b4;\" x=\"122.750976\" xlink:href=\"#ma4ce8d50c5\" y=\"56.754513\"/>\n     <use style=\"fill:#1f77b4;stroke:#1f77b4;\" x=\"104.500263\" xlink:href=\"#ma4ce8d50c5\" y=\"52.462513\"/>\n     <use style=\"fill:#1f77b4;stroke:#1f77b4;\" x=\"155.346818\" xlink:href=\"#ma4ce8d50c5\" y=\"76.931904\"/>\n     <use style=\"fill:#1f77b4;stroke:#1f77b4;\" x=\"132.467783\" xlink:href=\"#ma4ce8d50c5\" y=\"75.387429\"/>\n     <use style=\"fill:#1f77b4;stroke:#1f77b4;\" x=\"76.131463\" xlink:href=\"#ma4ce8d50c5\" y=\"51.815095\"/>\n     <use style=\"fill:#1f77b4;stroke:#1f77b4;\" x=\"95.678412\" xlink:href=\"#ma4ce8d50c5\" y=\"50.196387\"/>\n     <use style=\"fill:#1f77b4;stroke:#1f77b4;\" x=\"136.564469\" xlink:href=\"#ma4ce8d50c5\" y=\"67.418571\"/>\n     <use style=\"fill:#1f77b4;stroke:#1f77b4;\" x=\"128.099297\" xlink:href=\"#ma4ce8d50c5\" y=\"52.014117\"/>\n     <use style=\"fill:#1f77b4;stroke:#1f77b4;\" x=\"135.981994\" xlink:href=\"#ma4ce8d50c5\" y=\"68.579223\"/>\n     <use style=\"fill:#1f77b4;stroke:#1f77b4;\" x=\"168.544642\" xlink:href=\"#ma4ce8d50c5\" y=\"89.819484\"/>\n     <use style=\"fill:#1f77b4;stroke:#1f77b4;\" x=\"161.283915\" xlink:href=\"#ma4ce8d50c5\" y=\"94.673721\"/>\n     <use style=\"fill:#1f77b4;stroke:#1f77b4;\" x=\"63.979451\" xlink:href=\"#ma4ce8d50c5\" y=\"13.393212\"/>\n     <use style=\"fill:#1f77b4;stroke:#1f77b4;\" x=\"169.438546\" xlink:href=\"#ma4ce8d50c5\" y=\"104.602321\"/>\n     <use style=\"fill:#1f77b4;stroke:#1f77b4;\" x=\"170.762418\" xlink:href=\"#ma4ce8d50c5\" y=\"99.852131\"/>\n     <use style=\"fill:#1f77b4;stroke:#1f77b4;\" x=\"128.464601\" xlink:href=\"#ma4ce8d50c5\" y=\"58.059283\"/>\n     <use style=\"fill:#1f77b4;stroke:#1f77b4;\" x=\"105.679995\" xlink:href=\"#ma4ce8d50c5\" y=\"42.836878\"/>\n     <use style=\"fill:#1f77b4;stroke:#1f77b4;\" x=\"79.399043\" xlink:href=\"#ma4ce8d50c5\" y=\"44.636936\"/>\n     <use style=\"fill:#1f77b4;stroke:#1f77b4;\" x=\"121.012171\" xlink:href=\"#ma4ce8d50c5\" y=\"65.462336\"/>\n     <use style=\"fill:#1f77b4;stroke:#1f77b4;\" x=\"103.45489\" xlink:href=\"#ma4ce8d50c5\" y=\"50.07252\"/>\n     <use style=\"fill:#1f77b4;stroke:#1f77b4;\" x=\"126.573138\" xlink:href=\"#ma4ce8d50c5\" y=\"71.442222\"/>\n     <use style=\"fill:#1f77b4;stroke:#1f77b4;\" x=\"118.237963\" xlink:href=\"#ma4ce8d50c5\" y=\"62.434259\"/>\n     <use style=\"fill:#1f77b4;stroke:#1f77b4;\" x=\"160.010986\" xlink:href=\"#ma4ce8d50c5\" y=\"87.534827\"/>\n     <use style=\"fill:#1f77b4;stroke:#1f77b4;\" x=\"141.465831\" xlink:href=\"#ma4ce8d50c5\" y=\"83.987789\"/>\n     <use style=\"fill:#1f77b4;stroke:#1f77b4;\" x=\"139.330259\" xlink:href=\"#ma4ce8d50c5\" y=\"55.568877\"/>\n     <use style=\"fill:#1f77b4;stroke:#1f77b4;\" x=\"147.4419\" xlink:href=\"#ma4ce8d50c5\" y=\"64.542729\"/>\n     <use style=\"fill:#1f77b4;stroke:#1f77b4;\" x=\"173.185935\" xlink:href=\"#ma4ce8d50c5\" y=\"88.326353\"/>\n     <use style=\"fill:#1f77b4;stroke:#1f77b4;\" x=\"144.111116\" xlink:href=\"#ma4ce8d50c5\" y=\"77.555593\"/>\n     <use style=\"fill:#1f77b4;stroke:#1f77b4;\" x=\"131.250651\" xlink:href=\"#ma4ce8d50c5\" y=\"75.599165\"/>\n     <use style=\"fill:#1f77b4;stroke:#1f77b4;\" x=\"146.190345\" xlink:href=\"#ma4ce8d50c5\" y=\"87.455958\"/>\n     <use style=\"fill:#1f77b4;stroke:#1f77b4;\" x=\"138.970897\" xlink:href=\"#ma4ce8d50c5\" y=\"69.162758\"/>\n     <use style=\"fill:#1f77b4;stroke:#1f77b4;\" x=\"115.816884\" xlink:href=\"#ma4ce8d50c5\" y=\"56.398928\"/>\n     <use style=\"fill:#1f77b4;stroke:#1f77b4;\" x=\"100.264255\" xlink:href=\"#ma4ce8d50c5\" y=\"62.413619\"/>\n     <use style=\"fill:#1f77b4;stroke:#1f77b4;\" x=\"101.382695\" xlink:href=\"#ma4ce8d50c5\" y=\"29.985238\"/>\n     <use style=\"fill:#1f77b4;stroke:#1f77b4;\" x=\"107.555308\" xlink:href=\"#ma4ce8d50c5\" y=\"47.909843\"/>\n     <use style=\"fill:#1f77b4;stroke:#1f77b4;\" x=\"125.803138\" xlink:href=\"#ma4ce8d50c5\" y=\"75.121304\"/>\n     <use style=\"fill:#1f77b4;stroke:#1f77b4;\" x=\"103.330397\" xlink:href=\"#ma4ce8d50c5\" y=\"56.739641\"/>\n     <use style=\"fill:#1f77b4;stroke:#1f77b4;\" x=\"128.270446\" xlink:href=\"#ma4ce8d50c5\" y=\"82.668491\"/>\n     <use style=\"fill:#1f77b4;stroke:#1f77b4;\" x=\"117.996264\" xlink:href=\"#ma4ce8d50c5\" y=\"60.939455\"/>\n     <use style=\"fill:#1f77b4;stroke:#1f77b4;\" x=\"165.970241\" xlink:href=\"#ma4ce8d50c5\" y=\"93.026156\"/>\n     <use style=\"fill:#1f77b4;stroke:#1f77b4;\" x=\"105.123404\" xlink:href=\"#ma4ce8d50c5\" y=\"45.048457\"/>\n     <use style=\"fill:#1f77b4;stroke:#1f77b4;\" x=\"130.275015\" xlink:href=\"#ma4ce8d50c5\" y=\"60.988426\"/>\n     <use style=\"fill:#1f77b4;stroke:#1f77b4;\" x=\"146.527695\" xlink:href=\"#ma4ce8d50c5\" y=\"70.692142\"/>\n     <use style=\"fill:#1f77b4;stroke:#1f77b4;\" x=\"178.338136\" xlink:href=\"#ma4ce8d50c5\" y=\"107.824667\"/>\n     <use style=\"fill:#1f77b4;stroke:#1f77b4;\" x=\"138.20595\" xlink:href=\"#ma4ce8d50c5\" y=\"87.848911\"/>\n     <use style=\"fill:#1f77b4;stroke:#1f77b4;\" x=\"135.261638\" xlink:href=\"#ma4ce8d50c5\" y=\"65.598423\"/>\n     <use style=\"fill:#1f77b4;stroke:#1f77b4;\" x=\"162.71353\" xlink:href=\"#ma4ce8d50c5\" y=\"81.396154\"/>\n     <use style=\"fill:#1f77b4;stroke:#1f77b4;\" x=\"82.065275\" xlink:href=\"#ma4ce8d50c5\" y=\"43.861801\"/>\n     <use style=\"fill:#1f77b4;stroke:#1f77b4;\" x=\"102.811423\" xlink:href=\"#ma4ce8d50c5\" y=\"48.838866\"/>\n     <use style=\"fill:#1f77b4;stroke:#1f77b4;\" x=\"131.49148\" xlink:href=\"#ma4ce8d50c5\" y=\"75.725275\"/>\n     <use style=\"fill:#1f77b4;stroke:#1f77b4;\" x=\"149.928937\" xlink:href=\"#ma4ce8d50c5\" y=\"87.01631\"/>\n     <use style=\"fill:#1f77b4;stroke:#1f77b4;\" x=\"148.363269\" xlink:href=\"#ma4ce8d50c5\" y=\"55.364887\"/>\n     <use style=\"fill:#1f77b4;stroke:#1f77b4;\" x=\"117.619692\" xlink:href=\"#ma4ce8d50c5\" y=\"68.270012\"/>\n     <use style=\"fill:#1f77b4;stroke:#1f77b4;\" x=\"157.863086\" xlink:href=\"#ma4ce8d50c5\" y=\"73.975154\"/>\n     <use style=\"fill:#1f77b4;stroke:#1f77b4;\" x=\"121.945368\" xlink:href=\"#ma4ce8d50c5\" y=\"68.480878\"/>\n     <use style=\"fill:#1f77b4;stroke:#1f77b4;\" x=\"158.783952\" xlink:href=\"#ma4ce8d50c5\" y=\"78.880235\"/>\n     <use style=\"fill:#1f77b4;stroke:#1f77b4;\" x=\"113.358978\" xlink:href=\"#ma4ce8d50c5\" y=\"58.365172\"/>\n     <use style=\"fill:#1f77b4;stroke:#1f77b4;\" x=\"141.773674\" xlink:href=\"#ma4ce8d50c5\" y=\"94.832991\"/>\n     <use style=\"fill:#1f77b4;stroke:#1f77b4;\" x=\"105.228098\" xlink:href=\"#ma4ce8d50c5\" y=\"44.1323\"/>\n     <use style=\"fill:#1f77b4;stroke:#1f77b4;\" x=\"106.950215\" xlink:href=\"#ma4ce8d50c5\" y=\"44.624988\"/>\n     <use style=\"fill:#1f77b4;stroke:#1f77b4;\" x=\"111.800362\" xlink:href=\"#ma4ce8d50c5\" y=\"70.989423\"/>\n     <use style=\"fill:#1f77b4;stroke:#1f77b4;\" x=\"168.836053\" xlink:href=\"#ma4ce8d50c5\" y=\"94.032467\"/>\n     <use style=\"fill:#1f77b4;stroke:#1f77b4;\" x=\"124.531415\" xlink:href=\"#ma4ce8d50c5\" y=\"44.598909\"/>\n     <use style=\"fill:#1f77b4;stroke:#1f77b4;\" x=\"124.641394\" xlink:href=\"#ma4ce8d50c5\" y=\"60.060892\"/>\n     <use style=\"fill:#1f77b4;stroke:#1f77b4;\" x=\"138.960734\" xlink:href=\"#ma4ce8d50c5\" y=\"79.694561\"/>\n     <use style=\"fill:#1f77b4;stroke:#1f77b4;\" x=\"107.69769\" xlink:href=\"#ma4ce8d50c5\" y=\"56.668975\"/>\n     <use style=\"fill:#1f77b4;stroke:#1f77b4;\" x=\"124.038357\" xlink:href=\"#ma4ce8d50c5\" y=\"50.366682\"/>\n     <use style=\"fill:#1f77b4;stroke:#1f77b4;\" x=\"137.377443\" xlink:href=\"#ma4ce8d50c5\" y=\"67.068157\"/>\n     <use style=\"fill:#1f77b4;stroke:#1f77b4;\" x=\"146.369716\" xlink:href=\"#ma4ce8d50c5\" y=\"89.069825\"/>\n     <use style=\"fill:#1f77b4;stroke:#1f77b4;\" x=\"121.717398\" xlink:href=\"#ma4ce8d50c5\" y=\"57.524715\"/>\n     <use style=\"fill:#1f77b4;stroke:#1f77b4;\" x=\"141.27614\" xlink:href=\"#ma4ce8d50c5\" y=\"88.069326\"/>\n     <use style=\"fill:#1f77b4;stroke:#1f77b4;\" x=\"168.54432\" xlink:href=\"#ma4ce8d50c5\" y=\"86.042924\"/>\n     <use style=\"fill:#1f77b4;stroke:#1f77b4;\" x=\"192.148706\" xlink:href=\"#ma4ce8d50c5\" y=\"103.754151\"/>\n     <use style=\"fill:#1f77b4;stroke:#1f77b4;\" x=\"113.050881\" xlink:href=\"#ma4ce8d50c5\" y=\"61.522043\"/>\n     <use style=\"fill:#1f77b4;stroke:#1f77b4;\" x=\"138.491586\" xlink:href=\"#ma4ce8d50c5\" y=\"87.225609\"/>\n     <use style=\"fill:#1f77b4;stroke:#1f77b4;\" x=\"133.155275\" xlink:href=\"#ma4ce8d50c5\" y=\"89.3728\"/>\n     <use style=\"fill:#1f77b4;stroke:#1f77b4;\" x=\"103.967156\" xlink:href=\"#ma4ce8d50c5\" y=\"61.549721\"/>\n     <use style=\"fill:#1f77b4;stroke:#1f77b4;\" x=\"113.097874\" xlink:href=\"#ma4ce8d50c5\" y=\"48.501178\"/>\n     <use style=\"fill:#1f77b4;stroke:#1f77b4;\" x=\"103.451825\" xlink:href=\"#ma4ce8d50c5\" y=\"70.410129\"/>\n     <use style=\"fill:#1f77b4;stroke:#1f77b4;\" x=\"157.433504\" xlink:href=\"#ma4ce8d50c5\" y=\"90.943318\"/>\n     <use style=\"fill:#1f77b4;stroke:#1f77b4;\" x=\"95.024805\" xlink:href=\"#ma4ce8d50c5\" y=\"47.571985\"/>\n     <use style=\"fill:#1f77b4;stroke:#1f77b4;\" x=\"107.480113\" xlink:href=\"#ma4ce8d50c5\" y=\"52.812844\"/>\n     <use style=\"fill:#1f77b4;stroke:#1f77b4;\" x=\"166.171721\" xlink:href=\"#ma4ce8d50c5\" y=\"101.820053\"/>\n     <use style=\"fill:#1f77b4;stroke:#1f77b4;\" x=\"132.810392\" xlink:href=\"#ma4ce8d50c5\" y=\"61.884311\"/>\n     <use style=\"fill:#1f77b4;stroke:#1f77b4;\" x=\"138.6117\" xlink:href=\"#ma4ce8d50c5\" y=\"71.398633\"/>\n     <use style=\"fill:#1f77b4;stroke:#1f77b4;\" x=\"169.961188\" xlink:href=\"#ma4ce8d50c5\" y=\"86.127703\"/>\n     <use style=\"fill:#1f77b4;stroke:#1f77b4;\" x=\"136.352509\" xlink:href=\"#ma4ce8d50c5\" y=\"62.630694\"/>\n     <use style=\"fill:#1f77b4;stroke:#1f77b4;\" x=\"102.996165\" xlink:href=\"#ma4ce8d50c5\" y=\"56.288537\"/>\n     <use style=\"fill:#1f77b4;stroke:#1f77b4;\" x=\"156.872601\" xlink:href=\"#ma4ce8d50c5\" y=\"92.166969\"/>\n     <use style=\"fill:#1f77b4;stroke:#1f77b4;\" x=\"115.469384\" xlink:href=\"#ma4ce8d50c5\" y=\"63.910925\"/>\n     <use style=\"fill:#1f77b4;stroke:#1f77b4;\" x=\"126.511497\" xlink:href=\"#ma4ce8d50c5\" y=\"51.948919\"/>\n     <use style=\"fill:#1f77b4;stroke:#1f77b4;\" x=\"113.65678\" xlink:href=\"#ma4ce8d50c5\" y=\"54.440233\"/>\n     <use style=\"fill:#1f77b4;stroke:#1f77b4;\" x=\"130.281906\" xlink:href=\"#ma4ce8d50c5\" y=\"65.367015\"/>\n     <use style=\"fill:#1f77b4;stroke:#1f77b4;\" x=\"120.407885\" xlink:href=\"#ma4ce8d50c5\" y=\"64.639722\"/>\n     <use style=\"fill:#1f77b4;stroke:#1f77b4;\" x=\"100.729025\" xlink:href=\"#ma4ce8d50c5\" y=\"55.812836\"/>\n     <use style=\"fill:#1f77b4;stroke:#1f77b4;\" x=\"127.813426\" xlink:href=\"#ma4ce8d50c5\" y=\"67.456859\"/>\n     <use style=\"fill:#1f77b4;stroke:#1f77b4;\" x=\"148.774748\" xlink:href=\"#ma4ce8d50c5\" y=\"75.072554\"/>\n     <use style=\"fill:#1f77b4;stroke:#1f77b4;\" x=\"165.221198\" xlink:href=\"#ma4ce8d50c5\" y=\"89.228448\"/>\n     <use style=\"fill:#1f77b4;stroke:#1f77b4;\" x=\"166.62805\" xlink:href=\"#ma4ce8d50c5\" y=\"93.245291\"/>\n     <use style=\"fill:#1f77b4;stroke:#1f77b4;\" x=\"141.841474\" xlink:href=\"#ma4ce8d50c5\" y=\"79.44\"/>\n     <use style=\"fill:#1f77b4;stroke:#1f77b4;\" x=\"150.296622\" xlink:href=\"#ma4ce8d50c5\" y=\"72.147346\"/>\n     <use style=\"fill:#1f77b4;stroke:#1f77b4;\" x=\"136.960803\" xlink:href=\"#ma4ce8d50c5\" y=\"80.77399\"/>\n     <use style=\"fill:#1f77b4;stroke:#1f77b4;\" x=\"131.696783\" xlink:href=\"#ma4ce8d50c5\" y=\"76.647417\"/>\n     <use style=\"fill:#1f77b4;stroke:#1f77b4;\" x=\"96.74865\" xlink:href=\"#ma4ce8d50c5\" y=\"36.445502\"/>\n     <use style=\"fill:#1f77b4;stroke:#1f77b4;\" x=\"165.852941\" xlink:href=\"#ma4ce8d50c5\" y=\"92.056541\"/>\n     <use style=\"fill:#1f77b4;stroke:#1f77b4;\" x=\"130.186186\" xlink:href=\"#ma4ce8d50c5\" y=\"79.088945\"/>\n     <use style=\"fill:#1f77b4;stroke:#1f77b4;\" x=\"155.232894\" xlink:href=\"#ma4ce8d50c5\" y=\"93.086754\"/>\n     <use style=\"fill:#1f77b4;stroke:#1f77b4;\" x=\"140.039202\" xlink:href=\"#ma4ce8d50c5\" y=\"79.873418\"/>\n     <use style=\"fill:#1f77b4;stroke:#1f77b4;\" x=\"83.501011\" xlink:href=\"#ma4ce8d50c5\" y=\"48.761121\"/>\n     <use style=\"fill:#1f77b4;stroke:#1f77b4;\" x=\"73.485115\" xlink:href=\"#ma4ce8d50c5\" y=\"31.754107\"/>\n     <use style=\"fill:#1f77b4;stroke:#1f77b4;\" x=\"140.564023\" xlink:href=\"#ma4ce8d50c5\" y=\"83.970788\"/>\n     <use style=\"fill:#1f77b4;stroke:#1f77b4;\" x=\"99.710343\" xlink:href=\"#ma4ce8d50c5\" y=\"67.192357\"/>\n     <use style=\"fill:#1f77b4;stroke:#1f77b4;\" x=\"146.983536\" xlink:href=\"#ma4ce8d50c5\" y=\"79.427131\"/>\n     <use style=\"fill:#1f77b4;stroke:#1f77b4;\" x=\"178.262543\" xlink:href=\"#ma4ce8d50c5\" y=\"98.464478\"/>\n     <use style=\"fill:#1f77b4;stroke:#1f77b4;\" x=\"122.632973\" xlink:href=\"#ma4ce8d50c5\" y=\"66.781214\"/>\n     <use style=\"fill:#1f77b4;stroke:#1f77b4;\" x=\"136.724617\" xlink:href=\"#ma4ce8d50c5\" y=\"63.68615\"/>\n     <use style=\"fill:#1f77b4;stroke:#1f77b4;\" x=\"100.380121\" xlink:href=\"#ma4ce8d50c5\" y=\"52.12996\"/>\n     <use style=\"fill:#1f77b4;stroke:#1f77b4;\" x=\"184.270983\" xlink:href=\"#ma4ce8d50c5\" y=\"90.858094\"/>\n     <use style=\"fill:#1f77b4;stroke:#1f77b4;\" x=\"141.20765\" xlink:href=\"#ma4ce8d50c5\" y=\"75.937042\"/>\n     <use style=\"fill:#1f77b4;stroke:#1f77b4;\" x=\"161.220768\" xlink:href=\"#ma4ce8d50c5\" y=\"88.184036\"/>\n     <use style=\"fill:#1f77b4;stroke:#1f77b4;\" x=\"93.78201\" xlink:href=\"#ma4ce8d50c5\" y=\"48.205789\"/>\n     <use style=\"fill:#1f77b4;stroke:#1f77b4;\" x=\"111.7198\" xlink:href=\"#ma4ce8d50c5\" y=\"54.166405\"/>\n     <use style=\"fill:#1f77b4;stroke:#1f77b4;\" x=\"153.636845\" xlink:href=\"#ma4ce8d50c5\" y=\"88.776234\"/>\n     <use style=\"fill:#1f77b4;stroke:#1f77b4;\" x=\"119.688403\" xlink:href=\"#ma4ce8d50c5\" y=\"64.827425\"/>\n     <use style=\"fill:#1f77b4;stroke:#1f77b4;\" x=\"91.182166\" xlink:href=\"#ma4ce8d50c5\" y=\"45.231329\"/>\n     <use style=\"fill:#1f77b4;stroke:#1f77b4;\" x=\"166.713388\" xlink:href=\"#ma4ce8d50c5\" y=\"69.771883\"/>\n     <use style=\"fill:#1f77b4;stroke:#1f77b4;\" x=\"173.251512\" xlink:href=\"#ma4ce8d50c5\" y=\"97.284993\"/>\n     <use style=\"fill:#1f77b4;stroke:#1f77b4;\" x=\"121.177032\" xlink:href=\"#ma4ce8d50c5\" y=\"57.134449\"/>\n     <use style=\"fill:#1f77b4;stroke:#1f77b4;\" x=\"196.343516\" xlink:href=\"#ma4ce8d50c5\" y=\"100.075293\"/>\n     <use style=\"fill:#1f77b4;stroke:#1f77b4;\" x=\"152.516113\" xlink:href=\"#ma4ce8d50c5\" y=\"82.582176\"/>\n     <use style=\"fill:#1f77b4;stroke:#1f77b4;\" x=\"118.044086\" xlink:href=\"#ma4ce8d50c5\" y=\"49.894884\"/>\n     <use style=\"fill:#1f77b4;stroke:#1f77b4;\" x=\"131.642785\" xlink:href=\"#ma4ce8d50c5\" y=\"66.171361\"/>\n     <use style=\"fill:#1f77b4;stroke:#1f77b4;\" x=\"85.682034\" xlink:href=\"#ma4ce8d50c5\" y=\"31.533171\"/>\n     <use style=\"fill:#1f77b4;stroke:#1f77b4;\" x=\"114.950535\" xlink:href=\"#ma4ce8d50c5\" y=\"44.570404\"/>\n     <use style=\"fill:#1f77b4;stroke:#1f77b4;\" x=\"143.862201\" xlink:href=\"#ma4ce8d50c5\" y=\"73.027856\"/>\n     <use style=\"fill:#1f77b4;stroke:#1f77b4;\" x=\"191.835839\" xlink:href=\"#ma4ce8d50c5\" y=\"94.188912\"/>\n     <use style=\"fill:#1f77b4;stroke:#1f77b4;\" x=\"80.624884\" xlink:href=\"#ma4ce8d50c5\" y=\"17.592841\"/>\n     <use style=\"fill:#1f77b4;stroke:#1f77b4;\" x=\"174.927687\" xlink:href=\"#ma4ce8d50c5\" y=\"92.744605\"/>\n     <use style=\"fill:#1f77b4;stroke:#1f77b4;\" x=\"113.242761\" xlink:href=\"#ma4ce8d50c5\" y=\"71.029798\"/>\n     <use style=\"fill:#1f77b4;stroke:#1f77b4;\" x=\"135.081677\" xlink:href=\"#ma4ce8d50c5\" y=\"49.264984\"/>\n     <use style=\"fill:#1f77b4;stroke:#1f77b4;\" x=\"126.480081\" xlink:href=\"#ma4ce8d50c5\" y=\"62.261457\"/>\n     <use style=\"fill:#1f77b4;stroke:#1f77b4;\" x=\"109.512329\" xlink:href=\"#ma4ce8d50c5\" y=\"47.901352\"/>\n     <use style=\"fill:#1f77b4;stroke:#1f77b4;\" x=\"127.120446\" xlink:href=\"#ma4ce8d50c5\" y=\"65.083249\"/>\n     <use style=\"fill:#1f77b4;stroke:#1f77b4;\" x=\"145.362805\" xlink:href=\"#ma4ce8d50c5\" y=\"59.267933\"/>\n     <use style=\"fill:#1f77b4;stroke:#1f77b4;\" x=\"174.231983\" xlink:href=\"#ma4ce8d50c5\" y=\"88.144731\"/>\n     <use style=\"fill:#1f77b4;stroke:#1f77b4;\" x=\"149.566987\" xlink:href=\"#ma4ce8d50c5\" y=\"65.897102\"/>\n     <use style=\"fill:#1f77b4;stroke:#1f77b4;\" x=\"107.595556\" xlink:href=\"#ma4ce8d50c5\" y=\"66.723844\"/>\n     <use style=\"fill:#1f77b4;stroke:#1f77b4;\" x=\"146.537018\" xlink:href=\"#ma4ce8d50c5\" y=\"76.891481\"/>\n     <use style=\"fill:#1f77b4;stroke:#1f77b4;\" x=\"129.18867\" xlink:href=\"#ma4ce8d50c5\" y=\"66.937064\"/>\n     <use style=\"fill:#1f77b4;stroke:#1f77b4;\" x=\"116.607795\" xlink:href=\"#ma4ce8d50c5\" y=\"61.371556\"/>\n     <use style=\"fill:#1f77b4;stroke:#1f77b4;\" x=\"102.659652\" xlink:href=\"#ma4ce8d50c5\" y=\"51.308868\"/>\n     <use style=\"fill:#1f77b4;stroke:#1f77b4;\" x=\"130.02532\" xlink:href=\"#ma4ce8d50c5\" y=\"64.673444\"/>\n     <use style=\"fill:#1f77b4;stroke:#1f77b4;\" x=\"136.458805\" xlink:href=\"#ma4ce8d50c5\" y=\"71.223857\"/>\n     <use style=\"fill:#1f77b4;stroke:#1f77b4;\" x=\"136.238168\" xlink:href=\"#ma4ce8d50c5\" y=\"84.172617\"/>\n     <use style=\"fill:#1f77b4;stroke:#1f77b4;\" x=\"135.947593\" xlink:href=\"#ma4ce8d50c5\" y=\"76.119927\"/>\n     <use style=\"fill:#1f77b4;stroke:#1f77b4;\" x=\"52.464846\" xlink:href=\"#ma4ce8d50c5\" y=\"20.266901\"/>\n     <use style=\"fill:#1f77b4;stroke:#1f77b4;\" x=\"134.746757\" xlink:href=\"#ma4ce8d50c5\" y=\"55.819356\"/>\n     <use style=\"fill:#1f77b4;stroke:#1f77b4;\" x=\"153.018218\" xlink:href=\"#ma4ce8d50c5\" y=\"85.172516\"/>\n     <use style=\"fill:#1f77b4;stroke:#1f77b4;\" x=\"152.112157\" xlink:href=\"#ma4ce8d50c5\" y=\"90.821905\"/>\n     <use style=\"fill:#1f77b4;stroke:#1f77b4;\" x=\"137.981334\" xlink:href=\"#ma4ce8d50c5\" y=\"66.106046\"/>\n     <use style=\"fill:#1f77b4;stroke:#1f77b4;\" x=\"189.707429\" xlink:href=\"#ma4ce8d50c5\" y=\"108.496271\"/>\n     <use style=\"fill:#1f77b4;stroke:#1f77b4;\" x=\"150.099166\" xlink:href=\"#ma4ce8d50c5\" y=\"82.517321\"/>\n     <use style=\"fill:#1f77b4;stroke:#1f77b4;\" x=\"111.749793\" xlink:href=\"#ma4ce8d50c5\" y=\"63.915629\"/>\n     <use style=\"fill:#1f77b4;stroke:#1f77b4;\" x=\"188.26151\" xlink:href=\"#ma4ce8d50c5\" y=\"96.890904\"/>\n     <use style=\"fill:#1f77b4;stroke:#1f77b4;\" x=\"139.285582\" xlink:href=\"#ma4ce8d50c5\" y=\"73.595947\"/>\n     <use style=\"fill:#1f77b4;stroke:#1f77b4;\" x=\"136.986792\" xlink:href=\"#ma4ce8d50c5\" y=\"78.718309\"/>\n     <use style=\"fill:#1f77b4;stroke:#1f77b4;\" x=\"86.556139\" xlink:href=\"#ma4ce8d50c5\" y=\"51.479712\"/>\n     <use style=\"fill:#1f77b4;stroke:#1f77b4;\" x=\"92.186277\" xlink:href=\"#ma4ce8d50c5\" y=\"48.873993\"/>\n     <use style=\"fill:#1f77b4;stroke:#1f77b4;\" x=\"49.40045\" xlink:href=\"#ma4ce8d50c5\" y=\"23.319417\"/>\n     <use style=\"fill:#1f77b4;stroke:#1f77b4;\" x=\"141.161323\" xlink:href=\"#ma4ce8d50c5\" y=\"66.514353\"/>\n     <use style=\"fill:#1f77b4;stroke:#1f77b4;\" x=\"102.063746\" xlink:href=\"#ma4ce8d50c5\" y=\"50.384568\"/>\n     <use style=\"fill:#1f77b4;stroke:#1f77b4;\" x=\"127.400997\" xlink:href=\"#ma4ce8d50c5\" y=\"69.196763\"/>\n     <use style=\"fill:#1f77b4;stroke:#1f77b4;\" x=\"79.429341\" xlink:href=\"#ma4ce8d50c5\" y=\"36.306975\"/>\n     <use style=\"fill:#1f77b4;stroke:#1f77b4;\" x=\"140.384946\" xlink:href=\"#ma4ce8d50c5\" y=\"56.839838\"/>\n     <use style=\"fill:#1f77b4;stroke:#1f77b4;\" x=\"125.316064\" xlink:href=\"#ma4ce8d50c5\" y=\"62.339721\"/>\n     <use style=\"fill:#1f77b4;stroke:#1f77b4;\" x=\"149.661862\" xlink:href=\"#ma4ce8d50c5\" y=\"72.105921\"/>\n     <use style=\"fill:#1f77b4;stroke:#1f77b4;\" x=\"105.382871\" xlink:href=\"#ma4ce8d50c5\" y=\"57.620384\"/>\n     <use style=\"fill:#1f77b4;stroke:#1f77b4;\" x=\"103.423323\" xlink:href=\"#ma4ce8d50c5\" y=\"70.948818\"/>\n     <use style=\"fill:#1f77b4;stroke:#1f77b4;\" x=\"150.061213\" xlink:href=\"#ma4ce8d50c5\" y=\"61.349251\"/>\n     <use style=\"fill:#1f77b4;stroke:#1f77b4;\" x=\"99.274147\" xlink:href=\"#ma4ce8d50c5\" y=\"49.915282\"/>\n     <use style=\"fill:#1f77b4;stroke:#1f77b4;\" x=\"102.559954\" xlink:href=\"#ma4ce8d50c5\" y=\"48.578241\"/>\n     <use style=\"fill:#1f77b4;stroke:#1f77b4;\" x=\"126.423907\" xlink:href=\"#ma4ce8d50c5\" y=\"72.261524\"/>\n     <use style=\"fill:#1f77b4;stroke:#1f77b4;\" x=\"156.85377\" xlink:href=\"#ma4ce8d50c5\" y=\"90.142165\"/>\n     <use style=\"fill:#1f77b4;stroke:#1f77b4;\" x=\"142.137826\" xlink:href=\"#ma4ce8d50c5\" y=\"67.874068\"/>\n     <use style=\"fill:#1f77b4;stroke:#1f77b4;\" x=\"113.702252\" xlink:href=\"#ma4ce8d50c5\" y=\"62.927083\"/>\n     <use style=\"fill:#1f77b4;stroke:#1f77b4;\" x=\"146.88471\" xlink:href=\"#ma4ce8d50c5\" y=\"88.650117\"/>\n     <use style=\"fill:#1f77b4;stroke:#1f77b4;\" x=\"146.651347\" xlink:href=\"#ma4ce8d50c5\" y=\"85.727054\"/>\n     <use style=\"fill:#1f77b4;stroke:#1f77b4;\" x=\"175.409892\" xlink:href=\"#ma4ce8d50c5\" y=\"96.316309\"/>\n     <use style=\"fill:#1f77b4;stroke:#1f77b4;\" x=\"145.921137\" xlink:href=\"#ma4ce8d50c5\" y=\"74.263189\"/>\n     <use style=\"fill:#1f77b4;stroke:#1f77b4;\" x=\"154.362586\" xlink:href=\"#ma4ce8d50c5\" y=\"91.414309\"/>\n     <use style=\"fill:#1f77b4;stroke:#1f77b4;\" x=\"158.189527\" xlink:href=\"#ma4ce8d50c5\" y=\"95.614899\"/>\n     <use style=\"fill:#1f77b4;stroke:#1f77b4;\" x=\"108.61216\" xlink:href=\"#ma4ce8d50c5\" y=\"38.715573\"/>\n     <use style=\"fill:#1f77b4;stroke:#1f77b4;\" x=\"120.025711\" xlink:href=\"#ma4ce8d50c5\" y=\"62.727801\"/>\n     <use style=\"fill:#1f77b4;stroke:#1f77b4;\" x=\"122.536225\" xlink:href=\"#ma4ce8d50c5\" y=\"66.299211\"/>\n     <use style=\"fill:#1f77b4;stroke:#1f77b4;\" x=\"112.867673\" xlink:href=\"#ma4ce8d50c5\" y=\"58.865854\"/>\n     <use style=\"fill:#1f77b4;stroke:#1f77b4;\" x=\"176.86536\" xlink:href=\"#ma4ce8d50c5\" y=\"102.982308\"/>\n     <use style=\"fill:#1f77b4;stroke:#1f77b4;\" x=\"91.247703\" xlink:href=\"#ma4ce8d50c5\" y=\"39.134362\"/>\n     <use style=\"fill:#1f77b4;stroke:#1f77b4;\" x=\"143.002862\" xlink:href=\"#ma4ce8d50c5\" y=\"63.700157\"/>\n     <use style=\"fill:#1f77b4;stroke:#1f77b4;\" x=\"137.988781\" xlink:href=\"#ma4ce8d50c5\" y=\"52.703599\"/>\n     <use style=\"fill:#1f77b4;stroke:#1f77b4;\" x=\"182.074303\" xlink:href=\"#ma4ce8d50c5\" y=\"104.813108\"/>\n     <use style=\"fill:#1f77b4;stroke:#1f77b4;\" x=\"126.230207\" xlink:href=\"#ma4ce8d50c5\" y=\"60.256666\"/>\n     <use style=\"fill:#1f77b4;stroke:#1f77b4;\" x=\"205.783753\" xlink:href=\"#ma4ce8d50c5\" y=\"102.434124\"/>\n     <use style=\"fill:#1f77b4;stroke:#1f77b4;\" x=\"99.893813\" xlink:href=\"#ma4ce8d50c5\" y=\"35.505137\"/>\n     <use style=\"fill:#1f77b4;stroke:#1f77b4;\" x=\"92.82191\" xlink:href=\"#ma4ce8d50c5\" y=\"41.755913\"/>\n     <use style=\"fill:#1f77b4;stroke:#1f77b4;\" x=\"126.312658\" xlink:href=\"#ma4ce8d50c5\" y=\"50.762891\"/>\n     <use style=\"fill:#1f77b4;stroke:#1f77b4;\" x=\"127.150148\" xlink:href=\"#ma4ce8d50c5\" y=\"72.471619\"/>\n     <use style=\"fill:#1f77b4;stroke:#1f77b4;\" x=\"140.564843\" xlink:href=\"#ma4ce8d50c5\" y=\"82.316046\"/>\n     <use style=\"fill:#1f77b4;stroke:#1f77b4;\" x=\"160.924828\" xlink:href=\"#ma4ce8d50c5\" y=\"82.487896\"/>\n     <use style=\"fill:#1f77b4;stroke:#1f77b4;\" x=\"119.890084\" xlink:href=\"#ma4ce8d50c5\" y=\"59.724323\"/>\n     <use style=\"fill:#1f77b4;stroke:#1f77b4;\" x=\"160.431733\" xlink:href=\"#ma4ce8d50c5\" y=\"77.404952\"/>\n     <use style=\"fill:#1f77b4;stroke:#1f77b4;\" x=\"146.093231\" xlink:href=\"#ma4ce8d50c5\" y=\"79.16785\"/>\n     <use style=\"fill:#1f77b4;stroke:#1f77b4;\" x=\"142.422812\" xlink:href=\"#ma4ce8d50c5\" y=\"75.102325\"/>\n     <use style=\"fill:#1f77b4;stroke:#1f77b4;\" x=\"145.70803\" xlink:href=\"#ma4ce8d50c5\" y=\"79.91797\"/>\n     <use style=\"fill:#1f77b4;stroke:#1f77b4;\" x=\"117.445925\" xlink:href=\"#ma4ce8d50c5\" y=\"56.860742\"/>\n     <use style=\"fill:#1f77b4;stroke:#1f77b4;\" x=\"124.622517\" xlink:href=\"#ma4ce8d50c5\" y=\"77.268342\"/>\n     <use style=\"fill:#1f77b4;stroke:#1f77b4;\" x=\"84.53488\" xlink:href=\"#ma4ce8d50c5\" y=\"38.283216\"/>\n     <use style=\"fill:#1f77b4;stroke:#1f77b4;\" x=\"76.137391\" xlink:href=\"#ma4ce8d50c5\" y=\"38.936955\"/>\n     <use style=\"fill:#1f77b4;stroke:#1f77b4;\" x=\"177.444368\" xlink:href=\"#ma4ce8d50c5\" y=\"97.762508\"/>\n     <use style=\"fill:#1f77b4;stroke:#1f77b4;\" x=\"193.777246\" xlink:href=\"#ma4ce8d50c5\" y=\"112.406137\"/>\n     <use style=\"fill:#1f77b4;stroke:#1f77b4;\" x=\"157.287205\" xlink:href=\"#ma4ce8d50c5\" y=\"74.623816\"/>\n     <use style=\"fill:#1f77b4;stroke:#1f77b4;\" x=\"159.841739\" xlink:href=\"#ma4ce8d50c5\" y=\"73.849946\"/>\n     <use style=\"fill:#1f77b4;stroke:#1f77b4;\" x=\"87.197145\" xlink:href=\"#ma4ce8d50c5\" y=\"29.614455\"/>\n     <use style=\"fill:#1f77b4;stroke:#1f77b4;\" x=\"161.362289\" xlink:href=\"#ma4ce8d50c5\" y=\"94.416026\"/>\n     <use style=\"fill:#1f77b4;stroke:#1f77b4;\" x=\"135.827029\" xlink:href=\"#ma4ce8d50c5\" y=\"69.547972\"/>\n     <use style=\"fill:#1f77b4;stroke:#1f77b4;\" x=\"131.162926\" xlink:href=\"#ma4ce8d50c5\" y=\"76.476474\"/>\n     <use style=\"fill:#1f77b4;stroke:#1f77b4;\" x=\"140.512821\" xlink:href=\"#ma4ce8d50c5\" y=\"58.853371\"/>\n     <use style=\"fill:#1f77b4;stroke:#1f77b4;\" x=\"114.719899\" xlink:href=\"#ma4ce8d50c5\" y=\"68.298628\"/>\n     <use style=\"fill:#1f77b4;stroke:#1f77b4;\" x=\"147.651492\" xlink:href=\"#ma4ce8d50c5\" y=\"87.651825\"/>\n     <use style=\"fill:#1f77b4;stroke:#1f77b4;\" x=\"147.655518\" xlink:href=\"#ma4ce8d50c5\" y=\"81.485204\"/>\n     <use style=\"fill:#1f77b4;stroke:#1f77b4;\" x=\"125.8163\" xlink:href=\"#ma4ce8d50c5\" y=\"72.070355\"/>\n     <use style=\"fill:#1f77b4;stroke:#1f77b4;\" x=\"152.687128\" xlink:href=\"#ma4ce8d50c5\" y=\"71.787748\"/>\n     <use style=\"fill:#1f77b4;stroke:#1f77b4;\" x=\"138.04657\" xlink:href=\"#ma4ce8d50c5\" y=\"85.445012\"/>\n     <use style=\"fill:#1f77b4;stroke:#1f77b4;\" x=\"154.683763\" xlink:href=\"#ma4ce8d50c5\" y=\"79.495036\"/>\n     <use style=\"fill:#1f77b4;stroke:#1f77b4;\" x=\"154.757088\" xlink:href=\"#ma4ce8d50c5\" y=\"97.769194\"/>\n     <use style=\"fill:#1f77b4;stroke:#1f77b4;\" x=\"175.263352\" xlink:href=\"#ma4ce8d50c5\" y=\"104.235999\"/>\n     <use style=\"fill:#1f77b4;stroke:#1f77b4;\" x=\"79.893256\" xlink:href=\"#ma4ce8d50c5\" y=\"38.637898\"/>\n     <use style=\"fill:#1f77b4;stroke:#1f77b4;\" x=\"138.161742\" xlink:href=\"#ma4ce8d50c5\" y=\"73.505201\"/>\n     <use style=\"fill:#1f77b4;stroke:#1f77b4;\" x=\"190.064944\" xlink:href=\"#ma4ce8d50c5\" y=\"107.204985\"/>\n     <use style=\"fill:#1f77b4;stroke:#1f77b4;\" x=\"113.545238\" xlink:href=\"#ma4ce8d50c5\" y=\"65.223301\"/>\n     <use style=\"fill:#1f77b4;stroke:#1f77b4;\" x=\"168.331066\" xlink:href=\"#ma4ce8d50c5\" y=\"105.78157\"/>\n     <use style=\"fill:#1f77b4;stroke:#1f77b4;\" x=\"159.998204\" xlink:href=\"#ma4ce8d50c5\" y=\"89.726506\"/>\n     <use style=\"fill:#1f77b4;stroke:#1f77b4;\" x=\"135.925496\" xlink:href=\"#ma4ce8d50c5\" y=\"70.560281\"/>\n     <use style=\"fill:#1f77b4;stroke:#1f77b4;\" x=\"136.016821\" xlink:href=\"#ma4ce8d50c5\" y=\"82.510633\"/>\n     <use style=\"fill:#1f77b4;stroke:#1f77b4;\" x=\"144.665619\" xlink:href=\"#ma4ce8d50c5\" y=\"72.223198\"/>\n     <use style=\"fill:#1f77b4;stroke:#1f77b4;\" x=\"159.085947\" xlink:href=\"#ma4ce8d50c5\" y=\"91.018413\"/>\n     <use style=\"fill:#1f77b4;stroke:#1f77b4;\" x=\"108.518052\" xlink:href=\"#ma4ce8d50c5\" y=\"64.813671\"/>\n     <use style=\"fill:#1f77b4;stroke:#1f77b4;\" x=\"178.897469\" xlink:href=\"#ma4ce8d50c5\" y=\"101.462529\"/>\n     <use style=\"fill:#1f77b4;stroke:#1f77b4;\" x=\"87.469413\" xlink:href=\"#ma4ce8d50c5\" y=\"46.9581\"/>\n     <use style=\"fill:#1f77b4;stroke:#1f77b4;\" x=\"156.680046\" xlink:href=\"#ma4ce8d50c5\" y=\"92.649092\"/>\n     <use style=\"fill:#1f77b4;stroke:#1f77b4;\" x=\"173.282473\" xlink:href=\"#ma4ce8d50c5\" y=\"98.996276\"/>\n     <use style=\"fill:#1f77b4;stroke:#1f77b4;\" x=\"131.867922\" xlink:href=\"#ma4ce8d50c5\" y=\"65.719891\"/>\n     <use style=\"fill:#1f77b4;stroke:#1f77b4;\" x=\"107.518708\" xlink:href=\"#ma4ce8d50c5\" y=\"56.556253\"/>\n     <use style=\"fill:#1f77b4;stroke:#1f77b4;\" x=\"164.900329\" xlink:href=\"#ma4ce8d50c5\" y=\"78.047572\"/>\n     <use style=\"fill:#1f77b4;stroke:#1f77b4;\" x=\"160.891597\" xlink:href=\"#ma4ce8d50c5\" y=\"65.535181\"/>\n     <use style=\"fill:#1f77b4;stroke:#1f77b4;\" x=\"130.850416\" xlink:href=\"#ma4ce8d50c5\" y=\"73.652695\"/>\n     <use style=\"fill:#1f77b4;stroke:#1f77b4;\" x=\"146.683273\" xlink:href=\"#ma4ce8d50c5\" y=\"84.062887\"/>\n     <use style=\"fill:#1f77b4;stroke:#1f77b4;\" x=\"100.673596\" xlink:href=\"#ma4ce8d50c5\" y=\"48.936803\"/>\n     <use style=\"fill:#1f77b4;stroke:#1f77b4;\" x=\"118.205476\" xlink:href=\"#ma4ce8d50c5\" y=\"51.853329\"/>\n     <use style=\"fill:#1f77b4;stroke:#1f77b4;\" x=\"155.61753\" xlink:href=\"#ma4ce8d50c5\" y=\"88.105425\"/>\n     <use style=\"fill:#1f77b4;stroke:#1f77b4;\" x=\"165.0443\" xlink:href=\"#ma4ce8d50c5\" y=\"87.281861\"/>\n     <use style=\"fill:#1f77b4;stroke:#1f77b4;\" x=\"150.429935\" xlink:href=\"#ma4ce8d50c5\" y=\"66.307648\"/>\n     <use style=\"fill:#1f77b4;stroke:#1f77b4;\" x=\"167.981575\" xlink:href=\"#ma4ce8d50c5\" y=\"95.076573\"/>\n     <use style=\"fill:#1f77b4;stroke:#1f77b4;\" x=\"158.738729\" xlink:href=\"#ma4ce8d50c5\" y=\"68.234346\"/>\n     <use style=\"fill:#1f77b4;stroke:#1f77b4;\" x=\"119.540962\" xlink:href=\"#ma4ce8d50c5\" y=\"49.583105\"/>\n     <use style=\"fill:#1f77b4;stroke:#1f77b4;\" x=\"86.0219\" xlink:href=\"#ma4ce8d50c5\" y=\"33.618086\"/>\n     <use style=\"fill:#1f77b4;stroke:#1f77b4;\" x=\"153.109072\" xlink:href=\"#ma4ce8d50c5\" y=\"64.075447\"/>\n     <use style=\"fill:#1f77b4;stroke:#1f77b4;\" x=\"138.116117\" xlink:href=\"#ma4ce8d50c5\" y=\"63.731483\"/>\n     <use style=\"fill:#1f77b4;stroke:#1f77b4;\" x=\"102.489635\" xlink:href=\"#ma4ce8d50c5\" y=\"56.172852\"/>\n     <use style=\"fill:#1f77b4;stroke:#1f77b4;\" x=\"120.725996\" xlink:href=\"#ma4ce8d50c5\" y=\"71.926881\"/>\n     <use style=\"fill:#1f77b4;stroke:#1f77b4;\" x=\"108.159005\" xlink:href=\"#ma4ce8d50c5\" y=\"53.719133\"/>\n     <use style=\"fill:#1f77b4;stroke:#1f77b4;\" x=\"135.160066\" xlink:href=\"#ma4ce8d50c5\" y=\"60.813093\"/>\n     <use style=\"fill:#1f77b4;stroke:#1f77b4;\" x=\"111.991157\" xlink:href=\"#ma4ce8d50c5\" y=\"61.916257\"/>\n     <use style=\"fill:#1f77b4;stroke:#1f77b4;\" x=\"181.800393\" xlink:href=\"#ma4ce8d50c5\" y=\"107.820419\"/>\n     <use style=\"fill:#1f77b4;stroke:#1f77b4;\" x=\"134.456457\" xlink:href=\"#ma4ce8d50c5\" y=\"74.136021\"/>\n     <use style=\"fill:#1f77b4;stroke:#1f77b4;\" x=\"131.133402\" xlink:href=\"#ma4ce8d50c5\" y=\"71.557007\"/>\n     <use style=\"fill:#1f77b4;stroke:#1f77b4;\" x=\"104.710252\" xlink:href=\"#ma4ce8d50c5\" y=\"65.454831\"/>\n     <use style=\"fill:#1f77b4;stroke:#1f77b4;\" x=\"69.504291\" xlink:href=\"#ma4ce8d50c5\" y=\"48.66777\"/>\n     <use style=\"fill:#1f77b4;stroke:#1f77b4;\" x=\"159.641608\" xlink:href=\"#ma4ce8d50c5\" y=\"86.685585\"/>\n     <use style=\"fill:#1f77b4;stroke:#1f77b4;\" x=\"114.413184\" xlink:href=\"#ma4ce8d50c5\" y=\"64.197666\"/>\n     <use style=\"fill:#1f77b4;stroke:#1f77b4;\" x=\"119.920656\" xlink:href=\"#ma4ce8d50c5\" y=\"78.215711\"/>\n     <use style=\"fill:#1f77b4;stroke:#1f77b4;\" x=\"132.329418\" xlink:href=\"#ma4ce8d50c5\" y=\"65.908673\"/>\n     <use style=\"fill:#1f77b4;stroke:#1f77b4;\" x=\"108.764133\" xlink:href=\"#ma4ce8d50c5\" y=\"48.216693\"/>\n     <use style=\"fill:#1f77b4;stroke:#1f77b4;\" x=\"143.860669\" xlink:href=\"#ma4ce8d50c5\" y=\"75.419257\"/>\n     <use style=\"fill:#1f77b4;stroke:#1f77b4;\" x=\"76.256329\" xlink:href=\"#ma4ce8d50c5\" y=\"21.338086\"/>\n     <use style=\"fill:#1f77b4;stroke:#1f77b4;\" x=\"158.710057\" xlink:href=\"#ma4ce8d50c5\" y=\"83.013578\"/>\n     <use style=\"fill:#1f77b4;stroke:#1f77b4;\" x=\"145.394429\" xlink:href=\"#ma4ce8d50c5\" y=\"79.369023\"/>\n     <use style=\"fill:#1f77b4;stroke:#1f77b4;\" x=\"129.769826\" xlink:href=\"#ma4ce8d50c5\" y=\"73.434796\"/>\n     <use style=\"fill:#1f77b4;stroke:#1f77b4;\" x=\"152.851893\" xlink:href=\"#ma4ce8d50c5\" y=\"84.620275\"/>\n     <use style=\"fill:#1f77b4;stroke:#1f77b4;\" x=\"126.129172\" xlink:href=\"#ma4ce8d50c5\" y=\"68.159478\"/>\n     <use style=\"fill:#1f77b4;stroke:#1f77b4;\" x=\"118.116439\" xlink:href=\"#ma4ce8d50c5\" y=\"59.680724\"/>\n     <use style=\"fill:#1f77b4;stroke:#1f77b4;\" x=\"147.421659\" xlink:href=\"#ma4ce8d50c5\" y=\"91.280246\"/>\n     <use style=\"fill:#1f77b4;stroke:#1f77b4;\" x=\"220.306988\" xlink:href=\"#ma4ce8d50c5\" y=\"136.906788\"/>\n     <use style=\"fill:#1f77b4;stroke:#1f77b4;\" x=\"168.958766\" xlink:href=\"#ma4ce8d50c5\" y=\"91.592135\"/>\n     <use style=\"fill:#1f77b4;stroke:#1f77b4;\" x=\"115.614038\" xlink:href=\"#ma4ce8d50c5\" y=\"59.548548\"/>\n     <use style=\"fill:#1f77b4;stroke:#1f77b4;\" x=\"141.409445\" xlink:href=\"#ma4ce8d50c5\" y=\"77.100008\"/>\n     <use style=\"fill:#1f77b4;stroke:#1f77b4;\" x=\"154.483836\" xlink:href=\"#ma4ce8d50c5\" y=\"83.566643\"/>\n     <use style=\"fill:#1f77b4;stroke:#1f77b4;\" x=\"146.501772\" xlink:href=\"#ma4ce8d50c5\" y=\"70.696566\"/>\n     <use style=\"fill:#1f77b4;stroke:#1f77b4;\" x=\"126.520514\" xlink:href=\"#ma4ce8d50c5\" y=\"74.987881\"/>\n     <use style=\"fill:#1f77b4;stroke:#1f77b4;\" x=\"130.652482\" xlink:href=\"#ma4ce8d50c5\" y=\"58.473853\"/>\n     <use style=\"fill:#1f77b4;stroke:#1f77b4;\" x=\"114.308445\" xlink:href=\"#ma4ce8d50c5\" y=\"57.457621\"/>\n     <use style=\"fill:#1f77b4;stroke:#1f77b4;\" x=\"113.153629\" xlink:href=\"#ma4ce8d50c5\" y=\"55.744371\"/>\n     <use style=\"fill:#1f77b4;stroke:#1f77b4;\" x=\"56.940924\" xlink:href=\"#ma4ce8d50c5\" y=\"33.03368\"/>\n     <use style=\"fill:#1f77b4;stroke:#1f77b4;\" x=\"121.789294\" xlink:href=\"#ma4ce8d50c5\" y=\"66.665771\"/>\n     <use style=\"fill:#1f77b4;stroke:#1f77b4;\" x=\"132.511286\" xlink:href=\"#ma4ce8d50c5\" y=\"76.690271\"/>\n     <use style=\"fill:#1f77b4;stroke:#1f77b4;\" x=\"93.852708\" xlink:href=\"#ma4ce8d50c5\" y=\"42.398245\"/>\n     <use style=\"fill:#1f77b4;stroke:#1f77b4;\" x=\"147.764999\" xlink:href=\"#ma4ce8d50c5\" y=\"76.588862\"/>\n     <use style=\"fill:#1f77b4;stroke:#1f77b4;\" x=\"106.422447\" xlink:href=\"#ma4ce8d50c5\" y=\"52.716651\"/>\n     <use style=\"fill:#1f77b4;stroke:#1f77b4;\" x=\"140.420243\" xlink:href=\"#ma4ce8d50c5\" y=\"83.977932\"/>\n     <use style=\"fill:#1f77b4;stroke:#1f77b4;\" x=\"149.969226\" xlink:href=\"#ma4ce8d50c5\" y=\"83.317957\"/>\n     <use style=\"fill:#1f77b4;stroke:#1f77b4;\" x=\"139.815947\" xlink:href=\"#ma4ce8d50c5\" y=\"68.91259\"/>\n     <use style=\"fill:#1f77b4;stroke:#1f77b4;\" x=\"114.853326\" xlink:href=\"#ma4ce8d50c5\" y=\"54.744575\"/>\n     <use style=\"fill:#1f77b4;stroke:#1f77b4;\" x=\"144.435861\" xlink:href=\"#ma4ce8d50c5\" y=\"77.1789\"/>\n     <use style=\"fill:#1f77b4;stroke:#1f77b4;\" x=\"136.817297\" xlink:href=\"#ma4ce8d50c5\" y=\"81.180543\"/>\n     <use style=\"fill:#1f77b4;stroke:#1f77b4;\" x=\"160.319651\" xlink:href=\"#ma4ce8d50c5\" y=\"85.676562\"/>\n     <use style=\"fill:#1f77b4;stroke:#1f77b4;\" x=\"153.474643\" xlink:href=\"#ma4ce8d50c5\" y=\"72.359916\"/>\n     <use style=\"fill:#1f77b4;stroke:#1f77b4;\" x=\"77.025187\" xlink:href=\"#ma4ce8d50c5\" y=\"37.284703\"/>\n     <use style=\"fill:#1f77b4;stroke:#1f77b4;\" x=\"136.908587\" xlink:href=\"#ma4ce8d50c5\" y=\"67.448063\"/>\n     <use style=\"fill:#1f77b4;stroke:#1f77b4;\" x=\"168.500906\" xlink:href=\"#ma4ce8d50c5\" y=\"82.310201\"/>\n     <use style=\"fill:#1f77b4;stroke:#1f77b4;\" x=\"151.670559\" xlink:href=\"#ma4ce8d50c5\" y=\"66.838355\"/>\n     <use style=\"fill:#1f77b4;stroke:#1f77b4;\" x=\"131.608956\" xlink:href=\"#ma4ce8d50c5\" y=\"86.628354\"/>\n     <use style=\"fill:#1f77b4;stroke:#1f77b4;\" x=\"131.31763\" xlink:href=\"#ma4ce8d50c5\" y=\"60.831245\"/>\n     <use style=\"fill:#1f77b4;stroke:#1f77b4;\" x=\"116.453117\" xlink:href=\"#ma4ce8d50c5\" y=\"64.275901\"/>\n     <use style=\"fill:#1f77b4;stroke:#1f77b4;\" x=\"114.315586\" xlink:href=\"#ma4ce8d50c5\" y=\"61.150699\"/>\n     <use style=\"fill:#1f77b4;stroke:#1f77b4;\" x=\"60.357077\" xlink:href=\"#ma4ce8d50c5\" y=\"20.309482\"/>\n     <use style=\"fill:#1f77b4;stroke:#1f77b4;\" x=\"161.834408\" xlink:href=\"#ma4ce8d50c5\" y=\"93.725424\"/>\n     <use style=\"fill:#1f77b4;stroke:#1f77b4;\" x=\"87.747108\" xlink:href=\"#ma4ce8d50c5\" y=\"48.078716\"/>\n     <use style=\"fill:#1f77b4;stroke:#1f77b4;\" x=\"147.263644\" xlink:href=\"#ma4ce8d50c5\" y=\"63.985045\"/>\n     <use style=\"fill:#1f77b4;stroke:#1f77b4;\" x=\"154.813576\" xlink:href=\"#ma4ce8d50c5\" y=\"93.612561\"/>\n     <use style=\"fill:#1f77b4;stroke:#1f77b4;\" x=\"118.66933\" xlink:href=\"#ma4ce8d50c5\" y=\"62.182608\"/>\n     <use style=\"fill:#1f77b4;stroke:#1f77b4;\" x=\"128.390797\" xlink:href=\"#ma4ce8d50c5\" y=\"67.285516\"/>\n     <use style=\"fill:#1f77b4;stroke:#1f77b4;\" x=\"197.652529\" xlink:href=\"#ma4ce8d50c5\" y=\"90.354385\"/>\n     <use style=\"fill:#1f77b4;stroke:#1f77b4;\" x=\"160.657386\" xlink:href=\"#ma4ce8d50c5\" y=\"85.273693\"/>\n     <use style=\"fill:#1f77b4;stroke:#1f77b4;\" x=\"127.559305\" xlink:href=\"#ma4ce8d50c5\" y=\"76.239433\"/>\n     <use style=\"fill:#1f77b4;stroke:#1f77b4;\" x=\"153.55399\" xlink:href=\"#ma4ce8d50c5\" y=\"85.665153\"/>\n     <use style=\"fill:#1f77b4;stroke:#1f77b4;\" x=\"164.03277\" xlink:href=\"#ma4ce8d50c5\" y=\"90.878297\"/>\n     <use style=\"fill:#1f77b4;stroke:#1f77b4;\" x=\"164.884391\" xlink:href=\"#ma4ce8d50c5\" y=\"94.35287\"/>\n     <use style=\"fill:#1f77b4;stroke:#1f77b4;\" x=\"181.987724\" xlink:href=\"#ma4ce8d50c5\" y=\"92.941736\"/>\n     <use style=\"fill:#1f77b4;stroke:#1f77b4;\" x=\"152.151818\" xlink:href=\"#ma4ce8d50c5\" y=\"86.249566\"/>\n     <use style=\"fill:#1f77b4;stroke:#1f77b4;\" x=\"199.337423\" xlink:href=\"#ma4ce8d50c5\" y=\"109.789103\"/>\n     <use style=\"fill:#1f77b4;stroke:#1f77b4;\" x=\"100.373874\" xlink:href=\"#ma4ce8d50c5\" y=\"70.22968\"/>\n     <use style=\"fill:#1f77b4;stroke:#1f77b4;\" x=\"170.403337\" xlink:href=\"#ma4ce8d50c5\" y=\"88.770244\"/>\n     <use style=\"fill:#1f77b4;stroke:#1f77b4;\" x=\"145.744714\" xlink:href=\"#ma4ce8d50c5\" y=\"76.339736\"/>\n     <use style=\"fill:#1f77b4;stroke:#1f77b4;\" x=\"104.55469\" xlink:href=\"#ma4ce8d50c5\" y=\"40.764998\"/>\n     <use style=\"fill:#1f77b4;stroke:#1f77b4;\" x=\"108.394711\" xlink:href=\"#ma4ce8d50c5\" y=\"54.719516\"/>\n     <use style=\"fill:#1f77b4;stroke:#1f77b4;\" x=\"152.56184\" xlink:href=\"#ma4ce8d50c5\" y=\"77.923309\"/>\n     <use style=\"fill:#1f77b4;stroke:#1f77b4;\" x=\"161.071822\" xlink:href=\"#ma4ce8d50c5\" y=\"77.348545\"/>\n     <use style=\"fill:#1f77b4;stroke:#1f77b4;\" x=\"156.790516\" xlink:href=\"#ma4ce8d50c5\" y=\"90.457674\"/>\n     <use style=\"fill:#1f77b4;stroke:#1f77b4;\" x=\"118.017213\" xlink:href=\"#ma4ce8d50c5\" y=\"72.128417\"/>\n     <use style=\"fill:#1f77b4;stroke:#1f77b4;\" x=\"127.707926\" xlink:href=\"#ma4ce8d50c5\" y=\"84.809926\"/>\n     <use style=\"fill:#1f77b4;stroke:#1f77b4;\" x=\"107.488869\" xlink:href=\"#ma4ce8d50c5\" y=\"59.988024\"/>\n     <use style=\"fill:#1f77b4;stroke:#1f77b4;\" x=\"149.550007\" xlink:href=\"#ma4ce8d50c5\" y=\"80.664131\"/>\n     <use style=\"fill:#1f77b4;stroke:#1f77b4;\" x=\"97.031373\" xlink:href=\"#ma4ce8d50c5\" y=\"45.017177\"/>\n     <use style=\"fill:#1f77b4;stroke:#1f77b4;\" x=\"129.476056\" xlink:href=\"#ma4ce8d50c5\" y=\"85.941626\"/>\n     <use style=\"fill:#1f77b4;stroke:#1f77b4;\" x=\"136.531873\" xlink:href=\"#ma4ce8d50c5\" y=\"73.72123\"/>\n     <use style=\"fill:#1f77b4;stroke:#1f77b4;\" x=\"155.905837\" xlink:href=\"#ma4ce8d50c5\" y=\"72.849387\"/>\n     <use style=\"fill:#1f77b4;stroke:#1f77b4;\" x=\"133.995246\" xlink:href=\"#ma4ce8d50c5\" y=\"85.399916\"/>\n     <use style=\"fill:#1f77b4;stroke:#1f77b4;\" x=\"111.404034\" xlink:href=\"#ma4ce8d50c5\" y=\"55.322064\"/>\n     <use style=\"fill:#1f77b4;stroke:#1f77b4;\" x=\"127.819682\" xlink:href=\"#ma4ce8d50c5\" y=\"67.021335\"/>\n     <use style=\"fill:#1f77b4;stroke:#1f77b4;\" x=\"163.838179\" xlink:href=\"#ma4ce8d50c5\" y=\"89.810135\"/>\n     <use style=\"fill:#1f77b4;stroke:#1f77b4;\" x=\"142.283059\" xlink:href=\"#ma4ce8d50c5\" y=\"82.307573\"/>\n     <use style=\"fill:#1f77b4;stroke:#1f77b4;\" x=\"152.707403\" xlink:href=\"#ma4ce8d50c5\" y=\"97.320498\"/>\n     <use style=\"fill:#1f77b4;stroke:#1f77b4;\" x=\"121.814274\" xlink:href=\"#ma4ce8d50c5\" y=\"70.449737\"/>\n     <use style=\"fill:#1f77b4;stroke:#1f77b4;\" x=\"96.866189\" xlink:href=\"#ma4ce8d50c5\" y=\"36.443758\"/>\n     <use style=\"fill:#1f77b4;stroke:#1f77b4;\" x=\"144.83277\" xlink:href=\"#ma4ce8d50c5\" y=\"68.065064\"/>\n     <use style=\"fill:#1f77b4;stroke:#1f77b4;\" x=\"143.494294\" xlink:href=\"#ma4ce8d50c5\" y=\"67.728152\"/>\n     <use style=\"fill:#1f77b4;stroke:#1f77b4;\" x=\"138.689908\" xlink:href=\"#ma4ce8d50c5\" y=\"72.298956\"/>\n     <use style=\"fill:#1f77b4;stroke:#1f77b4;\" x=\"116.175376\" xlink:href=\"#ma4ce8d50c5\" y=\"47.398704\"/>\n     <use style=\"fill:#1f77b4;stroke:#1f77b4;\" x=\"145.179649\" xlink:href=\"#ma4ce8d50c5\" y=\"68.337736\"/>\n     <use style=\"fill:#1f77b4;stroke:#1f77b4;\" x=\"157.428303\" xlink:href=\"#ma4ce8d50c5\" y=\"75.995287\"/>\n     <use style=\"fill:#1f77b4;stroke:#1f77b4;\" x=\"112.701381\" xlink:href=\"#ma4ce8d50c5\" y=\"59.674983\"/>\n     <use style=\"fill:#1f77b4;stroke:#1f77b4;\" x=\"127.475301\" xlink:href=\"#ma4ce8d50c5\" y=\"62.960516\"/>\n     <use style=\"fill:#1f77b4;stroke:#1f77b4;\" x=\"120.099011\" xlink:href=\"#ma4ce8d50c5\" y=\"70.292718\"/>\n     <use style=\"fill:#1f77b4;stroke:#1f77b4;\" x=\"119.570499\" xlink:href=\"#ma4ce8d50c5\" y=\"56.126375\"/>\n     <use style=\"fill:#1f77b4;stroke:#1f77b4;\" x=\"53.159383\" xlink:href=\"#ma4ce8d50c5\" y=\"27.782517\"/>\n     <use style=\"fill:#1f77b4;stroke:#1f77b4;\" x=\"83.729281\" xlink:href=\"#ma4ce8d50c5\" y=\"54.340296\"/>\n     <use style=\"fill:#1f77b4;stroke:#1f77b4;\" x=\"151.655811\" xlink:href=\"#ma4ce8d50c5\" y=\"97.792883\"/>\n     <use style=\"fill:#1f77b4;stroke:#1f77b4;\" x=\"107.73905\" xlink:href=\"#ma4ce8d50c5\" y=\"46.422844\"/>\n     <use style=\"fill:#1f77b4;stroke:#1f77b4;\" x=\"58.735759\" xlink:href=\"#ma4ce8d50c5\" y=\"22.210287\"/>\n     <use style=\"fill:#1f77b4;stroke:#1f77b4;\" x=\"68.077123\" xlink:href=\"#ma4ce8d50c5\" y=\"39.331239\"/>\n     <use style=\"fill:#1f77b4;stroke:#1f77b4;\" x=\"159.812537\" xlink:href=\"#ma4ce8d50c5\" y=\"89.790354\"/>\n     <use style=\"fill:#1f77b4;stroke:#1f77b4;\" x=\"115.406067\" xlink:href=\"#ma4ce8d50c5\" y=\"70.72418\"/>\n     <use style=\"fill:#1f77b4;stroke:#1f77b4;\" x=\"124.864008\" xlink:href=\"#ma4ce8d50c5\" y=\"55.485843\"/>\n     <use style=\"fill:#1f77b4;stroke:#1f77b4;\" x=\"175.135259\" xlink:href=\"#ma4ce8d50c5\" y=\"86.617551\"/>\n     <use style=\"fill:#1f77b4;stroke:#1f77b4;\" x=\"87.31012\" xlink:href=\"#ma4ce8d50c5\" y=\"48.963873\"/>\n     <use style=\"fill:#1f77b4;stroke:#1f77b4;\" x=\"111.498324\" xlink:href=\"#ma4ce8d50c5\" y=\"62.795715\"/>\n     <use style=\"fill:#1f77b4;stroke:#1f77b4;\" x=\"114.335744\" xlink:href=\"#ma4ce8d50c5\" y=\"61.566866\"/>\n     <use style=\"fill:#1f77b4;stroke:#1f77b4;\" x=\"142.917156\" xlink:href=\"#ma4ce8d50c5\" y=\"80.888609\"/>\n     <use style=\"fill:#1f77b4;stroke:#1f77b4;\" x=\"99.121107\" xlink:href=\"#ma4ce8d50c5\" y=\"56.503478\"/>\n     <use style=\"fill:#1f77b4;stroke:#1f77b4;\" x=\"152.183977\" xlink:href=\"#ma4ce8d50c5\" y=\"90.808315\"/>\n     <use style=\"fill:#1f77b4;stroke:#1f77b4;\" x=\"121.378752\" xlink:href=\"#ma4ce8d50c5\" y=\"56.627576\"/>\n     <use style=\"fill:#1f77b4;stroke:#1f77b4;\" x=\"113.760529\" xlink:href=\"#ma4ce8d50c5\" y=\"52.558487\"/>\n     <use style=\"fill:#1f77b4;stroke:#1f77b4;\" x=\"171.460326\" xlink:href=\"#ma4ce8d50c5\" y=\"75.357906\"/>\n     <use style=\"fill:#1f77b4;stroke:#1f77b4;\" x=\"155.94487\" xlink:href=\"#ma4ce8d50c5\" y=\"90.126025\"/>\n     <use style=\"fill:#1f77b4;stroke:#1f77b4;\" x=\"93.840936\" xlink:href=\"#ma4ce8d50c5\" y=\"49.775673\"/>\n     <use style=\"fill:#1f77b4;stroke:#1f77b4;\" x=\"112.149227\" xlink:href=\"#ma4ce8d50c5\" y=\"55.237281\"/>\n     <use style=\"fill:#1f77b4;stroke:#1f77b4;\" x=\"158.010785\" xlink:href=\"#ma4ce8d50c5\" y=\"96.014932\"/>\n     <use style=\"fill:#1f77b4;stroke:#1f77b4;\" x=\"153.499149\" xlink:href=\"#ma4ce8d50c5\" y=\"75.728775\"/>\n     <use style=\"fill:#1f77b4;stroke:#1f77b4;\" x=\"155.851226\" xlink:href=\"#ma4ce8d50c5\" y=\"93.414261\"/>\n     <use style=\"fill:#1f77b4;stroke:#1f77b4;\" x=\"129.875695\" xlink:href=\"#ma4ce8d50c5\" y=\"78.90938\"/>\n     <use style=\"fill:#1f77b4;stroke:#1f77b4;\" x=\"119.967592\" xlink:href=\"#ma4ce8d50c5\" y=\"59.66773\"/>\n     <use style=\"fill:#1f77b4;stroke:#1f77b4;\" x=\"110.310885\" xlink:href=\"#ma4ce8d50c5\" y=\"81.299195\"/>\n     <use style=\"fill:#1f77b4;stroke:#1f77b4;\" x=\"131.527909\" xlink:href=\"#ma4ce8d50c5\" y=\"68.467148\"/>\n     <use style=\"fill:#1f77b4;stroke:#1f77b4;\" x=\"170.650737\" xlink:href=\"#ma4ce8d50c5\" y=\"103.951229\"/>\n     <use style=\"fill:#1f77b4;stroke:#1f77b4;\" x=\"139.968696\" xlink:href=\"#ma4ce8d50c5\" y=\"68.104951\"/>\n     <use style=\"fill:#1f77b4;stroke:#1f77b4;\" x=\"111.135667\" xlink:href=\"#ma4ce8d50c5\" y=\"59.989282\"/>\n     <use style=\"fill:#1f77b4;stroke:#1f77b4;\" x=\"159.049642\" xlink:href=\"#ma4ce8d50c5\" y=\"99.618024\"/>\n     <use style=\"fill:#1f77b4;stroke:#1f77b4;\" x=\"158.021862\" xlink:href=\"#ma4ce8d50c5\" y=\"90.782703\"/>\n     <use style=\"fill:#1f77b4;stroke:#1f77b4;\" x=\"71.843468\" xlink:href=\"#ma4ce8d50c5\" y=\"46.606793\"/>\n     <use style=\"fill:#1f77b4;stroke:#1f77b4;\" x=\"136.686998\" xlink:href=\"#ma4ce8d50c5\" y=\"66.568733\"/>\n     <use style=\"fill:#1f77b4;stroke:#1f77b4;\" x=\"123.267027\" xlink:href=\"#ma4ce8d50c5\" y=\"56.534917\"/>\n     <use style=\"fill:#1f77b4;stroke:#1f77b4;\" x=\"159.584522\" xlink:href=\"#ma4ce8d50c5\" y=\"77.63139\"/>\n     <use style=\"fill:#1f77b4;stroke:#1f77b4;\" x=\"147.036477\" xlink:href=\"#ma4ce8d50c5\" y=\"83.438366\"/>\n     <use style=\"fill:#1f77b4;stroke:#1f77b4;\" x=\"143.444767\" xlink:href=\"#ma4ce8d50c5\" y=\"70.185774\"/>\n     <use style=\"fill:#1f77b4;stroke:#1f77b4;\" x=\"127.121197\" xlink:href=\"#ma4ce8d50c5\" y=\"54.308751\"/>\n     <use style=\"fill:#1f77b4;stroke:#1f77b4;\" x=\"145.253546\" xlink:href=\"#ma4ce8d50c5\" y=\"68.336398\"/>\n     <use style=\"fill:#1f77b4;stroke:#1f77b4;\" x=\"145.92299\" xlink:href=\"#ma4ce8d50c5\" y=\"79.22368\"/>\n     <use style=\"fill:#1f77b4;stroke:#1f77b4;\" x=\"178.85104\" xlink:href=\"#ma4ce8d50c5\" y=\"104.793445\"/>\n     <use style=\"fill:#1f77b4;stroke:#1f77b4;\" x=\"141.385873\" xlink:href=\"#ma4ce8d50c5\" y=\"82.727062\"/>\n     <use style=\"fill:#1f77b4;stroke:#1f77b4;\" x=\"90.317171\" xlink:href=\"#ma4ce8d50c5\" y=\"42.614611\"/>\n     <use style=\"fill:#1f77b4;stroke:#1f77b4;\" x=\"133.718901\" xlink:href=\"#ma4ce8d50c5\" y=\"66.017655\"/>\n     <use style=\"fill:#1f77b4;stroke:#1f77b4;\" x=\"122.562264\" xlink:href=\"#ma4ce8d50c5\" y=\"54.372757\"/>\n     <use style=\"fill:#1f77b4;stroke:#1f77b4;\" x=\"142.170058\" xlink:href=\"#ma4ce8d50c5\" y=\"80.715591\"/>\n     <use style=\"fill:#1f77b4;stroke:#1f77b4;\" x=\"146.763877\" xlink:href=\"#ma4ce8d50c5\" y=\"70.76427\"/>\n     <use style=\"fill:#1f77b4;stroke:#1f77b4;\" x=\"122.961278\" xlink:href=\"#ma4ce8d50c5\" y=\"84.738628\"/>\n     <use style=\"fill:#1f77b4;stroke:#1f77b4;\" x=\"134.383358\" xlink:href=\"#ma4ce8d50c5\" y=\"90.40444\"/>\n     <use style=\"fill:#1f77b4;stroke:#1f77b4;\" x=\"119.857687\" xlink:href=\"#ma4ce8d50c5\" y=\"58.057135\"/>\n     <use style=\"fill:#1f77b4;stroke:#1f77b4;\" x=\"171.425836\" xlink:href=\"#ma4ce8d50c5\" y=\"102.515285\"/>\n     <use style=\"fill:#1f77b4;stroke:#1f77b4;\" x=\"177.976638\" xlink:href=\"#ma4ce8d50c5\" y=\"89.20555\"/>\n     <use style=\"fill:#1f77b4;stroke:#1f77b4;\" x=\"141.562598\" xlink:href=\"#ma4ce8d50c5\" y=\"58.714958\"/>\n     <use style=\"fill:#1f77b4;stroke:#1f77b4;\" x=\"151.365546\" xlink:href=\"#ma4ce8d50c5\" y=\"77.594076\"/>\n     <use style=\"fill:#1f77b4;stroke:#1f77b4;\" x=\"126.502136\" xlink:href=\"#ma4ce8d50c5\" y=\"74.180592\"/>\n     <use style=\"fill:#1f77b4;stroke:#1f77b4;\" x=\"106.007527\" xlink:href=\"#ma4ce8d50c5\" y=\"50.482703\"/>\n     <use style=\"fill:#1f77b4;stroke:#1f77b4;\" x=\"125.048498\" xlink:href=\"#ma4ce8d50c5\" y=\"60.554505\"/>\n     <use style=\"fill:#1f77b4;stroke:#1f77b4;\" x=\"128.863468\" xlink:href=\"#ma4ce8d50c5\" y=\"73.639216\"/>\n     <use style=\"fill:#1f77b4;stroke:#1f77b4;\" x=\"142.84193\" xlink:href=\"#ma4ce8d50c5\" y=\"69.50052\"/>\n     <use style=\"fill:#1f77b4;stroke:#1f77b4;\" x=\"110.315274\" xlink:href=\"#ma4ce8d50c5\" y=\"62.370807\"/>\n     <use style=\"fill:#1f77b4;stroke:#1f77b4;\" x=\"84.582032\" xlink:href=\"#ma4ce8d50c5\" y=\"34.774041\"/>\n     <use style=\"fill:#1f77b4;stroke:#1f77b4;\" x=\"139.906439\" xlink:href=\"#ma4ce8d50c5\" y=\"72.652909\"/>\n     <use style=\"fill:#1f77b4;stroke:#1f77b4;\" x=\"137.655673\" xlink:href=\"#ma4ce8d50c5\" y=\"68.851842\"/>\n     <use style=\"fill:#1f77b4;stroke:#1f77b4;\" x=\"144.459997\" xlink:href=\"#ma4ce8d50c5\" y=\"76.021398\"/>\n     <use style=\"fill:#1f77b4;stroke:#1f77b4;\" x=\"141.852409\" xlink:href=\"#ma4ce8d50c5\" y=\"92.746923\"/>\n     <use style=\"fill:#1f77b4;stroke:#1f77b4;\" x=\"181.82368\" xlink:href=\"#ma4ce8d50c5\" y=\"109.132637\"/>\n     <use style=\"fill:#1f77b4;stroke:#1f77b4;\" x=\"131.779808\" xlink:href=\"#ma4ce8d50c5\" y=\"65.379402\"/>\n     <use style=\"fill:#1f77b4;stroke:#1f77b4;\" x=\"131.213476\" xlink:href=\"#ma4ce8d50c5\" y=\"56.649881\"/>\n     <use style=\"fill:#1f77b4;stroke:#1f77b4;\" x=\"161.837533\" xlink:href=\"#ma4ce8d50c5\" y=\"86.045986\"/>\n     <use style=\"fill:#1f77b4;stroke:#1f77b4;\" x=\"140.947503\" xlink:href=\"#ma4ce8d50c5\" y=\"75.597069\"/>\n     <use style=\"fill:#1f77b4;stroke:#1f77b4;\" x=\"183.425042\" xlink:href=\"#ma4ce8d50c5\" y=\"96.186022\"/>\n     <use style=\"fill:#1f77b4;stroke:#1f77b4;\" x=\"131.709178\" xlink:href=\"#ma4ce8d50c5\" y=\"74.681863\"/>\n     <use style=\"fill:#1f77b4;stroke:#1f77b4;\" x=\"121.456403\" xlink:href=\"#ma4ce8d50c5\" y=\"49.60799\"/>\n     <use style=\"fill:#1f77b4;stroke:#1f77b4;\" x=\"119.117124\" xlink:href=\"#ma4ce8d50c5\" y=\"57.088888\"/>\n     <use style=\"fill:#1f77b4;stroke:#1f77b4;\" x=\"177.910158\" xlink:href=\"#ma4ce8d50c5\" y=\"92.276838\"/>\n     <use style=\"fill:#1f77b4;stroke:#1f77b4;\" x=\"134.237976\" xlink:href=\"#ma4ce8d50c5\" y=\"76.442377\"/>\n     <use style=\"fill:#1f77b4;stroke:#1f77b4;\" x=\"161.764923\" xlink:href=\"#ma4ce8d50c5\" y=\"87.914397\"/>\n     <use style=\"fill:#1f77b4;stroke:#1f77b4;\" x=\"150.696572\" xlink:href=\"#ma4ce8d50c5\" y=\"74.831894\"/>\n     <use style=\"fill:#1f77b4;stroke:#1f77b4;\" x=\"143.148594\" xlink:href=\"#ma4ce8d50c5\" y=\"79.948375\"/>\n     <use style=\"fill:#1f77b4;stroke:#1f77b4;\" x=\"135.119388\" xlink:href=\"#ma4ce8d50c5\" y=\"69.195914\"/>\n     <use style=\"fill:#1f77b4;stroke:#1f77b4;\" x=\"128.940712\" xlink:href=\"#ma4ce8d50c5\" y=\"55.702571\"/>\n     <use style=\"fill:#1f77b4;stroke:#1f77b4;\" x=\"116.139178\" xlink:href=\"#ma4ce8d50c5\" y=\"55.101204\"/>\n     <use style=\"fill:#1f77b4;stroke:#1f77b4;\" x=\"186.339883\" xlink:href=\"#ma4ce8d50c5\" y=\"101.487533\"/>\n     <use style=\"fill:#1f77b4;stroke:#1f77b4;\" x=\"146.631296\" xlink:href=\"#ma4ce8d50c5\" y=\"71.252505\"/>\n     <use style=\"fill:#1f77b4;stroke:#1f77b4;\" x=\"106.218138\" xlink:href=\"#ma4ce8d50c5\" y=\"57.717013\"/>\n     <use style=\"fill:#1f77b4;stroke:#1f77b4;\" x=\"160.99531\" xlink:href=\"#ma4ce8d50c5\" y=\"97.06653\"/>\n     <use style=\"fill:#1f77b4;stroke:#1f77b4;\" x=\"89.302081\" xlink:href=\"#ma4ce8d50c5\" y=\"59.06995\"/>\n     <use style=\"fill:#1f77b4;stroke:#1f77b4;\" x=\"134.931741\" xlink:href=\"#ma4ce8d50c5\" y=\"67.037864\"/>\n     <use style=\"fill:#1f77b4;stroke:#1f77b4;\" x=\"126.924598\" xlink:href=\"#ma4ce8d50c5\" y=\"73.6568\"/>\n     <use style=\"fill:#1f77b4;stroke:#1f77b4;\" x=\"171.04492\" xlink:href=\"#ma4ce8d50c5\" y=\"94.545945\"/>\n     <use style=\"fill:#1f77b4;stroke:#1f77b4;\" x=\"122.00971\" xlink:href=\"#ma4ce8d50c5\" y=\"61.37706\"/>\n     <use style=\"fill:#1f77b4;stroke:#1f77b4;\" x=\"109.39126\" xlink:href=\"#ma4ce8d50c5\" y=\"48.148888\"/>\n     <use style=\"fill:#1f77b4;stroke:#1f77b4;\" x=\"117.567409\" xlink:href=\"#ma4ce8d50c5\" y=\"70.437117\"/>\n     <use style=\"fill:#1f77b4;stroke:#1f77b4;\" x=\"175.986801\" xlink:href=\"#ma4ce8d50c5\" y=\"85.75273\"/>\n     <use style=\"fill:#1f77b4;stroke:#1f77b4;\" x=\"137.178\" xlink:href=\"#ma4ce8d50c5\" y=\"72.96627\"/>\n     <use style=\"fill:#1f77b4;stroke:#1f77b4;\" x=\"139.390808\" xlink:href=\"#ma4ce8d50c5\" y=\"83.017728\"/>\n     <use style=\"fill:#1f77b4;stroke:#1f77b4;\" x=\"143.110153\" xlink:href=\"#ma4ce8d50c5\" y=\"59.85026\"/>\n     <use style=\"fill:#1f77b4;stroke:#1f77b4;\" x=\"97.314368\" xlink:href=\"#ma4ce8d50c5\" y=\"47.884611\"/>\n     <use style=\"fill:#1f77b4;stroke:#1f77b4;\" x=\"124.04278\" xlink:href=\"#ma4ce8d50c5\" y=\"74.933579\"/>\n     <use style=\"fill:#1f77b4;stroke:#1f77b4;\" x=\"90.15576\" xlink:href=\"#ma4ce8d50c5\" y=\"46.691633\"/>\n     <use style=\"fill:#1f77b4;stroke:#1f77b4;\" x=\"105.137019\" xlink:href=\"#ma4ce8d50c5\" y=\"71.705146\"/>\n     <use style=\"fill:#1f77b4;stroke:#1f77b4;\" x=\"113.772539\" xlink:href=\"#ma4ce8d50c5\" y=\"54.447337\"/>\n     <use style=\"fill:#1f77b4;stroke:#1f77b4;\" x=\"124.404066\" xlink:href=\"#ma4ce8d50c5\" y=\"52.157799\"/>\n     <use style=\"fill:#1f77b4;stroke:#1f77b4;\" x=\"129.953592\" xlink:href=\"#ma4ce8d50c5\" y=\"62.237917\"/>\n     <use style=\"fill:#1f77b4;stroke:#1f77b4;\" x=\"125.988267\" xlink:href=\"#ma4ce8d50c5\" y=\"67.534768\"/>\n     <use style=\"fill:#1f77b4;stroke:#1f77b4;\" x=\"161.368126\" xlink:href=\"#ma4ce8d50c5\" y=\"80.135956\"/>\n     <use style=\"fill:#1f77b4;stroke:#1f77b4;\" x=\"135.256149\" xlink:href=\"#ma4ce8d50c5\" y=\"75.457249\"/>\n     <use style=\"fill:#1f77b4;stroke:#1f77b4;\" x=\"119.236026\" xlink:href=\"#ma4ce8d50c5\" y=\"52.625585\"/>\n     <use style=\"fill:#1f77b4;stroke:#1f77b4;\" x=\"136.179978\" xlink:href=\"#ma4ce8d50c5\" y=\"69.450934\"/>\n     <use style=\"fill:#1f77b4;stroke:#1f77b4;\" x=\"136.004451\" xlink:href=\"#ma4ce8d50c5\" y=\"72.200283\"/>\n     <use style=\"fill:#1f77b4;stroke:#1f77b4;\" x=\"101.016625\" xlink:href=\"#ma4ce8d50c5\" y=\"53.125553\"/>\n     <use style=\"fill:#1f77b4;stroke:#1f77b4;\" x=\"121.205254\" xlink:href=\"#ma4ce8d50c5\" y=\"63.591091\"/>\n     <use style=\"fill:#1f77b4;stroke:#1f77b4;\" x=\"138.412559\" xlink:href=\"#ma4ce8d50c5\" y=\"85.9623\"/>\n     <use style=\"fill:#1f77b4;stroke:#1f77b4;\" x=\"177.428957\" xlink:href=\"#ma4ce8d50c5\" y=\"88.364704\"/>\n     <use style=\"fill:#1f77b4;stroke:#1f77b4;\" x=\"135.493575\" xlink:href=\"#ma4ce8d50c5\" y=\"73.72875\"/>\n     <use style=\"fill:#1f77b4;stroke:#1f77b4;\" x=\"131.404857\" xlink:href=\"#ma4ce8d50c5\" y=\"61.955458\"/>\n     <use style=\"fill:#1f77b4;stroke:#1f77b4;\" x=\"120.581082\" xlink:href=\"#ma4ce8d50c5\" y=\"54.599159\"/>\n     <use style=\"fill:#1f77b4;stroke:#1f77b4;\" x=\"169.70654\" xlink:href=\"#ma4ce8d50c5\" y=\"81.232778\"/>\n     <use style=\"fill:#1f77b4;stroke:#1f77b4;\" x=\"176.369916\" xlink:href=\"#ma4ce8d50c5\" y=\"100.513778\"/>\n     <use style=\"fill:#1f77b4;stroke:#1f77b4;\" x=\"126.73203\" xlink:href=\"#ma4ce8d50c5\" y=\"73.730505\"/>\n     <use style=\"fill:#1f77b4;stroke:#1f77b4;\" x=\"147.254731\" xlink:href=\"#ma4ce8d50c5\" y=\"65.981293\"/>\n     <use style=\"fill:#1f77b4;stroke:#1f77b4;\" x=\"120.076541\" xlink:href=\"#ma4ce8d50c5\" y=\"63.808381\"/>\n     <use style=\"fill:#1f77b4;stroke:#1f77b4;\" x=\"137.325673\" xlink:href=\"#ma4ce8d50c5\" y=\"67.394054\"/>\n     <use style=\"fill:#1f77b4;stroke:#1f77b4;\" x=\"130.011733\" xlink:href=\"#ma4ce8d50c5\" y=\"78.079195\"/>\n     <use style=\"fill:#1f77b4;stroke:#1f77b4;\" x=\"148.286209\" xlink:href=\"#ma4ce8d50c5\" y=\"74.760469\"/>\n     <use style=\"fill:#1f77b4;stroke:#1f77b4;\" x=\"95.287512\" xlink:href=\"#ma4ce8d50c5\" y=\"52.109178\"/>\n     <use style=\"fill:#1f77b4;stroke:#1f77b4;\" x=\"111.262549\" xlink:href=\"#ma4ce8d50c5\" y=\"62.336527\"/>\n     <use style=\"fill:#1f77b4;stroke:#1f77b4;\" x=\"67.033859\" xlink:href=\"#ma4ce8d50c5\" y=\"31.428277\"/>\n     <use style=\"fill:#1f77b4;stroke:#1f77b4;\" x=\"95.903141\" xlink:href=\"#ma4ce8d50c5\" y=\"53.145147\"/>\n     <use style=\"fill:#1f77b4;stroke:#1f77b4;\" x=\"112.052798\" xlink:href=\"#ma4ce8d50c5\" y=\"57.72056\"/>\n     <use style=\"fill:#1f77b4;stroke:#1f77b4;\" x=\"94.545638\" xlink:href=\"#ma4ce8d50c5\" y=\"36.295428\"/>\n     <use style=\"fill:#1f77b4;stroke:#1f77b4;\" x=\"129.378688\" xlink:href=\"#ma4ce8d50c5\" y=\"64.240967\"/>\n     <use style=\"fill:#1f77b4;stroke:#1f77b4;\" x=\"187.07552\" xlink:href=\"#ma4ce8d50c5\" y=\"85.242123\"/>\n     <use style=\"fill:#1f77b4;stroke:#1f77b4;\" x=\"152.206186\" xlink:href=\"#ma4ce8d50c5\" y=\"90.764818\"/>\n     <use style=\"fill:#1f77b4;stroke:#1f77b4;\" x=\"123.766652\" xlink:href=\"#ma4ce8d50c5\" y=\"66.883939\"/>\n     <use style=\"fill:#1f77b4;stroke:#1f77b4;\" x=\"127.877981\" xlink:href=\"#ma4ce8d50c5\" y=\"67.955312\"/>\n     <use style=\"fill:#1f77b4;stroke:#1f77b4;\" x=\"143.703675\" xlink:href=\"#ma4ce8d50c5\" y=\"63.378794\"/>\n     <use style=\"fill:#1f77b4;stroke:#1f77b4;\" x=\"148.310257\" xlink:href=\"#ma4ce8d50c5\" y=\"88.40769\"/>\n     <use style=\"fill:#1f77b4;stroke:#1f77b4;\" x=\"128.9538\" xlink:href=\"#ma4ce8d50c5\" y=\"87.522714\"/>\n     <use style=\"fill:#1f77b4;stroke:#1f77b4;\" x=\"132.303615\" xlink:href=\"#ma4ce8d50c5\" y=\"66.66053\"/>\n     <use style=\"fill:#1f77b4;stroke:#1f77b4;\" x=\"186.928506\" xlink:href=\"#ma4ce8d50c5\" y=\"104.907506\"/>\n     <use style=\"fill:#1f77b4;stroke:#1f77b4;\" x=\"97.599487\" xlink:href=\"#ma4ce8d50c5\" y=\"46.584697\"/>\n     <use style=\"fill:#1f77b4;stroke:#1f77b4;\" x=\"108.346041\" xlink:href=\"#ma4ce8d50c5\" y=\"67.412925\"/>\n     <use style=\"fill:#1f77b4;stroke:#1f77b4;\" x=\"149.136437\" xlink:href=\"#ma4ce8d50c5\" y=\"76.330419\"/>\n     <use style=\"fill:#1f77b4;stroke:#1f77b4;\" x=\"132.993147\" xlink:href=\"#ma4ce8d50c5\" y=\"65.2439\"/>\n     <use style=\"fill:#1f77b4;stroke:#1f77b4;\" x=\"142.047429\" xlink:href=\"#ma4ce8d50c5\" y=\"73.051626\"/>\n     <use style=\"fill:#1f77b4;stroke:#1f77b4;\" x=\"117.893269\" xlink:href=\"#ma4ce8d50c5\" y=\"75.221447\"/>\n     <use style=\"fill:#1f77b4;stroke:#1f77b4;\" x=\"102.261365\" xlink:href=\"#ma4ce8d50c5\" y=\"57.001468\"/>\n     <use style=\"fill:#1f77b4;stroke:#1f77b4;\" x=\"157.798996\" xlink:href=\"#ma4ce8d50c5\" y=\"86.691439\"/>\n     <use style=\"fill:#1f77b4;stroke:#1f77b4;\" x=\"86.962779\" xlink:href=\"#ma4ce8d50c5\" y=\"55.366647\"/>\n     <use style=\"fill:#1f77b4;stroke:#1f77b4;\" x=\"147.118794\" xlink:href=\"#ma4ce8d50c5\" y=\"66.558425\"/>\n     <use style=\"fill:#1f77b4;stroke:#1f77b4;\" x=\"85.842242\" xlink:href=\"#ma4ce8d50c5\" y=\"30.877444\"/>\n     <use style=\"fill:#1f77b4;stroke:#1f77b4;\" x=\"187.569625\" xlink:href=\"#ma4ce8d50c5\" y=\"97.264219\"/>\n     <use style=\"fill:#1f77b4;stroke:#1f77b4;\" x=\"103.304925\" xlink:href=\"#ma4ce8d50c5\" y=\"63.132957\"/>\n     <use style=\"fill:#1f77b4;stroke:#1f77b4;\" x=\"118.230434\" xlink:href=\"#ma4ce8d50c5\" y=\"55.359232\"/>\n     <use style=\"fill:#1f77b4;stroke:#1f77b4;\" x=\"149.931761\" xlink:href=\"#ma4ce8d50c5\" y=\"93.046619\"/>\n     <use style=\"fill:#1f77b4;stroke:#1f77b4;\" x=\"163.221774\" xlink:href=\"#ma4ce8d50c5\" y=\"90.796769\"/>\n     <use style=\"fill:#1f77b4;stroke:#1f77b4;\" x=\"134.13598\" xlink:href=\"#ma4ce8d50c5\" y=\"86.534323\"/>\n     <use style=\"fill:#1f77b4;stroke:#1f77b4;\" x=\"180.755567\" xlink:href=\"#ma4ce8d50c5\" y=\"99.48022\"/>\n     <use style=\"fill:#1f77b4;stroke:#1f77b4;\" x=\"111.954863\" xlink:href=\"#ma4ce8d50c5\" y=\"46.450724\"/>\n     <use style=\"fill:#1f77b4;stroke:#1f77b4;\" x=\"158.826056\" xlink:href=\"#ma4ce8d50c5\" y=\"86.181881\"/>\n     <use style=\"fill:#1f77b4;stroke:#1f77b4;\" x=\"158.602091\" xlink:href=\"#ma4ce8d50c5\" y=\"82.739257\"/>\n     <use style=\"fill:#1f77b4;stroke:#1f77b4;\" x=\"156.194708\" xlink:href=\"#ma4ce8d50c5\" y=\"62.590489\"/>\n     <use style=\"fill:#1f77b4;stroke:#1f77b4;\" x=\"123.539493\" xlink:href=\"#ma4ce8d50c5\" y=\"58.81092\"/>\n     <use style=\"fill:#1f77b4;stroke:#1f77b4;\" x=\"141.917779\" xlink:href=\"#ma4ce8d50c5\" y=\"75.336637\"/>\n     <use style=\"fill:#1f77b4;stroke:#1f77b4;\" x=\"190.075494\" xlink:href=\"#ma4ce8d50c5\" y=\"100.702947\"/>\n     <use style=\"fill:#1f77b4;stroke:#1f77b4;\" x=\"120.509074\" xlink:href=\"#ma4ce8d50c5\" y=\"60.132762\"/>\n     <use style=\"fill:#1f77b4;stroke:#1f77b4;\" x=\"168.288975\" xlink:href=\"#ma4ce8d50c5\" y=\"95.374205\"/>\n     <use style=\"fill:#1f77b4;stroke:#1f77b4;\" x=\"162.756565\" xlink:href=\"#ma4ce8d50c5\" y=\"82.850413\"/>\n     <use style=\"fill:#1f77b4;stroke:#1f77b4;\" x=\"199.845367\" xlink:href=\"#ma4ce8d50c5\" y=\"114.61425\"/>\n     <use style=\"fill:#1f77b4;stroke:#1f77b4;\" x=\"91.354453\" xlink:href=\"#ma4ce8d50c5\" y=\"52.314096\"/>\n     <use style=\"fill:#1f77b4;stroke:#1f77b4;\" x=\"149.041929\" xlink:href=\"#ma4ce8d50c5\" y=\"94.280161\"/>\n     <use style=\"fill:#1f77b4;stroke:#1f77b4;\" x=\"120.279926\" xlink:href=\"#ma4ce8d50c5\" y=\"65.948948\"/>\n     <use style=\"fill:#1f77b4;stroke:#1f77b4;\" x=\"171.061736\" xlink:href=\"#ma4ce8d50c5\" y=\"80.88384\"/>\n     <use style=\"fill:#1f77b4;stroke:#1f77b4;\" x=\"161.583425\" xlink:href=\"#ma4ce8d50c5\" y=\"83.837424\"/>\n     <use style=\"fill:#1f77b4;stroke:#1f77b4;\" x=\"173.284743\" xlink:href=\"#ma4ce8d50c5\" y=\"95.920208\"/>\n     <use style=\"fill:#1f77b4;stroke:#1f77b4;\" x=\"143.939313\" xlink:href=\"#ma4ce8d50c5\" y=\"80.431506\"/>\n     <use style=\"fill:#1f77b4;stroke:#1f77b4;\" x=\"81.96457\" xlink:href=\"#ma4ce8d50c5\" y=\"31.968581\"/>\n     <use style=\"fill:#1f77b4;stroke:#1f77b4;\" x=\"126.953016\" xlink:href=\"#ma4ce8d50c5\" y=\"63.705553\"/>\n     <use style=\"fill:#1f77b4;stroke:#1f77b4;\" x=\"155.772658\" xlink:href=\"#ma4ce8d50c5\" y=\"87.589512\"/>\n     <use style=\"fill:#1f77b4;stroke:#1f77b4;\" x=\"149.671406\" xlink:href=\"#ma4ce8d50c5\" y=\"67.49806\"/>\n     <use style=\"fill:#1f77b4;stroke:#1f77b4;\" x=\"143.982699\" xlink:href=\"#ma4ce8d50c5\" y=\"80.097087\"/>\n     <use style=\"fill:#1f77b4;stroke:#1f77b4;\" x=\"120.027937\" xlink:href=\"#ma4ce8d50c5\" y=\"75.469313\"/>\n     <use style=\"fill:#1f77b4;stroke:#1f77b4;\" x=\"157.952572\" xlink:href=\"#ma4ce8d50c5\" y=\"78.986395\"/>\n     <use style=\"fill:#1f77b4;stroke:#1f77b4;\" x=\"179.996552\" xlink:href=\"#ma4ce8d50c5\" y=\"86.53654\"/>\n     <use style=\"fill:#1f77b4;stroke:#1f77b4;\" x=\"187.561203\" xlink:href=\"#ma4ce8d50c5\" y=\"109.07373\"/>\n     <use style=\"fill:#1f77b4;stroke:#1f77b4;\" x=\"143.180851\" xlink:href=\"#ma4ce8d50c5\" y=\"75.70327\"/>\n     <use style=\"fill:#1f77b4;stroke:#1f77b4;\" x=\"144.993057\" xlink:href=\"#ma4ce8d50c5\" y=\"76.697554\"/>\n     <use style=\"fill:#1f77b4;stroke:#1f77b4;\" x=\"109.363228\" xlink:href=\"#ma4ce8d50c5\" y=\"50.53924\"/>\n     <use style=\"fill:#1f77b4;stroke:#1f77b4;\" x=\"148.73376\" xlink:href=\"#ma4ce8d50c5\" y=\"72.203595\"/>\n     <use style=\"fill:#1f77b4;stroke:#1f77b4;\" x=\"136.902915\" xlink:href=\"#ma4ce8d50c5\" y=\"61.505428\"/>\n     <use style=\"fill:#1f77b4;stroke:#1f77b4;\" x=\"98.178457\" xlink:href=\"#ma4ce8d50c5\" y=\"49.503744\"/>\n     <use style=\"fill:#1f77b4;stroke:#1f77b4;\" x=\"101.09363\" xlink:href=\"#ma4ce8d50c5\" y=\"46.600232\"/>\n     <use style=\"fill:#1f77b4;stroke:#1f77b4;\" x=\"149.263468\" xlink:href=\"#ma4ce8d50c5\" y=\"93.468551\"/>\n     <use style=\"fill:#1f77b4;stroke:#1f77b4;\" x=\"140.629863\" xlink:href=\"#ma4ce8d50c5\" y=\"56.64836\"/>\n     <use style=\"fill:#1f77b4;stroke:#1f77b4;\" x=\"97.045035\" xlink:href=\"#ma4ce8d50c5\" y=\"47.841762\"/>\n     <use style=\"fill:#1f77b4;stroke:#1f77b4;\" x=\"141.994143\" xlink:href=\"#ma4ce8d50c5\" y=\"73.084449\"/>\n     <use style=\"fill:#1f77b4;stroke:#1f77b4;\" x=\"146.846117\" xlink:href=\"#ma4ce8d50c5\" y=\"82.213256\"/>\n     <use style=\"fill:#1f77b4;stroke:#1f77b4;\" x=\"116.084397\" xlink:href=\"#ma4ce8d50c5\" y=\"59.571805\"/>\n     <use style=\"fill:#1f77b4;stroke:#1f77b4;\" x=\"132.856713\" xlink:href=\"#ma4ce8d50c5\" y=\"52.555686\"/>\n     <use style=\"fill:#1f77b4;stroke:#1f77b4;\" x=\"121.656869\" xlink:href=\"#ma4ce8d50c5\" y=\"47.484361\"/>\n     <use style=\"fill:#1f77b4;stroke:#1f77b4;\" x=\"139.586414\" xlink:href=\"#ma4ce8d50c5\" y=\"72.212755\"/>\n     <use style=\"fill:#1f77b4;stroke:#1f77b4;\" x=\"157.063638\" xlink:href=\"#ma4ce8d50c5\" y=\"94.417852\"/>\n     <use style=\"fill:#1f77b4;stroke:#1f77b4;\" x=\"172.681725\" xlink:href=\"#ma4ce8d50c5\" y=\"90.975659\"/>\n     <use style=\"fill:#1f77b4;stroke:#1f77b4;\" x=\"111.929831\" xlink:href=\"#ma4ce8d50c5\" y=\"45.823667\"/>\n     <use style=\"fill:#1f77b4;stroke:#1f77b4;\" x=\"149.051792\" xlink:href=\"#ma4ce8d50c5\" y=\"79.458862\"/>\n     <use style=\"fill:#1f77b4;stroke:#1f77b4;\" x=\"99.654068\" xlink:href=\"#ma4ce8d50c5\" y=\"50.706614\"/>\n     <use style=\"fill:#1f77b4;stroke:#1f77b4;\" x=\"103.753501\" xlink:href=\"#ma4ce8d50c5\" y=\"45.976881\"/>\n     <use style=\"fill:#1f77b4;stroke:#1f77b4;\" x=\"113.469707\" xlink:href=\"#ma4ce8d50c5\" y=\"71.170834\"/>\n     <use style=\"fill:#1f77b4;stroke:#1f77b4;\" x=\"123.539496\" xlink:href=\"#ma4ce8d50c5\" y=\"66.766985\"/>\n     <use style=\"fill:#1f77b4;stroke:#1f77b4;\" x=\"144.707158\" xlink:href=\"#ma4ce8d50c5\" y=\"89.534471\"/>\n     <use style=\"fill:#1f77b4;stroke:#1f77b4;\" x=\"162.651273\" xlink:href=\"#ma4ce8d50c5\" y=\"91.639592\"/>\n     <use style=\"fill:#1f77b4;stroke:#1f77b4;\" x=\"138.931463\" xlink:href=\"#ma4ce8d50c5\" y=\"76.036343\"/>\n     <use style=\"fill:#1f77b4;stroke:#1f77b4;\" x=\"118.670642\" xlink:href=\"#ma4ce8d50c5\" y=\"65.026872\"/>\n     <use style=\"fill:#1f77b4;stroke:#1f77b4;\" x=\"124.335049\" xlink:href=\"#ma4ce8d50c5\" y=\"75.853435\"/>\n     <use style=\"fill:#1f77b4;stroke:#1f77b4;\" x=\"140.422637\" xlink:href=\"#ma4ce8d50c5\" y=\"75.200021\"/>\n     <use style=\"fill:#1f77b4;stroke:#1f77b4;\" x=\"119.21868\" xlink:href=\"#ma4ce8d50c5\" y=\"58.917895\"/>\n     <use style=\"fill:#1f77b4;stroke:#1f77b4;\" x=\"144.637705\" xlink:href=\"#ma4ce8d50c5\" y=\"62.415941\"/>\n     <use style=\"fill:#1f77b4;stroke:#1f77b4;\" x=\"114.238535\" xlink:href=\"#ma4ce8d50c5\" y=\"83.549279\"/>\n     <use style=\"fill:#1f77b4;stroke:#1f77b4;\" x=\"136.439748\" xlink:href=\"#ma4ce8d50c5\" y=\"66.760419\"/>\n     <use style=\"fill:#1f77b4;stroke:#1f77b4;\" x=\"121.471104\" xlink:href=\"#ma4ce8d50c5\" y=\"44.705609\"/>\n     <use style=\"fill:#1f77b4;stroke:#1f77b4;\" x=\"136.063842\" xlink:href=\"#ma4ce8d50c5\" y=\"80.231206\"/>\n     <use style=\"fill:#1f77b4;stroke:#1f77b4;\" x=\"143.05626\" xlink:href=\"#ma4ce8d50c5\" y=\"77.577251\"/>\n     <use style=\"fill:#1f77b4;stroke:#1f77b4;\" x=\"143.643092\" xlink:href=\"#ma4ce8d50c5\" y=\"78.240651\"/>\n     <use style=\"fill:#1f77b4;stroke:#1f77b4;\" x=\"117.368324\" xlink:href=\"#ma4ce8d50c5\" y=\"62.056033\"/>\n     <use style=\"fill:#1f77b4;stroke:#1f77b4;\" x=\"150.437349\" xlink:href=\"#ma4ce8d50c5\" y=\"92.294012\"/>\n     <use style=\"fill:#1f77b4;stroke:#1f77b4;\" x=\"154.120526\" xlink:href=\"#ma4ce8d50c5\" y=\"79.807962\"/>\n     <use style=\"fill:#1f77b4;stroke:#1f77b4;\" x=\"92.151292\" xlink:href=\"#ma4ce8d50c5\" y=\"39.229443\"/>\n     <use style=\"fill:#1f77b4;stroke:#1f77b4;\" x=\"109.734213\" xlink:href=\"#ma4ce8d50c5\" y=\"58.437183\"/>\n     <use style=\"fill:#1f77b4;stroke:#1f77b4;\" x=\"147.461708\" xlink:href=\"#ma4ce8d50c5\" y=\"81.658217\"/>\n     <use style=\"fill:#1f77b4;stroke:#1f77b4;\" x=\"145.612341\" xlink:href=\"#ma4ce8d50c5\" y=\"76.982679\"/>\n     <use style=\"fill:#1f77b4;stroke:#1f77b4;\" x=\"107.353828\" xlink:href=\"#ma4ce8d50c5\" y=\"48.735971\"/>\n     <use style=\"fill:#1f77b4;stroke:#1f77b4;\" x=\"147.688048\" xlink:href=\"#ma4ce8d50c5\" y=\"85.433467\"/>\n     <use style=\"fill:#1f77b4;stroke:#1f77b4;\" x=\"148.198205\" xlink:href=\"#ma4ce8d50c5\" y=\"76.635018\"/>\n     <use style=\"fill:#1f77b4;stroke:#1f77b4;\" x=\"111.875602\" xlink:href=\"#ma4ce8d50c5\" y=\"51.255905\"/>\n     <use style=\"fill:#1f77b4;stroke:#1f77b4;\" x=\"172.382773\" xlink:href=\"#ma4ce8d50c5\" y=\"88.513544\"/>\n     <use style=\"fill:#1f77b4;stroke:#1f77b4;\" x=\"132.430727\" xlink:href=\"#ma4ce8d50c5\" y=\"63.053348\"/>\n     <use style=\"fill:#1f77b4;stroke:#1f77b4;\" x=\"144.47724\" xlink:href=\"#ma4ce8d50c5\" y=\"65.824432\"/>\n     <use style=\"fill:#1f77b4;stroke:#1f77b4;\" x=\"98.013302\" xlink:href=\"#ma4ce8d50c5\" y=\"55.687821\"/>\n     <use style=\"fill:#1f77b4;stroke:#1f77b4;\" x=\"140.869859\" xlink:href=\"#ma4ce8d50c5\" y=\"79.059513\"/>\n     <use style=\"fill:#1f77b4;stroke:#1f77b4;\" x=\"85.593851\" xlink:href=\"#ma4ce8d50c5\" y=\"50.411469\"/>\n     <use style=\"fill:#1f77b4;stroke:#1f77b4;\" x=\"113.277325\" xlink:href=\"#ma4ce8d50c5\" y=\"72.654878\"/>\n     <use style=\"fill:#1f77b4;stroke:#1f77b4;\" x=\"130.183167\" xlink:href=\"#ma4ce8d50c5\" y=\"72.114135\"/>\n     <use style=\"fill:#1f77b4;stroke:#1f77b4;\" x=\"134.890846\" xlink:href=\"#ma4ce8d50c5\" y=\"70.685406\"/>\n     <use style=\"fill:#1f77b4;stroke:#1f77b4;\" x=\"130.551417\" xlink:href=\"#ma4ce8d50c5\" y=\"64.34838\"/>\n     <use style=\"fill:#1f77b4;stroke:#1f77b4;\" x=\"135.132315\" xlink:href=\"#ma4ce8d50c5\" y=\"62.960849\"/>\n     <use style=\"fill:#1f77b4;stroke:#1f77b4;\" x=\"207.971118\" xlink:href=\"#ma4ce8d50c5\" y=\"121.340658\"/>\n     <use style=\"fill:#1f77b4;stroke:#1f77b4;\" x=\"160.010698\" xlink:href=\"#ma4ce8d50c5\" y=\"82.449445\"/>\n     <use style=\"fill:#1f77b4;stroke:#1f77b4;\" x=\"77.731202\" xlink:href=\"#ma4ce8d50c5\" y=\"34.608754\"/>\n     <use style=\"fill:#1f77b4;stroke:#1f77b4;\" x=\"159.95675\" xlink:href=\"#ma4ce8d50c5\" y=\"89.172589\"/>\n     <use style=\"fill:#1f77b4;stroke:#1f77b4;\" x=\"118.244409\" xlink:href=\"#ma4ce8d50c5\" y=\"56.133618\"/>\n     <use style=\"fill:#1f77b4;stroke:#1f77b4;\" x=\"99.367181\" xlink:href=\"#ma4ce8d50c5\" y=\"52.247543\"/>\n     <use style=\"fill:#1f77b4;stroke:#1f77b4;\" x=\"145.127052\" xlink:href=\"#ma4ce8d50c5\" y=\"76.020651\"/>\n     <use style=\"fill:#1f77b4;stroke:#1f77b4;\" x=\"150.769123\" xlink:href=\"#ma4ce8d50c5\" y=\"80.508911\"/>\n     <use style=\"fill:#1f77b4;stroke:#1f77b4;\" x=\"149.625876\" xlink:href=\"#ma4ce8d50c5\" y=\"80.791201\"/>\n     <use style=\"fill:#1f77b4;stroke:#1f77b4;\" x=\"68.997016\" xlink:href=\"#ma4ce8d50c5\" y=\"27.211163\"/>\n     <use style=\"fill:#1f77b4;stroke:#1f77b4;\" x=\"98.420964\" xlink:href=\"#ma4ce8d50c5\" y=\"41.573017\"/>\n     <use style=\"fill:#1f77b4;stroke:#1f77b4;\" x=\"124.963687\" xlink:href=\"#ma4ce8d50c5\" y=\"68.067881\"/>\n     <use style=\"fill:#1f77b4;stroke:#1f77b4;\" x=\"159.263518\" xlink:href=\"#ma4ce8d50c5\" y=\"70.783281\"/>\n     <use style=\"fill:#1f77b4;stroke:#1f77b4;\" x=\"136.725915\" xlink:href=\"#ma4ce8d50c5\" y=\"72.67893\"/>\n     <use style=\"fill:#1f77b4;stroke:#1f77b4;\" x=\"117.986246\" xlink:href=\"#ma4ce8d50c5\" y=\"56.418266\"/>\n     <use style=\"fill:#1f77b4;stroke:#1f77b4;\" x=\"180.286188\" xlink:href=\"#ma4ce8d50c5\" y=\"98.886418\"/>\n     <use style=\"fill:#1f77b4;stroke:#1f77b4;\" x=\"156.728989\" xlink:href=\"#ma4ce8d50c5\" y=\"83.181713\"/>\n     <use style=\"fill:#1f77b4;stroke:#1f77b4;\" x=\"157.251004\" xlink:href=\"#ma4ce8d50c5\" y=\"79.208359\"/>\n     <use style=\"fill:#1f77b4;stroke:#1f77b4;\" x=\"146.511051\" xlink:href=\"#ma4ce8d50c5\" y=\"76.122819\"/>\n     <use style=\"fill:#1f77b4;stroke:#1f77b4;\" x=\"123.367659\" xlink:href=\"#ma4ce8d50c5\" y=\"61.943768\"/>\n     <use style=\"fill:#1f77b4;stroke:#1f77b4;\" x=\"150.246826\" xlink:href=\"#ma4ce8d50c5\" y=\"85.983686\"/>\n     <use style=\"fill:#1f77b4;stroke:#1f77b4;\" x=\"117.174162\" xlink:href=\"#ma4ce8d50c5\" y=\"60.912257\"/>\n     <use style=\"fill:#1f77b4;stroke:#1f77b4;\" x=\"153.350923\" xlink:href=\"#ma4ce8d50c5\" y=\"90.268867\"/>\n     <use style=\"fill:#1f77b4;stroke:#1f77b4;\" x=\"198.076517\" xlink:href=\"#ma4ce8d50c5\" y=\"97.312642\"/>\n     <use style=\"fill:#1f77b4;stroke:#1f77b4;\" x=\"97.715426\" xlink:href=\"#ma4ce8d50c5\" y=\"40.040529\"/>\n     <use style=\"fill:#1f77b4;stroke:#1f77b4;\" x=\"139.734946\" xlink:href=\"#ma4ce8d50c5\" y=\"78.498662\"/>\n     <use style=\"fill:#1f77b4;stroke:#1f77b4;\" x=\"130.050442\" xlink:href=\"#ma4ce8d50c5\" y=\"76.362179\"/>\n     <use style=\"fill:#1f77b4;stroke:#1f77b4;\" x=\"78.866117\" xlink:href=\"#ma4ce8d50c5\" y=\"57.059774\"/>\n     <use style=\"fill:#1f77b4;stroke:#1f77b4;\" x=\"138.721826\" xlink:href=\"#ma4ce8d50c5\" y=\"67.136964\"/>\n     <use style=\"fill:#1f77b4;stroke:#1f77b4;\" x=\"150.680353\" xlink:href=\"#ma4ce8d50c5\" y=\"73.633292\"/>\n     <use style=\"fill:#1f77b4;stroke:#1f77b4;\" x=\"110.182702\" xlink:href=\"#ma4ce8d50c5\" y=\"61.887753\"/>\n     <use style=\"fill:#1f77b4;stroke:#1f77b4;\" x=\"132.456144\" xlink:href=\"#ma4ce8d50c5\" y=\"71.181481\"/>\n     <use style=\"fill:#1f77b4;stroke:#1f77b4;\" x=\"122.446912\" xlink:href=\"#ma4ce8d50c5\" y=\"73.298846\"/>\n     <use style=\"fill:#1f77b4;stroke:#1f77b4;\" x=\"145.739396\" xlink:href=\"#ma4ce8d50c5\" y=\"81.285191\"/>\n     <use style=\"fill:#1f77b4;stroke:#1f77b4;\" x=\"147.230229\" xlink:href=\"#ma4ce8d50c5\" y=\"78.40608\"/>\n     <use style=\"fill:#1f77b4;stroke:#1f77b4;\" x=\"179.235781\" xlink:href=\"#ma4ce8d50c5\" y=\"96.620317\"/>\n     <use style=\"fill:#1f77b4;stroke:#1f77b4;\" x=\"111.53718\" xlink:href=\"#ma4ce8d50c5\" y=\"67.344067\"/>\n     <use style=\"fill:#1f77b4;stroke:#1f77b4;\" x=\"115.489484\" xlink:href=\"#ma4ce8d50c5\" y=\"43.031483\"/>\n     <use style=\"fill:#1f77b4;stroke:#1f77b4;\" x=\"139.414624\" xlink:href=\"#ma4ce8d50c5\" y=\"76.316329\"/>\n     <use style=\"fill:#1f77b4;stroke:#1f77b4;\" x=\"75.046323\" xlink:href=\"#ma4ce8d50c5\" y=\"29.03495\"/>\n     <use style=\"fill:#1f77b4;stroke:#1f77b4;\" x=\"163.4136\" xlink:href=\"#ma4ce8d50c5\" y=\"76.821109\"/>\n     <use style=\"fill:#1f77b4;stroke:#1f77b4;\" x=\"152.830342\" xlink:href=\"#ma4ce8d50c5\" y=\"68.819543\"/>\n     <use style=\"fill:#1f77b4;stroke:#1f77b4;\" x=\"162.939473\" xlink:href=\"#ma4ce8d50c5\" y=\"87.618461\"/>\n     <use style=\"fill:#1f77b4;stroke:#1f77b4;\" x=\"102.34593\" xlink:href=\"#ma4ce8d50c5\" y=\"60.034433\"/>\n     <use style=\"fill:#1f77b4;stroke:#1f77b4;\" x=\"133.755176\" xlink:href=\"#ma4ce8d50c5\" y=\"70.267393\"/>\n     <use style=\"fill:#1f77b4;stroke:#1f77b4;\" x=\"173.409136\" xlink:href=\"#ma4ce8d50c5\" y=\"88.911878\"/>\n     <use style=\"fill:#1f77b4;stroke:#1f77b4;\" x=\"146.94182\" xlink:href=\"#ma4ce8d50c5\" y=\"77.914905\"/>\n     <use style=\"fill:#1f77b4;stroke:#1f77b4;\" x=\"152.88284\" xlink:href=\"#ma4ce8d50c5\" y=\"71.565535\"/>\n     <use style=\"fill:#1f77b4;stroke:#1f77b4;\" x=\"163.878806\" xlink:href=\"#ma4ce8d50c5\" y=\"84.041537\"/>\n     <use style=\"fill:#1f77b4;stroke:#1f77b4;\" x=\"62.11061\" xlink:href=\"#ma4ce8d50c5\" y=\"35.88836\"/>\n     <use style=\"fill:#1f77b4;stroke:#1f77b4;\" x=\"159.124983\" xlink:href=\"#ma4ce8d50c5\" y=\"77.139464\"/>\n     <use style=\"fill:#1f77b4;stroke:#1f77b4;\" x=\"117.178824\" xlink:href=\"#ma4ce8d50c5\" y=\"60.284714\"/>\n     <use style=\"fill:#1f77b4;stroke:#1f77b4;\" x=\"61.636948\" xlink:href=\"#ma4ce8d50c5\" y=\"20.656938\"/>\n     <use style=\"fill:#1f77b4;stroke:#1f77b4;\" x=\"141.855298\" xlink:href=\"#ma4ce8d50c5\" y=\"78.591431\"/>\n     <use style=\"fill:#1f77b4;stroke:#1f77b4;\" x=\"113.196388\" xlink:href=\"#ma4ce8d50c5\" y=\"51.384858\"/>\n     <use style=\"fill:#1f77b4;stroke:#1f77b4;\" x=\"153.646716\" xlink:href=\"#ma4ce8d50c5\" y=\"97.874404\"/>\n     <use style=\"fill:#1f77b4;stroke:#1f77b4;\" x=\"94.096888\" xlink:href=\"#ma4ce8d50c5\" y=\"36.014343\"/>\n     <use style=\"fill:#1f77b4;stroke:#1f77b4;\" x=\"97.431974\" xlink:href=\"#ma4ce8d50c5\" y=\"44.409894\"/>\n     <use style=\"fill:#1f77b4;stroke:#1f77b4;\" x=\"143.217407\" xlink:href=\"#ma4ce8d50c5\" y=\"84.059998\"/>\n     <use style=\"fill:#1f77b4;stroke:#1f77b4;\" x=\"151.965124\" xlink:href=\"#ma4ce8d50c5\" y=\"71.068012\"/>\n     <use style=\"fill:#1f77b4;stroke:#1f77b4;\" x=\"96.54699\" xlink:href=\"#ma4ce8d50c5\" y=\"52.77882\"/>\n     <use style=\"fill:#1f77b4;stroke:#1f77b4;\" x=\"88.776624\" xlink:href=\"#ma4ce8d50c5\" y=\"47.353879\"/>\n     <use style=\"fill:#1f77b4;stroke:#1f77b4;\" x=\"132.920936\" xlink:href=\"#ma4ce8d50c5\" y=\"65.975512\"/>\n     <use style=\"fill:#1f77b4;stroke:#1f77b4;\" x=\"115.097208\" xlink:href=\"#ma4ce8d50c5\" y=\"61.411423\"/>\n     <use style=\"fill:#1f77b4;stroke:#1f77b4;\" x=\"145.773681\" xlink:href=\"#ma4ce8d50c5\" y=\"77.040382\"/>\n     <use style=\"fill:#1f77b4;stroke:#1f77b4;\" x=\"106.963312\" xlink:href=\"#ma4ce8d50c5\" y=\"54.078508\"/>\n     <use style=\"fill:#1f77b4;stroke:#1f77b4;\" x=\"140.878925\" xlink:href=\"#ma4ce8d50c5\" y=\"73.800303\"/>\n     <use style=\"fill:#1f77b4;stroke:#1f77b4;\" x=\"67.093837\" xlink:href=\"#ma4ce8d50c5\" y=\"28.738082\"/>\n     <use style=\"fill:#1f77b4;stroke:#1f77b4;\" x=\"168.996078\" xlink:href=\"#ma4ce8d50c5\" y=\"93.494296\"/>\n     <use style=\"fill:#1f77b4;stroke:#1f77b4;\" x=\"144.760918\" xlink:href=\"#ma4ce8d50c5\" y=\"87.190211\"/>\n     <use style=\"fill:#1f77b4;stroke:#1f77b4;\" x=\"99.390045\" xlink:href=\"#ma4ce8d50c5\" y=\"48.684268\"/>\n     <use style=\"fill:#1f77b4;stroke:#1f77b4;\" x=\"101.654572\" xlink:href=\"#ma4ce8d50c5\" y=\"63.991021\"/>\n     <use style=\"fill:#1f77b4;stroke:#1f77b4;\" x=\"128.22434\" xlink:href=\"#ma4ce8d50c5\" y=\"77.53733\"/>\n     <use style=\"fill:#1f77b4;stroke:#1f77b4;\" x=\"115.081284\" xlink:href=\"#ma4ce8d50c5\" y=\"67.013031\"/>\n     <use style=\"fill:#1f77b4;stroke:#1f77b4;\" x=\"167.037783\" xlink:href=\"#ma4ce8d50c5\" y=\"81.20384\"/>\n     <use style=\"fill:#1f77b4;stroke:#1f77b4;\" x=\"133.602227\" xlink:href=\"#ma4ce8d50c5\" y=\"86.089906\"/>\n     <use style=\"fill:#1f77b4;stroke:#1f77b4;\" x=\"124.660757\" xlink:href=\"#ma4ce8d50c5\" y=\"61.886707\"/>\n     <use style=\"fill:#1f77b4;stroke:#1f77b4;\" x=\"98.941643\" xlink:href=\"#ma4ce8d50c5\" y=\"43.954296\"/>\n     <use style=\"fill:#1f77b4;stroke:#1f77b4;\" x=\"123.188387\" xlink:href=\"#ma4ce8d50c5\" y=\"65.799998\"/>\n     <use style=\"fill:#1f77b4;stroke:#1f77b4;\" x=\"143.52347\" xlink:href=\"#ma4ce8d50c5\" y=\"46.354882\"/>\n     <use style=\"fill:#1f77b4;stroke:#1f77b4;\" x=\"108.117475\" xlink:href=\"#ma4ce8d50c5\" y=\"55.029062\"/>\n     <use style=\"fill:#1f77b4;stroke:#1f77b4;\" x=\"158.485881\" xlink:href=\"#ma4ce8d50c5\" y=\"101.413245\"/>\n     <use style=\"fill:#1f77b4;stroke:#1f77b4;\" x=\"160.099648\" xlink:href=\"#ma4ce8d50c5\" y=\"80.040268\"/>\n     <use style=\"fill:#1f77b4;stroke:#1f77b4;\" x=\"103.369211\" xlink:href=\"#ma4ce8d50c5\" y=\"56.461878\"/>\n     <use style=\"fill:#1f77b4;stroke:#1f77b4;\" x=\"127.539269\" xlink:href=\"#ma4ce8d50c5\" y=\"57.799076\"/>\n     <use style=\"fill:#1f77b4;stroke:#1f77b4;\" x=\"159.359367\" xlink:href=\"#ma4ce8d50c5\" y=\"92.245329\"/>\n     <use style=\"fill:#1f77b4;stroke:#1f77b4;\" x=\"90.952633\" xlink:href=\"#ma4ce8d50c5\" y=\"43.811229\"/>\n     <use style=\"fill:#1f77b4;stroke:#1f77b4;\" x=\"148.358504\" xlink:href=\"#ma4ce8d50c5\" y=\"63.193223\"/>\n     <use style=\"fill:#1f77b4;stroke:#1f77b4;\" x=\"129.084908\" xlink:href=\"#ma4ce8d50c5\" y=\"66.5665\"/>\n     <use style=\"fill:#1f77b4;stroke:#1f77b4;\" x=\"115.622858\" xlink:href=\"#ma4ce8d50c5\" y=\"55.452312\"/>\n     <use style=\"fill:#1f77b4;stroke:#1f77b4;\" x=\"105.416185\" xlink:href=\"#ma4ce8d50c5\" y=\"57.70549\"/>\n     <use style=\"fill:#1f77b4;stroke:#1f77b4;\" x=\"100.637998\" xlink:href=\"#ma4ce8d50c5\" y=\"41.876863\"/>\n     <use style=\"fill:#1f77b4;stroke:#1f77b4;\" x=\"103.540102\" xlink:href=\"#ma4ce8d50c5\" y=\"62.851054\"/>\n     <use style=\"fill:#1f77b4;stroke:#1f77b4;\" x=\"129.902333\" xlink:href=\"#ma4ce8d50c5\" y=\"66.69304\"/>\n     <use style=\"fill:#1f77b4;stroke:#1f77b4;\" x=\"154.435545\" xlink:href=\"#ma4ce8d50c5\" y=\"75.573883\"/>\n     <use style=\"fill:#1f77b4;stroke:#1f77b4;\" x=\"170.714424\" xlink:href=\"#ma4ce8d50c5\" y=\"95.448165\"/>\n     <use style=\"fill:#1f77b4;stroke:#1f77b4;\" x=\"127.59098\" xlink:href=\"#ma4ce8d50c5\" y=\"72.862449\"/>\n     <use style=\"fill:#1f77b4;stroke:#1f77b4;\" x=\"142.249722\" xlink:href=\"#ma4ce8d50c5\" y=\"72.89826\"/>\n     <use style=\"fill:#1f77b4;stroke:#1f77b4;\" x=\"131.264298\" xlink:href=\"#ma4ce8d50c5\" y=\"77.897535\"/>\n     <use style=\"fill:#1f77b4;stroke:#1f77b4;\" x=\"161.904875\" xlink:href=\"#ma4ce8d50c5\" y=\"67.121691\"/>\n     <use style=\"fill:#1f77b4;stroke:#1f77b4;\" x=\"195.257296\" xlink:href=\"#ma4ce8d50c5\" y=\"97.904634\"/>\n     <use style=\"fill:#1f77b4;stroke:#1f77b4;\" x=\"160.287983\" xlink:href=\"#ma4ce8d50c5\" y=\"83.269786\"/>\n     <use style=\"fill:#1f77b4;stroke:#1f77b4;\" x=\"117.736834\" xlink:href=\"#ma4ce8d50c5\" y=\"59.923981\"/>\n     <use style=\"fill:#1f77b4;stroke:#1f77b4;\" x=\"160.320481\" xlink:href=\"#ma4ce8d50c5\" y=\"79.623377\"/>\n     <use style=\"fill:#1f77b4;stroke:#1f77b4;\" x=\"131.662322\" xlink:href=\"#ma4ce8d50c5\" y=\"70.839852\"/>\n     <use style=\"fill:#1f77b4;stroke:#1f77b4;\" x=\"176.246521\" xlink:href=\"#ma4ce8d50c5\" y=\"96.112922\"/>\n     <use style=\"fill:#1f77b4;stroke:#1f77b4;\" x=\"116.859218\" xlink:href=\"#ma4ce8d50c5\" y=\"69.759635\"/>\n     <use style=\"fill:#1f77b4;stroke:#1f77b4;\" x=\"137.988231\" xlink:href=\"#ma4ce8d50c5\" y=\"61.110425\"/>\n     <use style=\"fill:#1f77b4;stroke:#1f77b4;\" x=\"145.042906\" xlink:href=\"#ma4ce8d50c5\" y=\"89.421277\"/>\n     <use style=\"fill:#1f77b4;stroke:#1f77b4;\" x=\"141.15558\" xlink:href=\"#ma4ce8d50c5\" y=\"70.895228\"/>\n     <use style=\"fill:#1f77b4;stroke:#1f77b4;\" x=\"103.282251\" xlink:href=\"#ma4ce8d50c5\" y=\"52.499706\"/>\n     <use style=\"fill:#1f77b4;stroke:#1f77b4;\" x=\"128.653634\" xlink:href=\"#ma4ce8d50c5\" y=\"67.860214\"/>\n    </g>\n   </g>\n   <g id=\"matplotlib.axis_1\">\n    <g id=\"xtick_1\">\n     <g id=\"line2d_1\">\n      <defs>\n       <path d=\"M 0 0 \nL 0 3.5 \n\" id=\"mc3598e589d\" style=\"stroke:#000000;stroke-width:0.8;\"/>\n      </defs>\n      <g>\n       <use style=\"stroke:#000000;stroke-width:0.8;\" x=\"78.653867\" xlink:href=\"#mc3598e589d\" y=\"143.1\"/>\n      </g>\n     </g>\n     <g id=\"text_1\">\n      <!-- −2 -->\n      <defs>\n       <path d=\"M 10.59375 35.5 \nL 73.1875 35.5 \nL 73.1875 27.203125 \nL 10.59375 27.203125 \nz\n\" id=\"DejaVuSans-8722\"/>\n       <path d=\"M 19.1875 8.296875 \nL 53.609375 8.296875 \nL 53.609375 0 \nL 7.328125 0 \nL 7.328125 8.296875 \nQ 12.9375 14.109375 22.625 23.890625 \nQ 32.328125 33.6875 34.8125 36.53125 \nQ 39.546875 41.84375 41.421875 45.53125 \nQ 43.3125 49.21875 43.3125 52.78125 \nQ 43.3125 58.59375 39.234375 62.25 \nQ 35.15625 65.921875 28.609375 65.921875 \nQ 23.96875 65.921875 18.8125 64.3125 \nQ 13.671875 62.703125 7.8125 59.421875 \nL 7.8125 69.390625 \nQ 13.765625 71.78125 18.9375 73 \nQ 24.125 74.21875 28.421875 74.21875 \nQ 39.75 74.21875 46.484375 68.546875 \nQ 53.21875 62.890625 53.21875 53.421875 \nQ 53.21875 48.921875 51.53125 44.890625 \nQ 49.859375 40.875 45.40625 35.40625 \nQ 44.1875 33.984375 37.640625 27.21875 \nQ 31.109375 20.453125 19.1875 8.296875 \nz\n\" id=\"DejaVuSans-50\"/>\n      </defs>\n      <g transform=\"translate(71.282773 157.698438)scale(0.1 -0.1)\">\n       <use xlink:href=\"#DejaVuSans-8722\"/>\n       <use x=\"83.789062\" xlink:href=\"#DejaVuSans-50\"/>\n      </g>\n     </g>\n    </g>\n    <g id=\"xtick_2\">\n     <g id=\"line2d_2\">\n      <g>\n       <use style=\"stroke:#000000;stroke-width:0.8;\" x=\"131.61447\" xlink:href=\"#mc3598e589d\" y=\"143.1\"/>\n      </g>\n     </g>\n     <g id=\"text_2\">\n      <!-- 0 -->\n      <defs>\n       <path d=\"M 31.78125 66.40625 \nQ 24.171875 66.40625 20.328125 58.90625 \nQ 16.5 51.421875 16.5 36.375 \nQ 16.5 21.390625 20.328125 13.890625 \nQ 24.171875 6.390625 31.78125 6.390625 \nQ 39.453125 6.390625 43.28125 13.890625 \nQ 47.125 21.390625 47.125 36.375 \nQ 47.125 51.421875 43.28125 58.90625 \nQ 39.453125 66.40625 31.78125 66.40625 \nz\nM 31.78125 74.21875 \nQ 44.046875 74.21875 50.515625 64.515625 \nQ 56.984375 54.828125 56.984375 36.375 \nQ 56.984375 17.96875 50.515625 8.265625 \nQ 44.046875 -1.421875 31.78125 -1.421875 \nQ 19.53125 -1.421875 13.0625 8.265625 \nQ 6.59375 17.96875 6.59375 36.375 \nQ 6.59375 54.828125 13.0625 64.515625 \nQ 19.53125 74.21875 31.78125 74.21875 \nz\n\" id=\"DejaVuSans-48\"/>\n      </defs>\n      <g transform=\"translate(128.43322 157.698438)scale(0.1 -0.1)\">\n       <use xlink:href=\"#DejaVuSans-48\"/>\n      </g>\n     </g>\n    </g>\n    <g id=\"xtick_3\">\n     <g id=\"line2d_3\">\n      <g>\n       <use style=\"stroke:#000000;stroke-width:0.8;\" x=\"184.575074\" xlink:href=\"#mc3598e589d\" y=\"143.1\"/>\n      </g>\n     </g>\n     <g id=\"text_3\">\n      <!-- 2 -->\n      <g transform=\"translate(181.393824 157.698438)scale(0.1 -0.1)\">\n       <use xlink:href=\"#DejaVuSans-50\"/>\n      </g>\n     </g>\n    </g>\n   </g>\n   <g id=\"matplotlib.axis_2\">\n    <g id=\"ytick_1\">\n     <g id=\"line2d_4\">\n      <defs>\n       <path d=\"M 0 0 \nL -3.5 0 \n\" id=\"m43c55a7066\" style=\"stroke:#000000;stroke-width:0.8;\"/>\n      </defs>\n      <g>\n       <use style=\"stroke:#000000;stroke-width:0.8;\" x=\"35.304688\" xlink:href=\"#m43c55a7066\" y=\"130.747462\"/>\n      </g>\n     </g>\n     <g id=\"text_4\">\n      <!-- −10 -->\n      <defs>\n       <path d=\"M 12.40625 8.296875 \nL 28.515625 8.296875 \nL 28.515625 63.921875 \nL 10.984375 60.40625 \nL 10.984375 69.390625 \nL 28.421875 72.90625 \nL 38.28125 72.90625 \nL 38.28125 8.296875 \nL 54.390625 8.296875 \nL 54.390625 0 \nL 12.40625 0 \nz\n\" id=\"DejaVuSans-49\"/>\n      </defs>\n      <g transform=\"translate(7.2 134.546681)scale(0.1 -0.1)\">\n       <use xlink:href=\"#DejaVuSans-8722\"/>\n       <use x=\"83.789062\" xlink:href=\"#DejaVuSans-49\"/>\n       <use x=\"147.412109\" xlink:href=\"#DejaVuSans-48\"/>\n      </g>\n     </g>\n    </g>\n    <g id=\"ytick_2\">\n     <g id=\"line2d_5\">\n      <g>\n       <use style=\"stroke:#000000;stroke-width:0.8;\" x=\"35.304688\" xlink:href=\"#m43c55a7066\" y=\"87.423925\"/>\n      </g>\n     </g>\n     <g id=\"text_5\">\n      <!-- 0 -->\n      <g transform=\"translate(21.942187 91.223143)scale(0.1 -0.1)\">\n       <use xlink:href=\"#DejaVuSans-48\"/>\n      </g>\n     </g>\n    </g>\n    <g id=\"ytick_3\">\n     <g id=\"line2d_6\">\n      <g>\n       <use style=\"stroke:#000000;stroke-width:0.8;\" x=\"35.304688\" xlink:href=\"#m43c55a7066\" y=\"44.100387\"/>\n      </g>\n     </g>\n     <g id=\"text_6\">\n      <!-- 10 -->\n      <g transform=\"translate(15.579687 47.899606)scale(0.1 -0.1)\">\n       <use xlink:href=\"#DejaVuSans-49\"/>\n       <use x=\"63.623047\" xlink:href=\"#DejaVuSans-48\"/>\n      </g>\n     </g>\n    </g>\n   </g>\n   <g id=\"patch_3\">\n    <path d=\"M 35.304688 143.1 \nL 35.304688 7.2 \n\" style=\"fill:none;stroke:#000000;stroke-linecap:square;stroke-linejoin:miter;stroke-width:0.8;\"/>\n   </g>\n   <g id=\"patch_4\">\n    <path d=\"M 230.604688 143.1 \nL 230.604688 7.2 \n\" style=\"fill:none;stroke:#000000;stroke-linecap:square;stroke-linejoin:miter;stroke-width:0.8;\"/>\n   </g>\n   <g id=\"patch_5\">\n    <path d=\"M 35.304688 143.1 \nL 230.604688 143.1 \n\" style=\"fill:none;stroke:#000000;stroke-linecap:square;stroke-linejoin:miter;stroke-width:0.8;\"/>\n   </g>\n   <g id=\"patch_6\">\n    <path d=\"M 35.304688 7.2 \nL 230.604688 7.2 \n\" style=\"fill:none;stroke:#000000;stroke-linecap:square;stroke-linejoin:miter;stroke-width:0.8;\"/>\n   </g>\n  </g>\n </g>\n <defs>\n  <clipPath id=\"p7f29ae8417\">\n   <rect height=\"135.9\" width=\"195.3\" x=\"35.304688\" y=\"7.2\"/>\n  </clipPath>\n </defs>\n</svg>\n"
          },
          "metadata": {
            "tags": []
          }
        }
      ]
    },
    {
      "cell_type": "code",
      "metadata": {
        "id": "jO9su5_5cH95",
        "colab_type": "code",
        "colab": {}
      },
      "source": [
        "def data_iter(batch_size, features, labels):\n",
        "    num_examples = len(features)\n",
        "    indices = list(range(num_examples))\n",
        "    random.shuffle(indices)\n",
        "    for i in range(0, num_examples, batch_size):\n",
        "        j = nd.array(indices[i: min(i + batch_size, num_examples)])\n",
        "        yield features.take(j), labels.take(j)"
      ],
      "execution_count": 0,
      "outputs": []
    },
    {
      "cell_type": "code",
      "metadata": {
        "id": "PHhNGRVugN8X",
        "colab_type": "code",
        "outputId": "705f89ba-3253-4d80-a4dc-588b1cace922",
        "colab": {
          "base_uri": "https://localhost:8080/",
          "height": 280
        }
      },
      "source": [
        "batch_size = 10 \n",
        "for X, y in data_iter(batch_size, features, labels):\n",
        "    print(X, y)\n",
        "    break"
      ],
      "execution_count": 0,
      "outputs": [
        {
          "output_type": "stream",
          "text": [
            "\n",
            "[[-1.2064103  -0.5134857 ]\n",
            " [-0.09838036 -0.08484158]\n",
            " [ 0.69178855 -0.20333089]\n",
            " [ 0.3717077   0.9300072 ]\n",
            " [ 0.20530048 -1.9531958 ]\n",
            " [-0.42326602 -0.60970175]\n",
            " [-0.3075374   1.2168936 ]\n",
            " [ 0.7936089  -1.1430973 ]\n",
            " [-0.03442945 -0.11181278]\n",
            " [-0.08512726 -0.90995044]]\n",
            "<NDArray 10x2 @cpu(0)> \n",
            "[ 3.5305307  4.2787137  6.270785   1.7626053 11.2608595  5.427304\n",
            " -0.5507884  9.676742   4.515723   7.1249194]\n",
            "<NDArray 10 @cpu(0)>\n"
          ],
          "name": "stdout"
        }
      ]
    },
    {
      "cell_type": "code",
      "metadata": {
        "id": "3o2laxL1gY8I",
        "colab_type": "code",
        "outputId": "8f36dbac-c3bb-4a0a-bc82-fe2967fbaf7f",
        "colab": {
          "base_uri": "https://localhost:8080/",
          "height": 193
        }
      },
      "source": [
        "for i in range(0, 100, 10):\n",
        "    print(i)"
      ],
      "execution_count": 0,
      "outputs": [
        {
          "output_type": "stream",
          "text": [
            "0\n",
            "10\n",
            "20\n",
            "30\n",
            "40\n",
            "50\n",
            "60\n",
            "70\n",
            "80\n",
            "90\n"
          ],
          "name": "stdout"
        }
      ]
    },
    {
      "cell_type": "code",
      "metadata": {
        "id": "-PNohGjtD9RI",
        "colab_type": "code",
        "colab": {}
      },
      "source": [
        "w = nd.random.normal(scale=0.01, shape=(num_inputs, 1))\n",
        "b = nd.zeros(shape=(1, ))"
      ],
      "execution_count": 0,
      "outputs": []
    },
    {
      "cell_type": "code",
      "metadata": {
        "id": "EOKj9UMlEQ1P",
        "colab_type": "code",
        "colab": {}
      },
      "source": [
        "w.attach_grad()\n",
        "b.attach_grad()"
      ],
      "execution_count": 0,
      "outputs": []
    },
    {
      "cell_type": "code",
      "metadata": {
        "id": "rQUUgDZiEWjW",
        "colab_type": "code",
        "colab": {}
      },
      "source": [
        "def linreg(X, w, b):\n",
        "    return nd.dot(X, w) + b "
      ],
      "execution_count": 0,
      "outputs": []
    },
    {
      "cell_type": "code",
      "metadata": {
        "id": "wKCJrTQ3Efq9",
        "colab_type": "code",
        "colab": {}
      },
      "source": [
        "def squared_loss(y_hat, y):\n",
        "    return (y_hat - y.reshape(y_hat.shape)) ** 2 / 2 "
      ],
      "execution_count": 0,
      "outputs": []
    },
    {
      "cell_type": "code",
      "metadata": {
        "id": "sDGa_ew6E_EK",
        "colab_type": "code",
        "colab": {}
      },
      "source": [
        "def sgd(params, lr, batch_size):\n",
        "    for param in params:\n",
        "        param[:] = param - lr * param.grad / batch_size "
      ],
      "execution_count": 0,
      "outputs": []
    },
    {
      "cell_type": "code",
      "metadata": {
        "id": "LYKtEUigJ5F3",
        "colab_type": "code",
        "colab": {}
      },
      "source": [
        "lr = 0.03 \n",
        "num_epochs = 3 \n",
        "net = linreg \n",
        "loss = squared_loss "
      ],
      "execution_count": 0,
      "outputs": []
    },
    {
      "cell_type": "code",
      "metadata": {
        "id": "Itc333-oKyK2",
        "colab_type": "code",
        "outputId": "1575cdc0-10a6-4243-b615-61200ac32b31",
        "colab": {
          "base_uri": "https://localhost:8080/",
          "height": 70
        }
      },
      "source": [
        "for epoch in range(num_epochs):\n",
        "    for X , y in data_iter(batch_size, features, labels):\n",
        "        with autograd.record():\n",
        "            l = loss(net(X, w, b), y)\n",
        "        l.backward()\n",
        "        sgd([w, b], lr, batch_size)\n",
        "    train_l = loss(net(features, w, b), labels)\n",
        "    print('epoch %d, loss %f' % (epoch+1, train_l.mean().asnumpy()))"
      ],
      "execution_count": 0,
      "outputs": [
        {
          "output_type": "stream",
          "text": [
            "epoch 1, loss 0.040601\n",
            "epoch 2, loss 0.000153\n",
            "epoch 3, loss 0.000051\n"
          ],
          "name": "stdout"
        }
      ]
    },
    {
      "cell_type": "code",
      "metadata": {
        "id": "ePEArrHNLsq6",
        "colab_type": "code",
        "outputId": "861f842d-452f-4b15-9f09-96c75b7c9da3",
        "colab": {
          "base_uri": "https://localhost:8080/",
          "height": 87
        }
      },
      "source": [
        "true_w, w"
      ],
      "execution_count": 0,
      "outputs": [
        {
          "output_type": "execute_result",
          "data": {
            "text/plain": [
              "([2, -3.4], \n",
              " [[ 1.9993225]\n",
              "  [-3.3996203]]\n",
              " <NDArray 2x1 @cpu(0)>)"
            ]
          },
          "metadata": {
            "tags": []
          },
          "execution_count": 25
        }
      ]
    },
    {
      "cell_type": "code",
      "metadata": {
        "id": "ByYfsEBkM6jw",
        "colab_type": "code",
        "outputId": "849ddc7b-1b13-4220-8097-83d22016fec7",
        "colab": {
          "base_uri": "https://localhost:8080/",
          "height": 70
        }
      },
      "source": [
        "true_b, b"
      ],
      "execution_count": 0,
      "outputs": [
        {
          "output_type": "execute_result",
          "data": {
            "text/plain": [
              "(4.2, \n",
              " [4.1992807]\n",
              " <NDArray 1 @cpu(0)>)"
            ]
          },
          "metadata": {
            "tags": []
          },
          "execution_count": 26
        }
      ]
    },
    {
      "cell_type": "code",
      "metadata": {
        "id": "1CwqA3NLNraS",
        "colab_type": "code",
        "colab": {}
      },
      "source": [
        "from mxnet import autograd, nd \n",
        "\n",
        "num_inputs = 2 \n",
        "num_examples = 1000 \n",
        "true_w = [2, -3.4]\n",
        "true_b = 4.2 \n",
        "features = nd.random.normal(scale=1, shape=(num_examples, num_inputs))\n",
        "labels = true_w[0] * features[:, 0] + true_w[1] * features[:, 1] + true_b \n",
        "labels += nd.random.normal(scale=0.01, shape=labels.shape)\n",
        "\n",
        "# num_inputs = 2 \n",
        "# num_examples = 1000 \n",
        "# true_w = [2, -3.4]\n",
        "# true_b = 4.2 \n",
        "# features = nd.random.normal(scale=1, shape=(num_examples, num_inputs))\n",
        "# labels = true_w[0] * features[:, 0] + true_w[1] * features[:, 1] + true_b\n",
        "# labels += nd.random.normal(scale=0.01, shape=labels.shape)"
      ],
      "execution_count": 0,
      "outputs": []
    },
    {
      "cell_type": "code",
      "metadata": {
        "id": "CqhKc5EOOvsz",
        "colab_type": "code",
        "outputId": "dfe836d6-111a-4ee0-8022-af866bdf1560",
        "colab": {
          "base_uri": "https://localhost:8080/",
          "height": 87
        }
      },
      "source": [
        "features[:10, 0]"
      ],
      "execution_count": 0,
      "outputs": [
        {
          "output_type": "execute_result",
          "data": {
            "text/plain": [
              "\n",
              "[-0.34304565  0.5086958  -0.491778   -0.15748753 -0.17884982  0.46760127\n",
              "  0.7615899  -0.5143139  -0.11494298  1.1116904 ]\n",
              "<NDArray 10 @cpu(0)>"
            ]
          },
          "metadata": {
            "tags": []
          },
          "execution_count": 28
        }
      ]
    },
    {
      "cell_type": "code",
      "metadata": {
        "id": "16-iNNWQO6Mm",
        "colab_type": "code",
        "outputId": "294aa42a-f52d-4dd6-8d6b-23d79a60fbb0",
        "colab": {
          "base_uri": "https://localhost:8080/",
          "height": 105
        }
      },
      "source": [
        "\n",
        "features[:10, 1]"
      ],
      "execution_count": 0,
      "outputs": [
        {
          "output_type": "execute_result",
          "data": {
            "text/plain": [
              "\n",
              "[-4.0720204e-01  9.1511744e-01 -1.5560924e+00 -5.2664566e-01\n",
              "  4.3164727e-01  1.7287086e-01  9.9106313e-05  1.7198472e+00\n",
              "  1.5617702e+00  1.4935805e+00]\n",
              "<NDArray 10 @cpu(0)>"
            ]
          },
          "metadata": {
            "tags": []
          },
          "execution_count": 29
        }
      ]
    },
    {
      "cell_type": "code",
      "metadata": {
        "id": "h8ynSKipPEDi",
        "colab_type": "code",
        "outputId": "e449140a-c8c2-417a-ae04-12309db71640",
        "colab": {
          "base_uri": "https://localhost:8080/",
          "height": 87
        }
      },
      "source": [
        "labels[:10]"
      ],
      "execution_count": 0,
      "outputs": [
        {
          "output_type": "execute_result",
          "data": {
            "text/plain": [
              "\n",
              "[ 4.902419   2.1094513  8.48928    5.673833   2.384568   4.539225\n",
              "  5.7347293 -2.681284  -1.342022   1.3345029]\n",
              "<NDArray 10 @cpu(0)>"
            ]
          },
          "metadata": {
            "tags": []
          },
          "execution_count": 30
        }
      ]
    },
    {
      "cell_type": "code",
      "metadata": {
        "id": "JegnsTDaPwi_",
        "colab_type": "code",
        "colab": {}
      },
      "source": [
        "from mxnet.gluon import data as gdata\n",
        "\n",
        "batch_size = 10 \n",
        "dataset = gdata.ArrayDataset(features, labels)\n",
        "data_iter = gdata.DataLoader(dataset, batch_size, shuffle=True)"
      ],
      "execution_count": 0,
      "outputs": []
    },
    {
      "cell_type": "code",
      "metadata": {
        "id": "bksyH3gLSeUj",
        "colab_type": "code",
        "outputId": "7ab6181c-d25a-4339-d753-e32c5e0c395d",
        "colab": {
          "base_uri": "https://localhost:8080/",
          "height": 280
        }
      },
      "source": [
        "for X, y in data_iter:\n",
        "    print(X, y)\n",
        "    break"
      ],
      "execution_count": 0,
      "outputs": [
        {
          "output_type": "stream",
          "text": [
            "\n",
            "[[ 5.8620876e-01 -1.2303159e+00]\n",
            " [ 2.0478384e+00 -5.9704506e-01]\n",
            " [ 1.6750511e+00 -5.1154160e-01]\n",
            " [-9.5759124e-01 -1.6360582e-01]\n",
            " [-1.1594498e+00 -1.6610742e+00]\n",
            " [-4.0538169e-02 -1.1355679e-01]\n",
            " [ 3.7723605e-02  7.1895683e-01]\n",
            " [-3.6949554e-04 -6.8584454e-01]\n",
            " [ 1.0389107e+00 -1.6013620e+00]\n",
            " [-5.8955443e-01 -5.7735205e-01]]\n",
            "<NDArray 10x2 @cpu(0)> \n",
            "[ 9.5580845 10.314247   9.272762   2.8271055  7.521756   4.506869\n",
            "  1.8416282  6.552679  11.740247   4.978527 ]\n",
            "<NDArray 10 @cpu(0)>\n"
          ],
          "name": "stdout"
        }
      ]
    },
    {
      "cell_type": "code",
      "metadata": {
        "id": "W5mJXTkESqdw",
        "colab_type": "code",
        "colab": {}
      },
      "source": [
        "from mxnet.gluon import nn \n",
        "\n",
        "net = nn.Sequential()"
      ],
      "execution_count": 0,
      "outputs": []
    },
    {
      "cell_type": "code",
      "metadata": {
        "id": "CFxuTOe2S8tn",
        "colab_type": "code",
        "colab": {}
      },
      "source": [
        "net.add(nn.Dense(1))"
      ],
      "execution_count": 0,
      "outputs": []
    },
    {
      "cell_type": "code",
      "metadata": {
        "id": "Y_nvFCT2Ku5o",
        "colab_type": "code",
        "colab": {}
      },
      "source": [
        "from mxnet import init \n",
        "\n",
        "net.initialize(init.Normal(sigma=0.01))"
      ],
      "execution_count": 0,
      "outputs": []
    },
    {
      "cell_type": "code",
      "metadata": {
        "id": "aK4J2kHzLLWH",
        "colab_type": "code",
        "colab": {}
      },
      "source": [
        "from mxnet.gluon import loss as gloss \n",
        "\n",
        "loss = gloss.L2Loss()"
      ],
      "execution_count": 0,
      "outputs": []
    },
    {
      "cell_type": "code",
      "metadata": {
        "id": "EyY3TvlyLdYP",
        "colab_type": "code",
        "colab": {}
      },
      "source": [
        "from mxnet import gluon "
      ],
      "execution_count": 0,
      "outputs": []
    },
    {
      "cell_type": "code",
      "metadata": {
        "id": "PapwD4ItLi_B",
        "colab_type": "code",
        "colab": {}
      },
      "source": [
        "trainer = gluon.Trainer(net.collect_params(), 'sgd', {'learning_rate': 0.03})"
      ],
      "execution_count": 0,
      "outputs": []
    },
    {
      "cell_type": "code",
      "metadata": {
        "id": "iKUn3aEPL1Qe",
        "colab_type": "code",
        "outputId": "352b1fea-9a64-4916-8ef8-72fb3cdb1d8d",
        "colab": {
          "base_uri": "https://localhost:8080/",
          "height": 368
        }
      },
      "source": [
        "num_epochs = 20\n",
        "for epoch in range(1, num_epochs + 1):\n",
        "    for i, y in data_iter:\n",
        "        with autograd.record():\n",
        "            l = loss(net(X), y)\n",
        "        l.backward()\n",
        "        trainer.step(batch_size)\n",
        "    l = loss(net(features), labels)\n",
        "    print('epoch %d, loss: %f' % (epoch, l.mean().asnumpy()))"
      ],
      "execution_count": 0,
      "outputs": [
        {
          "output_type": "stream",
          "text": [
            "epoch 1, loss: 5.061691\n",
            "epoch 2, loss: 5.533369\n",
            "epoch 3, loss: 6.879493\n",
            "epoch 4, loss: 6.334496\n",
            "epoch 5, loss: 8.212176\n",
            "epoch 6, loss: 7.439948\n",
            "epoch 7, loss: 7.466348\n",
            "epoch 8, loss: 8.417274\n",
            "epoch 9, loss: 8.601858\n",
            "epoch 10, loss: 7.198522\n",
            "epoch 11, loss: 6.927907\n",
            "epoch 12, loss: 7.851274\n",
            "epoch 13, loss: 8.246639\n",
            "epoch 14, loss: 8.035029\n",
            "epoch 15, loss: 8.349236\n",
            "epoch 16, loss: 7.813134\n",
            "epoch 17, loss: 6.822441\n",
            "epoch 18, loss: 7.859071\n",
            "epoch 19, loss: 8.180382\n",
            "epoch 20, loss: 8.247910\n"
          ],
          "name": "stdout"
        }
      ]
    },
    {
      "cell_type": "code",
      "metadata": {
        "id": "GGt4a86YMm_d",
        "colab_type": "code",
        "outputId": "513b13f2-8b7f-481b-d526-b0aa821edc13",
        "colab": {
          "base_uri": "https://localhost:8080/",
          "height": 70
        }
      },
      "source": [
        "dense = net[0]\n",
        "true_w, dense.weight.data())"
      ],
      "execution_count": 0,
      "outputs": [
        {
          "output_type": "execute_result",
          "data": {
            "text/plain": [
              "([2, -3.4], \n",
              " [[0.03979441 0.11555748]]\n",
              " <NDArray 1x2 @cpu(0)>)"
            ]
          },
          "metadata": {
            "tags": []
          },
          "execution_count": 40
        }
      ]
    },
    {
      "cell_type": "code",
      "metadata": {
        "id": "oiyoGNsFOVTc",
        "colab_type": "code",
        "colab": {}
      },
      "source": [
        "!pip install d2lzh\n",
        "\n",
        "import d2lzh as d2l"
      ],
      "execution_count": 0,
      "outputs": []
    },
    {
      "cell_type": "code",
      "metadata": {
        "id": "MI8kL8h-Zfvn",
        "colab_type": "code",
        "colab": {}
      },
      "source": [
        "from mxnet.gluon import data as gdata"
      ],
      "execution_count": 0,
      "outputs": []
    },
    {
      "cell_type": "code",
      "metadata": {
        "id": "PtQZcvFPZumQ",
        "colab_type": "code",
        "colab": {}
      },
      "source": [
        "import sys \n",
        "import time \n",
        "%matplotlib inline "
      ],
      "execution_count": 0,
      "outputs": []
    },
    {
      "cell_type": "code",
      "metadata": {
        "id": "Te8yydx7qxGx",
        "colab_type": "code",
        "colab": {}
      },
      "source": [
        ""
      ],
      "execution_count": 0,
      "outputs": []
    }
  ]
}