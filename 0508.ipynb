{
  "nbformat": 4,
  "nbformat_minor": 0,
  "metadata": {
    "colab": {
      "name": "0508.ipynb",
      "provenance": [],
      "collapsed_sections": [],
      "include_colab_link": true
    },
    "kernelspec": {
      "name": "python3",
      "display_name": "Python 3"
    },
    "accelerator": "GPU"
  },
  "cells": [
    {
      "cell_type": "markdown",
      "metadata": {
        "id": "view-in-github",
        "colab_type": "text"
      },
      "source": [
        "<a href=\"https://colab.research.google.com/github/yananma/5_programs_per_day/blob/master/0508.ipynb\" target=\"_parent\"><img src=\"https://colab.research.google.com/assets/colab-badge.svg\" alt=\"Open In Colab\"/></a>"
      ]
    },
    {
      "cell_type": "markdown",
      "metadata": {
        "id": "OTsURR4Cl2RP",
        "colab_type": "text"
      },
      "source": [
        "## 3.1 线性回归"
      ]
    },
    {
      "cell_type": "code",
      "metadata": {
        "id": "3b0dyao_82z5",
        "colab_type": "code",
        "colab": {}
      },
      "source": [
        "# !pip install mxnet d2l"
      ],
      "execution_count": 0,
      "outputs": []
    },
    {
      "cell_type": "code",
      "metadata": {
        "id": "OBkyJNOxa9mk",
        "colab_type": "code",
        "colab": {}
      },
      "source": [
        "from mxnet import nd \n",
        "from time import time  \n",
        "\n",
        "a = nd.ones(shape=1000)\n",
        "b = nd.ones(shape=1000)"
      ],
      "execution_count": 0,
      "outputs": []
    },
    {
      "cell_type": "code",
      "metadata": {
        "id": "bB0vXC96gPGV",
        "colab_type": "code",
        "outputId": "fe3c4e4a-608a-4a8f-8916-1a0248f1afd1",
        "colab": {
          "base_uri": "https://localhost:8080/",
          "height": 34
        }
      },
      "source": [
        "start = time()\n",
        "c = nd.zeros(shape=1000)\n",
        "for i in range(1000):\n",
        "    c[i] = a[i] + b[i]\n",
        "time() - start "
      ],
      "execution_count": 3,
      "outputs": [
        {
          "output_type": "execute_result",
          "data": {
            "text/plain": [
              "0.24414825439453125"
            ]
          },
          "metadata": {
            "tags": []
          },
          "execution_count": 3
        }
      ]
    },
    {
      "cell_type": "code",
      "metadata": {
        "id": "ysubmB4Yu5sB",
        "colab_type": "code",
        "outputId": "5fae941a-e580-492a-a808-83e88890d3cd",
        "colab": {
          "base_uri": "https://localhost:8080/",
          "height": 34
        }
      },
      "source": [
        "start = time()\n",
        "d = a + b \n",
        "time() - start "
      ],
      "execution_count": 4,
      "outputs": [
        {
          "output_type": "execute_result",
          "data": {
            "text/plain": [
              "0.0006997585296630859"
            ]
          },
          "metadata": {
            "tags": []
          },
          "execution_count": 4
        }
      ]
    },
    {
      "cell_type": "code",
      "metadata": {
        "id": "cs-5OolSvO6n",
        "colab_type": "code",
        "outputId": "ee99ab74-0835-4180-d2fd-1f39f8b2d250",
        "colab": {
          "base_uri": "https://localhost:8080/",
          "height": 67
        }
      },
      "source": [
        "a = nd.ones(shape=3)\n",
        "b = 10 \n",
        "a + b "
      ],
      "execution_count": 5,
      "outputs": [
        {
          "output_type": "execute_result",
          "data": {
            "text/plain": [
              "\n",
              "[11. 11. 11.]\n",
              "<NDArray 3 @cpu(0)>"
            ]
          },
          "metadata": {
            "tags": []
          },
          "execution_count": 5
        }
      ]
    },
    {
      "cell_type": "code",
      "metadata": {
        "id": "3_8t4ajQvSQr",
        "colab_type": "code",
        "colab": {}
      },
      "source": [
        "import numpy as np \n",
        "\n",
        "a = np.ones(shape=1000)\n",
        "b = np.ones(shape=1000)"
      ],
      "execution_count": 0,
      "outputs": []
    },
    {
      "cell_type": "code",
      "metadata": {
        "id": "_Pqxc_sBJDjD",
        "colab_type": "code",
        "outputId": "5bbc371e-3f3f-4b69-8424-1bf84fe8072d",
        "colab": {
          "base_uri": "https://localhost:8080/",
          "height": 34
        }
      },
      "source": [
        "start = time()\n",
        "c = a + b \n",
        "time() - start "
      ],
      "execution_count": 7,
      "outputs": [
        {
          "output_type": "execute_result",
          "data": {
            "text/plain": [
              "0.0002562999725341797"
            ]
          },
          "metadata": {
            "tags": []
          },
          "execution_count": 7
        }
      ]
    },
    {
      "cell_type": "code",
      "metadata": {
        "id": "GaDj6tvXJEK3",
        "colab_type": "code",
        "outputId": "48e0f057-1264-4d47-c32b-923a88934c0b",
        "colab": {
          "base_uri": "https://localhost:8080/",
          "height": 34
        }
      },
      "source": [
        "start = time()\n",
        "d = np.zeros(shape=1000)\n",
        "for i in range(1000):\n",
        "    d[i] = a[i] + b[i]\n",
        "time() - start "
      ],
      "execution_count": 8,
      "outputs": [
        {
          "output_type": "execute_result",
          "data": {
            "text/plain": [
              "0.0014061927795410156"
            ]
          },
          "metadata": {
            "tags": []
          },
          "execution_count": 8
        }
      ]
    },
    {
      "cell_type": "markdown",
      "metadata": {
        "id": "YmPYzObf8dwL",
        "colab_type": "text"
      },
      "source": [
        "## 3.2 线性回归的从零开始实现"
      ]
    },
    {
      "cell_type": "code",
      "metadata": {
        "id": "8boOx9KZKwl8",
        "colab_type": "code",
        "colab": {}
      },
      "source": [
        "%matplotlib inline \n",
        "from IPython import display \n",
        "from matplotlib import pyplot as plt \n",
        "from mxnet import autograd, nd \n",
        "import random "
      ],
      "execution_count": 0,
      "outputs": []
    },
    {
      "cell_type": "code",
      "metadata": {
        "id": "u3ZY0qHlLWJR",
        "colab_type": "code",
        "colab": {}
      },
      "source": [
        "num_inputs = 2 \n",
        "num_examples = 1000 \n",
        "true_w = [2, -3.4]\n",
        "true_b = 4.2 \n",
        "features = nd.random.normal(scale=1, shape=(num_examples, num_inputs))\n",
        "labels = true_w[0] * features[:, 0] + true_w[1] * features[:, 1] + true_b \n",
        "labels += nd.random.normal(scale=0.01, shape=labels.shape)"
      ],
      "execution_count": 0,
      "outputs": []
    },
    {
      "cell_type": "code",
      "metadata": {
        "id": "I2EX2a7o_G5g",
        "colab_type": "code",
        "outputId": "7795704b-eb11-445a-d536-5dc916075a91",
        "colab": {
          "base_uri": "https://localhost:8080/",
          "height": 218
        }
      },
      "source": [
        "features[:10]"
      ],
      "execution_count": 11,
      "outputs": [
        {
          "output_type": "execute_result",
          "data": {
            "text/plain": [
              "\n",
              "[[ 2.2122064   0.7740038 ]\n",
              " [ 1.0434403   1.1839255 ]\n",
              " [ 1.8917114  -1.2347414 ]\n",
              " [-1.771029   -0.45138445]\n",
              " [ 0.57938355 -1.856082  ]\n",
              " [-1.9768796  -0.20801921]\n",
              " [ 0.2444218  -0.03716067]\n",
              " [-0.48774993 -0.02261727]\n",
              " [ 0.57461417  1.4661262 ]\n",
              " [ 0.6862904   0.35496104]]\n",
              "<NDArray 10x2 @cpu(0)>"
            ]
          },
          "metadata": {
            "tags": []
          },
          "execution_count": 11
        }
      ]
    },
    {
      "cell_type": "code",
      "metadata": {
        "id": "48wxNcJt_Lgd",
        "colab_type": "code",
        "outputId": "ed3a1b2b-5bbd-449b-f31e-9802ea9e2feb",
        "colab": {
          "base_uri": "https://localhost:8080/",
          "height": 84
        }
      },
      "source": [
        "labels[:10]"
      ],
      "execution_count": 12,
      "outputs": [
        {
          "output_type": "execute_result",
          "data": {
            "text/plain": [
              "\n",
              "[ 6.000587    2.2676215  12.192286    2.1933131  11.677933    0.94550216\n",
              "  4.813502    3.310762    0.36797315  4.3735065 ]\n",
              "<NDArray 10 @cpu(0)>"
            ]
          },
          "metadata": {
            "tags": []
          },
          "execution_count": 12
        }
      ]
    },
    {
      "cell_type": "code",
      "metadata": {
        "id": "8UjF4IPl_ZeN",
        "colab_type": "code",
        "outputId": "b0a930c3-2ae7-471f-c6e9-9c44c8b503c6",
        "colab": {
          "base_uri": "https://localhost:8080/",
          "height": 34
        }
      },
      "source": [
        "features.shape, labels.shape"
      ],
      "execution_count": 13,
      "outputs": [
        {
          "output_type": "execute_result",
          "data": {
            "text/plain": [
              "((1000, 2), (1000,))"
            ]
          },
          "metadata": {
            "tags": []
          },
          "execution_count": 13
        }
      ]
    },
    {
      "cell_type": "code",
      "metadata": {
        "id": "KYBdQ6fO_jI8",
        "colab_type": "code",
        "colab": {}
      },
      "source": [
        "def use_svg_display():\n",
        "    display.set_matplotlib_formats('svg')"
      ],
      "execution_count": 0,
      "outputs": []
    },
    {
      "cell_type": "code",
      "metadata": {
        "id": "ml-0JdMVAK8D",
        "colab_type": "code",
        "colab": {}
      },
      "source": [
        "def set_figsize(figsize=(5, 3.5)):\n",
        "    use_svg_display()\n",
        "    plt.rcParams['figure.figsize'] = figsize "
      ],
      "execution_count": 0,
      "outputs": []
    },
    {
      "cell_type": "code",
      "metadata": {
        "id": "wmF4Gh3ZEvAb",
        "colab_type": "code",
        "outputId": "30490f50-fc84-46a8-bbe8-aeaaded50a08",
        "colab": {
          "base_uri": "https://localhost:8080/",
          "height": 315
        }
      },
      "source": [
        "set_figsize()\n",
        "plt.scatter(features[:, 1].asnumpy(), labels.asnumpy(), 1);"
      ],
      "execution_count": 16,
      "outputs": [
        {
          "output_type": "display_data",
          "data": {
            "text/plain": [
              "<Figure size 360x252 with 1 Axes>"
            ],
            "image/svg+xml": "<?xml version=\"1.0\" encoding=\"utf-8\" standalone=\"no\"?>\n<!DOCTYPE svg PUBLIC \"-//W3C//DTD SVG 1.1//EN\"\n  \"http://www.w3.org/Graphics/SVG/1.1/DTD/svg11.dtd\">\n<!-- Created with matplotlib (https://matplotlib.org/) -->\n<svg height=\"221.338125pt\" version=\"1.1\" viewBox=\"0 0 321.504687 221.338125\" width=\"321.504687pt\" xmlns=\"http://www.w3.org/2000/svg\" xmlns:xlink=\"http://www.w3.org/1999/xlink\">\n <defs>\n  <style type=\"text/css\">\n*{stroke-linecap:butt;stroke-linejoin:round;}\n  </style>\n </defs>\n <g id=\"figure_1\">\n  <g id=\"patch_1\">\n   <path d=\"M 0 221.338125 \nL 321.504687 221.338125 \nL 321.504687 0 \nL 0 0 \nz\n\" style=\"fill:none;\"/>\n  </g>\n  <g id=\"axes_1\">\n   <g id=\"patch_2\">\n    <path d=\"M 35.304688 197.46 \nL 314.304688 197.46 \nL 314.304688 7.2 \nL 35.304688 7.2 \nz\n\" style=\"fill:#ffffff;\"/>\n   </g>\n   <g id=\"PathCollection_1\">\n    <defs>\n     <path d=\"M 0 0.5 \nC 0.132602 0.5 0.25979 0.447317 0.353553 0.353553 \nC 0.447317 0.25979 0.5 0.132602 0.5 0 \nC 0.5 -0.132602 0.447317 -0.25979 0.353553 -0.353553 \nC 0.25979 -0.447317 0.132602 -0.5 0 -0.5 \nC -0.132602 -0.5 -0.25979 -0.447317 -0.353553 -0.353553 \nC -0.447317 -0.25979 -0.5 -0.132602 -0.5 0 \nC -0.5 0.132602 -0.447317 0.25979 -0.353553 0.353553 \nC -0.25979 0.447317 -0.132602 0.5 0 0.5 \nz\n\" id=\"me319d538ff\" style=\"stroke:#1f77b4;\"/>\n    </defs>\n    <g clip-path=\"url(#p0b3d3fba11)\">\n     <use style=\"fill:#1f77b4;stroke:#1f77b4;\" x=\"202.176154\" xlink:href=\"#me319d538ff\" y=\"83.116746\"/>\n     <use style=\"fill:#1f77b4;stroke:#1f77b4;\" x=\"217.686637\" xlink:href=\"#me319d538ff\" y=\"105.759953\"/>\n     <use style=\"fill:#1f77b4;stroke:#1f77b4;\" x=\"126.169912\" xlink:href=\"#me319d538ff\" y=\"45.559498\"/>\n     <use style=\"fill:#1f77b4;stroke:#1f77b4;\" x=\"155.810316\" xlink:href=\"#me319d538ff\" y=\"106.210689\"/>\n     <use style=\"fill:#1f77b4;stroke:#1f77b4;\" x=\"102.659833\" xlink:href=\"#me319d538ff\" y=\"48.679429\"/>\n     <use style=\"fill:#1f77b4;stroke:#1f77b4;\" x=\"165.01869\" xlink:href=\"#me319d538ff\" y=\"113.779589\"/>\n     <use style=\"fill:#1f77b4;stroke:#1f77b4;\" x=\"171.48358\" xlink:href=\"#me319d538ff\" y=\"90.317299\"/>\n     <use style=\"fill:#1f77b4;stroke:#1f77b4;\" x=\"172.033868\" xlink:href=\"#me319d538ff\" y=\"99.432532\"/>\n     <use style=\"fill:#1f77b4;stroke:#1f77b4;\" x=\"228.364454\" xlink:href=\"#me319d538ff\" y=\"117.282731\"/>\n     <use style=\"fill:#1f77b4;stroke:#1f77b4;\" x=\"186.320552\" xlink:href=\"#me319d538ff\" y=\"92.986197\"/>\n     <use style=\"fill:#1f77b4;stroke:#1f77b4;\" x=\"177.43678\" xlink:href=\"#me319d538ff\" y=\"83.559213\"/>\n     <use style=\"fill:#1f77b4;stroke:#1f77b4;\" x=\"143.539098\" xlink:href=\"#me319d538ff\" y=\"89.845805\"/>\n     <use style=\"fill:#1f77b4;stroke:#1f77b4;\" x=\"200.956607\" xlink:href=\"#me319d538ff\" y=\"118.819\"/>\n     <use style=\"fill:#1f77b4;stroke:#1f77b4;\" x=\"132.286319\" xlink:href=\"#me319d538ff\" y=\"89.809011\"/>\n     <use style=\"fill:#1f77b4;stroke:#1f77b4;\" x=\"122.64558\" xlink:href=\"#me319d538ff\" y=\"79.256452\"/>\n     <use style=\"fill:#1f77b4;stroke:#1f77b4;\" x=\"153.057341\" xlink:href=\"#me319d538ff\" y=\"101.066385\"/>\n     <use style=\"fill:#1f77b4;stroke:#1f77b4;\" x=\"206.756797\" xlink:href=\"#me319d538ff\" y=\"97.191354\"/>\n     <use style=\"fill:#1f77b4;stroke:#1f77b4;\" x=\"218.448325\" xlink:href=\"#me319d538ff\" y=\"126.173284\"/>\n     <use style=\"fill:#1f77b4;stroke:#1f77b4;\" x=\"150.846853\" xlink:href=\"#me319d538ff\" y=\"93.756595\"/>\n     <use style=\"fill:#1f77b4;stroke:#1f77b4;\" x=\"208.07896\" xlink:href=\"#me319d538ff\" y=\"108.823252\"/>\n     <use style=\"fill:#1f77b4;stroke:#1f77b4;\" x=\"153.304121\" xlink:href=\"#me319d538ff\" y=\"100.567714\"/>\n     <use style=\"fill:#1f77b4;stroke:#1f77b4;\" x=\"183.7229\" xlink:href=\"#me319d538ff\" y=\"75.457244\"/>\n     <use style=\"fill:#1f77b4;stroke:#1f77b4;\" x=\"209.583104\" xlink:href=\"#me319d538ff\" y=\"107.219078\"/>\n     <use style=\"fill:#1f77b4;stroke:#1f77b4;\" x=\"101.410888\" xlink:href=\"#me319d538ff\" y=\"61.483691\"/>\n     <use style=\"fill:#1f77b4;stroke:#1f77b4;\" x=\"155.680582\" xlink:href=\"#me319d538ff\" y=\"76.831658\"/>\n     <use style=\"fill:#1f77b4;stroke:#1f77b4;\" x=\"123.691823\" xlink:href=\"#me319d538ff\" y=\"63.320174\"/>\n     <use style=\"fill:#1f77b4;stroke:#1f77b4;\" x=\"227.883917\" xlink:href=\"#me319d538ff\" y=\"119.488698\"/>\n     <use style=\"fill:#1f77b4;stroke:#1f77b4;\" x=\"191.013143\" xlink:href=\"#me319d538ff\" y=\"101.008111\"/>\n     <use style=\"fill:#1f77b4;stroke:#1f77b4;\" x=\"134.226194\" xlink:href=\"#me319d538ff\" y=\"61.112403\"/>\n     <use style=\"fill:#1f77b4;stroke:#1f77b4;\" x=\"160.831413\" xlink:href=\"#me319d538ff\" y=\"88.31299\"/>\n     <use style=\"fill:#1f77b4;stroke:#1f77b4;\" x=\"186.380782\" xlink:href=\"#me319d538ff\" y=\"103.636733\"/>\n     <use style=\"fill:#1f77b4;stroke:#1f77b4;\" x=\"184.483103\" xlink:href=\"#me319d538ff\" y=\"91.282605\"/>\n     <use style=\"fill:#1f77b4;stroke:#1f77b4;\" x=\"165.150083\" xlink:href=\"#me319d538ff\" y=\"94.914544\"/>\n     <use style=\"fill:#1f77b4;stroke:#1f77b4;\" x=\"222.285683\" xlink:href=\"#me319d538ff\" y=\"125.963718\"/>\n     <use style=\"fill:#1f77b4;stroke:#1f77b4;\" x=\"218.07671\" xlink:href=\"#me319d538ff\" y=\"110.885763\"/>\n     <use style=\"fill:#1f77b4;stroke:#1f77b4;\" x=\"182.754321\" xlink:href=\"#me319d538ff\" y=\"120.415062\"/>\n     <use style=\"fill:#1f77b4;stroke:#1f77b4;\" x=\"161.007252\" xlink:href=\"#me319d538ff\" y=\"90.845623\"/>\n     <use style=\"fill:#1f77b4;stroke:#1f77b4;\" x=\"196.151713\" xlink:href=\"#me319d538ff\" y=\"106.310856\"/>\n     <use style=\"fill:#1f77b4;stroke:#1f77b4;\" x=\"97.466078\" xlink:href=\"#me319d538ff\" y=\"67.320942\"/>\n     <use style=\"fill:#1f77b4;stroke:#1f77b4;\" x=\"197.083335\" xlink:href=\"#me319d538ff\" y=\"100.005077\"/>\n     <use style=\"fill:#1f77b4;stroke:#1f77b4;\" x=\"179.824318\" xlink:href=\"#me319d538ff\" y=\"105.185233\"/>\n     <use style=\"fill:#1f77b4;stroke:#1f77b4;\" x=\"180.391522\" xlink:href=\"#me319d538ff\" y=\"93.732296\"/>\n     <use style=\"fill:#1f77b4;stroke:#1f77b4;\" x=\"169.108626\" xlink:href=\"#me319d538ff\" y=\"70.167076\"/>\n     <use style=\"fill:#1f77b4;stroke:#1f77b4;\" x=\"130.935128\" xlink:href=\"#me319d538ff\" y=\"88.202915\"/>\n     <use style=\"fill:#1f77b4;stroke:#1f77b4;\" x=\"212.264916\" xlink:href=\"#me319d538ff\" y=\"125.653036\"/>\n     <use style=\"fill:#1f77b4;stroke:#1f77b4;\" x=\"198.550163\" xlink:href=\"#me319d538ff\" y=\"111.6746\"/>\n     <use style=\"fill:#1f77b4;stroke:#1f77b4;\" x=\"156.8248\" xlink:href=\"#me319d538ff\" y=\"95.539985\"/>\n     <use style=\"fill:#1f77b4;stroke:#1f77b4;\" x=\"116.982334\" xlink:href=\"#me319d538ff\" y=\"71.442806\"/>\n     <use style=\"fill:#1f77b4;stroke:#1f77b4;\" x=\"148.366985\" xlink:href=\"#me319d538ff\" y=\"73.974221\"/>\n     <use style=\"fill:#1f77b4;stroke:#1f77b4;\" x=\"194.592601\" xlink:href=\"#me319d538ff\" y=\"105.068421\"/>\n     <use style=\"fill:#1f77b4;stroke:#1f77b4;\" x=\"273.189941\" xlink:href=\"#me319d538ff\" y=\"159.716982\"/>\n     <use style=\"fill:#1f77b4;stroke:#1f77b4;\" x=\"245.286311\" xlink:href=\"#me319d538ff\" y=\"132.348327\"/>\n     <use style=\"fill:#1f77b4;stroke:#1f77b4;\" x=\"134.449\" xlink:href=\"#me319d538ff\" y=\"91.74653\"/>\n     <use style=\"fill:#1f77b4;stroke:#1f77b4;\" x=\"194.887243\" xlink:href=\"#me319d538ff\" y=\"105.052721\"/>\n     <use style=\"fill:#1f77b4;stroke:#1f77b4;\" x=\"214.602445\" xlink:href=\"#me319d538ff\" y=\"117.643353\"/>\n     <use style=\"fill:#1f77b4;stroke:#1f77b4;\" x=\"139.543907\" xlink:href=\"#me319d538ff\" y=\"83.21229\"/>\n     <use style=\"fill:#1f77b4;stroke:#1f77b4;\" x=\"209.153501\" xlink:href=\"#me319d538ff\" y=\"96.0933\"/>\n     <use style=\"fill:#1f77b4;stroke:#1f77b4;\" x=\"166.892227\" xlink:href=\"#me319d538ff\" y=\"89.65044\"/>\n     <use style=\"fill:#1f77b4;stroke:#1f77b4;\" x=\"205.694602\" xlink:href=\"#me319d538ff\" y=\"117.754952\"/>\n     <use style=\"fill:#1f77b4;stroke:#1f77b4;\" x=\"165.264037\" xlink:href=\"#me319d538ff\" y=\"84.29139\"/>\n     <use style=\"fill:#1f77b4;stroke:#1f77b4;\" x=\"200.114033\" xlink:href=\"#me319d538ff\" y=\"98.188079\"/>\n     <use style=\"fill:#1f77b4;stroke:#1f77b4;\" x=\"186.163251\" xlink:href=\"#me319d538ff\" y=\"108.977612\"/>\n     <use style=\"fill:#1f77b4;stroke:#1f77b4;\" x=\"144.824906\" xlink:href=\"#me319d538ff\" y=\"60.599817\"/>\n     <use style=\"fill:#1f77b4;stroke:#1f77b4;\" x=\"197.180683\" xlink:href=\"#me319d538ff\" y=\"123.012806\"/>\n     <use style=\"fill:#1f77b4;stroke:#1f77b4;\" x=\"106.012135\" xlink:href=\"#me319d538ff\" y=\"65.547716\"/>\n     <use style=\"fill:#1f77b4;stroke:#1f77b4;\" x=\"197.516547\" xlink:href=\"#me319d538ff\" y=\"118.581116\"/>\n     <use style=\"fill:#1f77b4;stroke:#1f77b4;\" x=\"167.557337\" xlink:href=\"#me319d538ff\" y=\"102.110041\"/>\n     <use style=\"fill:#1f77b4;stroke:#1f77b4;\" x=\"216.726835\" xlink:href=\"#me319d538ff\" y=\"108.463336\"/>\n     <use style=\"fill:#1f77b4;stroke:#1f77b4;\" x=\"172.722804\" xlink:href=\"#me319d538ff\" y=\"70.117541\"/>\n     <use style=\"fill:#1f77b4;stroke:#1f77b4;\" x=\"195.049586\" xlink:href=\"#me319d538ff\" y=\"74.491556\"/>\n     <use style=\"fill:#1f77b4;stroke:#1f77b4;\" x=\"178.575492\" xlink:href=\"#me319d538ff\" y=\"105.715872\"/>\n     <use style=\"fill:#1f77b4;stroke:#1f77b4;\" x=\"160.908744\" xlink:href=\"#me319d538ff\" y=\"118.888625\"/>\n     <use style=\"fill:#1f77b4;stroke:#1f77b4;\" x=\"166.849686\" xlink:href=\"#me319d538ff\" y=\"113.87693\"/>\n     <use style=\"fill:#1f77b4;stroke:#1f77b4;\" x=\"172.261996\" xlink:href=\"#me319d538ff\" y=\"105.50789\"/>\n     <use style=\"fill:#1f77b4;stroke:#1f77b4;\" x=\"146.077194\" xlink:href=\"#me319d538ff\" y=\"62.973454\"/>\n     <use style=\"fill:#1f77b4;stroke:#1f77b4;\" x=\"187.760995\" xlink:href=\"#me319d538ff\" y=\"99.186107\"/>\n     <use style=\"fill:#1f77b4;stroke:#1f77b4;\" x=\"89.076291\" xlink:href=\"#me319d538ff\" y=\"60.847306\"/>\n     <use style=\"fill:#1f77b4;stroke:#1f77b4;\" x=\"225.216929\" xlink:href=\"#me319d538ff\" y=\"124.32254\"/>\n     <use style=\"fill:#1f77b4;stroke:#1f77b4;\" x=\"252.934334\" xlink:href=\"#me319d538ff\" y=\"120.007605\"/>\n     <use style=\"fill:#1f77b4;stroke:#1f77b4;\" x=\"135.75407\" xlink:href=\"#me319d538ff\" y=\"55.464765\"/>\n     <use style=\"fill:#1f77b4;stroke:#1f77b4;\" x=\"202.988615\" xlink:href=\"#me319d538ff\" y=\"113.267413\"/>\n     <use style=\"fill:#1f77b4;stroke:#1f77b4;\" x=\"115.750236\" xlink:href=\"#me319d538ff\" y=\"62.749144\"/>\n     <use style=\"fill:#1f77b4;stroke:#1f77b4;\" x=\"112.268742\" xlink:href=\"#me319d538ff\" y=\"76.664603\"/>\n     <use style=\"fill:#1f77b4;stroke:#1f77b4;\" x=\"98.621839\" xlink:href=\"#me319d538ff\" y=\"37.611944\"/>\n     <use style=\"fill:#1f77b4;stroke:#1f77b4;\" x=\"106.762091\" xlink:href=\"#me319d538ff\" y=\"60.146461\"/>\n     <use style=\"fill:#1f77b4;stroke:#1f77b4;\" x=\"214.739446\" xlink:href=\"#me319d538ff\" y=\"100.618125\"/>\n     <use style=\"fill:#1f77b4;stroke:#1f77b4;\" x=\"120.668691\" xlink:href=\"#me319d538ff\" y=\"64.974454\"/>\n     <use style=\"fill:#1f77b4;stroke:#1f77b4;\" x=\"173.008918\" xlink:href=\"#me319d538ff\" y=\"99.19973\"/>\n     <use style=\"fill:#1f77b4;stroke:#1f77b4;\" x=\"232.65673\" xlink:href=\"#me319d538ff\" y=\"118.960373\"/>\n     <use style=\"fill:#1f77b4;stroke:#1f77b4;\" x=\"149.799173\" xlink:href=\"#me319d538ff\" y=\"82.821716\"/>\n     <use style=\"fill:#1f77b4;stroke:#1f77b4;\" x=\"220.549882\" xlink:href=\"#me319d538ff\" y=\"144.403689\"/>\n     <use style=\"fill:#1f77b4;stroke:#1f77b4;\" x=\"211.673224\" xlink:href=\"#me319d538ff\" y=\"105.16187\"/>\n     <use style=\"fill:#1f77b4;stroke:#1f77b4;\" x=\"191.284967\" xlink:href=\"#me319d538ff\" y=\"97.017939\"/>\n     <use style=\"fill:#1f77b4;stroke:#1f77b4;\" x=\"227.236231\" xlink:href=\"#me319d538ff\" y=\"141.642993\"/>\n     <use style=\"fill:#1f77b4;stroke:#1f77b4;\" x=\"144.218073\" xlink:href=\"#me319d538ff\" y=\"85.788253\"/>\n     <use style=\"fill:#1f77b4;stroke:#1f77b4;\" x=\"147.674536\" xlink:href=\"#me319d538ff\" y=\"70.538514\"/>\n     <use style=\"fill:#1f77b4;stroke:#1f77b4;\" x=\"167.171497\" xlink:href=\"#me319d538ff\" y=\"57.297423\"/>\n     <use style=\"fill:#1f77b4;stroke:#1f77b4;\" x=\"241.519061\" xlink:href=\"#me319d538ff\" y=\"139.514979\"/>\n     <use style=\"fill:#1f77b4;stroke:#1f77b4;\" x=\"128.298153\" xlink:href=\"#me319d538ff\" y=\"95.362522\"/>\n     <use style=\"fill:#1f77b4;stroke:#1f77b4;\" x=\"169.665281\" xlink:href=\"#me319d538ff\" y=\"102.94304\"/>\n     <use style=\"fill:#1f77b4;stroke:#1f77b4;\" x=\"189.080548\" xlink:href=\"#me319d538ff\" y=\"93.090262\"/>\n     <use style=\"fill:#1f77b4;stroke:#1f77b4;\" x=\"223.577375\" xlink:href=\"#me319d538ff\" y=\"129.04918\"/>\n     <use style=\"fill:#1f77b4;stroke:#1f77b4;\" x=\"201.600615\" xlink:href=\"#me319d538ff\" y=\"121.732127\"/>\n     <use style=\"fill:#1f77b4;stroke:#1f77b4;\" x=\"166.870663\" xlink:href=\"#me319d538ff\" y=\"111.303281\"/>\n     <use style=\"fill:#1f77b4;stroke:#1f77b4;\" x=\"195.994399\" xlink:href=\"#me319d538ff\" y=\"87.338353\"/>\n     <use style=\"fill:#1f77b4;stroke:#1f77b4;\" x=\"184.897535\" xlink:href=\"#me319d538ff\" y=\"113.652109\"/>\n     <use style=\"fill:#1f77b4;stroke:#1f77b4;\" x=\"127.450282\" xlink:href=\"#me319d538ff\" y=\"51.138674\"/>\n     <use style=\"fill:#1f77b4;stroke:#1f77b4;\" x=\"128.468573\" xlink:href=\"#me319d538ff\" y=\"73.698919\"/>\n     <use style=\"fill:#1f77b4;stroke:#1f77b4;\" x=\"216.611707\" xlink:href=\"#me319d538ff\" y=\"120.039714\"/>\n     <use style=\"fill:#1f77b4;stroke:#1f77b4;\" x=\"166.859435\" xlink:href=\"#me319d538ff\" y=\"69.730577\"/>\n     <use style=\"fill:#1f77b4;stroke:#1f77b4;\" x=\"224.397921\" xlink:href=\"#me319d538ff\" y=\"130.810485\"/>\n     <use style=\"fill:#1f77b4;stroke:#1f77b4;\" x=\"199.497876\" xlink:href=\"#me319d538ff\" y=\"88.490029\"/>\n     <use style=\"fill:#1f77b4;stroke:#1f77b4;\" x=\"250.907541\" xlink:href=\"#me319d538ff\" y=\"147.794254\"/>\n     <use style=\"fill:#1f77b4;stroke:#1f77b4;\" x=\"211.325277\" xlink:href=\"#me319d538ff\" y=\"110.038029\"/>\n     <use style=\"fill:#1f77b4;stroke:#1f77b4;\" x=\"142.283216\" xlink:href=\"#me319d538ff\" y=\"66.890933\"/>\n     <use style=\"fill:#1f77b4;stroke:#1f77b4;\" x=\"197.454249\" xlink:href=\"#me319d538ff\" y=\"117.002163\"/>\n     <use style=\"fill:#1f77b4;stroke:#1f77b4;\" x=\"182.659502\" xlink:href=\"#me319d538ff\" y=\"84.48592\"/>\n     <use style=\"fill:#1f77b4;stroke:#1f77b4;\" x=\"120.967036\" xlink:href=\"#me319d538ff\" y=\"100.056026\"/>\n     <use style=\"fill:#1f77b4;stroke:#1f77b4;\" x=\"162.166868\" xlink:href=\"#me319d538ff\" y=\"86.481934\"/>\n     <use style=\"fill:#1f77b4;stroke:#1f77b4;\" x=\"130.720536\" xlink:href=\"#me319d538ff\" y=\"59.484253\"/>\n     <use style=\"fill:#1f77b4;stroke:#1f77b4;\" x=\"167.872764\" xlink:href=\"#me319d538ff\" y=\"78.572212\"/>\n     <use style=\"fill:#1f77b4;stroke:#1f77b4;\" x=\"219.776782\" xlink:href=\"#me319d538ff\" y=\"113.436321\"/>\n     <use style=\"fill:#1f77b4;stroke:#1f77b4;\" x=\"130.305922\" xlink:href=\"#me319d538ff\" y=\"67.860717\"/>\n     <use style=\"fill:#1f77b4;stroke:#1f77b4;\" x=\"200.195089\" xlink:href=\"#me319d538ff\" y=\"110.875119\"/>\n     <use style=\"fill:#1f77b4;stroke:#1f77b4;\" x=\"167.56941\" xlink:href=\"#me319d538ff\" y=\"93.275874\"/>\n     <use style=\"fill:#1f77b4;stroke:#1f77b4;\" x=\"204.696262\" xlink:href=\"#me319d538ff\" y=\"110.751317\"/>\n     <use style=\"fill:#1f77b4;stroke:#1f77b4;\" x=\"202.158322\" xlink:href=\"#me319d538ff\" y=\"125.481128\"/>\n     <use style=\"fill:#1f77b4;stroke:#1f77b4;\" x=\"155.171016\" xlink:href=\"#me319d538ff\" y=\"74.607069\"/>\n     <use style=\"fill:#1f77b4;stroke:#1f77b4;\" x=\"247.837251\" xlink:href=\"#me319d538ff\" y=\"130.00278\"/>\n     <use style=\"fill:#1f77b4;stroke:#1f77b4;\" x=\"159.339902\" xlink:href=\"#me319d538ff\" y=\"82.757239\"/>\n     <use style=\"fill:#1f77b4;stroke:#1f77b4;\" x=\"159.213533\" xlink:href=\"#me319d538ff\" y=\"85.96406\"/>\n     <use style=\"fill:#1f77b4;stroke:#1f77b4;\" x=\"117.781902\" xlink:href=\"#me319d538ff\" y=\"48.844219\"/>\n     <use style=\"fill:#1f77b4;stroke:#1f77b4;\" x=\"159.884039\" xlink:href=\"#me319d538ff\" y=\"85.327377\"/>\n     <use style=\"fill:#1f77b4;stroke:#1f77b4;\" x=\"164.338063\" xlink:href=\"#me319d538ff\" y=\"91.368971\"/>\n     <use style=\"fill:#1f77b4;stroke:#1f77b4;\" x=\"179.006922\" xlink:href=\"#me319d538ff\" y=\"111.665358\"/>\n     <use style=\"fill:#1f77b4;stroke:#1f77b4;\" x=\"200.520012\" xlink:href=\"#me319d538ff\" y=\"100.454484\"/>\n     <use style=\"fill:#1f77b4;stroke:#1f77b4;\" x=\"108.324441\" xlink:href=\"#me319d538ff\" y=\"45.668245\"/>\n     <use style=\"fill:#1f77b4;stroke:#1f77b4;\" x=\"118.116471\" xlink:href=\"#me319d538ff\" y=\"69.745415\"/>\n     <use style=\"fill:#1f77b4;stroke:#1f77b4;\" x=\"119.450053\" xlink:href=\"#me319d538ff\" y=\"81.053736\"/>\n     <use style=\"fill:#1f77b4;stroke:#1f77b4;\" x=\"125.908482\" xlink:href=\"#me319d538ff\" y=\"85.789488\"/>\n     <use style=\"fill:#1f77b4;stroke:#1f77b4;\" x=\"124.070447\" xlink:href=\"#me319d538ff\" y=\"47.464095\"/>\n     <use style=\"fill:#1f77b4;stroke:#1f77b4;\" x=\"184.26144\" xlink:href=\"#me319d538ff\" y=\"106.543889\"/>\n     <use style=\"fill:#1f77b4;stroke:#1f77b4;\" x=\"48.054315\" xlink:href=\"#me319d538ff\" y=\"44.035461\"/>\n     <use style=\"fill:#1f77b4;stroke:#1f77b4;\" x=\"161.204395\" xlink:href=\"#me319d538ff\" y=\"100.354787\"/>\n     <use style=\"fill:#1f77b4;stroke:#1f77b4;\" x=\"154.595131\" xlink:href=\"#me319d538ff\" y=\"103.606602\"/>\n     <use style=\"fill:#1f77b4;stroke:#1f77b4;\" x=\"215.870655\" xlink:href=\"#me319d538ff\" y=\"132.960884\"/>\n     <use style=\"fill:#1f77b4;stroke:#1f77b4;\" x=\"142.228119\" xlink:href=\"#me319d538ff\" y=\"80.628205\"/>\n     <use style=\"fill:#1f77b4;stroke:#1f77b4;\" x=\"104.303763\" xlink:href=\"#me319d538ff\" y=\"49.885415\"/>\n     <use style=\"fill:#1f77b4;stroke:#1f77b4;\" x=\"163.014091\" xlink:href=\"#me319d538ff\" y=\"68.065577\"/>\n     <use style=\"fill:#1f77b4;stroke:#1f77b4;\" x=\"131.168502\" xlink:href=\"#me319d538ff\" y=\"61.15502\"/>\n     <use style=\"fill:#1f77b4;stroke:#1f77b4;\" x=\"190.951206\" xlink:href=\"#me319d538ff\" y=\"90.063372\"/>\n     <use style=\"fill:#1f77b4;stroke:#1f77b4;\" x=\"236.897561\" xlink:href=\"#me319d538ff\" y=\"123.821636\"/>\n     <use style=\"fill:#1f77b4;stroke:#1f77b4;\" x=\"159.358086\" xlink:href=\"#me319d538ff\" y=\"92.916236\"/>\n     <use style=\"fill:#1f77b4;stroke:#1f77b4;\" x=\"137.144565\" xlink:href=\"#me319d538ff\" y=\"84.97666\"/>\n     <use style=\"fill:#1f77b4;stroke:#1f77b4;\" x=\"126.133867\" xlink:href=\"#me319d538ff\" y=\"76.355828\"/>\n     <use style=\"fill:#1f77b4;stroke:#1f77b4;\" x=\"192.734896\" xlink:href=\"#me319d538ff\" y=\"101.806965\"/>\n     <use style=\"fill:#1f77b4;stroke:#1f77b4;\" x=\"173.990176\" xlink:href=\"#me319d538ff\" y=\"111.238935\"/>\n     <use style=\"fill:#1f77b4;stroke:#1f77b4;\" x=\"176.659936\" xlink:href=\"#me319d538ff\" y=\"100.125949\"/>\n     <use style=\"fill:#1f77b4;stroke:#1f77b4;\" x=\"139.262371\" xlink:href=\"#me319d538ff\" y=\"82.425455\"/>\n     <use style=\"fill:#1f77b4;stroke:#1f77b4;\" x=\"147.156202\" xlink:href=\"#me319d538ff\" y=\"97.923991\"/>\n     <use style=\"fill:#1f77b4;stroke:#1f77b4;\" x=\"192.098107\" xlink:href=\"#me319d538ff\" y=\"129.530331\"/>\n     <use style=\"fill:#1f77b4;stroke:#1f77b4;\" x=\"201.75499\" xlink:href=\"#me319d538ff\" y=\"106.935912\"/>\n     <use style=\"fill:#1f77b4;stroke:#1f77b4;\" x=\"190.591833\" xlink:href=\"#me319d538ff\" y=\"122.71142\"/>\n     <use style=\"fill:#1f77b4;stroke:#1f77b4;\" x=\"136.173635\" xlink:href=\"#me319d538ff\" y=\"84.635395\"/>\n     <use style=\"fill:#1f77b4;stroke:#1f77b4;\" x=\"188.726939\" xlink:href=\"#me319d538ff\" y=\"94.405536\"/>\n     <use style=\"fill:#1f77b4;stroke:#1f77b4;\" x=\"230.334243\" xlink:href=\"#me319d538ff\" y=\"128.575663\"/>\n     <use style=\"fill:#1f77b4;stroke:#1f77b4;\" x=\"199.949604\" xlink:href=\"#me319d538ff\" y=\"115.022864\"/>\n     <use style=\"fill:#1f77b4;stroke:#1f77b4;\" x=\"175.441881\" xlink:href=\"#me319d538ff\" y=\"83.939111\"/>\n     <use style=\"fill:#1f77b4;stroke:#1f77b4;\" x=\"197.007422\" xlink:href=\"#me319d538ff\" y=\"107.490905\"/>\n     <use style=\"fill:#1f77b4;stroke:#1f77b4;\" x=\"193.45929\" xlink:href=\"#me319d538ff\" y=\"95.190974\"/>\n     <use style=\"fill:#1f77b4;stroke:#1f77b4;\" x=\"101.93829\" xlink:href=\"#me319d538ff\" y=\"54.687359\"/>\n     <use style=\"fill:#1f77b4;stroke:#1f77b4;\" x=\"196.712101\" xlink:href=\"#me319d538ff\" y=\"90.628628\"/>\n     <use style=\"fill:#1f77b4;stroke:#1f77b4;\" x=\"195.126237\" xlink:href=\"#me319d538ff\" y=\"95.527857\"/>\n     <use style=\"fill:#1f77b4;stroke:#1f77b4;\" x=\"181.327173\" xlink:href=\"#me319d538ff\" y=\"101.990326\"/>\n     <use style=\"fill:#1f77b4;stroke:#1f77b4;\" x=\"127.734067\" xlink:href=\"#me319d538ff\" y=\"39.233575\"/>\n     <use style=\"fill:#1f77b4;stroke:#1f77b4;\" x=\"256.455085\" xlink:href=\"#me319d538ff\" y=\"146.109708\"/>\n     <use style=\"fill:#1f77b4;stroke:#1f77b4;\" x=\"133.040393\" xlink:href=\"#me319d538ff\" y=\"80.51555\"/>\n     <use style=\"fill:#1f77b4;stroke:#1f77b4;\" x=\"170.393897\" xlink:href=\"#me319d538ff\" y=\"95.832844\"/>\n     <use style=\"fill:#1f77b4;stroke:#1f77b4;\" x=\"97.5839\" xlink:href=\"#me319d538ff\" y=\"68.476878\"/>\n     <use style=\"fill:#1f77b4;stroke:#1f77b4;\" x=\"150.578693\" xlink:href=\"#me319d538ff\" y=\"97.944934\"/>\n     <use style=\"fill:#1f77b4;stroke:#1f77b4;\" x=\"183.500804\" xlink:href=\"#me319d538ff\" y=\"97.076768\"/>\n     <use style=\"fill:#1f77b4;stroke:#1f77b4;\" x=\"175.587722\" xlink:href=\"#me319d538ff\" y=\"107.89666\"/>\n     <use style=\"fill:#1f77b4;stroke:#1f77b4;\" x=\"154.920016\" xlink:href=\"#me319d538ff\" y=\"102.027614\"/>\n     <use style=\"fill:#1f77b4;stroke:#1f77b4;\" x=\"226.228919\" xlink:href=\"#me319d538ff\" y=\"118.224725\"/>\n     <use style=\"fill:#1f77b4;stroke:#1f77b4;\" x=\"152.501371\" xlink:href=\"#me319d538ff\" y=\"89.704492\"/>\n     <use style=\"fill:#1f77b4;stroke:#1f77b4;\" x=\"188.695053\" xlink:href=\"#me319d538ff\" y=\"118.987129\"/>\n     <use style=\"fill:#1f77b4;stroke:#1f77b4;\" x=\"207.943304\" xlink:href=\"#me319d538ff\" y=\"131.992968\"/>\n     <use style=\"fill:#1f77b4;stroke:#1f77b4;\" x=\"124.578698\" xlink:href=\"#me319d538ff\" y=\"66.699256\"/>\n     <use style=\"fill:#1f77b4;stroke:#1f77b4;\" x=\"226.614237\" xlink:href=\"#me319d538ff\" y=\"123.815276\"/>\n     <use style=\"fill:#1f77b4;stroke:#1f77b4;\" x=\"168.347827\" xlink:href=\"#me319d538ff\" y=\"104.902303\"/>\n     <use style=\"fill:#1f77b4;stroke:#1f77b4;\" x=\"262.009639\" xlink:href=\"#me319d538ff\" y=\"153.033886\"/>\n     <use style=\"fill:#1f77b4;stroke:#1f77b4;\" x=\"164.634564\" xlink:href=\"#me319d538ff\" y=\"78.309761\"/>\n     <use style=\"fill:#1f77b4;stroke:#1f77b4;\" x=\"231.939688\" xlink:href=\"#me319d538ff\" y=\"112.511497\"/>\n     <use style=\"fill:#1f77b4;stroke:#1f77b4;\" x=\"111.986225\" xlink:href=\"#me319d538ff\" y=\"69.10756\"/>\n     <use style=\"fill:#1f77b4;stroke:#1f77b4;\" x=\"223.146761\" xlink:href=\"#me319d538ff\" y=\"135.429958\"/>\n     <use style=\"fill:#1f77b4;stroke:#1f77b4;\" x=\"238.304075\" xlink:href=\"#me319d538ff\" y=\"131.042172\"/>\n     <use style=\"fill:#1f77b4;stroke:#1f77b4;\" x=\"166.560408\" xlink:href=\"#me319d538ff\" y=\"87.77653\"/>\n     <use style=\"fill:#1f77b4;stroke:#1f77b4;\" x=\"145.048921\" xlink:href=\"#me319d538ff\" y=\"77.133196\"/>\n     <use style=\"fill:#1f77b4;stroke:#1f77b4;\" x=\"199.654487\" xlink:href=\"#me319d538ff\" y=\"115.195278\"/>\n     <use style=\"fill:#1f77b4;stroke:#1f77b4;\" x=\"261.189449\" xlink:href=\"#me319d538ff\" y=\"148.075069\"/>\n     <use style=\"fill:#1f77b4;stroke:#1f77b4;\" x=\"194.824967\" xlink:href=\"#me319d538ff\" y=\"122.477325\"/>\n     <use style=\"fill:#1f77b4;stroke:#1f77b4;\" x=\"173.488843\" xlink:href=\"#me319d538ff\" y=\"98.276466\"/>\n     <use style=\"fill:#1f77b4;stroke:#1f77b4;\" x=\"217.657057\" xlink:href=\"#me319d538ff\" y=\"108.54741\"/>\n     <use style=\"fill:#1f77b4;stroke:#1f77b4;\" x=\"206.630187\" xlink:href=\"#me319d538ff\" y=\"93.570433\"/>\n     <use style=\"fill:#1f77b4;stroke:#1f77b4;\" x=\"140.909034\" xlink:href=\"#me319d538ff\" y=\"63.613593\"/>\n     <use style=\"fill:#1f77b4;stroke:#1f77b4;\" x=\"148.406866\" xlink:href=\"#me319d538ff\" y=\"62.633357\"/>\n     <use style=\"fill:#1f77b4;stroke:#1f77b4;\" x=\"233.757001\" xlink:href=\"#me319d538ff\" y=\"130.198832\"/>\n     <use style=\"fill:#1f77b4;stroke:#1f77b4;\" x=\"225.984282\" xlink:href=\"#me319d538ff\" y=\"113.573075\"/>\n     <use style=\"fill:#1f77b4;stroke:#1f77b4;\" x=\"182.122857\" xlink:href=\"#me319d538ff\" y=\"111.019712\"/>\n     <use style=\"fill:#1f77b4;stroke:#1f77b4;\" x=\"192.940043\" xlink:href=\"#me319d538ff\" y=\"112.448526\"/>\n     <use style=\"fill:#1f77b4;stroke:#1f77b4;\" x=\"183.154414\" xlink:href=\"#me319d538ff\" y=\"100.312021\"/>\n     <use style=\"fill:#1f77b4;stroke:#1f77b4;\" x=\"225.694273\" xlink:href=\"#me319d538ff\" y=\"127.633891\"/>\n     <use style=\"fill:#1f77b4;stroke:#1f77b4;\" x=\"139.037414\" xlink:href=\"#me319d538ff\" y=\"62.452786\"/>\n     <use style=\"fill:#1f77b4;stroke:#1f77b4;\" x=\"198.57521\" xlink:href=\"#me319d538ff\" y=\"113.154293\"/>\n     <use style=\"fill:#1f77b4;stroke:#1f77b4;\" x=\"209.541205\" xlink:href=\"#me319d538ff\" y=\"111.683528\"/>\n     <use style=\"fill:#1f77b4;stroke:#1f77b4;\" x=\"169.679445\" xlink:href=\"#me319d538ff\" y=\"93.561186\"/>\n     <use style=\"fill:#1f77b4;stroke:#1f77b4;\" x=\"110.130757\" xlink:href=\"#me319d538ff\" y=\"75.445408\"/>\n     <use style=\"fill:#1f77b4;stroke:#1f77b4;\" x=\"180.55319\" xlink:href=\"#me319d538ff\" y=\"91.094777\"/>\n     <use style=\"fill:#1f77b4;stroke:#1f77b4;\" x=\"168.618125\" xlink:href=\"#me319d538ff\" y=\"85.37885\"/>\n     <use style=\"fill:#1f77b4;stroke:#1f77b4;\" x=\"167.889524\" xlink:href=\"#me319d538ff\" y=\"101.725766\"/>\n     <use style=\"fill:#1f77b4;stroke:#1f77b4;\" x=\"146.723829\" xlink:href=\"#me319d538ff\" y=\"87.211453\"/>\n     <use style=\"fill:#1f77b4;stroke:#1f77b4;\" x=\"159.810856\" xlink:href=\"#me319d538ff\" y=\"82.355413\"/>\n     <use style=\"fill:#1f77b4;stroke:#1f77b4;\" x=\"139.857178\" xlink:href=\"#me319d538ff\" y=\"96.583043\"/>\n     <use style=\"fill:#1f77b4;stroke:#1f77b4;\" x=\"301.55506\" xlink:href=\"#me319d538ff\" y=\"165.86013\"/>\n     <use style=\"fill:#1f77b4;stroke:#1f77b4;\" x=\"150.694449\" xlink:href=\"#me319d538ff\" y=\"72.317841\"/>\n     <use style=\"fill:#1f77b4;stroke:#1f77b4;\" x=\"180.170613\" xlink:href=\"#me319d538ff\" y=\"115.360172\"/>\n     <use style=\"fill:#1f77b4;stroke:#1f77b4;\" x=\"183.042723\" xlink:href=\"#me319d538ff\" y=\"87.721381\"/>\n     <use style=\"fill:#1f77b4;stroke:#1f77b4;\" x=\"201.602304\" xlink:href=\"#me319d538ff\" y=\"117.171154\"/>\n     <use style=\"fill:#1f77b4;stroke:#1f77b4;\" x=\"117.091779\" xlink:href=\"#me319d538ff\" y=\"65.012598\"/>\n     <use style=\"fill:#1f77b4;stroke:#1f77b4;\" x=\"227.14864\" xlink:href=\"#me319d538ff\" y=\"131.297064\"/>\n     <use style=\"fill:#1f77b4;stroke:#1f77b4;\" x=\"83.694863\" xlink:href=\"#me319d538ff\" y=\"47.266766\"/>\n     <use style=\"fill:#1f77b4;stroke:#1f77b4;\" x=\"133.33042\" xlink:href=\"#me319d538ff\" y=\"81.290309\"/>\n     <use style=\"fill:#1f77b4;stroke:#1f77b4;\" x=\"169.668362\" xlink:href=\"#me319d538ff\" y=\"103.655091\"/>\n     <use style=\"fill:#1f77b4;stroke:#1f77b4;\" x=\"191.328857\" xlink:href=\"#me319d538ff\" y=\"74.612796\"/>\n     <use style=\"fill:#1f77b4;stroke:#1f77b4;\" x=\"120.515029\" xlink:href=\"#me319d538ff\" y=\"91.652351\"/>\n     <use style=\"fill:#1f77b4;stroke:#1f77b4;\" x=\"137.057043\" xlink:href=\"#me319d538ff\" y=\"76.862644\"/>\n     <use style=\"fill:#1f77b4;stroke:#1f77b4;\" x=\"157.15137\" xlink:href=\"#me319d538ff\" y=\"98.803802\"/>\n     <use style=\"fill:#1f77b4;stroke:#1f77b4;\" x=\"121.647226\" xlink:href=\"#me319d538ff\" y=\"41.819291\"/>\n     <use style=\"fill:#1f77b4;stroke:#1f77b4;\" x=\"198.63182\" xlink:href=\"#me319d538ff\" y=\"123.561673\"/>\n     <use style=\"fill:#1f77b4;stroke:#1f77b4;\" x=\"149.97718\" xlink:href=\"#me319d538ff\" y=\"109.692591\"/>\n     <use style=\"fill:#1f77b4;stroke:#1f77b4;\" x=\"153.463106\" xlink:href=\"#me319d538ff\" y=\"80.761147\"/>\n     <use style=\"fill:#1f77b4;stroke:#1f77b4;\" x=\"178.143359\" xlink:href=\"#me319d538ff\" y=\"107.450302\"/>\n     <use style=\"fill:#1f77b4;stroke:#1f77b4;\" x=\"226.929348\" xlink:href=\"#me319d538ff\" y=\"100.282391\"/>\n     <use style=\"fill:#1f77b4;stroke:#1f77b4;\" x=\"107.046579\" xlink:href=\"#me319d538ff\" y=\"78.716559\"/>\n     <use style=\"fill:#1f77b4;stroke:#1f77b4;\" x=\"209.013708\" xlink:href=\"#me319d538ff\" y=\"115.270023\"/>\n     <use style=\"fill:#1f77b4;stroke:#1f77b4;\" x=\"213.527398\" xlink:href=\"#me319d538ff\" y=\"92.32759\"/>\n     <use style=\"fill:#1f77b4;stroke:#1f77b4;\" x=\"183.137896\" xlink:href=\"#me319d538ff\" y=\"99.835505\"/>\n     <use style=\"fill:#1f77b4;stroke:#1f77b4;\" x=\"222.115606\" xlink:href=\"#me319d538ff\" y=\"108.164565\"/>\n     <use style=\"fill:#1f77b4;stroke:#1f77b4;\" x=\"169.976654\" xlink:href=\"#me319d538ff\" y=\"86.254237\"/>\n     <use style=\"fill:#1f77b4;stroke:#1f77b4;\" x=\"251.630473\" xlink:href=\"#me319d538ff\" y=\"131.855973\"/>\n     <use style=\"fill:#1f77b4;stroke:#1f77b4;\" x=\"176.535127\" xlink:href=\"#me319d538ff\" y=\"92.65203\"/>\n     <use style=\"fill:#1f77b4;stroke:#1f77b4;\" x=\"138.517441\" xlink:href=\"#me319d538ff\" y=\"76.507501\"/>\n     <use style=\"fill:#1f77b4;stroke:#1f77b4;\" x=\"223.564646\" xlink:href=\"#me319d538ff\" y=\"125.431904\"/>\n     <use style=\"fill:#1f77b4;stroke:#1f77b4;\" x=\"229.50086\" xlink:href=\"#me319d538ff\" y=\"130.028548\"/>\n     <use style=\"fill:#1f77b4;stroke:#1f77b4;\" x=\"213.819897\" xlink:href=\"#me319d538ff\" y=\"135.89739\"/>\n     <use style=\"fill:#1f77b4;stroke:#1f77b4;\" x=\"129.637514\" xlink:href=\"#me319d538ff\" y=\"60.818139\"/>\n     <use style=\"fill:#1f77b4;stroke:#1f77b4;\" x=\"152.654033\" xlink:href=\"#me319d538ff\" y=\"60.59191\"/>\n     <use style=\"fill:#1f77b4;stroke:#1f77b4;\" x=\"164.46073\" xlink:href=\"#me319d538ff\" y=\"78.968964\"/>\n     <use style=\"fill:#1f77b4;stroke:#1f77b4;\" x=\"166.964901\" xlink:href=\"#me319d538ff\" y=\"113.526032\"/>\n     <use style=\"fill:#1f77b4;stroke:#1f77b4;\" x=\"145.823987\" xlink:href=\"#me319d538ff\" y=\"84.383622\"/>\n     <use style=\"fill:#1f77b4;stroke:#1f77b4;\" x=\"158.191218\" xlink:href=\"#me319d538ff\" y=\"88.071948\"/>\n     <use style=\"fill:#1f77b4;stroke:#1f77b4;\" x=\"168.935567\" xlink:href=\"#me319d538ff\" y=\"103.782776\"/>\n     <use style=\"fill:#1f77b4;stroke:#1f77b4;\" x=\"194.763844\" xlink:href=\"#me319d538ff\" y=\"103.887413\"/>\n     <use style=\"fill:#1f77b4;stroke:#1f77b4;\" x=\"222.361353\" xlink:href=\"#me319d538ff\" y=\"120.660273\"/>\n     <use style=\"fill:#1f77b4;stroke:#1f77b4;\" x=\"216.538071\" xlink:href=\"#me319d538ff\" y=\"133.866367\"/>\n     <use style=\"fill:#1f77b4;stroke:#1f77b4;\" x=\"168.090045\" xlink:href=\"#me319d538ff\" y=\"82.639566\"/>\n     <use style=\"fill:#1f77b4;stroke:#1f77b4;\" x=\"136.1261\" xlink:href=\"#me319d538ff\" y=\"84.344167\"/>\n     <use style=\"fill:#1f77b4;stroke:#1f77b4;\" x=\"160.224617\" xlink:href=\"#me319d538ff\" y=\"76.574419\"/>\n     <use style=\"fill:#1f77b4;stroke:#1f77b4;\" x=\"134.146194\" xlink:href=\"#me319d538ff\" y=\"70.565176\"/>\n     <use style=\"fill:#1f77b4;stroke:#1f77b4;\" x=\"206.800775\" xlink:href=\"#me319d538ff\" y=\"104.82485\"/>\n     <use style=\"fill:#1f77b4;stroke:#1f77b4;\" x=\"174.10895\" xlink:href=\"#me319d538ff\" y=\"102.662425\"/>\n     <use style=\"fill:#1f77b4;stroke:#1f77b4;\" x=\"93.61005\" xlink:href=\"#me319d538ff\" y=\"69.658725\"/>\n     <use style=\"fill:#1f77b4;stroke:#1f77b4;\" x=\"121.540663\" xlink:href=\"#me319d538ff\" y=\"67.392366\"/>\n     <use style=\"fill:#1f77b4;stroke:#1f77b4;\" x=\"179.9627\" xlink:href=\"#me319d538ff\" y=\"91.505202\"/>\n     <use style=\"fill:#1f77b4;stroke:#1f77b4;\" x=\"167.866826\" xlink:href=\"#me319d538ff\" y=\"69.937376\"/>\n     <use style=\"fill:#1f77b4;stroke:#1f77b4;\" x=\"179.130402\" xlink:href=\"#me319d538ff\" y=\"93.130234\"/>\n     <use style=\"fill:#1f77b4;stroke:#1f77b4;\" x=\"225.659131\" xlink:href=\"#me319d538ff\" y=\"122.868791\"/>\n     <use style=\"fill:#1f77b4;stroke:#1f77b4;\" x=\"215.284286\" xlink:href=\"#me319d538ff\" y=\"129.665224\"/>\n     <use style=\"fill:#1f77b4;stroke:#1f77b4;\" x=\"76.246055\" xlink:href=\"#me319d538ff\" y=\"15.864122\"/>\n     <use style=\"fill:#1f77b4;stroke:#1f77b4;\" x=\"226.936429\" xlink:href=\"#me319d538ff\" y=\"143.56629\"/>\n     <use style=\"fill:#1f77b4;stroke:#1f77b4;\" x=\"228.828108\" xlink:href=\"#me319d538ff\" y=\"136.915534\"/>\n     <use style=\"fill:#1f77b4;stroke:#1f77b4;\" x=\"168.388808\" xlink:href=\"#me319d538ff\" y=\"78.401232\"/>\n     <use style=\"fill:#1f77b4;stroke:#1f77b4;\" x=\"135.831912\" xlink:href=\"#me319d538ff\" y=\"57.088293\"/>\n     <use style=\"fill:#1f77b4;stroke:#1f77b4;\" x=\"98.279092\" xlink:href=\"#me319d538ff\" y=\"59.608561\"/>\n     <use style=\"fill:#1f77b4;stroke:#1f77b4;\" x=\"157.74004\" xlink:href=\"#me319d538ff\" y=\"88.766271\"/>\n     <use style=\"fill:#1f77b4;stroke:#1f77b4;\" x=\"132.652463\" xlink:href=\"#me319d538ff\" y=\"67.21894\"/>\n     <use style=\"fill:#1f77b4;stroke:#1f77b4;\" x=\"165.686099\" xlink:href=\"#me319d538ff\" y=\"97.138728\"/>\n     <use style=\"fill:#1f77b4;stroke:#1f77b4;\" x=\"153.775977\" xlink:href=\"#me319d538ff\" y=\"84.52665\"/>\n     <use style=\"fill:#1f77b4;stroke:#1f77b4;\" x=\"213.465399\" xlink:href=\"#me319d538ff\" y=\"119.670036\"/>\n     <use style=\"fill:#1f77b4;stroke:#1f77b4;\" x=\"186.96625\" xlink:href=\"#me319d538ff\" y=\"114.703817\"/>\n     <use style=\"fill:#1f77b4;stroke:#1f77b4;\" x=\"183.914734\" xlink:href=\"#me319d538ff\" y=\"74.914406\"/>\n     <use style=\"fill:#1f77b4;stroke:#1f77b4;\" x=\"195.505448\" xlink:href=\"#me319d538ff\" y=\"87.478726\"/>\n     <use style=\"fill:#1f77b4;stroke:#1f77b4;\" x=\"232.291069\" xlink:href=\"#me319d538ff\" y=\"120.778254\"/>\n     <use style=\"fill:#1f77b4;stroke:#1f77b4;\" x=\"190.746095\" xlink:href=\"#me319d538ff\" y=\"105.698078\"/>\n     <use style=\"fill:#1f77b4;stroke:#1f77b4;\" x=\"172.369792\" xlink:href=\"#me319d538ff\" y=\"102.958877\"/>\n     <use style=\"fill:#1f77b4;stroke:#1f77b4;\" x=\"193.717102\" xlink:href=\"#me319d538ff\" y=\"119.559611\"/>\n     <use style=\"fill:#1f77b4;stroke:#1f77b4;\" x=\"183.401242\" xlink:href=\"#me319d538ff\" y=\"93.947243\"/>\n     <use style=\"fill:#1f77b4;stroke:#1f77b4;\" x=\"150.316501\" xlink:href=\"#me319d538ff\" y=\"76.076564\"/>\n     <use style=\"fill:#1f77b4;stroke:#1f77b4;\" x=\"128.093368\" xlink:href=\"#me319d538ff\" y=\"84.497752\"/>\n     <use style=\"fill:#1f77b4;stroke:#1f77b4;\" x=\"129.691505\" xlink:href=\"#me319d538ff\" y=\"39.094672\"/>\n     <use style=\"fill:#1f77b4;stroke:#1f77b4;\" x=\"138.511545\" xlink:href=\"#me319d538ff\" y=\"64.190968\"/>\n     <use style=\"fill:#1f77b4;stroke:#1f77b4;\" x=\"164.585847\" xlink:href=\"#me319d538ff\" y=\"102.289822\"/>\n     <use style=\"fill:#1f77b4;stroke:#1f77b4;\" x=\"132.474574\" xlink:href=\"#me319d538ff\" y=\"76.553597\"/>\n     <use style=\"fill:#1f77b4;stroke:#1f77b4;\" x=\"168.11138\" xlink:href=\"#me319d538ff\" y=\"112.856663\"/>\n     <use style=\"fill:#1f77b4;stroke:#1f77b4;\" x=\"153.430614\" xlink:href=\"#me319d538ff\" y=\"82.433771\"/>\n     <use style=\"fill:#1f77b4;stroke:#1f77b4;\" x=\"221.980572\" xlink:href=\"#me319d538ff\" y=\"127.358464\"/>\n     <use style=\"fill:#1f77b4;stroke:#1f77b4;\" x=\"135.0366\" xlink:href=\"#me319d538ff\" y=\"60.184733\"/>\n     <use style=\"fill:#1f77b4;stroke:#1f77b4;\" x=\"170.975706\" xlink:href=\"#me319d538ff\" y=\"82.502334\"/>\n     <use style=\"fill:#1f77b4;stroke:#1f77b4;\" x=\"194.199141\" xlink:href=\"#me319d538ff\" y=\"96.088539\"/>\n     <use style=\"fill:#1f77b4;stroke:#1f77b4;\" x=\"239.653043\" xlink:href=\"#me319d538ff\" y=\"148.077906\"/>\n     <use style=\"fill:#1f77b4;stroke:#1f77b4;\" x=\"182.308211\" xlink:href=\"#me319d538ff\" y=\"120.109787\"/>\n     <use style=\"fill:#1f77b4;stroke:#1f77b4;\" x=\"178.101087\" xlink:href=\"#me319d538ff\" y=\"88.956806\"/>\n     <use style=\"fill:#1f77b4;stroke:#1f77b4;\" x=\"217.327061\" xlink:href=\"#me319d538ff\" y=\"111.07526\"/>\n     <use style=\"fill:#1f77b4;stroke:#1f77b4;\" x=\"102.088868\" xlink:href=\"#me319d538ff\" y=\"58.523291\"/>\n     <use style=\"fill:#1f77b4;stroke:#1f77b4;\" x=\"131.733013\" xlink:href=\"#me319d538ff\" y=\"65.491697\"/>\n     <use style=\"fill:#1f77b4;stroke:#1f77b4;\" x=\"172.713912\" xlink:href=\"#me319d538ff\" y=\"103.135444\"/>\n     <use style=\"fill:#1f77b4;stroke:#1f77b4;\" x=\"199.059173\" xlink:href=\"#me319d538ff\" y=\"118.944058\"/>\n     <use style=\"fill:#1f77b4;stroke:#1f77b4;\" x=\"196.821991\" xlink:href=\"#me319d538ff\" y=\"74.628799\"/>\n     <use style=\"fill:#1f77b4;stroke:#1f77b4;\" x=\"152.892531\" xlink:href=\"#me319d538ff\" y=\"92.697307\"/>\n     <use style=\"fill:#1f77b4;stroke:#1f77b4;\" x=\"210.396269\" xlink:href=\"#me319d538ff\" y=\"100.685094\"/>\n     <use style=\"fill:#1f77b4;stroke:#1f77b4;\" x=\"159.073484\" xlink:href=\"#me319d538ff\" y=\"92.99254\"/>\n     <use style=\"fill:#1f77b4;stroke:#1f77b4;\" x=\"211.712092\" xlink:href=\"#me319d538ff\" y=\"107.552714\"/>\n     <use style=\"fill:#1f77b4;stroke:#1f77b4;\" x=\"146.804402\" xlink:href=\"#me319d538ff\" y=\"78.829509\"/>\n     <use style=\"fill:#1f77b4;stroke:#1f77b4;\" x=\"187.406126\" xlink:href=\"#me319d538ff\" y=\"129.888219\"/>\n     <use style=\"fill:#1f77b4;stroke:#1f77b4;\" x=\"135.186197\" xlink:href=\"#me319d538ff\" y=\"58.902019\"/>\n     <use style=\"fill:#1f77b4;stroke:#1f77b4;\" x=\"137.646928\" xlink:href=\"#me319d538ff\" y=\"59.591832\"/>\n     <use style=\"fill:#1f77b4;stroke:#1f77b4;\" x=\"144.577297\" xlink:href=\"#me319d538ff\" y=\"96.504763\"/>\n     <use style=\"fill:#1f77b4;stroke:#1f77b4;\" x=\"226.075527\" xlink:href=\"#me319d538ff\" y=\"128.767402\"/>\n     <use style=\"fill:#1f77b4;stroke:#1f77b4;\" x=\"162.768684\" xlink:href=\"#me319d538ff\" y=\"59.555318\"/>\n     <use style=\"fill:#1f77b4;stroke:#1f77b4;\" x=\"162.925832\" xlink:href=\"#me319d538ff\" y=\"81.203691\"/>\n     <use style=\"fill:#1f77b4;stroke:#1f77b4;\" x=\"183.38672\" xlink:href=\"#me319d538ff\" y=\"108.692854\"/>\n     <use style=\"fill:#1f77b4;stroke:#1f77b4;\" x=\"138.714994\" xlink:href=\"#me319d538ff\" y=\"76.454658\"/>\n     <use style=\"fill:#1f77b4;stroke:#1f77b4;\" x=\"162.064154\" xlink:href=\"#me319d538ff\" y=\"67.630796\"/>\n     <use style=\"fill:#1f77b4;stroke:#1f77b4;\" x=\"181.124357\" xlink:href=\"#me319d538ff\" y=\"91.014586\"/>\n     <use style=\"fill:#1f77b4;stroke:#1f77b4;\" x=\"193.973406\" xlink:href=\"#me319d538ff\" y=\"121.819191\"/>\n     <use style=\"fill:#1f77b4;stroke:#1f77b4;\" x=\"158.747737\" xlink:href=\"#me319d538ff\" y=\"77.652782\"/>\n     <use style=\"fill:#1f77b4;stroke:#1f77b4;\" x=\"186.695201\" xlink:href=\"#me319d538ff\" y=\"120.41839\"/>\n     <use style=\"fill:#1f77b4;stroke:#1f77b4;\" x=\"225.658671\" xlink:href=\"#me319d538ff\" y=\"117.581219\"/>\n     <use style=\"fill:#1f77b4;stroke:#1f77b4;\" x=\"259.386949\" xlink:href=\"#me319d538ff\" y=\"142.378763\"/>\n     <use style=\"fill:#1f77b4;stroke:#1f77b4;\" x=\"146.364163\" xlink:href=\"#me319d538ff\" y=\"83.249454\"/>\n     <use style=\"fill:#1f77b4;stroke:#1f77b4;\" x=\"182.716355\" xlink:href=\"#me319d538ff\" y=\"119.237099\"/>\n     <use style=\"fill:#1f77b4;stroke:#1f77b4;\" x=\"175.091307\" xlink:href=\"#me319d538ff\" y=\"122.243389\"/>\n     <use style=\"fill:#1f77b4;stroke:#1f77b4;\" x=\"133.384439\" xlink:href=\"#me319d538ff\" y=\"83.288206\"/>\n     <use style=\"fill:#1f77b4;stroke:#1f77b4;\" x=\"146.43131\" xlink:href=\"#me319d538ff\" y=\"65.018898\"/>\n     <use style=\"fill:#1f77b4;stroke:#1f77b4;\" x=\"132.648083\" xlink:href=\"#me319d538ff\" y=\"95.693691\"/>\n     <use style=\"fill:#1f77b4;stroke:#1f77b4;\" x=\"209.782439\" xlink:href=\"#me319d538ff\" y=\"124.442276\"/>\n     <use style=\"fill:#1f77b4;stroke:#1f77b4;\" x=\"120.606725\" xlink:href=\"#me319d538ff\" y=\"63.717933\"/>\n     <use style=\"fill:#1f77b4;stroke:#1f77b4;\" x=\"138.404098\" xlink:href=\"#me319d538ff\" y=\"71.055676\"/>\n     <use style=\"fill:#1f77b4;stroke:#1f77b4;\" x=\"222.268466\" xlink:href=\"#me319d538ff\" y=\"139.670827\"/>\n     <use style=\"fill:#1f77b4;stroke:#1f77b4;\" x=\"174.598504\" xlink:href=\"#me319d538ff\" y=\"83.756666\"/>\n     <use style=\"fill:#1f77b4;stroke:#1f77b4;\" x=\"182.887986\" xlink:href=\"#me319d538ff\" y=\"97.077699\"/>\n     <use style=\"fill:#1f77b4;stroke:#1f77b4;\" x=\"227.683232\" xlink:href=\"#me319d538ff\" y=\"117.699917\"/>\n     <use style=\"fill:#1f77b4;stroke:#1f77b4;\" x=\"179.659831\" xlink:href=\"#me319d538ff\" y=\"84.80168\"/>\n     <use style=\"fill:#1f77b4;stroke:#1f77b4;\" x=\"131.996991\" xlink:href=\"#me319d538ff\" y=\"75.922004\"/>\n     <use style=\"fill:#1f77b4;stroke:#1f77b4;\" x=\"208.980966\" xlink:href=\"#me319d538ff\" y=\"126.155513\"/>\n     <use style=\"fill:#1f77b4;stroke:#1f77b4;\" x=\"149.819958\" xlink:href=\"#me319d538ff\" y=\"86.594135\"/>\n     <use style=\"fill:#1f77b4;stroke:#1f77b4;\" x=\"165.598021\" xlink:href=\"#me319d538ff\" y=\"69.846092\"/>\n     <use style=\"fill:#1f77b4;stroke:#1f77b4;\" x=\"147.22993\" xlink:href=\"#me319d538ff\" y=\"73.334188\"/>\n     <use style=\"fill:#1f77b4;stroke:#1f77b4;\" x=\"170.985553\" xlink:href=\"#me319d538ff\" y=\"88.632811\"/>\n     <use style=\"fill:#1f77b4;stroke:#1f77b4;\" x=\"156.876576\" xlink:href=\"#me319d538ff\" y=\"87.614526\"/>\n     <use style=\"fill:#1f77b4;stroke:#1f77b4;\" x=\"128.757477\" xlink:href=\"#me319d538ff\" y=\"75.255975\"/>\n     <use style=\"fill:#1f77b4;stroke:#1f77b4;\" x=\"167.458345\" xlink:href=\"#me319d538ff\" y=\"91.558809\"/>\n     <use style=\"fill:#1f77b4;stroke:#1f77b4;\" x=\"197.409952\" xlink:href=\"#me319d538ff\" y=\"102.221568\"/>\n     <use style=\"fill:#1f77b4;stroke:#1f77b4;\" x=\"220.910265\" xlink:href=\"#me319d538ff\" y=\"122.04128\"/>\n     <use style=\"fill:#1f77b4;stroke:#1f77b4;\" x=\"222.920514\" xlink:href=\"#me319d538ff\" y=\"127.665276\"/>\n     <use style=\"fill:#1f77b4;stroke:#1f77b4;\" x=\"187.503006\" xlink:href=\"#me319d538ff\" y=\"108.336442\"/>\n     <use style=\"fill:#1f77b4;stroke:#1f77b4;\" x=\"199.584556\" xlink:href=\"#me319d538ff\" y=\"98.125974\"/>\n     <use style=\"fill:#1f77b4;stroke:#1f77b4;\" x=\"180.529021\" xlink:href=\"#me319d538ff\" y=\"110.204167\"/>\n     <use style=\"fill:#1f77b4;stroke:#1f77b4;\" x=\"173.00727\" xlink:href=\"#me319d538ff\" y=\"104.426538\"/>\n     <use style=\"fill:#1f77b4;stroke:#1f77b4;\" x=\"123.069924\" xlink:href=\"#me319d538ff\" y=\"48.139707\"/>\n     <use style=\"fill:#1f77b4;stroke:#1f77b4;\" x=\"221.812963\" xlink:href=\"#me319d538ff\" y=\"126.000902\"/>\n     <use style=\"fill:#1f77b4;stroke:#1f77b4;\" x=\"170.848779\" xlink:href=\"#me319d538ff\" y=\"107.844929\"/>\n     <use style=\"fill:#1f77b4;stroke:#1f77b4;\" x=\"206.63799\" xlink:href=\"#me319d538ff\" y=\"127.443307\"/>\n     <use style=\"fill:#1f77b4;stroke:#1f77b4;\" x=\"184.927742\" xlink:href=\"#me319d538ff\" y=\"108.943273\"/>\n     <use style=\"fill:#1f77b4;stroke:#1f77b4;\" x=\"104.140389\" xlink:href=\"#me319d538ff\" y=\"65.382845\"/>\n     <use style=\"fill:#1f77b4;stroke:#1f77b4;\" x=\"89.828687\" xlink:href=\"#me319d538ff\" y=\"41.571271\"/>\n     <use style=\"fill:#1f77b4;stroke:#1f77b4;\" x=\"185.677658\" xlink:href=\"#me319d538ff\" y=\"114.680013\"/>\n     <use style=\"fill:#1f77b4;stroke:#1f77b4;\" x=\"127.301883\" xlink:href=\"#me319d538ff\" y=\"91.188478\"/>\n     <use style=\"fill:#1f77b4;stroke:#1f77b4;\" x=\"194.850493\" xlink:href=\"#me319d538ff\" y=\"108.318425\"/>\n     <use style=\"fill:#1f77b4;stroke:#1f77b4;\" x=\"239.545028\" xlink:href=\"#me319d538ff\" y=\"134.972676\"/>\n     <use style=\"fill:#1f77b4;stroke:#1f77b4;\" x=\"160.056003\" xlink:href=\"#me319d538ff\" y=\"90.612836\"/>\n     <use style=\"fill:#1f77b4;stroke:#1f77b4;\" x=\"180.191535\" xlink:href=\"#me319d538ff\" y=\"86.279427\"/>\n     <use style=\"fill:#1f77b4;stroke:#1f77b4;\" x=\"128.258929\" xlink:href=\"#me319d538ff\" y=\"70.099568\"/>\n     <use style=\"fill:#1f77b4;stroke:#1f77b4;\" x=\"248.13048\" xlink:href=\"#me319d538ff\" y=\"124.322953\"/>\n     <use style=\"fill:#1f77b4;stroke:#1f77b4;\" x=\"186.597336\" xlink:href=\"#me319d538ff\" y=\"103.43194\"/>\n     <use style=\"fill:#1f77b4;stroke:#1f77b4;\" x=\"215.194056\" xlink:href=\"#me319d538ff\" y=\"120.578996\"/>\n     <use style=\"fill:#1f77b4;stroke:#1f77b4;\" x=\"118.830896\" xlink:href=\"#me319d538ff\" y=\"64.605324\"/>\n     <use style=\"fill:#1f77b4;stroke:#1f77b4;\" x=\"144.462182\" xlink:href=\"#me319d538ff\" y=\"72.950801\"/>\n     <use style=\"fill:#1f77b4;stroke:#1f77b4;\" x=\"204.357398\" xlink:href=\"#me319d538ff\" y=\"121.408135\"/>\n     <use style=\"fill:#1f77b4;stroke:#1f77b4;\" x=\"155.84851\" xlink:href=\"#me319d538ff\" y=\"87.877329\"/>\n     <use style=\"fill:#1f77b4;stroke:#1f77b4;\" x=\"115.115982\" xlink:href=\"#me319d538ff\" y=\"60.440772\"/>\n     <use style=\"fill:#1f77b4;stroke:#1f77b4;\" x=\"223.042454\" xlink:href=\"#me319d538ff\" y=\"94.800081\"/>\n     <use style=\"fill:#1f77b4;stroke:#1f77b4;\" x=\"232.384772\" xlink:href=\"#me319d538ff\" y=\"133.321275\"/>\n     <use style=\"fill:#1f77b4;stroke:#1f77b4;\" x=\"157.975609\" xlink:href=\"#me319d538ff\" y=\"77.10637\"/>\n     <use style=\"fill:#1f77b4;stroke:#1f77b4;\" x=\"265.380907\" xlink:href=\"#me319d538ff\" y=\"137.227983\"/>\n     <use style=\"fill:#1f77b4;stroke:#1f77b4;\" x=\"202.755986\" xlink:href=\"#me319d538ff\" y=\"112.735814\"/>\n     <use style=\"fill:#1f77b4;stroke:#1f77b4;\" x=\"153.498947\" xlink:href=\"#me319d538ff\" y=\"66.970231\"/>\n     <use style=\"fill:#1f77b4;stroke:#1f77b4;\" x=\"172.930112\" xlink:href=\"#me319d538ff\" y=\"89.758979\"/>\n     <use style=\"fill:#1f77b4;stroke:#1f77b4;\" x=\"107.256849\" xlink:href=\"#me319d538ff\" y=\"41.261937\"/>\n     <use style=\"fill:#1f77b4;stroke:#1f77b4;\" x=\"149.078575\" xlink:href=\"#me319d538ff\" y=\"59.515409\"/>\n     <use style=\"fill:#1f77b4;stroke:#1f77b4;\" x=\"190.390421\" xlink:href=\"#me319d538ff\" y=\"99.35878\"/>\n     <use style=\"fill:#1f77b4;stroke:#1f77b4;\" x=\"258.939894\" xlink:href=\"#me319d538ff\" y=\"128.986442\"/>\n     <use style=\"fill:#1f77b4;stroke:#1f77b4;\" x=\"100.030694\" xlink:href=\"#me319d538ff\" y=\"21.744036\"/>\n     <use style=\"fill:#1f77b4;stroke:#1f77b4;\" x=\"234.779856\" xlink:href=\"#me319d538ff\" y=\"126.964263\"/>\n     <use style=\"fill:#1f77b4;stroke:#1f77b4;\" x=\"146.63834\" xlink:href=\"#me319d538ff\" y=\"96.561293\"/>\n     <use style=\"fill:#1f77b4;stroke:#1f77b4;\" x=\"177.84394\" xlink:href=\"#me319d538ff\" y=\"66.088306\"/>\n     <use style=\"fill:#1f77b4;stroke:#1f77b4;\" x=\"165.553131\" xlink:href=\"#me319d538ff\" y=\"84.284709\"/>\n     <use style=\"fill:#1f77b4;stroke:#1f77b4;\" x=\"141.307929\" xlink:href=\"#me319d538ff\" y=\"64.179081\"/>\n     <use style=\"fill:#1f77b4;stroke:#1f77b4;\" x=\"166.468147\" xlink:href=\"#me319d538ff\" y=\"88.235509\"/>\n     <use style=\"fill:#1f77b4;stroke:#1f77b4;\" x=\"192.534632\" xlink:href=\"#me319d538ff\" y=\"80.093466\"/>\n     <use style=\"fill:#1f77b4;stroke:#1f77b4;\" x=\"233.785765\" xlink:href=\"#me319d538ff\" y=\"120.523964\"/>\n     <use style=\"fill:#1f77b4;stroke:#1f77b4;\" x=\"198.541983\" xlink:href=\"#me319d538ff\" y=\"89.374988\"/>\n     <use style=\"fill:#1f77b4;stroke:#1f77b4;\" x=\"138.569056\" xlink:href=\"#me319d538ff\" y=\"90.532512\"/>\n     <use style=\"fill:#1f77b4;stroke:#1f77b4;\" x=\"194.212463\" xlink:href=\"#me319d538ff\" y=\"104.768253\"/>\n     <use style=\"fill:#1f77b4;stroke:#1f77b4;\" x=\"169.423429\" xlink:href=\"#me319d538ff\" y=\"90.831042\"/>\n     <use style=\"fill:#1f77b4;stroke:#1f77b4;\" x=\"151.446632\" xlink:href=\"#me319d538ff\" y=\"83.038756\"/>\n     <use style=\"fill:#1f77b4;stroke:#1f77b4;\" x=\"131.516148\" xlink:href=\"#me319d538ff\" y=\"68.949955\"/>\n     <use style=\"fill:#1f77b4;stroke:#1f77b4;\" x=\"170.618918\" xlink:href=\"#me319d538ff\" y=\"87.661741\"/>\n     <use style=\"fill:#1f77b4;stroke:#1f77b4;\" x=\"179.811716\" xlink:href=\"#me319d538ff\" y=\"96.832995\"/>\n     <use style=\"fill:#1f77b4;stroke:#1f77b4;\" x=\"179.496449\" xlink:href=\"#me319d538ff\" y=\"114.962595\"/>\n     <use style=\"fill:#1f77b4;stroke:#1f77b4;\" x=\"179.081247\" xlink:href=\"#me319d538ff\" y=\"103.687997\"/>\n     <use style=\"fill:#1f77b4;stroke:#1f77b4;\" x=\"59.79285\" xlink:href=\"#me319d538ff\" y=\"25.487997\"/>\n     <use style=\"fill:#1f77b4;stroke:#1f77b4;\" x=\"177.365374\" xlink:href=\"#me319d538ff\" y=\"75.265103\"/>\n     <use style=\"fill:#1f77b4;stroke:#1f77b4;\" x=\"203.473442\" xlink:href=\"#me319d538ff\" y=\"116.362557\"/>\n     <use style=\"fill:#1f77b4;stroke:#1f77b4;\" x=\"202.178773\" xlink:href=\"#me319d538ff\" y=\"124.272285\"/>\n     <use style=\"fill:#1f77b4;stroke:#1f77b4;\" x=\"181.987257\" xlink:href=\"#me319d538ff\" y=\"89.667531\"/>\n     <use style=\"fill:#1f77b4;stroke:#1f77b4;\" x=\"255.898612\" xlink:href=\"#me319d538ff\" y=\"149.018222\"/>\n     <use style=\"fill:#1f77b4;stroke:#1f77b4;\" x=\"199.302412\" xlink:href=\"#me319d538ff\" y=\"112.64501\"/>\n     <use style=\"fill:#1f77b4;stroke:#1f77b4;\" x=\"144.505039\" xlink:href=\"#me319d538ff\" y=\"86.60072\"/>\n     <use style=\"fill:#1f77b4;stroke:#1f77b4;\" x=\"253.83254\" xlink:href=\"#me319d538ff\" y=\"132.76951\"/>\n     <use style=\"fill:#1f77b4;stroke:#1f77b4;\" x=\"183.850895\" xlink:href=\"#me319d538ff\" y=\"100.154166\"/>\n     <use style=\"fill:#1f77b4;stroke:#1f77b4;\" x=\"180.566157\" xlink:href=\"#me319d538ff\" y=\"107.326\"/>\n     <use style=\"fill:#1f77b4;stroke:#1f77b4;\" x=\"108.505858\" xlink:href=\"#me319d538ff\" y=\"69.189154\"/>\n     <use style=\"fill:#1f77b4;stroke:#1f77b4;\" x=\"116.550755\" xlink:href=\"#me319d538ff\" y=\"65.540879\"/>\n     <use style=\"fill:#1f77b4;stroke:#1f77b4;\" x=\"55.414138\" xlink:href=\"#me319d538ff\" y=\"29.761834\"/>\n     <use style=\"fill:#1f77b4;stroke:#1f77b4;\" x=\"186.53114\" xlink:href=\"#me319d538ff\" y=\"90.239202\"/>\n     <use style=\"fill:#1f77b4;stroke:#1f77b4;\" x=\"130.664659\" xlink:href=\"#me319d538ff\" y=\"67.655838\"/>\n     <use style=\"fill:#1f77b4;stroke:#1f77b4;\" x=\"166.869025\" xlink:href=\"#me319d538ff\" y=\"93.994854\"/>\n     <use style=\"fill:#1f77b4;stroke:#1f77b4;\" x=\"98.322384\" xlink:href=\"#me319d538ff\" y=\"47.945756\"/>\n     <use style=\"fill:#1f77b4;stroke:#1f77b4;\" x=\"185.421775\" xlink:href=\"#me319d538ff\" y=\"76.693883\"/>\n     <use style=\"fill:#1f77b4;stroke:#1f77b4;\" x=\"163.889868\" xlink:href=\"#me319d538ff\" y=\"84.394287\"/>\n     <use style=\"fill:#1f77b4;stroke:#1f77b4;\" x=\"198.677549\" xlink:href=\"#me319d538ff\" y=\"98.067975\"/>\n     <use style=\"fill:#1f77b4;stroke:#1f77b4;\" x=\"135.407351\" xlink:href=\"#me319d538ff\" y=\"77.786728\"/>\n     <use style=\"fill:#1f77b4;stroke:#1f77b4;\" x=\"132.607357\" xlink:href=\"#me319d538ff\" y=\"96.447912\"/>\n     <use style=\"fill:#1f77b4;stroke:#1f77b4;\" x=\"199.248181\" xlink:href=\"#me319d538ff\" y=\"83.007527\"/>\n     <use style=\"fill:#1f77b4;stroke:#1f77b4;\" x=\"126.678604\" xlink:href=\"#me319d538ff\" y=\"66.99879\"/>\n     <use style=\"fill:#1f77b4;stroke:#1f77b4;\" x=\"131.373689\" xlink:href=\"#me319d538ff\" y=\"65.126795\"/>\n     <use style=\"fill:#1f77b4;stroke:#1f77b4;\" x=\"165.472863\" xlink:href=\"#me319d538ff\" y=\"98.285836\"/>\n     <use style=\"fill:#1f77b4;stroke:#1f77b4;\" x=\"208.954058\" xlink:href=\"#me319d538ff\" y=\"123.320578\"/>\n     <use style=\"fill:#1f77b4;stroke:#1f77b4;\" x=\"187.926463\" xlink:href=\"#me319d538ff\" y=\"92.142944\"/>\n     <use style=\"fill:#1f77b4;stroke:#1f77b4;\" x=\"147.294905\" xlink:href=\"#me319d538ff\" y=\"85.216654\"/>\n     <use style=\"fill:#1f77b4;stroke:#1f77b4;\" x=\"194.709279\" xlink:href=\"#me319d538ff\" y=\"121.231557\"/>\n     <use style=\"fill:#1f77b4;stroke:#1f77b4;\" x=\"194.375828\" xlink:href=\"#me319d538ff\" y=\"117.138967\"/>\n     <use style=\"fill:#1f77b4;stroke:#1f77b4;\" x=\"235.468878\" xlink:href=\"#me319d538ff\" y=\"131.965017\"/>\n     <use style=\"fill:#1f77b4;stroke:#1f77b4;\" x=\"193.332431\" xlink:href=\"#me319d538ff\" y=\"101.088373\"/>\n     <use style=\"fill:#1f77b4;stroke:#1f77b4;\" x=\"205.394408\" xlink:href=\"#me319d538ff\" y=\"125.101711\"/>\n     <use style=\"fill:#1f77b4;stroke:#1f77b4;\" x=\"210.862719\" xlink:href=\"#me319d538ff\" y=\"130.982971\"/>\n     <use style=\"fill:#1f77b4;stroke:#1f77b4;\" x=\"140.021679\" xlink:href=\"#me319d538ff\" y=\"51.318041\"/>\n     <use style=\"fill:#1f77b4;stroke:#1f77b4;\" x=\"156.330489\" xlink:href=\"#me319d538ff\" y=\"84.937639\"/>\n     <use style=\"fill:#1f77b4;stroke:#1f77b4;\" x=\"159.917759\" xlink:href=\"#me319d538ff\" y=\"89.937982\"/>\n     <use style=\"fill:#1f77b4;stroke:#1f77b4;\" x=\"146.102377\" xlink:href=\"#me319d538ff\" y=\"79.530515\"/>\n     <use style=\"fill:#1f77b4;stroke:#1f77b4;\" x=\"237.548595\" xlink:href=\"#me319d538ff\" y=\"141.298104\"/>\n     <use style=\"fill:#1f77b4;stroke:#1f77b4;\" x=\"115.209627\" xlink:href=\"#me319d538ff\" y=\"51.904389\"/>\n     <use style=\"fill:#1f77b4;stroke:#1f77b4;\" x=\"189.162512\" xlink:href=\"#me319d538ff\" y=\"86.299037\"/>\n     <use style=\"fill:#1f77b4;stroke:#1f77b4;\" x=\"181.997898\" xlink:href=\"#me319d538ff\" y=\"70.902722\"/>\n     <use style=\"fill:#1f77b4;stroke:#1f77b4;\" x=\"244.991647\" xlink:href=\"#me319d538ff\" y=\"143.861413\"/>\n     <use style=\"fill:#1f77b4;stroke:#1f77b4;\" x=\"165.196085\" xlink:href=\"#me319d538ff\" y=\"81.477796\"/>\n     <use style=\"fill:#1f77b4;stroke:#1f77b4;\" x=\"278.870052\" xlink:href=\"#me319d538ff\" y=\"140.53059\"/>\n     <use style=\"fill:#1f77b4;stroke:#1f77b4;\" x=\"127.564044\" xlink:href=\"#me319d538ff\" y=\"46.8231\"/>\n     <use style=\"fill:#1f77b4;stroke:#1f77b4;\" x=\"117.45901\" xlink:href=\"#me319d538ff\" y=\"55.574831\"/>\n     <use style=\"fill:#1f77b4;stroke:#1f77b4;\" x=\"165.313899\" xlink:href=\"#me319d538ff\" y=\"68.18553\"/>\n     <use style=\"fill:#1f77b4;stroke:#1f77b4;\" x=\"166.510588\" xlink:href=\"#me319d538ff\" y=\"98.57999\"/>\n     <use style=\"fill:#1f77b4;stroke:#1f77b4;\" x=\"185.67883\" xlink:href=\"#me319d538ff\" y=\"112.363205\"/>\n     <use style=\"fill:#1f77b4;stroke:#1f77b4;\" x=\"214.771187\" xlink:href=\"#me319d538ff\" y=\"112.603812\"/>\n     <use style=\"fill:#1f77b4;stroke:#1f77b4;\" x=\"156.136692\" xlink:href=\"#me319d538ff\" y=\"80.73246\"/>\n     <use style=\"fill:#1f77b4;stroke:#1f77b4;\" x=\"214.066604\" xlink:href=\"#me319d538ff\" y=\"105.487165\"/>\n     <use style=\"fill:#1f77b4;stroke:#1f77b4;\" x=\"193.578336\" xlink:href=\"#me319d538ff\" y=\"107.955404\"/>\n     <use style=\"fill:#1f77b4;stroke:#1f77b4;\" x=\"188.33368\" xlink:href=\"#me319d538ff\" y=\"102.26325\"/>\n     <use style=\"fill:#1f77b4;stroke:#1f77b4;\" x=\"193.027923\" xlink:href=\"#me319d538ff\" y=\"109.00565\"/>\n     <use style=\"fill:#1f77b4;stroke:#1f77b4;\" x=\"152.644236\" xlink:href=\"#me319d538ff\" y=\"76.723151\"/>\n     <use style=\"fill:#1f77b4;stroke:#1f77b4;\" x=\"162.898859\" xlink:href=\"#me319d538ff\" y=\"105.295897\"/>\n     <use style=\"fill:#1f77b4;stroke:#1f77b4;\" x=\"105.617683\" xlink:href=\"#me319d538ff\" y=\"50.712697\"/>\n     <use style=\"fill:#1f77b4;stroke:#1f77b4;\" x=\"93.618521\" xlink:href=\"#me319d538ff\" y=\"51.628\"/>\n     <use style=\"fill:#1f77b4;stroke:#1f77b4;\" x=\"238.375938\" xlink:href=\"#me319d538ff\" y=\"133.989845\"/>\n     <use style=\"fill:#1f77b4;stroke:#1f77b4;\" x=\"261.713969\" xlink:href=\"#me319d538ff\" y=\"154.492437\"/>\n     <use style=\"fill:#1f77b4;stroke:#1f77b4;\" x=\"209.573393\" xlink:href=\"#me319d538ff\" y=\"101.593288\"/>\n     <use style=\"fill:#1f77b4;stroke:#1f77b4;\" x=\"213.223563\" xlink:href=\"#me319d538ff\" y=\"100.50979\"/>\n     <use style=\"fill:#1f77b4;stroke:#1f77b4;\" x=\"109.42179\" xlink:href=\"#me319d538ff\" y=\"38.575537\"/>\n     <use style=\"fill:#1f77b4;stroke:#1f77b4;\" x=\"215.396275\" xlink:href=\"#me319d538ff\" y=\"129.304425\"/>\n     <use style=\"fill:#1f77b4;stroke:#1f77b4;\" x=\"178.908972\" xlink:href=\"#me319d538ff\" y=\"94.486583\"/>\n     <use style=\"fill:#1f77b4;stroke:#1f77b4;\" x=\"172.244441\" xlink:href=\"#me319d538ff\" y=\"104.1872\"/>\n     <use style=\"fill:#1f77b4;stroke:#1f77b4;\" x=\"185.604495\" xlink:href=\"#me319d538ff\" y=\"79.513037\"/>\n     <use style=\"fill:#1f77b4;stroke:#1f77b4;\" x=\"148.74902\" xlink:href=\"#me319d538ff\" y=\"92.737372\"/>\n     <use style=\"fill:#1f77b4;stroke:#1f77b4;\" x=\"195.804934\" xlink:href=\"#me319d538ff\" y=\"119.833846\"/>\n     <use style=\"fill:#1f77b4;stroke:#1f77b4;\" x=\"195.810687\" xlink:href=\"#me319d538ff\" y=\"111.19994\"/>\n     <use style=\"fill:#1f77b4;stroke:#1f77b4;\" x=\"164.604654\" xlink:href=\"#me319d538ff\" y=\"98.018179\"/>\n     <use style=\"fill:#1f77b4;stroke:#1f77b4;\" x=\"203.000347\" xlink:href=\"#me319d538ff\" y=\"97.622501\"/>\n     <use style=\"fill:#1f77b4;stroke:#1f77b4;\" x=\"182.080473\" xlink:href=\"#me319d538ff\" y=\"116.74408\"/>\n     <use style=\"fill:#1f77b4;stroke:#1f77b4;\" x=\"205.853337\" xlink:href=\"#me319d538ff\" y=\"108.413499\"/>\n     <use style=\"fill:#1f77b4;stroke:#1f77b4;\" x=\"205.958111\" xlink:href=\"#me319d538ff\" y=\"133.999206\"/>\n     <use style=\"fill:#1f77b4;stroke:#1f77b4;\" x=\"235.259487\" xlink:href=\"#me319d538ff\" y=\"143.0534\"/>\n     <use style=\"fill:#1f77b4;stroke:#1f77b4;\" x=\"98.985272\" xlink:href=\"#me319d538ff\" y=\"51.209288\"/>\n     <use style=\"fill:#1f77b4;stroke:#1f77b4;\" x=\"182.245042\" xlink:href=\"#me319d538ff\" y=\"100.027111\"/>\n     <use style=\"fill:#1f77b4;stroke:#1f77b4;\" x=\"256.409465\" xlink:href=\"#me319d538ff\" y=\"147.210287\"/>\n     <use style=\"fill:#1f77b4;stroke:#1f77b4;\" x=\"147.070548\" xlink:href=\"#me319d538ff\" y=\"88.431597\"/>\n     <use style=\"fill:#1f77b4;stroke:#1f77b4;\" x=\"225.353952\" xlink:href=\"#me319d538ff\" y=\"145.21736\"/>\n     <use style=\"fill:#1f77b4;stroke:#1f77b4;\" x=\"213.447136\" xlink:href=\"#me319d538ff\" y=\"122.738613\"/>\n     <use style=\"fill:#1f77b4;stroke:#1f77b4;\" x=\"179.049672\" xlink:href=\"#me319d538ff\" y=\"95.90392\"/>\n     <use style=\"fill:#1f77b4;stroke:#1f77b4;\" x=\"179.180166\" xlink:href=\"#me319d538ff\" y=\"112.635646\"/>\n     <use style=\"fill:#1f77b4;stroke:#1f77b4;\" x=\"191.538423\" xlink:href=\"#me319d538ff\" y=\"98.232175\"/>\n     <use style=\"fill:#1f77b4;stroke:#1f77b4;\" x=\"212.143613\" xlink:href=\"#me319d538ff\" y=\"124.547416\"/>\n     <use style=\"fill:#1f77b4;stroke:#1f77b4;\" x=\"139.887209\" xlink:href=\"#me319d538ff\" y=\"87.858072\"/>\n     <use style=\"fill:#1f77b4;stroke:#1f77b4;\" x=\"240.452272\" xlink:href=\"#me319d538ff\" y=\"139.170257\"/>\n     <use style=\"fill:#1f77b4;stroke:#1f77b4;\" x=\"109.810833\" xlink:href=\"#me319d538ff\" y=\"62.85843\"/>\n     <use style=\"fill:#1f77b4;stroke:#1f77b4;\" x=\"208.705824\" xlink:href=\"#me319d538ff\" y=\"126.830535\"/>\n     <use style=\"fill:#1f77b4;stroke:#1f77b4;\" x=\"232.429012\" xlink:href=\"#me319d538ff\" y=\"135.717247\"/>\n     <use style=\"fill:#1f77b4;stroke:#1f77b4;\" x=\"173.25181\" xlink:href=\"#me319d538ff\" y=\"89.126874\"/>\n     <use style=\"fill:#1f77b4;stroke:#1f77b4;\" x=\"138.459247\" xlink:href=\"#me319d538ff\" y=\"76.296835\"/>\n     <use style=\"fill:#1f77b4;stroke:#1f77b4;\" x=\"220.451776\" xlink:href=\"#me319d538ff\" y=\"106.386899\"/>\n     <use style=\"fill:#1f77b4;stroke:#1f77b4;\" x=\"214.723704\" xlink:href=\"#me319d538ff\" y=\"88.868262\"/>\n     <use style=\"fill:#1f77b4;stroke:#1f77b4;\" x=\"171.797897\" xlink:href=\"#me319d538ff\" y=\"100.233618\"/>\n     <use style=\"fill:#1f77b4;stroke:#1f77b4;\" x=\"194.421446\" xlink:href=\"#me319d538ff\" y=\"114.808962\"/>\n     <use style=\"fill:#1f77b4;stroke:#1f77b4;\" x=\"128.678275\" xlink:href=\"#me319d538ff\" y=\"65.628818\"/>\n     <use style=\"fill:#1f77b4;stroke:#1f77b4;\" x=\"153.729556\" xlink:href=\"#me319d538ff\" y=\"69.712257\"/>\n     <use style=\"fill:#1f77b4;stroke:#1f77b4;\" x=\"207.187596\" xlink:href=\"#me319d538ff\" y=\"120.468933\"/>\n     <use style=\"fill:#1f77b4;stroke:#1f77b4;\" x=\"220.657496\" xlink:href=\"#me319d538ff\" y=\"119.315857\"/>\n     <use style=\"fill:#1f77b4;stroke:#1f77b4;\" x=\"199.775048\" xlink:href=\"#me319d538ff\" y=\"89.949794\"/>\n     <use style=\"fill:#1f77b4;stroke:#1f77b4;\" x=\"224.854566\" xlink:href=\"#me319d538ff\" y=\"130.22926\"/>\n     <use style=\"fill:#1f77b4;stroke:#1f77b4;\" x=\"211.647473\" xlink:href=\"#me319d538ff\" y=\"92.64737\"/>\n     <use style=\"fill:#1f77b4;stroke:#1f77b4;\" x=\"155.637831\" xlink:href=\"#me319d538ff\" y=\"66.533708\"/>\n     <use style=\"fill:#1f77b4;stroke:#1f77b4;\" x=\"107.742483\" xlink:href=\"#me319d538ff\" y=\"44.181034\"/>\n     <use style=\"fill:#1f77b4;stroke:#1f77b4;\" x=\"203.603264\" xlink:href=\"#me319d538ff\" y=\"86.824483\"/>\n     <use style=\"fill:#1f77b4;stroke:#1f77b4;\" x=\"182.179848\" xlink:href=\"#me319d538ff\" y=\"86.342897\"/>\n     <use style=\"fill:#1f77b4;stroke:#1f77b4;\" x=\"131.273211\" xlink:href=\"#me319d538ff\" y=\"75.760034\"/>\n     <use style=\"fill:#1f77b4;stroke:#1f77b4;\" x=\"157.331125\" xlink:href=\"#me319d538ff\" y=\"97.8173\"/>\n     <use style=\"fill:#1f77b4;stroke:#1f77b4;\" x=\"139.374166\" xlink:href=\"#me319d538ff\" y=\"72.324574\"/>\n     <use style=\"fill:#1f77b4;stroke:#1f77b4;\" x=\"177.95595\" xlink:href=\"#me319d538ff\" y=\"82.25685\"/>\n     <use style=\"fill:#1f77b4;stroke:#1f77b4;\" x=\"144.849924\" xlink:href=\"#me319d538ff\" y=\"83.801394\"/>\n     <use style=\"fill:#1f77b4;stroke:#1f77b4;\" x=\"244.600258\" xlink:href=\"#me319d538ff\" y=\"148.07196\"/>\n     <use style=\"fill:#1f77b4;stroke:#1f77b4;\" x=\"176.950564\" xlink:href=\"#me319d538ff\" y=\"100.910324\"/>\n     <use style=\"fill:#1f77b4;stroke:#1f77b4;\" x=\"172.202255\" xlink:href=\"#me319d538ff\" y=\"97.299439\"/>\n     <use style=\"fill:#1f77b4;stroke:#1f77b4;\" x=\"134.446248\" xlink:href=\"#me319d538ff\" y=\"88.755763\"/>\n     <use style=\"fill:#1f77b4;stroke:#1f77b4;\" x=\"84.140493\" xlink:href=\"#me319d538ff\" y=\"65.252145\"/>\n     <use style=\"fill:#1f77b4;stroke:#1f77b4;\" x=\"212.937596\" xlink:href=\"#me319d538ff\" y=\"118.48101\"/>\n     <use style=\"fill:#1f77b4;stroke:#1f77b4;\" x=\"148.310756\" xlink:href=\"#me319d538ff\" y=\"86.995601\"/>\n     <use style=\"fill:#1f77b4;stroke:#1f77b4;\" x=\"156.180375\" xlink:href=\"#me319d538ff\" y=\"106.622312\"/>\n     <use style=\"fill:#1f77b4;stroke:#1f77b4;\" x=\"173.91124\" xlink:href=\"#me319d538ff\" y=\"89.391188\"/>\n     <use style=\"fill:#1f77b4;stroke:#1f77b4;\" x=\"140.238833\" xlink:href=\"#me319d538ff\" y=\"64.62059\"/>\n     <use style=\"fill:#1f77b4;stroke:#1f77b4;\" x=\"190.388232\" xlink:href=\"#me319d538ff\" y=\"102.706987\"/>\n     <use style=\"fill:#1f77b4;stroke:#1f77b4;\" x=\"93.788472\" xlink:href=\"#me319d538ff\" y=\"26.987766\"/>\n     <use style=\"fill:#1f77b4;stroke:#1f77b4;\" x=\"211.606504\" xlink:href=\"#me319d538ff\" y=\"113.33982\"/>\n     <use style=\"fill:#1f77b4;stroke:#1f77b4;\" x=\"192.579819\" xlink:href=\"#me319d538ff\" y=\"108.237068\"/>\n     <use style=\"fill:#1f77b4;stroke:#1f77b4;\" x=\"170.253843\" xlink:href=\"#me319d538ff\" y=\"99.928538\"/>\n     <use style=\"fill:#1f77b4;stroke:#1f77b4;\" x=\"203.23578\" xlink:href=\"#me319d538ff\" y=\"115.589362\"/>\n     <use style=\"fill:#1f77b4;stroke:#1f77b4;\" x=\"165.051717\" xlink:href=\"#me319d538ff\" y=\"92.542548\"/>\n     <use style=\"fill:#1f77b4;stroke:#1f77b4;\" x=\"153.602333\" xlink:href=\"#me319d538ff\" y=\"80.671417\"/>\n     <use style=\"fill:#1f77b4;stroke:#1f77b4;\" x=\"195.476526\" xlink:href=\"#me319d538ff\" y=\"124.914009\"/>\n     <use style=\"fill:#1f77b4;stroke:#1f77b4;\" x=\"299.622285\" xlink:href=\"#me319d538ff\" y=\"188.795878\"/>\n     <use style=\"fill:#1f77b4;stroke:#1f77b4;\" x=\"226.250872\" xlink:href=\"#me319d538ff\" y=\"125.350686\"/>\n     <use style=\"fill:#1f77b4;stroke:#1f77b4;\" x=\"150.026654\" xlink:href=\"#me319d538ff\" y=\"80.486357\"/>\n     <use style=\"fill:#1f77b4;stroke:#1f77b4;\" x=\"186.88568\" xlink:href=\"#me319d538ff\" y=\"105.060212\"/>\n     <use style=\"fill:#1f77b4;stroke:#1f77b4;\" x=\"205.567662\" xlink:href=\"#me319d538ff\" y=\"114.11417\"/>\n     <use style=\"fill:#1f77b4;stroke:#1f77b4;\" x=\"194.1621\" xlink:href=\"#me319d538ff\" y=\"96.094733\"/>\n     <use style=\"fill:#1f77b4;stroke:#1f77b4;\" x=\"165.610905\" xlink:href=\"#me319d538ff\" y=\"102.103017\"/>\n     <use style=\"fill:#1f77b4;stroke:#1f77b4;\" x=\"171.515069\" xlink:href=\"#me319d538ff\" y=\"78.981673\"/>\n     <use style=\"fill:#1f77b4;stroke:#1f77b4;\" x=\"148.161094\" xlink:href=\"#me319d538ff\" y=\"77.558844\"/>\n     <use style=\"fill:#1f77b4;stroke:#1f77b4;\" x=\"146.510978\" xlink:href=\"#me319d538ff\" y=\"75.160116\"/>\n     <use style=\"fill:#1f77b4;stroke:#1f77b4;\" x=\"66.188712\" xlink:href=\"#me319d538ff\" y=\"43.362805\"/>\n     <use style=\"fill:#1f77b4;stroke:#1f77b4;\" x=\"158.85047\" xlink:href=\"#me319d538ff\" y=\"90.451204\"/>\n     <use style=\"fill:#1f77b4;stroke:#1f77b4;\" x=\"174.171112\" xlink:href=\"#me319d538ff\" y=\"104.486539\"/>\n     <use style=\"fill:#1f77b4;stroke:#1f77b4;\" x=\"118.931916\" xlink:href=\"#me319d538ff\" y=\"56.474162\"/>\n     <use style=\"fill:#1f77b4;stroke:#1f77b4;\" x=\"195.967124\" xlink:href=\"#me319d538ff\" y=\"104.344555\"/>\n     <use style=\"fill:#1f77b4;stroke:#1f77b4;\" x=\"136.892801\" xlink:href=\"#me319d538ff\" y=\"70.920996\"/>\n     <use style=\"fill:#1f77b4;stroke:#1f77b4;\" x=\"185.47221\" xlink:href=\"#me319d538ff\" y=\"114.690015\"/>\n     <use style=\"fill:#1f77b4;stroke:#1f77b4;\" x=\"199.116742\" xlink:href=\"#me319d538ff\" y=\"113.765983\"/>\n     <use style=\"fill:#1f77b4;stroke:#1f77b4;\" x=\"184.608733\" xlink:href=\"#me319d538ff\" y=\"93.596982\"/>\n     <use style=\"fill:#1f77b4;stroke:#1f77b4;\" x=\"148.939674\" xlink:href=\"#me319d538ff\" y=\"73.760298\"/>\n     <use style=\"fill:#1f77b4;stroke:#1f77b4;\" x=\"191.210122\" xlink:href=\"#me319d538ff\" y=\"105.170669\"/>\n     <use style=\"fill:#1f77b4;stroke:#1f77b4;\" x=\"180.323966\" xlink:href=\"#me319d538ff\" y=\"110.773383\"/>\n     <use style=\"fill:#1f77b4;stroke:#1f77b4;\" x=\"213.906451\" xlink:href=\"#me319d538ff\" y=\"117.068274\"/>\n     <use style=\"fill:#1f77b4;stroke:#1f77b4;\" x=\"204.125628\" xlink:href=\"#me319d538ff\" y=\"98.423595\"/>\n     <use style=\"fill:#1f77b4;stroke:#1f77b4;\" x=\"94.887092\" xlink:href=\"#me319d538ff\" y=\"49.314675\"/>\n     <use style=\"fill:#1f77b4;stroke:#1f77b4;\" x=\"180.454409\" xlink:href=\"#me319d538ff\" y=\"91.546493\"/>\n     <use style=\"fill:#1f77b4;stroke:#1f77b4;\" x=\"225.596636\" xlink:href=\"#me319d538ff\" y=\"112.355021\"/>\n     <use style=\"fill:#1f77b4;stroke:#1f77b4;\" x=\"201.547773\" xlink:href=\"#me319d538ff\" y=\"90.692839\"/>\n     <use style=\"fill:#1f77b4;stroke:#1f77b4;\" x=\"172.881774\" xlink:href=\"#me319d538ff\" y=\"118.40088\"/>\n     <use style=\"fill:#1f77b4;stroke:#1f77b4;\" x=\"172.465498\" xlink:href=\"#me319d538ff\" y=\"82.282265\"/>\n     <use style=\"fill:#1f77b4;stroke:#1f77b4;\" x=\"151.225613\" xlink:href=\"#me319d538ff\" y=\"87.105138\"/>\n     <use style=\"fill:#1f77b4;stroke:#1f77b4;\" x=\"148.171297\" xlink:href=\"#me319d538ff\" y=\"82.729533\"/>\n     <use style=\"fill:#1f77b4;stroke:#1f77b4;\" x=\"71.070049\" xlink:href=\"#me319d538ff\" y=\"25.547614\"/>\n     <use style=\"fill:#1f77b4;stroke:#1f77b4;\" x=\"216.070885\" xlink:href=\"#me319d538ff\" y=\"128.337511\"/>\n     <use style=\"fill:#1f77b4;stroke:#1f77b4;\" x=\"110.207631\" xlink:href=\"#me319d538ff\" y=\"64.427408\"/>\n     <use style=\"fill:#1f77b4;stroke:#1f77b4;\" x=\"195.250739\" xlink:href=\"#me319d538ff\" y=\"86.69791\"/>\n     <use style=\"fill:#1f77b4;stroke:#1f77b4;\" x=\"206.038826\" xlink:href=\"#me319d538ff\" y=\"128.179492\"/>\n     <use style=\"fill:#1f77b4;stroke:#1f77b4;\" x=\"154.392358\" xlink:href=\"#me319d538ff\" y=\"84.174313\"/>\n     <use style=\"fill:#1f77b4;stroke:#1f77b4;\" x=\"168.28335\" xlink:href=\"#me319d538ff\" y=\"91.31891\"/>\n     <use style=\"fill:#1f77b4;stroke:#1f77b4;\" x=\"267.251355\" xlink:href=\"#me319d538ff\" y=\"123.617708\"/>\n     <use style=\"fill:#1f77b4;stroke:#1f77b4;\" x=\"214.38904\" xlink:href=\"#me319d538ff\" y=\"116.504215\"/>\n     <use style=\"fill:#1f77b4;stroke:#1f77b4;\" x=\"167.095232\" xlink:href=\"#me319d538ff\" y=\"103.855318\"/>\n     <use style=\"fill:#1f77b4;stroke:#1f77b4;\" x=\"204.239006\" xlink:href=\"#me319d538ff\" y=\"117.052299\"/>\n     <use style=\"fill:#1f77b4;stroke:#1f77b4;\" x=\"219.212123\" xlink:href=\"#me319d538ff\" y=\"124.351239\"/>\n     <use style=\"fill:#1f77b4;stroke:#1f77b4;\" x=\"220.429002\" xlink:href=\"#me319d538ff\" y=\"129.216001\"/>\n     <use style=\"fill:#1f77b4;stroke:#1f77b4;\" x=\"244.867935\" xlink:href=\"#me319d538ff\" y=\"127.240267\"/>\n     <use style=\"fill:#1f77b4;stroke:#1f77b4;\" x=\"202.235444\" xlink:href=\"#me319d538ff\" y=\"117.870537\"/>\n     <use style=\"fill:#1f77b4;stroke:#1f77b4;\" x=\"269.658898\" xlink:href=\"#me319d538ff\" y=\"150.82832\"/>\n     <use style=\"fill:#1f77b4;stroke:#1f77b4;\" x=\"128.250003\" xlink:href=\"#me319d538ff\" y=\"95.441044\"/>\n     <use style=\"fill:#1f77b4;stroke:#1f77b4;\" x=\"228.315018\" xlink:href=\"#me319d538ff\" y=\"121.399747\"/>\n     <use style=\"fill:#1f77b4;stroke:#1f77b4;\" x=\"193.080341\" xlink:href=\"#me319d538ff\" y=\"103.995753\"/>\n     <use style=\"fill:#1f77b4;stroke:#1f77b4;\" x=\"134.223966\" xlink:href=\"#me319d538ff\" y=\"54.187447\"/>\n     <use style=\"fill:#1f77b4;stroke:#1f77b4;\" x=\"139.710966\" xlink:href=\"#me319d538ff\" y=\"73.725214\"/>\n     <use style=\"fill:#1f77b4;stroke:#1f77b4;\" x=\"202.821324\" xlink:href=\"#me319d538ff\" y=\"106.212919\"/>\n     <use style=\"fill:#1f77b4;stroke:#1f77b4;\" x=\"214.981228\" xlink:href=\"#me319d538ff\" y=\"105.40819\"/>\n     <use style=\"fill:#1f77b4;stroke:#1f77b4;\" x=\"208.863674\" xlink:href=\"#me319d538ff\" y=\"123.762324\"/>\n     <use style=\"fill:#1f77b4;stroke:#1f77b4;\" x=\"153.460549\" xlink:href=\"#me319d538ff\" y=\"98.099472\"/>\n     <use style=\"fill:#1f77b4;stroke:#1f77b4;\" x=\"167.307597\" xlink:href=\"#me319d538ff\" y=\"115.854894\"/>\n     <use style=\"fill:#1f77b4;stroke:#1f77b4;\" x=\"138.416611\" xlink:href=\"#me319d538ff\" y=\"81.101669\"/>\n     <use style=\"fill:#1f77b4;stroke:#1f77b4;\" x=\"198.51772\" xlink:href=\"#me319d538ff\" y=\"110.050353\"/>\n     <use style=\"fill:#1f77b4;stroke:#1f77b4;\" x=\"123.473907\" xlink:href=\"#me319d538ff\" y=\"60.140937\"/>\n     <use style=\"fill:#1f77b4;stroke:#1f77b4;\" x=\"169.834075\" xlink:href=\"#me319d538ff\" y=\"117.43939\"/>\n     <use style=\"fill:#1f77b4;stroke:#1f77b4;\" x=\"179.916124\" xlink:href=\"#me319d538ff\" y=\"100.329575\"/>\n     <use style=\"fill:#1f77b4;stroke:#1f77b4;\" x=\"207.599558\" xlink:href=\"#me319d538ff\" y=\"99.108905\"/>\n     <use style=\"fill:#1f77b4;stroke:#1f77b4;\" x=\"176.29154\" xlink:href=\"#me319d538ff\" y=\"116.68094\"/>\n     <use style=\"fill:#1f77b4;stroke:#1f77b4;\" x=\"144.010984\" xlink:href=\"#me319d538ff\" y=\"74.568843\"/>\n     <use style=\"fill:#1f77b4;stroke:#1f77b4;\" x=\"167.467285\" xlink:href=\"#me319d538ff\" y=\"90.949031\"/>\n     <use style=\"fill:#1f77b4;stroke:#1f77b4;\" x=\"218.934071\" xlink:href=\"#me319d538ff\" y=\"122.855702\"/>\n     <use style=\"fill:#1f77b4;stroke:#1f77b4;\" x=\"188.133986\" xlink:href=\"#me319d538ff\" y=\"112.351341\"/>\n     <use style=\"fill:#1f77b4;stroke:#1f77b4;\" x=\"203.029319\" xlink:href=\"#me319d538ff\" y=\"133.370986\"/>\n     <use style=\"fill:#1f77b4;stroke:#1f77b4;\" x=\"158.886164\" xlink:href=\"#me319d538ff\" y=\"95.749146\"/>\n     <use style=\"fill:#1f77b4;stroke:#1f77b4;\" x=\"123.237876\" xlink:href=\"#me319d538ff\" y=\"48.137266\"/>\n     <use style=\"fill:#1f77b4;stroke:#1f77b4;\" x=\"191.777265\" xlink:href=\"#me319d538ff\" y=\"92.410358\"/>\n     <use style=\"fill:#1f77b4;stroke:#1f77b4;\" x=\"189.864718\" xlink:href=\"#me319d538ff\" y=\"91.938647\"/>\n     <use style=\"fill:#1f77b4;stroke:#1f77b4;\" x=\"182.999737\" xlink:href=\"#me319d538ff\" y=\"98.338244\"/>\n     <use style=\"fill:#1f77b4;stroke:#1f77b4;\" x=\"150.82875\" xlink:href=\"#me319d538ff\" y=\"63.47532\"/>\n     <use style=\"fill:#1f77b4;stroke:#1f77b4;\" x=\"192.27292\" xlink:href=\"#me319d538ff\" y=\"92.792128\"/>\n     <use style=\"fill:#1f77b4;stroke:#1f77b4;\" x=\"209.775008\" xlink:href=\"#me319d538ff\" y=\"103.513489\"/>\n     <use style=\"fill:#1f77b4;stroke:#1f77b4;\" x=\"145.864763\" xlink:href=\"#me319d538ff\" y=\"80.663379\"/>\n     <use style=\"fill:#1f77b4;stroke:#1f77b4;\" x=\"166.975199\" xlink:href=\"#me319d538ff\" y=\"85.263464\"/>\n     <use style=\"fill:#1f77b4;stroke:#1f77b4;\" x=\"156.435226\" xlink:href=\"#me319d538ff\" y=\"95.529303\"/>\n     <use style=\"fill:#1f77b4;stroke:#1f77b4;\" x=\"155.680036\" xlink:href=\"#me319d538ff\" y=\"75.694962\"/>\n     <use style=\"fill:#1f77b4;stroke:#1f77b4;\" x=\"60.785273\" xlink:href=\"#me319d538ff\" y=\"36.010634\"/>\n     <use style=\"fill:#1f77b4;stroke:#1f77b4;\" x=\"104.466564\" xlink:href=\"#me319d538ff\" y=\"73.194267\"/>\n     <use style=\"fill:#1f77b4;stroke:#1f77b4;\" x=\"201.5267\" xlink:href=\"#me319d538ff\" y=\"134.032373\"/>\n     <use style=\"fill:#1f77b4;stroke:#1f77b4;\" x=\"138.774094\" xlink:href=\"#me319d538ff\" y=\"62.109016\"/>\n     <use style=\"fill:#1f77b4;stroke:#1f77b4;\" x=\"68.75335\" xlink:href=\"#me319d538ff\" y=\"28.208937\"/>\n     <use style=\"fill:#1f77b4;stroke:#1f77b4;\" x=\"82.101214\" xlink:href=\"#me319d538ff\" y=\"52.180038\"/>\n     <use style=\"fill:#1f77b4;stroke:#1f77b4;\" x=\"213.181836\" xlink:href=\"#me319d538ff\" y=\"122.828007\"/>\n     <use style=\"fill:#1f77b4;stroke:#1f77b4;\" x=\"149.729485\" xlink:href=\"#me319d538ff\" y=\"96.133395\"/>\n     <use style=\"fill:#1f77b4;stroke:#1f77b4;\" x=\"163.243926\" xlink:href=\"#me319d538ff\" y=\"74.79815\"/>\n     <use style=\"fill:#1f77b4;stroke:#1f77b4;\" x=\"235.076456\" xlink:href=\"#me319d538ff\" y=\"118.385754\"/>\n     <use style=\"fill:#1f77b4;stroke:#1f77b4;\" x=\"109.583219\" xlink:href=\"#me319d538ff\" y=\"65.66672\"/>\n     <use style=\"fill:#1f77b4;stroke:#1f77b4;\" x=\"144.145716\" xlink:href=\"#me319d538ff\" y=\"85.032725\"/>\n     <use style=\"fill:#1f77b4;stroke:#1f77b4;\" x=\"148.200102\" xlink:href=\"#me319d538ff\" y=\"83.31221\"/>\n     <use style=\"fill:#1f77b4;stroke:#1f77b4;\" x=\"189.040047\" xlink:href=\"#me319d538ff\" y=\"110.364645\"/>\n     <use style=\"fill:#1f77b4;stroke:#1f77b4;\" x=\"126.459925\" xlink:href=\"#me319d538ff\" y=\"76.222944\"/>\n     <use style=\"fill:#1f77b4;stroke:#1f77b4;\" x=\"202.281396\" xlink:href=\"#me319d538ff\" y=\"124.253257\"/>\n     <use style=\"fill:#1f77b4;stroke:#1f77b4;\" x=\"158.263848\" xlink:href=\"#me319d538ff\" y=\"76.396695\"/>\n     <use style=\"fill:#1f77b4;stroke:#1f77b4;\" x=\"147.378178\" xlink:href=\"#me319d538ff\" y=\"70.69955\"/>\n     <use style=\"fill:#1f77b4;stroke:#1f77b4;\" x=\"229.825348\" xlink:href=\"#me319d538ff\" y=\"102.62109\"/>\n     <use style=\"fill:#1f77b4;stroke:#1f77b4;\" x=\"207.655331\" xlink:href=\"#me319d538ff\" y=\"123.297981\"/>\n     <use style=\"fill:#1f77b4;stroke:#1f77b4;\" x=\"118.915096\" xlink:href=\"#me319d538ff\" y=\"66.803323\"/>\n     <use style=\"fill:#1f77b4;stroke:#1f77b4;\" x=\"145.075791\" xlink:href=\"#me319d538ff\" y=\"74.450137\"/>\n     <use style=\"fill:#1f77b4;stroke:#1f77b4;\" x=\"210.607315\" xlink:href=\"#me319d538ff\" y=\"131.543058\"/>\n     <use style=\"fill:#1f77b4;stroke:#1f77b4;\" x=\"204.160643\" xlink:href=\"#me319d538ff\" y=\"103.140344\"/>\n     <use style=\"fill:#1f77b4;stroke:#1f77b4;\" x=\"207.521524\" xlink:href=\"#me319d538ff\" y=\"127.90185\"/>\n     <use style=\"fill:#1f77b4;stroke:#1f77b4;\" x=\"170.405119\" xlink:href=\"#me319d538ff\" y=\"107.593519\"/>\n     <use style=\"fill:#1f77b4;stroke:#1f77b4;\" x=\"156.247443\" xlink:href=\"#me319d538ff\" y=\"80.653224\"/>\n     <use style=\"fill:#1f77b4;stroke:#1f77b4;\" x=\"142.448985\" xlink:href=\"#me319d538ff\" y=\"110.939507\"/>\n     <use style=\"fill:#1f77b4;stroke:#1f77b4;\" x=\"172.765965\" xlink:href=\"#me319d538ff\" y=\"92.973317\"/>\n     <use style=\"fill:#1f77b4;stroke:#1f77b4;\" x=\"228.668528\" xlink:href=\"#me319d538ff\" y=\"142.654694\"/>\n     <use style=\"fill:#1f77b4;stroke:#1f77b4;\" x=\"184.826996\" xlink:href=\"#me319d538ff\" y=\"92.466204\"/>\n     <use style=\"fill:#1f77b4;stroke:#1f77b4;\" x=\"143.627515\" xlink:href=\"#me319d538ff\" y=\"81.10343\"/>\n     <use style=\"fill:#1f77b4;stroke:#1f77b4;\" x=\"212.091736\" xlink:href=\"#me319d538ff\" y=\"136.587759\"/>\n     <use style=\"fill:#1f77b4;stroke:#1f77b4;\" x=\"210.623143\" xlink:href=\"#me319d538ff\" y=\"124.217399\"/>\n     <use style=\"fill:#1f77b4;stroke:#1f77b4;\" x=\"87.482939\" xlink:href=\"#me319d538ff\" y=\"62.366565\"/>\n     <use style=\"fill:#1f77b4;stroke:#1f77b4;\" x=\"180.137781\" xlink:href=\"#me319d538ff\" y=\"90.315341\"/>\n     <use style=\"fill:#1f77b4;stroke:#1f77b4;\" x=\"160.962001\" xlink:href=\"#me319d538ff\" y=\"76.266963\"/>\n     <use style=\"fill:#1f77b4;stroke:#1f77b4;\" x=\"212.856026\" xlink:href=\"#me319d538ff\" y=\"105.804202\"/>\n     <use style=\"fill:#1f77b4;stroke:#1f77b4;\" x=\"194.92614\" xlink:href=\"#me319d538ff\" y=\"113.934568\"/>\n     <use style=\"fill:#1f77b4;stroke:#1f77b4;\" x=\"189.793949\" xlink:href=\"#me319d538ff\" y=\"95.379571\"/>\n     <use style=\"fill:#1f77b4;stroke:#1f77b4;\" x=\"166.46922\" xlink:href=\"#me319d538ff\" y=\"73.1501\"/>\n     <use style=\"fill:#1f77b4;stroke:#1f77b4;\" x=\"192.378511\" xlink:href=\"#me319d538ff\" y=\"92.790253\"/>\n     <use style=\"fill:#1f77b4;stroke:#1f77b4;\" x=\"193.335079\" xlink:href=\"#me319d538ff\" y=\"108.033572\"/>\n     <use style=\"fill:#1f77b4;stroke:#1f77b4;\" x=\"240.38593\" xlink:href=\"#me319d538ff\" y=\"143.833883\"/>\n     <use style=\"fill:#1f77b4;stroke:#1f77b4;\" x=\"186.851998\" xlink:href=\"#me319d538ff\" y=\"112.938669\"/>\n     <use style=\"fill:#1f77b4;stroke:#1f77b4;\" x=\"113.879992\" xlink:href=\"#me319d538ff\" y=\"56.777097\"/>\n     <use style=\"fill:#1f77b4;stroke:#1f77b4;\" x=\"175.896671\" xlink:href=\"#me319d538ff\" y=\"89.543775\"/>\n     <use style=\"fill:#1f77b4;stroke:#1f77b4;\" x=\"159.954966\" xlink:href=\"#me319d538ff\" y=\"73.239715\"/>\n     <use style=\"fill:#1f77b4;stroke:#1f77b4;\" x=\"187.972519\" xlink:href=\"#me319d538ff\" y=\"110.122401\"/>\n     <use style=\"fill:#1f77b4;stroke:#1f77b4;\" x=\"194.536622\" xlink:href=\"#me319d538ff\" y=\"96.189526\"/>\n     <use style=\"fill:#1f77b4;stroke:#1f77b4;\" x=\"160.525116\" xlink:href=\"#me319d538ff\" y=\"115.755069\"/>\n     <use style=\"fill:#1f77b4;stroke:#1f77b4;\" x=\"176.846113\" xlink:href=\"#me319d538ff\" y=\"123.687791\"/>\n     <use style=\"fill:#1f77b4;stroke:#1f77b4;\" x=\"156.0904\" xlink:href=\"#me319d538ff\" y=\"78.398224\"/>\n     <use style=\"fill:#1f77b4;stroke:#1f77b4;\" x=\"229.776065\" xlink:href=\"#me319d538ff\" y=\"140.644224\"/>\n     <use style=\"fill:#1f77b4;stroke:#1f77b4;\" x=\"239.136498\" xlink:href=\"#me319d538ff\" y=\"122.00922\"/>\n     <use style=\"fill:#1f77b4;stroke:#1f77b4;\" x=\"187.10452\" xlink:href=\"#me319d538ff\" y=\"79.319245\"/>\n     <use style=\"fill:#1f77b4;stroke:#1f77b4;\" x=\"201.111941\" xlink:href=\"#me319d538ff\" y=\"105.751959\"/>\n     <use style=\"fill:#1f77b4;stroke:#1f77b4;\" x=\"165.584644\" xlink:href=\"#me319d538ff\" y=\"100.972729\"/>\n     <use style=\"fill:#1f77b4;stroke:#1f77b4;\" x=\"136.299923\" xlink:href=\"#me319d538ff\" y=\"67.793238\"/>\n     <use style=\"fill:#1f77b4;stroke:#1f77b4;\" x=\"163.507543\" xlink:href=\"#me319d538ff\" y=\"81.8948\"/>\n     <use style=\"fill:#1f77b4;stroke:#1f77b4;\" x=\"168.958748\" xlink:href=\"#me319d538ff\" y=\"100.214747\"/>\n     <use style=\"fill:#1f77b4;stroke:#1f77b4;\" x=\"188.932556\" xlink:href=\"#me319d538ff\" y=\"94.420145\"/>\n     <use style=\"fill:#1f77b4;stroke:#1f77b4;\" x=\"142.455257\" xlink:href=\"#me319d538ff\" y=\"84.437811\"/>\n     <use style=\"fill:#1f77b4;stroke:#1f77b4;\" x=\"105.685058\" xlink:href=\"#me319d538ff\" y=\"45.799489\"/>\n     <use style=\"fill:#1f77b4;stroke:#1f77b4;\" x=\"184.738037\" xlink:href=\"#me319d538ff\" y=\"98.833814\"/>\n     <use style=\"fill:#1f77b4;stroke:#1f77b4;\" x=\"181.52192\" xlink:href=\"#me319d538ff\" y=\"93.511929\"/>\n     <use style=\"fill:#1f77b4;stroke:#1f77b4;\" x=\"191.24461\" xlink:href=\"#me319d538ff\" y=\"103.550047\"/>\n     <use style=\"fill:#1f77b4;stroke:#1f77b4;\" x=\"187.518631\" xlink:href=\"#me319d538ff\" y=\"126.967508\"/>\n     <use style=\"fill:#1f77b4;stroke:#1f77b4;\" x=\"244.633532\" xlink:href=\"#me319d538ff\" y=\"149.9092\"/>\n     <use style=\"fill:#1f77b4;stroke:#1f77b4;\" x=\"173.125903\" xlink:href=\"#me319d538ff\" y=\"88.650154\"/>\n     <use style=\"fill:#1f77b4;stroke:#1f77b4;\" x=\"172.316673\" xlink:href=\"#me319d538ff\" y=\"76.427923\"/>\n     <use style=\"fill:#1f77b4;stroke:#1f77b4;\" x=\"216.075351\" xlink:href=\"#me319d538ff\" y=\"117.585504\"/>\n     <use style=\"fill:#1f77b4;stroke:#1f77b4;\" x=\"186.225612\" xlink:href=\"#me319d538ff\" y=\"102.955942\"/>\n     <use style=\"fill:#1f77b4;stroke:#1f77b4;\" x=\"246.921716\" xlink:href=\"#me319d538ff\" y=\"131.782603\"/>\n     <use style=\"fill:#1f77b4;stroke:#1f77b4;\" x=\"173.024981\" xlink:href=\"#me319d538ff\" y=\"101.67456\"/>\n     <use style=\"fill:#1f77b4;stroke:#1f77b4;\" x=\"158.374803\" xlink:href=\"#me319d538ff\" y=\"66.56855\"/>\n     <use style=\"fill:#1f77b4;stroke:#1f77b4;\" x=\"155.03221\" xlink:href=\"#me319d538ff\" y=\"77.042578\"/>\n     <use style=\"fill:#1f77b4;stroke:#1f77b4;\" x=\"239.041505\" xlink:href=\"#me319d538ff\" y=\"126.309341\"/>\n     <use style=\"fill:#1f77b4;stroke:#1f77b4;\" x=\"176.638377\" xlink:href=\"#me319d538ff\" y=\"104.139462\"/>\n     <use style=\"fill:#1f77b4;stroke:#1f77b4;\" x=\"215.971598\" xlink:href=\"#me319d538ff\" y=\"120.201474\"/>\n     <use style=\"fill:#1f77b4;stroke:#1f77b4;\" x=\"200.156045\" xlink:href=\"#me319d538ff\" y=\"101.884618\"/>\n     <use style=\"fill:#1f77b4;stroke:#1f77b4;\" x=\"189.370748\" xlink:href=\"#me319d538ff\" y=\"109.048221\"/>\n     <use style=\"fill:#1f77b4;stroke:#1f77b4;\" x=\"177.897825\" xlink:href=\"#me319d538ff\" y=\"93.993665\"/>\n     <use style=\"fill:#1f77b4;stroke:#1f77b4;\" x=\"169.069123\" xlink:href=\"#me319d538ff\" y=\"75.101592\"/>\n     <use style=\"fill:#1f77b4;stroke:#1f77b4;\" x=\"150.777027\" xlink:href=\"#me319d538ff\" y=\"74.259617\"/>\n     <use style=\"fill:#1f77b4;stroke:#1f77b4;\" x=\"251.086729\" xlink:href=\"#me319d538ff\" y=\"139.205265\"/>\n     <use style=\"fill:#1f77b4;stroke:#1f77b4;\" x=\"194.347177\" xlink:href=\"#me319d538ff\" y=\"96.873105\"/>\n     <use style=\"fill:#1f77b4;stroke:#1f77b4;\" x=\"136.600863\" xlink:href=\"#me319d538ff\" y=\"77.922018\"/>\n     <use style=\"fill:#1f77b4;stroke:#1f77b4;\" x=\"214.8719\" xlink:href=\"#me319d538ff\" y=\"133.015404\"/>\n     <use style=\"fill:#1f77b4;stroke:#1f77b4;\" x=\"112.429531\" xlink:href=\"#me319d538ff\" y=\"79.81627\"/>\n     <use style=\"fill:#1f77b4;stroke:#1f77b4;\" x=\"177.629697\" xlink:href=\"#me319d538ff\" y=\"90.972172\"/>\n     <use style=\"fill:#1f77b4;stroke:#1f77b4;\" x=\"166.188301\" xlink:href=\"#me319d538ff\" y=\"100.239366\"/>\n     <use style=\"fill:#1f77b4;stroke:#1f77b4;\" x=\"229.231775\" xlink:href=\"#me319d538ff\" y=\"129.486324\"/>\n     <use style=\"fill:#1f77b4;stroke:#1f77b4;\" x=\"159.165423\" xlink:href=\"#me319d538ff\" y=\"83.046462\"/>\n     <use style=\"fill:#1f77b4;stroke:#1f77b4;\" x=\"141.134934\" xlink:href=\"#me319d538ff\" y=\"64.525656\"/>\n     <use style=\"fill:#1f77b4;stroke:#1f77b4;\" x=\"152.817824\" xlink:href=\"#me319d538ff\" y=\"95.731477\"/>\n     <use style=\"fill:#1f77b4;stroke:#1f77b4;\" x=\"236.293222\" xlink:href=\"#me319d538ff\" y=\"117.174917\"/>\n     <use style=\"fill:#1f77b4;stroke:#1f77b4;\" x=\"180.839373\" xlink:href=\"#me319d538ff\" y=\"99.272552\"/>\n     <use style=\"fill:#1f77b4;stroke:#1f77b4;\" x=\"184.001252\" xlink:href=\"#me319d538ff\" y=\"113.345632\"/>\n     <use style=\"fill:#1f77b4;stroke:#1f77b4;\" x=\"189.315821\" xlink:href=\"#me319d538ff\" y=\"80.908785\"/>\n     <use style=\"fill:#1f77b4;stroke:#1f77b4;\" x=\"123.878278\" xlink:href=\"#me319d538ff\" y=\"64.155641\"/>\n     <use style=\"fill:#1f77b4;stroke:#1f77b4;\" x=\"162.070473\" xlink:href=\"#me319d538ff\" y=\"102.026988\"/>\n     <use style=\"fill:#1f77b4;stroke:#1f77b4;\" x=\"113.649351\" xlink:href=\"#me319d538ff\" y=\"62.485348\"/>\n     <use style=\"fill:#1f77b4;stroke:#1f77b4;\" x=\"135.056054\" xlink:href=\"#me319d538ff\" y=\"97.506849\"/>\n     <use style=\"fill:#1f77b4;stroke:#1f77b4;\" x=\"147.395338\" xlink:href=\"#me319d538ff\" y=\"73.344135\"/>\n     <use style=\"fill:#1f77b4;stroke:#1f77b4;\" x=\"162.586715\" xlink:href=\"#me319d538ff\" y=\"70.138546\"/>\n     <use style=\"fill:#1f77b4;stroke:#1f77b4;\" x=\"170.516426\" xlink:href=\"#me319d538ff\" y=\"84.25175\"/>\n     <use style=\"fill:#1f77b4;stroke:#1f77b4;\" x=\"164.850378\" xlink:href=\"#me319d538ff\" y=\"91.667889\"/>\n     <use style=\"fill:#1f77b4;stroke:#1f77b4;\" x=\"215.404615\" xlink:href=\"#me319d538ff\" y=\"109.310853\"/>\n     <use style=\"fill:#1f77b4;stroke:#1f77b4;\" x=\"178.093243\" xlink:href=\"#me319d538ff\" y=\"102.760181\"/>\n     <use style=\"fill:#1f77b4;stroke:#1f77b4;\" x=\"155.202109\" xlink:href=\"#me319d538ff\" y=\"70.793494\"/>\n     <use style=\"fill:#1f77b4;stroke:#1f77b4;\" x=\"179.413301\" xlink:href=\"#me319d538ff\" y=\"94.35072\"/>\n     <use style=\"fill:#1f77b4;stroke:#1f77b4;\" x=\"179.162491\" xlink:href=\"#me319d538ff\" y=\"98.200091\"/>\n     <use style=\"fill:#1f77b4;stroke:#1f77b4;\" x=\"129.168429\" xlink:href=\"#me319d538ff\" y=\"71.4935\"/>\n     <use style=\"fill:#1f77b4;stroke:#1f77b4;\" x=\"158.015936\" xlink:href=\"#me319d538ff\" y=\"86.146335\"/>\n     <use style=\"fill:#1f77b4;stroke:#1f77b4;\" x=\"182.603434\" xlink:href=\"#me319d538ff\" y=\"117.468336\"/>\n     <use style=\"fill:#1f77b4;stroke:#1f77b4;\" x=\"238.353918\" xlink:href=\"#me319d538ff\" y=\"120.831949\"/>\n     <use style=\"fill:#1f77b4;stroke:#1f77b4;\" x=\"178.432501\" xlink:href=\"#me319d538ff\" y=\"100.340103\"/>\n     <use style=\"fill:#1f77b4;stroke:#1f77b4;\" x=\"172.590137\" xlink:href=\"#me319d538ff\" y=\"83.856279\"/>\n     <use style=\"fill:#1f77b4;stroke:#1f77b4;\" x=\"157.124057\" xlink:href=\"#me319d538ff\" y=\"73.556701\"/>\n     <use style=\"fill:#1f77b4;stroke:#1f77b4;\" x=\"227.319366\" xlink:href=\"#me319d538ff\" y=\"110.846517\"/>\n     <use style=\"fill:#1f77b4;stroke:#1f77b4;\" x=\"236.840656\" xlink:href=\"#me319d538ff\" y=\"137.841907\"/>\n     <use style=\"fill:#1f77b4;stroke:#1f77b4;\" x=\"165.913139\" xlink:href=\"#me319d538ff\" y=\"100.342561\"/>\n     <use style=\"fill:#1f77b4;stroke:#1f77b4;\" x=\"195.238003\" xlink:href=\"#me319d538ff\" y=\"89.492863\"/>\n     <use style=\"fill:#1f77b4;stroke:#1f77b4;\" x=\"156.40312\" xlink:href=\"#me319d538ff\" y=\"86.450563\"/>\n     <use style=\"fill:#1f77b4;stroke:#1f77b4;\" x=\"181.050383\" xlink:href=\"#me319d538ff\" y=\"91.470875\"/>\n     <use style=\"fill:#1f77b4;stroke:#1f77b4;\" x=\"170.599504\" xlink:href=\"#me319d538ff\" y=\"106.431176\"/>\n     <use style=\"fill:#1f77b4;stroke:#1f77b4;\" x=\"196.71188\" xlink:href=\"#me319d538ff\" y=\"101.784616\"/>\n     <use style=\"fill:#1f77b4;stroke:#1f77b4;\" x=\"120.982106\" xlink:href=\"#me319d538ff\" y=\"70.070471\"/>\n     <use style=\"fill:#1f77b4;stroke:#1f77b4;\" x=\"143.808817\" xlink:href=\"#me319d538ff\" y=\"84.389815\"/>\n     <use style=\"fill:#1f77b4;stroke:#1f77b4;\" x=\"80.610496\" xlink:href=\"#me319d538ff\" y=\"41.115074\"/>\n     <use style=\"fill:#1f77b4;stroke:#1f77b4;\" x=\"121.861777\" xlink:href=\"#me319d538ff\" y=\"71.520934\"/>\n     <use style=\"fill:#1f77b4;stroke:#1f77b4;\" x=\"144.938003\" xlink:href=\"#me319d538ff\" y=\"77.926985\"/>\n     <use style=\"fill:#1f77b4;stroke:#1f77b4;\" x=\"119.922042\" xlink:href=\"#me319d538ff\" y=\"47.929588\"/>\n     <use style=\"fill:#1f77b4;stroke:#1f77b4;\" x=\"169.694946\" xlink:href=\"#me319d538ff\" y=\"87.056228\"/>\n     <use style=\"fill:#1f77b4;stroke:#1f77b4;\" x=\"252.137879\" xlink:href=\"#me319d538ff\" y=\"116.460013\"/>\n     <use style=\"fill:#1f77b4;stroke:#1f77b4;\" x=\"202.31313\" xlink:href=\"#me319d538ff\" y=\"124.192357\"/>\n     <use style=\"fill:#1f77b4;stroke:#1f77b4;\" x=\"161.675914\" xlink:href=\"#me319d538ff\" y=\"90.756662\"/>\n     <use style=\"fill:#1f77b4;stroke:#1f77b4;\" x=\"167.550588\" xlink:href=\"#me319d538ff\" y=\"92.256695\"/>\n     <use style=\"fill:#1f77b4;stroke:#1f77b4;\" x=\"190.163903\" xlink:href=\"#me319d538ff\" y=\"85.849097\"/>\n     <use style=\"fill:#1f77b4;stroke:#1f77b4;\" x=\"196.746242\" xlink:href=\"#me319d538ff\" y=\"120.892135\"/>\n     <use style=\"fill:#1f77b4;stroke:#1f77b4;\" x=\"169.087823\" xlink:href=\"#me319d538ff\" y=\"119.653077\"/>\n     <use style=\"fill:#1f77b4;stroke:#1f77b4;\" x=\"173.874371\" xlink:href=\"#me319d538ff\" y=\"90.443866\"/>\n     <use style=\"fill:#1f77b4;stroke:#1f77b4;\" x=\"251.927812\" xlink:href=\"#me319d538ff\" y=\"143.99358\"/>\n     <use style=\"fill:#1f77b4;stroke:#1f77b4;\" x=\"124.285684\" xlink:href=\"#me319d538ff\" y=\"62.335628\"/>\n     <use style=\"fill:#1f77b4;stroke:#1f77b4;\" x=\"139.641422\" xlink:href=\"#me319d538ff\" y=\"91.497297\"/>\n     <use style=\"fill:#1f77b4;stroke:#1f77b4;\" x=\"197.92677\" xlink:href=\"#me319d538ff\" y=\"103.982708\"/>\n     <use style=\"fill:#1f77b4;stroke:#1f77b4;\" x=\"174.859643\" xlink:href=\"#me319d538ff\" y=\"88.460437\"/>\n     <use style=\"fill:#1f77b4;stroke:#1f77b4;\" x=\"187.797295\" xlink:href=\"#me319d538ff\" y=\"99.392059\"/>\n     <use style=\"fill:#1f77b4;stroke:#1f77b4;\" x=\"153.283444\" xlink:href=\"#me319d538ff\" y=\"102.430033\"/>\n     <use style=\"fill:#1f77b4;stroke:#1f77b4;\" x=\"130.947036\" xlink:href=\"#me319d538ff\" y=\"76.920182\"/>\n     <use style=\"fill:#1f77b4;stroke:#1f77b4;\" x=\"210.30469\" xlink:href=\"#me319d538ff\" y=\"118.489205\"/>\n     <use style=\"fill:#1f77b4;stroke:#1f77b4;\" x=\"109.086904\" xlink:href=\"#me319d538ff\" y=\"74.631263\"/>\n     <use style=\"fill:#1f77b4;stroke:#1f77b4;\" x=\"195.043763\" xlink:href=\"#me319d538ff\" y=\"90.300908\"/>\n     <use style=\"fill:#1f77b4;stroke:#1f77b4;\" x=\"107.485772\" xlink:href=\"#me319d538ff\" y=\"40.343852\"/>\n     <use style=\"fill:#1f77b4;stroke:#1f77b4;\" x=\"252.843906\" xlink:href=\"#me319d538ff\" y=\"133.292189\"/>\n     <use style=\"fill:#1f77b4;stroke:#1f77b4;\" x=\"132.438178\" xlink:href=\"#me319d538ff\" y=\"85.504899\"/>\n     <use style=\"fill:#1f77b4;stroke:#1f77b4;\" x=\"153.765219\" xlink:href=\"#me319d538ff\" y=\"74.620883\"/>\n     <use style=\"fill:#1f77b4;stroke:#1f77b4;\" x=\"199.063208\" xlink:href=\"#me319d538ff\" y=\"127.387114\"/>\n     <use style=\"fill:#1f77b4;stroke:#1f77b4;\" x=\"218.05329\" xlink:href=\"#me319d538ff\" y=\"124.237091\"/>\n     <use style=\"fill:#1f77b4;stroke:#1f77b4;\" x=\"176.492635\" xlink:href=\"#me319d538ff\" y=\"118.269228\"/>\n     <use style=\"fill:#1f77b4;stroke:#1f77b4;\" x=\"243.107307\" xlink:href=\"#me319d538ff\" y=\"136.39482\"/>\n     <use style=\"fill:#1f77b4;stroke:#1f77b4;\" x=\"144.798064\" xlink:href=\"#me319d538ff\" y=\"62.148052\"/>\n     <use style=\"fill:#1f77b4;stroke:#1f77b4;\" x=\"211.772255\" xlink:href=\"#me319d538ff\" y=\"117.775771\"/>\n     <use style=\"fill:#1f77b4;stroke:#1f77b4;\" x=\"211.452232\" xlink:href=\"#me319d538ff\" y=\"112.955744\"/>\n     <use style=\"fill:#1f77b4;stroke:#1f77b4;\" x=\"208.012325\" xlink:href=\"#me319d538ff\" y=\"84.745389\"/>\n     <use style=\"fill:#1f77b4;stroke:#1f77b4;\" x=\"161.351327\" xlink:href=\"#me319d538ff\" y=\"79.453601\"/>\n     <use style=\"fill:#1f77b4;stroke:#1f77b4;\" x=\"187.612038\" xlink:href=\"#me319d538ff\" y=\"102.591311\"/>\n     <use style=\"fill:#1f77b4;stroke:#1f77b4;\" x=\"256.424539\" xlink:href=\"#me319d538ff\" y=\"138.106764\"/>\n     <use style=\"fill:#1f77b4;stroke:#1f77b4;\" x=\"157.021166\" xlink:href=\"#me319d538ff\" y=\"81.304317\"/>\n     <use style=\"fill:#1f77b4;stroke:#1f77b4;\" x=\"225.293808\" xlink:href=\"#me319d538ff\" y=\"130.645975\"/>\n     <use style=\"fill:#1f77b4;stroke:#1f77b4;\" x=\"217.388554\" xlink:href=\"#me319d538ff\" y=\"113.111373\"/>\n     <use style=\"fill:#1f77b4;stroke:#1f77b4;\" x=\"270.384699\" xlink:href=\"#me319d538ff\" y=\"157.584023\"/>\n     <use style=\"fill:#1f77b4;stroke:#1f77b4;\" x=\"115.362162\" xlink:href=\"#me319d538ff\" y=\"70.357377\"/>\n     <use style=\"fill:#1f77b4;stroke:#1f77b4;\" x=\"197.791728\" xlink:href=\"#me319d538ff\" y=\"129.1142\"/>\n     <use style=\"fill:#1f77b4;stroke:#1f77b4;\" x=\"156.693736\" xlink:href=\"#me319d538ff\" y=\"89.447577\"/>\n     <use style=\"fill:#1f77b4;stroke:#1f77b4;\" x=\"229.255803\" xlink:href=\"#me319d538ff\" y=\"110.357968\"/>\n     <use style=\"fill:#1f77b4;stroke:#1f77b4;\" x=\"215.712257\" xlink:href=\"#me319d538ff\" y=\"114.49329\"/>\n     <use style=\"fill:#1f77b4;stroke:#1f77b4;\" x=\"232.432255\" xlink:href=\"#me319d538ff\" y=\"131.410435\"/>\n     <use style=\"fill:#1f77b4;stroke:#1f77b4;\" x=\"190.500606\" xlink:href=\"#me319d538ff\" y=\"109.724654\"/>\n     <use style=\"fill:#1f77b4;stroke:#1f77b4;\" x=\"101.944971\" xlink:href=\"#me319d538ff\" y=\"41.871557\"/>\n     <use style=\"fill:#1f77b4;stroke:#1f77b4;\" x=\"166.228907\" xlink:href=\"#me319d538ff\" y=\"86.306592\"/>\n     <use style=\"fill:#1f77b4;stroke:#1f77b4;\" x=\"207.409258\" xlink:href=\"#me319d538ff\" y=\"119.7466\"/>\n     <use style=\"fill:#1f77b4;stroke:#1f77b4;\" x=\"198.691187\" xlink:href=\"#me319d538ff\" y=\"91.616494\"/>\n     <use style=\"fill:#1f77b4;stroke:#1f77b4;\" x=\"190.5626\" xlink:href=\"#me319d538ff\" y=\"109.256433\"/>\n     <use style=\"fill:#1f77b4;stroke:#1f77b4;\" x=\"156.333669\" xlink:href=\"#me319d538ff\" y=\"102.777071\"/>\n     <use style=\"fill:#1f77b4;stroke:#1f77b4;\" x=\"210.524135\" xlink:href=\"#me319d538ff\" y=\"107.701348\"/>\n     <use style=\"fill:#1f77b4;stroke:#1f77b4;\" x=\"242.022751\" xlink:href=\"#me319d538ff\" y=\"118.272331\"/>\n     <use style=\"fill:#1f77b4;stroke:#1f77b4;\" x=\"252.831872\" xlink:href=\"#me319d538ff\" y=\"149.826724\"/>\n     <use style=\"fill:#1f77b4;stroke:#1f77b4;\" x=\"189.41684\" xlink:href=\"#me319d538ff\" y=\"103.104635\"/>\n     <use style=\"fill:#1f77b4;stroke:#1f77b4;\" x=\"192.006299\" xlink:href=\"#me319d538ff\" y=\"104.496735\"/>\n     <use style=\"fill:#1f77b4;stroke:#1f77b4;\" x=\"141.09488\" xlink:href=\"#me319d538ff\" y=\"67.872396\"/>\n     <use style=\"fill:#1f77b4;stroke:#1f77b4;\" x=\"197.351385\" xlink:href=\"#me319d538ff\" y=\"98.204729\"/>\n     <use style=\"fill:#1f77b4;stroke:#1f77b4;\" x=\"180.446305\" xlink:href=\"#me319d538ff\" y=\"83.226191\"/>\n     <use style=\"fill:#1f77b4;stroke:#1f77b4;\" x=\"125.112974\" xlink:href=\"#me319d538ff\" y=\"66.422595\"/>\n     <use style=\"fill:#1f77b4;stroke:#1f77b4;\" x=\"129.278461\" xlink:href=\"#me319d538ff\" y=\"62.357378\"/>\n     <use style=\"fill:#1f77b4;stroke:#1f77b4;\" x=\"198.108284\" xlink:href=\"#me319d538ff\" y=\"127.977862\"/>\n     <use style=\"fill:#1f77b4;stroke:#1f77b4;\" x=\"185.771737\" xlink:href=\"#me319d538ff\" y=\"76.425795\"/>\n     <use style=\"fill:#1f77b4;stroke:#1f77b4;\" x=\"123.493429\" xlink:href=\"#me319d538ff\" y=\"64.095647\"/>\n     <use style=\"fill:#1f77b4;stroke:#1f77b4;\" x=\"187.721155\" xlink:href=\"#me319d538ff\" y=\"99.438015\"/>\n     <use style=\"fill:#1f77b4;stroke:#1f77b4;\" x=\"194.654135\" xlink:href=\"#me319d538ff\" y=\"112.219288\"/>\n     <use style=\"fill:#1f77b4;stroke:#1f77b4;\" x=\"150.69875\" xlink:href=\"#me319d538ff\" y=\"80.51892\"/>\n     <use style=\"fill:#1f77b4;stroke:#1f77b4;\" x=\"174.664692\" xlink:href=\"#me319d538ff\" y=\"70.695628\"/>\n     <use style=\"fill:#1f77b4;stroke:#1f77b4;\" x=\"158.661249\" xlink:href=\"#me319d538ff\" y=\"63.59525\"/>\n     <use style=\"fill:#1f77b4;stroke:#1f77b4;\" x=\"184.280754\" xlink:href=\"#me319d538ff\" y=\"98.217554\"/>\n     <use style=\"fill:#1f77b4;stroke:#1f77b4;\" x=\"209.253938\" xlink:href=\"#me319d538ff\" y=\"129.306982\"/>\n     <use style=\"fill:#1f77b4;stroke:#1f77b4;\" x=\"231.570604\" xlink:href=\"#me319d538ff\" y=\"124.487556\"/>\n     <use style=\"fill:#1f77b4;stroke:#1f77b4;\" x=\"144.762295\" xlink:href=\"#me319d538ff\" y=\"61.270107\"/>\n     <use style=\"fill:#1f77b4;stroke:#1f77b4;\" x=\"197.805821\" xlink:href=\"#me319d538ff\" y=\"108.362852\"/>\n     <use style=\"fill:#1f77b4;stroke:#1f77b4;\" x=\"127.221473\" xlink:href=\"#me319d538ff\" y=\"68.106736\"/>\n     <use style=\"fill:#1f77b4;stroke:#1f77b4;\" x=\"133.079148\" xlink:href=\"#me319d538ff\" y=\"61.484623\"/>\n     <use style=\"fill:#1f77b4;stroke:#1f77b4;\" x=\"146.962623\" xlink:href=\"#me319d538ff\" y=\"96.758756\"/>\n     <use style=\"fill:#1f77b4;stroke:#1f77b4;\" x=\"161.351332\" xlink:href=\"#me319d538ff\" y=\"90.592913\"/>\n     <use style=\"fill:#1f77b4;stroke:#1f77b4;\" x=\"191.597779\" xlink:href=\"#me319d538ff\" y=\"122.469744\"/>\n     <use style=\"fill:#1f77b4;stroke:#1f77b4;\" x=\"217.238103\" xlink:href=\"#me319d538ff\" y=\"125.417131\"/>\n     <use style=\"fill:#1f77b4;stroke:#1f77b4;\" x=\"183.344895\" xlink:href=\"#me319d538ff\" y=\"103.570972\"/>\n     <use style=\"fill:#1f77b4;stroke:#1f77b4;\" x=\"154.394232\" xlink:href=\"#me319d538ff\" y=\"88.156576\"/>\n     <use style=\"fill:#1f77b4;stroke:#1f77b4;\" x=\"162.488097\" xlink:href=\"#me319d538ff\" y=\"103.314881\"/>\n     <use style=\"fill:#1f77b4;stroke:#1f77b4;\" x=\"185.475632\" xlink:href=\"#me319d538ff\" y=\"102.400034\"/>\n     <use style=\"fill:#1f77b4;stroke:#1f77b4;\" x=\"155.177323\" xlink:href=\"#me319d538ff\" y=\"79.603377\"/>\n     <use style=\"fill:#1f77b4;stroke:#1f77b4;\" x=\"191.498537\" xlink:href=\"#me319d538ff\" y=\"84.501003\"/>\n     <use style=\"fill:#1f77b4;stroke:#1f77b4;\" x=\"148.0612\" xlink:href=\"#me319d538ff\" y=\"114.089858\"/>\n     <use style=\"fill:#1f77b4;stroke:#1f77b4;\" x=\"179.784487\" xlink:href=\"#me319d538ff\" y=\"90.583721\"/>\n     <use style=\"fill:#1f77b4;stroke:#1f77b4;\" x=\"158.395809\" xlink:href=\"#me319d538ff\" y=\"59.704709\"/>\n     <use style=\"fill:#1f77b4;stroke:#1f77b4;\" x=\"179.247354\" xlink:href=\"#me319d538ff\" y=\"109.444213\"/>\n     <use style=\"fill:#1f77b4;stroke:#1f77b4;\" x=\"189.238812\" xlink:href=\"#me319d538ff\" y=\"105.728402\"/>\n     <use style=\"fill:#1f77b4;stroke:#1f77b4;\" x=\"190.077336\" xlink:href=\"#me319d538ff\" y=\"106.657231\"/>\n     <use style=\"fill:#1f77b4;stroke:#1f77b4;\" x=\"152.533351\" xlink:href=\"#me319d538ff\" y=\"83.997095\"/>\n     <use style=\"fill:#1f77b4;stroke:#1f77b4;\" x=\"199.785641\" xlink:href=\"#me319d538ff\" y=\"126.333386\"/>\n     <use style=\"fill:#1f77b4;stroke:#1f77b4;\" x=\"205.048528\" xlink:href=\"#me319d538ff\" y=\"108.851627\"/>\n     <use style=\"fill:#1f77b4;stroke:#1f77b4;\" x=\"116.500764\" xlink:href=\"#me319d538ff\" y=\"52.037513\"/>\n     <use style=\"fill:#1f77b4;stroke:#1f77b4;\" x=\"141.624979\" xlink:href=\"#me319d538ff\" y=\"78.930331\"/>\n     <use style=\"fill:#1f77b4;stroke:#1f77b4;\" x=\"195.533752\" xlink:href=\"#me319d538ff\" y=\"111.442175\"/>\n     <use style=\"fill:#1f77b4;stroke:#1f77b4;\" x=\"192.891193\" xlink:href=\"#me319d538ff\" y=\"104.89594\"/>\n     <use style=\"fill:#1f77b4;stroke:#1f77b4;\" x=\"138.22365\" xlink:href=\"#me319d538ff\" y=\"65.347633\"/>\n     <use style=\"fill:#1f77b4;stroke:#1f77b4;\" x=\"195.857169\" xlink:href=\"#me319d538ff\" y=\"116.727915\"/>\n     <use style=\"fill:#1f77b4;stroke:#1f77b4;\" x=\"196.586132\" xlink:href=\"#me319d538ff\" y=\"104.409178\"/>\n     <use style=\"fill:#1f77b4;stroke:#1f77b4;\" x=\"144.684807\" xlink:href=\"#me319d538ff\" y=\"68.8758\"/>\n     <use style=\"fill:#1f77b4;stroke:#1f77b4;\" x=\"231.143432\" xlink:href=\"#me319d538ff\" y=\"121.040341\"/>\n     <use style=\"fill:#1f77b4;stroke:#1f77b4;\" x=\"174.056001\" xlink:href=\"#me319d538ff\" y=\"85.393439\"/>\n     <use style=\"fill:#1f77b4;stroke:#1f77b4;\" x=\"191.269248\" xlink:href=\"#me319d538ff\" y=\"89.273243\"/>\n     <use style=\"fill:#1f77b4;stroke:#1f77b4;\" x=\"124.876984\" xlink:href=\"#me319d538ff\" y=\"75.08094\"/>\n     <use style=\"fill:#1f77b4;stroke:#1f77b4;\" x=\"186.114667\" xlink:href=\"#me319d538ff\" y=\"107.803722\"/>\n     <use style=\"fill:#1f77b4;stroke:#1f77b4;\" x=\"107.130846\" xlink:href=\"#me319d538ff\" y=\"67.693503\"/>\n     <use style=\"fill:#1f77b4;stroke:#1f77b4;\" x=\"146.687729\" xlink:href=\"#me319d538ff\" y=\"98.836572\"/>\n     <use style=\"fill:#1f77b4;stroke:#1f77b4;\" x=\"170.844466\" xlink:href=\"#me319d538ff\" y=\"98.079475\"/>\n     <use style=\"fill:#1f77b4;stroke:#1f77b4;\" x=\"177.571263\" xlink:href=\"#me319d538ff\" y=\"96.079108\"/>\n     <use style=\"fill:#1f77b4;stroke:#1f77b4;\" x=\"171.370657\" xlink:href=\"#me319d538ff\" y=\"87.206617\"/>\n     <use style=\"fill:#1f77b4;stroke:#1f77b4;\" x=\"177.916297\" xlink:href=\"#me319d538ff\" y=\"85.26393\"/>\n     <use style=\"fill:#1f77b4;stroke:#1f77b4;\" x=\"281.995574\" xlink:href=\"#me319d538ff\" y=\"167.001689\"/>\n     <use style=\"fill:#1f77b4;stroke:#1f77b4;\" x=\"213.464989\" xlink:href=\"#me319d538ff\" y=\"112.549977\"/>\n     <use style=\"fill:#1f77b4;stroke:#1f77b4;\" x=\"95.895915\" xlink:href=\"#me319d538ff\" y=\"45.568071\"/>\n     <use style=\"fill:#1f77b4;stroke:#1f77b4;\" x=\"213.387903\" xlink:href=\"#me319d538ff\" y=\"121.963072\"/>\n     <use style=\"fill:#1f77b4;stroke:#1f77b4;\" x=\"153.785188\" xlink:href=\"#me319d538ff\" y=\"75.705103\"/>\n     <use style=\"fill:#1f77b4;stroke:#1f77b4;\" x=\"126.81154\" xlink:href=\"#me319d538ff\" y=\"70.264196\"/>\n     <use style=\"fill:#1f77b4;stroke:#1f77b4;\" x=\"192.197765\" xlink:href=\"#me319d538ff\" y=\"103.549001\"/>\n     <use style=\"fill:#1f77b4;stroke:#1f77b4;\" x=\"200.259712\" xlink:href=\"#me319d538ff\" y=\"109.833028\"/>\n     <use style=\"fill:#1f77b4;stroke:#1f77b4;\" x=\"198.626128\" xlink:href=\"#me319d538ff\" y=\"110.228264\"/>\n     <use style=\"fill:#1f77b4;stroke:#1f77b4;\" x=\"83.415648\" xlink:href=\"#me319d538ff\" y=\"35.21068\"/>\n     <use style=\"fill:#1f77b4;stroke:#1f77b4;\" x=\"125.459492\" xlink:href=\"#me319d538ff\" y=\"55.318758\"/>\n     <use style=\"fill:#1f77b4;stroke:#1f77b4;\" x=\"163.386356\" xlink:href=\"#me319d538ff\" y=\"92.414303\"/>\n     <use style=\"fill:#1f77b4;stroke:#1f77b4;\" x=\"212.397343\" xlink:href=\"#me319d538ff\" y=\"96.216143\"/>\n     <use style=\"fill:#1f77b4;stroke:#1f77b4;\" x=\"180.19339\" xlink:href=\"#me319d538ff\" y=\"98.870247\"/>\n     <use style=\"fill:#1f77b4;stroke:#1f77b4;\" x=\"153.4163\" xlink:href=\"#me319d538ff\" y=\"76.103639\"/>\n     <use style=\"fill:#1f77b4;stroke:#1f77b4;\" x=\"242.436612\" xlink:href=\"#me319d538ff\" y=\"135.563435\"/>\n     <use style=\"fill:#1f77b4;stroke:#1f77b4;\" x=\"208.775758\" xlink:href=\"#me319d538ff\" y=\"113.575227\"/>\n     <use style=\"fill:#1f77b4;stroke:#1f77b4;\" x=\"209.521665\" xlink:href=\"#me319d538ff\" y=\"108.012121\"/>\n     <use style=\"fill:#1f77b4;stroke:#1f77b4;\" x=\"194.175359\" xlink:href=\"#me319d538ff\" y=\"103.692047\"/>\n     <use style=\"fill:#1f77b4;stroke:#1f77b4;\" x=\"161.105794\" xlink:href=\"#me319d538ff\" y=\"83.839911\"/>\n     <use style=\"fill:#1f77b4;stroke:#1f77b4;\" x=\"199.513404\" xlink:href=\"#me319d538ff\" y=\"117.498279\"/>\n     <use style=\"fill:#1f77b4;stroke:#1f77b4;\" x=\"152.255913\" xlink:href=\"#me319d538ff\" y=\"82.39569\"/>\n     <use style=\"fill:#1f77b4;stroke:#1f77b4;\" x=\"203.948844\" xlink:href=\"#me319d538ff\" y=\"123.497974\"/>\n     <use style=\"fill:#1f77b4;stroke:#1f77b4;\" x=\"267.857192\" xlink:href=\"#me319d538ff\" y=\"133.359986\"/>\n     <use style=\"fill:#1f77b4;stroke:#1f77b4;\" x=\"124.45135\" xlink:href=\"#me319d538ff\" y=\"53.173116\"/>\n     <use style=\"fill:#1f77b4;stroke:#1f77b4;\" x=\"184.492991\" xlink:href=\"#me319d538ff\" y=\"107.018472\"/>\n     <use style=\"fill:#1f77b4;stroke:#1f77b4;\" x=\"170.654815\" xlink:href=\"#me319d538ff\" y=\"104.027176\"/>\n     <use style=\"fill:#1f77b4;stroke:#1f77b4;\" x=\"97.517594\" xlink:href=\"#me319d538ff\" y=\"77.001816\"/>\n     <use style=\"fill:#1f77b4;stroke:#1f77b4;\" x=\"183.045345\" xlink:href=\"#me319d538ff\" y=\"91.110922\"/>\n     <use style=\"fill:#1f77b4;stroke:#1f77b4;\" x=\"200.13287\" xlink:href=\"#me319d538ff\" y=\"100.206453\"/>\n     <use style=\"fill:#1f77b4;stroke:#1f77b4;\" x=\"142.265825\" xlink:href=\"#me319d538ff\" y=\"83.761485\"/>\n     <use style=\"fill:#1f77b4;stroke:#1f77b4;\" x=\"174.092319\" xlink:href=\"#me319d538ff\" y=\"96.773663\"/>\n     <use style=\"fill:#1f77b4;stroke:#1f77b4;\" x=\"159.79014\" xlink:href=\"#me319d538ff\" y=\"99.738194\"/>\n     <use style=\"fill:#1f77b4;stroke:#1f77b4;\" x=\"193.072743\" xlink:href=\"#me319d538ff\" y=\"110.9199\"/>\n     <use style=\"fill:#1f77b4;stroke:#1f77b4;\" x=\"195.202992\" xlink:href=\"#me319d538ff\" y=\"106.888849\"/>\n     <use style=\"fill:#1f77b4;stroke:#1f77b4;\" x=\"240.935687\" xlink:href=\"#me319d538ff\" y=\"132.39066\"/>\n     <use style=\"fill:#1f77b4;stroke:#1f77b4;\" x=\"144.201237\" xlink:href=\"#me319d538ff\" y=\"91.400888\"/>\n     <use style=\"fill:#1f77b4;stroke:#1f77b4;\" x=\"149.84868\" xlink:href=\"#me319d538ff\" y=\"57.360761\"/>\n     <use style=\"fill:#1f77b4;stroke:#1f77b4;\" x=\"184.035284\" xlink:href=\"#me319d538ff\" y=\"103.962981\"/>\n     <use style=\"fill:#1f77b4;stroke:#1f77b4;\" x=\"92.059495\" xlink:href=\"#me319d538ff\" y=\"37.764169\"/>\n     <use style=\"fill:#1f77b4;stroke:#1f77b4;\" x=\"218.327391\" xlink:href=\"#me319d538ff\" y=\"104.669725\"/>\n     <use style=\"fill:#1f77b4;stroke:#1f77b4;\" x=\"203.204987\" xlink:href=\"#me319d538ff\" y=\"93.466707\"/>\n     <use style=\"fill:#1f77b4;stroke:#1f77b4;\" x=\"217.649912\" xlink:href=\"#me319d538ff\" y=\"119.787133\"/>\n     <use style=\"fill:#1f77b4;stroke:#1f77b4;\" x=\"131.06787\" xlink:href=\"#me319d538ff\" y=\"81.166646\"/>\n     <use style=\"fill:#1f77b4;stroke:#1f77b4;\" x=\"175.948504\" xlink:href=\"#me319d538ff\" y=\"95.493846\"/>\n     <use style=\"fill:#1f77b4;stroke:#1f77b4;\" x=\"232.61\" xlink:href=\"#me319d538ff\" y=\"121.598049\"/>\n     <use style=\"fill:#1f77b4;stroke:#1f77b4;\" x=\"194.790885\" xlink:href=\"#me319d538ff\" y=\"106.201153\"/>\n     <use style=\"fill:#1f77b4;stroke:#1f77b4;\" x=\"203.28\" xlink:href=\"#me319d538ff\" y=\"97.311378\"/>\n     <use style=\"fill:#1f77b4;stroke:#1f77b4;\" x=\"218.992123\" xlink:href=\"#me319d538ff\" y=\"114.779069\"/>\n     <use style=\"fill:#1f77b4;stroke:#1f77b4;\" x=\"73.575671\" xlink:href=\"#me319d538ff\" y=\"47.359652\"/>\n     <use style=\"fill:#1f77b4;stroke:#1f77b4;\" x=\"212.199391\" xlink:href=\"#me319d538ff\" y=\"105.115455\"/>\n     <use style=\"fill:#1f77b4;stroke:#1f77b4;\" x=\"152.262575\" xlink:href=\"#me319d538ff\" y=\"81.517065\"/>\n     <use style=\"fill:#1f77b4;stroke:#1f77b4;\" x=\"72.898855\" xlink:href=\"#me319d538ff\" y=\"26.034088\"/>\n     <use style=\"fill:#1f77b4;stroke:#1f77b4;\" x=\"187.522759\" xlink:href=\"#me319d538ff\" y=\"107.148358\"/>\n     <use style=\"fill:#1f77b4;stroke:#1f77b4;\" x=\"146.572077\" xlink:href=\"#me319d538ff\" y=\"69.056348\"/>\n     <use style=\"fill:#1f77b4;stroke:#1f77b4;\" x=\"204.371503\" xlink:href=\"#me319d538ff\" y=\"134.146512\"/>\n     <use style=\"fill:#1f77b4;stroke:#1f77b4;\" x=\"119.280824\" xlink:href=\"#me319d538ff\" y=\"47.53604\"/>\n     <use style=\"fill:#1f77b4;stroke:#1f77b4;\" x=\"124.046325\" xlink:href=\"#me319d538ff\" y=\"59.290678\"/>\n     <use style=\"fill:#1f77b4;stroke:#1f77b4;\" x=\"189.469075\" xlink:href=\"#me319d538ff\" y=\"114.804917\"/>\n     <use style=\"fill:#1f77b4;stroke:#1f77b4;\" x=\"201.968678\" xlink:href=\"#me319d538ff\" y=\"96.614796\"/>\n     <use style=\"fill:#1f77b4;stroke:#1f77b4;\" x=\"122.781773\" xlink:href=\"#me319d538ff\" y=\"71.008039\"/>\n     <use style=\"fill:#1f77b4;stroke:#1f77b4;\" x=\"111.678705\" xlink:href=\"#me319d538ff\" y=\"63.412562\"/>\n     <use style=\"fill:#1f77b4;stroke:#1f77b4;\" x=\"174.756461\" xlink:href=\"#me319d538ff\" y=\"89.48477\"/>\n     <use style=\"fill:#1f77b4;stroke:#1f77b4;\" x=\"149.288156\" xlink:href=\"#me319d538ff\" y=\"83.094573\"/>\n     <use style=\"fill:#1f77b4;stroke:#1f77b4;\" x=\"193.121732\" xlink:href=\"#me319d538ff\" y=\"104.97673\"/>\n     <use style=\"fill:#1f77b4;stroke:#1f77b4;\" x=\"137.665643\" xlink:href=\"#me319d538ff\" y=\"72.827737\"/>\n     <use style=\"fill:#1f77b4;stroke:#1f77b4;\" x=\"186.127621\" xlink:href=\"#me319d538ff\" y=\"100.440285\"/>\n     <use style=\"fill:#1f77b4;stroke:#1f77b4;\" x=\"80.696197\" xlink:href=\"#me319d538ff\" y=\"37.348524\"/>\n     <use style=\"fill:#1f77b4;stroke:#1f77b4;\" x=\"226.304187\" xlink:href=\"#me319d538ff\" y=\"128.013909\"/>\n     <use style=\"fill:#1f77b4;stroke:#1f77b4;\" x=\"191.674596\" xlink:href=\"#me319d538ff\" y=\"119.187538\"/>\n     <use style=\"fill:#1f77b4;stroke:#1f77b4;\" x=\"126.844211\" xlink:href=\"#me319d538ff\" y=\"65.275243\"/>\n     <use style=\"fill:#1f77b4;stroke:#1f77b4;\" x=\"130.07999\" xlink:href=\"#me319d538ff\" y=\"86.706278\"/>\n     <use style=\"fill:#1f77b4;stroke:#1f77b4;\" x=\"168.0455\" xlink:href=\"#me319d538ff\" y=\"105.672508\"/>\n     <use style=\"fill:#1f77b4;stroke:#1f77b4;\" x=\"149.265402\" xlink:href=\"#me319d538ff\" y=\"90.937403\"/>\n     <use style=\"fill:#1f77b4;stroke:#1f77b4;\" x=\"223.505981\" xlink:href=\"#me319d538ff\" y=\"110.806\"/>\n     <use style=\"fill:#1f77b4;stroke:#1f77b4;\" x=\"175.729955\" xlink:href=\"#me319d538ff\" y=\"117.646997\"/>\n     <use style=\"fill:#1f77b4;stroke:#1f77b4;\" x=\"162.9535\" xlink:href=\"#me319d538ff\" y=\"83.760021\"/>\n     <use style=\"fill:#1f77b4;stroke:#1f77b4;\" x=\"126.203489\" xlink:href=\"#me319d538ff\" y=\"58.652794\"/>\n     <use style=\"fill:#1f77b4;stroke:#1f77b4;\" x=\"160.849633\" xlink:href=\"#me319d538ff\" y=\"89.239032\"/>\n     <use style=\"fill:#1f77b4;stroke:#1f77b4;\" x=\"189.906408\" xlink:href=\"#me319d538ff\" y=\"62.013863\"/>\n     <use style=\"fill:#1f77b4;stroke:#1f77b4;\" x=\"139.314825\" xlink:href=\"#me319d538ff\" y=\"74.158609\"/>\n     <use style=\"fill:#1f77b4;stroke:#1f77b4;\" x=\"211.286179\" xlink:href=\"#me319d538ff\" y=\"139.101254\"/>\n     <use style=\"fill:#1f77b4;stroke:#1f77b4;\" x=\"213.592089\" xlink:href=\"#me319d538ff\" y=\"109.17688\"/>\n     <use style=\"fill:#1f77b4;stroke:#1f77b4;\" x=\"132.530036\" xlink:href=\"#me319d538ff\" y=\"76.1647\"/>\n     <use style=\"fill:#1f77b4;stroke:#1f77b4;\" x=\"167.066603\" xlink:href=\"#me319d538ff\" y=\"78.036915\"/>\n     <use style=\"fill:#1f77b4;stroke:#1f77b4;\" x=\"212.534303\" xlink:href=\"#me319d538ff\" y=\"126.265226\"/>\n     <use style=\"fill:#1f77b4;stroke:#1f77b4;\" x=\"114.788003\" xlink:href=\"#me319d538ff\" y=\"58.452486\"/>\n     <use style=\"fill:#1f77b4;stroke:#1f77b4;\" x=\"196.815182\" xlink:href=\"#me319d538ff\" y=\"85.589278\"/>\n     <use style=\"fill:#1f77b4;stroke:#1f77b4;\" x=\"169.275165\" xlink:href=\"#me319d538ff\" y=\"90.312214\"/>\n     <use style=\"fill:#1f77b4;stroke:#1f77b4;\" x=\"150.039257\" xlink:href=\"#me319d538ff\" y=\"74.751204\"/>\n     <use style=\"fill:#1f77b4;stroke:#1f77b4;\" x=\"135.454954\" xlink:href=\"#me319d538ff\" y=\"77.905885\"/>\n     <use style=\"fill:#1f77b4;stroke:#1f77b4;\" x=\"128.627409\" xlink:href=\"#me319d538ff\" y=\"55.744174\"/>\n     <use style=\"fill:#1f77b4;stroke:#1f77b4;\" x=\"132.774222\" xlink:href=\"#me319d538ff\" y=\"85.110206\"/>\n     <use style=\"fill:#1f77b4;stroke:#1f77b4;\" x=\"170.443182\" xlink:href=\"#me319d538ff\" y=\"90.489384\"/>\n     <use style=\"fill:#1f77b4;stroke:#1f77b4;\" x=\"205.498659\" xlink:href=\"#me319d538ff\" y=\"102.92348\"/>\n     <use style=\"fill:#1f77b4;stroke:#1f77b4;\" x=\"228.759529\" xlink:href=\"#me319d538ff\" y=\"130.749526\"/>\n     <use style=\"fill:#1f77b4;stroke:#1f77b4;\" x=\"167.140492\" xlink:href=\"#me319d538ff\" y=\"99.127192\"/>\n     <use style=\"fill:#1f77b4;stroke:#1f77b4;\" x=\"188.086351\" xlink:href=\"#me319d538ff\" y=\"99.177331\"/>\n     <use style=\"fill:#1f77b4;stroke:#1f77b4;\" x=\"172.389292\" xlink:href=\"#me319d538ff\" y=\"106.176832\"/>\n     <use style=\"fill:#1f77b4;stroke:#1f77b4;\" x=\"216.171576\" xlink:href=\"#me319d538ff\" y=\"91.089539\"/>\n     <use style=\"fill:#1f77b4;stroke:#1f77b4;\" x=\"263.828809\" xlink:href=\"#me319d538ff\" y=\"134.188836\"/>\n     <use style=\"fill:#1f77b4;stroke:#1f77b4;\" x=\"213.8612\" xlink:href=\"#me319d538ff\" y=\"113.698539\"/>\n     <use style=\"fill:#1f77b4;stroke:#1f77b4;\" x=\"153.059915\" xlink:href=\"#me319d538ff\" y=\"81.012002\"/>\n     <use style=\"fill:#1f77b4;stroke:#1f77b4;\" x=\"213.907637\" xlink:href=\"#me319d538ff\" y=\"108.59319\"/>\n     <use style=\"fill:#1f77b4;stroke:#1f77b4;\" x=\"172.958028\" xlink:href=\"#me319d538ff\" y=\"96.295348\"/>\n     <use style=\"fill:#1f77b4;stroke:#1f77b4;\" x=\"236.664336\" xlink:href=\"#me319d538ff\" y=\"131.680255\"/>\n     <use style=\"fill:#1f77b4;stroke:#1f77b4;\" x=\"151.805891\" xlink:href=\"#me319d538ff\" y=\"94.782932\"/>\n     <use style=\"fill:#1f77b4;stroke:#1f77b4;\" x=\"181.997112\" xlink:href=\"#me319d538ff\" y=\"82.673146\"/>\n     <use style=\"fill:#1f77b4;stroke:#1f77b4;\" x=\"192.077528\" xlink:href=\"#me319d538ff\" y=\"122.31126\"/>\n     <use style=\"fill:#1f77b4;stroke:#1f77b4;\" x=\"186.522932\" xlink:href=\"#me319d538ff\" y=\"96.372881\"/>\n     <use style=\"fill:#1f77b4;stroke:#1f77b4;\" x=\"132.405778\" xlink:href=\"#me319d538ff\" y=\"70.617251\"/>\n     <use style=\"fill:#1f77b4;stroke:#1f77b4;\" x=\"168.658918\" xlink:href=\"#me319d538ff\" y=\"92.123547\"/>\n    </g>\n   </g>\n   <g id=\"matplotlib.axis_1\">\n    <g id=\"xtick_1\">\n     <g id=\"line2d_1\">\n      <defs>\n       <path d=\"M 0 0 \nL 0 3.5 \n\" id=\"m8bf081a256\" style=\"stroke:#000000;stroke-width:0.8;\"/>\n      </defs>\n      <g>\n       <use style=\"stroke:#000000;stroke-width:0.8;\" x=\"59.376639\" xlink:href=\"#m8bf081a256\" y=\"197.46\"/>\n      </g>\n     </g>\n     <g id=\"text_1\">\n      <!-- −3 -->\n      <defs>\n       <path d=\"M 10.59375 35.5 \nL 73.1875 35.5 \nL 73.1875 27.203125 \nL 10.59375 27.203125 \nz\n\" id=\"DejaVuSans-8722\"/>\n       <path d=\"M 40.578125 39.3125 \nQ 47.65625 37.796875 51.625 33 \nQ 55.609375 28.21875 55.609375 21.1875 \nQ 55.609375 10.40625 48.1875 4.484375 \nQ 40.765625 -1.421875 27.09375 -1.421875 \nQ 22.515625 -1.421875 17.65625 -0.515625 \nQ 12.796875 0.390625 7.625 2.203125 \nL 7.625 11.71875 \nQ 11.71875 9.328125 16.59375 8.109375 \nQ 21.484375 6.890625 26.8125 6.890625 \nQ 36.078125 6.890625 40.9375 10.546875 \nQ 45.796875 14.203125 45.796875 21.1875 \nQ 45.796875 27.640625 41.28125 31.265625 \nQ 36.765625 34.90625 28.71875 34.90625 \nL 20.21875 34.90625 \nL 20.21875 43.015625 \nL 29.109375 43.015625 \nQ 36.375 43.015625 40.234375 45.921875 \nQ 44.09375 48.828125 44.09375 54.296875 \nQ 44.09375 59.90625 40.109375 62.90625 \nQ 36.140625 65.921875 28.71875 65.921875 \nQ 24.65625 65.921875 20.015625 65.03125 \nQ 15.375 64.15625 9.8125 62.3125 \nL 9.8125 71.09375 \nQ 15.4375 72.65625 20.34375 73.4375 \nQ 25.25 74.21875 29.59375 74.21875 \nQ 40.828125 74.21875 47.359375 69.109375 \nQ 53.90625 64.015625 53.90625 55.328125 \nQ 53.90625 49.265625 50.4375 45.09375 \nQ 46.96875 40.921875 40.578125 39.3125 \nz\n\" id=\"DejaVuSans-51\"/>\n      </defs>\n      <g transform=\"translate(52.005545 212.058437)scale(0.1 -0.1)\">\n       <use xlink:href=\"#DejaVuSans-8722\"/>\n       <use x=\"83.789062\" xlink:href=\"#DejaVuSans-51\"/>\n      </g>\n     </g>\n    </g>\n    <g id=\"xtick_2\">\n     <g id=\"line2d_2\">\n      <g>\n       <use style=\"stroke:#000000;stroke-width:0.8;\" x=\"97.21431\" xlink:href=\"#m8bf081a256\" y=\"197.46\"/>\n      </g>\n     </g>\n     <g id=\"text_2\">\n      <!-- −2 -->\n      <defs>\n       <path d=\"M 19.1875 8.296875 \nL 53.609375 8.296875 \nL 53.609375 0 \nL 7.328125 0 \nL 7.328125 8.296875 \nQ 12.9375 14.109375 22.625 23.890625 \nQ 32.328125 33.6875 34.8125 36.53125 \nQ 39.546875 41.84375 41.421875 45.53125 \nQ 43.3125 49.21875 43.3125 52.78125 \nQ 43.3125 58.59375 39.234375 62.25 \nQ 35.15625 65.921875 28.609375 65.921875 \nQ 23.96875 65.921875 18.8125 64.3125 \nQ 13.671875 62.703125 7.8125 59.421875 \nL 7.8125 69.390625 \nQ 13.765625 71.78125 18.9375 73 \nQ 24.125 74.21875 28.421875 74.21875 \nQ 39.75 74.21875 46.484375 68.546875 \nQ 53.21875 62.890625 53.21875 53.421875 \nQ 53.21875 48.921875 51.53125 44.890625 \nQ 49.859375 40.875 45.40625 35.40625 \nQ 44.1875 33.984375 37.640625 27.21875 \nQ 31.109375 20.453125 19.1875 8.296875 \nz\n\" id=\"DejaVuSans-50\"/>\n      </defs>\n      <g transform=\"translate(89.843216 212.058437)scale(0.1 -0.1)\">\n       <use xlink:href=\"#DejaVuSans-8722\"/>\n       <use x=\"83.789062\" xlink:href=\"#DejaVuSans-50\"/>\n      </g>\n     </g>\n    </g>\n    <g id=\"xtick_3\">\n     <g id=\"line2d_3\">\n      <g>\n       <use style=\"stroke:#000000;stroke-width:0.8;\" x=\"135.051981\" xlink:href=\"#m8bf081a256\" y=\"197.46\"/>\n      </g>\n     </g>\n     <g id=\"text_3\">\n      <!-- −1 -->\n      <defs>\n       <path d=\"M 12.40625 8.296875 \nL 28.515625 8.296875 \nL 28.515625 63.921875 \nL 10.984375 60.40625 \nL 10.984375 69.390625 \nL 28.421875 72.90625 \nL 38.28125 72.90625 \nL 38.28125 8.296875 \nL 54.390625 8.296875 \nL 54.390625 0 \nL 12.40625 0 \nz\n\" id=\"DejaVuSans-49\"/>\n      </defs>\n      <g transform=\"translate(127.680888 212.058437)scale(0.1 -0.1)\">\n       <use xlink:href=\"#DejaVuSans-8722\"/>\n       <use x=\"83.789062\" xlink:href=\"#DejaVuSans-49\"/>\n      </g>\n     </g>\n    </g>\n    <g id=\"xtick_4\">\n     <g id=\"line2d_4\">\n      <g>\n       <use style=\"stroke:#000000;stroke-width:0.8;\" x=\"172.889653\" xlink:href=\"#m8bf081a256\" y=\"197.46\"/>\n      </g>\n     </g>\n     <g id=\"text_4\">\n      <!-- 0 -->\n      <defs>\n       <path d=\"M 31.78125 66.40625 \nQ 24.171875 66.40625 20.328125 58.90625 \nQ 16.5 51.421875 16.5 36.375 \nQ 16.5 21.390625 20.328125 13.890625 \nQ 24.171875 6.390625 31.78125 6.390625 \nQ 39.453125 6.390625 43.28125 13.890625 \nQ 47.125 21.390625 47.125 36.375 \nQ 47.125 51.421875 43.28125 58.90625 \nQ 39.453125 66.40625 31.78125 66.40625 \nz\nM 31.78125 74.21875 \nQ 44.046875 74.21875 50.515625 64.515625 \nQ 56.984375 54.828125 56.984375 36.375 \nQ 56.984375 17.96875 50.515625 8.265625 \nQ 44.046875 -1.421875 31.78125 -1.421875 \nQ 19.53125 -1.421875 13.0625 8.265625 \nQ 6.59375 17.96875 6.59375 36.375 \nQ 6.59375 54.828125 13.0625 64.515625 \nQ 19.53125 74.21875 31.78125 74.21875 \nz\n\" id=\"DejaVuSans-48\"/>\n      </defs>\n      <g transform=\"translate(169.708403 212.058437)scale(0.1 -0.1)\">\n       <use xlink:href=\"#DejaVuSans-48\"/>\n      </g>\n     </g>\n    </g>\n    <g id=\"xtick_5\">\n     <g id=\"line2d_5\">\n      <g>\n       <use style=\"stroke:#000000;stroke-width:0.8;\" x=\"210.727324\" xlink:href=\"#m8bf081a256\" y=\"197.46\"/>\n      </g>\n     </g>\n     <g id=\"text_5\">\n      <!-- 1 -->\n      <g transform=\"translate(207.546074 212.058437)scale(0.1 -0.1)\">\n       <use xlink:href=\"#DejaVuSans-49\"/>\n      </g>\n     </g>\n    </g>\n    <g id=\"xtick_6\">\n     <g id=\"line2d_6\">\n      <g>\n       <use style=\"stroke:#000000;stroke-width:0.8;\" x=\"248.564996\" xlink:href=\"#m8bf081a256\" y=\"197.46\"/>\n      </g>\n     </g>\n     <g id=\"text_6\">\n      <!-- 2 -->\n      <g transform=\"translate(245.383746 212.058437)scale(0.1 -0.1)\">\n       <use xlink:href=\"#DejaVuSans-50\"/>\n      </g>\n     </g>\n    </g>\n    <g id=\"xtick_7\">\n     <g id=\"line2d_7\">\n      <g>\n       <use style=\"stroke:#000000;stroke-width:0.8;\" x=\"286.402667\" xlink:href=\"#m8bf081a256\" y=\"197.46\"/>\n      </g>\n     </g>\n     <g id=\"text_7\">\n      <!-- 3 -->\n      <g transform=\"translate(283.221417 212.058437)scale(0.1 -0.1)\">\n       <use xlink:href=\"#DejaVuSans-51\"/>\n      </g>\n     </g>\n    </g>\n   </g>\n   <g id=\"matplotlib.axis_2\">\n    <g id=\"ytick_1\">\n     <g id=\"line2d_8\">\n      <defs>\n       <path d=\"M 0 0 \nL -3.5 0 \n\" id=\"m5f41a05046\" style=\"stroke:#000000;stroke-width:0.8;\"/>\n      </defs>\n      <g>\n       <use style=\"stroke:#000000;stroke-width:0.8;\" x=\"35.304688\" xlink:href=\"#m5f41a05046\" y=\"180.172185\"/>\n      </g>\n     </g>\n     <g id=\"text_8\">\n      <!-- −10 -->\n      <g transform=\"translate(7.2 183.971404)scale(0.1 -0.1)\">\n       <use xlink:href=\"#DejaVuSans-8722\"/>\n       <use x=\"83.789062\" xlink:href=\"#DejaVuSans-49\"/>\n       <use x=\"147.412109\" xlink:href=\"#DejaVuSans-48\"/>\n      </g>\n     </g>\n    </g>\n    <g id=\"ytick_2\">\n     <g id=\"line2d_9\">\n      <g>\n       <use style=\"stroke:#000000;stroke-width:0.8;\" x=\"35.304688\" xlink:href=\"#m5f41a05046\" y=\"149.843473\"/>\n      </g>\n     </g>\n     <g id=\"text_9\">\n      <!-- −5 -->\n      <defs>\n       <path d=\"M 10.796875 72.90625 \nL 49.515625 72.90625 \nL 49.515625 64.59375 \nL 19.828125 64.59375 \nL 19.828125 46.734375 \nQ 21.96875 47.46875 24.109375 47.828125 \nQ 26.265625 48.1875 28.421875 48.1875 \nQ 40.625 48.1875 47.75 41.5 \nQ 54.890625 34.8125 54.890625 23.390625 \nQ 54.890625 11.625 47.5625 5.09375 \nQ 40.234375 -1.421875 26.90625 -1.421875 \nQ 22.3125 -1.421875 17.546875 -0.640625 \nQ 12.796875 0.140625 7.71875 1.703125 \nL 7.71875 11.625 \nQ 12.109375 9.234375 16.796875 8.0625 \nQ 21.484375 6.890625 26.703125 6.890625 \nQ 35.15625 6.890625 40.078125 11.328125 \nQ 45.015625 15.765625 45.015625 23.390625 \nQ 45.015625 31 40.078125 35.4375 \nQ 35.15625 39.890625 26.703125 39.890625 \nQ 22.75 39.890625 18.8125 39.015625 \nQ 14.890625 38.140625 10.796875 36.28125 \nz\n\" id=\"DejaVuSans-53\"/>\n      </defs>\n      <g transform=\"translate(13.5625 153.642692)scale(0.1 -0.1)\">\n       <use xlink:href=\"#DejaVuSans-8722\"/>\n       <use x=\"83.789062\" xlink:href=\"#DejaVuSans-53\"/>\n      </g>\n     </g>\n    </g>\n    <g id=\"ytick_3\">\n     <g id=\"line2d_10\">\n      <g>\n       <use style=\"stroke:#000000;stroke-width:0.8;\" x=\"35.304688\" xlink:href=\"#m5f41a05046\" y=\"119.514761\"/>\n      </g>\n     </g>\n     <g id=\"text_10\">\n      <!-- 0 -->\n      <g transform=\"translate(21.942187 123.31398)scale(0.1 -0.1)\">\n       <use xlink:href=\"#DejaVuSans-48\"/>\n      </g>\n     </g>\n    </g>\n    <g id=\"ytick_4\">\n     <g id=\"line2d_11\">\n      <g>\n       <use style=\"stroke:#000000;stroke-width:0.8;\" x=\"35.304688\" xlink:href=\"#m5f41a05046\" y=\"89.186049\"/>\n      </g>\n     </g>\n     <g id=\"text_11\">\n      <!-- 5 -->\n      <g transform=\"translate(21.942187 92.985268)scale(0.1 -0.1)\">\n       <use xlink:href=\"#DejaVuSans-53\"/>\n      </g>\n     </g>\n    </g>\n    <g id=\"ytick_5\">\n     <g id=\"line2d_12\">\n      <g>\n       <use style=\"stroke:#000000;stroke-width:0.8;\" x=\"35.304688\" xlink:href=\"#m5f41a05046\" y=\"58.857337\"/>\n      </g>\n     </g>\n     <g id=\"text_12\">\n      <!-- 10 -->\n      <g transform=\"translate(15.579687 62.656556)scale(0.1 -0.1)\">\n       <use xlink:href=\"#DejaVuSans-49\"/>\n       <use x=\"63.623047\" xlink:href=\"#DejaVuSans-48\"/>\n      </g>\n     </g>\n    </g>\n    <g id=\"ytick_6\">\n     <g id=\"line2d_13\">\n      <g>\n       <use style=\"stroke:#000000;stroke-width:0.8;\" x=\"35.304688\" xlink:href=\"#m5f41a05046\" y=\"28.528625\"/>\n      </g>\n     </g>\n     <g id=\"text_13\">\n      <!-- 15 -->\n      <g transform=\"translate(15.579687 32.327844)scale(0.1 -0.1)\">\n       <use xlink:href=\"#DejaVuSans-49\"/>\n       <use x=\"63.623047\" xlink:href=\"#DejaVuSans-53\"/>\n      </g>\n     </g>\n    </g>\n   </g>\n   <g id=\"patch_3\">\n    <path d=\"M 35.304688 197.46 \nL 35.304688 7.2 \n\" style=\"fill:none;stroke:#000000;stroke-linecap:square;stroke-linejoin:miter;stroke-width:0.8;\"/>\n   </g>\n   <g id=\"patch_4\">\n    <path d=\"M 314.304688 197.46 \nL 314.304688 7.2 \n\" style=\"fill:none;stroke:#000000;stroke-linecap:square;stroke-linejoin:miter;stroke-width:0.8;\"/>\n   </g>\n   <g id=\"patch_5\">\n    <path d=\"M 35.304688 197.46 \nL 314.304688 197.46 \n\" style=\"fill:none;stroke:#000000;stroke-linecap:square;stroke-linejoin:miter;stroke-width:0.8;\"/>\n   </g>\n   <g id=\"patch_6\">\n    <path d=\"M 35.304688 7.2 \nL 314.304688 7.2 \n\" style=\"fill:none;stroke:#000000;stroke-linecap:square;stroke-linejoin:miter;stroke-width:0.8;\"/>\n   </g>\n  </g>\n </g>\n <defs>\n  <clipPath id=\"p0b3d3fba11\">\n   <rect height=\"190.26\" width=\"279\" x=\"35.304688\" y=\"7.2\"/>\n  </clipPath>\n </defs>\n</svg>\n"
          },
          "metadata": {
            "tags": []
          }
        }
      ]
    },
    {
      "cell_type": "code",
      "metadata": {
        "id": "NMS1bWRCFpk5",
        "colab_type": "code",
        "colab": {}
      },
      "source": [
        "def data_iter(batch_size, features, labels):\n",
        "    num_examples = len(features)\n",
        "    indices = list(range(num_examples))\n",
        "    random.shuffle(indices)\n",
        "    for i in range(0, num_examples, batch_size):\n",
        "        j = nd.array(indices[i: min(i + batch_size, num_examples)])\n",
        "        yield features.take(j), labels.take(j)"
      ],
      "execution_count": 0,
      "outputs": []
    },
    {
      "cell_type": "code",
      "metadata": {
        "id": "fEIUbwVQSKUb",
        "colab_type": "code",
        "outputId": "2d6206be-cb63-46f4-e799-454f0fdfabb5",
        "colab": {
          "base_uri": "https://localhost:8080/",
          "height": 34
        }
      },
      "source": [
        "num = 10 \n",
        "num"
      ],
      "execution_count": 18,
      "outputs": [
        {
          "output_type": "execute_result",
          "data": {
            "text/plain": [
              "10"
            ]
          },
          "metadata": {
            "tags": []
          },
          "execution_count": 18
        }
      ]
    },
    {
      "cell_type": "code",
      "metadata": {
        "id": "rAIQquSNSZe-",
        "colab_type": "code",
        "outputId": "d7999386-0a6d-4a77-c31c-0f6b0d1c0109",
        "colab": {
          "base_uri": "https://localhost:8080/",
          "height": 34
        }
      },
      "source": [
        "indice = list(range(10))\n",
        "indice"
      ],
      "execution_count": 19,
      "outputs": [
        {
          "output_type": "execute_result",
          "data": {
            "text/plain": [
              "[0, 1, 2, 3, 4, 5, 6, 7, 8, 9]"
            ]
          },
          "metadata": {
            "tags": []
          },
          "execution_count": 19
        }
      ]
    },
    {
      "cell_type": "code",
      "metadata": {
        "id": "ar_HotaTShk9",
        "colab_type": "code",
        "outputId": "e8bbdcaa-5af5-47d4-8b5f-b20e2935ebc9",
        "colab": {
          "base_uri": "https://localhost:8080/",
          "height": 34
        }
      },
      "source": [
        "random.shuffle(indice)\n",
        "indice"
      ],
      "execution_count": 20,
      "outputs": [
        {
          "output_type": "execute_result",
          "data": {
            "text/plain": [
              "[9, 4, 6, 3, 5, 2, 0, 7, 8, 1]"
            ]
          },
          "metadata": {
            "tags": []
          },
          "execution_count": 20
        }
      ]
    },
    {
      "cell_type": "code",
      "metadata": {
        "id": "ZajUSBn7Sy03",
        "colab_type": "code",
        "outputId": "30ebf13e-2623-4cf9-8f87-1923463e787c",
        "colab": {
          "base_uri": "https://localhost:8080/",
          "height": 84
        }
      },
      "source": [
        "for i in range(0, num, 3):\n",
        "    print(i)"
      ],
      "execution_count": 21,
      "outputs": [
        {
          "output_type": "stream",
          "text": [
            "0\n",
            "3\n",
            "6\n",
            "9\n"
          ],
          "name": "stdout"
        }
      ]
    },
    {
      "cell_type": "code",
      "metadata": {
        "id": "p4jimT8oTB_u",
        "colab_type": "code",
        "outputId": "94eadd07-13af-448b-cbea-99ea48e0d412",
        "colab": {
          "base_uri": "https://localhost:8080/",
          "height": 218
        }
      },
      "source": [
        "for i in range(0, num, 3):\n",
        "    j = nd.array(indice[i: i+3])\n",
        "    print(j)"
      ],
      "execution_count": 22,
      "outputs": [
        {
          "output_type": "stream",
          "text": [
            "\n",
            "[9. 4. 6.]\n",
            "<NDArray 3 @cpu(0)>\n",
            "\n",
            "[3. 5. 2.]\n",
            "<NDArray 3 @cpu(0)>\n",
            "\n",
            "[0. 7. 8.]\n",
            "<NDArray 3 @cpu(0)>\n",
            "\n",
            "[1.]\n",
            "<NDArray 1 @cpu(0)>\n"
          ],
          "name": "stdout"
        }
      ]
    },
    {
      "cell_type": "code",
      "metadata": {
        "id": "FqTMpD-qTg7n",
        "colab_type": "code",
        "outputId": "a36f1df9-e153-43a8-92b3-6caa389ad747",
        "colab": {
          "base_uri": "https://localhost:8080/",
          "height": 286
        }
      },
      "source": [
        "for i in range(0, num, 3):\n",
        "    j = nd.array(indice[i: min(i+3, num)])\n",
        "    print(i, j)\n",
        "    # print('-'*19)\n",
        "    print()"
      ],
      "execution_count": 23,
      "outputs": [
        {
          "output_type": "stream",
          "text": [
            "0 \n",
            "[9. 4. 6.]\n",
            "<NDArray 3 @cpu(0)>\n",
            "\n",
            "3 \n",
            "[3. 5. 2.]\n",
            "<NDArray 3 @cpu(0)>\n",
            "\n",
            "6 \n",
            "[0. 7. 8.]\n",
            "<NDArray 3 @cpu(0)>\n",
            "\n",
            "9 \n",
            "[1.]\n",
            "<NDArray 1 @cpu(0)>\n",
            "\n"
          ],
          "name": "stdout"
        }
      ]
    },
    {
      "cell_type": "code",
      "metadata": {
        "id": "gnMiChaZVKL3",
        "colab_type": "code",
        "outputId": "6eb76e10-af82-4416-eca1-057378077a7e",
        "colab": {
          "base_uri": "https://localhost:8080/",
          "height": 286
        }
      },
      "source": [
        "batch_size = 11 \n",
        "\n",
        "for X, y in data_iter(batch_size, features, labels):\n",
        "    print(X, y)\n",
        "    break "
      ],
      "execution_count": 24,
      "outputs": [
        {
          "output_type": "stream",
          "text": [
            "\n",
            "[[ 1.8117208   0.43412206]\n",
            " [ 1.8544905   0.3756803 ]\n",
            " [ 0.82003313 -0.74541706]\n",
            " [ 0.5130225  -1.0972124 ]\n",
            " [-0.34685898 -1.0807394 ]\n",
            " [-0.59959525  1.1720713 ]\n",
            " [-0.36003703 -0.98934996]\n",
            " [-1.480558   -0.68010134]\n",
            " [-0.23647429 -0.2963644 ]\n",
            " [-0.1461925  -0.31820193]\n",
            " [ 1.0731696   0.12017461]]\n",
            "<NDArray 11x2 @cpu(0)> \n",
            "[ 6.364592   6.626644   8.348353   8.966415   7.186714  -0.9730663\n",
            "  6.859651   3.5594604  4.7410684  4.9912653  5.927642 ]\n",
            "<NDArray 11 @cpu(0)>\n"
          ],
          "name": "stdout"
        }
      ]
    },
    {
      "cell_type": "code",
      "metadata": {
        "id": "eaOboSMLamO3",
        "colab_type": "code",
        "colab": {}
      },
      "source": [
        "w = nd.random.normal(scale=0.01, shape=(num_inputs, 1))\n",
        "b = nd.zeros(shape=(1, ))"
      ],
      "execution_count": 0,
      "outputs": []
    },
    {
      "cell_type": "code",
      "metadata": {
        "id": "JfDZsZ-tbA4D",
        "colab_type": "code",
        "colab": {}
      },
      "source": [
        "w.attach_grad()\n",
        "b.attach_grad()"
      ],
      "execution_count": 0,
      "outputs": []
    },
    {
      "cell_type": "code",
      "metadata": {
        "id": "DWGn3t6KbEvy",
        "colab_type": "code",
        "colab": {}
      },
      "source": [
        "def linreg(X, w, b):\n",
        "    return nd.dot(X, w) + b "
      ],
      "execution_count": 0,
      "outputs": []
    },
    {
      "cell_type": "code",
      "metadata": {
        "id": "yJXfT1O8bexZ",
        "colab_type": "code",
        "colab": {}
      },
      "source": [
        "def squared_loss(y_hat, y):\n",
        "    return (y_hat - y.reshape(y_hat.shape)) ** 2 / 2 "
      ],
      "execution_count": 0,
      "outputs": []
    },
    {
      "cell_type": "code",
      "metadata": {
        "id": "4iOs5gcPbv1g",
        "colab_type": "code",
        "colab": {}
      },
      "source": [
        "def sgd(params, lr, batch_size):\n",
        "    for param in params:\n",
        "        param[:] = param - lr * param.grad / batch_size "
      ],
      "execution_count": 0,
      "outputs": []
    },
    {
      "cell_type": "code",
      "metadata": {
        "id": "Io-SJZyDcC6B",
        "colab_type": "code",
        "outputId": "67b0c2d9-7151-4522-8e45-cbb12aa6e86b",
        "colab": {
          "base_uri": "https://localhost:8080/",
          "height": 67
        }
      },
      "source": [
        "lr = 0.03 \n",
        "num_epochs = 3 \n",
        "net = linreg \n",
        "loss = squared_loss \n",
        "\n",
        "for epoch in range(num_epochs):\n",
        "    for X, y in data_iter(batch_size, features, labels):\n",
        "        with autograd.record():\n",
        "            l = loss(net(X, w, b), y)\n",
        "        l.backward()\n",
        "        sgd([w, b], lr, batch_size)\n",
        "    train_l = loss(net(features, w, b), labels)\n",
        "    print('epoch %d, loss %f' % (epoch + 1, train_l.mean().asnumpy()))"
      ],
      "execution_count": 30,
      "outputs": [
        {
          "output_type": "stream",
          "text": [
            "epoch 1, loss 0.069961\n",
            "epoch 2, loss 0.000358\n",
            "epoch 3, loss 0.000052\n"
          ],
          "name": "stdout"
        }
      ]
    },
    {
      "cell_type": "code",
      "metadata": {
        "id": "hm3je0fIdHG1",
        "colab_type": "code",
        "outputId": "ffc52ca8-c6db-4236-a9a9-9fed2566e52c",
        "colab": {
          "base_uri": "https://localhost:8080/",
          "height": 84
        }
      },
      "source": [
        "true_w, w"
      ],
      "execution_count": 31,
      "outputs": [
        {
          "output_type": "execute_result",
          "data": {
            "text/plain": [
              "([2, -3.4], \n",
              " [[ 1.9995391]\n",
              "  [-3.3990495]]\n",
              " <NDArray 2x1 @cpu(0)>)"
            ]
          },
          "metadata": {
            "tags": []
          },
          "execution_count": 31
        }
      ]
    },
    {
      "cell_type": "code",
      "metadata": {
        "id": "qOOx_s1ff9hH",
        "colab_type": "code",
        "outputId": "5123913c-f0ab-4211-9ad2-e4e4e31810f4",
        "colab": {
          "base_uri": "https://localhost:8080/",
          "height": 67
        }
      },
      "source": [
        "true_b, b "
      ],
      "execution_count": 32,
      "outputs": [
        {
          "output_type": "execute_result",
          "data": {
            "text/plain": [
              "(4.2, \n",
              " [4.198837]\n",
              " <NDArray 1 @cpu(0)>)"
            ]
          },
          "metadata": {
            "tags": []
          },
          "execution_count": 32
        }
      ]
    },
    {
      "cell_type": "code",
      "metadata": {
        "id": "EFDkzdtUf_WV",
        "colab_type": "code",
        "colab": {}
      },
      "source": [
        "y_hat = nd.ones((3, 4))"
      ],
      "execution_count": 0,
      "outputs": []
    },
    {
      "cell_type": "code",
      "metadata": {
        "id": "mVFT4JaLh4fi",
        "colab_type": "code",
        "colab": {}
      },
      "source": [
        "y = nd.ones((2, 6))"
      ],
      "execution_count": 0,
      "outputs": []
    },
    {
      "cell_type": "code",
      "metadata": {
        "id": "n3lzfY4Ih85x",
        "colab_type": "code",
        "outputId": "eac48473-ff61-4749-ef74-cac29078cb3b",
        "colab": {
          "base_uri": "https://localhost:8080/",
          "height": 101
        }
      },
      "source": [
        "y_hat - y.reshape(y_hat.shape) "
      ],
      "execution_count": 35,
      "outputs": [
        {
          "output_type": "execute_result",
          "data": {
            "text/plain": [
              "\n",
              "[[0. 0. 0. 0.]\n",
              " [0. 0. 0. 0.]\n",
              " [0. 0. 0. 0.]]\n",
              "<NDArray 3x4 @cpu(0)>"
            ]
          },
          "metadata": {
            "tags": []
          },
          "execution_count": 35
        }
      ]
    },
    {
      "cell_type": "markdown",
      "metadata": {
        "id": "Gvj1a8-sh_ZG",
        "colab_type": "text"
      },
      "source": [
        "## 3.3 线性回归的简洁实现"
      ]
    },
    {
      "cell_type": "code",
      "metadata": {
        "id": "buP4XYxQjC56",
        "colab_type": "code",
        "outputId": "1534094f-9298-4af8-b348-1bb8dab6f442",
        "colab": {
          "base_uri": "https://localhost:8080/",
          "height": 34
        }
      },
      "source": [
        "from mxnet import autograd, nd \n",
        "\n",
        "num_inputs = 2 \n",
        "num_examples = 1000 \n",
        "true_w = [2, -3.4]\n",
        "true_b = 4.2 \n",
        "start = time()\n",
        "features = nd.random.normal(scale=1, shape=(num_examples, num_inputs))\n",
        "labels = true_w[0] * features[:, 0] + true_w[1] * features[:, 1] + true_b + nd.random.normal(scale=0.01, shape=labels.shape)\n",
        "time() - start "
      ],
      "execution_count": 36,
      "outputs": [
        {
          "output_type": "execute_result",
          "data": {
            "text/plain": [
              "0.0025589466094970703"
            ]
          },
          "metadata": {
            "tags": []
          },
          "execution_count": 36
        }
      ]
    },
    {
      "cell_type": "code",
      "metadata": {
        "id": "Wy0rL2Svl1-D",
        "colab_type": "code",
        "outputId": "e26d0372-9ade-44ac-86d8-a2cf8e6c5350",
        "colab": {
          "base_uri": "https://localhost:8080/",
          "height": 34
        }
      },
      "source": [
        "labels.shape"
      ],
      "execution_count": 37,
      "outputs": [
        {
          "output_type": "execute_result",
          "data": {
            "text/plain": [
              "(1000,)"
            ]
          },
          "metadata": {
            "tags": []
          },
          "execution_count": 37
        }
      ]
    },
    {
      "cell_type": "code",
      "metadata": {
        "id": "k7eBJELEl7pq",
        "colab_type": "code",
        "outputId": "d06d5cb3-fbcb-40a1-e9e6-5a01259c80e8",
        "colab": {
          "base_uri": "https://localhost:8080/",
          "height": 84
        }
      },
      "source": [
        "labels[:10]"
      ],
      "execution_count": 38,
      "outputs": [
        {
          "output_type": "execute_result",
          "data": {
            "text/plain": [
              "\n",
              "[ 4.902419   2.1094513  8.48928    5.673833   2.384568   4.539225\n",
              "  5.7347293 -2.681284  -1.342022   1.3345029]\n",
              "<NDArray 10 @cpu(0)>"
            ]
          },
          "metadata": {
            "tags": []
          },
          "execution_count": 38
        }
      ]
    },
    {
      "cell_type": "code",
      "metadata": {
        "id": "8vtEgVW0klOL",
        "colab_type": "code",
        "colab": {}
      },
      "source": [
        "from mxnet.gluon import data as gdata \n",
        "\n",
        "batch_size = 10 \n",
        "dataset = gdata.ArrayDataset(features, labels)\n",
        "data_iter = gdata.DataLoader(dataset, batch_size, shuffle=True)"
      ],
      "execution_count": 0,
      "outputs": []
    },
    {
      "cell_type": "code",
      "metadata": {
        "id": "n7--VpqPmflx",
        "colab_type": "code",
        "outputId": "680ea92c-fd91-47b9-bdde-90ccbd1ebf4c",
        "colab": {
          "base_uri": "https://localhost:8080/",
          "height": 269
        }
      },
      "source": [
        "for X, y in data_iter:\n",
        "    print(X, y)\n",
        "    break "
      ],
      "execution_count": 40,
      "outputs": [
        {
          "output_type": "stream",
          "text": [
            "\n",
            "[[-0.43589342 -0.6819574 ]\n",
            " [ 1.4181082   0.4986948 ]\n",
            " [ 0.68489146 -0.5334708 ]\n",
            " [ 0.7378336   0.47280213]\n",
            " [-0.08998236  0.58217776]\n",
            " [ 0.13737841 -1.8451521 ]\n",
            " [ 2.056204   -1.1895847 ]\n",
            " [-1.541703    0.41695568]\n",
            " [ 2.1725886  -0.31501594]\n",
            " [ 0.41033915 -0.3705225 ]]\n",
            "<NDArray 10x2 @cpu(0)> \n",
            "[ 5.648432    5.348625    7.3559237   4.0688596   2.0494726  10.735916\n",
            " 12.360003   -0.30428407  9.619968    6.277244  ]\n",
            "<NDArray 10 @cpu(0)>\n"
          ],
          "name": "stdout"
        }
      ]
    },
    {
      "cell_type": "code",
      "metadata": {
        "id": "1HM9lSAtmmPO",
        "colab_type": "code",
        "outputId": "3ee55d93-b445-44f5-a894-3333486eb1bb",
        "colab": {
          "base_uri": "https://localhost:8080/",
          "height": 168
        }
      },
      "source": [
        "a = nd.ones((10, 2))\n",
        "b = nd.zeros((10, 1))\n",
        "data_ab = gdata.ArrayDataset(a, b)\n",
        "print(data_ab.__getitem__([1, 2, 3]))"
      ],
      "execution_count": 41,
      "outputs": [
        {
          "output_type": "stream",
          "text": [
            "(\n",
            "[[1. 1.]\n",
            " [1. 1.]\n",
            " [1. 1.]]\n",
            "<NDArray 3x2 @cpu(0)>, \n",
            "[[0.]\n",
            " [0.]\n",
            " [0.]]\n",
            "<NDArray 3x1 @cpu(0)>)\n"
          ],
          "name": "stdout"
        }
      ]
    },
    {
      "cell_type": "code",
      "metadata": {
        "id": "5apxj7j7nRPE",
        "colab_type": "code",
        "colab": {}
      },
      "source": [
        "data_iter_ab = gdata.DataLoader(data_ab, 2, shuffle=False)"
      ],
      "execution_count": 0,
      "outputs": []
    },
    {
      "cell_type": "code",
      "metadata": {
        "id": "IvRDBHehECsC",
        "colab_type": "code",
        "outputId": "02aca9dd-a199-460a-b976-5f19aeefd9c2",
        "colab": {
          "base_uri": "https://localhost:8080/",
          "height": 605
        }
      },
      "source": [
        "for A, b in data_iter_ab:\n",
        "    print(A, b)"
      ],
      "execution_count": 43,
      "outputs": [
        {
          "output_type": "stream",
          "text": [
            "\n",
            "[[1. 1.]\n",
            " [1. 1.]]\n",
            "<NDArray 2x2 @cpu(0)> \n",
            "[[0.]\n",
            " [0.]]\n",
            "<NDArray 2x1 @cpu(0)>\n",
            "\n",
            "[[1. 1.]\n",
            " [1. 1.]]\n",
            "<NDArray 2x2 @cpu(0)> \n",
            "[[0.]\n",
            " [0.]]\n",
            "<NDArray 2x1 @cpu(0)>\n",
            "\n",
            "[[1. 1.]\n",
            " [1. 1.]]\n",
            "<NDArray 2x2 @cpu(0)> \n",
            "[[0.]\n",
            " [0.]]\n",
            "<NDArray 2x1 @cpu(0)>\n",
            "\n",
            "[[1. 1.]\n",
            " [1. 1.]]\n",
            "<NDArray 2x2 @cpu(0)> \n",
            "[[0.]\n",
            " [0.]]\n",
            "<NDArray 2x1 @cpu(0)>\n",
            "\n",
            "[[1. 1.]\n",
            " [1. 1.]]\n",
            "<NDArray 2x2 @cpu(0)> \n",
            "[[0.]\n",
            " [0.]]\n",
            "<NDArray 2x1 @cpu(0)>\n"
          ],
          "name": "stdout"
        }
      ]
    },
    {
      "cell_type": "code",
      "metadata": {
        "id": "ihq6Lu5xETba",
        "colab_type": "code",
        "colab": {}
      },
      "source": [
        "from mxnet.gluon import nn\n",
        "\n",
        "net = nn.Sequential()"
      ],
      "execution_count": 0,
      "outputs": []
    },
    {
      "cell_type": "code",
      "metadata": {
        "id": "gyjzTg85HFb8",
        "colab_type": "code",
        "colab": {}
      },
      "source": [
        "net.add(nn.Dense(1))"
      ],
      "execution_count": 0,
      "outputs": []
    },
    {
      "cell_type": "code",
      "metadata": {
        "id": "lbPA-twuHKu_",
        "colab_type": "code",
        "colab": {}
      },
      "source": [
        "from mxnet import init \n",
        "\n",
        "net.initialize(init.Normal(sigma=0.01))"
      ],
      "execution_count": 0,
      "outputs": []
    },
    {
      "cell_type": "code",
      "metadata": {
        "id": "mX9SZhUOHeZo",
        "colab_type": "code",
        "colab": {}
      },
      "source": [
        "from mxnet.gluon import loss as gloss \n",
        "\n",
        "loss = gloss.L2Loss()"
      ],
      "execution_count": 0,
      "outputs": []
    },
    {
      "cell_type": "code",
      "metadata": {
        "id": "VAVCe3O7HnVm",
        "colab_type": "code",
        "colab": {}
      },
      "source": [
        "from mxnet import gluon \n",
        "\n",
        "trainer = gluon.Trainer(net.collect_params(), 'sgd', {'learning_rate': 0.03})"
      ],
      "execution_count": 0,
      "outputs": []
    },
    {
      "cell_type": "code",
      "metadata": {
        "id": "-_0uO6vteo6v",
        "colab_type": "code",
        "outputId": "da3163ea-f54d-4e82-8d94-f400b3be9cf6",
        "colab": {
          "base_uri": "https://localhost:8080/",
          "height": 67
        }
      },
      "source": [
        "num_epochs = 3 \n",
        "for epoch in range(1, num_epochs + 1):\n",
        "    for X, y in data_iter:\n",
        "        with autograd.record():\n",
        "            l = loss(net(X), y)\n",
        "        l.backward()\n",
        "        trainer.step(batch_size)\n",
        "    l = loss(net(features), labels)\n",
        "    print('epoch %d, loss: %f' % (epoch, l.mean().asnumpy()))"
      ],
      "execution_count": 49,
      "outputs": [
        {
          "output_type": "stream",
          "text": [
            "epoch 1, loss: 0.034001\n",
            "epoch 2, loss: 0.000121\n",
            "epoch 3, loss: 0.000050\n"
          ],
          "name": "stdout"
        }
      ]
    },
    {
      "cell_type": "code",
      "metadata": {
        "id": "-P3xRa70hJPB",
        "colab_type": "code",
        "outputId": "1a22a6d6-5231-4812-9308-2e53c2f84e2c",
        "colab": {
          "base_uri": "https://localhost:8080/",
          "height": 67
        }
      },
      "source": [
        "dense = net[0]\n",
        "true_w, dense.weight.data()"
      ],
      "execution_count": 50,
      "outputs": [
        {
          "output_type": "execute_result",
          "data": {
            "text/plain": [
              "([2, -3.4], \n",
              " [[ 2.000078  -3.3996792]]\n",
              " <NDArray 1x2 @cpu(0)>)"
            ]
          },
          "metadata": {
            "tags": []
          },
          "execution_count": 50
        }
      ]
    },
    {
      "cell_type": "code",
      "metadata": {
        "id": "YvplryyxiMpi",
        "colab_type": "code",
        "outputId": "fd2db18c-bbe9-4cec-dfc6-645e74ed8f54",
        "colab": {
          "base_uri": "https://localhost:8080/",
          "height": 67
        }
      },
      "source": [
        "true_b, dense.bias.data()"
      ],
      "execution_count": 51,
      "outputs": [
        {
          "output_type": "execute_result",
          "data": {
            "text/plain": [
              "(4.2, \n",
              " [4.1992364]\n",
              " <NDArray 1 @cpu(0)>)"
            ]
          },
          "metadata": {
            "tags": []
          },
          "execution_count": 51
        }
      ]
    }
  ]
}