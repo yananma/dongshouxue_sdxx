{
  "nbformat": 4,
  "nbformat_minor": 0,
  "metadata": {
    "colab": {
      "name": "0508.ipynb",
      "provenance": [],
      "collapsed_sections": [],
      "include_colab_link": true
    },
    "kernelspec": {
      "name": "python3",
      "display_name": "Python 3"
    },
    "accelerator": "GPU"
  },
  "cells": [
    {
      "cell_type": "markdown",
      "metadata": {
        "id": "view-in-github",
        "colab_type": "text"
      },
      "source": [
        "<a href=\"https://colab.research.google.com/github/yananma/5_programs_per_day/blob/master/0508.ipynb\" target=\"_parent\"><img src=\"https://colab.research.google.com/assets/colab-badge.svg\" alt=\"Open In Colab\"/></a>"
      ]
    },
    {
      "cell_type": "markdown",
      "metadata": {
        "id": "OTsURR4Cl2RP",
        "colab_type": "text"
      },
      "source": [
        "## 3.1 线性回归"
      ]
    },
    {
      "cell_type": "code",
      "metadata": {
        "id": "3b0dyao_82z5",
        "colab_type": "code",
        "colab": {}
      },
      "source": [
        "# !pip install mxnet d2l"
      ],
      "execution_count": 0,
      "outputs": []
    },
    {
      "cell_type": "code",
      "metadata": {
        "id": "OBkyJNOxa9mk",
        "colab_type": "code",
        "colab": {}
      },
      "source": [
        "from mxnet import nd \n",
        "from time import time  \n",
        "\n",
        "a = nd.ones(shape=1000)\n",
        "b = nd.ones(shape=1000)"
      ],
      "execution_count": 0,
      "outputs": []
    },
    {
      "cell_type": "code",
      "metadata": {
        "id": "bB0vXC96gPGV",
        "colab_type": "code",
        "colab": {
          "base_uri": "https://localhost:8080/",
          "height": 34
        },
        "outputId": "00279c82-fc10-4275-956e-c8ec3f3ed0f2"
      },
      "source": [
        "start = time()\n",
        "c = nd.zeros(shape=1000)\n",
        "for i in range(1000):\n",
        "    c[i] = a[i] + b[i]\n",
        "time() - start "
      ],
      "execution_count": 330,
      "outputs": [
        {
          "output_type": "execute_result",
          "data": {
            "text/plain": [
              "0.2548360824584961"
            ]
          },
          "metadata": {
            "tags": []
          },
          "execution_count": 330
        }
      ]
    },
    {
      "cell_type": "code",
      "metadata": {
        "id": "ysubmB4Yu5sB",
        "colab_type": "code",
        "colab": {
          "base_uri": "https://localhost:8080/",
          "height": 34
        },
        "outputId": "7b9c87dd-c18b-4426-d308-d628feb8200d"
      },
      "source": [
        "start = time()\n",
        "d = a + b \n",
        "time() - start "
      ],
      "execution_count": 331,
      "outputs": [
        {
          "output_type": "execute_result",
          "data": {
            "text/plain": [
              "0.0012242794036865234"
            ]
          },
          "metadata": {
            "tags": []
          },
          "execution_count": 331
        }
      ]
    },
    {
      "cell_type": "code",
      "metadata": {
        "id": "cs-5OolSvO6n",
        "colab_type": "code",
        "colab": {
          "base_uri": "https://localhost:8080/",
          "height": 67
        },
        "outputId": "51009676-1171-4a8d-a716-f024d111d617"
      },
      "source": [
        "a = nd.ones(shape=3)\n",
        "b = 10 \n",
        "a + b "
      ],
      "execution_count": 332,
      "outputs": [
        {
          "output_type": "execute_result",
          "data": {
            "text/plain": [
              "\n",
              "[11. 11. 11.]\n",
              "<NDArray 3 @cpu(0)>"
            ]
          },
          "metadata": {
            "tags": []
          },
          "execution_count": 332
        }
      ]
    },
    {
      "cell_type": "code",
      "metadata": {
        "id": "3_8t4ajQvSQr",
        "colab_type": "code",
        "colab": {}
      },
      "source": [
        "import numpy as np \n",
        "\n",
        "a = np.ones(shape=1000)\n",
        "b = np.ones(shape=1000)"
      ],
      "execution_count": 0,
      "outputs": []
    },
    {
      "cell_type": "code",
      "metadata": {
        "id": "_Pqxc_sBJDjD",
        "colab_type": "code",
        "colab": {
          "base_uri": "https://localhost:8080/",
          "height": 34
        },
        "outputId": "cf5372e7-05f4-44fb-b442-6b2cf3dd3f2f"
      },
      "source": [
        "start = time()\n",
        "c = a + b \n",
        "time() - start "
      ],
      "execution_count": 334,
      "outputs": [
        {
          "output_type": "execute_result",
          "data": {
            "text/plain": [
              "0.00013113021850585938"
            ]
          },
          "metadata": {
            "tags": []
          },
          "execution_count": 334
        }
      ]
    },
    {
      "cell_type": "code",
      "metadata": {
        "id": "GaDj6tvXJEK3",
        "colab_type": "code",
        "colab": {
          "base_uri": "https://localhost:8080/",
          "height": 34
        },
        "outputId": "a7e0eccb-75e9-41f5-c03e-a1aebac680c6"
      },
      "source": [
        "start = time()\n",
        "d = np.zeros(shape=1000)\n",
        "for i in range(1000):\n",
        "    d[i] = a[i] + b[i]\n",
        "time() - start "
      ],
      "execution_count": 335,
      "outputs": [
        {
          "output_type": "execute_result",
          "data": {
            "text/plain": [
              "0.0016636848449707031"
            ]
          },
          "metadata": {
            "tags": []
          },
          "execution_count": 335
        }
      ]
    },
    {
      "cell_type": "markdown",
      "metadata": {
        "id": "YmPYzObf8dwL",
        "colab_type": "text"
      },
      "source": [
        "## 3.2 线性回归的从零开始实现"
      ]
    },
    {
      "cell_type": "code",
      "metadata": {
        "id": "8boOx9KZKwl8",
        "colab_type": "code",
        "colab": {}
      },
      "source": [
        "%matplotlib inline \n",
        "from IPython import display \n",
        "from matplotlib import pyplot as plt \n",
        "from mxnet import autograd, nd \n",
        "import random "
      ],
      "execution_count": 0,
      "outputs": []
    },
    {
      "cell_type": "code",
      "metadata": {
        "id": "u3ZY0qHlLWJR",
        "colab_type": "code",
        "colab": {}
      },
      "source": [
        "num_inputs = 2 \n",
        "num_examples = 1000 \n",
        "true_w = [2, -3.4]\n",
        "true_b = 4.2 \n",
        "features = nd.random.normal(scale=1, shape=(num_examples, num_inputs))\n",
        "labels = true_w[0] * features[:, 0] + true_w[1] * features[:, 1] + true_b \n",
        "labels += nd.random.normal(scale=0.01, shape=labels.shape)"
      ],
      "execution_count": 0,
      "outputs": []
    },
    {
      "cell_type": "code",
      "metadata": {
        "id": "I2EX2a7o_G5g",
        "colab_type": "code",
        "colab": {
          "base_uri": "https://localhost:8080/",
          "height": 218
        },
        "outputId": "0df9b9a9-3b9c-425f-ce7b-8efc661bef2a"
      },
      "source": [
        "features[:10]"
      ],
      "execution_count": 338,
      "outputs": [
        {
          "output_type": "execute_result",
          "data": {
            "text/plain": [
              "\n",
              "[[-1.7007433  -1.0938272 ]\n",
              " [ 0.97357124  0.5256742 ]\n",
              " [-0.7521177   1.1145861 ]\n",
              " [ 0.5848042   1.1681417 ]\n",
              " [ 0.34398568  1.070783  ]\n",
              " [-1.190219   -0.9638411 ]\n",
              " [-1.2062182  -1.2049584 ]\n",
              " [-0.06416782 -0.84567904]\n",
              " [-0.45270032  0.11056607]\n",
              " [-0.3724689  -0.04776833]]\n",
              "<NDArray 10x2 @cpu(0)>"
            ]
          },
          "metadata": {
            "tags": []
          },
          "execution_count": 338
        }
      ]
    },
    {
      "cell_type": "code",
      "metadata": {
        "id": "48wxNcJt_Lgd",
        "colab_type": "code",
        "colab": {
          "base_uri": "https://localhost:8080/",
          "height": 84
        },
        "outputId": "ec4dfd82-2038-4b7e-f726-e34373069bea"
      },
      "source": [
        "labels[:10]"
      ],
      "execution_count": 339,
      "outputs": [
        {
          "output_type": "execute_result",
          "data": {
            "text/plain": [
              "\n",
              "[ 4.5272565  4.355727  -1.094766   1.3697864  1.2461598  5.100392\n",
              "  5.8771787  6.960228   2.9173353  3.6234617]\n",
              "<NDArray 10 @cpu(0)>"
            ]
          },
          "metadata": {
            "tags": []
          },
          "execution_count": 339
        }
      ]
    },
    {
      "cell_type": "code",
      "metadata": {
        "id": "8UjF4IPl_ZeN",
        "colab_type": "code",
        "colab": {
          "base_uri": "https://localhost:8080/",
          "height": 34
        },
        "outputId": "12e1fb0b-5673-4ede-d42f-8e161526472f"
      },
      "source": [
        "features.shape, labels.shape"
      ],
      "execution_count": 340,
      "outputs": [
        {
          "output_type": "execute_result",
          "data": {
            "text/plain": [
              "((1000, 2), (1000,))"
            ]
          },
          "metadata": {
            "tags": []
          },
          "execution_count": 340
        }
      ]
    },
    {
      "cell_type": "code",
      "metadata": {
        "id": "KYBdQ6fO_jI8",
        "colab_type": "code",
        "colab": {}
      },
      "source": [
        "def use_svg_display():\n",
        "    display.set_matplotlib_formats('svg')"
      ],
      "execution_count": 0,
      "outputs": []
    },
    {
      "cell_type": "code",
      "metadata": {
        "id": "ml-0JdMVAK8D",
        "colab_type": "code",
        "colab": {}
      },
      "source": [
        "def set_figsize(figsize=(5, 3.5)):\n",
        "    use_svg_display()\n",
        "    plt.rcParams['figure.figsize'] = figsize "
      ],
      "execution_count": 0,
      "outputs": []
    },
    {
      "cell_type": "code",
      "metadata": {
        "id": "wmF4Gh3ZEvAb",
        "colab_type": "code",
        "colab": {
          "base_uri": "https://localhost:8080/",
          "height": 315
        },
        "outputId": "b9500218-10f0-4b08-cd3f-2225c4c4cc11"
      },
      "source": [
        "set_figsize()\n",
        "plt.scatter(features[:, 1].asnumpy(), labels.asnumpy(), 1);"
      ],
      "execution_count": 343,
      "outputs": [
        {
          "output_type": "display_data",
          "data": {
            "text/plain": [
              "<Figure size 360x252 with 1 Axes>"
            ],
            "image/svg+xml": "<?xml version=\"1.0\" encoding=\"utf-8\" standalone=\"no\"?>\n<!DOCTYPE svg PUBLIC \"-//W3C//DTD SVG 1.1//EN\"\n  \"http://www.w3.org/Graphics/SVG/1.1/DTD/svg11.dtd\">\n<!-- Created with matplotlib (https://matplotlib.org/) -->\n<svg height=\"221.338125pt\" version=\"1.1\" viewBox=\"0 0 321.504687 221.338125\" width=\"321.504687pt\" xmlns=\"http://www.w3.org/2000/svg\" xmlns:xlink=\"http://www.w3.org/1999/xlink\">\n <defs>\n  <style type=\"text/css\">\n*{stroke-linecap:butt;stroke-linejoin:round;}\n  </style>\n </defs>\n <g id=\"figure_1\">\n  <g id=\"patch_1\">\n   <path d=\"M 0 221.338125 \nL 321.504687 221.338125 \nL 321.504687 0 \nL 0 0 \nz\n\" style=\"fill:none;\"/>\n  </g>\n  <g id=\"axes_1\">\n   <g id=\"patch_2\">\n    <path d=\"M 35.304688 197.46 \nL 314.304688 197.46 \nL 314.304688 7.2 \nL 35.304688 7.2 \nz\n\" style=\"fill:#ffffff;\"/>\n   </g>\n   <g id=\"PathCollection_1\">\n    <defs>\n     <path d=\"M 0 0.5 \nC 0.132602 0.5 0.25979 0.447317 0.353553 0.353553 \nC 0.447317 0.25979 0.5 0.132602 0.5 0 \nC 0.5 -0.132602 0.447317 -0.25979 0.353553 -0.353553 \nC 0.25979 -0.447317 0.132602 -0.5 0 -0.5 \nC -0.132602 -0.5 -0.25979 -0.447317 -0.353553 -0.353553 \nC -0.447317 -0.25979 -0.5 -0.132602 -0.5 0 \nC -0.5 0.132602 -0.447317 0.25979 -0.353553 0.353553 \nC -0.25979 0.447317 -0.132602 0.5 0 0.5 \nz\n\" id=\"mca415b5fa4\" style=\"stroke:#1f77b4;\"/>\n    </defs>\n    <g clip-path=\"url(#pdf3e195fc0)\">\n     <use style=\"fill:#1f77b4;stroke:#1f77b4;\" x=\"125.293873\" xlink:href=\"#mca415b5fa4\" y=\"93.57149\"/>\n     <use style=\"fill:#1f77b4;stroke:#1f77b4;\" x=\"188.300299\" xlink:href=\"#mca415b5fa4\" y=\"94.747361\"/>\n     <use style=\"fill:#1f77b4;stroke:#1f77b4;\" x=\"211.211814\" xlink:href=\"#mca415b5fa4\" y=\"132.111712\"/>\n     <use style=\"fill:#1f77b4;stroke:#1f77b4;\" x=\"213.295386\" xlink:href=\"#mca415b5fa4\" y=\"115.216654\"/>\n     <use style=\"fill:#1f77b4;stroke:#1f77b4;\" x=\"209.507662\" xlink:href=\"#mca415b5fa4\" y=\"116.064142\"/>\n     <use style=\"fill:#1f77b4;stroke:#1f77b4;\" x=\"130.350962\" xlink:href=\"#mca415b5fa4\" y=\"89.642518\"/>\n     <use style=\"fill:#1f77b4;stroke:#1f77b4;\" x=\"120.970333\" xlink:href=\"#mca415b5fa4\" y=\"84.317471\"/>\n     <use style=\"fill:#1f77b4;stroke:#1f77b4;\" x=\"134.948036\" xlink:href=\"#mca415b5fa4\" y=\"76.892926\"/>\n     <use style=\"fill:#1f77b4;stroke:#1f77b4;\" x=\"172.150588\" xlink:href=\"#mca415b5fa4\" y=\"104.60786\"/>\n     <use style=\"fill:#1f77b4;stroke:#1f77b4;\" x=\"165.990615\" xlink:href=\"#mca415b5fa4\" y=\"99.767205\"/>\n     <use style=\"fill:#1f77b4;stroke:#1f77b4;\" x=\"171.831236\" xlink:href=\"#mca415b5fa4\" y=\"115.178028\"/>\n     <use style=\"fill:#1f77b4;stroke:#1f77b4;\" x=\"115.099428\" xlink:href=\"#mca415b5fa4\" y=\"85.77925\"/>\n     <use style=\"fill:#1f77b4;stroke:#1f77b4;\" x=\"190.436899\" xlink:href=\"#mca415b5fa4\" y=\"90.722979\"/>\n     <use style=\"fill:#1f77b4;stroke:#1f77b4;\" x=\"179.122803\" xlink:href=\"#mca415b5fa4\" y=\"120.436987\"/>\n     <use style=\"fill:#1f77b4;stroke:#1f77b4;\" x=\"156.886128\" xlink:href=\"#mca415b5fa4\" y=\"89.691469\"/>\n     <use style=\"fill:#1f77b4;stroke:#1f77b4;\" x=\"90.044972\" xlink:href=\"#mca415b5fa4\" y=\"39.131382\"/>\n     <use style=\"fill:#1f77b4;stroke:#1f77b4;\" x=\"147.458454\" xlink:href=\"#mca415b5fa4\" y=\"88.99281\"/>\n     <use style=\"fill:#1f77b4;stroke:#1f77b4;\" x=\"161.239369\" xlink:href=\"#mca415b5fa4\" y=\"85.388747\"/>\n     <use style=\"fill:#1f77b4;stroke:#1f77b4;\" x=\"218.456358\" xlink:href=\"#mca415b5fa4\" y=\"118.170061\"/>\n     <use style=\"fill:#1f77b4;stroke:#1f77b4;\" x=\"187.056653\" xlink:href=\"#mca415b5fa4\" y=\"107.535683\"/>\n     <use style=\"fill:#1f77b4;stroke:#1f77b4;\" x=\"183.084718\" xlink:href=\"#mca415b5fa4\" y=\"103.178144\"/>\n     <use style=\"fill:#1f77b4;stroke:#1f77b4;\" x=\"141.623056\" xlink:href=\"#mca415b5fa4\" y=\"64.029921\"/>\n     <use style=\"fill:#1f77b4;stroke:#1f77b4;\" x=\"150.362217\" xlink:href=\"#mca415b5fa4\" y=\"107.617023\"/>\n     <use style=\"fill:#1f77b4;stroke:#1f77b4;\" x=\"199.976656\" xlink:href=\"#mca415b5fa4\" y=\"119.959259\"/>\n     <use style=\"fill:#1f77b4;stroke:#1f77b4;\" x=\"170.858007\" xlink:href=\"#mca415b5fa4\" y=\"81.054699\"/>\n     <use style=\"fill:#1f77b4;stroke:#1f77b4;\" x=\"138.358457\" xlink:href=\"#mca415b5fa4\" y=\"85.688416\"/>\n     <use style=\"fill:#1f77b4;stroke:#1f77b4;\" x=\"226.099253\" xlink:href=\"#mca415b5fa4\" y=\"124.949282\"/>\n     <use style=\"fill:#1f77b4;stroke:#1f77b4;\" x=\"161.401223\" xlink:href=\"#mca415b5fa4\" y=\"70.802898\"/>\n     <use style=\"fill:#1f77b4;stroke:#1f77b4;\" x=\"224.930741\" xlink:href=\"#mca415b5fa4\" y=\"124.789169\"/>\n     <use style=\"fill:#1f77b4;stroke:#1f77b4;\" x=\"140.439074\" xlink:href=\"#mca415b5fa4\" y=\"67.951171\"/>\n     <use style=\"fill:#1f77b4;stroke:#1f77b4;\" x=\"127.810575\" xlink:href=\"#mca415b5fa4\" y=\"73.833249\"/>\n     <use style=\"fill:#1f77b4;stroke:#1f77b4;\" x=\"183.236404\" xlink:href=\"#mca415b5fa4\" y=\"53.782349\"/>\n     <use style=\"fill:#1f77b4;stroke:#1f77b4;\" x=\"97.048247\" xlink:href=\"#mca415b5fa4\" y=\"39.020595\"/>\n     <use style=\"fill:#1f77b4;stroke:#1f77b4;\" x=\"155.144734\" xlink:href=\"#mca415b5fa4\" y=\"88.952247\"/>\n     <use style=\"fill:#1f77b4;stroke:#1f77b4;\" x=\"134.645495\" xlink:href=\"#mca415b5fa4\" y=\"45.533011\"/>\n     <use style=\"fill:#1f77b4;stroke:#1f77b4;\" x=\"134.15074\" xlink:href=\"#mca415b5fa4\" y=\"83.674405\"/>\n     <use style=\"fill:#1f77b4;stroke:#1f77b4;\" x=\"221.105187\" xlink:href=\"#mca415b5fa4\" y=\"139.468088\"/>\n     <use style=\"fill:#1f77b4;stroke:#1f77b4;\" x=\"133.633908\" xlink:href=\"#mca415b5fa4\" y=\"89.536527\"/>\n     <use style=\"fill:#1f77b4;stroke:#1f77b4;\" x=\"111.90803\" xlink:href=\"#mca415b5fa4\" y=\"64.755398\"/>\n     <use style=\"fill:#1f77b4;stroke:#1f77b4;\" x=\"289.056596\" xlink:href=\"#mca415b5fa4\" y=\"170.331166\"/>\n     <use style=\"fill:#1f77b4;stroke:#1f77b4;\" x=\"128.680305\" xlink:href=\"#mca415b5fa4\" y=\"90.76822\"/>\n     <use style=\"fill:#1f77b4;stroke:#1f77b4;\" x=\"190.280164\" xlink:href=\"#mca415b5fa4\" y=\"109.890553\"/>\n     <use style=\"fill:#1f77b4;stroke:#1f77b4;\" x=\"160.444751\" xlink:href=\"#mca415b5fa4\" y=\"85.5727\"/>\n     <use style=\"fill:#1f77b4;stroke:#1f77b4;\" x=\"140.319523\" xlink:href=\"#mca415b5fa4\" y=\"79.315995\"/>\n     <use style=\"fill:#1f77b4;stroke:#1f77b4;\" x=\"187.501701\" xlink:href=\"#mca415b5fa4\" y=\"97.943243\"/>\n     <use style=\"fill:#1f77b4;stroke:#1f77b4;\" x=\"248.824917\" xlink:href=\"#mca415b5fa4\" y=\"136.340203\"/>\n     <use style=\"fill:#1f77b4;stroke:#1f77b4;\" x=\"280.905893\" xlink:href=\"#mca415b5fa4\" y=\"169.060845\"/>\n     <use style=\"fill:#1f77b4;stroke:#1f77b4;\" x=\"243.796271\" xlink:href=\"#mca415b5fa4\" y=\"139.946756\"/>\n     <use style=\"fill:#1f77b4;stroke:#1f77b4;\" x=\"132.86269\" xlink:href=\"#mca415b5fa4\" y=\"78.221768\"/>\n     <use style=\"fill:#1f77b4;stroke:#1f77b4;\" x=\"199.589985\" xlink:href=\"#mca415b5fa4\" y=\"106.521213\"/>\n     <use style=\"fill:#1f77b4;stroke:#1f77b4;\" x=\"128.605989\" xlink:href=\"#mca415b5fa4\" y=\"82.250432\"/>\n     <use style=\"fill:#1f77b4;stroke:#1f77b4;\" x=\"146.925859\" xlink:href=\"#mca415b5fa4\" y=\"72.502073\"/>\n     <use style=\"fill:#1f77b4;stroke:#1f77b4;\" x=\"191.006905\" xlink:href=\"#mca415b5fa4\" y=\"113.913072\"/>\n     <use style=\"fill:#1f77b4;stroke:#1f77b4;\" x=\"167.863755\" xlink:href=\"#mca415b5fa4\" y=\"90.492517\"/>\n     <use style=\"fill:#1f77b4;stroke:#1f77b4;\" x=\"169.176991\" xlink:href=\"#mca415b5fa4\" y=\"100.963088\"/>\n     <use style=\"fill:#1f77b4;stroke:#1f77b4;\" x=\"155.472099\" xlink:href=\"#mca415b5fa4\" y=\"86.471764\"/>\n     <use style=\"fill:#1f77b4;stroke:#1f77b4;\" x=\"214.664789\" xlink:href=\"#mca415b5fa4\" y=\"113.42483\"/>\n     <use style=\"fill:#1f77b4;stroke:#1f77b4;\" x=\"178.185148\" xlink:href=\"#mca415b5fa4\" y=\"94.748041\"/>\n     <use style=\"fill:#1f77b4;stroke:#1f77b4;\" x=\"131.410622\" xlink:href=\"#mca415b5fa4\" y=\"61.589547\"/>\n     <use style=\"fill:#1f77b4;stroke:#1f77b4;\" x=\"122.228707\" xlink:href=\"#mca415b5fa4\" y=\"87.901123\"/>\n     <use style=\"fill:#1f77b4;stroke:#1f77b4;\" x=\"191.990593\" xlink:href=\"#mca415b5fa4\" y=\"115.622256\"/>\n     <use style=\"fill:#1f77b4;stroke:#1f77b4;\" x=\"153.131766\" xlink:href=\"#mca415b5fa4\" y=\"90.316514\"/>\n     <use style=\"fill:#1f77b4;stroke:#1f77b4;\" x=\"195.988697\" xlink:href=\"#mca415b5fa4\" y=\"109.239222\"/>\n     <use style=\"fill:#1f77b4;stroke:#1f77b4;\" x=\"122.978443\" xlink:href=\"#mca415b5fa4\" y=\"50.886889\"/>\n     <use style=\"fill:#1f77b4;stroke:#1f77b4;\" x=\"151.553026\" xlink:href=\"#mca415b5fa4\" y=\"97.211363\"/>\n     <use style=\"fill:#1f77b4;stroke:#1f77b4;\" x=\"228.90919\" xlink:href=\"#mca415b5fa4\" y=\"143.244914\"/>\n     <use style=\"fill:#1f77b4;stroke:#1f77b4;\" x=\"225.09421\" xlink:href=\"#mca415b5fa4\" y=\"124.80352\"/>\n     <use style=\"fill:#1f77b4;stroke:#1f77b4;\" x=\"251.300639\" xlink:href=\"#mca415b5fa4\" y=\"136.289292\"/>\n     <use style=\"fill:#1f77b4;stroke:#1f77b4;\" x=\"125.369488\" xlink:href=\"#mca415b5fa4\" y=\"72.789353\"/>\n     <use style=\"fill:#1f77b4;stroke:#1f77b4;\" x=\"202.516738\" xlink:href=\"#mca415b5fa4\" y=\"123.129417\"/>\n     <use style=\"fill:#1f77b4;stroke:#1f77b4;\" x=\"151.759693\" xlink:href=\"#mca415b5fa4\" y=\"94.19949\"/>\n     <use style=\"fill:#1f77b4;stroke:#1f77b4;\" x=\"186.121263\" xlink:href=\"#mca415b5fa4\" y=\"75.838425\"/>\n     <use style=\"fill:#1f77b4;stroke:#1f77b4;\" x=\"127.644166\" xlink:href=\"#mca415b5fa4\" y=\"75.594849\"/>\n     <use style=\"fill:#1f77b4;stroke:#1f77b4;\" x=\"96.376278\" xlink:href=\"#mca415b5fa4\" y=\"52.519792\"/>\n     <use style=\"fill:#1f77b4;stroke:#1f77b4;\" x=\"225.092401\" xlink:href=\"#mca415b5fa4\" y=\"122.14634\"/>\n     <use style=\"fill:#1f77b4;stroke:#1f77b4;\" x=\"228.062237\" xlink:href=\"#mca415b5fa4\" y=\"128.528029\"/>\n     <use style=\"fill:#1f77b4;stroke:#1f77b4;\" x=\"148.166176\" xlink:href=\"#mca415b5fa4\" y=\"60.858683\"/>\n     <use style=\"fill:#1f77b4;stroke:#1f77b4;\" x=\"138.429905\" xlink:href=\"#mca415b5fa4\" y=\"71.26575\"/>\n     <use style=\"fill:#1f77b4;stroke:#1f77b4;\" x=\"225.108977\" xlink:href=\"#mca415b5fa4\" y=\"126.286582\"/>\n     <use style=\"fill:#1f77b4;stroke:#1f77b4;\" x=\"172.240065\" xlink:href=\"#mca415b5fa4\" y=\"69.724483\"/>\n     <use style=\"fill:#1f77b4;stroke:#1f77b4;\" x=\"203.948967\" xlink:href=\"#mca415b5fa4\" y=\"118.205642\"/>\n     <use style=\"fill:#1f77b4;stroke:#1f77b4;\" x=\"99.510765\" xlink:href=\"#mca415b5fa4\" y=\"67.066019\"/>\n     <use style=\"fill:#1f77b4;stroke:#1f77b4;\" x=\"160.324361\" xlink:href=\"#mca415b5fa4\" y=\"95.88961\"/>\n     <use style=\"fill:#1f77b4;stroke:#1f77b4;\" x=\"169.564539\" xlink:href=\"#mca415b5fa4\" y=\"105.133788\"/>\n     <use style=\"fill:#1f77b4;stroke:#1f77b4;\" x=\"198.860234\" xlink:href=\"#mca415b5fa4\" y=\"137.706775\"/>\n     <use style=\"fill:#1f77b4;stroke:#1f77b4;\" x=\"214.330533\" xlink:href=\"#mca415b5fa4\" y=\"113.293457\"/>\n     <use style=\"fill:#1f77b4;stroke:#1f77b4;\" x=\"201.542901\" xlink:href=\"#mca415b5fa4\" y=\"114.452143\"/>\n     <use style=\"fill:#1f77b4;stroke:#1f77b4;\" x=\"193.537915\" xlink:href=\"#mca415b5fa4\" y=\"111.547105\"/>\n     <use style=\"fill:#1f77b4;stroke:#1f77b4;\" x=\"158.896636\" xlink:href=\"#mca415b5fa4\" y=\"85.76154\"/>\n     <use style=\"fill:#1f77b4;stroke:#1f77b4;\" x=\"182.128545\" xlink:href=\"#mca415b5fa4\" y=\"108.337116\"/>\n     <use style=\"fill:#1f77b4;stroke:#1f77b4;\" x=\"125.410755\" xlink:href=\"#mca415b5fa4\" y=\"68.278198\"/>\n     <use style=\"fill:#1f77b4;stroke:#1f77b4;\" x=\"117.697073\" xlink:href=\"#mca415b5fa4\" y=\"87.446564\"/>\n     <use style=\"fill:#1f77b4;stroke:#1f77b4;\" x=\"109.557654\" xlink:href=\"#mca415b5fa4\" y=\"54.073929\"/>\n     <use style=\"fill:#1f77b4;stroke:#1f77b4;\" x=\"138.172998\" xlink:href=\"#mca415b5fa4\" y=\"98.851355\"/>\n     <use style=\"fill:#1f77b4;stroke:#1f77b4;\" x=\"135.64439\" xlink:href=\"#mca415b5fa4\" y=\"75.175138\"/>\n     <use style=\"fill:#1f77b4;stroke:#1f77b4;\" x=\"169.080779\" xlink:href=\"#mca415b5fa4\" y=\"70.276702\"/>\n     <use style=\"fill:#1f77b4;stroke:#1f77b4;\" x=\"172.566784\" xlink:href=\"#mca415b5fa4\" y=\"109.809105\"/>\n     <use style=\"fill:#1f77b4;stroke:#1f77b4;\" x=\"106.467643\" xlink:href=\"#mca415b5fa4\" y=\"43.251312\"/>\n     <use style=\"fill:#1f77b4;stroke:#1f77b4;\" x=\"126.552094\" xlink:href=\"#mca415b5fa4\" y=\"94.212297\"/>\n     <use style=\"fill:#1f77b4;stroke:#1f77b4;\" x=\"136.382133\" xlink:href=\"#mca415b5fa4\" y=\"68.359631\"/>\n     <use style=\"fill:#1f77b4;stroke:#1f77b4;\" x=\"167.73977\" xlink:href=\"#mca415b5fa4\" y=\"64.73028\"/>\n     <use style=\"fill:#1f77b4;stroke:#1f77b4;\" x=\"141.138425\" xlink:href=\"#mca415b5fa4\" y=\"81.009063\"/>\n     <use style=\"fill:#1f77b4;stroke:#1f77b4;\" x=\"149.897487\" xlink:href=\"#mca415b5fa4\" y=\"82.617705\"/>\n     <use style=\"fill:#1f77b4;stroke:#1f77b4;\" x=\"152.264818\" xlink:href=\"#mca415b5fa4\" y=\"97.473455\"/>\n     <use style=\"fill:#1f77b4;stroke:#1f77b4;\" x=\"223.789861\" xlink:href=\"#mca415b5fa4\" y=\"119.617862\"/>\n     <use style=\"fill:#1f77b4;stroke:#1f77b4;\" x=\"179.927811\" xlink:href=\"#mca415b5fa4\" y=\"136.596536\"/>\n     <use style=\"fill:#1f77b4;stroke:#1f77b4;\" x=\"202.162397\" xlink:href=\"#mca415b5fa4\" y=\"116.937612\"/>\n     <use style=\"fill:#1f77b4;stroke:#1f77b4;\" x=\"276.244108\" xlink:href=\"#mca415b5fa4\" y=\"136.775711\"/>\n     <use style=\"fill:#1f77b4;stroke:#1f77b4;\" x=\"157.21775\" xlink:href=\"#mca415b5fa4\" y=\"101.584593\"/>\n     <use style=\"fill:#1f77b4;stroke:#1f77b4;\" x=\"150.303302\" xlink:href=\"#mca415b5fa4\" y=\"89.414518\"/>\n     <use style=\"fill:#1f77b4;stroke:#1f77b4;\" x=\"140.60746\" xlink:href=\"#mca415b5fa4\" y=\"83.064023\"/>\n     <use style=\"fill:#1f77b4;stroke:#1f77b4;\" x=\"219.01355\" xlink:href=\"#mca415b5fa4\" y=\"139.961889\"/>\n     <use style=\"fill:#1f77b4;stroke:#1f77b4;\" x=\"127.510805\" xlink:href=\"#mca415b5fa4\" y=\"102.106891\"/>\n     <use style=\"fill:#1f77b4;stroke:#1f77b4;\" x=\"174.245855\" xlink:href=\"#mca415b5fa4\" y=\"108.596722\"/>\n     <use style=\"fill:#1f77b4;stroke:#1f77b4;\" x=\"200.366817\" xlink:href=\"#mca415b5fa4\" y=\"102.931258\"/>\n     <use style=\"fill:#1f77b4;stroke:#1f77b4;\" x=\"192.841623\" xlink:href=\"#mca415b5fa4\" y=\"123.328823\"/>\n     <use style=\"fill:#1f77b4;stroke:#1f77b4;\" x=\"146.687109\" xlink:href=\"#mca415b5fa4\" y=\"85.743297\"/>\n     <use style=\"fill:#1f77b4;stroke:#1f77b4;\" x=\"145.88562\" xlink:href=\"#mca415b5fa4\" y=\"79.772584\"/>\n     <use style=\"fill:#1f77b4;stroke:#1f77b4;\" x=\"215.837582\" xlink:href=\"#mca415b5fa4\" y=\"145.133604\"/>\n     <use style=\"fill:#1f77b4;stroke:#1f77b4;\" x=\"188.384422\" xlink:href=\"#mca415b5fa4\" y=\"124.245147\"/>\n     <use style=\"fill:#1f77b4;stroke:#1f77b4;\" x=\"78.985402\" xlink:href=\"#mca415b5fa4\" y=\"53.387665\"/>\n     <use style=\"fill:#1f77b4;stroke:#1f77b4;\" x=\"153.201141\" xlink:href=\"#mca415b5fa4\" y=\"77.243563\"/>\n     <use style=\"fill:#1f77b4;stroke:#1f77b4;\" x=\"143.486069\" xlink:href=\"#mca415b5fa4\" y=\"89.094578\"/>\n     <use style=\"fill:#1f77b4;stroke:#1f77b4;\" x=\"140.294588\" xlink:href=\"#mca415b5fa4\" y=\"79.441965\"/>\n     <use style=\"fill:#1f77b4;stroke:#1f77b4;\" x=\"170.549881\" xlink:href=\"#mca415b5fa4\" y=\"93.767021\"/>\n     <use style=\"fill:#1f77b4;stroke:#1f77b4;\" x=\"227.859842\" xlink:href=\"#mca415b5fa4\" y=\"128.584249\"/>\n     <use style=\"fill:#1f77b4;stroke:#1f77b4;\" x=\"141.49876\" xlink:href=\"#mca415b5fa4\" y=\"70.107743\"/>\n     <use style=\"fill:#1f77b4;stroke:#1f77b4;\" x=\"172.886299\" xlink:href=\"#mca415b5fa4\" y=\"97.871981\"/>\n     <use style=\"fill:#1f77b4;stroke:#1f77b4;\" x=\"144.932692\" xlink:href=\"#mca415b5fa4\" y=\"84.992016\"/>\n     <use style=\"fill:#1f77b4;stroke:#1f77b4;\" x=\"241.996172\" xlink:href=\"#mca415b5fa4\" y=\"145.287992\"/>\n     <use style=\"fill:#1f77b4;stroke:#1f77b4;\" x=\"211.12947\" xlink:href=\"#mca415b5fa4\" y=\"113.785622\"/>\n     <use style=\"fill:#1f77b4;stroke:#1f77b4;\" x=\"244.240528\" xlink:href=\"#mca415b5fa4\" y=\"159.208654\"/>\n     <use style=\"fill:#1f77b4;stroke:#1f77b4;\" x=\"145.624699\" xlink:href=\"#mca415b5fa4\" y=\"71.900171\"/>\n     <use style=\"fill:#1f77b4;stroke:#1f77b4;\" x=\"163.108381\" xlink:href=\"#mca415b5fa4\" y=\"85.65393\"/>\n     <use style=\"fill:#1f77b4;stroke:#1f77b4;\" x=\"161.558949\" xlink:href=\"#mca415b5fa4\" y=\"92.957781\"/>\n     <use style=\"fill:#1f77b4;stroke:#1f77b4;\" x=\"165.697389\" xlink:href=\"#mca415b5fa4\" y=\"100.795257\"/>\n     <use style=\"fill:#1f77b4;stroke:#1f77b4;\" x=\"109.05267\" xlink:href=\"#mca415b5fa4\" y=\"53.526427\"/>\n     <use style=\"fill:#1f77b4;stroke:#1f77b4;\" x=\"170.799547\" xlink:href=\"#mca415b5fa4\" y=\"98.861634\"/>\n     <use style=\"fill:#1f77b4;stroke:#1f77b4;\" x=\"161.93832\" xlink:href=\"#mca415b5fa4\" y=\"75.250772\"/>\n     <use style=\"fill:#1f77b4;stroke:#1f77b4;\" x=\"179.58531\" xlink:href=\"#mca415b5fa4\" y=\"97.839018\"/>\n     <use style=\"fill:#1f77b4;stroke:#1f77b4;\" x=\"256.621273\" xlink:href=\"#mca415b5fa4\" y=\"155.090447\"/>\n     <use style=\"fill:#1f77b4;stroke:#1f77b4;\" x=\"123.708718\" xlink:href=\"#mca415b5fa4\" y=\"68.507297\"/>\n     <use style=\"fill:#1f77b4;stroke:#1f77b4;\" x=\"122.694636\" xlink:href=\"#mca415b5fa4\" y=\"64.305025\"/>\n     <use style=\"fill:#1f77b4;stroke:#1f77b4;\" x=\"247.874721\" xlink:href=\"#mca415b5fa4\" y=\"133.269006\"/>\n     <use style=\"fill:#1f77b4;stroke:#1f77b4;\" x=\"129.35081\" xlink:href=\"#mca415b5fa4\" y=\"76.432257\"/>\n     <use style=\"fill:#1f77b4;stroke:#1f77b4;\" x=\"198.895034\" xlink:href=\"#mca415b5fa4\" y=\"123.109522\"/>\n     <use style=\"fill:#1f77b4;stroke:#1f77b4;\" x=\"105.923502\" xlink:href=\"#mca415b5fa4\" y=\"47.101949\"/>\n     <use style=\"fill:#1f77b4;stroke:#1f77b4;\" x=\"157.230835\" xlink:href=\"#mca415b5fa4\" y=\"90.764366\"/>\n     <use style=\"fill:#1f77b4;stroke:#1f77b4;\" x=\"170.402394\" xlink:href=\"#mca415b5fa4\" y=\"108.520309\"/>\n     <use style=\"fill:#1f77b4;stroke:#1f77b4;\" x=\"111.620958\" xlink:href=\"#mca415b5fa4\" y=\"81.847278\"/>\n     <use style=\"fill:#1f77b4;stroke:#1f77b4;\" x=\"159.14663\" xlink:href=\"#mca415b5fa4\" y=\"61.740109\"/>\n     <use style=\"fill:#1f77b4;stroke:#1f77b4;\" x=\"189.294016\" xlink:href=\"#mca415b5fa4\" y=\"105.504383\"/>\n     <use style=\"fill:#1f77b4;stroke:#1f77b4;\" x=\"127.861596\" xlink:href=\"#mca415b5fa4\" y=\"64.017584\"/>\n     <use style=\"fill:#1f77b4;stroke:#1f77b4;\" x=\"132.893119\" xlink:href=\"#mca415b5fa4\" y=\"67.492712\"/>\n     <use style=\"fill:#1f77b4;stroke:#1f77b4;\" x=\"94.05948\" xlink:href=\"#mca415b5fa4\" y=\"46.644634\"/>\n     <use style=\"fill:#1f77b4;stroke:#1f77b4;\" x=\"245.410682\" xlink:href=\"#mca415b5fa4\" y=\"128.121353\"/>\n     <use style=\"fill:#1f77b4;stroke:#1f77b4;\" x=\"193.82558\" xlink:href=\"#mca415b5fa4\" y=\"109.093623\"/>\n     <use style=\"fill:#1f77b4;stroke:#1f77b4;\" x=\"229.087078\" xlink:href=\"#mca415b5fa4\" y=\"112.83898\"/>\n     <use style=\"fill:#1f77b4;stroke:#1f77b4;\" x=\"186.128823\" xlink:href=\"#mca415b5fa4\" y=\"116.946523\"/>\n     <use style=\"fill:#1f77b4;stroke:#1f77b4;\" x=\"178.558343\" xlink:href=\"#mca415b5fa4\" y=\"110.209527\"/>\n     <use style=\"fill:#1f77b4;stroke:#1f77b4;\" x=\"160.678066\" xlink:href=\"#mca415b5fa4\" y=\"72.962843\"/>\n     <use style=\"fill:#1f77b4;stroke:#1f77b4;\" x=\"217.88727\" xlink:href=\"#mca415b5fa4\" y=\"120.14218\"/>\n     <use style=\"fill:#1f77b4;stroke:#1f77b4;\" x=\"188.51426\" xlink:href=\"#mca415b5fa4\" y=\"104.792019\"/>\n     <use style=\"fill:#1f77b4;stroke:#1f77b4;\" x=\"142.78465\" xlink:href=\"#mca415b5fa4\" y=\"88.82239\"/>\n     <use style=\"fill:#1f77b4;stroke:#1f77b4;\" x=\"193.466662\" xlink:href=\"#mca415b5fa4\" y=\"130.222619\"/>\n     <use style=\"fill:#1f77b4;stroke:#1f77b4;\" x=\"156.366882\" xlink:href=\"#mca415b5fa4\" y=\"95.28642\"/>\n     <use style=\"fill:#1f77b4;stroke:#1f77b4;\" x=\"153.555784\" xlink:href=\"#mca415b5fa4\" y=\"91.721769\"/>\n     <use style=\"fill:#1f77b4;stroke:#1f77b4;\" x=\"182.99158\" xlink:href=\"#mca415b5fa4\" y=\"98.919891\"/>\n     <use style=\"fill:#1f77b4;stroke:#1f77b4;\" x=\"156.198694\" xlink:href=\"#mca415b5fa4\" y=\"95.123482\"/>\n     <use style=\"fill:#1f77b4;stroke:#1f77b4;\" x=\"220.474504\" xlink:href=\"#mca415b5fa4\" y=\"135.667638\"/>\n     <use style=\"fill:#1f77b4;stroke:#1f77b4;\" x=\"127.45671\" xlink:href=\"#mca415b5fa4\" y=\"56.463695\"/>\n     <use style=\"fill:#1f77b4;stroke:#1f77b4;\" x=\"154.929716\" xlink:href=\"#mca415b5fa4\" y=\"110.324383\"/>\n     <use style=\"fill:#1f77b4;stroke:#1f77b4;\" x=\"187.39697\" xlink:href=\"#mca415b5fa4\" y=\"112.337629\"/>\n     <use style=\"fill:#1f77b4;stroke:#1f77b4;\" x=\"135.342051\" xlink:href=\"#mca415b5fa4\" y=\"53.745725\"/>\n     <use style=\"fill:#1f77b4;stroke:#1f77b4;\" x=\"198.4884\" xlink:href=\"#mca415b5fa4\" y=\"125.39328\"/>\n     <use style=\"fill:#1f77b4;stroke:#1f77b4;\" x=\"183.325089\" xlink:href=\"#mca415b5fa4\" y=\"97.944336\"/>\n     <use style=\"fill:#1f77b4;stroke:#1f77b4;\" x=\"110.022794\" xlink:href=\"#mca415b5fa4\" y=\"92.730257\"/>\n     <use style=\"fill:#1f77b4;stroke:#1f77b4;\" x=\"141.758174\" xlink:href=\"#mca415b5fa4\" y=\"86.085229\"/>\n     <use style=\"fill:#1f77b4;stroke:#1f77b4;\" x=\"184.846295\" xlink:href=\"#mca415b5fa4\" y=\"105.975229\"/>\n     <use style=\"fill:#1f77b4;stroke:#1f77b4;\" x=\"201.940234\" xlink:href=\"#mca415b5fa4\" y=\"123.656446\"/>\n     <use style=\"fill:#1f77b4;stroke:#1f77b4;\" x=\"172.423902\" xlink:href=\"#mca415b5fa4\" y=\"73.917101\"/>\n     <use style=\"fill:#1f77b4;stroke:#1f77b4;\" x=\"158.417502\" xlink:href=\"#mca415b5fa4\" y=\"103.443762\"/>\n     <use style=\"fill:#1f77b4;stroke:#1f77b4;\" x=\"197.614939\" xlink:href=\"#mca415b5fa4\" y=\"130.874397\"/>\n     <use style=\"fill:#1f77b4;stroke:#1f77b4;\" x=\"226.892765\" xlink:href=\"#mca415b5fa4\" y=\"132.707319\"/>\n     <use style=\"fill:#1f77b4;stroke:#1f77b4;\" x=\"182.153185\" xlink:href=\"#mca415b5fa4\" y=\"99.232538\"/>\n     <use style=\"fill:#1f77b4;stroke:#1f77b4;\" x=\"249.626072\" xlink:href=\"#mca415b5fa4\" y=\"141.105332\"/>\n     <use style=\"fill:#1f77b4;stroke:#1f77b4;\" x=\"131.932391\" xlink:href=\"#mca415b5fa4\" y=\"83.637405\"/>\n     <use style=\"fill:#1f77b4;stroke:#1f77b4;\" x=\"198.662002\" xlink:href=\"#mca415b5fa4\" y=\"126.921209\"/>\n     <use style=\"fill:#1f77b4;stroke:#1f77b4;\" x=\"213.252347\" xlink:href=\"#mca415b5fa4\" y=\"128.162326\"/>\n     <use style=\"fill:#1f77b4;stroke:#1f77b4;\" x=\"153.909418\" xlink:href=\"#mca415b5fa4\" y=\"111.748236\"/>\n     <use style=\"fill:#1f77b4;stroke:#1f77b4;\" x=\"87.842574\" xlink:href=\"#mca415b5fa4\" y=\"28.296174\"/>\n     <use style=\"fill:#1f77b4;stroke:#1f77b4;\" x=\"145.183512\" xlink:href=\"#mca415b5fa4\" y=\"72.853867\"/>\n     <use style=\"fill:#1f77b4;stroke:#1f77b4;\" x=\"190.290237\" xlink:href=\"#mca415b5fa4\" y=\"105.509763\"/>\n     <use style=\"fill:#1f77b4;stroke:#1f77b4;\" x=\"218.358722\" xlink:href=\"#mca415b5fa4\" y=\"133.246702\"/>\n     <use style=\"fill:#1f77b4;stroke:#1f77b4;\" x=\"213.324975\" xlink:href=\"#mca415b5fa4\" y=\"118.77482\"/>\n     <use style=\"fill:#1f77b4;stroke:#1f77b4;\" x=\"156.273723\" xlink:href=\"#mca415b5fa4\" y=\"91.939937\"/>\n     <use style=\"fill:#1f77b4;stroke:#1f77b4;\" x=\"142.378394\" xlink:href=\"#mca415b5fa4\" y=\"77.326852\"/>\n     <use style=\"fill:#1f77b4;stroke:#1f77b4;\" x=\"169.017994\" xlink:href=\"#mca415b5fa4\" y=\"82.827289\"/>\n     <use style=\"fill:#1f77b4;stroke:#1f77b4;\" x=\"209.393164\" xlink:href=\"#mca415b5fa4\" y=\"97.089046\"/>\n     <use style=\"fill:#1f77b4;stroke:#1f77b4;\" x=\"233.373066\" xlink:href=\"#mca415b5fa4\" y=\"120.913049\"/>\n     <use style=\"fill:#1f77b4;stroke:#1f77b4;\" x=\"198.756725\" xlink:href=\"#mca415b5fa4\" y=\"125.860151\"/>\n     <use style=\"fill:#1f77b4;stroke:#1f77b4;\" x=\"215.941938\" xlink:href=\"#mca415b5fa4\" y=\"121.321936\"/>\n     <use style=\"fill:#1f77b4;stroke:#1f77b4;\" x=\"159.370354\" xlink:href=\"#mca415b5fa4\" y=\"102.294769\"/>\n     <use style=\"fill:#1f77b4;stroke:#1f77b4;\" x=\"155.666859\" xlink:href=\"#mca415b5fa4\" y=\"81.805111\"/>\n     <use style=\"fill:#1f77b4;stroke:#1f77b4;\" x=\"174.754238\" xlink:href=\"#mca415b5fa4\" y=\"117.906237\"/>\n     <use style=\"fill:#1f77b4;stroke:#1f77b4;\" x=\"147.456161\" xlink:href=\"#mca415b5fa4\" y=\"86.488589\"/>\n     <use style=\"fill:#1f77b4;stroke:#1f77b4;\" x=\"119.250181\" xlink:href=\"#mca415b5fa4\" y=\"89.917155\"/>\n     <use style=\"fill:#1f77b4;stroke:#1f77b4;\" x=\"62.819577\" xlink:href=\"#mca415b5fa4\" y=\"34.559387\"/>\n     <use style=\"fill:#1f77b4;stroke:#1f77b4;\" x=\"180.564265\" xlink:href=\"#mca415b5fa4\" y=\"99.515834\"/>\n     <use style=\"fill:#1f77b4;stroke:#1f77b4;\" x=\"157.639546\" xlink:href=\"#mca415b5fa4\" y=\"83.85623\"/>\n     <use style=\"fill:#1f77b4;stroke:#1f77b4;\" x=\"122.293985\" xlink:href=\"#mca415b5fa4\" y=\"79.775304\"/>\n     <use style=\"fill:#1f77b4;stroke:#1f77b4;\" x=\"159.153938\" xlink:href=\"#mca415b5fa4\" y=\"98.455883\"/>\n     <use style=\"fill:#1f77b4;stroke:#1f77b4;\" x=\"152.555099\" xlink:href=\"#mca415b5fa4\" y=\"79.45607\"/>\n     <use style=\"fill:#1f77b4;stroke:#1f77b4;\" x=\"165.289672\" xlink:href=\"#mca415b5fa4\" y=\"104.043698\"/>\n     <use style=\"fill:#1f77b4;stroke:#1f77b4;\" x=\"198.708494\" xlink:href=\"#mca415b5fa4\" y=\"125.395929\"/>\n     <use style=\"fill:#1f77b4;stroke:#1f77b4;\" x=\"172.448923\" xlink:href=\"#mca415b5fa4\" y=\"107.152356\"/>\n     <use style=\"fill:#1f77b4;stroke:#1f77b4;\" x=\"177.24154\" xlink:href=\"#mca415b5fa4\" y=\"112.914164\"/>\n     <use style=\"fill:#1f77b4;stroke:#1f77b4;\" x=\"141.20981\" xlink:href=\"#mca415b5fa4\" y=\"100.660866\"/>\n     <use style=\"fill:#1f77b4;stroke:#1f77b4;\" x=\"171.586017\" xlink:href=\"#mca415b5fa4\" y=\"108.049722\"/>\n     <use style=\"fill:#1f77b4;stroke:#1f77b4;\" x=\"87.006237\" xlink:href=\"#mca415b5fa4\" y=\"46.698399\"/>\n     <use style=\"fill:#1f77b4;stroke:#1f77b4;\" x=\"168.66454\" xlink:href=\"#mca415b5fa4\" y=\"115.473401\"/>\n     <use style=\"fill:#1f77b4;stroke:#1f77b4;\" x=\"151.358715\" xlink:href=\"#mca415b5fa4\" y=\"89.918633\"/>\n     <use style=\"fill:#1f77b4;stroke:#1f77b4;\" x=\"210.092941\" xlink:href=\"#mca415b5fa4\" y=\"131.224426\"/>\n     <use style=\"fill:#1f77b4;stroke:#1f77b4;\" x=\"136.113315\" xlink:href=\"#mca415b5fa4\" y=\"108.922271\"/>\n     <use style=\"fill:#1f77b4;stroke:#1f77b4;\" x=\"226.741855\" xlink:href=\"#mca415b5fa4\" y=\"138.372458\"/>\n     <use style=\"fill:#1f77b4;stroke:#1f77b4;\" x=\"169.576912\" xlink:href=\"#mca415b5fa4\" y=\"101.089765\"/>\n     <use style=\"fill:#1f77b4;stroke:#1f77b4;\" x=\"167.176246\" xlink:href=\"#mca415b5fa4\" y=\"93.151393\"/>\n     <use style=\"fill:#1f77b4;stroke:#1f77b4;\" x=\"124.860655\" xlink:href=\"#mca415b5fa4\" y=\"60.397452\"/>\n     <use style=\"fill:#1f77b4;stroke:#1f77b4;\" x=\"164.637556\" xlink:href=\"#mca415b5fa4\" y=\"77.666872\"/>\n     <use style=\"fill:#1f77b4;stroke:#1f77b4;\" x=\"176.518201\" xlink:href=\"#mca415b5fa4\" y=\"115.60038\"/>\n     <use style=\"fill:#1f77b4;stroke:#1f77b4;\" x=\"175.711638\" xlink:href=\"#mca415b5fa4\" y=\"83.628926\"/>\n     <use style=\"fill:#1f77b4;stroke:#1f77b4;\" x=\"141.175439\" xlink:href=\"#mca415b5fa4\" y=\"85.248331\"/>\n     <use style=\"fill:#1f77b4;stroke:#1f77b4;\" x=\"126.617181\" xlink:href=\"#mca415b5fa4\" y=\"85.011841\"/>\n     <use style=\"fill:#1f77b4;stroke:#1f77b4;\" x=\"150.841837\" xlink:href=\"#mca415b5fa4\" y=\"73.74521\"/>\n     <use style=\"fill:#1f77b4;stroke:#1f77b4;\" x=\"181.883939\" xlink:href=\"#mca415b5fa4\" y=\"100.580036\"/>\n     <use style=\"fill:#1f77b4;stroke:#1f77b4;\" x=\"200.974042\" xlink:href=\"#mca415b5fa4\" y=\"111.693031\"/>\n     <use style=\"fill:#1f77b4;stroke:#1f77b4;\" x=\"189.045438\" xlink:href=\"#mca415b5fa4\" y=\"107.108405\"/>\n     <use style=\"fill:#1f77b4;stroke:#1f77b4;\" x=\"222.979008\" xlink:href=\"#mca415b5fa4\" y=\"131.69181\"/>\n     <use style=\"fill:#1f77b4;stroke:#1f77b4;\" x=\"207.391014\" xlink:href=\"#mca415b5fa4\" y=\"147.125317\"/>\n     <use style=\"fill:#1f77b4;stroke:#1f77b4;\" x=\"217.833355\" xlink:href=\"#mca415b5fa4\" y=\"140.200477\"/>\n     <use style=\"fill:#1f77b4;stroke:#1f77b4;\" x=\"172.689286\" xlink:href=\"#mca415b5fa4\" y=\"115.57339\"/>\n     <use style=\"fill:#1f77b4;stroke:#1f77b4;\" x=\"117.089941\" xlink:href=\"#mca415b5fa4\" y=\"64.087328\"/>\n     <use style=\"fill:#1f77b4;stroke:#1f77b4;\" x=\"214.240809\" xlink:href=\"#mca415b5fa4\" y=\"125.548691\"/>\n     <use style=\"fill:#1f77b4;stroke:#1f77b4;\" x=\"166.263284\" xlink:href=\"#mca415b5fa4\" y=\"83.905403\"/>\n     <use style=\"fill:#1f77b4;stroke:#1f77b4;\" x=\"215.595075\" xlink:href=\"#mca415b5fa4\" y=\"110.327227\"/>\n     <use style=\"fill:#1f77b4;stroke:#1f77b4;\" x=\"212.267571\" xlink:href=\"#mca415b5fa4\" y=\"123.751292\"/>\n     <use style=\"fill:#1f77b4;stroke:#1f77b4;\" x=\"228.603242\" xlink:href=\"#mca415b5fa4\" y=\"119.893235\"/>\n     <use style=\"fill:#1f77b4;stroke:#1f77b4;\" x=\"111.999585\" xlink:href=\"#mca415b5fa4\" y=\"77.15874\"/>\n     <use style=\"fill:#1f77b4;stroke:#1f77b4;\" x=\"189.55874\" xlink:href=\"#mca415b5fa4\" y=\"133.175108\"/>\n     <use style=\"fill:#1f77b4;stroke:#1f77b4;\" x=\"137.791672\" xlink:href=\"#mca415b5fa4\" y=\"51.142524\"/>\n     <use style=\"fill:#1f77b4;stroke:#1f77b4;\" x=\"141.97943\" xlink:href=\"#mca415b5fa4\" y=\"70.881735\"/>\n     <use style=\"fill:#1f77b4;stroke:#1f77b4;\" x=\"158.033408\" xlink:href=\"#mca415b5fa4\" y=\"75.542865\"/>\n     <use style=\"fill:#1f77b4;stroke:#1f77b4;\" x=\"85.283334\" xlink:href=\"#mca415b5fa4\" y=\"74.773439\"/>\n     <use style=\"fill:#1f77b4;stroke:#1f77b4;\" x=\"209.852484\" xlink:href=\"#mca415b5fa4\" y=\"132.552913\"/>\n     <use style=\"fill:#1f77b4;stroke:#1f77b4;\" x=\"200.594782\" xlink:href=\"#mca415b5fa4\" y=\"95.068527\"/>\n     <use style=\"fill:#1f77b4;stroke:#1f77b4;\" x=\"142.624653\" xlink:href=\"#mca415b5fa4\" y=\"72.959512\"/>\n     <use style=\"fill:#1f77b4;stroke:#1f77b4;\" x=\"144.389416\" xlink:href=\"#mca415b5fa4\" y=\"52.024944\"/>\n     <use style=\"fill:#1f77b4;stroke:#1f77b4;\" x=\"160.089728\" xlink:href=\"#mca415b5fa4\" y=\"101.614667\"/>\n     <use style=\"fill:#1f77b4;stroke:#1f77b4;\" x=\"148.416628\" xlink:href=\"#mca415b5fa4\" y=\"76.000879\"/>\n     <use style=\"fill:#1f77b4;stroke:#1f77b4;\" x=\"127.164625\" xlink:href=\"#mca415b5fa4\" y=\"75.144101\"/>\n     <use style=\"fill:#1f77b4;stroke:#1f77b4;\" x=\"143.011442\" xlink:href=\"#mca415b5fa4\" y=\"82.672307\"/>\n     <use style=\"fill:#1f77b4;stroke:#1f77b4;\" x=\"200.008291\" xlink:href=\"#mca415b5fa4\" y=\"92.48638\"/>\n     <use style=\"fill:#1f77b4;stroke:#1f77b4;\" x=\"189.951032\" xlink:href=\"#mca415b5fa4\" y=\"107.297113\"/>\n     <use style=\"fill:#1f77b4;stroke:#1f77b4;\" x=\"95.068001\" xlink:href=\"#mca415b5fa4\" y=\"59.393256\"/>\n     <use style=\"fill:#1f77b4;stroke:#1f77b4;\" x=\"137.970747\" xlink:href=\"#mca415b5fa4\" y=\"86.336932\"/>\n     <use style=\"fill:#1f77b4;stroke:#1f77b4;\" x=\"222.430744\" xlink:href=\"#mca415b5fa4\" y=\"127.883487\"/>\n     <use style=\"fill:#1f77b4;stroke:#1f77b4;\" x=\"220.574152\" xlink:href=\"#mca415b5fa4\" y=\"107.851401\"/>\n     <use style=\"fill:#1f77b4;stroke:#1f77b4;\" x=\"198.102925\" xlink:href=\"#mca415b5fa4\" y=\"115.86153\"/>\n     <use style=\"fill:#1f77b4;stroke:#1f77b4;\" x=\"123.033512\" xlink:href=\"#mca415b5fa4\" y=\"99.451507\"/>\n     <use style=\"fill:#1f77b4;stroke:#1f77b4;\" x=\"138.402741\" xlink:href=\"#mca415b5fa4\" y=\"104.757541\"/>\n     <use style=\"fill:#1f77b4;stroke:#1f77b4;\" x=\"102.3699\" xlink:href=\"#mca415b5fa4\" y=\"74.617849\"/>\n     <use style=\"fill:#1f77b4;stroke:#1f77b4;\" x=\"135.92048\" xlink:href=\"#mca415b5fa4\" y=\"73.292775\"/>\n     <use style=\"fill:#1f77b4;stroke:#1f77b4;\" x=\"163.505248\" xlink:href=\"#mca415b5fa4\" y=\"97.103191\"/>\n     <use style=\"fill:#1f77b4;stroke:#1f77b4;\" x=\"224.272185\" xlink:href=\"#mca415b5fa4\" y=\"137.315455\"/>\n     <use style=\"fill:#1f77b4;stroke:#1f77b4;\" x=\"197.051952\" xlink:href=\"#mca415b5fa4\" y=\"115.152474\"/>\n     <use style=\"fill:#1f77b4;stroke:#1f77b4;\" x=\"190.755737\" xlink:href=\"#mca415b5fa4\" y=\"100.125303\"/>\n     <use style=\"fill:#1f77b4;stroke:#1f77b4;\" x=\"158.034848\" xlink:href=\"#mca415b5fa4\" y=\"105.237073\"/>\n     <use style=\"fill:#1f77b4;stroke:#1f77b4;\" x=\"169.917663\" xlink:href=\"#mca415b5fa4\" y=\"96.023373\"/>\n     <use style=\"fill:#1f77b4;stroke:#1f77b4;\" x=\"195.907128\" xlink:href=\"#mca415b5fa4\" y=\"125.55327\"/>\n     <use style=\"fill:#1f77b4;stroke:#1f77b4;\" x=\"173.52161\" xlink:href=\"#mca415b5fa4\" y=\"73.930137\"/>\n     <use style=\"fill:#1f77b4;stroke:#1f77b4;\" x=\"181.467259\" xlink:href=\"#mca415b5fa4\" y=\"119.531667\"/>\n     <use style=\"fill:#1f77b4;stroke:#1f77b4;\" x=\"130.267653\" xlink:href=\"#mca415b5fa4\" y=\"71.395441\"/>\n     <use style=\"fill:#1f77b4;stroke:#1f77b4;\" x=\"203.566396\" xlink:href=\"#mca415b5fa4\" y=\"138.241999\"/>\n     <use style=\"fill:#1f77b4;stroke:#1f77b4;\" x=\"124.631013\" xlink:href=\"#mca415b5fa4\" y=\"85.137191\"/>\n     <use style=\"fill:#1f77b4;stroke:#1f77b4;\" x=\"221.456251\" xlink:href=\"#mca415b5fa4\" y=\"138.40479\"/>\n     <use style=\"fill:#1f77b4;stroke:#1f77b4;\" x=\"154.92543\" xlink:href=\"#mca415b5fa4\" y=\"84.285708\"/>\n     <use style=\"fill:#1f77b4;stroke:#1f77b4;\" x=\"141.091196\" xlink:href=\"#mca415b5fa4\" y=\"93.703694\"/>\n     <use style=\"fill:#1f77b4;stroke:#1f77b4;\" x=\"127.672159\" xlink:href=\"#mca415b5fa4\" y=\"82.621085\"/>\n     <use style=\"fill:#1f77b4;stroke:#1f77b4;\" x=\"194.458849\" xlink:href=\"#mca415b5fa4\" y=\"119.332432\"/>\n     <use style=\"fill:#1f77b4;stroke:#1f77b4;\" x=\"215.191645\" xlink:href=\"#mca415b5fa4\" y=\"140.104864\"/>\n     <use style=\"fill:#1f77b4;stroke:#1f77b4;\" x=\"247.199409\" xlink:href=\"#mca415b5fa4\" y=\"141.471465\"/>\n     <use style=\"fill:#1f77b4;stroke:#1f77b4;\" x=\"160.247936\" xlink:href=\"#mca415b5fa4\" y=\"77.884096\"/>\n     <use style=\"fill:#1f77b4;stroke:#1f77b4;\" x=\"157.87481\" xlink:href=\"#mca415b5fa4\" y=\"99.788143\"/>\n     <use style=\"fill:#1f77b4;stroke:#1f77b4;\" x=\"155.627782\" xlink:href=\"#mca415b5fa4\" y=\"96.473049\"/>\n     <use style=\"fill:#1f77b4;stroke:#1f77b4;\" x=\"193.487604\" xlink:href=\"#mca415b5fa4\" y=\"141.567364\"/>\n     <use style=\"fill:#1f77b4;stroke:#1f77b4;\" x=\"198.141076\" xlink:href=\"#mca415b5fa4\" y=\"97.816952\"/>\n     <use style=\"fill:#1f77b4;stroke:#1f77b4;\" x=\"194.581479\" xlink:href=\"#mca415b5fa4\" y=\"117.814639\"/>\n     <use style=\"fill:#1f77b4;stroke:#1f77b4;\" x=\"181.284802\" xlink:href=\"#mca415b5fa4\" y=\"128.224511\"/>\n     <use style=\"fill:#1f77b4;stroke:#1f77b4;\" x=\"83.496903\" xlink:href=\"#mca415b5fa4\" y=\"73.405785\"/>\n     <use style=\"fill:#1f77b4;stroke:#1f77b4;\" x=\"179.697625\" xlink:href=\"#mca415b5fa4\" y=\"98.195411\"/>\n     <use style=\"fill:#1f77b4;stroke:#1f77b4;\" x=\"179.531774\" xlink:href=\"#mca415b5fa4\" y=\"102.002233\"/>\n     <use style=\"fill:#1f77b4;stroke:#1f77b4;\" x=\"222.911375\" xlink:href=\"#mca415b5fa4\" y=\"150.225169\"/>\n     <use style=\"fill:#1f77b4;stroke:#1f77b4;\" x=\"169.361623\" xlink:href=\"#mca415b5fa4\" y=\"81.115562\"/>\n     <use style=\"fill:#1f77b4;stroke:#1f77b4;\" x=\"206.220649\" xlink:href=\"#mca415b5fa4\" y=\"119.179884\"/>\n     <use style=\"fill:#1f77b4;stroke:#1f77b4;\" x=\"199.759741\" xlink:href=\"#mca415b5fa4\" y=\"94.11044\"/>\n     <use style=\"fill:#1f77b4;stroke:#1f77b4;\" x=\"182.917263\" xlink:href=\"#mca415b5fa4\" y=\"86.452756\"/>\n     <use style=\"fill:#1f77b4;stroke:#1f77b4;\" x=\"158.182621\" xlink:href=\"#mca415b5fa4\" y=\"94.578634\"/>\n     <use style=\"fill:#1f77b4;stroke:#1f77b4;\" x=\"151.217871\" xlink:href=\"#mca415b5fa4\" y=\"79.657116\"/>\n     <use style=\"fill:#1f77b4;stroke:#1f77b4;\" x=\"112.104205\" xlink:href=\"#mca415b5fa4\" y=\"59.904363\"/>\n     <use style=\"fill:#1f77b4;stroke:#1f77b4;\" x=\"118.268067\" xlink:href=\"#mca415b5fa4\" y=\"72.691821\"/>\n     <use style=\"fill:#1f77b4;stroke:#1f77b4;\" x=\"205.420711\" xlink:href=\"#mca415b5fa4\" y=\"124.213115\"/>\n     <use style=\"fill:#1f77b4;stroke:#1f77b4;\" x=\"197.138166\" xlink:href=\"#mca415b5fa4\" y=\"95.667493\"/>\n     <use style=\"fill:#1f77b4;stroke:#1f77b4;\" x=\"123.93132\" xlink:href=\"#mca415b5fa4\" y=\"80.964957\"/>\n     <use style=\"fill:#1f77b4;stroke:#1f77b4;\" x=\"240.187025\" xlink:href=\"#mca415b5fa4\" y=\"131.410358\"/>\n     <use style=\"fill:#1f77b4;stroke:#1f77b4;\" x=\"176.643814\" xlink:href=\"#mca415b5fa4\" y=\"96.590786\"/>\n     <use style=\"fill:#1f77b4;stroke:#1f77b4;\" x=\"188.232007\" xlink:href=\"#mca415b5fa4\" y=\"109.342595\"/>\n     <use style=\"fill:#1f77b4;stroke:#1f77b4;\" x=\"119.93886\" xlink:href=\"#mca415b5fa4\" y=\"48.976875\"/>\n     <use style=\"fill:#1f77b4;stroke:#1f77b4;\" x=\"153.147941\" xlink:href=\"#mca415b5fa4\" y=\"110.28306\"/>\n     <use style=\"fill:#1f77b4;stroke:#1f77b4;\" x=\"151.592617\" xlink:href=\"#mca415b5fa4\" y=\"93.006163\"/>\n     <use style=\"fill:#1f77b4;stroke:#1f77b4;\" x=\"181.067191\" xlink:href=\"#mca415b5fa4\" y=\"93.595162\"/>\n     <use style=\"fill:#1f77b4;stroke:#1f77b4;\" x=\"173.197361\" xlink:href=\"#mca415b5fa4\" y=\"86.896551\"/>\n     <use style=\"fill:#1f77b4;stroke:#1f77b4;\" x=\"199.095954\" xlink:href=\"#mca415b5fa4\" y=\"108.583498\"/>\n     <use style=\"fill:#1f77b4;stroke:#1f77b4;\" x=\"209.529497\" xlink:href=\"#mca415b5fa4\" y=\"119.692485\"/>\n     <use style=\"fill:#1f77b4;stroke:#1f77b4;\" x=\"203.26578\" xlink:href=\"#mca415b5fa4\" y=\"101.968407\"/>\n     <use style=\"fill:#1f77b4;stroke:#1f77b4;\" x=\"129.452174\" xlink:href=\"#mca415b5fa4\" y=\"80.58373\"/>\n     <use style=\"fill:#1f77b4;stroke:#1f77b4;\" x=\"130.294766\" xlink:href=\"#mca415b5fa4\" y=\"65.552305\"/>\n     <use style=\"fill:#1f77b4;stroke:#1f77b4;\" x=\"170.45243\" xlink:href=\"#mca415b5fa4\" y=\"108.887947\"/>\n     <use style=\"fill:#1f77b4;stroke:#1f77b4;\" x=\"48.056228\" xlink:href=\"#mca415b5fa4\" y=\"20.684014\"/>\n     <use style=\"fill:#1f77b4;stroke:#1f77b4;\" x=\"208.389448\" xlink:href=\"#mca415b5fa4\" y=\"149.701926\"/>\n     <use style=\"fill:#1f77b4;stroke:#1f77b4;\" x=\"128.791074\" xlink:href=\"#mca415b5fa4\" y=\"88.386511\"/>\n     <use style=\"fill:#1f77b4;stroke:#1f77b4;\" x=\"122.084866\" xlink:href=\"#mca415b5fa4\" y=\"63.173214\"/>\n     <use style=\"fill:#1f77b4;stroke:#1f77b4;\" x=\"145.069056\" xlink:href=\"#mca415b5fa4\" y=\"61.632846\"/>\n     <use style=\"fill:#1f77b4;stroke:#1f77b4;\" x=\"52.47705\" xlink:href=\"#mca415b5fa4\" y=\"39.322334\"/>\n     <use style=\"fill:#1f77b4;stroke:#1f77b4;\" x=\"92.963712\" xlink:href=\"#mca415b5fa4\" y=\"41.667069\"/>\n     <use style=\"fill:#1f77b4;stroke:#1f77b4;\" x=\"177.135779\" xlink:href=\"#mca415b5fa4\" y=\"111.561389\"/>\n     <use style=\"fill:#1f77b4;stroke:#1f77b4;\" x=\"51.936383\" xlink:href=\"#mca415b5fa4\" y=\"45.698028\"/>\n     <use style=\"fill:#1f77b4;stroke:#1f77b4;\" x=\"113.642787\" xlink:href=\"#mca415b5fa4\" y=\"74.618934\"/>\n     <use style=\"fill:#1f77b4;stroke:#1f77b4;\" x=\"136.646057\" xlink:href=\"#mca415b5fa4\" y=\"80.308949\"/>\n     <use style=\"fill:#1f77b4;stroke:#1f77b4;\" x=\"156.669222\" xlink:href=\"#mca415b5fa4\" y=\"90.315864\"/>\n     <use style=\"fill:#1f77b4;stroke:#1f77b4;\" x=\"243.914907\" xlink:href=\"#mca415b5fa4\" y=\"131.671051\"/>\n     <use style=\"fill:#1f77b4;stroke:#1f77b4;\" x=\"163.231564\" xlink:href=\"#mca415b5fa4\" y=\"87.121832\"/>\n     <use style=\"fill:#1f77b4;stroke:#1f77b4;\" x=\"156.862987\" xlink:href=\"#mca415b5fa4\" y=\"87.688205\"/>\n     <use style=\"fill:#1f77b4;stroke:#1f77b4;\" x=\"222.689729\" xlink:href=\"#mca415b5fa4\" y=\"120.803151\"/>\n     <use style=\"fill:#1f77b4;stroke:#1f77b4;\" x=\"167.082175\" xlink:href=\"#mca415b5fa4\" y=\"81.192317\"/>\n     <use style=\"fill:#1f77b4;stroke:#1f77b4;\" x=\"149.271104\" xlink:href=\"#mca415b5fa4\" y=\"83.660924\"/>\n     <use style=\"fill:#1f77b4;stroke:#1f77b4;\" x=\"225.360513\" xlink:href=\"#mca415b5fa4\" y=\"111.535271\"/>\n     <use style=\"fill:#1f77b4;stroke:#1f77b4;\" x=\"211.938068\" xlink:href=\"#mca415b5fa4\" y=\"133.125357\"/>\n     <use style=\"fill:#1f77b4;stroke:#1f77b4;\" x=\"165.888529\" xlink:href=\"#mca415b5fa4\" y=\"91.735845\"/>\n     <use style=\"fill:#1f77b4;stroke:#1f77b4;\" x=\"154.33903\" xlink:href=\"#mca415b5fa4\" y=\"80.617739\"/>\n     <use style=\"fill:#1f77b4;stroke:#1f77b4;\" x=\"201.955179\" xlink:href=\"#mca415b5fa4\" y=\"121.235622\"/>\n     <use style=\"fill:#1f77b4;stroke:#1f77b4;\" x=\"160.88171\" xlink:href=\"#mca415b5fa4\" y=\"81.474129\"/>\n     <use style=\"fill:#1f77b4;stroke:#1f77b4;\" x=\"229.312485\" xlink:href=\"#mca415b5fa4\" y=\"136.249569\"/>\n     <use style=\"fill:#1f77b4;stroke:#1f77b4;\" x=\"166.589199\" xlink:href=\"#mca415b5fa4\" y=\"87.804804\"/>\n     <use style=\"fill:#1f77b4;stroke:#1f77b4;\" x=\"212.211714\" xlink:href=\"#mca415b5fa4\" y=\"113.188997\"/>\n     <use style=\"fill:#1f77b4;stroke:#1f77b4;\" x=\"169.248849\" xlink:href=\"#mca415b5fa4\" y=\"94.466389\"/>\n     <use style=\"fill:#1f77b4;stroke:#1f77b4;\" x=\"160.149973\" xlink:href=\"#mca415b5fa4\" y=\"66.888117\"/>\n     <use style=\"fill:#1f77b4;stroke:#1f77b4;\" x=\"129.763001\" xlink:href=\"#mca415b5fa4\" y=\"80.106812\"/>\n     <use style=\"fill:#1f77b4;stroke:#1f77b4;\" x=\"129.822462\" xlink:href=\"#mca415b5fa4\" y=\"82.264465\"/>\n     <use style=\"fill:#1f77b4;stroke:#1f77b4;\" x=\"91.977559\" xlink:href=\"#mca415b5fa4\" y=\"79.965471\"/>\n     <use style=\"fill:#1f77b4;stroke:#1f77b4;\" x=\"180.742088\" xlink:href=\"#mca415b5fa4\" y=\"83.685764\"/>\n     <use style=\"fill:#1f77b4;stroke:#1f77b4;\" x=\"150.189315\" xlink:href=\"#mca415b5fa4\" y=\"77.195397\"/>\n     <use style=\"fill:#1f77b4;stroke:#1f77b4;\" x=\"159.449922\" xlink:href=\"#mca415b5fa4\" y=\"107.631097\"/>\n     <use style=\"fill:#1f77b4;stroke:#1f77b4;\" x=\"127.505875\" xlink:href=\"#mca415b5fa4\" y=\"87.273133\"/>\n     <use style=\"fill:#1f77b4;stroke:#1f77b4;\" x=\"181.158871\" xlink:href=\"#mca415b5fa4\" y=\"115.942227\"/>\n     <use style=\"fill:#1f77b4;stroke:#1f77b4;\" x=\"136.381446\" xlink:href=\"#mca415b5fa4\" y=\"69.606884\"/>\n     <use style=\"fill:#1f77b4;stroke:#1f77b4;\" x=\"126.442823\" xlink:href=\"#mca415b5fa4\" y=\"80.916928\"/>\n     <use style=\"fill:#1f77b4;stroke:#1f77b4;\" x=\"166.33783\" xlink:href=\"#mca415b5fa4\" y=\"75.670751\"/>\n     <use style=\"fill:#1f77b4;stroke:#1f77b4;\" x=\"165.600074\" xlink:href=\"#mca415b5fa4\" y=\"78.861134\"/>\n     <use style=\"fill:#1f77b4;stroke:#1f77b4;\" x=\"211.837817\" xlink:href=\"#mca415b5fa4\" y=\"123.340895\"/>\n     <use style=\"fill:#1f77b4;stroke:#1f77b4;\" x=\"237.02748\" xlink:href=\"#mca415b5fa4\" y=\"145.640515\"/>\n     <use style=\"fill:#1f77b4;stroke:#1f77b4;\" x=\"167.806233\" xlink:href=\"#mca415b5fa4\" y=\"72.430864\"/>\n     <use style=\"fill:#1f77b4;stroke:#1f77b4;\" x=\"168.866867\" xlink:href=\"#mca415b5fa4\" y=\"83.001494\"/>\n     <use style=\"fill:#1f77b4;stroke:#1f77b4;\" x=\"96.867437\" xlink:href=\"#mca415b5fa4\" y=\"59.087594\"/>\n     <use style=\"fill:#1f77b4;stroke:#1f77b4;\" x=\"152.761601\" xlink:href=\"#mca415b5fa4\" y=\"95.750253\"/>\n     <use style=\"fill:#1f77b4;stroke:#1f77b4;\" x=\"137.327456\" xlink:href=\"#mca415b5fa4\" y=\"60.676793\"/>\n     <use style=\"fill:#1f77b4;stroke:#1f77b4;\" x=\"156.155895\" xlink:href=\"#mca415b5fa4\" y=\"84.905683\"/>\n     <use style=\"fill:#1f77b4;stroke:#1f77b4;\" x=\"112.131262\" xlink:href=\"#mca415b5fa4\" y=\"36.816367\"/>\n     <use style=\"fill:#1f77b4;stroke:#1f77b4;\" x=\"195.699815\" xlink:href=\"#mca415b5fa4\" y=\"105.906572\"/>\n     <use style=\"fill:#1f77b4;stroke:#1f77b4;\" x=\"193.484367\" xlink:href=\"#mca415b5fa4\" y=\"110.619741\"/>\n     <use style=\"fill:#1f77b4;stroke:#1f77b4;\" x=\"172.284459\" xlink:href=\"#mca415b5fa4\" y=\"83.637912\"/>\n     <use style=\"fill:#1f77b4;stroke:#1f77b4;\" x=\"106.798361\" xlink:href=\"#mca415b5fa4\" y=\"35.173992\"/>\n     <use style=\"fill:#1f77b4;stroke:#1f77b4;\" x=\"155.675153\" xlink:href=\"#mca415b5fa4\" y=\"75.897441\"/>\n     <use style=\"fill:#1f77b4;stroke:#1f77b4;\" x=\"148.413221\" xlink:href=\"#mca415b5fa4\" y=\"74.701878\"/>\n     <use style=\"fill:#1f77b4;stroke:#1f77b4;\" x=\"176.460612\" xlink:href=\"#mca415b5fa4\" y=\"103.066785\"/>\n     <use style=\"fill:#1f77b4;stroke:#1f77b4;\" x=\"157.168257\" xlink:href=\"#mca415b5fa4\" y=\"88.622001\"/>\n     <use style=\"fill:#1f77b4;stroke:#1f77b4;\" x=\"212.626548\" xlink:href=\"#mca415b5fa4\" y=\"126.271616\"/>\n     <use style=\"fill:#1f77b4;stroke:#1f77b4;\" x=\"192.452545\" xlink:href=\"#mca415b5fa4\" y=\"90.040906\"/>\n     <use style=\"fill:#1f77b4;stroke:#1f77b4;\" x=\"243.602086\" xlink:href=\"#mca415b5fa4\" y=\"151.411584\"/>\n     <use style=\"fill:#1f77b4;stroke:#1f77b4;\" x=\"165.233077\" xlink:href=\"#mca415b5fa4\" y=\"91.77222\"/>\n     <use style=\"fill:#1f77b4;stroke:#1f77b4;\" x=\"255.808328\" xlink:href=\"#mca415b5fa4\" y=\"135.756278\"/>\n     <use style=\"fill:#1f77b4;stroke:#1f77b4;\" x=\"131.675889\" xlink:href=\"#mca415b5fa4\" y=\"62.771613\"/>\n     <use style=\"fill:#1f77b4;stroke:#1f77b4;\" x=\"161.842952\" xlink:href=\"#mca415b5fa4\" y=\"87.231786\"/>\n     <use style=\"fill:#1f77b4;stroke:#1f77b4;\" x=\"176.00516\" xlink:href=\"#mca415b5fa4\" y=\"82.740073\"/>\n     <use style=\"fill:#1f77b4;stroke:#1f77b4;\" x=\"175.741458\" xlink:href=\"#mca415b5fa4\" y=\"100.103726\"/>\n     <use style=\"fill:#1f77b4;stroke:#1f77b4;\" x=\"226.874895\" xlink:href=\"#mca415b5fa4\" y=\"151.627406\"/>\n     <use style=\"fill:#1f77b4;stroke:#1f77b4;\" x=\"170.583912\" xlink:href=\"#mca415b5fa4\" y=\"85.374524\"/>\n     <use style=\"fill:#1f77b4;stroke:#1f77b4;\" x=\"162.299751\" xlink:href=\"#mca415b5fa4\" y=\"98.119552\"/>\n     <use style=\"fill:#1f77b4;stroke:#1f77b4;\" x=\"172.720675\" xlink:href=\"#mca415b5fa4\" y=\"107.022025\"/>\n     <use style=\"fill:#1f77b4;stroke:#1f77b4;\" x=\"177.855136\" xlink:href=\"#mca415b5fa4\" y=\"90.591138\"/>\n     <use style=\"fill:#1f77b4;stroke:#1f77b4;\" x=\"146.769926\" xlink:href=\"#mca415b5fa4\" y=\"86.146238\"/>\n     <use style=\"fill:#1f77b4;stroke:#1f77b4;\" x=\"120.460025\" xlink:href=\"#mca415b5fa4\" y=\"66.789032\"/>\n     <use style=\"fill:#1f77b4;stroke:#1f77b4;\" x=\"154.442955\" xlink:href=\"#mca415b5fa4\" y=\"83.619975\"/>\n     <use style=\"fill:#1f77b4;stroke:#1f77b4;\" x=\"157.128953\" xlink:href=\"#mca415b5fa4\" y=\"91.539065\"/>\n     <use style=\"fill:#1f77b4;stroke:#1f77b4;\" x=\"144.416007\" xlink:href=\"#mca415b5fa4\" y=\"99.285012\"/>\n     <use style=\"fill:#1f77b4;stroke:#1f77b4;\" x=\"163.38832\" xlink:href=\"#mca415b5fa4\" y=\"91.203637\"/>\n     <use style=\"fill:#1f77b4;stroke:#1f77b4;\" x=\"176.010985\" xlink:href=\"#mca415b5fa4\" y=\"115.33922\"/>\n     <use style=\"fill:#1f77b4;stroke:#1f77b4;\" x=\"188.591598\" xlink:href=\"#mca415b5fa4\" y=\"105.457207\"/>\n     <use style=\"fill:#1f77b4;stroke:#1f77b4;\" x=\"114.454618\" xlink:href=\"#mca415b5fa4\" y=\"81.77305\"/>\n     <use style=\"fill:#1f77b4;stroke:#1f77b4;\" x=\"265.627023\" xlink:href=\"#mca415b5fa4\" y=\"160.64139\"/>\n     <use style=\"fill:#1f77b4;stroke:#1f77b4;\" x=\"235.509063\" xlink:href=\"#mca415b5fa4\" y=\"136.322711\"/>\n     <use style=\"fill:#1f77b4;stroke:#1f77b4;\" x=\"127.353917\" xlink:href=\"#mca415b5fa4\" y=\"68.29498\"/>\n     <use style=\"fill:#1f77b4;stroke:#1f77b4;\" x=\"191.214949\" xlink:href=\"#mca415b5fa4\" y=\"124.761361\"/>\n     <use style=\"fill:#1f77b4;stroke:#1f77b4;\" x=\"115.421079\" xlink:href=\"#mca415b5fa4\" y=\"52.063241\"/>\n     <use style=\"fill:#1f77b4;stroke:#1f77b4;\" x=\"190.138497\" xlink:href=\"#mca415b5fa4\" y=\"93.755394\"/>\n     <use style=\"fill:#1f77b4;stroke:#1f77b4;\" x=\"154.315105\" xlink:href=\"#mca415b5fa4\" y=\"99.00044\"/>\n     <use style=\"fill:#1f77b4;stroke:#1f77b4;\" x=\"177.872388\" xlink:href=\"#mca415b5fa4\" y=\"78.172906\"/>\n     <use style=\"fill:#1f77b4;stroke:#1f77b4;\" x=\"103.965968\" xlink:href=\"#mca415b5fa4\" y=\"64.200096\"/>\n     <use style=\"fill:#1f77b4;stroke:#1f77b4;\" x=\"158.8915\" xlink:href=\"#mca415b5fa4\" y=\"98.276967\"/>\n     <use style=\"fill:#1f77b4;stroke:#1f77b4;\" x=\"223.766973\" xlink:href=\"#mca415b5fa4\" y=\"127.007016\"/>\n     <use style=\"fill:#1f77b4;stroke:#1f77b4;\" x=\"185.430018\" xlink:href=\"#mca415b5fa4\" y=\"112.111569\"/>\n     <use style=\"fill:#1f77b4;stroke:#1f77b4;\" x=\"124.328164\" xlink:href=\"#mca415b5fa4\" y=\"74.517388\"/>\n     <use style=\"fill:#1f77b4;stroke:#1f77b4;\" x=\"235.54566\" xlink:href=\"#mca415b5fa4\" y=\"145.648986\"/>\n     <use style=\"fill:#1f77b4;stroke:#1f77b4;\" x=\"150.695994\" xlink:href=\"#mca415b5fa4\" y=\"85.429718\"/>\n     <use style=\"fill:#1f77b4;stroke:#1f77b4;\" x=\"180.273748\" xlink:href=\"#mca415b5fa4\" y=\"105.227995\"/>\n     <use style=\"fill:#1f77b4;stroke:#1f77b4;\" x=\"128.530016\" xlink:href=\"#mca415b5fa4\" y=\"76.40743\"/>\n     <use style=\"fill:#1f77b4;stroke:#1f77b4;\" x=\"172.006989\" xlink:href=\"#mca415b5fa4\" y=\"93.331888\"/>\n     <use style=\"fill:#1f77b4;stroke:#1f77b4;\" x=\"173.681795\" xlink:href=\"#mca415b5fa4\" y=\"110.958649\"/>\n     <use style=\"fill:#1f77b4;stroke:#1f77b4;\" x=\"139.625121\" xlink:href=\"#mca415b5fa4\" y=\"70.614068\"/>\n     <use style=\"fill:#1f77b4;stroke:#1f77b4;\" x=\"201.838309\" xlink:href=\"#mca415b5fa4\" y=\"103.983671\"/>\n     <use style=\"fill:#1f77b4;stroke:#1f77b4;\" x=\"99.596959\" xlink:href=\"#mca415b5fa4\" y=\"70.306533\"/>\n     <use style=\"fill:#1f77b4;stroke:#1f77b4;\" x=\"161.175744\" xlink:href=\"#mca415b5fa4\" y=\"116.511167\"/>\n     <use style=\"fill:#1f77b4;stroke:#1f77b4;\" x=\"161.778523\" xlink:href=\"#mca415b5fa4\" y=\"101.705108\"/>\n     <use style=\"fill:#1f77b4;stroke:#1f77b4;\" x=\"127.576106\" xlink:href=\"#mca415b5fa4\" y=\"67.859357\"/>\n     <use style=\"fill:#1f77b4;stroke:#1f77b4;\" x=\"165.258958\" xlink:href=\"#mca415b5fa4\" y=\"105.549205\"/>\n     <use style=\"fill:#1f77b4;stroke:#1f77b4;\" x=\"157.12153\" xlink:href=\"#mca415b5fa4\" y=\"78.158883\"/>\n     <use style=\"fill:#1f77b4;stroke:#1f77b4;\" x=\"122.168049\" xlink:href=\"#mca415b5fa4\" y=\"68.858297\"/>\n     <use style=\"fill:#1f77b4;stroke:#1f77b4;\" x=\"153.400204\" xlink:href=\"#mca415b5fa4\" y=\"98.254566\"/>\n     <use style=\"fill:#1f77b4;stroke:#1f77b4;\" x=\"184.729825\" xlink:href=\"#mca415b5fa4\" y=\"100.519749\"/>\n     <use style=\"fill:#1f77b4;stroke:#1f77b4;\" x=\"199.959279\" xlink:href=\"#mca415b5fa4\" y=\"124.815481\"/>\n     <use style=\"fill:#1f77b4;stroke:#1f77b4;\" x=\"175.378207\" xlink:href=\"#mca415b5fa4\" y=\"103.958566\"/>\n     <use style=\"fill:#1f77b4;stroke:#1f77b4;\" x=\"151.327318\" xlink:href=\"#mca415b5fa4\" y=\"93.289674\"/>\n     <use style=\"fill:#1f77b4;stroke:#1f77b4;\" x=\"187.118371\" xlink:href=\"#mca415b5fa4\" y=\"108.225395\"/>\n     <use style=\"fill:#1f77b4;stroke:#1f77b4;\" x=\"139.675504\" xlink:href=\"#mca415b5fa4\" y=\"72.026573\"/>\n     <use style=\"fill:#1f77b4;stroke:#1f77b4;\" x=\"174.841749\" xlink:href=\"#mca415b5fa4\" y=\"77.311306\"/>\n     <use style=\"fill:#1f77b4;stroke:#1f77b4;\" x=\"184.059216\" xlink:href=\"#mca415b5fa4\" y=\"102.108517\"/>\n     <use style=\"fill:#1f77b4;stroke:#1f77b4;\" x=\"162.090991\" xlink:href=\"#mca415b5fa4\" y=\"103.614274\"/>\n     <use style=\"fill:#1f77b4;stroke:#1f77b4;\" x=\"179.282488\" xlink:href=\"#mca415b5fa4\" y=\"87.486437\"/>\n     <use style=\"fill:#1f77b4;stroke:#1f77b4;\" x=\"169.238153\" xlink:href=\"#mca415b5fa4\" y=\"102.728664\"/>\n     <use style=\"fill:#1f77b4;stroke:#1f77b4;\" x=\"183.381744\" xlink:href=\"#mca415b5fa4\" y=\"112.758135\"/>\n     <use style=\"fill:#1f77b4;stroke:#1f77b4;\" x=\"219.26305\" xlink:href=\"#mca415b5fa4\" y=\"128.022111\"/>\n     <use style=\"fill:#1f77b4;stroke:#1f77b4;\" x=\"121.779405\" xlink:href=\"#mca415b5fa4\" y=\"89.024606\"/>\n     <use style=\"fill:#1f77b4;stroke:#1f77b4;\" x=\"244.803684\" xlink:href=\"#mca415b5fa4\" y=\"157.195669\"/>\n     <use style=\"fill:#1f77b4;stroke:#1f77b4;\" x=\"201.217509\" xlink:href=\"#mca415b5fa4\" y=\"110.335017\"/>\n     <use style=\"fill:#1f77b4;stroke:#1f77b4;\" x=\"87.109475\" xlink:href=\"#mca415b5fa4\" y=\"57.812406\"/>\n     <use style=\"fill:#1f77b4;stroke:#1f77b4;\" x=\"142.954988\" xlink:href=\"#mca415b5fa4\" y=\"80.20048\"/>\n     <use style=\"fill:#1f77b4;stroke:#1f77b4;\" x=\"179.009162\" xlink:href=\"#mca415b5fa4\" y=\"94.872943\"/>\n     <use style=\"fill:#1f77b4;stroke:#1f77b4;\" x=\"157.884333\" xlink:href=\"#mca415b5fa4\" y=\"92.205679\"/>\n     <use style=\"fill:#1f77b4;stroke:#1f77b4;\" x=\"165.290183\" xlink:href=\"#mca415b5fa4\" y=\"66.602055\"/>\n     <use style=\"fill:#1f77b4;stroke:#1f77b4;\" x=\"113.35405\" xlink:href=\"#mca415b5fa4\" y=\"53.562789\"/>\n     <use style=\"fill:#1f77b4;stroke:#1f77b4;\" x=\"162.416876\" xlink:href=\"#mca415b5fa4\" y=\"91.79083\"/>\n     <use style=\"fill:#1f77b4;stroke:#1f77b4;\" x=\"154.52415\" xlink:href=\"#mca415b5fa4\" y=\"104.8049\"/>\n     <use style=\"fill:#1f77b4;stroke:#1f77b4;\" x=\"181.479008\" xlink:href=\"#mca415b5fa4\" y=\"95.540659\"/>\n     <use style=\"fill:#1f77b4;stroke:#1f77b4;\" x=\"180.617602\" xlink:href=\"#mca415b5fa4\" y=\"108.439541\"/>\n     <use style=\"fill:#1f77b4;stroke:#1f77b4;\" x=\"163.1051\" xlink:href=\"#mca415b5fa4\" y=\"86.63464\"/>\n     <use style=\"fill:#1f77b4;stroke:#1f77b4;\" x=\"183.823946\" xlink:href=\"#mca415b5fa4\" y=\"111.359121\"/>\n     <use style=\"fill:#1f77b4;stroke:#1f77b4;\" x=\"214.759883\" xlink:href=\"#mca415b5fa4\" y=\"123.518777\"/>\n     <use style=\"fill:#1f77b4;stroke:#1f77b4;\" x=\"175.065333\" xlink:href=\"#mca415b5fa4\" y=\"95.332713\"/>\n     <use style=\"fill:#1f77b4;stroke:#1f77b4;\" x=\"235.621349\" xlink:href=\"#mca415b5fa4\" y=\"118.846195\"/>\n     <use style=\"fill:#1f77b4;stroke:#1f77b4;\" x=\"213.982066\" xlink:href=\"#mca415b5fa4\" y=\"102.349093\"/>\n     <use style=\"fill:#1f77b4;stroke:#1f77b4;\" x=\"175.087743\" xlink:href=\"#mca415b5fa4\" y=\"100.85103\"/>\n     <use style=\"fill:#1f77b4;stroke:#1f77b4;\" x=\"127.720574\" xlink:href=\"#mca415b5fa4\" y=\"70.805552\"/>\n     <use style=\"fill:#1f77b4;stroke:#1f77b4;\" x=\"184.126645\" xlink:href=\"#mca415b5fa4\" y=\"109.221544\"/>\n     <use style=\"fill:#1f77b4;stroke:#1f77b4;\" x=\"89.23353\" xlink:href=\"#mca415b5fa4\" y=\"35.829986\"/>\n     <use style=\"fill:#1f77b4;stroke:#1f77b4;\" x=\"162.147356\" xlink:href=\"#mca415b5fa4\" y=\"100.380884\"/>\n     <use style=\"fill:#1f77b4;stroke:#1f77b4;\" x=\"222.628867\" xlink:href=\"#mca415b5fa4\" y=\"130.781377\"/>\n     <use style=\"fill:#1f77b4;stroke:#1f77b4;\" x=\"205.857049\" xlink:href=\"#mca415b5fa4\" y=\"97.529244\"/>\n     <use style=\"fill:#1f77b4;stroke:#1f77b4;\" x=\"169.503544\" xlink:href=\"#mca415b5fa4\" y=\"106.152746\"/>\n     <use style=\"fill:#1f77b4;stroke:#1f77b4;\" x=\"163.321792\" xlink:href=\"#mca415b5fa4\" y=\"102.306293\"/>\n     <use style=\"fill:#1f77b4;stroke:#1f77b4;\" x=\"111.475164\" xlink:href=\"#mca415b5fa4\" y=\"105.308941\"/>\n     <use style=\"fill:#1f77b4;stroke:#1f77b4;\" x=\"202.106706\" xlink:href=\"#mca415b5fa4\" y=\"106.99567\"/>\n     <use style=\"fill:#1f77b4;stroke:#1f77b4;\" x=\"187.341122\" xlink:href=\"#mca415b5fa4\" y=\"99.418849\"/>\n     <use style=\"fill:#1f77b4;stroke:#1f77b4;\" x=\"152.539524\" xlink:href=\"#mca415b5fa4\" y=\"87.149215\"/>\n     <use style=\"fill:#1f77b4;stroke:#1f77b4;\" x=\"198.519243\" xlink:href=\"#mca415b5fa4\" y=\"113.981599\"/>\n     <use style=\"fill:#1f77b4;stroke:#1f77b4;\" x=\"224.316518\" xlink:href=\"#mca415b5fa4\" y=\"123.830027\"/>\n     <use style=\"fill:#1f77b4;stroke:#1f77b4;\" x=\"193.95443\" xlink:href=\"#mca415b5fa4\" y=\"118.553808\"/>\n     <use style=\"fill:#1f77b4;stroke:#1f77b4;\" x=\"203.368378\" xlink:href=\"#mca415b5fa4\" y=\"121.851348\"/>\n     <use style=\"fill:#1f77b4;stroke:#1f77b4;\" x=\"202.029895\" xlink:href=\"#mca415b5fa4\" y=\"116.409218\"/>\n     <use style=\"fill:#1f77b4;stroke:#1f77b4;\" x=\"187.435244\" xlink:href=\"#mca415b5fa4\" y=\"108.231542\"/>\n     <use style=\"fill:#1f77b4;stroke:#1f77b4;\" x=\"184.412763\" xlink:href=\"#mca415b5fa4\" y=\"108.104965\"/>\n     <use style=\"fill:#1f77b4;stroke:#1f77b4;\" x=\"115.826758\" xlink:href=\"#mca415b5fa4\" y=\"77.907056\"/>\n     <use style=\"fill:#1f77b4;stroke:#1f77b4;\" x=\"157.37154\" xlink:href=\"#mca415b5fa4\" y=\"80.110097\"/>\n     <use style=\"fill:#1f77b4;stroke:#1f77b4;\" x=\"203.936111\" xlink:href=\"#mca415b5fa4\" y=\"115.798727\"/>\n     <use style=\"fill:#1f77b4;stroke:#1f77b4;\" x=\"208.089585\" xlink:href=\"#mca415b5fa4\" y=\"148.54352\"/>\n     <use style=\"fill:#1f77b4;stroke:#1f77b4;\" x=\"204.903933\" xlink:href=\"#mca415b5fa4\" y=\"100.044264\"/>\n     <use style=\"fill:#1f77b4;stroke:#1f77b4;\" x=\"148.076641\" xlink:href=\"#mca415b5fa4\" y=\"77.214866\"/>\n     <use style=\"fill:#1f77b4;stroke:#1f77b4;\" x=\"171.499483\" xlink:href=\"#mca415b5fa4\" y=\"109.004904\"/>\n     <use style=\"fill:#1f77b4;stroke:#1f77b4;\" x=\"181.138702\" xlink:href=\"#mca415b5fa4\" y=\"93.487628\"/>\n     <use style=\"fill:#1f77b4;stroke:#1f77b4;\" x=\"202.988988\" xlink:href=\"#mca415b5fa4\" y=\"120.382962\"/>\n     <use style=\"fill:#1f77b4;stroke:#1f77b4;\" x=\"197.81709\" xlink:href=\"#mca415b5fa4\" y=\"106.8529\"/>\n     <use style=\"fill:#1f77b4;stroke:#1f77b4;\" x=\"119.434631\" xlink:href=\"#mca415b5fa4\" y=\"71.198671\"/>\n     <use style=\"fill:#1f77b4;stroke:#1f77b4;\" x=\"175.119493\" xlink:href=\"#mca415b5fa4\" y=\"112.042248\"/>\n     <use style=\"fill:#1f77b4;stroke:#1f77b4;\" x=\"194.492083\" xlink:href=\"#mca415b5fa4\" y=\"99.400292\"/>\n     <use style=\"fill:#1f77b4;stroke:#1f77b4;\" x=\"169.546996\" xlink:href=\"#mca415b5fa4\" y=\"88.837086\"/>\n     <use style=\"fill:#1f77b4;stroke:#1f77b4;\" x=\"136.594401\" xlink:href=\"#mca415b5fa4\" y=\"80.879683\"/>\n     <use style=\"fill:#1f77b4;stroke:#1f77b4;\" x=\"135.819707\" xlink:href=\"#mca415b5fa4\" y=\"69.467037\"/>\n     <use style=\"fill:#1f77b4;stroke:#1f77b4;\" x=\"204.721785\" xlink:href=\"#mca415b5fa4\" y=\"111.839098\"/>\n     <use style=\"fill:#1f77b4;stroke:#1f77b4;\" x=\"150.622924\" xlink:href=\"#mca415b5fa4\" y=\"73.56885\"/>\n     <use style=\"fill:#1f77b4;stroke:#1f77b4;\" x=\"167.525335\" xlink:href=\"#mca415b5fa4\" y=\"84.752055\"/>\n     <use style=\"fill:#1f77b4;stroke:#1f77b4;\" x=\"251.813721\" xlink:href=\"#mca415b5fa4\" y=\"152.959396\"/>\n     <use style=\"fill:#1f77b4;stroke:#1f77b4;\" x=\"158.653402\" xlink:href=\"#mca415b5fa4\" y=\"78.254767\"/>\n     <use style=\"fill:#1f77b4;stroke:#1f77b4;\" x=\"211.583823\" xlink:href=\"#mca415b5fa4\" y=\"122.490875\"/>\n     <use style=\"fill:#1f77b4;stroke:#1f77b4;\" x=\"160.543386\" xlink:href=\"#mca415b5fa4\" y=\"93.598846\"/>\n     <use style=\"fill:#1f77b4;stroke:#1f77b4;\" x=\"167.437411\" xlink:href=\"#mca415b5fa4\" y=\"94.490935\"/>\n     <use style=\"fill:#1f77b4;stroke:#1f77b4;\" x=\"241.536783\" xlink:href=\"#mca415b5fa4\" y=\"148.750046\"/>\n     <use style=\"fill:#1f77b4;stroke:#1f77b4;\" x=\"155.867982\" xlink:href=\"#mca415b5fa4\" y=\"74.054902\"/>\n     <use style=\"fill:#1f77b4;stroke:#1f77b4;\" x=\"136.278148\" xlink:href=\"#mca415b5fa4\" y=\"115.446174\"/>\n     <use style=\"fill:#1f77b4;stroke:#1f77b4;\" x=\"203.917208\" xlink:href=\"#mca415b5fa4\" y=\"138.200974\"/>\n     <use style=\"fill:#1f77b4;stroke:#1f77b4;\" x=\"213.964474\" xlink:href=\"#mca415b5fa4\" y=\"109.364306\"/>\n     <use style=\"fill:#1f77b4;stroke:#1f77b4;\" x=\"125.710414\" xlink:href=\"#mca415b5fa4\" y=\"43.183196\"/>\n     <use style=\"fill:#1f77b4;stroke:#1f77b4;\" x=\"174.753296\" xlink:href=\"#mca415b5fa4\" y=\"101.492161\"/>\n     <use style=\"fill:#1f77b4;stroke:#1f77b4;\" x=\"126.891058\" xlink:href=\"#mca415b5fa4\" y=\"58.487954\"/>\n     <use style=\"fill:#1f77b4;stroke:#1f77b4;\" x=\"176.261906\" xlink:href=\"#mca415b5fa4\" y=\"112.161019\"/>\n     <use style=\"fill:#1f77b4;stroke:#1f77b4;\" x=\"174.156176\" xlink:href=\"#mca415b5fa4\" y=\"82.098939\"/>\n     <use style=\"fill:#1f77b4;stroke:#1f77b4;\" x=\"171.573637\" xlink:href=\"#mca415b5fa4\" y=\"111.700605\"/>\n     <use style=\"fill:#1f77b4;stroke:#1f77b4;\" x=\"110.066696\" xlink:href=\"#mca415b5fa4\" y=\"30.748904\"/>\n     <use style=\"fill:#1f77b4;stroke:#1f77b4;\" x=\"142.923282\" xlink:href=\"#mca415b5fa4\" y=\"92.81338\"/>\n     <use style=\"fill:#1f77b4;stroke:#1f77b4;\" x=\"194.63955\" xlink:href=\"#mca415b5fa4\" y=\"123.806094\"/>\n     <use style=\"fill:#1f77b4;stroke:#1f77b4;\" x=\"255.722037\" xlink:href=\"#mca415b5fa4\" y=\"163.414335\"/>\n     <use style=\"fill:#1f77b4;stroke:#1f77b4;\" x=\"165.625806\" xlink:href=\"#mca415b5fa4\" y=\"93.073638\"/>\n     <use style=\"fill:#1f77b4;stroke:#1f77b4;\" x=\"151.161642\" xlink:href=\"#mca415b5fa4\" y=\"92.276309\"/>\n     <use style=\"fill:#1f77b4;stroke:#1f77b4;\" x=\"190.045437\" xlink:href=\"#mca415b5fa4\" y=\"85.757712\"/>\n     <use style=\"fill:#1f77b4;stroke:#1f77b4;\" x=\"103.011148\" xlink:href=\"#mca415b5fa4\" y=\"54.41218\"/>\n     <use style=\"fill:#1f77b4;stroke:#1f77b4;\" x=\"219.33502\" xlink:href=\"#mca415b5fa4\" y=\"113.234548\"/>\n     <use style=\"fill:#1f77b4;stroke:#1f77b4;\" x=\"191.221059\" xlink:href=\"#mca415b5fa4\" y=\"100.469783\"/>\n     <use style=\"fill:#1f77b4;stroke:#1f77b4;\" x=\"194.672821\" xlink:href=\"#mca415b5fa4\" y=\"100.248642\"/>\n     <use style=\"fill:#1f77b4;stroke:#1f77b4;\" x=\"66.907163\" xlink:href=\"#mca415b5fa4\" y=\"38.916352\"/>\n     <use style=\"fill:#1f77b4;stroke:#1f77b4;\" x=\"170.566691\" xlink:href=\"#mca415b5fa4\" y=\"79.175059\"/>\n     <use style=\"fill:#1f77b4;stroke:#1f77b4;\" x=\"138.515088\" xlink:href=\"#mca415b5fa4\" y=\"47.895934\"/>\n     <use style=\"fill:#1f77b4;stroke:#1f77b4;\" x=\"146.098018\" xlink:href=\"#mca415b5fa4\" y=\"81.931722\"/>\n     <use style=\"fill:#1f77b4;stroke:#1f77b4;\" x=\"186.109572\" xlink:href=\"#mca415b5fa4\" y=\"93.640302\"/>\n     <use style=\"fill:#1f77b4;stroke:#1f77b4;\" x=\"236.609738\" xlink:href=\"#mca415b5fa4\" y=\"133.396221\"/>\n     <use style=\"fill:#1f77b4;stroke:#1f77b4;\" x=\"209.653958\" xlink:href=\"#mca415b5fa4\" y=\"109.426161\"/>\n     <use style=\"fill:#1f77b4;stroke:#1f77b4;\" x=\"222.274441\" xlink:href=\"#mca415b5fa4\" y=\"131.977751\"/>\n     <use style=\"fill:#1f77b4;stroke:#1f77b4;\" x=\"186.607966\" xlink:href=\"#mca415b5fa4\" y=\"106.605687\"/>\n     <use style=\"fill:#1f77b4;stroke:#1f77b4;\" x=\"120.037947\" xlink:href=\"#mca415b5fa4\" y=\"56.002581\"/>\n     <use style=\"fill:#1f77b4;stroke:#1f77b4;\" x=\"149.572217\" xlink:href=\"#mca415b5fa4\" y=\"82.975275\"/>\n     <use style=\"fill:#1f77b4;stroke:#1f77b4;\" x=\"99.40871\" xlink:href=\"#mca415b5fa4\" y=\"57.674873\"/>\n     <use style=\"fill:#1f77b4;stroke:#1f77b4;\" x=\"135.895639\" xlink:href=\"#mca415b5fa4\" y=\"72.453151\"/>\n     <use style=\"fill:#1f77b4;stroke:#1f77b4;\" x=\"139.663321\" xlink:href=\"#mca415b5fa4\" y=\"65.870459\"/>\n     <use style=\"fill:#1f77b4;stroke:#1f77b4;\" x=\"134.3988\" xlink:href=\"#mca415b5fa4\" y=\"72.212634\"/>\n     <use style=\"fill:#1f77b4;stroke:#1f77b4;\" x=\"197.639512\" xlink:href=\"#mca415b5fa4\" y=\"105.149426\"/>\n     <use style=\"fill:#1f77b4;stroke:#1f77b4;\" x=\"181.894491\" xlink:href=\"#mca415b5fa4\" y=\"131.803785\"/>\n     <use style=\"fill:#1f77b4;stroke:#1f77b4;\" x=\"130.924626\" xlink:href=\"#mca415b5fa4\" y=\"69.522358\"/>\n     <use style=\"fill:#1f77b4;stroke:#1f77b4;\" x=\"132.436167\" xlink:href=\"#mca415b5fa4\" y=\"86.436863\"/>\n     <use style=\"fill:#1f77b4;stroke:#1f77b4;\" x=\"135.140846\" xlink:href=\"#mca415b5fa4\" y=\"95.695105\"/>\n     <use style=\"fill:#1f77b4;stroke:#1f77b4;\" x=\"246.313558\" xlink:href=\"#mca415b5fa4\" y=\"155.596498\"/>\n     <use style=\"fill:#1f77b4;stroke:#1f77b4;\" x=\"165.040053\" xlink:href=\"#mca415b5fa4\" y=\"94.781553\"/>\n     <use style=\"fill:#1f77b4;stroke:#1f77b4;\" x=\"301.553147\" xlink:href=\"#mca415b5fa4\" y=\"188.793803\"/>\n     <use style=\"fill:#1f77b4;stroke:#1f77b4;\" x=\"184.775232\" xlink:href=\"#mca415b5fa4\" y=\"101.795629\"/>\n     <use style=\"fill:#1f77b4;stroke:#1f77b4;\" x=\"173.228157\" xlink:href=\"#mca415b5fa4\" y=\"112.242841\"/>\n     <use style=\"fill:#1f77b4;stroke:#1f77b4;\" x=\"144.293629\" xlink:href=\"#mca415b5fa4\" y=\"76.956959\"/>\n     <use style=\"fill:#1f77b4;stroke:#1f77b4;\" x=\"140.470537\" xlink:href=\"#mca415b5fa4\" y=\"80.976202\"/>\n     <use style=\"fill:#1f77b4;stroke:#1f77b4;\" x=\"125.868049\" xlink:href=\"#mca415b5fa4\" y=\"58.521649\"/>\n     <use style=\"fill:#1f77b4;stroke:#1f77b4;\" x=\"199.812067\" xlink:href=\"#mca415b5fa4\" y=\"138.985582\"/>\n     <use style=\"fill:#1f77b4;stroke:#1f77b4;\" x=\"177.434023\" xlink:href=\"#mca415b5fa4\" y=\"116.189513\"/>\n     <use style=\"fill:#1f77b4;stroke:#1f77b4;\" x=\"142.944029\" xlink:href=\"#mca415b5fa4\" y=\"76.556099\"/>\n     <use style=\"fill:#1f77b4;stroke:#1f77b4;\" x=\"189.372989\" xlink:href=\"#mca415b5fa4\" y=\"145.073576\"/>\n     <use style=\"fill:#1f77b4;stroke:#1f77b4;\" x=\"129.492041\" xlink:href=\"#mca415b5fa4\" y=\"49.846501\"/>\n     <use style=\"fill:#1f77b4;stroke:#1f77b4;\" x=\"227.782738\" xlink:href=\"#mca415b5fa4\" y=\"120.671977\"/>\n     <use style=\"fill:#1f77b4;stroke:#1f77b4;\" x=\"150.278964\" xlink:href=\"#mca415b5fa4\" y=\"116.667528\"/>\n     <use style=\"fill:#1f77b4;stroke:#1f77b4;\" x=\"136.440569\" xlink:href=\"#mca415b5fa4\" y=\"81.58017\"/>\n     <use style=\"fill:#1f77b4;stroke:#1f77b4;\" x=\"203.43714\" xlink:href=\"#mca415b5fa4\" y=\"118.22157\"/>\n     <use style=\"fill:#1f77b4;stroke:#1f77b4;\" x=\"223.076008\" xlink:href=\"#mca415b5fa4\" y=\"146.634084\"/>\n     <use style=\"fill:#1f77b4;stroke:#1f77b4;\" x=\"129.862141\" xlink:href=\"#mca415b5fa4\" y=\"69.624123\"/>\n     <use style=\"fill:#1f77b4;stroke:#1f77b4;\" x=\"202.300546\" xlink:href=\"#mca415b5fa4\" y=\"118.564308\"/>\n     <use style=\"fill:#1f77b4;stroke:#1f77b4;\" x=\"197.172544\" xlink:href=\"#mca415b5fa4\" y=\"125.12138\"/>\n     <use style=\"fill:#1f77b4;stroke:#1f77b4;\" x=\"123.593204\" xlink:href=\"#mca415b5fa4\" y=\"38.22444\"/>\n     <use style=\"fill:#1f77b4;stroke:#1f77b4;\" x=\"64.894545\" xlink:href=\"#mca415b5fa4\" y=\"50.097638\"/>\n     <use style=\"fill:#1f77b4;stroke:#1f77b4;\" x=\"211.048818\" xlink:href=\"#mca415b5fa4\" y=\"126.2329\"/>\n     <use style=\"fill:#1f77b4;stroke:#1f77b4;\" x=\"142.120496\" xlink:href=\"#mca415b5fa4\" y=\"86.216956\"/>\n     <use style=\"fill:#1f77b4;stroke:#1f77b4;\" x=\"134.414311\" xlink:href=\"#mca415b5fa4\" y=\"82.684019\"/>\n     <use style=\"fill:#1f77b4;stroke:#1f77b4;\" x=\"208.870431\" xlink:href=\"#mca415b5fa4\" y=\"113.563074\"/>\n     <use style=\"fill:#1f77b4;stroke:#1f77b4;\" x=\"197.518375\" xlink:href=\"#mca415b5fa4\" y=\"132.996793\"/>\n     <use style=\"fill:#1f77b4;stroke:#1f77b4;\" x=\"158.983277\" xlink:href=\"#mca415b5fa4\" y=\"107.985444\"/>\n     <use style=\"fill:#1f77b4;stroke:#1f77b4;\" x=\"167.76546\" xlink:href=\"#mca415b5fa4\" y=\"94.073352\"/>\n     <use style=\"fill:#1f77b4;stroke:#1f77b4;\" x=\"151.406906\" xlink:href=\"#mca415b5fa4\" y=\"72.597771\"/>\n     <use style=\"fill:#1f77b4;stroke:#1f77b4;\" x=\"119.009589\" xlink:href=\"#mca415b5fa4\" y=\"81.010096\"/>\n     <use style=\"fill:#1f77b4;stroke:#1f77b4;\" x=\"165.293397\" xlink:href=\"#mca415b5fa4\" y=\"75.974415\"/>\n     <use style=\"fill:#1f77b4;stroke:#1f77b4;\" x=\"157.122881\" xlink:href=\"#mca415b5fa4\" y=\"103.026087\"/>\n     <use style=\"fill:#1f77b4;stroke:#1f77b4;\" x=\"203.182063\" xlink:href=\"#mca415b5fa4\" y=\"126.230577\"/>\n     <use style=\"fill:#1f77b4;stroke:#1f77b4;\" x=\"227.559381\" xlink:href=\"#mca415b5fa4\" y=\"155.965917\"/>\n     <use style=\"fill:#1f77b4;stroke:#1f77b4;\" x=\"185.496215\" xlink:href=\"#mca415b5fa4\" y=\"95.509537\"/>\n     <use style=\"fill:#1f77b4;stroke:#1f77b4;\" x=\"191.620959\" xlink:href=\"#mca415b5fa4\" y=\"87.748469\"/>\n     <use style=\"fill:#1f77b4;stroke:#1f77b4;\" x=\"139.135808\" xlink:href=\"#mca415b5fa4\" y=\"88.020132\"/>\n     <use style=\"fill:#1f77b4;stroke:#1f77b4;\" x=\"201.415099\" xlink:href=\"#mca415b5fa4\" y=\"133.135584\"/>\n     <use style=\"fill:#1f77b4;stroke:#1f77b4;\" x=\"165.866351\" xlink:href=\"#mca415b5fa4\" y=\"80.685616\"/>\n     <use style=\"fill:#1f77b4;stroke:#1f77b4;\" x=\"144.805818\" xlink:href=\"#mca415b5fa4\" y=\"88.267438\"/>\n     <use style=\"fill:#1f77b4;stroke:#1f77b4;\" x=\"199.244577\" xlink:href=\"#mca415b5fa4\" y=\"107.263297\"/>\n     <use style=\"fill:#1f77b4;stroke:#1f77b4;\" x=\"178.162732\" xlink:href=\"#mca415b5fa4\" y=\"138.090149\"/>\n     <use style=\"fill:#1f77b4;stroke:#1f77b4;\" x=\"127.074206\" xlink:href=\"#mca415b5fa4\" y=\"54.5956\"/>\n     <use style=\"fill:#1f77b4;stroke:#1f77b4;\" x=\"248.1868\" xlink:href=\"#mca415b5fa4\" y=\"133.649375\"/>\n     <use style=\"fill:#1f77b4;stroke:#1f77b4;\" x=\"105.577971\" xlink:href=\"#mca415b5fa4\" y=\"46.453519\"/>\n     <use style=\"fill:#1f77b4;stroke:#1f77b4;\" x=\"136.103611\" xlink:href=\"#mca415b5fa4\" y=\"72.589912\"/>\n     <use style=\"fill:#1f77b4;stroke:#1f77b4;\" x=\"221.919467\" xlink:href=\"#mca415b5fa4\" y=\"127.733296\"/>\n     <use style=\"fill:#1f77b4;stroke:#1f77b4;\" x=\"174.402277\" xlink:href=\"#mca415b5fa4\" y=\"71.500625\"/>\n     <use style=\"fill:#1f77b4;stroke:#1f77b4;\" x=\"147.94933\" xlink:href=\"#mca415b5fa4\" y=\"105.629775\"/>\n     <use style=\"fill:#1f77b4;stroke:#1f77b4;\" x=\"177.946901\" xlink:href=\"#mca415b5fa4\" y=\"100.303016\"/>\n     <use style=\"fill:#1f77b4;stroke:#1f77b4;\" x=\"198.887516\" xlink:href=\"#mca415b5fa4\" y=\"115.915949\"/>\n     <use style=\"fill:#1f77b4;stroke:#1f77b4;\" x=\"128.640958\" xlink:href=\"#mca415b5fa4\" y=\"83.790634\"/>\n     <use style=\"fill:#1f77b4;stroke:#1f77b4;\" x=\"152.274716\" xlink:href=\"#mca415b5fa4\" y=\"77.987711\"/>\n     <use style=\"fill:#1f77b4;stroke:#1f77b4;\" x=\"190.957415\" xlink:href=\"#mca415b5fa4\" y=\"101.779002\"/>\n     <use style=\"fill:#1f77b4;stroke:#1f77b4;\" x=\"175.303755\" xlink:href=\"#mca415b5fa4\" y=\"112.068461\"/>\n     <use style=\"fill:#1f77b4;stroke:#1f77b4;\" x=\"181.150602\" xlink:href=\"#mca415b5fa4\" y=\"91.416912\"/>\n     <use style=\"fill:#1f77b4;stroke:#1f77b4;\" x=\"90.040394\" xlink:href=\"#mca415b5fa4\" y=\"47.317567\"/>\n     <use style=\"fill:#1f77b4;stroke:#1f77b4;\" x=\"197.560936\" xlink:href=\"#mca415b5fa4\" y=\"87.861705\"/>\n     <use style=\"fill:#1f77b4;stroke:#1f77b4;\" x=\"161.831271\" xlink:href=\"#mca415b5fa4\" y=\"108.819437\"/>\n     <use style=\"fill:#1f77b4;stroke:#1f77b4;\" x=\"176.373831\" xlink:href=\"#mca415b5fa4\" y=\"113.916884\"/>\n     <use style=\"fill:#1f77b4;stroke:#1f77b4;\" x=\"68.104935\" xlink:href=\"#mca415b5fa4\" y=\"16.247166\"/>\n     <use style=\"fill:#1f77b4;stroke:#1f77b4;\" x=\"181.096233\" xlink:href=\"#mca415b5fa4\" y=\"106.207593\"/>\n     <use style=\"fill:#1f77b4;stroke:#1f77b4;\" x=\"230.917838\" xlink:href=\"#mca415b5fa4\" y=\"132.392594\"/>\n     <use style=\"fill:#1f77b4;stroke:#1f77b4;\" x=\"191.603927\" xlink:href=\"#mca415b5fa4\" y=\"103.11575\"/>\n     <use style=\"fill:#1f77b4;stroke:#1f77b4;\" x=\"148.099027\" xlink:href=\"#mca415b5fa4\" y=\"81.899573\"/>\n     <use style=\"fill:#1f77b4;stroke:#1f77b4;\" x=\"207.259323\" xlink:href=\"#mca415b5fa4\" y=\"112.884947\"/>\n     <use style=\"fill:#1f77b4;stroke:#1f77b4;\" x=\"136.34538\" xlink:href=\"#mca415b5fa4\" y=\"71.335416\"/>\n     <use style=\"fill:#1f77b4;stroke:#1f77b4;\" x=\"186.137922\" xlink:href=\"#mca415b5fa4\" y=\"82.30039\"/>\n     <use style=\"fill:#1f77b4;stroke:#1f77b4;\" x=\"200.06935\" xlink:href=\"#mca415b5fa4\" y=\"113.819044\"/>\n     <use style=\"fill:#1f77b4;stroke:#1f77b4;\" x=\"152.21222\" xlink:href=\"#mca415b5fa4\" y=\"106.499447\"/>\n     <use style=\"fill:#1f77b4;stroke:#1f77b4;\" x=\"195.900813\" xlink:href=\"#mca415b5fa4\" y=\"116.668014\"/>\n     <use style=\"fill:#1f77b4;stroke:#1f77b4;\" x=\"193.573188\" xlink:href=\"#mca415b5fa4\" y=\"106.029575\"/>\n     <use style=\"fill:#1f77b4;stroke:#1f77b4;\" x=\"188.572847\" xlink:href=\"#mca415b5fa4\" y=\"115.974861\"/>\n     <use style=\"fill:#1f77b4;stroke:#1f77b4;\" x=\"132.075317\" xlink:href=\"#mca415b5fa4\" y=\"84.668553\"/>\n     <use style=\"fill:#1f77b4;stroke:#1f77b4;\" x=\"210.825076\" xlink:href=\"#mca415b5fa4\" y=\"145.534801\"/>\n     <use style=\"fill:#1f77b4;stroke:#1f77b4;\" x=\"227.881867\" xlink:href=\"#mca415b5fa4\" y=\"126.64107\"/>\n     <use style=\"fill:#1f77b4;stroke:#1f77b4;\" x=\"90.892477\" xlink:href=\"#mca415b5fa4\" y=\"57.744931\"/>\n     <use style=\"fill:#1f77b4;stroke:#1f77b4;\" x=\"144.254848\" xlink:href=\"#mca415b5fa4\" y=\"110.247492\"/>\n     <use style=\"fill:#1f77b4;stroke:#1f77b4;\" x=\"182.069113\" xlink:href=\"#mca415b5fa4\" y=\"103.702851\"/>\n     <use style=\"fill:#1f77b4;stroke:#1f77b4;\" x=\"170.842033\" xlink:href=\"#mca415b5fa4\" y=\"114.698227\"/>\n     <use style=\"fill:#1f77b4;stroke:#1f77b4;\" x=\"135.814032\" xlink:href=\"#mca415b5fa4\" y=\"88.573652\"/>\n     <use style=\"fill:#1f77b4;stroke:#1f77b4;\" x=\"185.215954\" xlink:href=\"#mca415b5fa4\" y=\"94.809292\"/>\n     <use style=\"fill:#1f77b4;stroke:#1f77b4;\" x=\"116.818536\" xlink:href=\"#mca415b5fa4\" y=\"81.362603\"/>\n     <use style=\"fill:#1f77b4;stroke:#1f77b4;\" x=\"212.887615\" xlink:href=\"#mca415b5fa4\" y=\"127.42176\"/>\n     <use style=\"fill:#1f77b4;stroke:#1f77b4;\" x=\"127.448079\" xlink:href=\"#mca415b5fa4\" y=\"61.528662\"/>\n     <use style=\"fill:#1f77b4;stroke:#1f77b4;\" x=\"178.018259\" xlink:href=\"#mca415b5fa4\" y=\"114.228283\"/>\n     <use style=\"fill:#1f77b4;stroke:#1f77b4;\" x=\"134.001666\" xlink:href=\"#mca415b5fa4\" y=\"84.204579\"/>\n     <use style=\"fill:#1f77b4;stroke:#1f77b4;\" x=\"166.385321\" xlink:href=\"#mca415b5fa4\" y=\"108.565566\"/>\n     <use style=\"fill:#1f77b4;stroke:#1f77b4;\" x=\"153.587707\" xlink:href=\"#mca415b5fa4\" y=\"98.677513\"/>\n     <use style=\"fill:#1f77b4;stroke:#1f77b4;\" x=\"122.852554\" xlink:href=\"#mca415b5fa4\" y=\"73.913924\"/>\n     <use style=\"fill:#1f77b4;stroke:#1f77b4;\" x=\"142.301956\" xlink:href=\"#mca415b5fa4\" y=\"75.205953\"/>\n     <use style=\"fill:#1f77b4;stroke:#1f77b4;\" x=\"253.821822\" xlink:href=\"#mca415b5fa4\" y=\"156.78197\"/>\n     <use style=\"fill:#1f77b4;stroke:#1f77b4;\" x=\"161.971486\" xlink:href=\"#mca415b5fa4\" y=\"83.572417\"/>\n     <use style=\"fill:#1f77b4;stroke:#1f77b4;\" x=\"186.416597\" xlink:href=\"#mca415b5fa4\" y=\"100.74901\"/>\n     <use style=\"fill:#1f77b4;stroke:#1f77b4;\" x=\"222.10753\" xlink:href=\"#mca415b5fa4\" y=\"133.341775\"/>\n     <use style=\"fill:#1f77b4;stroke:#1f77b4;\" x=\"187.073153\" xlink:href=\"#mca415b5fa4\" y=\"77.908023\"/>\n     <use style=\"fill:#1f77b4;stroke:#1f77b4;\" x=\"162.202206\" xlink:href=\"#mca415b5fa4\" y=\"89.752184\"/>\n     <use style=\"fill:#1f77b4;stroke:#1f77b4;\" x=\"204.911252\" xlink:href=\"#mca415b5fa4\" y=\"120.797587\"/>\n     <use style=\"fill:#1f77b4;stroke:#1f77b4;\" x=\"288.96729\" xlink:href=\"#mca415b5fa4\" y=\"184.93704\"/>\n     <use style=\"fill:#1f77b4;stroke:#1f77b4;\" x=\"137.401534\" xlink:href=\"#mca415b5fa4\" y=\"54.170882\"/>\n     <use style=\"fill:#1f77b4;stroke:#1f77b4;\" x=\"132.984491\" xlink:href=\"#mca415b5fa4\" y=\"90.936104\"/>\n     <use style=\"fill:#1f77b4;stroke:#1f77b4;\" x=\"200.980023\" xlink:href=\"#mca415b5fa4\" y=\"115.117648\"/>\n     <use style=\"fill:#1f77b4;stroke:#1f77b4;\" x=\"183.641402\" xlink:href=\"#mca415b5fa4\" y=\"120.389255\"/>\n     <use style=\"fill:#1f77b4;stroke:#1f77b4;\" x=\"194.043581\" xlink:href=\"#mca415b5fa4\" y=\"117.635887\"/>\n     <use style=\"fill:#1f77b4;stroke:#1f77b4;\" x=\"129.321497\" xlink:href=\"#mca415b5fa4\" y=\"66.591954\"/>\n     <use style=\"fill:#1f77b4;stroke:#1f77b4;\" x=\"161.015814\" xlink:href=\"#mca415b5fa4\" y=\"98.49868\"/>\n     <use style=\"fill:#1f77b4;stroke:#1f77b4;\" x=\"129.94283\" xlink:href=\"#mca415b5fa4\" y=\"71.131882\"/>\n     <use style=\"fill:#1f77b4;stroke:#1f77b4;\" x=\"161.999957\" xlink:href=\"#mca415b5fa4\" y=\"77.342402\"/>\n     <use style=\"fill:#1f77b4;stroke:#1f77b4;\" x=\"152.92087\" xlink:href=\"#mca415b5fa4\" y=\"92.79467\"/>\n     <use style=\"fill:#1f77b4;stroke:#1f77b4;\" x=\"72.346626\" xlink:href=\"#mca415b5fa4\" y=\"23.423754\"/>\n     <use style=\"fill:#1f77b4;stroke:#1f77b4;\" x=\"167.308512\" xlink:href=\"#mca415b5fa4\" y=\"78.565544\"/>\n     <use style=\"fill:#1f77b4;stroke:#1f77b4;\" x=\"126.263617\" xlink:href=\"#mca415b5fa4\" y=\"61.871091\"/>\n     <use style=\"fill:#1f77b4;stroke:#1f77b4;\" x=\"180.244952\" xlink:href=\"#mca415b5fa4\" y=\"100.659271\"/>\n     <use style=\"fill:#1f77b4;stroke:#1f77b4;\" x=\"158.787701\" xlink:href=\"#mca415b5fa4\" y=\"95.756353\"/>\n     <use style=\"fill:#1f77b4;stroke:#1f77b4;\" x=\"188.65835\" xlink:href=\"#mca415b5fa4\" y=\"102.676831\"/>\n     <use style=\"fill:#1f77b4;stroke:#1f77b4;\" x=\"118.238186\" xlink:href=\"#mca415b5fa4\" y=\"42.000613\"/>\n     <use style=\"fill:#1f77b4;stroke:#1f77b4;\" x=\"201.719163\" xlink:href=\"#mca415b5fa4\" y=\"114.360092\"/>\n     <use style=\"fill:#1f77b4;stroke:#1f77b4;\" x=\"189.99687\" xlink:href=\"#mca415b5fa4\" y=\"105.743884\"/>\n     <use style=\"fill:#1f77b4;stroke:#1f77b4;\" x=\"202.036763\" xlink:href=\"#mca415b5fa4\" y=\"125.149081\"/>\n     <use style=\"fill:#1f77b4;stroke:#1f77b4;\" x=\"167.225214\" xlink:href=\"#mca415b5fa4\" y=\"107.33356\"/>\n     <use style=\"fill:#1f77b4;stroke:#1f77b4;\" x=\"169.454849\" xlink:href=\"#mca415b5fa4\" y=\"107.072023\"/>\n     <use style=\"fill:#1f77b4;stroke:#1f77b4;\" x=\"155.54609\" xlink:href=\"#mca415b5fa4\" y=\"70.292513\"/>\n     <use style=\"fill:#1f77b4;stroke:#1f77b4;\" x=\"170.525056\" xlink:href=\"#mca415b5fa4\" y=\"107.55567\"/>\n     <use style=\"fill:#1f77b4;stroke:#1f77b4;\" x=\"179.578904\" xlink:href=\"#mca415b5fa4\" y=\"125.084379\"/>\n     <use style=\"fill:#1f77b4;stroke:#1f77b4;\" x=\"214.794203\" xlink:href=\"#mca415b5fa4\" y=\"130.417003\"/>\n     <use style=\"fill:#1f77b4;stroke:#1f77b4;\" x=\"132.732871\" xlink:href=\"#mca415b5fa4\" y=\"97.056969\"/>\n     <use style=\"fill:#1f77b4;stroke:#1f77b4;\" x=\"132.798234\" xlink:href=\"#mca415b5fa4\" y=\"74.330245\"/>\n     <use style=\"fill:#1f77b4;stroke:#1f77b4;\" x=\"184.677975\" xlink:href=\"#mca415b5fa4\" y=\"102.605552\"/>\n     <use style=\"fill:#1f77b4;stroke:#1f77b4;\" x=\"222.769407\" xlink:href=\"#mca415b5fa4\" y=\"130.08714\"/>\n     <use style=\"fill:#1f77b4;stroke:#1f77b4;\" x=\"149.612782\" xlink:href=\"#mca415b5fa4\" y=\"91.951783\"/>\n     <use style=\"fill:#1f77b4;stroke:#1f77b4;\" x=\"212.187064\" xlink:href=\"#mca415b5fa4\" y=\"131.300704\"/>\n     <use style=\"fill:#1f77b4;stroke:#1f77b4;\" x=\"212.361246\" xlink:href=\"#mca415b5fa4\" y=\"134.832841\"/>\n     <use style=\"fill:#1f77b4;stroke:#1f77b4;\" x=\"138.710704\" xlink:href=\"#mca415b5fa4\" y=\"76.12398\"/>\n     <use style=\"fill:#1f77b4;stroke:#1f77b4;\" x=\"214.414417\" xlink:href=\"#mca415b5fa4\" y=\"116.224364\"/>\n     <use style=\"fill:#1f77b4;stroke:#1f77b4;\" x=\"185.468103\" xlink:href=\"#mca415b5fa4\" y=\"110.963761\"/>\n     <use style=\"fill:#1f77b4;stroke:#1f77b4;\" x=\"147.946077\" xlink:href=\"#mca415b5fa4\" y=\"99.57904\"/>\n     <use style=\"fill:#1f77b4;stroke:#1f77b4;\" x=\"181.687195\" xlink:href=\"#mca415b5fa4\" y=\"98.764257\"/>\n     <use style=\"fill:#1f77b4;stroke:#1f77b4;\" x=\"121.421157\" xlink:href=\"#mca415b5fa4\" y=\"42.79569\"/>\n     <use style=\"fill:#1f77b4;stroke:#1f77b4;\" x=\"124.166717\" xlink:href=\"#mca415b5fa4\" y=\"64.808791\"/>\n     <use style=\"fill:#1f77b4;stroke:#1f77b4;\" x=\"206.278237\" xlink:href=\"#mca415b5fa4\" y=\"144.067625\"/>\n     <use style=\"fill:#1f77b4;stroke:#1f77b4;\" x=\"237.016956\" xlink:href=\"#mca415b5fa4\" y=\"147.41695\"/>\n     <use style=\"fill:#1f77b4;stroke:#1f77b4;\" x=\"166.851341\" xlink:href=\"#mca415b5fa4\" y=\"90.033437\"/>\n     <use style=\"fill:#1f77b4;stroke:#1f77b4;\" x=\"248.308849\" xlink:href=\"#mca415b5fa4\" y=\"145.254802\"/>\n     <use style=\"fill:#1f77b4;stroke:#1f77b4;\" x=\"227.453393\" xlink:href=\"#mca415b5fa4\" y=\"122.542969\"/>\n     <use style=\"fill:#1f77b4;stroke:#1f77b4;\" x=\"197.883067\" xlink:href=\"#mca415b5fa4\" y=\"108.379502\"/>\n     <use style=\"fill:#1f77b4;stroke:#1f77b4;\" x=\"100.555025\" xlink:href=\"#mca415b5fa4\" y=\"52.357586\"/>\n     <use style=\"fill:#1f77b4;stroke:#1f77b4;\" x=\"119.399727\" xlink:href=\"#mca415b5fa4\" y=\"73.394939\"/>\n     <use style=\"fill:#1f77b4;stroke:#1f77b4;\" x=\"185.818956\" xlink:href=\"#mca415b5fa4\" y=\"102.862018\"/>\n     <use style=\"fill:#1f77b4;stroke:#1f77b4;\" x=\"134.491916\" xlink:href=\"#mca415b5fa4\" y=\"94.810384\"/>\n     <use style=\"fill:#1f77b4;stroke:#1f77b4;\" x=\"149.070455\" xlink:href=\"#mca415b5fa4\" y=\"96.395948\"/>\n     <use style=\"fill:#1f77b4;stroke:#1f77b4;\" x=\"189.016565\" xlink:href=\"#mca415b5fa4\" y=\"87.395511\"/>\n     <use style=\"fill:#1f77b4;stroke:#1f77b4;\" x=\"161.893229\" xlink:href=\"#mca415b5fa4\" y=\"100.921009\"/>\n     <use style=\"fill:#1f77b4;stroke:#1f77b4;\" x=\"100.21409\" xlink:href=\"#mca415b5fa4\" y=\"56.035191\"/>\n     <use style=\"fill:#1f77b4;stroke:#1f77b4;\" x=\"136.313168\" xlink:href=\"#mca415b5fa4\" y=\"59.569844\"/>\n     <use style=\"fill:#1f77b4;stroke:#1f77b4;\" x=\"157.96392\" xlink:href=\"#mca415b5fa4\" y=\"80.718233\"/>\n     <use style=\"fill:#1f77b4;stroke:#1f77b4;\" x=\"232.143052\" xlink:href=\"#mca415b5fa4\" y=\"115.100082\"/>\n     <use style=\"fill:#1f77b4;stroke:#1f77b4;\" x=\"197.293292\" xlink:href=\"#mca415b5fa4\" y=\"123.102841\"/>\n     <use style=\"fill:#1f77b4;stroke:#1f77b4;\" x=\"181.972127\" xlink:href=\"#mca415b5fa4\" y=\"106.315117\"/>\n     <use style=\"fill:#1f77b4;stroke:#1f77b4;\" x=\"67.72442\" xlink:href=\"#mca415b5fa4\" y=\"27.152249\"/>\n     <use style=\"fill:#1f77b4;stroke:#1f77b4;\" x=\"134.32568\" xlink:href=\"#mca415b5fa4\" y=\"49.957654\"/>\n     <use style=\"fill:#1f77b4;stroke:#1f77b4;\" x=\"194.134345\" xlink:href=\"#mca415b5fa4\" y=\"112.545043\"/>\n     <use style=\"fill:#1f77b4;stroke:#1f77b4;\" x=\"223.835321\" xlink:href=\"#mca415b5fa4\" y=\"135.45607\"/>\n     <use style=\"fill:#1f77b4;stroke:#1f77b4;\" x=\"164.526876\" xlink:href=\"#mca415b5fa4\" y=\"88.341712\"/>\n     <use style=\"fill:#1f77b4;stroke:#1f77b4;\" x=\"159.570746\" xlink:href=\"#mca415b5fa4\" y=\"83.593714\"/>\n     <use style=\"fill:#1f77b4;stroke:#1f77b4;\" x=\"179.11377\" xlink:href=\"#mca415b5fa4\" y=\"107.927885\"/>\n     <use style=\"fill:#1f77b4;stroke:#1f77b4;\" x=\"70.803755\" xlink:href=\"#mca415b5fa4\" y=\"47.30425\"/>\n     <use style=\"fill:#1f77b4;stroke:#1f77b4;\" x=\"126.595982\" xlink:href=\"#mca415b5fa4\" y=\"70.31044\"/>\n     <use style=\"fill:#1f77b4;stroke:#1f77b4;\" x=\"145.167772\" xlink:href=\"#mca415b5fa4\" y=\"92.559268\"/>\n     <use style=\"fill:#1f77b4;stroke:#1f77b4;\" x=\"159.20099\" xlink:href=\"#mca415b5fa4\" y=\"70.736668\"/>\n     <use style=\"fill:#1f77b4;stroke:#1f77b4;\" x=\"173.721572\" xlink:href=\"#mca415b5fa4\" y=\"106.391244\"/>\n     <use style=\"fill:#1f77b4;stroke:#1f77b4;\" x=\"140.796381\" xlink:href=\"#mca415b5fa4\" y=\"103.132627\"/>\n     <use style=\"fill:#1f77b4;stroke:#1f77b4;\" x=\"119.278499\" xlink:href=\"#mca415b5fa4\" y=\"68.081885\"/>\n     <use style=\"fill:#1f77b4;stroke:#1f77b4;\" x=\"163.417367\" xlink:href=\"#mca415b5fa4\" y=\"91.245792\"/>\n     <use style=\"fill:#1f77b4;stroke:#1f77b4;\" x=\"265.818184\" xlink:href=\"#mca415b5fa4\" y=\"127.598449\"/>\n     <use style=\"fill:#1f77b4;stroke:#1f77b4;\" x=\"116.236356\" xlink:href=\"#mca415b5fa4\" y=\"73.253906\"/>\n     <use style=\"fill:#1f77b4;stroke:#1f77b4;\" x=\"142.348985\" xlink:href=\"#mca415b5fa4\" y=\"105.261167\"/>\n     <use style=\"fill:#1f77b4;stroke:#1f77b4;\" x=\"178.595617\" xlink:href=\"#mca415b5fa4\" y=\"100.572598\"/>\n     <use style=\"fill:#1f77b4;stroke:#1f77b4;\" x=\"165.604332\" xlink:href=\"#mca415b5fa4\" y=\"116.40635\"/>\n     <use style=\"fill:#1f77b4;stroke:#1f77b4;\" x=\"213.579044\" xlink:href=\"#mca415b5fa4\" y=\"112.547912\"/>\n     <use style=\"fill:#1f77b4;stroke:#1f77b4;\" x=\"122.587698\" xlink:href=\"#mca415b5fa4\" y=\"67.136933\"/>\n     <use style=\"fill:#1f77b4;stroke:#1f77b4;\" x=\"158.056505\" xlink:href=\"#mca415b5fa4\" y=\"89.880119\"/>\n     <use style=\"fill:#1f77b4;stroke:#1f77b4;\" x=\"131.757281\" xlink:href=\"#mca415b5fa4\" y=\"73.237767\"/>\n     <use style=\"fill:#1f77b4;stroke:#1f77b4;\" x=\"182.675814\" xlink:href=\"#mca415b5fa4\" y=\"70.85568\"/>\n     <use style=\"fill:#1f77b4;stroke:#1f77b4;\" x=\"150.793745\" xlink:href=\"#mca415b5fa4\" y=\"76.305191\"/>\n     <use style=\"fill:#1f77b4;stroke:#1f77b4;\" x=\"144.264051\" xlink:href=\"#mca415b5fa4\" y=\"59.516588\"/>\n     <use style=\"fill:#1f77b4;stroke:#1f77b4;\" x=\"182.914737\" xlink:href=\"#mca415b5fa4\" y=\"89.588779\"/>\n     <use style=\"fill:#1f77b4;stroke:#1f77b4;\" x=\"222.805586\" xlink:href=\"#mca415b5fa4\" y=\"110.945163\"/>\n     <use style=\"fill:#1f77b4;stroke:#1f77b4;\" x=\"122.230071\" xlink:href=\"#mca415b5fa4\" y=\"100.19609\"/>\n     <use style=\"fill:#1f77b4;stroke:#1f77b4;\" x=\"141.920565\" xlink:href=\"#mca415b5fa4\" y=\"90.661781\"/>\n     <use style=\"fill:#1f77b4;stroke:#1f77b4;\" x=\"159.958222\" xlink:href=\"#mca415b5fa4\" y=\"101.262501\"/>\n     <use style=\"fill:#1f77b4;stroke:#1f77b4;\" x=\"185.379601\" xlink:href=\"#mca415b5fa4\" y=\"106.871796\"/>\n     <use style=\"fill:#1f77b4;stroke:#1f77b4;\" x=\"169.980735\" xlink:href=\"#mca415b5fa4\" y=\"86.437974\"/>\n     <use style=\"fill:#1f77b4;stroke:#1f77b4;\" x=\"149.59128\" xlink:href=\"#mca415b5fa4\" y=\"71.504411\"/>\n     <use style=\"fill:#1f77b4;stroke:#1f77b4;\" x=\"164.6054\" xlink:href=\"#mca415b5fa4\" y=\"91.350319\"/>\n     <use style=\"fill:#1f77b4;stroke:#1f77b4;\" x=\"174.823151\" xlink:href=\"#mca415b5fa4\" y=\"101.708917\"/>\n     <use style=\"fill:#1f77b4;stroke:#1f77b4;\" x=\"169.969209\" xlink:href=\"#mca415b5fa4\" y=\"76.001537\"/>\n     <use style=\"fill:#1f77b4;stroke:#1f77b4;\" x=\"260.31188\" xlink:href=\"#mca415b5fa4\" y=\"163.967933\"/>\n     <use style=\"fill:#1f77b4;stroke:#1f77b4;\" x=\"239.707141\" xlink:href=\"#mca415b5fa4\" y=\"120.795628\"/>\n     <use style=\"fill:#1f77b4;stroke:#1f77b4;\" x=\"269.366012\" xlink:href=\"#mca415b5fa4\" y=\"150.859567\"/>\n     <use style=\"fill:#1f77b4;stroke:#1f77b4;\" x=\"221.997053\" xlink:href=\"#mca415b5fa4\" y=\"123.162469\"/>\n     <use style=\"fill:#1f77b4;stroke:#1f77b4;\" x=\"153.146105\" xlink:href=\"#mca415b5fa4\" y=\"79.793318\"/>\n     <use style=\"fill:#1f77b4;stroke:#1f77b4;\" x=\"219.611258\" xlink:href=\"#mca415b5fa4\" y=\"125.210117\"/>\n     <use style=\"fill:#1f77b4;stroke:#1f77b4;\" x=\"186.094241\" xlink:href=\"#mca415b5fa4\" y=\"103.940545\"/>\n     <use style=\"fill:#1f77b4;stroke:#1f77b4;\" x=\"214.313772\" xlink:href=\"#mca415b5fa4\" y=\"124.071653\"/>\n     <use style=\"fill:#1f77b4;stroke:#1f77b4;\" x=\"197.666277\" xlink:href=\"#mca415b5fa4\" y=\"110.907943\"/>\n     <use style=\"fill:#1f77b4;stroke:#1f77b4;\" x=\"151.897136\" xlink:href=\"#mca415b5fa4\" y=\"73.424453\"/>\n     <use style=\"fill:#1f77b4;stroke:#1f77b4;\" x=\"112.418519\" xlink:href=\"#mca415b5fa4\" y=\"37.408404\"/>\n     <use style=\"fill:#1f77b4;stroke:#1f77b4;\" x=\"131.331763\" xlink:href=\"#mca415b5fa4\" y=\"74.939966\"/>\n     <use style=\"fill:#1f77b4;stroke:#1f77b4;\" x=\"120.907737\" xlink:href=\"#mca415b5fa4\" y=\"77.181435\"/>\n     <use style=\"fill:#1f77b4;stroke:#1f77b4;\" x=\"242.377995\" xlink:href=\"#mca415b5fa4\" y=\"139.805176\"/>\n     <use style=\"fill:#1f77b4;stroke:#1f77b4;\" x=\"176.023028\" xlink:href=\"#mca415b5fa4\" y=\"109.969448\"/>\n     <use style=\"fill:#1f77b4;stroke:#1f77b4;\" x=\"278.952036\" xlink:href=\"#mca415b5fa4\" y=\"147.890162\"/>\n     <use style=\"fill:#1f77b4;stroke:#1f77b4;\" x=\"196.991245\" xlink:href=\"#mca415b5fa4\" y=\"118.246755\"/>\n     <use style=\"fill:#1f77b4;stroke:#1f77b4;\" x=\"211.503718\" xlink:href=\"#mca415b5fa4\" y=\"126.52644\"/>\n     <use style=\"fill:#1f77b4;stroke:#1f77b4;\" x=\"169.054179\" xlink:href=\"#mca415b5fa4\" y=\"93.44056\"/>\n     <use style=\"fill:#1f77b4;stroke:#1f77b4;\" x=\"163.252989\" xlink:href=\"#mca415b5fa4\" y=\"88.417925\"/>\n     <use style=\"fill:#1f77b4;stroke:#1f77b4;\" x=\"125.085886\" xlink:href=\"#mca415b5fa4\" y=\"75.821839\"/>\n     <use style=\"fill:#1f77b4;stroke:#1f77b4;\" x=\"131.506934\" xlink:href=\"#mca415b5fa4\" y=\"67.391561\"/>\n     <use style=\"fill:#1f77b4;stroke:#1f77b4;\" x=\"98.881181\" xlink:href=\"#mca415b5fa4\" y=\"56.768709\"/>\n     <use style=\"fill:#1f77b4;stroke:#1f77b4;\" x=\"208.613445\" xlink:href=\"#mca415b5fa4\" y=\"101.954646\"/>\n     <use style=\"fill:#1f77b4;stroke:#1f77b4;\" x=\"146.959576\" xlink:href=\"#mca415b5fa4\" y=\"90.497623\"/>\n     <use style=\"fill:#1f77b4;stroke:#1f77b4;\" x=\"157.218625\" xlink:href=\"#mca415b5fa4\" y=\"74.817659\"/>\n     <use style=\"fill:#1f77b4;stroke:#1f77b4;\" x=\"124.649235\" xlink:href=\"#mca415b5fa4\" y=\"56.221285\"/>\n     <use style=\"fill:#1f77b4;stroke:#1f77b4;\" x=\"138.550068\" xlink:href=\"#mca415b5fa4\" y=\"73.973829\"/>\n     <use style=\"fill:#1f77b4;stroke:#1f77b4;\" x=\"156.87071\" xlink:href=\"#mca415b5fa4\" y=\"83.53917\"/>\n     <use style=\"fill:#1f77b4;stroke:#1f77b4;\" x=\"192.051666\" xlink:href=\"#mca415b5fa4\" y=\"102.967372\"/>\n     <use style=\"fill:#1f77b4;stroke:#1f77b4;\" x=\"122.491709\" xlink:href=\"#mca415b5fa4\" y=\"62.109748\"/>\n     <use style=\"fill:#1f77b4;stroke:#1f77b4;\" x=\"257.608924\" xlink:href=\"#mca415b5fa4\" y=\"149.938515\"/>\n     <use style=\"fill:#1f77b4;stroke:#1f77b4;\" x=\"131.374566\" xlink:href=\"#mca415b5fa4\" y=\"71.531486\"/>\n     <use style=\"fill:#1f77b4;stroke:#1f77b4;\" x=\"183.486769\" xlink:href=\"#mca415b5fa4\" y=\"114.859868\"/>\n     <use style=\"fill:#1f77b4;stroke:#1f77b4;\" x=\"221.503677\" xlink:href=\"#mca415b5fa4\" y=\"123.512345\"/>\n     <use style=\"fill:#1f77b4;stroke:#1f77b4;\" x=\"178.469074\" xlink:href=\"#mca415b5fa4\" y=\"97.787858\"/>\n     <use style=\"fill:#1f77b4;stroke:#1f77b4;\" x=\"208.485552\" xlink:href=\"#mca415b5fa4\" y=\"119.023802\"/>\n     <use style=\"fill:#1f77b4;stroke:#1f77b4;\" x=\"118.512216\" xlink:href=\"#mca415b5fa4\" y=\"64.49514\"/>\n     <use style=\"fill:#1f77b4;stroke:#1f77b4;\" x=\"184.641495\" xlink:href=\"#mca415b5fa4\" y=\"89.314426\"/>\n     <use style=\"fill:#1f77b4;stroke:#1f77b4;\" x=\"200.82015\" xlink:href=\"#mca415b5fa4\" y=\"140.121232\"/>\n     <use style=\"fill:#1f77b4;stroke:#1f77b4;\" x=\"186.945978\" xlink:href=\"#mca415b5fa4\" y=\"103.017785\"/>\n     <use style=\"fill:#1f77b4;stroke:#1f77b4;\" x=\"137.92846\" xlink:href=\"#mca415b5fa4\" y=\"83.695678\"/>\n     <use style=\"fill:#1f77b4;stroke:#1f77b4;\" x=\"127.69142\" xlink:href=\"#mca415b5fa4\" y=\"37.978886\"/>\n     <use style=\"fill:#1f77b4;stroke:#1f77b4;\" x=\"156.182093\" xlink:href=\"#mca415b5fa4\" y=\"102.321027\"/>\n     <use style=\"fill:#1f77b4;stroke:#1f77b4;\" x=\"202.166105\" xlink:href=\"#mca415b5fa4\" y=\"128.587887\"/>\n     <use style=\"fill:#1f77b4;stroke:#1f77b4;\" x=\"215.206459\" xlink:href=\"#mca415b5fa4\" y=\"111.80748\"/>\n     <use style=\"fill:#1f77b4;stroke:#1f77b4;\" x=\"167.73625\" xlink:href=\"#mca415b5fa4\" y=\"69.393599\"/>\n     <use style=\"fill:#1f77b4;stroke:#1f77b4;\" x=\"101.753701\" xlink:href=\"#mca415b5fa4\" y=\"74.181781\"/>\n     <use style=\"fill:#1f77b4;stroke:#1f77b4;\" x=\"172.360231\" xlink:href=\"#mca415b5fa4\" y=\"115.350336\"/>\n     <use style=\"fill:#1f77b4;stroke:#1f77b4;\" x=\"157.437018\" xlink:href=\"#mca415b5fa4\" y=\"102.260304\"/>\n     <use style=\"fill:#1f77b4;stroke:#1f77b4;\" x=\"180.444919\" xlink:href=\"#mca415b5fa4\" y=\"108.216386\"/>\n     <use style=\"fill:#1f77b4;stroke:#1f77b4;\" x=\"162.633117\" xlink:href=\"#mca415b5fa4\" y=\"93.932489\"/>\n     <use style=\"fill:#1f77b4;stroke:#1f77b4;\" x=\"272.239538\" xlink:href=\"#mca415b5fa4\" y=\"163.944019\"/>\n     <use style=\"fill:#1f77b4;stroke:#1f77b4;\" x=\"238.254901\" xlink:href=\"#mca415b5fa4\" y=\"137.056386\"/>\n     <use style=\"fill:#1f77b4;stroke:#1f77b4;\" x=\"149.015139\" xlink:href=\"#mca415b5fa4\" y=\"64.355248\"/>\n     <use style=\"fill:#1f77b4;stroke:#1f77b4;\" x=\"184.116437\" xlink:href=\"#mca415b5fa4\" y=\"118.791766\"/>\n     <use style=\"fill:#1f77b4;stroke:#1f77b4;\" x=\"192.588758\" xlink:href=\"#mca415b5fa4\" y=\"110.610147\"/>\n     <use style=\"fill:#1f77b4;stroke:#1f77b4;\" x=\"278.012823\" xlink:href=\"#mca415b5fa4\" y=\"155.771942\"/>\n     <use style=\"fill:#1f77b4;stroke:#1f77b4;\" x=\"171.965973\" xlink:href=\"#mca415b5fa4\" y=\"94.208966\"/>\n     <use style=\"fill:#1f77b4;stroke:#1f77b4;\" x=\"212.919083\" xlink:href=\"#mca415b5fa4\" y=\"128.802776\"/>\n     <use style=\"fill:#1f77b4;stroke:#1f77b4;\" x=\"195.060223\" xlink:href=\"#mca415b5fa4\" y=\"103.103823\"/>\n     <use style=\"fill:#1f77b4;stroke:#1f77b4;\" x=\"185.631795\" xlink:href=\"#mca415b5fa4\" y=\"129.953811\"/>\n     <use style=\"fill:#1f77b4;stroke:#1f77b4;\" x=\"105.893681\" xlink:href=\"#mca415b5fa4\" y=\"55.632733\"/>\n     <use style=\"fill:#1f77b4;stroke:#1f77b4;\" x=\"129.10576\" xlink:href=\"#mca415b5fa4\" y=\"85.68994\"/>\n     <use style=\"fill:#1f77b4;stroke:#1f77b4;\" x=\"191.557987\" xlink:href=\"#mca415b5fa4\" y=\"103.377539\"/>\n     <use style=\"fill:#1f77b4;stroke:#1f77b4;\" x=\"180.825006\" xlink:href=\"#mca415b5fa4\" y=\"125.393542\"/>\n     <use style=\"fill:#1f77b4;stroke:#1f77b4;\" x=\"178.541948\" xlink:href=\"#mca415b5fa4\" y=\"108.928799\"/>\n     <use style=\"fill:#1f77b4;stroke:#1f77b4;\" x=\"86.576747\" xlink:href=\"#mca415b5fa4\" y=\"45.453199\"/>\n     <use style=\"fill:#1f77b4;stroke:#1f77b4;\" x=\"167.468023\" xlink:href=\"#mca415b5fa4\" y=\"97.822795\"/>\n     <use style=\"fill:#1f77b4;stroke:#1f77b4;\" x=\"134.97116\" xlink:href=\"#mca415b5fa4\" y=\"103.803248\"/>\n     <use style=\"fill:#1f77b4;stroke:#1f77b4;\" x=\"125.871578\" xlink:href=\"#mca415b5fa4\" y=\"74.137633\"/>\n     <use style=\"fill:#1f77b4;stroke:#1f77b4;\" x=\"168.649148\" xlink:href=\"#mca415b5fa4\" y=\"84.3089\"/>\n     <use style=\"fill:#1f77b4;stroke:#1f77b4;\" x=\"138.809035\" xlink:href=\"#mca415b5fa4\" y=\"83.380214\"/>\n     <use style=\"fill:#1f77b4;stroke:#1f77b4;\" x=\"123.641025\" xlink:href=\"#mca415b5fa4\" y=\"61.683571\"/>\n     <use style=\"fill:#1f77b4;stroke:#1f77b4;\" x=\"182.561347\" xlink:href=\"#mca415b5fa4\" y=\"87.719305\"/>\n     <use style=\"fill:#1f77b4;stroke:#1f77b4;\" x=\"214.826802\" xlink:href=\"#mca415b5fa4\" y=\"153.638304\"/>\n     <use style=\"fill:#1f77b4;stroke:#1f77b4;\" x=\"116.86222\" xlink:href=\"#mca415b5fa4\" y=\"48.552523\"/>\n     <use style=\"fill:#1f77b4;stroke:#1f77b4;\" x=\"238.971717\" xlink:href=\"#mca415b5fa4\" y=\"130.740348\"/>\n     <use style=\"fill:#1f77b4;stroke:#1f77b4;\" x=\"208.721789\" xlink:href=\"#mca415b5fa4\" y=\"113.078547\"/>\n     <use style=\"fill:#1f77b4;stroke:#1f77b4;\" x=\"204.825257\" xlink:href=\"#mca415b5fa4\" y=\"119.740078\"/>\n     <use style=\"fill:#1f77b4;stroke:#1f77b4;\" x=\"180.156565\" xlink:href=\"#mca415b5fa4\" y=\"116.921573\"/>\n     <use style=\"fill:#1f77b4;stroke:#1f77b4;\" x=\"197.953425\" xlink:href=\"#mca415b5fa4\" y=\"92.102048\"/>\n     <use style=\"fill:#1f77b4;stroke:#1f77b4;\" x=\"172.650077\" xlink:href=\"#mca415b5fa4\" y=\"74.039918\"/>\n     <use style=\"fill:#1f77b4;stroke:#1f77b4;\" x=\"139.039708\" xlink:href=\"#mca415b5fa4\" y=\"98.584382\"/>\n     <use style=\"fill:#1f77b4;stroke:#1f77b4;\" x=\"125.9827\" xlink:href=\"#mca415b5fa4\" y=\"76.459398\"/>\n     <use style=\"fill:#1f77b4;stroke:#1f77b4;\" x=\"192.102678\" xlink:href=\"#mca415b5fa4\" y=\"84.127631\"/>\n     <use style=\"fill:#1f77b4;stroke:#1f77b4;\" x=\"197.566629\" xlink:href=\"#mca415b5fa4\" y=\"113.121288\"/>\n     <use style=\"fill:#1f77b4;stroke:#1f77b4;\" x=\"177.355842\" xlink:href=\"#mca415b5fa4\" y=\"98.224377\"/>\n     <use style=\"fill:#1f77b4;stroke:#1f77b4;\" x=\"220.692022\" xlink:href=\"#mca415b5fa4\" y=\"122.931178\"/>\n     <use style=\"fill:#1f77b4;stroke:#1f77b4;\" x=\"185.410876\" xlink:href=\"#mca415b5fa4\" y=\"133.119271\"/>\n     <use style=\"fill:#1f77b4;stroke:#1f77b4;\" x=\"165.223963\" xlink:href=\"#mca415b5fa4\" y=\"96.517522\"/>\n     <use style=\"fill:#1f77b4;stroke:#1f77b4;\" x=\"150.090384\" xlink:href=\"#mca415b5fa4\" y=\"77.737626\"/>\n     <use style=\"fill:#1f77b4;stroke:#1f77b4;\" x=\"154.108302\" xlink:href=\"#mca415b5fa4\" y=\"95.433046\"/>\n     <use style=\"fill:#1f77b4;stroke:#1f77b4;\" x=\"126.93906\" xlink:href=\"#mca415b5fa4\" y=\"54.154355\"/>\n     <use style=\"fill:#1f77b4;stroke:#1f77b4;\" x=\"205.917088\" xlink:href=\"#mca415b5fa4\" y=\"134.34917\"/>\n     <use style=\"fill:#1f77b4;stroke:#1f77b4;\" x=\"151.431243\" xlink:href=\"#mca415b5fa4\" y=\"78.545245\"/>\n     <use style=\"fill:#1f77b4;stroke:#1f77b4;\" x=\"59.899885\" xlink:href=\"#mca415b5fa4\" y=\"18.523615\"/>\n     <use style=\"fill:#1f77b4;stroke:#1f77b4;\" x=\"159.627662\" xlink:href=\"#mca415b5fa4\" y=\"87.618867\"/>\n     <use style=\"fill:#1f77b4;stroke:#1f77b4;\" x=\"164.36059\" xlink:href=\"#mca415b5fa4\" y=\"99.755772\"/>\n     <use style=\"fill:#1f77b4;stroke:#1f77b4;\" x=\"218.136274\" xlink:href=\"#mca415b5fa4\" y=\"137.200857\"/>\n     <use style=\"fill:#1f77b4;stroke:#1f77b4;\" x=\"224.518059\" xlink:href=\"#mca415b5fa4\" y=\"137.547209\"/>\n     <use style=\"fill:#1f77b4;stroke:#1f77b4;\" x=\"216.89243\" xlink:href=\"#mca415b5fa4\" y=\"119.913294\"/>\n     <use style=\"fill:#1f77b4;stroke:#1f77b4;\" x=\"248.057859\" xlink:href=\"#mca415b5fa4\" y=\"152.012304\"/>\n     <use style=\"fill:#1f77b4;stroke:#1f77b4;\" x=\"155.930266\" xlink:href=\"#mca415b5fa4\" y=\"70.418925\"/>\n     <use style=\"fill:#1f77b4;stroke:#1f77b4;\" x=\"127.855107\" xlink:href=\"#mca415b5fa4\" y=\"76.377746\"/>\n     <use style=\"fill:#1f77b4;stroke:#1f77b4;\" x=\"154.136791\" xlink:href=\"#mca415b5fa4\" y=\"84.935214\"/>\n     <use style=\"fill:#1f77b4;stroke:#1f77b4;\" x=\"139.980392\" xlink:href=\"#mca415b5fa4\" y=\"84.689522\"/>\n     <use style=\"fill:#1f77b4;stroke:#1f77b4;\" x=\"147.179728\" xlink:href=\"#mca415b5fa4\" y=\"105.089158\"/>\n     <use style=\"fill:#1f77b4;stroke:#1f77b4;\" x=\"111.960882\" xlink:href=\"#mca415b5fa4\" y=\"64.171036\"/>\n     <use style=\"fill:#1f77b4;stroke:#1f77b4;\" x=\"195.644122\" xlink:href=\"#mca415b5fa4\" y=\"90.544181\"/>\n     <use style=\"fill:#1f77b4;stroke:#1f77b4;\" x=\"187.028065\" xlink:href=\"#mca415b5fa4\" y=\"126.745283\"/>\n     <use style=\"fill:#1f77b4;stroke:#1f77b4;\" x=\"197.522801\" xlink:href=\"#mca415b5fa4\" y=\"119.012848\"/>\n     <use style=\"fill:#1f77b4;stroke:#1f77b4;\" x=\"125.096645\" xlink:href=\"#mca415b5fa4\" y=\"71.248641\"/>\n     <use style=\"fill:#1f77b4;stroke:#1f77b4;\" x=\"122.531158\" xlink:href=\"#mca415b5fa4\" y=\"92.181902\"/>\n     <use style=\"fill:#1f77b4;stroke:#1f77b4;\" x=\"136.97712\" xlink:href=\"#mca415b5fa4\" y=\"80.123352\"/>\n     <use style=\"fill:#1f77b4;stroke:#1f77b4;\" x=\"133.042765\" xlink:href=\"#mca415b5fa4\" y=\"62.600941\"/>\n     <use style=\"fill:#1f77b4;stroke:#1f77b4;\" x=\"188.569345\" xlink:href=\"#mca415b5fa4\" y=\"109.180675\"/>\n     <use style=\"fill:#1f77b4;stroke:#1f77b4;\" x=\"248.826095\" xlink:href=\"#mca415b5fa4\" y=\"136.842015\"/>\n     <use style=\"fill:#1f77b4;stroke:#1f77b4;\" x=\"191.009823\" xlink:href=\"#mca415b5fa4\" y=\"108.033308\"/>\n     <use style=\"fill:#1f77b4;stroke:#1f77b4;\" x=\"125.563302\" xlink:href=\"#mca415b5fa4\" y=\"70.421135\"/>\n     <use style=\"fill:#1f77b4;stroke:#1f77b4;\" x=\"178.357878\" xlink:href=\"#mca415b5fa4\" y=\"98.061172\"/>\n     <use style=\"fill:#1f77b4;stroke:#1f77b4;\" x=\"174.858592\" xlink:href=\"#mca415b5fa4\" y=\"75.354417\"/>\n     <use style=\"fill:#1f77b4;stroke:#1f77b4;\" x=\"198.898756\" xlink:href=\"#mca415b5fa4\" y=\"136.980372\"/>\n     <use style=\"fill:#1f77b4;stroke:#1f77b4;\" x=\"125.66565\" xlink:href=\"#mca415b5fa4\" y=\"64.914563\"/>\n     <use style=\"fill:#1f77b4;stroke:#1f77b4;\" x=\"181.084694\" xlink:href=\"#mca415b5fa4\" y=\"87.187084\"/>\n     <use style=\"fill:#1f77b4;stroke:#1f77b4;\" x=\"242.641056\" xlink:href=\"#mca415b5fa4\" y=\"147.724837\"/>\n     <use style=\"fill:#1f77b4;stroke:#1f77b4;\" x=\"122.910898\" xlink:href=\"#mca415b5fa4\" y=\"88.835347\"/>\n     <use style=\"fill:#1f77b4;stroke:#1f77b4;\" x=\"240.523897\" xlink:href=\"#mca415b5fa4\" y=\"120.447498\"/>\n     <use style=\"fill:#1f77b4;stroke:#1f77b4;\" x=\"189.753953\" xlink:href=\"#mca415b5fa4\" y=\"92.178797\"/>\n     <use style=\"fill:#1f77b4;stroke:#1f77b4;\" x=\"165.433849\" xlink:href=\"#mca415b5fa4\" y=\"109.762495\"/>\n     <use style=\"fill:#1f77b4;stroke:#1f77b4;\" x=\"189.832478\" xlink:href=\"#mca415b5fa4\" y=\"110.307129\"/>\n     <use style=\"fill:#1f77b4;stroke:#1f77b4;\" x=\"245.736474\" xlink:href=\"#mca415b5fa4\" y=\"161.00744\"/>\n     <use style=\"fill:#1f77b4;stroke:#1f77b4;\" x=\"147.449269\" xlink:href=\"#mca415b5fa4\" y=\"77.377627\"/>\n     <use style=\"fill:#1f77b4;stroke:#1f77b4;\" x=\"135.702136\" xlink:href=\"#mca415b5fa4\" y=\"67.399694\"/>\n     <use style=\"fill:#1f77b4;stroke:#1f77b4;\" x=\"122.166278\" xlink:href=\"#mca415b5fa4\" y=\"38.750826\"/>\n     <use style=\"fill:#1f77b4;stroke:#1f77b4;\" x=\"200.835244\" xlink:href=\"#mca415b5fa4\" y=\"122.718798\"/>\n     <use style=\"fill:#1f77b4;stroke:#1f77b4;\" x=\"222.283164\" xlink:href=\"#mca415b5fa4\" y=\"118.742373\"/>\n     <use style=\"fill:#1f77b4;stroke:#1f77b4;\" x=\"103.824449\" xlink:href=\"#mca415b5fa4\" y=\"60.258984\"/>\n     <use style=\"fill:#1f77b4;stroke:#1f77b4;\" x=\"182.645979\" xlink:href=\"#mca415b5fa4\" y=\"81.259328\"/>\n     <use style=\"fill:#1f77b4;stroke:#1f77b4;\" x=\"194.682102\" xlink:href=\"#mca415b5fa4\" y=\"103.060529\"/>\n     <use style=\"fill:#1f77b4;stroke:#1f77b4;\" x=\"103.145246\" xlink:href=\"#mca415b5fa4\" y=\"56.895134\"/>\n     <use style=\"fill:#1f77b4;stroke:#1f77b4;\" x=\"185.049966\" xlink:href=\"#mca415b5fa4\" y=\"97.859842\"/>\n     <use style=\"fill:#1f77b4;stroke:#1f77b4;\" x=\"158.3128\" xlink:href=\"#mca415b5fa4\" y=\"89.338472\"/>\n     <use style=\"fill:#1f77b4;stroke:#1f77b4;\" x=\"190.915172\" xlink:href=\"#mca415b5fa4\" y=\"114.876802\"/>\n     <use style=\"fill:#1f77b4;stroke:#1f77b4;\" x=\"204.786648\" xlink:href=\"#mca415b5fa4\" y=\"122.259254\"/>\n     <use style=\"fill:#1f77b4;stroke:#1f77b4;\" x=\"249.431441\" xlink:href=\"#mca415b5fa4\" y=\"162.913414\"/>\n     <use style=\"fill:#1f77b4;stroke:#1f77b4;\" x=\"135.02985\" xlink:href=\"#mca415b5fa4\" y=\"63.737296\"/>\n     <use style=\"fill:#1f77b4;stroke:#1f77b4;\" x=\"147.160762\" xlink:href=\"#mca415b5fa4\" y=\"85.357294\"/>\n     <use style=\"fill:#1f77b4;stroke:#1f77b4;\" x=\"185.302386\" xlink:href=\"#mca415b5fa4\" y=\"93.801196\"/>\n     <use style=\"fill:#1f77b4;stroke:#1f77b4;\" x=\"153.993735\" xlink:href=\"#mca415b5fa4\" y=\"86.481459\"/>\n     <use style=\"fill:#1f77b4;stroke:#1f77b4;\" x=\"188.240397\" xlink:href=\"#mca415b5fa4\" y=\"116.017893\"/>\n     <use style=\"fill:#1f77b4;stroke:#1f77b4;\" x=\"123.516031\" xlink:href=\"#mca415b5fa4\" y=\"77.586665\"/>\n     <use style=\"fill:#1f77b4;stroke:#1f77b4;\" x=\"118.316941\" xlink:href=\"#mca415b5fa4\" y=\"67.623073\"/>\n     <use style=\"fill:#1f77b4;stroke:#1f77b4;\" x=\"208.593512\" xlink:href=\"#mca415b5fa4\" y=\"111.320348\"/>\n     <use style=\"fill:#1f77b4;stroke:#1f77b4;\" x=\"158.626222\" xlink:href=\"#mca415b5fa4\" y=\"86.802752\"/>\n     <use style=\"fill:#1f77b4;stroke:#1f77b4;\" x=\"197.357023\" xlink:href=\"#mca415b5fa4\" y=\"120.630616\"/>\n     <use style=\"fill:#1f77b4;stroke:#1f77b4;\" x=\"143.325485\" xlink:href=\"#mca415b5fa4\" y=\"116.17191\"/>\n     <use style=\"fill:#1f77b4;stroke:#1f77b4;\" x=\"186.915757\" xlink:href=\"#mca415b5fa4\" y=\"116.166055\"/>\n     <use style=\"fill:#1f77b4;stroke:#1f77b4;\" x=\"151.909824\" xlink:href=\"#mca415b5fa4\" y=\"109.55996\"/>\n     <use style=\"fill:#1f77b4;stroke:#1f77b4;\" x=\"168.013666\" xlink:href=\"#mca415b5fa4\" y=\"90.152498\"/>\n     <use style=\"fill:#1f77b4;stroke:#1f77b4;\" x=\"155.042032\" xlink:href=\"#mca415b5fa4\" y=\"89.652975\"/>\n     <use style=\"fill:#1f77b4;stroke:#1f77b4;\" x=\"250.845781\" xlink:href=\"#mca415b5fa4\" y=\"141.110057\"/>\n     <use style=\"fill:#1f77b4;stroke:#1f77b4;\" x=\"204.401405\" xlink:href=\"#mca415b5fa4\" y=\"114.352925\"/>\n     <use style=\"fill:#1f77b4;stroke:#1f77b4;\" x=\"150.259668\" xlink:href=\"#mca415b5fa4\" y=\"105.274764\"/>\n     <use style=\"fill:#1f77b4;stroke:#1f77b4;\" x=\"197.056629\" xlink:href=\"#mca415b5fa4\" y=\"71.731172\"/>\n     <use style=\"fill:#1f77b4;stroke:#1f77b4;\" x=\"134.078798\" xlink:href=\"#mca415b5fa4\" y=\"75.234539\"/>\n     <use style=\"fill:#1f77b4;stroke:#1f77b4;\" x=\"175.550572\" xlink:href=\"#mca415b5fa4\" y=\"99.674681\"/>\n     <use style=\"fill:#1f77b4;stroke:#1f77b4;\" x=\"154.757326\" xlink:href=\"#mca415b5fa4\" y=\"102.762435\"/>\n     <use style=\"fill:#1f77b4;stroke:#1f77b4;\" x=\"170.025567\" xlink:href=\"#mca415b5fa4\" y=\"115.96692\"/>\n     <use style=\"fill:#1f77b4;stroke:#1f77b4;\" x=\"219.991985\" xlink:href=\"#mca415b5fa4\" y=\"128.9059\"/>\n     <use style=\"fill:#1f77b4;stroke:#1f77b4;\" x=\"132.551845\" xlink:href=\"#mca415b5fa4\" y=\"58.946473\"/>\n     <use style=\"fill:#1f77b4;stroke:#1f77b4;\" x=\"161.597731\" xlink:href=\"#mca415b5fa4\" y=\"73.877016\"/>\n     <use style=\"fill:#1f77b4;stroke:#1f77b4;\" x=\"162.674495\" xlink:href=\"#mca415b5fa4\" y=\"84.785413\"/>\n     <use style=\"fill:#1f77b4;stroke:#1f77b4;\" x=\"176.835171\" xlink:href=\"#mca415b5fa4\" y=\"104.275399\"/>\n     <use style=\"fill:#1f77b4;stroke:#1f77b4;\" x=\"160.992823\" xlink:href=\"#mca415b5fa4\" y=\"77.115163\"/>\n     <use style=\"fill:#1f77b4;stroke:#1f77b4;\" x=\"153.297099\" xlink:href=\"#mca415b5fa4\" y=\"60.740273\"/>\n     <use style=\"fill:#1f77b4;stroke:#1f77b4;\" x=\"137.391178\" xlink:href=\"#mca415b5fa4\" y=\"101.964498\"/>\n     <use style=\"fill:#1f77b4;stroke:#1f77b4;\" x=\"85.346687\" xlink:href=\"#mca415b5fa4\" y=\"60.827198\"/>\n     <use style=\"fill:#1f77b4;stroke:#1f77b4;\" x=\"166.438246\" xlink:href=\"#mca415b5fa4\" y=\"78.435259\"/>\n     <use style=\"fill:#1f77b4;stroke:#1f77b4;\" x=\"199.512239\" xlink:href=\"#mca415b5fa4\" y=\"94.720776\"/>\n     <use style=\"fill:#1f77b4;stroke:#1f77b4;\" x=\"194.229156\" xlink:href=\"#mca415b5fa4\" y=\"110.738699\"/>\n     <use style=\"fill:#1f77b4;stroke:#1f77b4;\" x=\"125.714078\" xlink:href=\"#mca415b5fa4\" y=\"64.526717\"/>\n     <use style=\"fill:#1f77b4;stroke:#1f77b4;\" x=\"188.218801\" xlink:href=\"#mca415b5fa4\" y=\"91.443393\"/>\n     <use style=\"fill:#1f77b4;stroke:#1f77b4;\" x=\"156.726405\" xlink:href=\"#mca415b5fa4\" y=\"94.66265\"/>\n     <use style=\"fill:#1f77b4;stroke:#1f77b4;\" x=\"175.159931\" xlink:href=\"#mca415b5fa4\" y=\"108.083218\"/>\n     <use style=\"fill:#1f77b4;stroke:#1f77b4;\" x=\"262.354839\" xlink:href=\"#mca415b5fa4\" y=\"153.022333\"/>\n     <use style=\"fill:#1f77b4;stroke:#1f77b4;\" x=\"142.818597\" xlink:href=\"#mca415b5fa4\" y=\"89.382238\"/>\n     <use style=\"fill:#1f77b4;stroke:#1f77b4;\" x=\"62.115426\" xlink:href=\"#mca415b5fa4\" y=\"49.366892\"/>\n     <use style=\"fill:#1f77b4;stroke:#1f77b4;\" x=\"99.184833\" xlink:href=\"#mca415b5fa4\" y=\"55.137232\"/>\n     <use style=\"fill:#1f77b4;stroke:#1f77b4;\" x=\"168.057911\" xlink:href=\"#mca415b5fa4\" y=\"89.741907\"/>\n     <use style=\"fill:#1f77b4;stroke:#1f77b4;\" x=\"252.600174\" xlink:href=\"#mca415b5fa4\" y=\"121.857668\"/>\n     <use style=\"fill:#1f77b4;stroke:#1f77b4;\" x=\"141.173088\" xlink:href=\"#mca415b5fa4\" y=\"82.173559\"/>\n     <use style=\"fill:#1f77b4;stroke:#1f77b4;\" x=\"169.795773\" xlink:href=\"#mca415b5fa4\" y=\"110.958\"/>\n     <use style=\"fill:#1f77b4;stroke:#1f77b4;\" x=\"209.345125\" xlink:href=\"#mca415b5fa4\" y=\"108.240134\"/>\n     <use style=\"fill:#1f77b4;stroke:#1f77b4;\" x=\"113.397335\" xlink:href=\"#mca415b5fa4\" y=\"67.707637\"/>\n     <use style=\"fill:#1f77b4;stroke:#1f77b4;\" x=\"117.299863\" xlink:href=\"#mca415b5fa4\" y=\"66.350866\"/>\n     <use style=\"fill:#1f77b4;stroke:#1f77b4;\" x=\"128.90599\" xlink:href=\"#mca415b5fa4\" y=\"61.051465\"/>\n     <use style=\"fill:#1f77b4;stroke:#1f77b4;\" x=\"186.270179\" xlink:href=\"#mca415b5fa4\" y=\"96.245559\"/>\n     <use style=\"fill:#1f77b4;stroke:#1f77b4;\" x=\"122.159924\" xlink:href=\"#mca415b5fa4\" y=\"69.386388\"/>\n     <use style=\"fill:#1f77b4;stroke:#1f77b4;\" x=\"211.162301\" xlink:href=\"#mca415b5fa4\" y=\"95.617006\"/>\n     <use style=\"fill:#1f77b4;stroke:#1f77b4;\" x=\"181.598218\" xlink:href=\"#mca415b5fa4\" y=\"92.569644\"/>\n     <use style=\"fill:#1f77b4;stroke:#1f77b4;\" x=\"194.285988\" xlink:href=\"#mca415b5fa4\" y=\"105.344514\"/>\n     <use style=\"fill:#1f77b4;stroke:#1f77b4;\" x=\"167.608397\" xlink:href=\"#mca415b5fa4\" y=\"105.999302\"/>\n     <use style=\"fill:#1f77b4;stroke:#1f77b4;\" x=\"154.831624\" xlink:href=\"#mca415b5fa4\" y=\"86.177151\"/>\n     <use style=\"fill:#1f77b4;stroke:#1f77b4;\" x=\"223.634471\" xlink:href=\"#mca415b5fa4\" y=\"119.582595\"/>\n     <use style=\"fill:#1f77b4;stroke:#1f77b4;\" x=\"142.27337\" xlink:href=\"#mca415b5fa4\" y=\"90.411085\"/>\n     <use style=\"fill:#1f77b4;stroke:#1f77b4;\" x=\"148.222087\" xlink:href=\"#mca415b5fa4\" y=\"95.098868\"/>\n     <use style=\"fill:#1f77b4;stroke:#1f77b4;\" x=\"87.848548\" xlink:href=\"#mca415b5fa4\" y=\"38.068341\"/>\n     <use style=\"fill:#1f77b4;stroke:#1f77b4;\" x=\"153.104192\" xlink:href=\"#mca415b5fa4\" y=\"85.744764\"/>\n     <use style=\"fill:#1f77b4;stroke:#1f77b4;\" x=\"135.733552\" xlink:href=\"#mca415b5fa4\" y=\"74.915832\"/>\n     <use style=\"fill:#1f77b4;stroke:#1f77b4;\" x=\"144.399179\" xlink:href=\"#mca415b5fa4\" y=\"98.362587\"/>\n     <use style=\"fill:#1f77b4;stroke:#1f77b4;\" x=\"193.269538\" xlink:href=\"#mca415b5fa4\" y=\"124.818464\"/>\n     <use style=\"fill:#1f77b4;stroke:#1f77b4;\" x=\"170.060201\" xlink:href=\"#mca415b5fa4\" y=\"100.075561\"/>\n     <use style=\"fill:#1f77b4;stroke:#1f77b4;\" x=\"140.250023\" xlink:href=\"#mca415b5fa4\" y=\"79.368155\"/>\n     <use style=\"fill:#1f77b4;stroke:#1f77b4;\" x=\"105.485924\" xlink:href=\"#mca415b5fa4\" y=\"58.408692\"/>\n     <use style=\"fill:#1f77b4;stroke:#1f77b4;\" x=\"227.760282\" xlink:href=\"#mca415b5fa4\" y=\"149.275498\"/>\n     <use style=\"fill:#1f77b4;stroke:#1f77b4;\" x=\"137.852084\" xlink:href=\"#mca415b5fa4\" y=\"71.937001\"/>\n     <use style=\"fill:#1f77b4;stroke:#1f77b4;\" x=\"156.992172\" xlink:href=\"#mca415b5fa4\" y=\"97.506433\"/>\n     <use style=\"fill:#1f77b4;stroke:#1f77b4;\" x=\"149.966386\" xlink:href=\"#mca415b5fa4\" y=\"91.161126\"/>\n     <use style=\"fill:#1f77b4;stroke:#1f77b4;\" x=\"135.863356\" xlink:href=\"#mca415b5fa4\" y=\"77.564826\"/>\n     <use style=\"fill:#1f77b4;stroke:#1f77b4;\" x=\"199.52616\" xlink:href=\"#mca415b5fa4\" y=\"99.20204\"/>\n     <use style=\"fill:#1f77b4;stroke:#1f77b4;\" x=\"164.761553\" xlink:href=\"#mca415b5fa4\" y=\"96.841106\"/>\n     <use style=\"fill:#1f77b4;stroke:#1f77b4;\" x=\"113.661681\" xlink:href=\"#mca415b5fa4\" y=\"91.845645\"/>\n     <use style=\"fill:#1f77b4;stroke:#1f77b4;\" x=\"158.082219\" xlink:href=\"#mca415b5fa4\" y=\"96.755679\"/>\n     <use style=\"fill:#1f77b4;stroke:#1f77b4;\" x=\"133.232035\" xlink:href=\"#mca415b5fa4\" y=\"65.67295\"/>\n     <use style=\"fill:#1f77b4;stroke:#1f77b4;\" x=\"199.098757\" xlink:href=\"#mca415b5fa4\" y=\"116.378858\"/>\n     <use style=\"fill:#1f77b4;stroke:#1f77b4;\" x=\"179.637989\" xlink:href=\"#mca415b5fa4\" y=\"77.872419\"/>\n     <use style=\"fill:#1f77b4;stroke:#1f77b4;\" x=\"58.868212\" xlink:href=\"#mca415b5fa4\" y=\"15.866197\"/>\n     <use style=\"fill:#1f77b4;stroke:#1f77b4;\" x=\"191.168995\" xlink:href=\"#mca415b5fa4\" y=\"113.292272\"/>\n     <use style=\"fill:#1f77b4;stroke:#1f77b4;\" x=\"143.887602\" xlink:href=\"#mca415b5fa4\" y=\"78.475733\"/>\n     <use style=\"fill:#1f77b4;stroke:#1f77b4;\" x=\"240.872142\" xlink:href=\"#mca415b5fa4\" y=\"119.649903\"/>\n     <use style=\"fill:#1f77b4;stroke:#1f77b4;\" x=\"166.068676\" xlink:href=\"#mca415b5fa4\" y=\"104.762129\"/>\n     <use style=\"fill:#1f77b4;stroke:#1f77b4;\" x=\"169.222322\" xlink:href=\"#mca415b5fa4\" y=\"106.392334\"/>\n     <use style=\"fill:#1f77b4;stroke:#1f77b4;\" x=\"182.903526\" xlink:href=\"#mca415b5fa4\" y=\"119.578551\"/>\n     <use style=\"fill:#1f77b4;stroke:#1f77b4;\" x=\"120.715647\" xlink:href=\"#mca415b5fa4\" y=\"52.477702\"/>\n     <use style=\"fill:#1f77b4;stroke:#1f77b4;\" x=\"231.417711\" xlink:href=\"#mca415b5fa4\" y=\"122.542857\"/>\n     <use style=\"fill:#1f77b4;stroke:#1f77b4;\" x=\"194.540541\" xlink:href=\"#mca415b5fa4\" y=\"113.884464\"/>\n     <use style=\"fill:#1f77b4;stroke:#1f77b4;\" x=\"168.488943\" xlink:href=\"#mca415b5fa4\" y=\"95.648331\"/>\n     <use style=\"fill:#1f77b4;stroke:#1f77b4;\" x=\"252.024723\" xlink:href=\"#mca415b5fa4\" y=\"157.494819\"/>\n     <use style=\"fill:#1f77b4;stroke:#1f77b4;\" x=\"138.858091\" xlink:href=\"#mca415b5fa4\" y=\"76.922973\"/>\n     <use style=\"fill:#1f77b4;stroke:#1f77b4;\" x=\"207.489219\" xlink:href=\"#mca415b5fa4\" y=\"109.341398\"/>\n     <use style=\"fill:#1f77b4;stroke:#1f77b4;\" x=\"207.784593\" xlink:href=\"#mca415b5fa4\" y=\"144.628248\"/>\n     <use style=\"fill:#1f77b4;stroke:#1f77b4;\" x=\"182.705066\" xlink:href=\"#mca415b5fa4\" y=\"106.780767\"/>\n     <use style=\"fill:#1f77b4;stroke:#1f77b4;\" x=\"109.021504\" xlink:href=\"#mca415b5fa4\" y=\"66.052644\"/>\n     <use style=\"fill:#1f77b4;stroke:#1f77b4;\" x=\"190.111837\" xlink:href=\"#mca415b5fa4\" y=\"103.392643\"/>\n     <use style=\"fill:#1f77b4;stroke:#1f77b4;\" x=\"176.233637\" xlink:href=\"#mca415b5fa4\" y=\"91.105017\"/>\n     <use style=\"fill:#1f77b4;stroke:#1f77b4;\" x=\"166.794045\" xlink:href=\"#mca415b5fa4\" y=\"105.908153\"/>\n    </g>\n   </g>\n   <g id=\"matplotlib.axis_1\">\n    <g id=\"xtick_1\">\n     <g id=\"line2d_1\">\n      <defs>\n       <path d=\"M 0 0 \nL 0 3.5 \n\" id=\"me0c4549694\" style=\"stroke:#000000;stroke-width:0.8;\"/>\n      </defs>\n      <g>\n       <use style=\"stroke:#000000;stroke-width:0.8;\" x=\"51.134551\" xlink:href=\"#me0c4549694\" y=\"197.46\"/>\n      </g>\n     </g>\n     <g id=\"text_1\">\n      <!-- −3 -->\n      <defs>\n       <path d=\"M 10.59375 35.5 \nL 73.1875 35.5 \nL 73.1875 27.203125 \nL 10.59375 27.203125 \nz\n\" id=\"DejaVuSans-8722\"/>\n       <path d=\"M 40.578125 39.3125 \nQ 47.65625 37.796875 51.625 33 \nQ 55.609375 28.21875 55.609375 21.1875 \nQ 55.609375 10.40625 48.1875 4.484375 \nQ 40.765625 -1.421875 27.09375 -1.421875 \nQ 22.515625 -1.421875 17.65625 -0.515625 \nQ 12.796875 0.390625 7.625 2.203125 \nL 7.625 11.71875 \nQ 11.71875 9.328125 16.59375 8.109375 \nQ 21.484375 6.890625 26.8125 6.890625 \nQ 36.078125 6.890625 40.9375 10.546875 \nQ 45.796875 14.203125 45.796875 21.1875 \nQ 45.796875 27.640625 41.28125 31.265625 \nQ 36.765625 34.90625 28.71875 34.90625 \nL 20.21875 34.90625 \nL 20.21875 43.015625 \nL 29.109375 43.015625 \nQ 36.375 43.015625 40.234375 45.921875 \nQ 44.09375 48.828125 44.09375 54.296875 \nQ 44.09375 59.90625 40.109375 62.90625 \nQ 36.140625 65.921875 28.71875 65.921875 \nQ 24.65625 65.921875 20.015625 65.03125 \nQ 15.375 64.15625 9.8125 62.3125 \nL 9.8125 71.09375 \nQ 15.4375 72.65625 20.34375 73.4375 \nQ 25.25 74.21875 29.59375 74.21875 \nQ 40.828125 74.21875 47.359375 69.109375 \nQ 53.90625 64.015625 53.90625 55.328125 \nQ 53.90625 49.265625 50.4375 45.09375 \nQ 46.96875 40.921875 40.578125 39.3125 \nz\n\" id=\"DejaVuSans-51\"/>\n      </defs>\n      <g transform=\"translate(43.763457 212.058437)scale(0.1 -0.1)\">\n       <use xlink:href=\"#DejaVuSans-8722\"/>\n       <use x=\"83.789062\" xlink:href=\"#DejaVuSans-51\"/>\n      </g>\n     </g>\n    </g>\n    <g id=\"xtick_2\">\n     <g id=\"line2d_2\">\n      <g>\n       <use style=\"stroke:#000000;stroke-width:0.8;\" x=\"90.039378\" xlink:href=\"#me0c4549694\" y=\"197.46\"/>\n      </g>\n     </g>\n     <g id=\"text_2\">\n      <!-- −2 -->\n      <defs>\n       <path d=\"M 19.1875 8.296875 \nL 53.609375 8.296875 \nL 53.609375 0 \nL 7.328125 0 \nL 7.328125 8.296875 \nQ 12.9375 14.109375 22.625 23.890625 \nQ 32.328125 33.6875 34.8125 36.53125 \nQ 39.546875 41.84375 41.421875 45.53125 \nQ 43.3125 49.21875 43.3125 52.78125 \nQ 43.3125 58.59375 39.234375 62.25 \nQ 35.15625 65.921875 28.609375 65.921875 \nQ 23.96875 65.921875 18.8125 64.3125 \nQ 13.671875 62.703125 7.8125 59.421875 \nL 7.8125 69.390625 \nQ 13.765625 71.78125 18.9375 73 \nQ 24.125 74.21875 28.421875 74.21875 \nQ 39.75 74.21875 46.484375 68.546875 \nQ 53.21875 62.890625 53.21875 53.421875 \nQ 53.21875 48.921875 51.53125 44.890625 \nQ 49.859375 40.875 45.40625 35.40625 \nQ 44.1875 33.984375 37.640625 27.21875 \nQ 31.109375 20.453125 19.1875 8.296875 \nz\n\" id=\"DejaVuSans-50\"/>\n      </defs>\n      <g transform=\"translate(82.668285 212.058437)scale(0.1 -0.1)\">\n       <use xlink:href=\"#DejaVuSans-8722\"/>\n       <use x=\"83.789062\" xlink:href=\"#DejaVuSans-50\"/>\n      </g>\n     </g>\n    </g>\n    <g id=\"xtick_3\">\n     <g id=\"line2d_3\">\n      <g>\n       <use style=\"stroke:#000000;stroke-width:0.8;\" x=\"128.944206\" xlink:href=\"#me0c4549694\" y=\"197.46\"/>\n      </g>\n     </g>\n     <g id=\"text_3\">\n      <!-- −1 -->\n      <defs>\n       <path d=\"M 12.40625 8.296875 \nL 28.515625 8.296875 \nL 28.515625 63.921875 \nL 10.984375 60.40625 \nL 10.984375 69.390625 \nL 28.421875 72.90625 \nL 38.28125 72.90625 \nL 38.28125 8.296875 \nL 54.390625 8.296875 \nL 54.390625 0 \nL 12.40625 0 \nz\n\" id=\"DejaVuSans-49\"/>\n      </defs>\n      <g transform=\"translate(121.573112 212.058437)scale(0.1 -0.1)\">\n       <use xlink:href=\"#DejaVuSans-8722\"/>\n       <use x=\"83.789062\" xlink:href=\"#DejaVuSans-49\"/>\n      </g>\n     </g>\n    </g>\n    <g id=\"xtick_4\">\n     <g id=\"line2d_4\">\n      <g>\n       <use style=\"stroke:#000000;stroke-width:0.8;\" x=\"167.849034\" xlink:href=\"#me0c4549694\" y=\"197.46\"/>\n      </g>\n     </g>\n     <g id=\"text_4\">\n      <!-- 0 -->\n      <defs>\n       <path d=\"M 31.78125 66.40625 \nQ 24.171875 66.40625 20.328125 58.90625 \nQ 16.5 51.421875 16.5 36.375 \nQ 16.5 21.390625 20.328125 13.890625 \nQ 24.171875 6.390625 31.78125 6.390625 \nQ 39.453125 6.390625 43.28125 13.890625 \nQ 47.125 21.390625 47.125 36.375 \nQ 47.125 51.421875 43.28125 58.90625 \nQ 39.453125 66.40625 31.78125 66.40625 \nz\nM 31.78125 74.21875 \nQ 44.046875 74.21875 50.515625 64.515625 \nQ 56.984375 54.828125 56.984375 36.375 \nQ 56.984375 17.96875 50.515625 8.265625 \nQ 44.046875 -1.421875 31.78125 -1.421875 \nQ 19.53125 -1.421875 13.0625 8.265625 \nQ 6.59375 17.96875 6.59375 36.375 \nQ 6.59375 54.828125 13.0625 64.515625 \nQ 19.53125 74.21875 31.78125 74.21875 \nz\n\" id=\"DejaVuSans-48\"/>\n      </defs>\n      <g transform=\"translate(164.667784 212.058437)scale(0.1 -0.1)\">\n       <use xlink:href=\"#DejaVuSans-48\"/>\n      </g>\n     </g>\n    </g>\n    <g id=\"xtick_5\">\n     <g id=\"line2d_5\">\n      <g>\n       <use style=\"stroke:#000000;stroke-width:0.8;\" x=\"206.753861\" xlink:href=\"#me0c4549694\" y=\"197.46\"/>\n      </g>\n     </g>\n     <g id=\"text_5\">\n      <!-- 1 -->\n      <g transform=\"translate(203.572611 212.058437)scale(0.1 -0.1)\">\n       <use xlink:href=\"#DejaVuSans-49\"/>\n      </g>\n     </g>\n    </g>\n    <g id=\"xtick_6\">\n     <g id=\"line2d_6\">\n      <g>\n       <use style=\"stroke:#000000;stroke-width:0.8;\" x=\"245.658689\" xlink:href=\"#me0c4549694\" y=\"197.46\"/>\n      </g>\n     </g>\n     <g id=\"text_6\">\n      <!-- 2 -->\n      <g transform=\"translate(242.477439 212.058437)scale(0.1 -0.1)\">\n       <use xlink:href=\"#DejaVuSans-50\"/>\n      </g>\n     </g>\n    </g>\n    <g id=\"xtick_7\">\n     <g id=\"line2d_7\">\n      <g>\n       <use style=\"stroke:#000000;stroke-width:0.8;\" x=\"284.563516\" xlink:href=\"#me0c4549694\" y=\"197.46\"/>\n      </g>\n     </g>\n     <g id=\"text_7\">\n      <!-- 3 -->\n      <g transform=\"translate(281.382266 212.058437)scale(0.1 -0.1)\">\n       <use xlink:href=\"#DejaVuSans-51\"/>\n      </g>\n     </g>\n    </g>\n   </g>\n   <g id=\"matplotlib.axis_2\">\n    <g id=\"ytick_1\">\n     <g id=\"line2d_8\">\n      <defs>\n       <path d=\"M 0 0 \nL -3.5 0 \n\" id=\"md2e239315a\" style=\"stroke:#000000;stroke-width:0.8;\"/>\n      </defs>\n      <g>\n       <use style=\"stroke:#000000;stroke-width:0.8;\" x=\"35.304688\" xlink:href=\"#md2e239315a\" y=\"193.159084\"/>\n      </g>\n     </g>\n     <g id=\"text_8\">\n      <!-- −10 -->\n      <g transform=\"translate(7.2 196.958303)scale(0.1 -0.1)\">\n       <use xlink:href=\"#DejaVuSans-8722\"/>\n       <use x=\"83.789062\" xlink:href=\"#DejaVuSans-49\"/>\n       <use x=\"147.412109\" xlink:href=\"#DejaVuSans-48\"/>\n      </g>\n     </g>\n    </g>\n    <g id=\"ytick_2\">\n     <g id=\"line2d_9\">\n      <g>\n       <use style=\"stroke:#000000;stroke-width:0.8;\" x=\"35.304688\" xlink:href=\"#md2e239315a\" y=\"158.882965\"/>\n      </g>\n     </g>\n     <g id=\"text_9\">\n      <!-- −5 -->\n      <defs>\n       <path d=\"M 10.796875 72.90625 \nL 49.515625 72.90625 \nL 49.515625 64.59375 \nL 19.828125 64.59375 \nL 19.828125 46.734375 \nQ 21.96875 47.46875 24.109375 47.828125 \nQ 26.265625 48.1875 28.421875 48.1875 \nQ 40.625 48.1875 47.75 41.5 \nQ 54.890625 34.8125 54.890625 23.390625 \nQ 54.890625 11.625 47.5625 5.09375 \nQ 40.234375 -1.421875 26.90625 -1.421875 \nQ 22.3125 -1.421875 17.546875 -0.640625 \nQ 12.796875 0.140625 7.71875 1.703125 \nL 7.71875 11.625 \nQ 12.109375 9.234375 16.796875 8.0625 \nQ 21.484375 6.890625 26.703125 6.890625 \nQ 35.15625 6.890625 40.078125 11.328125 \nQ 45.015625 15.765625 45.015625 23.390625 \nQ 45.015625 31 40.078125 35.4375 \nQ 35.15625 39.890625 26.703125 39.890625 \nQ 22.75 39.890625 18.8125 39.015625 \nQ 14.890625 38.140625 10.796875 36.28125 \nz\n\" id=\"DejaVuSans-53\"/>\n      </defs>\n      <g transform=\"translate(13.5625 162.682184)scale(0.1 -0.1)\">\n       <use xlink:href=\"#DejaVuSans-8722\"/>\n       <use x=\"83.789062\" xlink:href=\"#DejaVuSans-53\"/>\n      </g>\n     </g>\n    </g>\n    <g id=\"ytick_3\">\n     <g id=\"line2d_10\">\n      <g>\n       <use style=\"stroke:#000000;stroke-width:0.8;\" x=\"35.304688\" xlink:href=\"#md2e239315a\" y=\"124.606846\"/>\n      </g>\n     </g>\n     <g id=\"text_10\">\n      <!-- 0 -->\n      <g transform=\"translate(21.942187 128.406065)scale(0.1 -0.1)\">\n       <use xlink:href=\"#DejaVuSans-48\"/>\n      </g>\n     </g>\n    </g>\n    <g id=\"ytick_4\">\n     <g id=\"line2d_11\">\n      <g>\n       <use style=\"stroke:#000000;stroke-width:0.8;\" x=\"35.304688\" xlink:href=\"#md2e239315a\" y=\"90.330727\"/>\n      </g>\n     </g>\n     <g id=\"text_11\">\n      <!-- 5 -->\n      <g transform=\"translate(21.942187 94.129946)scale(0.1 -0.1)\">\n       <use xlink:href=\"#DejaVuSans-53\"/>\n      </g>\n     </g>\n    </g>\n    <g id=\"ytick_5\">\n     <g id=\"line2d_12\">\n      <g>\n       <use style=\"stroke:#000000;stroke-width:0.8;\" x=\"35.304688\" xlink:href=\"#md2e239315a\" y=\"56.054608\"/>\n      </g>\n     </g>\n     <g id=\"text_12\">\n      <!-- 10 -->\n      <g transform=\"translate(15.579687 59.853827)scale(0.1 -0.1)\">\n       <use xlink:href=\"#DejaVuSans-49\"/>\n       <use x=\"63.623047\" xlink:href=\"#DejaVuSans-48\"/>\n      </g>\n     </g>\n    </g>\n    <g id=\"ytick_6\">\n     <g id=\"line2d_13\">\n      <g>\n       <use style=\"stroke:#000000;stroke-width:0.8;\" x=\"35.304688\" xlink:href=\"#md2e239315a\" y=\"21.778489\"/>\n      </g>\n     </g>\n     <g id=\"text_13\">\n      <!-- 15 -->\n      <g transform=\"translate(15.579687 25.577708)scale(0.1 -0.1)\">\n       <use xlink:href=\"#DejaVuSans-49\"/>\n       <use x=\"63.623047\" xlink:href=\"#DejaVuSans-53\"/>\n      </g>\n     </g>\n    </g>\n   </g>\n   <g id=\"patch_3\">\n    <path d=\"M 35.304688 197.46 \nL 35.304688 7.2 \n\" style=\"fill:none;stroke:#000000;stroke-linecap:square;stroke-linejoin:miter;stroke-width:0.8;\"/>\n   </g>\n   <g id=\"patch_4\">\n    <path d=\"M 314.304688 197.46 \nL 314.304688 7.2 \n\" style=\"fill:none;stroke:#000000;stroke-linecap:square;stroke-linejoin:miter;stroke-width:0.8;\"/>\n   </g>\n   <g id=\"patch_5\">\n    <path d=\"M 35.304688 197.46 \nL 314.304688 197.46 \n\" style=\"fill:none;stroke:#000000;stroke-linecap:square;stroke-linejoin:miter;stroke-width:0.8;\"/>\n   </g>\n   <g id=\"patch_6\">\n    <path d=\"M 35.304688 7.2 \nL 314.304688 7.2 \n\" style=\"fill:none;stroke:#000000;stroke-linecap:square;stroke-linejoin:miter;stroke-width:0.8;\"/>\n   </g>\n  </g>\n </g>\n <defs>\n  <clipPath id=\"pdf3e195fc0\">\n   <rect height=\"190.26\" width=\"279\" x=\"35.304688\" y=\"7.2\"/>\n  </clipPath>\n </defs>\n</svg>\n"
          },
          "metadata": {
            "tags": []
          }
        }
      ]
    },
    {
      "cell_type": "code",
      "metadata": {
        "id": "NMS1bWRCFpk5",
        "colab_type": "code",
        "colab": {}
      },
      "source": [
        "def data_iter(batch_size, features, labels):\n",
        "    num_examples = len(features)\n",
        "    indices = list(range(num_examples))\n",
        "    random.shuffle(indices)\n",
        "    for i in range(0, num_examples, batch_size):\n",
        "        j = nd.array(indices[i: min(i + batch_size, num_examples)])\n",
        "        yield features.take(j), labels.take(j)"
      ],
      "execution_count": 0,
      "outputs": []
    },
    {
      "cell_type": "code",
      "metadata": {
        "id": "fEIUbwVQSKUb",
        "colab_type": "code",
        "colab": {
          "base_uri": "https://localhost:8080/",
          "height": 34
        },
        "outputId": "d7ebad07-16d1-4199-88cb-3d7baad8ea0b"
      },
      "source": [
        "num = 10 \n",
        "num"
      ],
      "execution_count": 345,
      "outputs": [
        {
          "output_type": "execute_result",
          "data": {
            "text/plain": [
              "10"
            ]
          },
          "metadata": {
            "tags": []
          },
          "execution_count": 345
        }
      ]
    },
    {
      "cell_type": "code",
      "metadata": {
        "id": "rAIQquSNSZe-",
        "colab_type": "code",
        "colab": {
          "base_uri": "https://localhost:8080/",
          "height": 34
        },
        "outputId": "402ac94c-a26a-47f3-d30f-8ec98b1e7107"
      },
      "source": [
        "indice = list(range(10))\n",
        "indice"
      ],
      "execution_count": 346,
      "outputs": [
        {
          "output_type": "execute_result",
          "data": {
            "text/plain": [
              "[0, 1, 2, 3, 4, 5, 6, 7, 8, 9]"
            ]
          },
          "metadata": {
            "tags": []
          },
          "execution_count": 346
        }
      ]
    },
    {
      "cell_type": "code",
      "metadata": {
        "id": "ar_HotaTShk9",
        "colab_type": "code",
        "colab": {
          "base_uri": "https://localhost:8080/",
          "height": 34
        },
        "outputId": "837aa3b4-8ece-45e9-94cb-15ab72aa353a"
      },
      "source": [
        "random.shuffle(indice)\n",
        "indice"
      ],
      "execution_count": 347,
      "outputs": [
        {
          "output_type": "execute_result",
          "data": {
            "text/plain": [
              "[3, 9, 1, 8, 5, 4, 6, 7, 2, 0]"
            ]
          },
          "metadata": {
            "tags": []
          },
          "execution_count": 347
        }
      ]
    },
    {
      "cell_type": "code",
      "metadata": {
        "id": "ZajUSBn7Sy03",
        "colab_type": "code",
        "colab": {
          "base_uri": "https://localhost:8080/",
          "height": 84
        },
        "outputId": "94294c23-1fa3-44db-ac69-f1b36d67e111"
      },
      "source": [
        "for i in range(0, num, 3):\n",
        "    print(i)"
      ],
      "execution_count": 348,
      "outputs": [
        {
          "output_type": "stream",
          "text": [
            "0\n",
            "3\n",
            "6\n",
            "9\n"
          ],
          "name": "stdout"
        }
      ]
    },
    {
      "cell_type": "code",
      "metadata": {
        "id": "p4jimT8oTB_u",
        "colab_type": "code",
        "colab": {
          "base_uri": "https://localhost:8080/",
          "height": 218
        },
        "outputId": "5bef845f-d2e6-4a73-9bbc-33810efdfe68"
      },
      "source": [
        "for i in range(0, num, 3):\n",
        "    j = nd.array(indice[i: i+3])\n",
        "    print(j)"
      ],
      "execution_count": 349,
      "outputs": [
        {
          "output_type": "stream",
          "text": [
            "\n",
            "[3. 9. 1.]\n",
            "<NDArray 3 @cpu(0)>\n",
            "\n",
            "[8. 5. 4.]\n",
            "<NDArray 3 @cpu(0)>\n",
            "\n",
            "[6. 7. 2.]\n",
            "<NDArray 3 @cpu(0)>\n",
            "\n",
            "[0.]\n",
            "<NDArray 1 @cpu(0)>\n"
          ],
          "name": "stdout"
        }
      ]
    },
    {
      "cell_type": "code",
      "metadata": {
        "id": "FqTMpD-qTg7n",
        "colab_type": "code",
        "colab": {
          "base_uri": "https://localhost:8080/",
          "height": 286
        },
        "outputId": "70a38574-7f87-4d63-ce8f-c9326ed36dca"
      },
      "source": [
        "for i in range(0, num, 3):\n",
        "    j = nd.array(indice[i: min(i+3, num)])\n",
        "    print(i, j)\n",
        "    # print('-'*19)\n",
        "    print()"
      ],
      "execution_count": 350,
      "outputs": [
        {
          "output_type": "stream",
          "text": [
            "0 \n",
            "[3. 9. 1.]\n",
            "<NDArray 3 @cpu(0)>\n",
            "\n",
            "3 \n",
            "[8. 5. 4.]\n",
            "<NDArray 3 @cpu(0)>\n",
            "\n",
            "6 \n",
            "[6. 7. 2.]\n",
            "<NDArray 3 @cpu(0)>\n",
            "\n",
            "9 \n",
            "[0.]\n",
            "<NDArray 1 @cpu(0)>\n",
            "\n"
          ],
          "name": "stdout"
        }
      ]
    },
    {
      "cell_type": "code",
      "metadata": {
        "id": "gnMiChaZVKL3",
        "colab_type": "code",
        "colab": {
          "base_uri": "https://localhost:8080/",
          "height": 286
        },
        "outputId": "3cca29fe-6008-45cc-86e8-2301778f8aed"
      },
      "source": [
        "batch_size = 11 \n",
        "\n",
        "for X, y in data_iter(batch_size, features, labels):\n",
        "    print(X, y)\n",
        "    break "
      ],
      "execution_count": 351,
      "outputs": [
        {
          "output_type": "stream",
          "text": [
            "\n",
            "[[-0.7856327  -0.02711716]\n",
            " [-0.9288065   2.376642  ]\n",
            " [-0.86636037  0.18687809]\n",
            " [ 0.02822601  0.20286492]\n",
            " [ 0.18221758 -0.4614221 ]\n",
            " [-0.11887518 -2.699651  ]\n",
            " [ 0.17137325  1.4373008 ]\n",
            " [-0.43608835  0.03570559]\n",
            " [-0.08584901 -0.28736308]\n",
            " [ 0.71433234  1.433895  ]\n",
            " [-1.7489222   0.82156986]]\n",
            "<NDArray 11x2 @cpu(0)> \n",
            "[ 2.7276561  -5.7417655   1.8328501   3.574372    6.1251307  13.135597\n",
            " -0.35012275  3.1914613   5.002168    0.7329084  -2.097486  ]\n",
            "<NDArray 11 @cpu(0)>\n"
          ],
          "name": "stdout"
        }
      ]
    },
    {
      "cell_type": "code",
      "metadata": {
        "id": "eaOboSMLamO3",
        "colab_type": "code",
        "colab": {}
      },
      "source": [
        "w = nd.random.normal(scale=0.01, shape=(num_inputs, 1))\n",
        "b = nd.zeros(shape=(1, ))"
      ],
      "execution_count": 0,
      "outputs": []
    },
    {
      "cell_type": "code",
      "metadata": {
        "id": "JfDZsZ-tbA4D",
        "colab_type": "code",
        "colab": {}
      },
      "source": [
        "w.attach_grad()\n",
        "b.attach_grad()"
      ],
      "execution_count": 0,
      "outputs": []
    },
    {
      "cell_type": "code",
      "metadata": {
        "id": "DWGn3t6KbEvy",
        "colab_type": "code",
        "colab": {}
      },
      "source": [
        "def linreg(X, w, b):\n",
        "    return nd.dot(X, w) + b "
      ],
      "execution_count": 0,
      "outputs": []
    },
    {
      "cell_type": "code",
      "metadata": {
        "id": "yJXfT1O8bexZ",
        "colab_type": "code",
        "colab": {}
      },
      "source": [
        "def squared_loss(y_hat, y):\n",
        "    return (y_hat - y.reshape(y_hat.shape)) ** 2 / 2 "
      ],
      "execution_count": 0,
      "outputs": []
    },
    {
      "cell_type": "code",
      "metadata": {
        "id": "4iOs5gcPbv1g",
        "colab_type": "code",
        "colab": {}
      },
      "source": [
        "def sgd(params, lr, batch_size):\n",
        "    for param in params:\n",
        "        param[:] = param - lr * param.grad / batch_size "
      ],
      "execution_count": 0,
      "outputs": []
    },
    {
      "cell_type": "code",
      "metadata": {
        "id": "Io-SJZyDcC6B",
        "colab_type": "code",
        "colab": {
          "base_uri": "https://localhost:8080/",
          "height": 67
        },
        "outputId": "5652a871-e979-44f4-e24f-0cfe895e0f99"
      },
      "source": [
        "lr = 0.03 \n",
        "num_epochs = 3 \n",
        "net = linreg \n",
        "loss = squared_loss \n",
        "\n",
        "for epoch in range(num_epochs):\n",
        "    for X, y in data_iter(batch_size, features, labels):\n",
        "        with autograd.record():\n",
        "            l = loss(net(X, w, b), y)\n",
        "        l.backward()\n",
        "        sgd([w, b], lr, batch_size)\n",
        "    train_l = loss(net(features, w, b), labels)\n",
        "    print('epoch %d, loss %f' % (epoch + 1, train_l.mean().asnumpy()))"
      ],
      "execution_count": 357,
      "outputs": [
        {
          "output_type": "stream",
          "text": [
            "epoch 1, loss 0.081301\n",
            "epoch 2, loss 0.000507\n",
            "epoch 3, loss 0.000056\n"
          ],
          "name": "stdout"
        }
      ]
    },
    {
      "cell_type": "code",
      "metadata": {
        "id": "hm3je0fIdHG1",
        "colab_type": "code",
        "colab": {
          "base_uri": "https://localhost:8080/",
          "height": 84
        },
        "outputId": "76795d40-e409-4568-9a9e-cbe0d9d6d2c8"
      },
      "source": [
        "true_w, w"
      ],
      "execution_count": 358,
      "outputs": [
        {
          "output_type": "execute_result",
          "data": {
            "text/plain": [
              "([2, -3.4], \n",
              " [[ 1.9981216]\n",
              "  [-3.3991144]]\n",
              " <NDArray 2x1 @cpu(0)>)"
            ]
          },
          "metadata": {
            "tags": []
          },
          "execution_count": 358
        }
      ]
    },
    {
      "cell_type": "code",
      "metadata": {
        "id": "qOOx_s1ff9hH",
        "colab_type": "code",
        "colab": {
          "base_uri": "https://localhost:8080/",
          "height": 67
        },
        "outputId": "0ed51b43-976b-4446-ed44-041e4af00bd4"
      },
      "source": [
        "true_b, b "
      ],
      "execution_count": 359,
      "outputs": [
        {
          "output_type": "execute_result",
          "data": {
            "text/plain": [
              "(4.2, \n",
              " [4.198917]\n",
              " <NDArray 1 @cpu(0)>)"
            ]
          },
          "metadata": {
            "tags": []
          },
          "execution_count": 359
        }
      ]
    },
    {
      "cell_type": "code",
      "metadata": {
        "id": "EFDkzdtUf_WV",
        "colab_type": "code",
        "colab": {}
      },
      "source": [
        "y_hat = nd.ones((3, 4))"
      ],
      "execution_count": 0,
      "outputs": []
    },
    {
      "cell_type": "code",
      "metadata": {
        "id": "mVFT4JaLh4fi",
        "colab_type": "code",
        "colab": {}
      },
      "source": [
        "y = nd.ones((2, 6))"
      ],
      "execution_count": 0,
      "outputs": []
    },
    {
      "cell_type": "code",
      "metadata": {
        "id": "n3lzfY4Ih85x",
        "colab_type": "code",
        "colab": {
          "base_uri": "https://localhost:8080/",
          "height": 101
        },
        "outputId": "4dab7b82-c084-42d2-e24c-ff070545ab19"
      },
      "source": [
        "y_hat - y.reshape(y_hat.shape) "
      ],
      "execution_count": 363,
      "outputs": [
        {
          "output_type": "execute_result",
          "data": {
            "text/plain": [
              "\n",
              "[[0. 0. 0. 0.]\n",
              " [0. 0. 0. 0.]\n",
              " [0. 0. 0. 0.]]\n",
              "<NDArray 3x4 @cpu(0)>"
            ]
          },
          "metadata": {
            "tags": []
          },
          "execution_count": 363
        }
      ]
    },
    {
      "cell_type": "markdown",
      "metadata": {
        "id": "Gvj1a8-sh_ZG",
        "colab_type": "text"
      },
      "source": [
        "## 3.3 线性回归的简洁实现"
      ]
    },
    {
      "cell_type": "code",
      "metadata": {
        "id": "buP4XYxQjC56",
        "colab_type": "code",
        "colab": {
          "base_uri": "https://localhost:8080/",
          "height": 34
        },
        "outputId": "8eaaf01f-10fb-4fa3-a5cd-ef52d01c5c77"
      },
      "source": [
        "from mxnet import autograd, nd \n",
        "\n",
        "num_inputs = 2 \n",
        "num_examples = 1000 \n",
        "true_w = [2, -3.4]\n",
        "true_b = 4.2 \n",
        "start = time()\n",
        "features = nd.random.normal(scale=1, shape=(num_examples, num_inputs))\n",
        "labels = true_w[0] * features[:, 0] + true_w[1] * features[:, 1] + true_b + nd.random.normal(scale=0.01, shape=labels.shape)\n",
        "time() - start "
      ],
      "execution_count": 365,
      "outputs": [
        {
          "output_type": "execute_result",
          "data": {
            "text/plain": [
              "0.013842344284057617"
            ]
          },
          "metadata": {
            "tags": []
          },
          "execution_count": 365
        }
      ]
    },
    {
      "cell_type": "code",
      "metadata": {
        "id": "Wy0rL2Svl1-D",
        "colab_type": "code",
        "colab": {
          "base_uri": "https://localhost:8080/",
          "height": 34
        },
        "outputId": "a443c0fa-9588-4026-b124-5cca4297b5ca"
      },
      "source": [
        "labels.shape"
      ],
      "execution_count": 366,
      "outputs": [
        {
          "output_type": "execute_result",
          "data": {
            "text/plain": [
              "(1000,)"
            ]
          },
          "metadata": {
            "tags": []
          },
          "execution_count": 366
        }
      ]
    },
    {
      "cell_type": "code",
      "metadata": {
        "id": "k7eBJELEl7pq",
        "colab_type": "code",
        "colab": {
          "base_uri": "https://localhost:8080/",
          "height": 84
        },
        "outputId": "9fc6c593-e0bb-45d7-ac04-8b430a365427"
      },
      "source": [
        "labels[:10]"
      ],
      "execution_count": 367,
      "outputs": [
        {
          "output_type": "execute_result",
          "data": {
            "text/plain": [
              "\n",
              "[ 6.9050627  9.778392   2.9427702 -4.546339   9.302028   2.690546\n",
              "  3.616144   5.1789007  9.184089   4.4604273]\n",
              "<NDArray 10 @cpu(0)>"
            ]
          },
          "metadata": {
            "tags": []
          },
          "execution_count": 367
        }
      ]
    },
    {
      "cell_type": "code",
      "metadata": {
        "id": "8vtEgVW0klOL",
        "colab_type": "code",
        "colab": {}
      },
      "source": [
        "from mxnet.gluon import data as gdata \n",
        "\n",
        "batch_size = 10 \n",
        "dataset = gdata.ArrayDataset(features, labels)\n",
        "data_iter = gdata.DataLoader(dataset, batch_size, shuffle=True)"
      ],
      "execution_count": 0,
      "outputs": []
    },
    {
      "cell_type": "code",
      "metadata": {
        "id": "n7--VpqPmflx",
        "colab_type": "code",
        "colab": {
          "base_uri": "https://localhost:8080/",
          "height": 269
        },
        "outputId": "cd032a13-c9a3-499b-ac13-56126b212fa6"
      },
      "source": [
        "for X, y in data_iter:\n",
        "    print(X, y)\n",
        "    break "
      ],
      "execution_count": 372,
      "outputs": [
        {
          "output_type": "stream",
          "text": [
            "\n",
            "[[-0.02098517  1.3668778 ]\n",
            " [ 0.96429634  0.07939338]\n",
            " [ 0.6255762   1.0138036 ]\n",
            " [ 0.9354897   1.8644971 ]\n",
            " [-1.4386525   2.2704332 ]\n",
            " [-0.01180115 -0.51951075]\n",
            " [-1.1116999   0.8136445 ]\n",
            " [ 0.85692286 -1.1262228 ]\n",
            " [ 0.1695503   1.2992698 ]\n",
            " [-0.34039184 -0.17620139]]\n",
            "<NDArray 10x2 @cpu(0)> \n",
            "[-0.48393852  5.858025    1.9972748  -0.28832483 -6.382806    5.9442554\n",
            " -0.8116055   9.744788    0.13265407  4.1332865 ]\n",
            "<NDArray 10 @cpu(0)>\n"
          ],
          "name": "stdout"
        }
      ]
    },
    {
      "cell_type": "code",
      "metadata": {
        "id": "1HM9lSAtmmPO",
        "colab_type": "code",
        "colab": {
          "base_uri": "https://localhost:8080/",
          "height": 168
        },
        "outputId": "3aba71cb-84ed-409e-b97f-3be805f9d601"
      },
      "source": [
        "a = nd.ones((10, 2))\n",
        "b = nd.zeros((10, 1))\n",
        "data_ab = gdata.ArrayDataset(a, b)\n",
        "print(data_ab.__getitem__([1, 2, 3]))"
      ],
      "execution_count": 390,
      "outputs": [
        {
          "output_type": "stream",
          "text": [
            "(\n",
            "[[1. 1.]\n",
            " [1. 1.]\n",
            " [1. 1.]]\n",
            "<NDArray 3x2 @cpu(0)>, \n",
            "[[0.]\n",
            " [0.]\n",
            " [0.]]\n",
            "<NDArray 3x1 @cpu(0)>)\n"
          ],
          "name": "stdout"
        }
      ]
    },
    {
      "cell_type": "code",
      "metadata": {
        "id": "5apxj7j7nRPE",
        "colab_type": "code",
        "colab": {}
      },
      "source": [
        "data_iter_ab = gdata.DataLoader(data_ab, 2, shuffle=False)"
      ],
      "execution_count": 0,
      "outputs": []
    },
    {
      "cell_type": "code",
      "metadata": {
        "id": "IvRDBHehECsC",
        "colab_type": "code",
        "colab": {
          "base_uri": "https://localhost:8080/",
          "height": 605
        },
        "outputId": "8ce4893d-58da-48a3-9199-2b5b066c49ed"
      },
      "source": [
        "for A, b in data_iter_ab:\n",
        "    print(A, b)"
      ],
      "execution_count": 396,
      "outputs": [
        {
          "output_type": "stream",
          "text": [
            "\n",
            "[[1. 1.]\n",
            " [1. 1.]]\n",
            "<NDArray 2x2 @cpu(0)> \n",
            "[[0.]\n",
            " [0.]]\n",
            "<NDArray 2x1 @cpu(0)>\n",
            "\n",
            "[[1. 1.]\n",
            " [1. 1.]]\n",
            "<NDArray 2x2 @cpu(0)> \n",
            "[[0.]\n",
            " [0.]]\n",
            "<NDArray 2x1 @cpu(0)>\n",
            "\n",
            "[[1. 1.]\n",
            " [1. 1.]]\n",
            "<NDArray 2x2 @cpu(0)> \n",
            "[[0.]\n",
            " [0.]]\n",
            "<NDArray 2x1 @cpu(0)>\n",
            "\n",
            "[[1. 1.]\n",
            " [1. 1.]]\n",
            "<NDArray 2x2 @cpu(0)> \n",
            "[[0.]\n",
            " [0.]]\n",
            "<NDArray 2x1 @cpu(0)>\n",
            "\n",
            "[[1. 1.]\n",
            " [1. 1.]]\n",
            "<NDArray 2x2 @cpu(0)> \n",
            "[[0.]\n",
            " [0.]]\n",
            "<NDArray 2x1 @cpu(0)>\n"
          ],
          "name": "stdout"
        }
      ]
    },
    {
      "cell_type": "code",
      "metadata": {
        "id": "ihq6Lu5xETba",
        "colab_type": "code",
        "colab": {}
      },
      "source": [
        "from mxnet.gluon import nn\n",
        "\n",
        "net = nn.Sequential()"
      ],
      "execution_count": 0,
      "outputs": []
    },
    {
      "cell_type": "code",
      "metadata": {
        "id": "gyjzTg85HFb8",
        "colab_type": "code",
        "colab": {}
      },
      "source": [
        "net.add(nn.Dense(1))"
      ],
      "execution_count": 0,
      "outputs": []
    },
    {
      "cell_type": "code",
      "metadata": {
        "id": "lbPA-twuHKu_",
        "colab_type": "code",
        "colab": {}
      },
      "source": [
        "from mxnet import init \n",
        "\n",
        "net.initialize(init.Normal(sigma=0.01))"
      ],
      "execution_count": 0,
      "outputs": []
    },
    {
      "cell_type": "code",
      "metadata": {
        "id": "mX9SZhUOHeZo",
        "colab_type": "code",
        "colab": {}
      },
      "source": [
        "from mxnet.gluon import loss as gloss \n",
        "\n",
        "loss = gloss.L2Loss()"
      ],
      "execution_count": 0,
      "outputs": []
    },
    {
      "cell_type": "code",
      "metadata": {
        "id": "VAVCe3O7HnVm",
        "colab_type": "code",
        "colab": {}
      },
      "source": [
        "from mxnet import gluon \n",
        "\n",
        "trainer = gluon.Trainer(net.collect_params(), 'sgd', {'learning_rate': 0.03})"
      ],
      "execution_count": 0,
      "outputs": []
    },
    {
      "cell_type": "code",
      "metadata": {
        "id": "-_0uO6vteo6v",
        "colab_type": "code",
        "colab": {
          "base_uri": "https://localhost:8080/",
          "height": 67
        },
        "outputId": "d5a40644-d6ed-4561-b1ca-447444868903"
      },
      "source": [
        "num_epochs = 3 \n",
        "for epoch in range(1, num_epochs + 1):\n",
        "    for X, y in data_iter:\n",
        "        with autograd.record():\n",
        "            l = loss(net(X), y)\n",
        "        l.backward()\n",
        "        trainer.step(batch_size)\n",
        "    l = loss(net(features), labels)\n",
        "    print('epoch %d, loss: %f' % (epoch, l.mean().asnumpy()))"
      ],
      "execution_count": 411,
      "outputs": [
        {
          "output_type": "stream",
          "text": [
            "epoch 1, loss: 0.042343\n",
            "epoch 2, loss: 0.000163\n",
            "epoch 3, loss: 0.000049\n"
          ],
          "name": "stdout"
        }
      ]
    },
    {
      "cell_type": "code",
      "metadata": {
        "id": "-P3xRa70hJPB",
        "colab_type": "code",
        "colab": {
          "base_uri": "https://localhost:8080/",
          "height": 67
        },
        "outputId": "ac72a707-7125-45bd-df00-e927923ad3d8"
      },
      "source": [
        "dense = net[0]\n",
        "true_w, dense.weight.data()"
      ],
      "execution_count": 412,
      "outputs": [
        {
          "output_type": "execute_result",
          "data": {
            "text/plain": [
              "([2, -3.4], \n",
              " [[ 1.9994196 -3.39917  ]]\n",
              " <NDArray 1x2 @cpu(0)>)"
            ]
          },
          "metadata": {
            "tags": []
          },
          "execution_count": 412
        }
      ]
    },
    {
      "cell_type": "code",
      "metadata": {
        "id": "YvplryyxiMpi",
        "colab_type": "code",
        "colab": {
          "base_uri": "https://localhost:8080/",
          "height": 67
        },
        "outputId": "fb06a692-59b0-498e-c901-c3b24193b7a8"
      },
      "source": [
        "true_b, dense.bias.data()"
      ],
      "execution_count": 413,
      "outputs": [
        {
          "output_type": "execute_result",
          "data": {
            "text/plain": [
              "(4.2, \n",
              " [4.199317]\n",
              " <NDArray 1 @cpu(0)>)"
            ]
          },
          "metadata": {
            "tags": []
          },
          "execution_count": 413
        }
      ]
    }
  ]
}