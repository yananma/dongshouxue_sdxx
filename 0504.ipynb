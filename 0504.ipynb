{
  "nbformat": 4,
  "nbformat_minor": 0,
  "metadata": {
    "colab": {
      "name": "0504.ipynb",
      "provenance": [],
      "include_colab_link": true
    },
    "kernelspec": {
      "name": "python3",
      "display_name": "Python 3"
    },
    "accelerator": "GPU"
  },
  "cells": [
    {
      "cell_type": "markdown",
      "metadata": {
        "id": "view-in-github",
        "colab_type": "text"
      },
      "source": [
        "<a href=\"https://colab.research.google.com/github/yananma/5_programs_per_day/blob/master/0504.ipynb\" target=\"_parent\"><img src=\"https://colab.research.google.com/assets/colab-badge.svg\" alt=\"Open In Colab\"/></a>"
      ]
    },
    {
      "cell_type": "markdown",
      "metadata": {
        "id": "PegnZLmRSaGv",
        "colab_type": "text"
      },
      "source": [
        "## 3.6 softmax 回归的从零开始实现"
      ]
    },
    {
      "cell_type": "code",
      "metadata": {
        "id": "pKpeytAsT1CW",
        "colab_type": "code",
        "colab": {}
      },
      "source": [
        "# !pip install mxnet d2lzh"
      ],
      "execution_count": 0,
      "outputs": []
    },
    {
      "cell_type": "code",
      "metadata": {
        "id": "9Qgr5v2JVbQh",
        "colab_type": "code",
        "colab": {}
      },
      "source": [
        "%matplotlib inline \n",
        "import d2lzh as d2l  \n",
        "from mxnet import autograd, nd "
      ],
      "execution_count": 0,
      "outputs": []
    },
    {
      "cell_type": "code",
      "metadata": {
        "id": "zWgt56bOVm8m",
        "colab_type": "code",
        "colab": {}
      },
      "source": [
        "batch_size = 256 \n",
        "train_iter, test_iter = d2l.load_data_fashion_mnist(batch_size)"
      ],
      "execution_count": 0,
      "outputs": []
    },
    {
      "cell_type": "code",
      "metadata": {
        "id": "MAMjEcL_VvXr",
        "colab_type": "code",
        "outputId": "5e48239c-44e7-4486-8805-ab27a6e7896c",
        "colab": {
          "base_uri": "https://localhost:8080/",
          "height": 101
        }
      },
      "source": [
        "for X, y in train_iter:\n",
        "    print(X.shape)\n",
        "    print(y.shape)\n",
        "    print(y[:10])\n",
        "    break "
      ],
      "execution_count": 236,
      "outputs": [
        {
          "output_type": "stream",
          "text": [
            "(256, 1, 28, 28)\n",
            "(256,)\n",
            "\n",
            "[1 4 2 6 1 3 8 7 6 3]\n",
            "<NDArray 10 @cpu_shared(0)>\n"
          ],
          "name": "stdout"
        }
      ]
    },
    {
      "cell_type": "markdown",
      "metadata": {
        "id": "OKbR59JivX8I",
        "colab_type": "text"
      },
      "source": [
        "reinit "
      ]
    },
    {
      "cell_type": "code",
      "metadata": {
        "id": "hSChzkeAVxwe",
        "colab_type": "code",
        "colab": {}
      },
      "source": [
        "num_inputs = 784 \n",
        "num_outputs = 10 \n",
        "\n",
        "W = nd.random.normal(scale=0.01, shape=(num_inputs, num_outputs))\n",
        "b = nd.zeros(num_outputs)"
      ],
      "execution_count": 0,
      "outputs": []
    },
    {
      "cell_type": "code",
      "metadata": {
        "id": "a-dg9Q6lV0U_",
        "colab_type": "code",
        "colab": {}
      },
      "source": [
        "W.attach_grad()\n",
        "b.attach_grad()"
      ],
      "execution_count": 0,
      "outputs": []
    },
    {
      "cell_type": "code",
      "metadata": {
        "id": "prrAbBnrW9HZ",
        "colab_type": "code",
        "outputId": "3b2bbf1e-fff9-4c25-f9f6-3792e8c8cdf6",
        "colab": {
          "base_uri": "https://localhost:8080/",
          "height": 67
        }
      },
      "source": [
        "X = nd.array([[1, 2, 3], [4, 5, 6]])\n",
        "X.sum(axis=0, keepdims=True)"
      ],
      "execution_count": 256,
      "outputs": [
        {
          "output_type": "execute_result",
          "data": {
            "text/plain": [
              "\n",
              "[[5. 7. 9.]]\n",
              "<NDArray 1x3 @cpu(0)>"
            ]
          },
          "metadata": {
            "tags": []
          },
          "execution_count": 256
        }
      ]
    },
    {
      "cell_type": "code",
      "metadata": {
        "id": "QF5oJ2NaXGQD",
        "colab_type": "code",
        "outputId": "8ed7915f-7e97-4a97-ce8d-c870615c878f",
        "colab": {
          "base_uri": "https://localhost:8080/",
          "height": 84
        }
      },
      "source": [
        "X.sum(axis=1, keepdims=True)"
      ],
      "execution_count": 257,
      "outputs": [
        {
          "output_type": "execute_result",
          "data": {
            "text/plain": [
              "\n",
              "[[ 6.]\n",
              " [15.]]\n",
              "<NDArray 2x1 @cpu(0)>"
            ]
          },
          "metadata": {
            "tags": []
          },
          "execution_count": 257
        }
      ]
    },
    {
      "cell_type": "code",
      "metadata": {
        "id": "pMxoAgkoXdCj",
        "colab_type": "code",
        "colab": {}
      },
      "source": [
        "def softmax(X):\n",
        "    X_exp = X.exp()\n",
        "    partition = X_exp.sum(axis=1, keepdims=True)\n",
        "    return X_exp / partition "
      ],
      "execution_count": 0,
      "outputs": []
    },
    {
      "cell_type": "code",
      "metadata": {
        "id": "P3-2G3BGXLlC",
        "colab_type": "code",
        "outputId": "0ef39ca8-4f79-4ca1-a7d8-b17280096b2e",
        "colab": {
          "base_uri": "https://localhost:8080/",
          "height": 118
        }
      },
      "source": [
        "X = nd.random.normal(shape=(2, 5))\n",
        "X_prob = softmax(X)\n",
        "X_prob, X_prob.sum(axis=1)"
      ],
      "execution_count": 259,
      "outputs": [
        {
          "output_type": "execute_result",
          "data": {
            "text/plain": [
              "(\n",
              " [[0.26479146 0.41922703 0.14376903 0.04618021 0.1260322 ]\n",
              "  [0.08419192 0.1817623  0.24798082 0.28885728 0.19720767]]\n",
              " <NDArray 2x5 @cpu(0)>, \n",
              " [0.99999994 1.        ]\n",
              " <NDArray 2 @cpu(0)>)"
            ]
          },
          "metadata": {
            "tags": []
          },
          "execution_count": 259
        }
      ]
    },
    {
      "cell_type": "code",
      "metadata": {
        "id": "152PugVGXram",
        "colab_type": "code",
        "colab": {}
      },
      "source": [
        "def net(X):\n",
        "    return softmax(nd.dot(X.reshape((-1, num_inputs)), W) + b )"
      ],
      "execution_count": 0,
      "outputs": []
    },
    {
      "cell_type": "code",
      "metadata": {
        "id": "0FeqnqBQb9TX",
        "colab_type": "code",
        "outputId": "10e22714-015e-4a0b-91dd-78e68a373544",
        "colab": {
          "base_uri": "https://localhost:8080/",
          "height": 67
        }
      },
      "source": [
        "y_hat = nd.array([[0.1, 0.3, 0.6], [0.3, 0.2, 0.5]])\n",
        "y = nd.array([0, 2], dtype='int32')\n",
        "nd.pick(y_hat, y)"
      ],
      "execution_count": 261,
      "outputs": [
        {
          "output_type": "execute_result",
          "data": {
            "text/plain": [
              "\n",
              "[0.1 0.5]\n",
              "<NDArray 2 @cpu(0)>"
            ]
          },
          "metadata": {
            "tags": []
          },
          "execution_count": 261
        }
      ]
    },
    {
      "cell_type": "code",
      "metadata": {
        "id": "9WfmJDsAcjED",
        "colab_type": "code",
        "colab": {}
      },
      "source": [
        "def cross_entropy(y_hat, y):\n",
        "    return -nd.pick(y_hat, y).log()"
      ],
      "execution_count": 0,
      "outputs": []
    },
    {
      "cell_type": "code",
      "metadata": {
        "id": "wjFeYeElhobe",
        "colab_type": "code",
        "colab": {}
      },
      "source": [
        "def accuracy(y_hat, y):\n",
        "    return (y_hat.argmax(axis=1) == y.astype('float32')).mean().asscalar()"
      ],
      "execution_count": 0,
      "outputs": []
    },
    {
      "cell_type": "code",
      "metadata": {
        "id": "0rCTd2xsgqtd",
        "colab_type": "code",
        "outputId": "723d8998-05e4-4778-fbab-a7e256133778",
        "colab": {
          "base_uri": "https://localhost:8080/",
          "height": 34
        }
      },
      "source": [
        "accuracy(y_hat, y)"
      ],
      "execution_count": 264,
      "outputs": [
        {
          "output_type": "execute_result",
          "data": {
            "text/plain": [
              "0.5"
            ]
          },
          "metadata": {
            "tags": []
          },
          "execution_count": 264
        }
      ]
    },
    {
      "cell_type": "code",
      "metadata": {
        "id": "jhDGVAz8kyJD",
        "colab_type": "code",
        "colab": {}
      },
      "source": [
        "def evaluate_accuracy(data_iter, net):\n",
        "    acc_sum, n = 0.0, 0 \n",
        "    for X, y in data_iter:\n",
        "        y = y.astype('float32')\n",
        "        acc_sum += (net(X).argmax(axis=1) == y).sum().asscalar()\n",
        "        n += y.size \n",
        "    return acc_sum / n "
      ],
      "execution_count": 0,
      "outputs": []
    },
    {
      "cell_type": "code",
      "metadata": {
        "id": "gpS5lQPUmIFN",
        "colab_type": "code",
        "colab": {}
      },
      "source": [
        "import time \n",
        "\n",
        "num_epochs, lr = 5, 0.1 \n",
        "\n",
        "train_ls, train_acc, test_acc_plot = [], [], []\n",
        "def train_ch3(net, train_iter, test_iter, loss, num_epochs, batch_size, params=None, lr=None, trainer=None):\n",
        "    for epoch in range(num_epochs):\n",
        "        train_l_sum, train_acc_sum, n, start = 0.0, 0.0, 0, time.time()\n",
        "        for X, y in train_iter:\n",
        "            with autograd.record():\n",
        "                y_hat = net(X)\n",
        "                l = loss(y_hat, y).sum()\n",
        "            l.backward()\n",
        "            if trainer is None:\n",
        "                d2l.sgd(params, lr, batch_size)\n",
        "            else:\n",
        "                trainer.step(batch_size)\n",
        "            y = y.astype('float32')\n",
        "            train_l_sum += l.asscalar()\n",
        "            train_acc_sum += (y_hat.argmax(axis=1) == y).sum().asscalar()\n",
        "            n += y.size \n",
        "            train_ls.append((l / y.size).asscalar())\n",
        "            train_acc.append((y_hat.argmax(axis=1) == y).mean().asscalar())\n",
        "        test_acc = evaluate_accuracy(test_iter, net)\n",
        "        test_acc_plot.append(test_acc)\n",
        "        print('epoch %d, loss %.4f, train acc %.3f, test acc %.3f, time %.1f sec' \n",
        "           % (epoch + 1, train_l_sum / n, train_acc_sum / n, test_acc, time.time() - start))"
      ],
      "execution_count": 0,
      "outputs": []
    },
    {
      "cell_type": "code",
      "metadata": {
        "id": "LDqV4wxyogQb",
        "colab_type": "code",
        "colab": {
          "base_uri": "https://localhost:8080/",
          "height": 101
        },
        "outputId": "772bdbec-511a-4b35-d309-475ae6d13251"
      },
      "source": [
        "train_ch3(net, train_iter, test_iter, cross_entropy, num_epochs, batch_size, [W, b], lr)"
      ],
      "execution_count": 267,
      "outputs": [
        {
          "output_type": "stream",
          "text": [
            "epoch 1, loss 0.7881, train acc 0.749, test acc 0.801, time 8.4 sec\n",
            "epoch 2, loss 0.5747, train acc 0.809, test acc 0.822, time 8.3 sec\n",
            "epoch 3, loss 0.5296, train acc 0.824, test acc 0.830, time 8.2 sec\n",
            "epoch 4, loss 0.5051, train acc 0.830, test acc 0.834, time 8.2 sec\n",
            "epoch 5, loss 0.4896, train acc 0.835, test acc 0.839, time 8.1 sec\n"
          ],
          "name": "stdout"
        }
      ]
    },
    {
      "cell_type": "code",
      "metadata": {
        "id": "jREnwm5mopEA",
        "colab_type": "code",
        "colab": {
          "base_uri": "https://localhost:8080/",
          "height": 265
        },
        "outputId": "acf23d36-2343-41f3-8cf6-a563928e5010"
      },
      "source": [
        "import matplotlib.pyplot as plt \n",
        "\n",
        "plt.plot(train_ls, label='train loss sum')\n",
        "plt.legend()\n",
        "plt.show()"
      ],
      "execution_count": 268,
      "outputs": [
        {
          "output_type": "display_data",
          "data": {
            "image/png": "[encoded data removed]",
            "text/plain": [
              "<Figure size 432x288 with 1 Axes>"
            ]
          },
          "metadata": {
            "tags": []
          }
        }
      ]
    },
    {
      "cell_type": "code",
      "metadata": {
        "id": "DOqjvVy_uXHw",
        "colab_type": "code",
        "colab": {
          "base_uri": "https://localhost:8080/",
          "height": 265
        },
        "outputId": "e033df51-32de-4f9a-d589-75d15d4107f4"
      },
      "source": [
        "plt.plot(train_acc, label='train acc')\n",
        "plt.legend()\n",
        "plt.show()"
      ],
      "execution_count": 269,
      "outputs": [
        {
          "output_type": "display_data",
          "data": {
            "image/png": "[encoded data removed]",
            "text/plain": [
              "<Figure size 432x288 with 1 Axes>"
            ]
          },
          "metadata": {
            "tags": []
          }
        }
      ]
    },
    {
      "cell_type": "code",
      "metadata": {
        "id": "npScqrvx2Uae",
        "colab_type": "code",
        "colab": {
          "base_uri": "https://localhost:8080/",
          "height": 265
        },
        "outputId": "546e6840-bb94-4619-ec22-0c6b6cd359f1"
      },
      "source": [
        "plt.plot(test_acc_plot, label='test acc')\n",
        "plt.legend()\n",
        "plt.show()"
      ],
      "execution_count": 270,
      "outputs": [
        {
          "output_type": "display_data",
          "data": {
            "image/png": "[encoded data removed]",
            "text/plain": [
              "<Figure size 432x288 with 1 Axes>"
            ]
          },
          "metadata": {
            "tags": []
          }
        }
      ]
    },
    {
      "cell_type": "markdown",
      "metadata": {
        "id": "1vP7FQPtBjVJ",
        "colab_type": "text"
      },
      "source": [
        "## 3.7 softmax 回归的简洁实现"
      ]
    },
    {
      "cell_type": "code",
      "metadata": {
        "id": "8ywym6abBqxl",
        "colab_type": "code",
        "colab": {}
      },
      "source": [
        "%matplotlib inline  \n",
        "import d2lzh as d2l \n",
        "from mxnet import gluon, init \n",
        "from mxnet.gluon import loss as gloss, nn "
      ],
      "execution_count": 0,
      "outputs": []
    },
    {
      "cell_type": "code",
      "metadata": {
        "id": "61Ol5y8yB4nF",
        "colab_type": "code",
        "colab": {}
      },
      "source": [
        "batch_size = 256 \n",
        "train_iter, test_iter = d2l.load_data_fashion_mnist(batch_size)"
      ],
      "execution_count": 0,
      "outputs": []
    },
    {
      "cell_type": "code",
      "metadata": {
        "id": "4q7ISA_ACEXj",
        "colab_type": "code",
        "colab": {}
      },
      "source": [
        "net = nn.Sequential()\n",
        "net.add(nn.Dense(10))\n",
        "net.initialize(init.Normal(sigma=0.01))"
      ],
      "execution_count": 0,
      "outputs": []
    },
    {
      "cell_type": "code",
      "metadata": {
        "id": "dfGe0POXCYmK",
        "colab_type": "code",
        "colab": {}
      },
      "source": [
        "loss = gloss.SoftmaxCrossEntropyLoss()"
      ],
      "execution_count": 0,
      "outputs": []
    },
    {
      "cell_type": "code",
      "metadata": {
        "id": "FheZEm1WCh0u",
        "colab_type": "code",
        "colab": {
          "base_uri": "https://localhost:8080/",
          "height": 84
        },
        "outputId": "7e22b3d3-4237-4e02-b4e4-20dc98a11e81"
      },
      "source": [
        "net.collect_params()"
      ],
      "execution_count": 7,
      "outputs": [
        {
          "output_type": "execute_result",
          "data": {
            "text/plain": [
              "sequential0_ (\n",
              "  Parameter dense0_weight (shape=(10, 0), dtype=float32)\n",
              "  Parameter dense0_bias (shape=(10,), dtype=float32)\n",
              ")"
            ]
          },
          "metadata": {
            "tags": []
          },
          "execution_count": 7
        }
      ]
    },
    {
      "cell_type": "code",
      "metadata": {
        "id": "03b7uCjNClTU",
        "colab_type": "code",
        "colab": {}
      },
      "source": [
        "trainer = gluon.Trainer(net.collect_params(), 'sgd', {'learning_rate': 0.1})"
      ],
      "execution_count": 0,
      "outputs": []
    },
    {
      "cell_type": "code",
      "metadata": {
        "id": "s3Wfi0hvC4YH",
        "colab_type": "code",
        "colab": {
          "base_uri": "https://localhost:8080/",
          "height": 101
        },
        "outputId": "30f3f9cc-5b46-4327-bdc1-e93871e90acd"
      },
      "source": [
        "num_epochs = 5 \n",
        "d2l.train_ch3(net, train_iter, test_iter, loss, num_epochs, batch_size, None, None, trainer)"
      ],
      "execution_count": 10,
      "outputs": [
        {
          "output_type": "stream",
          "text": [
            "epoch 1, loss 0.7888, train acc 0.746, test acc 0.805\n",
            "epoch 2, loss 0.5745, train acc 0.811, test acc 0.824\n",
            "epoch 3, loss 0.5287, train acc 0.824, test acc 0.834\n",
            "epoch 4, loss 0.5045, train acc 0.830, test acc 0.832\n",
            "epoch 5, loss 0.4892, train acc 0.834, test acc 0.840\n"
          ],
          "name": "stdout"
        }
      ]
    },
    {
      "cell_type": "code",
      "metadata": {
        "id": "PggxYPdYDDdn",
        "colab_type": "code",
        "colab": {
          "base_uri": "https://localhost:8080/",
          "height": 67
        },
        "outputId": "628cf9cc-83e0-44c3-a46a-80444ce78312"
      },
      "source": [
        "net"
      ],
      "execution_count": 11,
      "outputs": [
        {
          "output_type": "execute_result",
          "data": {
            "text/plain": [
              "Sequential(\n",
              "  (0): Dense(784 -> 10, linear)\n",
              ")"
            ]
          },
          "metadata": {
            "tags": []
          },
          "execution_count": 11
        }
      ]
    },
    {
      "cell_type": "code",
      "metadata": {
        "id": "6rjUfW0CDSei",
        "colab_type": "code",
        "colab": {
          "base_uri": "https://localhost:8080/",
          "height": 84
        },
        "outputId": "e8a23de6-2fc8-4da0-b7b7-4111b10926a0"
      },
      "source": [
        "net.collect_params()"
      ],
      "execution_count": 12,
      "outputs": [
        {
          "output_type": "execute_result",
          "data": {
            "text/plain": [
              "sequential0_ (\n",
              "  Parameter dense0_weight (shape=(10, 784), dtype=float32)\n",
              "  Parameter dense0_bias (shape=(10,), dtype=float32)\n",
              ")"
            ]
          },
          "metadata": {
            "tags": []
          },
          "execution_count": 12
        }
      ]
    },
    {
      "cell_type": "code",
      "metadata": {
        "id": "v32y8TRbDVb0",
        "colab_type": "code",
        "colab": {
          "base_uri": "https://localhost:8080/",
          "height": 200
        },
        "outputId": "2ba2589a-f6d7-443c-bd10-5bc050262c38"
      },
      "source": [
        "for X, y in test_iter:\n",
        "    print(X.shape)\n",
        "    print(y.shape)\n",
        "    break \n",
        "\n",
        "true_labels = d2l.get_fashion_mnist_labels(y.asnumpy())\n",
        "pred_labels = d2l.get_fashion_mnist_labels(net(X).argmax(axis=1).asnumpy())\n",
        "titles = [true + '\\n' + pred for true, pred in zip(true_labels, pred_labels)]\n",
        "\n",
        "d2l.show_fashion_mnist(X[:9], titles[:9])"
      ],
      "execution_count": 20,
      "outputs": [
        {
          "output_type": "stream",
          "text": [
            "(256, 1, 28, 28)\n",
            "(256,)\n"
          ],
          "name": "stdout"
        },
        {
          "output_type": "display_data",
          "data": {
            "text/plain": [
              "<Figure size 864x864 with 9 Axes>"
            ],
            "image/svg+xml": "<?xml version=\"1.0\" encoding=\"utf-8\" standalone=\"no\"?>\n<!DOCTYPE svg PUBLIC \"-//W3C//DTD SVG 1.1//EN\"\n  \"http://www.w3.org/Graphics/SVG/1.1/DTD/svg11.dtd\">\n<!-- Created with matplotlib (https://matplotlib.org/) -->\n<svg height=\"109.625311pt\" version=\"1.1\" viewBox=\"0 0 687.5 109.625311\" width=\"687.5pt\" xmlns=\"http://www.w3.org/2000/svg\" xmlns:xlink=\"http://www.w3.org/1999/xlink\">\n <defs>\n  <style type=\"text/css\">\n*{stroke-linecap:butt;stroke-linejoin:round;}\n  </style>\n </defs>\n <g id=\"figure_1\">\n  <g id=\"patch_1\">\n   <path d=\"M 0 109.625311 \nL 687.5 109.625311 \nL 687.5 0 \nL 0 0 \nz\n\" style=\"fill:none;\"/>\n  </g>\n  <g id=\"axes_1\">\n   <g id=\"patch_2\">\n    <path d=\"M 10.7 98.925311 \nL 73.869811 98.925311 \nL 73.869811 35.7555 \nL 10.7 35.7555 \nz\n\" style=\"fill:#ffffff;\"/>\n   </g>\n   <g clip-path=\"url(#pebacde73ff)\">\n    <image height=\"64\" id=\"imagef45cd01545\" transform=\"scale(1 -1)translate(0 -64)\" width=\"64\" x=\"10.7\" xlink:href=\"data:image/png;base64,\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\" y=\"-34.925311\"/>\n   </g>\n   <g id=\"patch_3\">\n    <path d=\"M 10.7 98.925311 \nL 10.7 35.7555 \n\" style=\"fill:none;stroke:#000000;stroke-linecap:square;stroke-linejoin:miter;stroke-width:0.8;\"/>\n   </g>\n   <g id=\"patch_4\">\n    <path d=\"M 73.869811 98.925311 \nL 73.869811 35.7555 \n\" style=\"fill:none;stroke:#000000;stroke-linecap:square;stroke-linejoin:miter;stroke-width:0.8;\"/>\n   </g>\n   <g id=\"patch_5\">\n    <path d=\"M 10.7 98.925311 \nL 73.869811 98.925311 \n\" style=\"fill:none;stroke:#000000;stroke-linecap:square;stroke-linejoin:miter;stroke-width:0.8;\"/>\n   </g>\n   <g id=\"patch_6\">\n    <path d=\"M 10.7 35.7555 \nL 73.869811 35.7555 \n\" style=\"fill:none;stroke:#000000;stroke-linecap:square;stroke-linejoin:miter;stroke-width:0.8;\"/>\n   </g>\n   <g id=\"text_1\">\n    <!-- t-shirt -->\n    <defs>\n     <path d=\"M 18.3125 70.21875 \nL 18.3125 54.6875 \nL 36.8125 54.6875 \nL 36.8125 47.703125 \nL 18.3125 47.703125 \nL 18.3125 18.015625 \nQ 18.3125 11.328125 20.140625 9.421875 \nQ 21.96875 7.515625 27.59375 7.515625 \nL 36.8125 7.515625 \nL 36.8125 0 \nL 27.59375 0 \nQ 17.1875 0 13.234375 3.875 \nQ 9.28125 7.765625 9.28125 18.015625 \nL 9.28125 47.703125 \nL 2.6875 47.703125 \nL 2.6875 54.6875 \nL 9.28125 54.6875 \nL 9.28125 70.21875 \nz\n\" id=\"DejaVuSans-116\"/>\n     <path d=\"M 4.890625 31.390625 \nL 31.203125 31.390625 \nL 31.203125 23.390625 \nL 4.890625 23.390625 \nz\n\" id=\"DejaVuSans-45\"/>\n     <path d=\"M 44.28125 53.078125 \nL 44.28125 44.578125 \nQ 40.484375 46.53125 36.375 47.5 \nQ 32.28125 48.484375 27.875 48.484375 \nQ 21.1875 48.484375 17.84375 46.4375 \nQ 14.5 44.390625 14.5 40.28125 \nQ 14.5 37.15625 16.890625 35.375 \nQ 19.28125 33.59375 26.515625 31.984375 \nL 29.59375 31.296875 \nQ 39.15625 29.25 43.1875 25.515625 \nQ 47.21875 21.78125 47.21875 15.09375 \nQ 47.21875 7.46875 41.1875 3.015625 \nQ 35.15625 -1.421875 24.609375 -1.421875 \nQ 20.21875 -1.421875 15.453125 -0.5625 \nQ 10.6875 0.296875 5.421875 2 \nL 5.421875 11.28125 \nQ 10.40625 8.6875 15.234375 7.390625 \nQ 20.0625 6.109375 24.8125 6.109375 \nQ 31.15625 6.109375 34.5625 8.28125 \nQ 37.984375 10.453125 37.984375 14.40625 \nQ 37.984375 18.0625 35.515625 20.015625 \nQ 33.0625 21.96875 24.703125 23.78125 \nL 21.578125 24.515625 \nQ 13.234375 26.265625 9.515625 29.90625 \nQ 5.8125 33.546875 5.8125 39.890625 \nQ 5.8125 47.609375 11.28125 51.796875 \nQ 16.75 56 26.8125 56 \nQ 31.78125 56 36.171875 55.265625 \nQ 40.578125 54.546875 44.28125 53.078125 \nz\n\" id=\"DejaVuSans-115\"/>\n     <path d=\"M 54.890625 33.015625 \nL 54.890625 0 \nL 45.90625 0 \nL 45.90625 32.71875 \nQ 45.90625 40.484375 42.875 44.328125 \nQ 39.84375 48.1875 33.796875 48.1875 \nQ 26.515625 48.1875 22.3125 43.546875 \nQ 18.109375 38.921875 18.109375 30.90625 \nL 18.109375 0 \nL 9.078125 0 \nL 9.078125 75.984375 \nL 18.109375 75.984375 \nL 18.109375 46.1875 \nQ 21.34375 51.125 25.703125 53.5625 \nQ 30.078125 56 35.796875 56 \nQ 45.21875 56 50.046875 50.171875 \nQ 54.890625 44.34375 54.890625 33.015625 \nz\n\" id=\"DejaVuSans-104\"/>\n     <path d=\"M 9.421875 54.6875 \nL 18.40625 54.6875 \nL 18.40625 0 \nL 9.421875 0 \nz\nM 9.421875 75.984375 \nL 18.40625 75.984375 \nL 18.40625 64.59375 \nL 9.421875 64.59375 \nz\n\" id=\"DejaVuSans-105\"/>\n     <path d=\"M 41.109375 46.296875 \nQ 39.59375 47.171875 37.8125 47.578125 \nQ 36.03125 48 33.890625 48 \nQ 26.265625 48 22.1875 43.046875 \nQ 18.109375 38.09375 18.109375 28.8125 \nL 18.109375 0 \nL 9.078125 0 \nL 9.078125 54.6875 \nL 18.109375 54.6875 \nL 18.109375 46.1875 \nQ 20.953125 51.171875 25.484375 53.578125 \nQ 30.03125 56 36.53125 56 \nQ 37.453125 56 38.578125 55.875 \nQ 39.703125 55.765625 41.0625 55.515625 \nz\n\" id=\"DejaVuSans-114\"/>\n    </defs>\n    <g transform=\"translate(24.354281 16.318125)scale(0.12 -0.12)\">\n     <use xlink:href=\"#DejaVuSans-116\"/>\n     <use x=\"39.208984\" xlink:href=\"#DejaVuSans-45\"/>\n     <use x=\"75.292969\" xlink:href=\"#DejaVuSans-115\"/>\n     <use x=\"127.392578\" xlink:href=\"#DejaVuSans-104\"/>\n     <use x=\"190.771484\" xlink:href=\"#DejaVuSans-105\"/>\n     <use x=\"218.554688\" xlink:href=\"#DejaVuSans-114\"/>\n     <use x=\"259.667969\" xlink:href=\"#DejaVuSans-116\"/>\n    </g>\n    <!-- t-shirt -->\n    <g transform=\"translate(24.354281 29.7555)scale(0.12 -0.12)\">\n     <use xlink:href=\"#DejaVuSans-116\"/>\n     <use x=\"39.208984\" xlink:href=\"#DejaVuSans-45\"/>\n     <use x=\"75.292969\" xlink:href=\"#DejaVuSans-115\"/>\n     <use x=\"127.392578\" xlink:href=\"#DejaVuSans-104\"/>\n     <use x=\"190.771484\" xlink:href=\"#DejaVuSans-105\"/>\n     <use x=\"218.554688\" xlink:href=\"#DejaVuSans-114\"/>\n     <use x=\"259.667969\" xlink:href=\"#DejaVuSans-116\"/>\n    </g>\n   </g>\n  </g>\n  <g id=\"axes_2\">\n   <g id=\"patch_7\">\n    <path d=\"M 86.503774 98.925311 \nL 149.673585 98.925311 \nL 149.673585 35.7555 \nL 86.503774 35.7555 \nz\n\" style=\"fill:#ffffff;\"/>\n   </g>\n   <g clip-path=\"url(#pf5a2b907b3)\">\n    <image height=\"64\" id=\"imagee445456435\" transform=\"scale(1 -1)translate(0 -64)\" width=\"64\" x=\"86.503774\" xlink:href=\"data:image/png;base64,\niVBORw0KGgoAAAANSUhEUgAAAEAAAABACAYAAACqaXHeAAAABHNCSVQICAgIfAhkiAAABYZJREFUeJztm02IHFUQx389PbMzs1/Z7OxOErNrdqO72ahEIUJUgkj8yCHBSBAjiAFRyMWzZw+eAkLwgxy8eRAEo5CDENFEQxC/FnTXRBPMt/vlbHZnd76np6c9VM97megp9AuE7rpMd9fr6uK9/6uqV1VjPWO96GGYKidGATg89pl6dvCn1wAYfXkKgPL+HYp35N33AZisjgDwxYEnAWhO/Rm4brHAJd5lFL8THzk0chqAoXhFPXtl6y8AfE8HAKWsXovN8QYAqfRFAD7avg+A/qngdQs9AkI/AXdkC2TsIgCzblI9m169x79aBKCZsBSv5DUBSFjyrDqgeUFThACTwu0t9wPQGftV7tEed67UC0C3j4BESfMc/3Le7QKg+EDNmI4RAkwKn92dBaADFwAXvZdnr2cAGOeS8JL8h5qerE886RrTMUKASeGrY7JydWwAnGaH4lnV9rmvZDU6mv5v1UsA4NZtYzqGHgGhnwCjWyAzugxoY+Z6er7Tc+2w7prRbrDkiVoto2nZTUxRhACTwg+O/gjAFWcAgD67rHiJYvvYzpx2dU1PVj7vB0LD65aN6RghwKTwfT1nAfg4/6g80F6QdK59X9tVfV/y3V+u0QNAb7IKgImAOPQICP0EGNkC9thmAObdnwFIWGLglhrdaszak/4ZwL9PFBuK14oAf8iLnAsLgwBsYj5wXSMEmBBa2iJu75OlxwHIJgoAPJy+psacWOhtV+TcVXV93ZGT4kJZjKBTN2erIwSYELqyWcTOVtYAGgEf/L3rplFzbe+4yzrYybudIqeSAsBb6sAURQgwIbS4SYKa1bqsYCrmAHD2wpAaM34LAhpPb1fX6+Ofy/sFQUKsZm6dQo+A0E+AkS3g9klQc6Msp7mlhvxuHZvRY255Z2VEG7pW4ORW/JxBt9zHUik1plmtBqJrhAATQmOrvth18mNbYhRzJR0K99/6jo6ElRtsUaJPzoHW0Ab98K/LwegaiJS7mMzEmH6Guz8tGaDZah8Ab08cV0PeY6LtlfoanRZvHYasuOQJM32SPrKcBkFT6BEQ+gkwsgUsR+C8ba24vem89AI8N1RSY47sfASA2BmpHFeyOi1u+7WheEoiyOGePADFrkzgukYIMCLU74Ua8HPfTlMCmg/z96kxV9+UVR49I/duSiOglT5PJsXoZZMiZzlzrxoT1MpFCDAh1K6IDWiFtDFLVnfR6VFjDm+XE99RpIvEzTiK1xmTwCceE5TMV/3MUK9W93/aCW6LIgSYENohCSDm6pIRWqnKIabiJtSYF7pkXx/17/sHCor3fJfYgLdqMv5GVQ5T9W5dUI0QEBCFfgKMbIHBSQl4zuyRwsbiol/jG9JneMcTA5l/VVLnvalZxat5YhD9PkmuXJXCyJATfGN7hAATQu3fpewVs2TlvLJ8pnhTL9xXFTFsg69fAWD34DnF+6Mu7q9WkiyRnZf3GzohFBhFCDAhtFkQl/ZEVlzdN3VxZ62ACOB0QfIBL62XAurN3SNfFrYB4DX8gGpV1qkwrL/RXli7fQo9AkI/AUZbZLptiemfHT4PwGJNJ0UH/BPeQkOixTlnreKtict22PWQ/Enqu/QYADUDNcIIASaF5+oSAO3svQDApDeieBs6JMuTsiToKTe1i2xlhCa6pX54YIe0271zcW/gOkYIMCn822NS8d37huT9JtK6ItwqlrTO/qdz44r3VL/YjH/q4uwuxeR/B0undGFkI1FhJBAyioBNn0pWePCQBEbTVd0fsL/nNwAmaxsBuLyqi2V7BgQVjifn/8fSElofP6a7xIL6D0noERD6CTC6BRqXpfXt6+KDAEwXNireqdwWAM7PSAl5sF+nxE4ubwVgpixB0lSXvNe8pvsLgqLQI+Bf9+yPmrpizKgAAAAASUVORK5CYII=\" y=\"-34.925311\"/>\n   </g>\n   <g id=\"patch_8\">\n    <path d=\"M 86.503774 98.925311 \nL 86.503774 35.7555 \n\" style=\"fill:none;stroke:#000000;stroke-linecap:square;stroke-linejoin:miter;stroke-width:0.8;\"/>\n   </g>\n   <g id=\"patch_9\">\n    <path d=\"M 149.673585 98.925311 \nL 149.673585 35.7555 \n\" style=\"fill:none;stroke:#000000;stroke-linecap:square;stroke-linejoin:miter;stroke-width:0.8;\"/>\n   </g>\n   <g id=\"patch_10\">\n    <path d=\"M 86.503774 98.925311 \nL 149.673585 98.925311 \n\" style=\"fill:none;stroke:#000000;stroke-linecap:square;stroke-linejoin:miter;stroke-width:0.8;\"/>\n   </g>\n   <g id=\"patch_11\">\n    <path d=\"M 86.503774 35.7555 \nL 149.673585 35.7555 \n\" style=\"fill:none;stroke:#000000;stroke-linecap:square;stroke-linejoin:miter;stroke-width:0.8;\"/>\n   </g>\n   <g id=\"text_2\">\n    <!-- trouser -->\n    <defs>\n     <path d=\"M 30.609375 48.390625 \nQ 23.390625 48.390625 19.1875 42.75 \nQ 14.984375 37.109375 14.984375 27.296875 \nQ 14.984375 17.484375 19.15625 11.84375 \nQ 23.34375 6.203125 30.609375 6.203125 \nQ 37.796875 6.203125 41.984375 11.859375 \nQ 46.1875 17.53125 46.1875 27.296875 \nQ 46.1875 37.015625 41.984375 42.703125 \nQ 37.796875 48.390625 30.609375 48.390625 \nz\nM 30.609375 56 \nQ 42.328125 56 49.015625 48.375 \nQ 55.71875 40.765625 55.71875 27.296875 \nQ 55.71875 13.875 49.015625 6.21875 \nQ 42.328125 -1.421875 30.609375 -1.421875 \nQ 18.84375 -1.421875 12.171875 6.21875 \nQ 5.515625 13.875 5.515625 27.296875 \nQ 5.515625 40.765625 12.171875 48.375 \nQ 18.84375 56 30.609375 56 \nz\n\" id=\"DejaVuSans-111\"/>\n     <path d=\"M 8.5 21.578125 \nL 8.5 54.6875 \nL 17.484375 54.6875 \nL 17.484375 21.921875 \nQ 17.484375 14.15625 20.5 10.265625 \nQ 23.53125 6.390625 29.59375 6.390625 \nQ 36.859375 6.390625 41.078125 11.03125 \nQ 45.3125 15.671875 45.3125 23.6875 \nL 45.3125 54.6875 \nL 54.296875 54.6875 \nL 54.296875 0 \nL 45.3125 0 \nL 45.3125 8.40625 \nQ 42.046875 3.421875 37.71875 1 \nQ 33.40625 -1.421875 27.6875 -1.421875 \nQ 18.265625 -1.421875 13.375 4.4375 \nQ 8.5 10.296875 8.5 21.578125 \nz\nM 31.109375 56 \nz\n\" id=\"DejaVuSans-117\"/>\n     <path d=\"M 56.203125 29.59375 \nL 56.203125 25.203125 \nL 14.890625 25.203125 \nQ 15.484375 15.921875 20.484375 11.0625 \nQ 25.484375 6.203125 34.421875 6.203125 \nQ 39.59375 6.203125 44.453125 7.46875 \nQ 49.3125 8.734375 54.109375 11.28125 \nL 54.109375 2.78125 \nQ 49.265625 0.734375 44.1875 -0.34375 \nQ 39.109375 -1.421875 33.890625 -1.421875 \nQ 20.796875 -1.421875 13.15625 6.1875 \nQ 5.515625 13.8125 5.515625 26.8125 \nQ 5.515625 40.234375 12.765625 48.109375 \nQ 20.015625 56 32.328125 56 \nQ 43.359375 56 49.78125 48.890625 \nQ 56.203125 41.796875 56.203125 29.59375 \nz\nM 47.21875 32.234375 \nQ 47.125 39.59375 43.09375 43.984375 \nQ 39.0625 48.390625 32.421875 48.390625 \nQ 24.90625 48.390625 20.390625 44.140625 \nQ 15.875 39.890625 15.1875 32.171875 \nz\n\" id=\"DejaVuSans-101\"/>\n    </defs>\n    <g transform=\"translate(96.513992 16.318125)scale(0.12 -0.12)\">\n     <use xlink:href=\"#DejaVuSans-116\"/>\n     <use x=\"39.208984\" xlink:href=\"#DejaVuSans-114\"/>\n     <use x=\"80.291016\" xlink:href=\"#DejaVuSans-111\"/>\n     <use x=\"141.472656\" xlink:href=\"#DejaVuSans-117\"/>\n     <use x=\"204.851562\" xlink:href=\"#DejaVuSans-115\"/>\n     <use x=\"256.951172\" xlink:href=\"#DejaVuSans-101\"/>\n     <use x=\"318.474609\" xlink:href=\"#DejaVuSans-114\"/>\n    </g>\n    <!-- trouser -->\n    <g transform=\"translate(96.513992 29.7555)scale(0.12 -0.12)\">\n     <use xlink:href=\"#DejaVuSans-116\"/>\n     <use x=\"39.208984\" xlink:href=\"#DejaVuSans-114\"/>\n     <use x=\"80.291016\" xlink:href=\"#DejaVuSans-111\"/>\n     <use x=\"141.472656\" xlink:href=\"#DejaVuSans-117\"/>\n     <use x=\"204.851562\" xlink:href=\"#DejaVuSans-115\"/>\n     <use x=\"256.951172\" xlink:href=\"#DejaVuSans-101\"/>\n     <use x=\"318.474609\" xlink:href=\"#DejaVuSans-114\"/>\n    </g>\n   </g>\n  </g>\n  <g id=\"axes_3\">\n   <g id=\"patch_12\">\n    <path d=\"M 162.307547 98.925311 \nL 225.477358 98.925311 \nL 225.477358 35.7555 \nL 162.307547 35.7555 \nz\n\" style=\"fill:#ffffff;\"/>\n   </g>\n   <g clip-path=\"url(#p29058ca086)\">\n    <image height=\"64\" id=\"imageef92b4ea7f\" transform=\"scale(1 -1)translate(0 -64)\" width=\"64\" x=\"162.307547\" xlink:href=\"data:image/png;base64,\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\" y=\"-34.925311\"/>\n   </g>\n   <g id=\"patch_13\">\n    <path d=\"M 162.307547 98.925311 \nL 162.307547 35.7555 \n\" style=\"fill:none;stroke:#000000;stroke-linecap:square;stroke-linejoin:miter;stroke-width:0.8;\"/>\n   </g>\n   <g id=\"patch_14\">\n    <path d=\"M 225.477358 98.925311 \nL 225.477358 35.7555 \n\" style=\"fill:none;stroke:#000000;stroke-linecap:square;stroke-linejoin:miter;stroke-width:0.8;\"/>\n   </g>\n   <g id=\"patch_15\">\n    <path d=\"M 162.307547 98.925311 \nL 225.477358 98.925311 \n\" style=\"fill:none;stroke:#000000;stroke-linecap:square;stroke-linejoin:miter;stroke-width:0.8;\"/>\n   </g>\n   <g id=\"patch_16\">\n    <path d=\"M 162.307547 35.7555 \nL 225.477358 35.7555 \n\" style=\"fill:none;stroke:#000000;stroke-linecap:square;stroke-linejoin:miter;stroke-width:0.8;\"/>\n   </g>\n   <g id=\"text_3\">\n    <!-- pullover -->\n    <defs>\n     <path d=\"M 18.109375 8.203125 \nL 18.109375 -20.796875 \nL 9.078125 -20.796875 \nL 9.078125 54.6875 \nL 18.109375 54.6875 \nL 18.109375 46.390625 \nQ 20.953125 51.265625 25.265625 53.625 \nQ 29.59375 56 35.59375 56 \nQ 45.5625 56 51.78125 48.09375 \nQ 58.015625 40.1875 58.015625 27.296875 \nQ 58.015625 14.40625 51.78125 6.484375 \nQ 45.5625 -1.421875 35.59375 -1.421875 \nQ 29.59375 -1.421875 25.265625 0.953125 \nQ 20.953125 3.328125 18.109375 8.203125 \nz\nM 48.6875 27.296875 \nQ 48.6875 37.203125 44.609375 42.84375 \nQ 40.53125 48.484375 33.40625 48.484375 \nQ 26.265625 48.484375 22.1875 42.84375 \nQ 18.109375 37.203125 18.109375 27.296875 \nQ 18.109375 17.390625 22.1875 11.75 \nQ 26.265625 6.109375 33.40625 6.109375 \nQ 40.53125 6.109375 44.609375 11.75 \nQ 48.6875 17.390625 48.6875 27.296875 \nz\n\" id=\"DejaVuSans-112\"/>\n     <path d=\"M 9.421875 75.984375 \nL 18.40625 75.984375 \nL 18.40625 0 \nL 9.421875 0 \nz\n\" id=\"DejaVuSans-108\"/>\n     <path d=\"M 2.984375 54.6875 \nL 12.5 54.6875 \nL 29.59375 8.796875 \nL 46.6875 54.6875 \nL 56.203125 54.6875 \nL 35.6875 0 \nL 23.484375 0 \nz\n\" id=\"DejaVuSans-118\"/>\n    </defs>\n    <g transform=\"translate(169.566203 16.318125)scale(0.12 -0.12)\">\n     <use xlink:href=\"#DejaVuSans-112\"/>\n     <use x=\"63.476562\" xlink:href=\"#DejaVuSans-117\"/>\n     <use x=\"126.855469\" xlink:href=\"#DejaVuSans-108\"/>\n     <use x=\"154.638672\" xlink:href=\"#DejaVuSans-108\"/>\n     <use x=\"182.421875\" xlink:href=\"#DejaVuSans-111\"/>\n     <use x=\"243.603516\" xlink:href=\"#DejaVuSans-118\"/>\n     <use x=\"302.783203\" xlink:href=\"#DejaVuSans-101\"/>\n     <use x=\"364.306641\" xlink:href=\"#DejaVuSans-114\"/>\n    </g>\n    <!-- pullover -->\n    <g transform=\"translate(169.566203 29.7555)scale(0.12 -0.12)\">\n     <use xlink:href=\"#DejaVuSans-112\"/>\n     <use x=\"63.476562\" xlink:href=\"#DejaVuSans-117\"/>\n     <use x=\"126.855469\" xlink:href=\"#DejaVuSans-108\"/>\n     <use x=\"154.638672\" xlink:href=\"#DejaVuSans-108\"/>\n     <use x=\"182.421875\" xlink:href=\"#DejaVuSans-111\"/>\n     <use x=\"243.603516\" xlink:href=\"#DejaVuSans-118\"/>\n     <use x=\"302.783203\" xlink:href=\"#DejaVuSans-101\"/>\n     <use x=\"364.306641\" xlink:href=\"#DejaVuSans-114\"/>\n    </g>\n   </g>\n  </g>\n  <g id=\"axes_4\">\n   <g id=\"patch_17\">\n    <path d=\"M 238.111321 98.925311 \nL 301.281132 98.925311 \nL 301.281132 35.7555 \nL 238.111321 35.7555 \nz\n\" style=\"fill:#ffffff;\"/>\n   </g>\n   <g clip-path=\"url(#pbb22168506)\">\n    <image height=\"64\" id=\"image2b76e5e7da\" transform=\"scale(1 -1)translate(0 -64)\" width=\"64\" x=\"238.111321\" xlink:href=\"data:image/png;base64,\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\" y=\"-34.925311\"/>\n   </g>\n   <g id=\"patch_18\">\n    <path d=\"M 238.111321 98.925311 \nL 238.111321 35.7555 \n\" style=\"fill:none;stroke:#000000;stroke-linecap:square;stroke-linejoin:miter;stroke-width:0.8;\"/>\n   </g>\n   <g id=\"patch_19\">\n    <path d=\"M 301.281132 98.925311 \nL 301.281132 35.7555 \n\" style=\"fill:none;stroke:#000000;stroke-linecap:square;stroke-linejoin:miter;stroke-width:0.8;\"/>\n   </g>\n   <g id=\"patch_20\">\n    <path d=\"M 238.111321 98.925311 \nL 301.281132 98.925311 \n\" style=\"fill:none;stroke:#000000;stroke-linecap:square;stroke-linejoin:miter;stroke-width:0.8;\"/>\n   </g>\n   <g id=\"patch_21\">\n    <path d=\"M 238.111321 35.7555 \nL 301.281132 35.7555 \n\" style=\"fill:none;stroke:#000000;stroke-linecap:square;stroke-linejoin:miter;stroke-width:0.8;\"/>\n   </g>\n   <g id=\"text_4\">\n    <!-- pullover -->\n    <g transform=\"translate(245.369976 16.318125)scale(0.12 -0.12)\">\n     <use xlink:href=\"#DejaVuSans-112\"/>\n     <use x=\"63.476562\" xlink:href=\"#DejaVuSans-117\"/>\n     <use x=\"126.855469\" xlink:href=\"#DejaVuSans-108\"/>\n     <use x=\"154.638672\" xlink:href=\"#DejaVuSans-108\"/>\n     <use x=\"182.421875\" xlink:href=\"#DejaVuSans-111\"/>\n     <use x=\"243.603516\" xlink:href=\"#DejaVuSans-118\"/>\n     <use x=\"302.783203\" xlink:href=\"#DejaVuSans-101\"/>\n     <use x=\"364.306641\" xlink:href=\"#DejaVuSans-114\"/>\n    </g>\n    <!-- t-shirt -->\n    <g transform=\"translate(251.765601 29.7555)scale(0.12 -0.12)\">\n     <use xlink:href=\"#DejaVuSans-116\"/>\n     <use x=\"39.208984\" xlink:href=\"#DejaVuSans-45\"/>\n     <use x=\"75.292969\" xlink:href=\"#DejaVuSans-115\"/>\n     <use x=\"127.392578\" xlink:href=\"#DejaVuSans-104\"/>\n     <use x=\"190.771484\" xlink:href=\"#DejaVuSans-105\"/>\n     <use x=\"218.554688\" xlink:href=\"#DejaVuSans-114\"/>\n     <use x=\"259.667969\" xlink:href=\"#DejaVuSans-116\"/>\n    </g>\n   </g>\n  </g>\n  <g id=\"axes_5\">\n   <g id=\"patch_22\">\n    <path d=\"M 313.915094 98.925311 \nL 377.084906 98.925311 \nL 377.084906 35.7555 \nL 313.915094 35.7555 \nz\n\" style=\"fill:#ffffff;\"/>\n   </g>\n   <g clip-path=\"url(#p5d8542b83b)\">\n    <image height=\"64\" id=\"image01f17f9ffb\" transform=\"scale(1 -1)translate(0 -64)\" width=\"64\" x=\"313.915094\" xlink:href=\"data:image/png;base64,\niVBORw0KGgoAAAANSUhEUgAAAEAAAABACAYAAACqaXHeAAAABHNCSVQICAgIfAhkiAAABV9JREFUeJztm0tMHVUYx38zl3sv5S0gL3tLaNFWK40m0tTCTl3YhIWxbXShq8adiy5I6sJg4kITFz5ifHSnCxcmGhMjvppoTYNog0oNC8W2IhRoFKE8Lpd778y4OHPOzHDvJZWZizEz34bh+7755uSc//le51ztQe24xU6RpjnPlv1ZPQbA6vFeJap5f9QjwzTKNiS9bJb/J1Sxo1+zSoPN0kqKykqhR0DoJ2Bnt0Axsh3cepOzFg3dXQAYv10VjDI6wwgB//UAJJkJ1z+a1yNqMYEAK0JA8FRWBGjJJADWxkbpAXR1AhDbcELk8qFbAai9Ng+AmU7bBoskUj4pQkA5jW+18ooyQmfpiKMb+1ogp1quvCTNtV5WMP4g9AgI/QT43wJbJClzH90JQG/bNAADTT8p2ZJRBcBEWji2wfovlCzbJ2w+Ez8FQPPZb30PsxSFHgFaOfsBR8ezAJxpHgfgSi6nZNW66dGdze9Sz3cnhN6pqWMALPb9Xa4hRgjw7QO2SnYaK9YAsIFA2qxRsmxe7POMFff8BajX58T7CREGF4t9OKACKfQICP0E+N4CxaCvxUVp9/QtUwB8kxHw1jXH8bXo6wAsmcL5ZQxnC2xYAt4nG78H4AUOFX44oMowQoBfA7ODRwHoeGlE8WK72z06GVOsbp2eUbw12+lV6QJBLW59Swxrf3zZa2fgsHqu/NO2NXrJx+gjBPhHwM+n3wCga99TinfgrVWPjllknnP2Ki8YIjRO55qU7GDyGgCNMW+ydP7ts843LjwBQOfJbQ8diBDgHwFjG9kCnrWppycLH7nfwYkITTGBlmqXrFITqXDadFLnzZSdq97miL0UegSEfgJ8b4G4DeVk47ri6WlvcmTY82xauuu9PADz+QYAVsxKJetJzgAwbZRen6rZYNYuQoBfAyk7VN3VNq9461MrRXXdqbAMg5IMFzoadOFYL2ZS9ouxAluxm+i33gxFCPBr4IdsLQBnUsOK92ym16MjQ51MiQESmihmau2iKGc5q9xsH4WNrHSLQbY6SZKigO4ThB4BoZ8A31tA5vIP7Cqsz99dbgbgWLXoC5xL71YymRXKMDiXbVCyx2pFE2z4q/sAaO331gQAZkBnWhEC/Bq4npMrd6NA9urLJwB4cuhNANbMpJI12o5xT3yhpO19g+JA5OqL9wNgWIVI8EsRAvwa+CXdJh7s/p+bWi94DzQM13zLHoGsFLeiiu7CxCq+Gt0PCIR8I+CTSz0AvH7bdw7zsOCx6s1X3cmOjAJ/2J2gSs3pK2ze630pcVts0XQKrpZR0S/0i4PQIyD0E+B7C1RP2vfbHnZ4l0+I5Kjz04RHN645yZKs/9sqlgCnNihGQ+2fAzCScZrn1o8T2x+0iyIE+DVQ93thcmLUiW7PXz1JDz9hd4HcFLN7BDKlBvg1J1Jhs/8eAGbyY4C3cRoUhR4Bvm+IxG7fC8Dw+Q8V74PVOo+O3Ofuww8ZBmVnyB0iN7fMO2IiERqaGVA6N/pLp9D/hkKPgNBPgG8naExeKeBJZyVPeCT03bVA2q4MJdzdIVK2zCc3RJ3RUSW2wMWJvUrnDqItEAgFdld4Lu+cCBuIJEeGNrm6Ok7IbNDFBagcwvnFcRCQtpKe99Q743GCpggBQRl6bv4h9fx8+zkAPlsTvwU4kBTX3lKu04wlU8x9rX1hMuE6UZ7Ni2FJXyDvDLW/56S/Qf12JEJAUIZmHnWSnNc+PgLAI/VjHp1XFvrV85fT+wFoqRG+o7/5spK1x0XilLL7hY+/cxqAPUvOPaSgKPQICP0ElPW2uHbvQWD7tXtFWysA+fnrgY1pM4UeAf8AnhWSYGBynd4AAAAASUVORK5CYII=\" y=\"-34.925311\"/>\n   </g>\n   <g id=\"patch_23\">\n    <path d=\"M 313.915094 98.925311 \nL 313.915094 35.7555 \n\" style=\"fill:none;stroke:#000000;stroke-linecap:square;stroke-linejoin:miter;stroke-width:0.8;\"/>\n   </g>\n   <g id=\"patch_24\">\n    <path d=\"M 377.084906 98.925311 \nL 377.084906 35.7555 \n\" style=\"fill:none;stroke:#000000;stroke-linecap:square;stroke-linejoin:miter;stroke-width:0.8;\"/>\n   </g>\n   <g id=\"patch_25\">\n    <path d=\"M 313.915094 98.925311 \nL 377.084906 98.925311 \n\" style=\"fill:none;stroke:#000000;stroke-linecap:square;stroke-linejoin:miter;stroke-width:0.8;\"/>\n   </g>\n   <g id=\"patch_26\">\n    <path d=\"M 313.915094 35.7555 \nL 377.084906 35.7555 \n\" style=\"fill:none;stroke:#000000;stroke-linecap:square;stroke-linejoin:miter;stroke-width:0.8;\"/>\n   </g>\n   <g id=\"text_5\">\n    <!-- dress -->\n    <defs>\n     <path d=\"M 45.40625 46.390625 \nL 45.40625 75.984375 \nL 54.390625 75.984375 \nL 54.390625 0 \nL 45.40625 0 \nL 45.40625 8.203125 \nQ 42.578125 3.328125 38.25 0.953125 \nQ 33.9375 -1.421875 27.875 -1.421875 \nQ 17.96875 -1.421875 11.734375 6.484375 \nQ 5.515625 14.40625 5.515625 27.296875 \nQ 5.515625 40.1875 11.734375 48.09375 \nQ 17.96875 56 27.875 56 \nQ 33.9375 56 38.25 53.625 \nQ 42.578125 51.265625 45.40625 46.390625 \nz\nM 14.796875 27.296875 \nQ 14.796875 17.390625 18.875 11.75 \nQ 22.953125 6.109375 30.078125 6.109375 \nQ 37.203125 6.109375 41.296875 11.75 \nQ 45.40625 17.390625 45.40625 27.296875 \nQ 45.40625 37.203125 41.296875 42.84375 \nQ 37.203125 48.484375 30.078125 48.484375 \nQ 22.953125 48.484375 18.875 42.84375 \nQ 14.796875 37.203125 14.796875 27.296875 \nz\n\" id=\"DejaVuSans-100\"/>\n    </defs>\n    <g transform=\"translate(329.283125 16.318125)scale(0.12 -0.12)\">\n     <use xlink:href=\"#DejaVuSans-100\"/>\n     <use x=\"63.476562\" xlink:href=\"#DejaVuSans-114\"/>\n     <use x=\"104.558594\" xlink:href=\"#DejaVuSans-101\"/>\n     <use x=\"166.082031\" xlink:href=\"#DejaVuSans-115\"/>\n     <use x=\"218.181641\" xlink:href=\"#DejaVuSans-115\"/>\n    </g>\n    <!-- coat -->\n    <defs>\n     <path d=\"M 48.78125 52.59375 \nL 48.78125 44.1875 \nQ 44.96875 46.296875 41.140625 47.34375 \nQ 37.3125 48.390625 33.40625 48.390625 \nQ 24.65625 48.390625 19.8125 42.84375 \nQ 14.984375 37.3125 14.984375 27.296875 \nQ 14.984375 17.28125 19.8125 11.734375 \nQ 24.65625 6.203125 33.40625 6.203125 \nQ 37.3125 6.203125 41.140625 7.25 \nQ 44.96875 8.296875 48.78125 10.40625 \nL 48.78125 2.09375 \nQ 45.015625 0.34375 40.984375 -0.53125 \nQ 36.96875 -1.421875 32.421875 -1.421875 \nQ 20.0625 -1.421875 12.78125 6.34375 \nQ 5.515625 14.109375 5.515625 27.296875 \nQ 5.515625 40.671875 12.859375 48.328125 \nQ 20.21875 56 33.015625 56 \nQ 37.15625 56 41.109375 55.140625 \nQ 45.0625 54.296875 48.78125 52.59375 \nz\n\" id=\"DejaVuSans-99\"/>\n     <path d=\"M 34.28125 27.484375 \nQ 23.390625 27.484375 19.1875 25 \nQ 14.984375 22.515625 14.984375 16.5 \nQ 14.984375 11.71875 18.140625 8.90625 \nQ 21.296875 6.109375 26.703125 6.109375 \nQ 34.1875 6.109375 38.703125 11.40625 \nQ 43.21875 16.703125 43.21875 25.484375 \nL 43.21875 27.484375 \nz\nM 52.203125 31.203125 \nL 52.203125 0 \nL 43.21875 0 \nL 43.21875 8.296875 \nQ 40.140625 3.328125 35.546875 0.953125 \nQ 30.953125 -1.421875 24.3125 -1.421875 \nQ 15.921875 -1.421875 10.953125 3.296875 \nQ 6 8.015625 6 15.921875 \nQ 6 25.140625 12.171875 29.828125 \nQ 18.359375 34.515625 30.609375 34.515625 \nL 43.21875 34.515625 \nL 43.21875 35.40625 \nQ 43.21875 41.609375 39.140625 45 \nQ 35.0625 48.390625 27.6875 48.390625 \nQ 23 48.390625 18.546875 47.265625 \nQ 14.109375 46.140625 10.015625 43.890625 \nL 10.015625 52.203125 \nQ 14.9375 54.109375 19.578125 55.046875 \nQ 24.21875 56 28.609375 56 \nQ 40.484375 56 46.34375 49.84375 \nQ 52.203125 43.703125 52.203125 31.203125 \nz\n\" id=\"DejaVuSans-97\"/>\n    </defs>\n    <g transform=\"translate(332.500625 29.7555)scale(0.12 -0.12)\">\n     <use xlink:href=\"#DejaVuSans-99\"/>\n     <use x=\"54.980469\" xlink:href=\"#DejaVuSans-111\"/>\n     <use x=\"116.162109\" xlink:href=\"#DejaVuSans-97\"/>\n     <use x=\"177.441406\" xlink:href=\"#DejaVuSans-116\"/>\n    </g>\n   </g>\n  </g>\n  <g id=\"axes_6\">\n   <g id=\"patch_27\">\n    <path d=\"M 389.718868 98.925311 \nL 452.888679 98.925311 \nL 452.888679 35.7555 \nL 389.718868 35.7555 \nz\n\" style=\"fill:#ffffff;\"/>\n   </g>\n   <g clip-path=\"url(#p120f27eda6)\">\n    <image height=\"64\" id=\"image962a789649\" transform=\"scale(1 -1)translate(0 -64)\" width=\"64\" x=\"389.718868\" xlink:href=\"data:image/png;base64,\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\" y=\"-34.925311\"/>\n   </g>\n   <g id=\"patch_28\">\n    <path d=\"M 389.718868 98.925311 \nL 389.718868 35.7555 \n\" style=\"fill:none;stroke:#000000;stroke-linecap:square;stroke-linejoin:miter;stroke-width:0.8;\"/>\n   </g>\n   <g id=\"patch_29\">\n    <path d=\"M 452.888679 98.925311 \nL 452.888679 35.7555 \n\" style=\"fill:none;stroke:#000000;stroke-linecap:square;stroke-linejoin:miter;stroke-width:0.8;\"/>\n   </g>\n   <g id=\"patch_30\">\n    <path d=\"M 389.718868 98.925311 \nL 452.888679 98.925311 \n\" style=\"fill:none;stroke:#000000;stroke-linecap:square;stroke-linejoin:miter;stroke-width:0.8;\"/>\n   </g>\n   <g id=\"patch_31\">\n    <path d=\"M 389.718868 35.7555 \nL 452.888679 35.7555 \n\" style=\"fill:none;stroke:#000000;stroke-linecap:square;stroke-linejoin:miter;stroke-width:0.8;\"/>\n   </g>\n   <g id=\"text_6\">\n    <!-- pullover -->\n    <g transform=\"translate(396.977524 16.318125)scale(0.12 -0.12)\">\n     <use xlink:href=\"#DejaVuSans-112\"/>\n     <use x=\"63.476562\" xlink:href=\"#DejaVuSans-117\"/>\n     <use x=\"126.855469\" xlink:href=\"#DejaVuSans-108\"/>\n     <use x=\"154.638672\" xlink:href=\"#DejaVuSans-108\"/>\n     <use x=\"182.421875\" xlink:href=\"#DejaVuSans-111\"/>\n     <use x=\"243.603516\" xlink:href=\"#DejaVuSans-118\"/>\n     <use x=\"302.783203\" xlink:href=\"#DejaVuSans-101\"/>\n     <use x=\"364.306641\" xlink:href=\"#DejaVuSans-114\"/>\n    </g>\n    <!-- shirt -->\n    <g transform=\"translate(407.890024 29.7555)scale(0.12 -0.12)\">\n     <use xlink:href=\"#DejaVuSans-115\"/>\n     <use x=\"52.099609\" xlink:href=\"#DejaVuSans-104\"/>\n     <use x=\"115.478516\" xlink:href=\"#DejaVuSans-105\"/>\n     <use x=\"143.261719\" xlink:href=\"#DejaVuSans-114\"/>\n     <use x=\"184.375\" xlink:href=\"#DejaVuSans-116\"/>\n    </g>\n   </g>\n  </g>\n  <g id=\"axes_7\">\n   <g id=\"patch_32\">\n    <path d=\"M 465.522642 98.925311 \nL 528.692453 98.925311 \nL 528.692453 35.7555 \nL 465.522642 35.7555 \nz\n\" style=\"fill:#ffffff;\"/>\n   </g>\n   <g clip-path=\"url(#p5a0e600014)\">\n    <image height=\"64\" id=\"image6bced9b97d\" transform=\"scale(1 -1)translate(0 -64)\" width=\"64\" x=\"465.522642\" xlink:href=\"data:image/png;base64,\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\" y=\"-34.925311\"/>\n   </g>\n   <g id=\"patch_33\">\n    <path d=\"M 465.522642 98.925311 \nL 465.522642 35.7555 \n\" style=\"fill:none;stroke:#000000;stroke-linecap:square;stroke-linejoin:miter;stroke-width:0.8;\"/>\n   </g>\n   <g id=\"patch_34\">\n    <path d=\"M 528.692453 98.925311 \nL 528.692453 35.7555 \n\" style=\"fill:none;stroke:#000000;stroke-linecap:square;stroke-linejoin:miter;stroke-width:0.8;\"/>\n   </g>\n   <g id=\"patch_35\">\n    <path d=\"M 465.522642 98.925311 \nL 528.692453 98.925311 \n\" style=\"fill:none;stroke:#000000;stroke-linecap:square;stroke-linejoin:miter;stroke-width:0.8;\"/>\n   </g>\n   <g id=\"patch_36\">\n    <path d=\"M 465.522642 35.7555 \nL 528.692453 35.7555 \n\" style=\"fill:none;stroke:#000000;stroke-linecap:square;stroke-linejoin:miter;stroke-width:0.8;\"/>\n   </g>\n   <g id=\"text_7\">\n    <!-- bag -->\n    <defs>\n     <path d=\"M 48.6875 27.296875 \nQ 48.6875 37.203125 44.609375 42.84375 \nQ 40.53125 48.484375 33.40625 48.484375 \nQ 26.265625 48.484375 22.1875 42.84375 \nQ 18.109375 37.203125 18.109375 27.296875 \nQ 18.109375 17.390625 22.1875 11.75 \nQ 26.265625 6.109375 33.40625 6.109375 \nQ 40.53125 6.109375 44.609375 11.75 \nQ 48.6875 17.390625 48.6875 27.296875 \nz\nM 18.109375 46.390625 \nQ 20.953125 51.265625 25.265625 53.625 \nQ 29.59375 56 35.59375 56 \nQ 45.5625 56 51.78125 48.09375 \nQ 58.015625 40.1875 58.015625 27.296875 \nQ 58.015625 14.40625 51.78125 6.484375 \nQ 45.5625 -1.421875 35.59375 -1.421875 \nQ 29.59375 -1.421875 25.265625 0.953125 \nQ 20.953125 3.328125 18.109375 8.203125 \nL 18.109375 0 \nL 9.078125 0 \nL 9.078125 75.984375 \nL 18.109375 75.984375 \nz\n\" id=\"DejaVuSans-98\"/>\n     <path d=\"M 45.40625 27.984375 \nQ 45.40625 37.75 41.375 43.109375 \nQ 37.359375 48.484375 30.078125 48.484375 \nQ 22.859375 48.484375 18.828125 43.109375 \nQ 14.796875 37.75 14.796875 27.984375 \nQ 14.796875 18.265625 18.828125 12.890625 \nQ 22.859375 7.515625 30.078125 7.515625 \nQ 37.359375 7.515625 41.375 12.890625 \nQ 45.40625 18.265625 45.40625 27.984375 \nz\nM 54.390625 6.78125 \nQ 54.390625 -7.171875 48.1875 -13.984375 \nQ 42 -20.796875 29.203125 -20.796875 \nQ 24.46875 -20.796875 20.265625 -20.09375 \nQ 16.0625 -19.390625 12.109375 -17.921875 \nL 12.109375 -9.1875 \nQ 16.0625 -11.328125 19.921875 -12.34375 \nQ 23.78125 -13.375 27.78125 -13.375 \nQ 36.625 -13.375 41.015625 -8.765625 \nQ 45.40625 -4.15625 45.40625 5.171875 \nL 45.40625 9.625 \nQ 42.625 4.78125 38.28125 2.390625 \nQ 33.9375 0 27.875 0 \nQ 17.828125 0 11.671875 7.65625 \nQ 5.515625 15.328125 5.515625 27.984375 \nQ 5.515625 40.671875 11.671875 48.328125 \nQ 17.828125 56 27.875 56 \nQ 33.9375 56 38.28125 53.609375 \nQ 42.625 51.21875 45.40625 46.390625 \nL 45.40625 54.6875 \nL 54.390625 54.6875 \nz\n\" id=\"DejaVuSans-103\"/>\n    </defs>\n    <g transform=\"translate(485.812547 16.318125)scale(0.12 -0.12)\">\n     <use xlink:href=\"#DejaVuSans-98\"/>\n     <use x=\"63.476562\" xlink:href=\"#DejaVuSans-97\"/>\n     <use x=\"124.755859\" xlink:href=\"#DejaVuSans-103\"/>\n    </g>\n    <!-- bag -->\n    <g transform=\"translate(485.812547 29.7555)scale(0.12 -0.12)\">\n     <use xlink:href=\"#DejaVuSans-98\"/>\n     <use x=\"63.476562\" xlink:href=\"#DejaVuSans-97\"/>\n     <use x=\"124.755859\" xlink:href=\"#DejaVuSans-103\"/>\n    </g>\n   </g>\n  </g>\n  <g id=\"axes_8\">\n   <g id=\"patch_37\">\n    <path d=\"M 541.326415 98.925311 \nL 604.496226 98.925311 \nL 604.496226 35.7555 \nL 541.326415 35.7555 \nz\n\" style=\"fill:#ffffff;\"/>\n   </g>\n   <g clip-path=\"url(#p7fa7262374)\">\n    <image height=\"64\" id=\"image20a31318e9\" transform=\"scale(1 -1)translate(0 -64)\" width=\"64\" x=\"541.326415\" xlink:href=\"data:image/png;base64,\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\" y=\"-34.925311\"/>\n   </g>\n   <g id=\"patch_38\">\n    <path d=\"M 541.326415 98.925311 \nL 541.326415 35.7555 \n\" style=\"fill:none;stroke:#000000;stroke-linecap:square;stroke-linejoin:miter;stroke-width:0.8;\"/>\n   </g>\n   <g id=\"patch_39\">\n    <path d=\"M 604.496226 98.925311 \nL 604.496226 35.7555 \n\" style=\"fill:none;stroke:#000000;stroke-linecap:square;stroke-linejoin:miter;stroke-width:0.8;\"/>\n   </g>\n   <g id=\"patch_40\">\n    <path d=\"M 541.326415 98.925311 \nL 604.496226 98.925311 \n\" style=\"fill:none;stroke:#000000;stroke-linecap:square;stroke-linejoin:miter;stroke-width:0.8;\"/>\n   </g>\n   <g id=\"patch_41\">\n    <path d=\"M 541.326415 35.7555 \nL 604.496226 35.7555 \n\" style=\"fill:none;stroke:#000000;stroke-linecap:square;stroke-linejoin:miter;stroke-width:0.8;\"/>\n   </g>\n   <g id=\"text_8\">\n    <!-- shirt -->\n    <g transform=\"translate(559.497571 16.318125)scale(0.12 -0.12)\">\n     <use xlink:href=\"#DejaVuSans-115\"/>\n     <use x=\"52.099609\" xlink:href=\"#DejaVuSans-104\"/>\n     <use x=\"115.478516\" xlink:href=\"#DejaVuSans-105\"/>\n     <use x=\"143.261719\" xlink:href=\"#DejaVuSans-114\"/>\n     <use x=\"184.375\" xlink:href=\"#DejaVuSans-116\"/>\n    </g>\n    <!-- shirt -->\n    <g transform=\"translate(559.497571 29.7555)scale(0.12 -0.12)\">\n     <use xlink:href=\"#DejaVuSans-115\"/>\n     <use x=\"52.099609\" xlink:href=\"#DejaVuSans-104\"/>\n     <use x=\"115.478516\" xlink:href=\"#DejaVuSans-105\"/>\n     <use x=\"143.261719\" xlink:href=\"#DejaVuSans-114\"/>\n     <use x=\"184.375\" xlink:href=\"#DejaVuSans-116\"/>\n    </g>\n   </g>\n  </g>\n  <g id=\"axes_9\">\n   <g id=\"patch_42\">\n    <path d=\"M 617.130189 98.925311 \nL 680.3 98.925311 \nL 680.3 35.7555 \nL 617.130189 35.7555 \nz\n\" style=\"fill:#ffffff;\"/>\n   </g>\n   <g clip-path=\"url(#pcbbcd33804)\">\n    <image height=\"64\" id=\"image1255203ffc\" transform=\"scale(1 -1)translate(0 -64)\" width=\"64\" x=\"617.130189\" xlink:href=\"data:image/png;base64,\niVBORw0KGgoAAAANSUhEUgAAAEAAAABACAYAAACqaXHeAAAABHNCSVQICAgIfAhkiAAABq5JREFUeJztm2lsFVUUx3/z3mt53UtbXmkhRShb2cEFUMAoRCBCiElJFIHEBQOGD4YYjQkhgiYoIYaED0ZiEI0xxohY4oJJVTC1VpaEpYgCVirQIlBaujxa3jJ+ODN3XjulfQVrgZnz5U3uOTNz557/Pds9T5ujFes4mDx9PYG+Jl9cQoPyAQgVDFBjwUF+AK4O8wLQUhBRvMyCBgAiUVlfrycKQNOJLCUzfMNRAKItLTc38w6k+axP0cNhmdvSaQAUrT4OQM20Jtt9jkeA4xdA4ebs2gfVYNaMCwDMzvsDgEDCMQDqwylKpshfA0Ca5xoANeH+ine6NRcAvycEwHOZBwEoH52vZCY9KfevfHo1AJ6yw7f2JV6vdW1sAX+dbMvpGX8CsNOTZ8lEhecioGH5dAAeXXRIDZ5qFGNXdqkQAI8mnnJK1lkl8+PVIgBqrqUDkJHYqnjPB/YBsPLIUgD2fPwwAOfnRpXM8qnlAAx4uxqAuodu7UP0UNg25r8QBCDF0waAL9cy4uFaQbmLgJyyWgD25t+rBq+ni8YjyfIb7SeaCxVa++yR3JMA/HR+GAATArWK923jRAD670gF4FqWrHN+qaZkPkJszvpZuwDYsLlY8QpfrpALzZDXu4/VtBgboJv7u01skBeZv56SZLvPRUC46gwAg9460720ZmmwpGQ8AC3NEhDlFVxVvENLxwKQVLkfgNTMDGFELU1mHhCv8V7BLABWzP1e8fauzRbxVsuudEt61Dak1TcC0KonAHB9sOWpvKf/AlwEuAvg0xISAdBD17sVrt01Wl03X0mWB/jF0HxVMl3xCirL290XabiKjRoFnolb7gcg452gYp3aLj6xcEn8wZEeidjHWsX9RXTRc1NBP8XLNH5dBHS2cngMl2K4E+9ICYhCISvj8iSI0clIFUOVtf6o/Tmm0dSMdY41VIZrS9xzAIBNjy9QrK3zPwRg3QvPAJCz7Zfuv0SL0aUu8440SFYa0uV7ggMtI+4iwCCfqeV21GEsclKSiYLF1pgZQqdc8NKRzNxcoauzd3QIcka9ekyxPpg0A4A5q0Tzx0oCMo9/LioZj1/cb5eu0nj2lbAEZME8u6t0PAIcvwBxlcQ6i8kzP7qxYTJLUrGRo12ofXwfDVpu8NKmcQCMfdPILz41pjnb2m4m9NV2C9uzQZPqQlLH8OTat4vjEaD1qCweo1EtUQIoDEPXlQZuls69JhnjvGLJDquDVlH12lMS1ITPne/2OQPKxekVplxSYxUTJT9wEXCzCLDl6F3x4nhmu3y+A5ourhYk3LfsiBpL90ktct+7UwHIfv/GNumJ30TzCZrljj8rGgi4COghAvqYojMnq+srr8iByorCnwEIRq1EZ9sXcwHwhARdE+b9DsDCHAtBn8yfKTK9ON87ghy/ALf3FuiqKGpkrNWvPwDAwgUVijU+Wcr3FU3DAahqkhLbrJzTSqZ0jeQbjkdAfKFwX5Gp+Q71idjrIevE/R3fah16fL5RSvxTi6oASPSKbBTLVV+YLkbTRUBfT+C/osglK8wd/LUc1mx+bDcAa/5eJDK6pe+2kRJIOR4Bjl+AO2ILaAlGzt9mL611VtYP+8XYDfZJKWygX0rwjWG/krknrw5wEXAbICCOE2C9ra29bCwvHLKN9T8s2j1xPdhuPNXXpq59mhRIXQT09QR6VDuIU1avlipRaYt0sVxuE1swIskqq9c0SmeLi4C+nkBcXSA96BSJpX5Gl1pzWMLe/IR6xYsclDqh4xHg+AXo3S0QD3Q745mFUp+Urq0T7E7aYEyZmEBIHzUUgGlJPwDwZXQSAAN9DUpmyBYpj7kI+F/e0lMjZsjF07XSmUzTiDQASpvHADAoWTpUln2zSsmMaPkVcBHQywjoQuOndkjVJhAQ7VyuT1O8SKPs65z9UgkK7JGWNjyWvvSg5PNaivQqnSseoniLn5W9b3aGJHkFJSNfstqBzZk5HgGOX4De3QKdFTMNGjdU4vW8JNkC9enJipdmZG3RyWI8U14UCJvngQDBqNQBonozAMvSrNa8cqMcPiZZ/pOw+7J0taaGq+xT7NEH3YXUy0bQHriYVHlUjFZlusTrGZlW7u7zyn3ZyXL+ZxYzU3yWy1uSJwchJ1vlXyAtMWeD2Qly3+WwGNbkjRn2CRiu2fEIuC2Pxsy/6TVPGQzA+HUStlY1ZyuZYalS9SnfPgWAQEWj4tW9IahaUVgGwM6igP0lLgKEbksE3Cp5c0XjU76TLrMDk+zNnC4CDHL8AtyVW6An5HgE/AvX4hV6w8cWQAAAAABJRU5ErkJggg==\" y=\"-34.925311\"/>\n   </g>\n   <g id=\"patch_43\">\n    <path d=\"M 617.130189 98.925311 \nL 617.130189 35.7555 \n\" style=\"fill:none;stroke:#000000;stroke-linecap:square;stroke-linejoin:miter;stroke-width:0.8;\"/>\n   </g>\n   <g id=\"patch_44\">\n    <path d=\"M 680.3 98.925311 \nL 680.3 35.7555 \n\" style=\"fill:none;stroke:#000000;stroke-linecap:square;stroke-linejoin:miter;stroke-width:0.8;\"/>\n   </g>\n   <g id=\"patch_45\">\n    <path d=\"M 617.130189 98.925311 \nL 680.3 98.925311 \n\" style=\"fill:none;stroke:#000000;stroke-linecap:square;stroke-linejoin:miter;stroke-width:0.8;\"/>\n   </g>\n   <g id=\"patch_46\">\n    <path d=\"M 617.130189 35.7555 \nL 680.3 35.7555 \n\" style=\"fill:none;stroke:#000000;stroke-linecap:square;stroke-linejoin:miter;stroke-width:0.8;\"/>\n   </g>\n   <g id=\"text_9\">\n    <!-- sandal -->\n    <defs>\n     <path d=\"M 54.890625 33.015625 \nL 54.890625 0 \nL 45.90625 0 \nL 45.90625 32.71875 \nQ 45.90625 40.484375 42.875 44.328125 \nQ 39.84375 48.1875 33.796875 48.1875 \nQ 26.515625 48.1875 22.3125 43.546875 \nQ 18.109375 38.921875 18.109375 30.90625 \nL 18.109375 0 \nL 9.078125 0 \nL 9.078125 54.6875 \nL 18.109375 54.6875 \nL 18.109375 46.1875 \nQ 21.34375 51.125 25.703125 53.5625 \nQ 30.078125 56 35.796875 56 \nQ 45.21875 56 50.046875 50.171875 \nQ 54.890625 44.34375 54.890625 33.015625 \nz\n\" id=\"DejaVuSans-110\"/>\n    </defs>\n    <g transform=\"translate(628.957282 16.318125)scale(0.12 -0.12)\">\n     <use xlink:href=\"#DejaVuSans-115\"/>\n     <use x=\"52.099609\" xlink:href=\"#DejaVuSans-97\"/>\n     <use x=\"113.378906\" xlink:href=\"#DejaVuSans-110\"/>\n     <use x=\"176.757812\" xlink:href=\"#DejaVuSans-100\"/>\n     <use x=\"240.234375\" xlink:href=\"#DejaVuSans-97\"/>\n     <use x=\"301.513672\" xlink:href=\"#DejaVuSans-108\"/>\n    </g>\n    <!-- sandal -->\n    <g transform=\"translate(628.957282 29.7555)scale(0.12 -0.12)\">\n     <use xlink:href=\"#DejaVuSans-115\"/>\n     <use x=\"52.099609\" xlink:href=\"#DejaVuSans-97\"/>\n     <use x=\"113.378906\" xlink:href=\"#DejaVuSans-110\"/>\n     <use x=\"176.757812\" xlink:href=\"#DejaVuSans-100\"/>\n     <use x=\"240.234375\" xlink:href=\"#DejaVuSans-97\"/>\n     <use x=\"301.513672\" xlink:href=\"#DejaVuSans-108\"/>\n    </g>\n   </g>\n  </g>\n </g>\n <defs>\n  <clipPath id=\"pebacde73ff\">\n   <rect height=\"63.169811\" width=\"63.169811\" x=\"10.7\" y=\"35.7555\"/>\n  </clipPath>\n  <clipPath id=\"pf5a2b907b3\">\n   <rect height=\"63.169811\" width=\"63.169811\" x=\"86.503774\" y=\"35.7555\"/>\n  </clipPath>\n  <clipPath id=\"p29058ca086\">\n   <rect height=\"63.169811\" width=\"63.169811\" x=\"162.307547\" y=\"35.7555\"/>\n  </clipPath>\n  <clipPath id=\"pbb22168506\">\n   <rect height=\"63.169811\" width=\"63.169811\" x=\"238.111321\" y=\"35.7555\"/>\n  </clipPath>\n  <clipPath id=\"p5d8542b83b\">\n   <rect height=\"63.169811\" width=\"63.169811\" x=\"313.915094\" y=\"35.7555\"/>\n  </clipPath>\n  <clipPath id=\"p120f27eda6\">\n   <rect height=\"63.169811\" width=\"63.169811\" x=\"389.718868\" y=\"35.7555\"/>\n  </clipPath>\n  <clipPath id=\"p5a0e600014\">\n   <rect height=\"63.169811\" width=\"63.169811\" x=\"465.522642\" y=\"35.7555\"/>\n  </clipPath>\n  <clipPath id=\"p7fa7262374\">\n   <rect height=\"63.169811\" width=\"63.169811\" x=\"541.326415\" y=\"35.7555\"/>\n  </clipPath>\n  <clipPath id=\"pcbbcd33804\">\n   <rect height=\"63.169811\" width=\"63.169811\" x=\"617.130189\" y=\"35.7555\"/>\n  </clipPath>\n </defs>\n</svg>\n"
          },
          "metadata": {
            "tags": []
          }
        }
      ]
    }
  ]
}