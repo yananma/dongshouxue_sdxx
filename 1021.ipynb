{
  "nbformat": 4,
  "nbformat_minor": 0,
  "metadata": {
    "colab": {
      "name": "1021.ipynb",
      "provenance": [],
      "include_colab_link": true
    },
    "kernelspec": {
      "name": "python3",
      "display_name": "Python 3"
    },
    "accelerator": "GPU"
  },
  "cells": [
    {
      "cell_type": "markdown",
      "metadata": {
        "id": "view-in-github",
        "colab_type": "text"
      },
      "source": [
        "<a href=\"https://colab.research.google.com/github/yananma/5_programs_per_day/blob/master/1021.ipynb\" target=\"_parent\"><img src=\"https://colab.research.google.com/assets/colab-badge.svg\" alt=\"Open In Colab\"/></a>"
      ]
    },
    {
      "cell_type": "markdown",
      "metadata": {
        "id": "FGJ-YXDKa1xn",
        "colab_type": "text"
      },
      "source": [
        "## 1、Linear Regression(1)"
      ]
    },
    {
      "cell_type": "code",
      "metadata": {
        "id": "n4Zp74z9bc_T",
        "colab_type": "code",
        "colab": {}
      },
      "source": [
        "import torch \n",
        "import torch.nn as nn \n",
        "import numpy as np \n",
        "import matplotlib.pyplot as plt \n",
        "%matplotlib inline "
      ],
      "execution_count": 0,
      "outputs": []
    },
    {
      "cell_type": "code",
      "metadata": {
        "id": "YanVxfaacFQH",
        "colab_type": "code",
        "colab": {}
      },
      "source": [
        "input_size = 1 \n",
        "output_size = 1 \n",
        "num_epochs = 3000 \n",
        "learning_rate = 0.001 "
      ],
      "execution_count": 0,
      "outputs": []
    },
    {
      "cell_type": "code",
      "metadata": {
        "id": "ix7guZgLdkMd",
        "colab_type": "code",
        "colab": {}
      },
      "source": [
        "x = np.random.rand(256)\n",
        "noise = np.random.randn(256) / 4 \n",
        "y = 5 * x + 7 + noise \n",
        "\n",
        "x_train = x.reshape(-1, 1).astype('float32')\n",
        "y_train = y.reshape(-1, 1).astype('float32')"
      ],
      "execution_count": 0,
      "outputs": []
    },
    {
      "cell_type": "code",
      "metadata": {
        "id": "5tI1IZj2d6jQ",
        "colab_type": "code",
        "colab": {}
      },
      "source": [
        "model = nn.Linear(input_size, output_size)"
      ],
      "execution_count": 0,
      "outputs": []
    },
    {
      "cell_type": "code",
      "metadata": {
        "id": "Qubzpyr5eB6R",
        "colab_type": "code",
        "colab": {}
      },
      "source": [
        "criterion = nn.MSELoss()\n",
        "optimizer = torch.optim.SGD(model.parameters(), lr=learning_rate)"
      ],
      "execution_count": 0,
      "outputs": []
    },
    {
      "cell_type": "code",
      "metadata": {
        "id": "eeJuZuTTeKUS",
        "colab_type": "code",
        "colab": {
          "base_uri": "https://localhost:8080/",
          "height": 280
        },
        "outputId": "0e3c04c9-dd23-4405-af48-893fdc3ee7d1"
      },
      "source": [
        "for epoch in range(num_epochs):\n",
        "    inputs = torch.from_numpy(x_train)\n",
        "    targets = torch.from_numpy(y_train)\n",
        "\n",
        "    outputs = model(inputs)\n",
        "    loss = criterion(outputs, targets)\n",
        "\n",
        "    optimizer.zero_grad()\n",
        "    loss.backward()\n",
        "    optimizer.step()\n",
        "\n",
        "    if (epoch+1) % 200 == 0:\n",
        "        print('Epoch [{}/{}], Loss: {:.4f}'.format(epoch+1, num_epochs, loss.item()))"
      ],
      "execution_count": 55,
      "outputs": [
        {
          "output_type": "stream",
          "text": [
            "Epoch [200/3000], Loss: 31.7279\n",
            "Epoch [400/3000], Loss: 11.2608\n",
            "Epoch [600/3000], Loss: 4.0279\n",
            "Epoch [800/3000], Loss: 1.4717\n",
            "Epoch [1000/3000], Loss: 0.5681\n",
            "Epoch [1200/3000], Loss: 0.2487\n",
            "Epoch [1400/3000], Loss: 0.1356\n",
            "Epoch [1600/3000], Loss: 0.0954\n",
            "Epoch [1800/3000], Loss: 0.0811\n",
            "Epoch [2000/3000], Loss: 0.0759\n",
            "Epoch [2200/3000], Loss: 0.0739\n",
            "Epoch [2400/3000], Loss: 0.0730\n",
            "Epoch [2600/3000], Loss: 0.0726\n",
            "Epoch [2800/3000], Loss: 0.0723\n",
            "Epoch [3000/3000], Loss: 0.0721\n"
          ],
          "name": "stdout"
        }
      ]
    },
    {
      "cell_type": "code",
      "metadata": {
        "id": "51uHvp_De5hx",
        "colab_type": "code",
        "colab": {
          "base_uri": "https://localhost:8080/",
          "height": 286
        },
        "outputId": "3c65fbbf-21eb-45e2-bb4a-4bae25b05cb1"
      },
      "source": [
        "predicted = model(torch.from_numpy(x_train)).detach().numpy()\n",
        "plt.plot(x_train, y_train, 'bo', label='Orignial data', alpha=0.3)\n",
        "plt.plot(x_train, predicted, label='Fitted line')\n",
        "plt.legend()\n",
        "# plt.show()"
      ],
      "execution_count": 26,
      "outputs": [
        {
          "output_type": "execute_result",
          "data": {
            "text/plain": [
              "<matplotlib.legend.Legend at 0x7f7c6aeadb70>"
            ]
          },
          "metadata": {
            "tags": []
          },
          "execution_count": 26
        },
        {
          "output_type": "display_data",
          "data": {
            "image/png": "[encoded data removed]",
            "text/plain": [
              "<Figure size 432x288 with 1 Axes>"
            ]
          },
          "metadata": {
            "tags": []
          }
        }
      ]
    },
    {
      "cell_type": "code",
      "metadata": {
        "id": "JE8PTd1wfc0V",
        "colab_type": "code",
        "colab": {}
      },
      "source": [
        "torch.save(model.state_dict(), 'model.ckpt')"
      ],
      "execution_count": 0,
      "outputs": []
    },
    {
      "cell_type": "markdown",
      "metadata": {
        "id": "tUFJhEJffvTA",
        "colab_type": "text"
      },
      "source": [
        "## 2、Linear Regression(2)"
      ]
    },
    {
      "cell_type": "code",
      "metadata": {
        "id": "PPNbOzm2f0X3",
        "colab_type": "code",
        "colab": {}
      },
      "source": [
        "import torch \n",
        "import torch.nn as nn \n",
        "import numpy as np \n",
        "import matplotlib.pyplot as plt \n",
        "%matplotlib inline "
      ],
      "execution_count": 0,
      "outputs": []
    },
    {
      "cell_type": "code",
      "metadata": {
        "id": "413093d8E5OI",
        "colab_type": "code",
        "colab": {}
      },
      "source": [
        "input_size = 1 \n",
        "output_size = 1 \n",
        "num_epochs = 3000 \n",
        "learning_rate = 0.001 "
      ],
      "execution_count": 0,
      "outputs": []
    },
    {
      "cell_type": "code",
      "metadata": {
        "id": "RWdvCpLNFOnE",
        "colab_type": "code",
        "colab": {}
      },
      "source": [
        "x = np.random.rand(256)\n",
        "noise = np.random.randn(256) / 4 \n",
        "y = 5 * x + 7 + noise\n",
        "\n",
        "x_train = x.reshape(-1, 1).astype('float32')\n",
        "y_train = y.reshape(-1, 1).astype('float32')"
      ],
      "execution_count": 0,
      "outputs": []
    },
    {
      "cell_type": "code",
      "metadata": {
        "id": "8wgTTXabFz52",
        "colab_type": "code",
        "colab": {}
      },
      "source": [
        "model = nn.Linear(input_size, output_size)"
      ],
      "execution_count": 0,
      "outputs": []
    },
    {
      "cell_type": "code",
      "metadata": {
        "id": "RC4aGFSCF8Dk",
        "colab_type": "code",
        "colab": {}
      },
      "source": [
        "criterion = nn.MSELoss()\n",
        "optimizer = torch.optim.SGD(model.parameters(), lr=learning_rate)"
      ],
      "execution_count": 0,
      "outputs": []
    },
    {
      "cell_type": "code",
      "metadata": {
        "id": "x4TazEtUGINu",
        "colab_type": "code",
        "colab": {
          "base_uri": "https://localhost:8080/",
          "height": 544
        },
        "outputId": "5236d1a2-f90c-499a-ea38-087dd065f740"
      },
      "source": [
        "for epoch in range(num_epochs):\n",
        "    inputs = torch.from_numpy(x_train)\n",
        "    targets = torch.from_numpy(y_train)\n",
        "\n",
        "    outputs = model(inputs)\n",
        "    loss = criterion(outputs, targets)\n",
        "\n",
        "    optimizer.zero_grad()\n",
        "    loss.backward()\n",
        "    optimizer.step()\n",
        "\n",
        "    if (epoch+1) % 100 == 0:\n",
        "        print('Epoch [{}/{}], Loss: {:.4f}'.format(epoch+1, num_epochs, loss.item()))"
      ],
      "execution_count": 7,
      "outputs": [
        {
          "output_type": "stream",
          "text": [
            "Epoch [100/3000], Loss: 69.6482\n",
            "Epoch [200/3000], Loss: 42.2638\n",
            "Epoch [300/3000], Loss: 25.6701\n",
            "Epoch [400/3000], Loss: 15.6147\n",
            "Epoch [500/3000], Loss: 9.5209\n",
            "Epoch [600/3000], Loss: 5.8276\n",
            "Epoch [700/3000], Loss: 3.5889\n",
            "Epoch [800/3000], Loss: 2.2314\n",
            "Epoch [900/3000], Loss: 1.4081\n",
            "Epoch [1000/3000], Loss: 0.9083\n",
            "Epoch [1100/3000], Loss: 0.6047\n",
            "Epoch [1200/3000], Loss: 0.4199\n",
            "Epoch [1300/3000], Loss: 0.3071\n",
            "Epoch [1400/3000], Loss: 0.2380\n",
            "Epoch [1500/3000], Loss: 0.1954\n",
            "Epoch [1600/3000], Loss: 0.1688\n",
            "Epoch [1700/3000], Loss: 0.1520\n",
            "Epoch [1800/3000], Loss: 0.1412\n",
            "Epoch [1900/3000], Loss: 0.1339\n",
            "Epoch [2000/3000], Loss: 0.1288\n",
            "Epoch [2100/3000], Loss: 0.1251\n",
            "Epoch [2200/3000], Loss: 0.1223\n",
            "Epoch [2300/3000], Loss: 0.1199\n",
            "Epoch [2400/3000], Loss: 0.1179\n",
            "Epoch [2500/3000], Loss: 0.1161\n",
            "Epoch [2600/3000], Loss: 0.1145\n",
            "Epoch [2700/3000], Loss: 0.1130\n",
            "Epoch [2800/3000], Loss: 0.1115\n",
            "Epoch [2900/3000], Loss: 0.1101\n",
            "Epoch [3000/3000], Loss: 0.1088\n"
          ],
          "name": "stdout"
        }
      ]
    },
    {
      "cell_type": "code",
      "metadata": {
        "id": "SHb_81KSG3-W",
        "colab_type": "code",
        "colab": {
          "base_uri": "https://localhost:8080/",
          "height": 286
        },
        "outputId": "cbf83876-6da3-4722-b0b2-259a22b723ec"
      },
      "source": [
        "predicted = model(torch.from_numpy(x_train)).detach().numpy()\n",
        "plt.plot(x_train, y_train, 'bo', label='Original data', alpha=0.3)\n",
        "plt.plot(x_train, predicted, label='Fitted line')\n",
        "plt.legend()\n",
        "plt.plot()"
      ],
      "execution_count": 8,
      "outputs": [
        {
          "output_type": "execute_result",
          "data": {
            "text/plain": [
              "[]"
            ]
          },
          "metadata": {
            "tags": []
          },
          "execution_count": 8
        },
        {
          "output_type": "display_data",
          "data": {
            "image/png": "[encoded data removed]",
            "text/plain": [
              "<Figure size 432x288 with 1 Axes>"
            ]
          },
          "metadata": {
            "tags": []
          }
        }
      ]
    },
    {
      "cell_type": "markdown",
      "metadata": {
        "id": "wZP7fSxTHgMm",
        "colab_type": "text"
      },
      "source": [
        "## 3、Linear Regression(3)"
      ]
    },
    {
      "cell_type": "code",
      "metadata": {
        "id": "LW7Fe2ZsHpu8",
        "colab_type": "code",
        "colab": {}
      },
      "source": [
        "import torch \n",
        "import torch.nn as nn \n",
        "import numpy as np \n",
        "import matplotlib.pyplot as plt \n",
        "%matplotlib inline "
      ],
      "execution_count": 0,
      "outputs": []
    },
    {
      "cell_type": "code",
      "metadata": {
        "id": "tBbaUDbGH20r",
        "colab_type": "code",
        "colab": {}
      },
      "source": [
        "input_size = 1 \n",
        "output_size = 1 \n",
        "num_epochs = 3000 \n",
        "learning_rate = 0.01 "
      ],
      "execution_count": 0,
      "outputs": []
    },
    {
      "cell_type": "code",
      "metadata": {
        "id": "O-K65xpkIH4E",
        "colab_type": "code",
        "colab": {}
      },
      "source": [
        "x = np.random.rand(256)\n",
        "noise = np.random.randn(256) / 4 \n",
        "y = 5 * x + 7 + noise \n",
        "\n",
        "x_train = x.reshape(-1, 1).astype('float32')\n",
        "y_train = y.reshape(-1, 1).astype('float32')"
      ],
      "execution_count": 0,
      "outputs": []
    },
    {
      "cell_type": "code",
      "metadata": {
        "id": "0BXqeqn3Io4d",
        "colab_type": "code",
        "colab": {}
      },
      "source": [
        "model = nn.Linear(input_size, output_size)"
      ],
      "execution_count": 0,
      "outputs": []
    },
    {
      "cell_type": "code",
      "metadata": {
        "id": "2tW8WPq1Iubf",
        "colab_type": "code",
        "colab": {}
      },
      "source": [
        "criterion = nn.MSELoss()\n",
        "optimizer = torch.optim.SGD(model.parameters(), lr=learning_rate)"
      ],
      "execution_count": 0,
      "outputs": []
    },
    {
      "cell_type": "code",
      "metadata": {
        "id": "Q5wcxWvDJKb9",
        "colab_type": "code",
        "colab": {
          "base_uri": "https://localhost:8080/",
          "height": 544
        },
        "outputId": "48c24593-100a-4b47-c525-a0194c85831e"
      },
      "source": [
        "for epoch in range(num_epochs):\n",
        "    inputs = torch.from_numpy(x_train)\n",
        "    targets = torch.from_numpy(y_train)\n",
        "\n",
        "    outputs = model(inputs)\n",
        "    loss = criterion(outputs, targets)\n",
        "\n",
        "    optimizer.zero_grad()\n",
        "    loss.backward()\n",
        "    optimizer.step()\n",
        "\n",
        "    if (epoch+1) % 100 == 0:\n",
        "        print('Epoch [{}/{}], Loss: {:.4f}'.format(epoch+1, num_epochs, loss.item()))        "
      ],
      "execution_count": 17,
      "outputs": [
        {
          "output_type": "stream",
          "text": [
            "Epoch [100/3000], Loss: 0.1034\n",
            "Epoch [200/3000], Loss: 0.0953\n",
            "Epoch [300/3000], Loss: 0.0888\n",
            "Epoch [400/3000], Loss: 0.0837\n",
            "Epoch [500/3000], Loss: 0.0796\n",
            "Epoch [600/3000], Loss: 0.0764\n",
            "Epoch [700/3000], Loss: 0.0738\n",
            "Epoch [800/3000], Loss: 0.0717\n",
            "Epoch [900/3000], Loss: 0.0701\n",
            "Epoch [1000/3000], Loss: 0.0688\n",
            "Epoch [1100/3000], Loss: 0.0678\n",
            "Epoch [1200/3000], Loss: 0.0669\n",
            "Epoch [1300/3000], Loss: 0.0663\n",
            "Epoch [1400/3000], Loss: 0.0658\n",
            "Epoch [1500/3000], Loss: 0.0654\n",
            "Epoch [1600/3000], Loss: 0.0650\n",
            "Epoch [1700/3000], Loss: 0.0648\n",
            "Epoch [1800/3000], Loss: 0.0646\n",
            "Epoch [1900/3000], Loss: 0.0644\n",
            "Epoch [2000/3000], Loss: 0.0643\n",
            "Epoch [2100/3000], Loss: 0.0642\n",
            "Epoch [2200/3000], Loss: 0.0641\n",
            "Epoch [2300/3000], Loss: 0.0640\n",
            "Epoch [2400/3000], Loss: 0.0640\n",
            "Epoch [2500/3000], Loss: 0.0639\n",
            "Epoch [2600/3000], Loss: 0.0639\n",
            "Epoch [2700/3000], Loss: 0.0639\n",
            "Epoch [2800/3000], Loss: 0.0638\n",
            "Epoch [2900/3000], Loss: 0.0638\n",
            "Epoch [3000/3000], Loss: 0.0638\n"
          ],
          "name": "stdout"
        }
      ]
    },
    {
      "cell_type": "code",
      "metadata": {
        "id": "8gVMlrWzKnnw",
        "colab_type": "code",
        "colab": {
          "base_uri": "https://localhost:8080/",
          "height": 286
        },
        "outputId": "ec9e179d-ea07-407b-9d5f-493819157fc7"
      },
      "source": [
        "predicted = model(torch.from_numpy(x_train)).detach().numpy()\n",
        "plt.plot(x_train, y_train, 'bo', label='Original data', alpha=0.3)\n",
        "plt.plot(x_train, predicted, label='Fitted line')\n",
        "plt.legend()\n",
        "plt.plot()"
      ],
      "execution_count": 18,
      "outputs": [
        {
          "output_type": "execute_result",
          "data": {
            "text/plain": [
              "[]"
            ]
          },
          "metadata": {
            "tags": []
          },
          "execution_count": 18
        },
        {
          "output_type": "display_data",
          "data": {
            "image/png": "[encoded data removed]",
            "text/plain": [
              "<Figure size 432x288 with 1 Axes>"
            ]
          },
          "metadata": {
            "tags": []
          }
        }
      ]
    },
    {
      "cell_type": "markdown",
      "metadata": {
        "id": "HVWC-cXZL-_W",
        "colab_type": "text"
      },
      "source": [
        "## 4、Linear Regression(4)"
      ]
    },
    {
      "cell_type": "code",
      "metadata": {
        "id": "gCVU6pJ8ajGd",
        "colab_type": "code",
        "colab": {}
      },
      "source": [
        "import torch \n",
        "import torch.nn as nn \n",
        "import numpy as np \n",
        "import matplotlib.pyplot as plt \n",
        "%matplotlib inline "
      ],
      "execution_count": 0,
      "outputs": []
    },
    {
      "cell_type": "code",
      "metadata": {
        "id": "xn5r3R7Qa7UK",
        "colab_type": "code",
        "colab": {}
      },
      "source": [
        "input_size = 1 \n",
        "output_size = 1 \n",
        "num_epochs = 3000 \n",
        "learning_rate = 0.001 "
      ],
      "execution_count": 0,
      "outputs": []
    },
    {
      "cell_type": "code",
      "metadata": {
        "id": "zsNS8JA4bdFF",
        "colab_type": "code",
        "colab": {}
      },
      "source": [
        "x = np.random.rand(256)\n",
        "noise = np.random.randn(256) / 4 \n",
        "y = 5 * x + 7 + noise \n",
        "\n",
        "x_train = x.reshape(-1, 1).astype('float32')\n",
        "y_train = y.reshape(-1, 1).astype('float32')"
      ],
      "execution_count": 0,
      "outputs": []
    },
    {
      "cell_type": "code",
      "metadata": {
        "id": "3GN_njFiby1Y",
        "colab_type": "code",
        "colab": {}
      },
      "source": [
        "model = nn.Linear(input_size, output_size)"
      ],
      "execution_count": 0,
      "outputs": []
    },
    {
      "cell_type": "code",
      "metadata": {
        "id": "yzCWJkdccAXM",
        "colab_type": "code",
        "colab": {}
      },
      "source": [
        "criterion = nn.MSELoss()\n",
        "optimizer = torch.optim.SGD(model.parameters(), lr=learning_rate)"
      ],
      "execution_count": 0,
      "outputs": []
    },
    {
      "cell_type": "code",
      "metadata": {
        "id": "TGfU-4h8cNjS",
        "colab_type": "code",
        "colab": {
          "base_uri": "https://localhost:8080/",
          "height": 280
        },
        "outputId": "18f277a5-fcb1-4e93-aee4-f4249891d835"
      },
      "source": [
        "for epoch in range(num_epochs):\n",
        "    inputs = torch.from_numpy(x_train)\n",
        "    targets = torch.from_numpy(y_train)\n",
        "\n",
        "    outputs = model(inputs)\n",
        "    loss = criterion(outputs, targets)\n",
        "\n",
        "    optimizer.zero_grad()\n",
        "    loss.backward()\n",
        "    optimizer.step()\n",
        "\n",
        "    if (epoch+1) % 200 == 0:\n",
        "        print('Epoch [{}/{}], Loss: {:.4f}'.format(epoch+1, num_epochs, loss.item()))"
      ],
      "execution_count": 63,
      "outputs": [
        {
          "output_type": "stream",
          "text": [
            "Epoch [200/3000], Loss: 0.1010\n",
            "Epoch [400/3000], Loss: 0.0990\n",
            "Epoch [600/3000], Loss: 0.0971\n",
            "Epoch [800/3000], Loss: 0.0953\n",
            "Epoch [1000/3000], Loss: 0.0935\n",
            "Epoch [1200/3000], Loss: 0.0919\n",
            "Epoch [1400/3000], Loss: 0.0903\n",
            "Epoch [1600/3000], Loss: 0.0888\n",
            "Epoch [1800/3000], Loss: 0.0874\n",
            "Epoch [2000/3000], Loss: 0.0860\n",
            "Epoch [2200/3000], Loss: 0.0847\n",
            "Epoch [2400/3000], Loss: 0.0834\n",
            "Epoch [2600/3000], Loss: 0.0823\n",
            "Epoch [2800/3000], Loss: 0.0811\n",
            "Epoch [3000/3000], Loss: 0.0800\n"
          ],
          "name": "stdout"
        }
      ]
    },
    {
      "cell_type": "code",
      "metadata": {
        "id": "rdXG9hBod0Ez",
        "colab_type": "code",
        "colab": {
          "base_uri": "https://localhost:8080/",
          "height": 34
        },
        "outputId": "9bb7702d-b5ab-4fde-bda5-b2cc5cce260b"
      },
      "source": [
        "[w, b] = model.parameters()\n",
        "print(w.item(), b.item())"
      ],
      "execution_count": 64,
      "outputs": [
        {
          "output_type": "stream",
          "text": [
            "4.524659156799316 7.253968715667725\n"
          ],
          "name": "stdout"
        }
      ]
    },
    {
      "cell_type": "code",
      "metadata": {
        "id": "d_hgXJ9leIY8",
        "colab_type": "code",
        "colab": {
          "base_uri": "https://localhost:8080/",
          "height": 269
        },
        "outputId": "2eb2a266-5d3b-4002-ad2a-c74a1a44b698"
      },
      "source": [
        "predicted = model(torch.from_numpy(x_train)).detach().numpy()\n",
        "plt.plot(x_train, y_train, 'bo', label='Original data', alpha=0.3)\n",
        "plt.plot(x_train, predicted, label='Fitted line')\n",
        "plt.legend()\n",
        "plt.show()"
      ],
      "execution_count": 65,
      "outputs": [
        {
          "output_type": "display_data",
          "data": {
            "image/png": "[encoded data removed]",
            "text/plain": [
              "<Figure size 432x288 with 1 Axes>"
            ]
          },
          "metadata": {
            "tags": []
          }
        }
      ]
    },
    {
      "cell_type": "markdown",
      "metadata": {
        "id": "wYRg5OHTgVhC",
        "colab_type": "text"
      },
      "source": [
        "## 5、Linear Regression(5)"
      ]
    },
    {
      "cell_type": "code",
      "metadata": {
        "id": "zB8e1gHzgev6",
        "colab_type": "code",
        "colab": {}
      },
      "source": [
        "import torch \n",
        "import torch.nn as nn \n",
        "import numpy as np \n",
        "import matplotlib.pyplot as plt \n",
        "%matplotlib inline "
      ],
      "execution_count": 0,
      "outputs": []
    },
    {
      "cell_type": "code",
      "metadata": {
        "id": "YXTN-G1xgrGz",
        "colab_type": "code",
        "colab": {}
      },
      "source": [
        "input_size = 1 \n",
        "output_size = 1 \n",
        "num_epochs = 3000 \n",
        "learning_rate = 0.001 "
      ],
      "execution_count": 0,
      "outputs": []
    },
    {
      "cell_type": "code",
      "metadata": {
        "id": "DVd-2ycpgyxa",
        "colab_type": "code",
        "colab": {}
      },
      "source": [
        "x = np.random.rand(256)\n",
        "noise = np.random.randn(256) / 4 \n",
        "y = 5 * x + 7 + noise \n",
        "\n",
        "x_train = x.reshape(-1, 1).astype('float32')\n",
        "y_train = y.reshape(-1, 1).astype('float32')"
      ],
      "execution_count": 0,
      "outputs": []
    },
    {
      "cell_type": "code",
      "metadata": {
        "id": "apo8A3smhIIz",
        "colab_type": "code",
        "colab": {}
      },
      "source": [
        "model = nn.Linear(input_size, output_size)"
      ],
      "execution_count": 0,
      "outputs": []
    },
    {
      "cell_type": "code",
      "metadata": {
        "id": "dhoHGtsyhNYL",
        "colab_type": "code",
        "colab": {}
      },
      "source": [
        "criterion = nn.MSELoss()\n",
        "optimizer = torch.optim.SGD(model.parameters(), lr=learning_rate)"
      ],
      "execution_count": 0,
      "outputs": []
    },
    {
      "cell_type": "code",
      "metadata": {
        "id": "NKFKXlw3hXPN",
        "colab_type": "code",
        "colab": {
          "base_uri": "https://localhost:8080/",
          "height": 280
        },
        "outputId": "7a64d5f6-4844-41d8-e958-322626b026b0"
      },
      "source": [
        "for epoch in range(num_epochs):\n",
        "    inputs = torch.from_numpy(x_train)\n",
        "    targets = torch.from_numpy(y_train)\n",
        "\n",
        "    outputs = model(inputs)\n",
        "    loss = criterion(outputs, targets)\n",
        "\n",
        "    optimizer.zero_grad()\n",
        "    loss.backward()\n",
        "    optimizer.step()\n",
        "\n",
        "    if (epoch+1) % 200 == 0:\n",
        "        print('Epoch [{}/{}], Loss: {:.4f}'.format(epoch+1, num_epochs, loss.item()))"
      ],
      "execution_count": 74,
      "outputs": [
        {
          "output_type": "stream",
          "text": [
            "Epoch [200/3000], Loss: 0.0929\n",
            "Epoch [400/3000], Loss: 0.0920\n",
            "Epoch [600/3000], Loss: 0.0911\n",
            "Epoch [800/3000], Loss: 0.0903\n",
            "Epoch [1000/3000], Loss: 0.0895\n",
            "Epoch [1200/3000], Loss: 0.0887\n",
            "Epoch [1400/3000], Loss: 0.0880\n",
            "Epoch [1600/3000], Loss: 0.0873\n",
            "Epoch [1800/3000], Loss: 0.0867\n",
            "Epoch [2000/3000], Loss: 0.0861\n",
            "Epoch [2200/3000], Loss: 0.0855\n",
            "Epoch [2400/3000], Loss: 0.0850\n",
            "Epoch [2600/3000], Loss: 0.0844\n",
            "Epoch [2800/3000], Loss: 0.0839\n",
            "Epoch [3000/3000], Loss: 0.0835\n"
          ],
          "name": "stdout"
        }
      ]
    },
    {
      "cell_type": "code",
      "metadata": {
        "id": "25WNx5BOikJN",
        "colab_type": "code",
        "colab": {
          "base_uri": "https://localhost:8080/",
          "height": 34
        },
        "outputId": "63c3e4e0-a962-407f-a58f-21cfa663f429"
      },
      "source": [
        "[w, b] = model.parameters()\n",
        "print(w.item(), b.item())"
      ],
      "execution_count": 75,
      "outputs": [
        {
          "output_type": "stream",
          "text": [
            "4.710653305053711 7.150494575500488\n"
          ],
          "name": "stdout"
        }
      ]
    },
    {
      "cell_type": "code",
      "metadata": {
        "id": "0jbZQjY4izwR",
        "colab_type": "code",
        "colab": {
          "base_uri": "https://localhost:8080/",
          "height": 269
        },
        "outputId": "8fce35bf-82af-4869-9680-c149754347f6"
      },
      "source": [
        "predicted = model(torch.from_numpy(x_train)).detach().numpy()\n",
        "plt.plot(x_train, y_train, 'bo', label='Original data', alpha=0.3)\n",
        "plt.plot(x_train, predicted, label='Fitted line')\n",
        "plt.legend()\n",
        "plt.show()"
      ],
      "execution_count": 76,
      "outputs": [
        {
          "output_type": "display_data",
          "data": {
            "image/png": "[encoded data removed]",
            "text/plain": [
              "<Figure size 432x288 with 1 Axes>"
            ]
          },
          "metadata": {
            "tags": []
          }
        }
      ]
    },
    {
      "cell_type": "code",
      "metadata": {
        "id": "N1pE2sKVjJ_-",
        "colab_type": "code",
        "colab": {}
      },
      "source": [
        ""
      ],
      "execution_count": 0,
      "outputs": []
    }
  ]
}