{
  "nbformat": 4,
  "nbformat_minor": 0,
  "metadata": {
    "colab": {
      "name": "0507.ipynb",
      "provenance": [],
      "collapsed_sections": [],
      "include_colab_link": true
    },
    "kernelspec": {
      "name": "python3",
      "display_name": "Python 3"
    },
    "accelerator": "GPU"
  },
  "cells": [
    {
      "cell_type": "markdown",
      "metadata": {
        "id": "view-in-github",
        "colab_type": "text"
      },
      "source": [
        "<a href=\"https://colab.research.google.com/github/yananma/5_programs_per_day/blob/master/0507.ipynb\" target=\"_parent\"><img src=\"https://colab.research.google.com/assets/colab-badge.svg\" alt=\"Open In Colab\"/></a>"
      ]
    },
    {
      "cell_type": "markdown",
      "metadata": {
        "id": "bstcfWJ8BX6R",
        "colab_type": "text"
      },
      "source": [
        "## softmax 回归"
      ]
    },
    {
      "cell_type": "code",
      "metadata": {
        "id": "cMt7nrLvlSgE",
        "colab_type": "code",
        "colab": {}
      },
      "source": [
        "# pip install mxnet d2lzh "
      ],
      "execution_count": 0,
      "outputs": []
    },
    {
      "cell_type": "code",
      "metadata": {
        "id": "qe7N9pyYlWxW",
        "colab_type": "code",
        "colab": {}
      },
      "source": [
        "import mxnet \n",
        "from mxnet import nd "
      ],
      "execution_count": 0,
      "outputs": []
    },
    {
      "cell_type": "code",
      "metadata": {
        "id": "2M_w7kH7Qd1f",
        "colab_type": "code",
        "colab": {
          "base_uri": "https://localhost:8080/",
          "height": 101
        },
        "outputId": "02c3d2a1-890e-4f82-f0fe-d02baa9fa933"
      },
      "source": [
        "X = nd.arange(12).reshape((3, 4))\n",
        "X"
      ],
      "execution_count": 8,
      "outputs": [
        {
          "output_type": "execute_result",
          "data": {
            "text/plain": [
              "\n",
              "[[ 0.  1.  2.  3.]\n",
              " [ 4.  5.  6.  7.]\n",
              " [ 8.  9. 10. 11.]]\n",
              "<NDArray 3x4 @cpu(0)>"
            ]
          },
          "metadata": {
            "tags": []
          },
          "execution_count": 8
        }
      ]
    },
    {
      "cell_type": "code",
      "metadata": {
        "id": "2_F0LUm_Qo2A",
        "colab_type": "code",
        "colab": {
          "base_uri": "https://localhost:8080/",
          "height": 67
        },
        "outputId": "edb62712-2d57-4551-d8e4-c2e0a68a694d"
      },
      "source": [
        "X.sum()"
      ],
      "execution_count": 9,
      "outputs": [
        {
          "output_type": "execute_result",
          "data": {
            "text/plain": [
              "\n",
              "[66.]\n",
              "<NDArray 1 @cpu(0)>"
            ]
          },
          "metadata": {
            "tags": []
          },
          "execution_count": 9
        }
      ]
    },
    {
      "cell_type": "code",
      "metadata": {
        "id": "hRc_WK9QQ0xf",
        "colab_type": "code",
        "colab": {
          "base_uri": "https://localhost:8080/",
          "height": 67
        },
        "outputId": "f13c8686-edc8-43e8-f11f-626eb032ca31"
      },
      "source": [
        "X.norm()"
      ],
      "execution_count": 11,
      "outputs": [
        {
          "output_type": "execute_result",
          "data": {
            "text/plain": [
              "\n",
              "[22.494442]\n",
              "<NDArray 1 @cpu(0)>"
            ]
          },
          "metadata": {
            "tags": []
          },
          "execution_count": 11
        }
      ]
    },
    {
      "cell_type": "code",
      "metadata": {
        "id": "g4AQmAvYRIbe",
        "colab_type": "code",
        "colab": {
          "base_uri": "https://localhost:8080/",
          "height": 34
        },
        "outputId": "48b2049c-871e-4a61-caa7-e19e5f88afcb"
      },
      "source": [
        "sum = 0\n",
        "for x in range(12):\n",
        "    # print((x**2))\n",
        "    sum += x**2 \n",
        "print(sum)"
      ],
      "execution_count": 17,
      "outputs": [
        {
          "output_type": "stream",
          "text": [
            "506\n"
          ],
          "name": "stdout"
        }
      ]
    },
    {
      "cell_type": "code",
      "metadata": {
        "id": "1KF4HhGiXKGy",
        "colab_type": "code",
        "colab": {
          "base_uri": "https://localhost:8080/",
          "height": 101
        },
        "outputId": "bff10fbc-17c8-4507-fa6b-62b422f02bf8"
      },
      "source": [
        "X**2"
      ],
      "execution_count": 25,
      "outputs": [
        {
          "output_type": "execute_result",
          "data": {
            "text/plain": [
              "\n",
              "[[  0.   1.   4.   9.]\n",
              " [ 16.  25.  36.  49.]\n",
              " [ 64.  81. 100. 121.]]\n",
              "<NDArray 3x4 @cpu(0)>"
            ]
          },
          "metadata": {
            "tags": []
          },
          "execution_count": 25
        }
      ]
    },
    {
      "cell_type": "code",
      "metadata": {
        "id": "qPA8CJ-pXNjH",
        "colab_type": "code",
        "colab": {
          "base_uri": "https://localhost:8080/",
          "height": 67
        },
        "outputId": "08e2b7a0-b0ce-420f-fbe9-4cbbbd53bf4e"
      },
      "source": [
        "(X**2).sum()"
      ],
      "execution_count": 19,
      "outputs": [
        {
          "output_type": "execute_result",
          "data": {
            "text/plain": [
              "\n",
              "[506.]\n",
              "<NDArray 1 @cpu(0)>"
            ]
          },
          "metadata": {
            "tags": []
          },
          "execution_count": 19
        }
      ]
    },
    {
      "cell_type": "code",
      "metadata": {
        "id": "Eq_vW1P8XRyw",
        "colab_type": "code",
        "colab": {
          "base_uri": "https://localhost:8080/",
          "height": 67
        },
        "outputId": "0a88db14-5d7a-4f03-a002-9a05c80f2366"
      },
      "source": [
        "nd.sqrt((X**2).sum())"
      ],
      "execution_count": 24,
      "outputs": [
        {
          "output_type": "execute_result",
          "data": {
            "text/plain": [
              "\n",
              "[22.494444]\n",
              "<NDArray 1 @cpu(0)>"
            ]
          },
          "metadata": {
            "tags": []
          },
          "execution_count": 24
        }
      ]
    },
    {
      "cell_type": "markdown",
      "metadata": {
        "id": "8W0inoYIYTTn",
        "colab_type": "text"
      },
      "source": [
        "## 3.5 图像分类数据集 ( Fashion-MNIST )"
      ]
    },
    {
      "cell_type": "code",
      "metadata": {
        "id": "aFIo--XjYcb5",
        "colab_type": "code",
        "colab": {}
      },
      "source": [
        "%matplotlib inline \n",
        "import d2lzh as d2l \n",
        "from mxnet.gluon import data as gdata \n",
        "import sys \n",
        "import time "
      ],
      "execution_count": 0,
      "outputs": []
    },
    {
      "cell_type": "code",
      "metadata": {
        "id": "2tPw3-4dYnVO",
        "colab_type": "code",
        "colab": {
          "base_uri": "https://localhost:8080/",
          "height": 104
        },
        "outputId": "18202085-4a65-4468-b085-f64a0915ed53"
      },
      "source": [
        "mnist_train = gdata.vision.FashionMNIST(train=True)\n",
        "mnist_test = gdata.vision.FashionMNIST(train=False)"
      ],
      "execution_count": 27,
      "outputs": [
        {
          "output_type": "stream",
          "text": [
            "Downloading /root/.mxnet/datasets/fashion-mnist/train-images-idx3-ubyte.gz from https://apache-mxnet.s3-accelerate.dualstack.amazonaws.com/gluon/dataset/fashion-mnist/train-images-idx3-ubyte.gz...\n",
            "Downloading /root/.mxnet/datasets/fashion-mnist/train-labels-idx1-ubyte.gz from https://apache-mxnet.s3-accelerate.dualstack.amazonaws.com/gluon/dataset/fashion-mnist/train-labels-idx1-ubyte.gz...\n",
            "Downloading /root/.mxnet/datasets/fashion-mnist/t10k-images-idx3-ubyte.gz from https://apache-mxnet.s3-accelerate.dualstack.amazonaws.com/gluon/dataset/fashion-mnist/t10k-images-idx3-ubyte.gz...\n",
            "Downloading /root/.mxnet/datasets/fashion-mnist/t10k-labels-idx1-ubyte.gz from https://apache-mxnet.s3-accelerate.dualstack.amazonaws.com/gluon/dataset/fashion-mnist/t10k-labels-idx1-ubyte.gz...\n"
          ],
          "name": "stdout"
        }
      ]
    },
    {
      "cell_type": "code",
      "metadata": {
        "id": "bUBWPft0Y2xU",
        "colab_type": "code",
        "colab": {
          "base_uri": "https://localhost:8080/",
          "height": 34
        },
        "outputId": "ccccd875-bb04-48a5-bf9e-b2d88dee126e"
      },
      "source": [
        "len(mnist_train)"
      ],
      "execution_count": 28,
      "outputs": [
        {
          "output_type": "execute_result",
          "data": {
            "text/plain": [
              "60000"
            ]
          },
          "metadata": {
            "tags": []
          },
          "execution_count": 28
        }
      ]
    },
    {
      "cell_type": "code",
      "metadata": {
        "id": "u7kjLxeuY9Wy",
        "colab_type": "code",
        "colab": {
          "base_uri": "https://localhost:8080/",
          "height": 34
        },
        "outputId": "6734aa30-68e5-468f-ae78-abd90345f4d0"
      },
      "source": [
        "len(mnist_test)"
      ],
      "execution_count": 29,
      "outputs": [
        {
          "output_type": "execute_result",
          "data": {
            "text/plain": [
              "10000"
            ]
          },
          "metadata": {
            "tags": []
          },
          "execution_count": 29
        }
      ]
    },
    {
      "cell_type": "code",
      "metadata": {
        "id": "zWY7lhGoY_n7",
        "colab_type": "code",
        "colab": {}
      },
      "source": [
        "feature, label = mnist_train[0]"
      ],
      "execution_count": 0,
      "outputs": []
    },
    {
      "cell_type": "code",
      "metadata": {
        "id": "Z1rVWX1oZIa7",
        "colab_type": "code",
        "colab": {
          "base_uri": "https://localhost:8080/",
          "height": 34
        },
        "outputId": "a0b66172-3eb0-4828-b8b0-eb164255732f"
      },
      "source": [
        "feature.shape"
      ],
      "execution_count": 31,
      "outputs": [
        {
          "output_type": "execute_result",
          "data": {
            "text/plain": [
              "(28, 28, 1)"
            ]
          },
          "metadata": {
            "tags": []
          },
          "execution_count": 31
        }
      ]
    },
    {
      "cell_type": "code",
      "metadata": {
        "id": "N_ysIXcHZNBz",
        "colab_type": "code",
        "colab": {
          "base_uri": "https://localhost:8080/",
          "height": 34
        },
        "outputId": "324caf87-d733-4e66-90d1-26845c8036ab"
      },
      "source": [
        "feature.dtype"
      ],
      "execution_count": 32,
      "outputs": [
        {
          "output_type": "execute_result",
          "data": {
            "text/plain": [
              "numpy.uint8"
            ]
          },
          "metadata": {
            "tags": []
          },
          "execution_count": 32
        }
      ]
    },
    {
      "cell_type": "code",
      "metadata": {
        "id": "UJhCsiMAZPS7",
        "colab_type": "code",
        "colab": {
          "base_uri": "https://localhost:8080/",
          "height": 34
        },
        "outputId": "f862c049-5cfe-4c7d-b409-2154a5ef97ab"
      },
      "source": [
        "label"
      ],
      "execution_count": 33,
      "outputs": [
        {
          "output_type": "execute_result",
          "data": {
            "text/plain": [
              "2"
            ]
          },
          "metadata": {
            "tags": []
          },
          "execution_count": 33
        }
      ]
    },
    {
      "cell_type": "code",
      "metadata": {
        "id": "23d22l1jZSNi",
        "colab_type": "code",
        "colab": {
          "base_uri": "https://localhost:8080/",
          "height": 34
        },
        "outputId": "0c96a4ad-8894-49a2-f7ce-4c5d6c2955ad"
      },
      "source": [
        "label.shape"
      ],
      "execution_count": 34,
      "outputs": [
        {
          "output_type": "execute_result",
          "data": {
            "text/plain": [
              "()"
            ]
          },
          "metadata": {
            "tags": []
          },
          "execution_count": 34
        }
      ]
    },
    {
      "cell_type": "code",
      "metadata": {
        "id": "LYNCneF8ZT7K",
        "colab_type": "code",
        "colab": {
          "base_uri": "https://localhost:8080/",
          "height": 34
        },
        "outputId": "d500e0fc-ee7d-472e-d4d3-e47798080f28"
      },
      "source": [
        "label.dtype"
      ],
      "execution_count": 35,
      "outputs": [
        {
          "output_type": "execute_result",
          "data": {
            "text/plain": [
              "dtype('int32')"
            ]
          },
          "metadata": {
            "tags": []
          },
          "execution_count": 35
        }
      ]
    },
    {
      "cell_type": "code",
      "metadata": {
        "id": "XJ_OobYpZWz6",
        "colab_type": "code",
        "colab": {
          "base_uri": "https://localhost:8080/",
          "height": 34
        },
        "outputId": "e7c98b58-2060-4a40-b77d-dfa3c8b51822"
      },
      "source": [
        "type(label)"
      ],
      "execution_count": 36,
      "outputs": [
        {
          "output_type": "execute_result",
          "data": {
            "text/plain": [
              "numpy.int32"
            ]
          },
          "metadata": {
            "tags": []
          },
          "execution_count": 36
        }
      ]
    },
    {
      "cell_type": "code",
      "metadata": {
        "id": "ySn7eQf9ZgEr",
        "colab_type": "code",
        "colab": {}
      },
      "source": [
        "def get_fashion_mnist_labels(labels):\n",
        "    text_labels = ['t-shirt', 'trouser', 'pullover', 'dress', 'coat', \n",
        "            'sandal', 'shirt', 'sneaker', 'bsg', 'ankle boot']\n",
        "    return [text_labels[int(i)] for i in labels]"
      ],
      "execution_count": 0,
      "outputs": []
    },
    {
      "cell_type": "code",
      "metadata": {
        "id": "iNnBZF6zbamn",
        "colab_type": "code",
        "colab": {
          "base_uri": "https://localhost:8080/",
          "height": 34
        },
        "outputId": "4124f235-fb30-4443-df8f-2e051be6003f"
      },
      "source": [
        "text_labels = ['t-shirt', 'trouser', 'pullover', 'dress', 'coat', \n",
        "            'sandal', 'shirt', 'sneaker', 'bsg', 'ankle boot']\n",
        "labels_text = [3, 5, 7]\n",
        "[text_labels[int(i)] for i in labels_text]"
      ],
      "execution_count": 43,
      "outputs": [
        {
          "output_type": "execute_result",
          "data": {
            "text/plain": [
              "['dress', 'sandal', 'sneaker']"
            ]
          },
          "metadata": {
            "tags": []
          },
          "execution_count": 43
        }
      ]
    },
    {
      "cell_type": "code",
      "metadata": {
        "id": "2Crjy5HjcsMa",
        "colab_type": "code",
        "colab": {}
      },
      "source": [
        "def show_fashion_mnist(images, labels):\n",
        "    d2l.use_svg_display()\n",
        "    _, figs = d2l.plt.subplots(1, len(images), figsize=(12, 12))\n",
        "    for f, img, lbl in zip(figs, images, labels):\n",
        "        f.imshow(img.reshape((28, 28)).asnumpy())\n",
        "        f.set_title(lbl)\n",
        "        f.axes.get_xaxis().set_visible(False)\n",
        "        f.axes.get_yaxis().set_visible(False)"
      ],
      "execution_count": 0,
      "outputs": []
    },
    {
      "cell_type": "code",
      "metadata": {
        "id": "-rxYc24febb3",
        "colab_type": "code",
        "colab": {
          "base_uri": "https://localhost:8080/",
          "height": 149
        },
        "outputId": "d1b70b72-4133-4a16-acdf-f5dccbee520e"
      },
      "source": [
        "X, y = mnist_train[0:9]\n",
        "show_fashion_mnist(X, get_fashion_mnist_labels(y))"
      ],
      "execution_count": 61,
      "outputs": [
        {
          "output_type": "display_data",
          "data": {
            "text/plain": [
              "<Figure size 864x864 with 9 Axes>"
            ],
            "image/svg+xml": "<?xml version=\"1.0\" encoding=\"utf-8\" standalone=\"no\"?>\n<!DOCTYPE svg PUBLIC \"-//W3C//DTD SVG 1.1//EN\"\n  \"http://www.w3.org/Graphics/SVG/1.1/DTD/svg11.dtd\">\n<!-- Created with matplotlib (https://matplotlib.org/) -->\n<svg height=\"96.187936pt\" version=\"1.1\" viewBox=\"0 0 687.5 96.187936\" width=\"687.5pt\" xmlns=\"http://www.w3.org/2000/svg\" xmlns:xlink=\"http://www.w3.org/1999/xlink\">\n <defs>\n  <style type=\"text/css\">\n*{stroke-linecap:butt;stroke-linejoin:round;}\n  </style>\n </defs>\n <g id=\"figure_1\">\n  <g id=\"patch_1\">\n   <path d=\"M 0 96.187936 \nL 687.5 96.187936 \nL 687.5 0 \nL 0 0 \nz\n\" style=\"fill:none;\"/>\n  </g>\n  <g id=\"axes_1\">\n   <g id=\"patch_2\">\n    <path d=\"M 10.7 85.487936 \nL 73.869811 85.487936 \nL 73.869811 22.318125 \nL 10.7 22.318125 \nz\n\" style=\"fill:#ffffff;\"/>\n   </g>\n   <g clip-path=\"url(#pa68530da84)\">\n    <image height=\"64\" id=\"image8ae92eb285\" transform=\"scale(1 -1)translate(0 -64)\" width=\"64\" x=\"10.7\" xlink:href=\"data:image/png;base64,\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\" y=\"-21.487936\"/>\n   </g>\n   <g id=\"patch_3\">\n    <path d=\"M 10.7 85.487936 \nL 10.7 22.318125 \n\" style=\"fill:none;stroke:#000000;stroke-linecap:square;stroke-linejoin:miter;stroke-width:0.8;\"/>\n   </g>\n   <g id=\"patch_4\">\n    <path d=\"M 73.869811 85.487936 \nL 73.869811 22.318125 \n\" style=\"fill:none;stroke:#000000;stroke-linecap:square;stroke-linejoin:miter;stroke-width:0.8;\"/>\n   </g>\n   <g id=\"patch_5\">\n    <path d=\"M 10.7 85.487936 \nL 73.869811 85.487936 \n\" style=\"fill:none;stroke:#000000;stroke-linecap:square;stroke-linejoin:miter;stroke-width:0.8;\"/>\n   </g>\n   <g id=\"patch_6\">\n    <path d=\"M 10.7 22.318125 \nL 73.869811 22.318125 \n\" style=\"fill:none;stroke:#000000;stroke-linecap:square;stroke-linejoin:miter;stroke-width:0.8;\"/>\n   </g>\n   <g id=\"text_1\">\n    <!-- pullover -->\n    <defs>\n     <path d=\"M 18.109375 8.203125 \nL 18.109375 -20.796875 \nL 9.078125 -20.796875 \nL 9.078125 54.6875 \nL 18.109375 54.6875 \nL 18.109375 46.390625 \nQ 20.953125 51.265625 25.265625 53.625 \nQ 29.59375 56 35.59375 56 \nQ 45.5625 56 51.78125 48.09375 \nQ 58.015625 40.1875 58.015625 27.296875 \nQ 58.015625 14.40625 51.78125 6.484375 \nQ 45.5625 -1.421875 35.59375 -1.421875 \nQ 29.59375 -1.421875 25.265625 0.953125 \nQ 20.953125 3.328125 18.109375 8.203125 \nz\nM 48.6875 27.296875 \nQ 48.6875 37.203125 44.609375 42.84375 \nQ 40.53125 48.484375 33.40625 48.484375 \nQ 26.265625 48.484375 22.1875 42.84375 \nQ 18.109375 37.203125 18.109375 27.296875 \nQ 18.109375 17.390625 22.1875 11.75 \nQ 26.265625 6.109375 33.40625 6.109375 \nQ 40.53125 6.109375 44.609375 11.75 \nQ 48.6875 17.390625 48.6875 27.296875 \nz\n\" id=\"DejaVuSans-112\"/>\n     <path d=\"M 8.5 21.578125 \nL 8.5 54.6875 \nL 17.484375 54.6875 \nL 17.484375 21.921875 \nQ 17.484375 14.15625 20.5 10.265625 \nQ 23.53125 6.390625 29.59375 6.390625 \nQ 36.859375 6.390625 41.078125 11.03125 \nQ 45.3125 15.671875 45.3125 23.6875 \nL 45.3125 54.6875 \nL 54.296875 54.6875 \nL 54.296875 0 \nL 45.3125 0 \nL 45.3125 8.40625 \nQ 42.046875 3.421875 37.71875 1 \nQ 33.40625 -1.421875 27.6875 -1.421875 \nQ 18.265625 -1.421875 13.375 4.4375 \nQ 8.5 10.296875 8.5 21.578125 \nz\nM 31.109375 56 \nz\n\" id=\"DejaVuSans-117\"/>\n     <path d=\"M 9.421875 75.984375 \nL 18.40625 75.984375 \nL 18.40625 0 \nL 9.421875 0 \nz\n\" id=\"DejaVuSans-108\"/>\n     <path d=\"M 30.609375 48.390625 \nQ 23.390625 48.390625 19.1875 42.75 \nQ 14.984375 37.109375 14.984375 27.296875 \nQ 14.984375 17.484375 19.15625 11.84375 \nQ 23.34375 6.203125 30.609375 6.203125 \nQ 37.796875 6.203125 41.984375 11.859375 \nQ 46.1875 17.53125 46.1875 27.296875 \nQ 46.1875 37.015625 41.984375 42.703125 \nQ 37.796875 48.390625 30.609375 48.390625 \nz\nM 30.609375 56 \nQ 42.328125 56 49.015625 48.375 \nQ 55.71875 40.765625 55.71875 27.296875 \nQ 55.71875 13.875 49.015625 6.21875 \nQ 42.328125 -1.421875 30.609375 -1.421875 \nQ 18.84375 -1.421875 12.171875 6.21875 \nQ 5.515625 13.875 5.515625 27.296875 \nQ 5.515625 40.765625 12.171875 48.375 \nQ 18.84375 56 30.609375 56 \nz\n\" id=\"DejaVuSans-111\"/>\n     <path d=\"M 2.984375 54.6875 \nL 12.5 54.6875 \nL 29.59375 8.796875 \nL 46.6875 54.6875 \nL 56.203125 54.6875 \nL 35.6875 0 \nL 23.484375 0 \nz\n\" id=\"DejaVuSans-118\"/>\n     <path d=\"M 56.203125 29.59375 \nL 56.203125 25.203125 \nL 14.890625 25.203125 \nQ 15.484375 15.921875 20.484375 11.0625 \nQ 25.484375 6.203125 34.421875 6.203125 \nQ 39.59375 6.203125 44.453125 7.46875 \nQ 49.3125 8.734375 54.109375 11.28125 \nL 54.109375 2.78125 \nQ 49.265625 0.734375 44.1875 -0.34375 \nQ 39.109375 -1.421875 33.890625 -1.421875 \nQ 20.796875 -1.421875 13.15625 6.1875 \nQ 5.515625 13.8125 5.515625 26.8125 \nQ 5.515625 40.234375 12.765625 48.109375 \nQ 20.015625 56 32.328125 56 \nQ 43.359375 56 49.78125 48.890625 \nQ 56.203125 41.796875 56.203125 29.59375 \nz\nM 47.21875 32.234375 \nQ 47.125 39.59375 43.09375 43.984375 \nQ 39.0625 48.390625 32.421875 48.390625 \nQ 24.90625 48.390625 20.390625 44.140625 \nQ 15.875 39.890625 15.1875 32.171875 \nz\n\" id=\"DejaVuSans-101\"/>\n     <path d=\"M 41.109375 46.296875 \nQ 39.59375 47.171875 37.8125 47.578125 \nQ 36.03125 48 33.890625 48 \nQ 26.265625 48 22.1875 43.046875 \nQ 18.109375 38.09375 18.109375 28.8125 \nL 18.109375 0 \nL 9.078125 0 \nL 9.078125 54.6875 \nL 18.109375 54.6875 \nL 18.109375 46.1875 \nQ 20.953125 51.171875 25.484375 53.578125 \nQ 30.03125 56 36.53125 56 \nQ 37.453125 56 38.578125 55.875 \nQ 39.703125 55.765625 41.0625 55.515625 \nz\n\" id=\"DejaVuSans-114\"/>\n    </defs>\n    <g transform=\"translate(17.958656 16.318125)scale(0.12 -0.12)\">\n     <use xlink:href=\"#DejaVuSans-112\"/>\n     <use x=\"63.476562\" xlink:href=\"#DejaVuSans-117\"/>\n     <use x=\"126.855469\" xlink:href=\"#DejaVuSans-108\"/>\n     <use x=\"154.638672\" xlink:href=\"#DejaVuSans-108\"/>\n     <use x=\"182.421875\" xlink:href=\"#DejaVuSans-111\"/>\n     <use x=\"243.603516\" xlink:href=\"#DejaVuSans-118\"/>\n     <use x=\"302.783203\" xlink:href=\"#DejaVuSans-101\"/>\n     <use x=\"364.306641\" xlink:href=\"#DejaVuSans-114\"/>\n    </g>\n   </g>\n  </g>\n  <g id=\"axes_2\">\n   <g id=\"patch_7\">\n    <path d=\"M 86.503774 85.487936 \nL 149.673585 85.487936 \nL 149.673585 22.318125 \nL 86.503774 22.318125 \nz\n\" style=\"fill:#ffffff;\"/>\n   </g>\n   <g clip-path=\"url(#p5f8e8f80ab)\">\n    <image height=\"64\" id=\"image714c05b0e4\" transform=\"scale(1 -1)translate(0 -64)\" width=\"64\" x=\"86.503774\" xlink:href=\"data:image/png;base64,\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\" y=\"-21.487936\"/>\n   </g>\n   <g id=\"patch_8\">\n    <path d=\"M 86.503774 85.487936 \nL 86.503774 22.318125 \n\" style=\"fill:none;stroke:#000000;stroke-linecap:square;stroke-linejoin:miter;stroke-width:0.8;\"/>\n   </g>\n   <g id=\"patch_9\">\n    <path d=\"M 149.673585 85.487936 \nL 149.673585 22.318125 \n\" style=\"fill:none;stroke:#000000;stroke-linecap:square;stroke-linejoin:miter;stroke-width:0.8;\"/>\n   </g>\n   <g id=\"patch_10\">\n    <path d=\"M 86.503774 85.487936 \nL 149.673585 85.487936 \n\" style=\"fill:none;stroke:#000000;stroke-linecap:square;stroke-linejoin:miter;stroke-width:0.8;\"/>\n   </g>\n   <g id=\"patch_11\">\n    <path d=\"M 86.503774 22.318125 \nL 149.673585 22.318125 \n\" style=\"fill:none;stroke:#000000;stroke-linecap:square;stroke-linejoin:miter;stroke-width:0.8;\"/>\n   </g>\n   <g id=\"text_2\">\n    <!-- ankle boot -->\n    <defs>\n     <path d=\"M 34.28125 27.484375 \nQ 23.390625 27.484375 19.1875 25 \nQ 14.984375 22.515625 14.984375 16.5 \nQ 14.984375 11.71875 18.140625 8.90625 \nQ 21.296875 6.109375 26.703125 6.109375 \nQ 34.1875 6.109375 38.703125 11.40625 \nQ 43.21875 16.703125 43.21875 25.484375 \nL 43.21875 27.484375 \nz\nM 52.203125 31.203125 \nL 52.203125 0 \nL 43.21875 0 \nL 43.21875 8.296875 \nQ 40.140625 3.328125 35.546875 0.953125 \nQ 30.953125 -1.421875 24.3125 -1.421875 \nQ 15.921875 -1.421875 10.953125 3.296875 \nQ 6 8.015625 6 15.921875 \nQ 6 25.140625 12.171875 29.828125 \nQ 18.359375 34.515625 30.609375 34.515625 \nL 43.21875 34.515625 \nL 43.21875 35.40625 \nQ 43.21875 41.609375 39.140625 45 \nQ 35.0625 48.390625 27.6875 48.390625 \nQ 23 48.390625 18.546875 47.265625 \nQ 14.109375 46.140625 10.015625 43.890625 \nL 10.015625 52.203125 \nQ 14.9375 54.109375 19.578125 55.046875 \nQ 24.21875 56 28.609375 56 \nQ 40.484375 56 46.34375 49.84375 \nQ 52.203125 43.703125 52.203125 31.203125 \nz\n\" id=\"DejaVuSans-97\"/>\n     <path d=\"M 54.890625 33.015625 \nL 54.890625 0 \nL 45.90625 0 \nL 45.90625 32.71875 \nQ 45.90625 40.484375 42.875 44.328125 \nQ 39.84375 48.1875 33.796875 48.1875 \nQ 26.515625 48.1875 22.3125 43.546875 \nQ 18.109375 38.921875 18.109375 30.90625 \nL 18.109375 0 \nL 9.078125 0 \nL 9.078125 54.6875 \nL 18.109375 54.6875 \nL 18.109375 46.1875 \nQ 21.34375 51.125 25.703125 53.5625 \nQ 30.078125 56 35.796875 56 \nQ 45.21875 56 50.046875 50.171875 \nQ 54.890625 44.34375 54.890625 33.015625 \nz\n\" id=\"DejaVuSans-110\"/>\n     <path d=\"M 9.078125 75.984375 \nL 18.109375 75.984375 \nL 18.109375 31.109375 \nL 44.921875 54.6875 \nL 56.390625 54.6875 \nL 27.390625 29.109375 \nL 57.625 0 \nL 45.90625 0 \nL 18.109375 26.703125 \nL 18.109375 0 \nL 9.078125 0 \nz\n\" id=\"DejaVuSans-107\"/>\n     <path id=\"DejaVuSans-32\"/>\n     <path d=\"M 48.6875 27.296875 \nQ 48.6875 37.203125 44.609375 42.84375 \nQ 40.53125 48.484375 33.40625 48.484375 \nQ 26.265625 48.484375 22.1875 42.84375 \nQ 18.109375 37.203125 18.109375 27.296875 \nQ 18.109375 17.390625 22.1875 11.75 \nQ 26.265625 6.109375 33.40625 6.109375 \nQ 40.53125 6.109375 44.609375 11.75 \nQ 48.6875 17.390625 48.6875 27.296875 \nz\nM 18.109375 46.390625 \nQ 20.953125 51.265625 25.265625 53.625 \nQ 29.59375 56 35.59375 56 \nQ 45.5625 56 51.78125 48.09375 \nQ 58.015625 40.1875 58.015625 27.296875 \nQ 58.015625 14.40625 51.78125 6.484375 \nQ 45.5625 -1.421875 35.59375 -1.421875 \nQ 29.59375 -1.421875 25.265625 0.953125 \nQ 20.953125 3.328125 18.109375 8.203125 \nL 18.109375 0 \nL 9.078125 0 \nL 9.078125 75.984375 \nL 18.109375 75.984375 \nz\n\" id=\"DejaVuSans-98\"/>\n     <path d=\"M 18.3125 70.21875 \nL 18.3125 54.6875 \nL 36.8125 54.6875 \nL 36.8125 47.703125 \nL 18.3125 47.703125 \nL 18.3125 18.015625 \nQ 18.3125 11.328125 20.140625 9.421875 \nQ 21.96875 7.515625 27.59375 7.515625 \nL 36.8125 7.515625 \nL 36.8125 0 \nL 27.59375 0 \nQ 17.1875 0 13.234375 3.875 \nQ 9.28125 7.765625 9.28125 18.015625 \nL 9.28125 47.703125 \nL 2.6875 47.703125 \nL 2.6875 54.6875 \nL 9.28125 54.6875 \nL 9.28125 70.21875 \nz\n\" id=\"DejaVuSans-116\"/>\n    </defs>\n    <g transform=\"translate(86.365554 16.318125)scale(0.12 -0.12)\">\n     <use xlink:href=\"#DejaVuSans-97\"/>\n     <use x=\"61.279297\" xlink:href=\"#DejaVuSans-110\"/>\n     <use x=\"124.658203\" xlink:href=\"#DejaVuSans-107\"/>\n     <use x=\"182.568359\" xlink:href=\"#DejaVuSans-108\"/>\n     <use x=\"210.351562\" xlink:href=\"#DejaVuSans-101\"/>\n     <use x=\"271.875\" xlink:href=\"#DejaVuSans-32\"/>\n     <use x=\"303.662109\" xlink:href=\"#DejaVuSans-98\"/>\n     <use x=\"367.138672\" xlink:href=\"#DejaVuSans-111\"/>\n     <use x=\"428.320312\" xlink:href=\"#DejaVuSans-111\"/>\n     <use x=\"489.501953\" xlink:href=\"#DejaVuSans-116\"/>\n    </g>\n   </g>\n  </g>\n  <g id=\"axes_3\">\n   <g id=\"patch_12\">\n    <path d=\"M 162.307547 85.487936 \nL 225.477358 85.487936 \nL 225.477358 22.318125 \nL 162.307547 22.318125 \nz\n\" style=\"fill:#ffffff;\"/>\n   </g>\n   <g clip-path=\"url(#p2a3bd5dea1)\">\n    <image height=\"64\" id=\"imagef3cf376664\" transform=\"scale(1 -1)translate(0 -64)\" width=\"64\" x=\"162.307547\" xlink:href=\"data:image/png;base64,\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\" y=\"-21.487936\"/>\n   </g>\n   <g id=\"patch_13\">\n    <path d=\"M 162.307547 85.487936 \nL 162.307547 22.318125 \n\" style=\"fill:none;stroke:#000000;stroke-linecap:square;stroke-linejoin:miter;stroke-width:0.8;\"/>\n   </g>\n   <g id=\"patch_14\">\n    <path d=\"M 225.477358 85.487936 \nL 225.477358 22.318125 \n\" style=\"fill:none;stroke:#000000;stroke-linecap:square;stroke-linejoin:miter;stroke-width:0.8;\"/>\n   </g>\n   <g id=\"patch_15\">\n    <path d=\"M 162.307547 85.487936 \nL 225.477358 85.487936 \n\" style=\"fill:none;stroke:#000000;stroke-linecap:square;stroke-linejoin:miter;stroke-width:0.8;\"/>\n   </g>\n   <g id=\"patch_16\">\n    <path d=\"M 162.307547 22.318125 \nL 225.477358 22.318125 \n\" style=\"fill:none;stroke:#000000;stroke-linecap:square;stroke-linejoin:miter;stroke-width:0.8;\"/>\n   </g>\n   <g id=\"text_3\">\n    <!-- shirt -->\n    <defs>\n     <path d=\"M 44.28125 53.078125 \nL 44.28125 44.578125 \nQ 40.484375 46.53125 36.375 47.5 \nQ 32.28125 48.484375 27.875 48.484375 \nQ 21.1875 48.484375 17.84375 46.4375 \nQ 14.5 44.390625 14.5 40.28125 \nQ 14.5 37.15625 16.890625 35.375 \nQ 19.28125 33.59375 26.515625 31.984375 \nL 29.59375 31.296875 \nQ 39.15625 29.25 43.1875 25.515625 \nQ 47.21875 21.78125 47.21875 15.09375 \nQ 47.21875 7.46875 41.1875 3.015625 \nQ 35.15625 -1.421875 24.609375 -1.421875 \nQ 20.21875 -1.421875 15.453125 -0.5625 \nQ 10.6875 0.296875 5.421875 2 \nL 5.421875 11.28125 \nQ 10.40625 8.6875 15.234375 7.390625 \nQ 20.0625 6.109375 24.8125 6.109375 \nQ 31.15625 6.109375 34.5625 8.28125 \nQ 37.984375 10.453125 37.984375 14.40625 \nQ 37.984375 18.0625 35.515625 20.015625 \nQ 33.0625 21.96875 24.703125 23.78125 \nL 21.578125 24.515625 \nQ 13.234375 26.265625 9.515625 29.90625 \nQ 5.8125 33.546875 5.8125 39.890625 \nQ 5.8125 47.609375 11.28125 51.796875 \nQ 16.75 56 26.8125 56 \nQ 31.78125 56 36.171875 55.265625 \nQ 40.578125 54.546875 44.28125 53.078125 \nz\n\" id=\"DejaVuSans-115\"/>\n     <path d=\"M 54.890625 33.015625 \nL 54.890625 0 \nL 45.90625 0 \nL 45.90625 32.71875 \nQ 45.90625 40.484375 42.875 44.328125 \nQ 39.84375 48.1875 33.796875 48.1875 \nQ 26.515625 48.1875 22.3125 43.546875 \nQ 18.109375 38.921875 18.109375 30.90625 \nL 18.109375 0 \nL 9.078125 0 \nL 9.078125 75.984375 \nL 18.109375 75.984375 \nL 18.109375 46.1875 \nQ 21.34375 51.125 25.703125 53.5625 \nQ 30.078125 56 35.796875 56 \nQ 45.21875 56 50.046875 50.171875 \nQ 54.890625 44.34375 54.890625 33.015625 \nz\n\" id=\"DejaVuSans-104\"/>\n     <path d=\"M 9.421875 54.6875 \nL 18.40625 54.6875 \nL 18.40625 0 \nL 9.421875 0 \nz\nM 9.421875 75.984375 \nL 18.40625 75.984375 \nL 18.40625 64.59375 \nL 9.421875 64.59375 \nz\n\" id=\"DejaVuSans-105\"/>\n    </defs>\n    <g transform=\"translate(180.478703 16.318125)scale(0.12 -0.12)\">\n     <use xlink:href=\"#DejaVuSans-115\"/>\n     <use x=\"52.099609\" xlink:href=\"#DejaVuSans-104\"/>\n     <use x=\"115.478516\" xlink:href=\"#DejaVuSans-105\"/>\n     <use x=\"143.261719\" xlink:href=\"#DejaVuSans-114\"/>\n     <use x=\"184.375\" xlink:href=\"#DejaVuSans-116\"/>\n    </g>\n   </g>\n  </g>\n  <g id=\"axes_4\">\n   <g id=\"patch_17\">\n    <path d=\"M 238.111321 85.487936 \nL 301.281132 85.487936 \nL 301.281132 22.318125 \nL 238.111321 22.318125 \nz\n\" style=\"fill:#ffffff;\"/>\n   </g>\n   <g clip-path=\"url(#pb9edc32ee1)\">\n    <image height=\"64\" id=\"image55b271ac36\" transform=\"scale(1 -1)translate(0 -64)\" width=\"64\" x=\"238.111321\" xlink:href=\"data:image/png;base64,\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\" y=\"-21.487936\"/>\n   </g>\n   <g id=\"patch_18\">\n    <path d=\"M 238.111321 85.487936 \nL 238.111321 22.318125 \n\" style=\"fill:none;stroke:#000000;stroke-linecap:square;stroke-linejoin:miter;stroke-width:0.8;\"/>\n   </g>\n   <g id=\"patch_19\">\n    <path d=\"M 301.281132 85.487936 \nL 301.281132 22.318125 \n\" style=\"fill:none;stroke:#000000;stroke-linecap:square;stroke-linejoin:miter;stroke-width:0.8;\"/>\n   </g>\n   <g id=\"patch_20\">\n    <path d=\"M 238.111321 85.487936 \nL 301.281132 85.487936 \n\" style=\"fill:none;stroke:#000000;stroke-linecap:square;stroke-linejoin:miter;stroke-width:0.8;\"/>\n   </g>\n   <g id=\"patch_21\">\n    <path d=\"M 238.111321 22.318125 \nL 301.281132 22.318125 \n\" style=\"fill:none;stroke:#000000;stroke-linecap:square;stroke-linejoin:miter;stroke-width:0.8;\"/>\n   </g>\n   <g id=\"text_4\">\n    <!-- t-shirt -->\n    <defs>\n     <path d=\"M 4.890625 31.390625 \nL 31.203125 31.390625 \nL 31.203125 23.390625 \nL 4.890625 23.390625 \nz\n\" id=\"DejaVuSans-45\"/>\n    </defs>\n    <g transform=\"translate(251.765601 16.318125)scale(0.12 -0.12)\">\n     <use xlink:href=\"#DejaVuSans-116\"/>\n     <use x=\"39.208984\" xlink:href=\"#DejaVuSans-45\"/>\n     <use x=\"75.292969\" xlink:href=\"#DejaVuSans-115\"/>\n     <use x=\"127.392578\" xlink:href=\"#DejaVuSans-104\"/>\n     <use x=\"190.771484\" xlink:href=\"#DejaVuSans-105\"/>\n     <use x=\"218.554688\" xlink:href=\"#DejaVuSans-114\"/>\n     <use x=\"259.667969\" xlink:href=\"#DejaVuSans-116\"/>\n    </g>\n   </g>\n  </g>\n  <g id=\"axes_5\">\n   <g id=\"patch_22\">\n    <path d=\"M 313.915094 85.487936 \nL 377.084906 85.487936 \nL 377.084906 22.318125 \nL 313.915094 22.318125 \nz\n\" style=\"fill:#ffffff;\"/>\n   </g>\n   <g clip-path=\"url(#pb508f35734)\">\n    <image height=\"64\" id=\"image0f52957ff4\" transform=\"scale(1 -1)translate(0 -64)\" width=\"64\" x=\"313.915094\" xlink:href=\"data:image/png;base64,\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\" y=\"-21.487936\"/>\n   </g>\n   <g id=\"patch_23\">\n    <path d=\"M 313.915094 85.487936 \nL 313.915094 22.318125 \n\" style=\"fill:none;stroke:#000000;stroke-linecap:square;stroke-linejoin:miter;stroke-width:0.8;\"/>\n   </g>\n   <g id=\"patch_24\">\n    <path d=\"M 377.084906 85.487936 \nL 377.084906 22.318125 \n\" style=\"fill:none;stroke:#000000;stroke-linecap:square;stroke-linejoin:miter;stroke-width:0.8;\"/>\n   </g>\n   <g id=\"patch_25\">\n    <path d=\"M 313.915094 85.487936 \nL 377.084906 85.487936 \n\" style=\"fill:none;stroke:#000000;stroke-linecap:square;stroke-linejoin:miter;stroke-width:0.8;\"/>\n   </g>\n   <g id=\"patch_26\">\n    <path d=\"M 313.915094 22.318125 \nL 377.084906 22.318125 \n\" style=\"fill:none;stroke:#000000;stroke-linecap:square;stroke-linejoin:miter;stroke-width:0.8;\"/>\n   </g>\n   <g id=\"text_5\">\n    <!-- dress -->\n    <defs>\n     <path d=\"M 45.40625 46.390625 \nL 45.40625 75.984375 \nL 54.390625 75.984375 \nL 54.390625 0 \nL 45.40625 0 \nL 45.40625 8.203125 \nQ 42.578125 3.328125 38.25 0.953125 \nQ 33.9375 -1.421875 27.875 -1.421875 \nQ 17.96875 -1.421875 11.734375 6.484375 \nQ 5.515625 14.40625 5.515625 27.296875 \nQ 5.515625 40.1875 11.734375 48.09375 \nQ 17.96875 56 27.875 56 \nQ 33.9375 56 38.25 53.625 \nQ 42.578125 51.265625 45.40625 46.390625 \nz\nM 14.796875 27.296875 \nQ 14.796875 17.390625 18.875 11.75 \nQ 22.953125 6.109375 30.078125 6.109375 \nQ 37.203125 6.109375 41.296875 11.75 \nQ 45.40625 17.390625 45.40625 27.296875 \nQ 45.40625 37.203125 41.296875 42.84375 \nQ 37.203125 48.484375 30.078125 48.484375 \nQ 22.953125 48.484375 18.875 42.84375 \nQ 14.796875 37.203125 14.796875 27.296875 \nz\n\" id=\"DejaVuSans-100\"/>\n    </defs>\n    <g transform=\"translate(329.283125 16.318125)scale(0.12 -0.12)\">\n     <use xlink:href=\"#DejaVuSans-100\"/>\n     <use x=\"63.476562\" xlink:href=\"#DejaVuSans-114\"/>\n     <use x=\"104.558594\" xlink:href=\"#DejaVuSans-101\"/>\n     <use x=\"166.082031\" xlink:href=\"#DejaVuSans-115\"/>\n     <use x=\"218.181641\" xlink:href=\"#DejaVuSans-115\"/>\n    </g>\n   </g>\n  </g>\n  <g id=\"axes_6\">\n   <g id=\"patch_27\">\n    <path d=\"M 389.718868 85.487936 \nL 452.888679 85.487936 \nL 452.888679 22.318125 \nL 389.718868 22.318125 \nz\n\" style=\"fill:#ffffff;\"/>\n   </g>\n   <g clip-path=\"url(#pc7a5aa2515)\">\n    <image height=\"64\" id=\"image50afd35f81\" transform=\"scale(1 -1)translate(0 -64)\" width=\"64\" x=\"389.718868\" xlink:href=\"data:image/png;base64,\niVBORw0KGgoAAAANSUhEUgAAAEAAAABACAYAAACqaXHeAAAABHNCSVQICAgIfAhkiAAACYpJREFUeJztW0lsG9cZ/oZDcriYpCzKki3ZhrVZidfadVIjrZylC+AemksOTl0ERRcg1wItcuq9h56KAC3goseiRVEULpIihu2gNmKjTpzEi+IlkmXRtjaLtElR3MlhD9+b9w+tiKJ6LPkuQ77/n3kz7//+9b1nfMd4o441muHzAwDqlfJaLIDHJK9pyn0Biz9qNdVh8FqXoeoOzWaf4ffJ/X6Oa+fzjc92nuN6Vr1SVf/tVfc7Y9RLpbVff+0va4/mbUZ0JO8JhdgxslPTCtsjAADrX5+Q166tum8jreGeXK6RttFnVast87Y9Atp+ApqqgNMmT40BAH5x6Jzue39xPwCg/mEAADD1p+c0LXY+CACIzBKKwUQaAGBP3tc8DkyXf3iU/132LTZJFTDTNIIwKadKPKx5MsMco+e9uwCAvWefatrfbxwGAOx+l8avfnVizW/rIKAVJnOGUr47tlX3dfkLAIDJNw8BAH516LSmTT7XBwAImY3GMOSR/y+H7wAAfje/GQDQ7c9r2lBwCQCwWIkCAKo25eQxxBz2+pcBAH/47jEAwMnwdU0r7KUb/HSU7xa9uva3dRDQCtOhV6hnU9ktuu/w5ocAgPDbNwAAv7lyXNOsMCVtmgxOQhb/RywJSK74dwEAJmb7AQDVigRS8e4VAIChJL6cIwK9Xgl2ymXyvzCYAAA8KndrWrpC++DLC/9arYOAVphSRVrfsFd0eCpHNNxaor7DI/rp8dgN11KFwxTKEu4e2fUAADBhbAMA+CwJXga7UgCA++k4AKBapbTjUQmQ5le6AACPsrzui8xp2htbqPS/3r0HABBs8m1tj4C2n4CWVGBqmu7vtf23dd8XT9gX8BG6eVNUwJ20AUA+z+ywKyqurlDzNfDYNZGF4+7KCvqBQAUAULNXy2tv9zwAwPJUdN9fHr8IAOi+vX5O0EFAK0zBhJLWfunrCjAQGokkAQAfZJ7XNMdF+dRtnnvKDB0SBGSrdG1ODGwFRIJhFUAtL23iSz7ha9rDWc3jGM2qrVBiiLRnMnSJ3ZNPAACSp65uHQS0wmRxItFjrei+TIUSPL6ZIegHEAREwkUAwPIturH4Hep0ckiSmVwXw9ValTLwh0WCi0VVa5gjhLpv050uhOX++C4mP8Mhhs0Rs6BpMYvjG5X1P6/tEdD2E9CSCvizhHDMBTNbGa9vBZ6u4k+nCdXeA4/5P6eyQ6UaALCQY6YXCNHgGa5Mz8k0S31Ui8UhGkh3LpBK0UDuG2NOslDt0rSXeqYBAJe20R0a02t/WwcBrTBF71MilbpkbF4V5yeqRIKT+QGAd4LSGThO6cReoeRrdZnvQqUxEIoGJFNMOrlHL2P/fX0Mdq7cGNE8Rk2Na3DcgCF5yqBF5H2coIFsFg51ENAKky9FSbzV9bHueyf7OgBgq8kw49tDX2ra5Uusyd1N9gIAyhMxAEBoUWLk0ROsMSykSAvHXZnmxV0AgC3XKN3rbw4AAPwpQWD/N5j9pWtES7Hu17S4SXddfTS77rd1ENAKUz3BmSy6dNjvqak+Wu8T8f9o2sUQEWA6Sc0ArXh4TvTeSXi8KpkqVIVmjzJkXvRyQWakh/WBxGcRzfPLwTMc36bk52riBdz2YL3W9gho+wloSQWcVdpsXWBqeQjdtM1HHAsIf2ic7mfpEWH5+pHPAQBTQ1JUXS7zBqcOkHe5xQPbqXL5rYT31ALvqz4vgdQeH7PQs/ndAICKLZ9iGq2vJnYQsBHmW6UB/dsyiQBTrd1mbAmTvzfARY/TF8Z59X4NAHBw5KHmWSwwWHKywVxJ3NiCwTA5laWL81/ntTogmf2gb5MaXxVe6/IpPqOzOtxy2xACruVkf0DES33MKjeUdyHg/cReAEBonuhYGeI8PymGNM9ynjagrpIqp/QNAI/TlK5TC8z3UMqxO8Lz7wKfucNHF3mv2KtpiXJPy9/U9gho+wloqgLPbpK68EiysRNDnzbwLrncUCbB+N76AWNys0za3A1ZXbZ7mf35g4R5qeBysXdZRM1upzF74egkAODO3Jjm+clHPwYA/Hn8FIDGleNLKec9F5t9Hu9bl+P/vDVHgNqZUVcV68zDmKaFRogKn0HX9I/MYU3rGWYV9WAPM7Zz17hG13tDnv10DxdLdrzIoGlqStBhqnjHl6bR6w9mAAD3Xk1qnpfizPlTNl1kzCsl94lZrjcOdxCwftuQGwzOihuKmawRnMlyteR0QlZN8kXajvNT7OsbpeQWvylr+PCritISd4iEekSC+TDvDwSJsjPTLLnX7m2Sd3mV4bJTD3AvjNQXXXH5Oq2DgKZUT+P89F+WYCd5kuHqqY9eBgCYOUFHLUZpxG8yyMn0q6UxS0LZUJSKXpphjl/aKjVBO0uPUPWR37ijwl7XGtdnjxmWX1vi9e3hi5oWud+6XNseAW0/Ac1VwG7cZOS58Ln+PWItAACMCufQgT0AbBngxsjkMbXGd5PX0fNi6BLfpwrV4sS1LyGGa+eHNH7JA4T+ykGpAzittkK1qqZ435cD4kYH/saVkFZywrZHgPG/nhcY/YSBTLJMNzStNjQBQDKlipe2KoNnCTRrSQxlqZeSD8yzr7BT9gcYJSUXdalbRKI/KoayvMJ369tGtG2PpDUtOy4B03qt7RHQ3AaoUxjOeQGnNggAF/76dT5gnGFvejaqab7NlFTgKtERnaG0546JTXGkaltKBl4Bon+BqHD2BaSH6RaLu2suHvYFFXLmczL+JhABhkWUdk6MNGltPwHNVcA5rGSv3nPb/9vLAIDH4zwn4LhDAECCKrOyk/fFv1CqVJbhjCJ/x2+SNif1VqgFX6wM8JnFrYS+Z0kKp54yDeyTHMfq+qOsGgF0g4bar9esSN5BQFOqOtLmLAl6XJuUbHWwadvPWJS0T0qmt7yPbrOvn65pJsIFEq/LO3l2qX2/B9XGqwfiRksqOCr2cfxQH3nzSzJ+LUaebe8SAb5zsnLttFYOT7U9AloKhOBRAU1N3NCzhxvdzRwZBADc/xErM5uOUPRF17a1n+6mDRlVIfXZzD5N++fNgwCAeA83Rj69TXSM/X5e81SnZ9b+qGfeu+MGm7SNIcB2sao+T5DJSG1ZNlHCbtyc6t2xHQDwzoX3dN/PP3kLAFBJMqkZHBPpDkVoVx4cVeiqr23HzSgDIPurpOzYsCYHOdseAW0/Ac1VQMXSGvoeYzWTYxjdp8dVAGKXVYZnN9uv3UJzTqi7xtcnxCtf4eqeec+OEWzS/gsJ1Cq9oR6+hgAAAABJRU5ErkJggg==\" y=\"-21.487936\"/>\n   </g>\n   <g id=\"patch_28\">\n    <path d=\"M 389.718868 85.487936 \nL 389.718868 22.318125 \n\" style=\"fill:none;stroke:#000000;stroke-linecap:square;stroke-linejoin:miter;stroke-width:0.8;\"/>\n   </g>\n   <g id=\"patch_29\">\n    <path d=\"M 452.888679 85.487936 \nL 452.888679 22.318125 \n\" style=\"fill:none;stroke:#000000;stroke-linecap:square;stroke-linejoin:miter;stroke-width:0.8;\"/>\n   </g>\n   <g id=\"patch_30\">\n    <path d=\"M 389.718868 85.487936 \nL 452.888679 85.487936 \n\" style=\"fill:none;stroke:#000000;stroke-linecap:square;stroke-linejoin:miter;stroke-width:0.8;\"/>\n   </g>\n   <g id=\"patch_31\">\n    <path d=\"M 389.718868 22.318125 \nL 452.888679 22.318125 \n\" style=\"fill:none;stroke:#000000;stroke-linecap:square;stroke-linejoin:miter;stroke-width:0.8;\"/>\n   </g>\n   <g id=\"text_6\">\n    <!-- coat -->\n    <defs>\n     <path d=\"M 48.78125 52.59375 \nL 48.78125 44.1875 \nQ 44.96875 46.296875 41.140625 47.34375 \nQ 37.3125 48.390625 33.40625 48.390625 \nQ 24.65625 48.390625 19.8125 42.84375 \nQ 14.984375 37.3125 14.984375 27.296875 \nQ 14.984375 17.28125 19.8125 11.734375 \nQ 24.65625 6.203125 33.40625 6.203125 \nQ 37.3125 6.203125 41.140625 7.25 \nQ 44.96875 8.296875 48.78125 10.40625 \nL 48.78125 2.09375 \nQ 45.015625 0.34375 40.984375 -0.53125 \nQ 36.96875 -1.421875 32.421875 -1.421875 \nQ 20.0625 -1.421875 12.78125 6.34375 \nQ 5.515625 14.109375 5.515625 27.296875 \nQ 5.515625 40.671875 12.859375 48.328125 \nQ 20.21875 56 33.015625 56 \nQ 37.15625 56 41.109375 55.140625 \nQ 45.0625 54.296875 48.78125 52.59375 \nz\n\" id=\"DejaVuSans-99\"/>\n    </defs>\n    <g transform=\"translate(408.304399 16.318125)scale(0.12 -0.12)\">\n     <use xlink:href=\"#DejaVuSans-99\"/>\n     <use x=\"54.980469\" xlink:href=\"#DejaVuSans-111\"/>\n     <use x=\"116.162109\" xlink:href=\"#DejaVuSans-97\"/>\n     <use x=\"177.441406\" xlink:href=\"#DejaVuSans-116\"/>\n    </g>\n   </g>\n  </g>\n  <g id=\"axes_7\">\n   <g id=\"patch_32\">\n    <path d=\"M 465.522642 85.487936 \nL 528.692453 85.487936 \nL 528.692453 22.318125 \nL 465.522642 22.318125 \nz\n\" style=\"fill:#ffffff;\"/>\n   </g>\n   <g clip-path=\"url(#pf3b72e1da5)\">\n    <image height=\"64\" id=\"image076b415ff6\" transform=\"scale(1 -1)translate(0 -64)\" width=\"64\" x=\"465.522642\" xlink:href=\"data:image/png;base64,\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\" y=\"-21.487936\"/>\n   </g>\n   <g id=\"patch_33\">\n    <path d=\"M 465.522642 85.487936 \nL 465.522642 22.318125 \n\" style=\"fill:none;stroke:#000000;stroke-linecap:square;stroke-linejoin:miter;stroke-width:0.8;\"/>\n   </g>\n   <g id=\"patch_34\">\n    <path d=\"M 528.692453 85.487936 \nL 528.692453 22.318125 \n\" style=\"fill:none;stroke:#000000;stroke-linecap:square;stroke-linejoin:miter;stroke-width:0.8;\"/>\n   </g>\n   <g id=\"patch_35\">\n    <path d=\"M 465.522642 85.487936 \nL 528.692453 85.487936 \n\" style=\"fill:none;stroke:#000000;stroke-linecap:square;stroke-linejoin:miter;stroke-width:0.8;\"/>\n   </g>\n   <g id=\"patch_36\">\n    <path d=\"M 465.522642 22.318125 \nL 528.692453 22.318125 \n\" style=\"fill:none;stroke:#000000;stroke-linecap:square;stroke-linejoin:miter;stroke-width:0.8;\"/>\n   </g>\n   <g id=\"text_7\">\n    <!-- coat -->\n    <g transform=\"translate(484.108172 16.318125)scale(0.12 -0.12)\">\n     <use xlink:href=\"#DejaVuSans-99\"/>\n     <use x=\"54.980469\" xlink:href=\"#DejaVuSans-111\"/>\n     <use x=\"116.162109\" xlink:href=\"#DejaVuSans-97\"/>\n     <use x=\"177.441406\" xlink:href=\"#DejaVuSans-116\"/>\n    </g>\n   </g>\n  </g>\n  <g id=\"axes_8\">\n   <g id=\"patch_37\">\n    <path d=\"M 541.326415 85.487936 \nL 604.496226 85.487936 \nL 604.496226 22.318125 \nL 541.326415 22.318125 \nz\n\" style=\"fill:#ffffff;\"/>\n   </g>\n   <g clip-path=\"url(#pdf3fa41b0c)\">\n    <image height=\"64\" id=\"image75b0ebb860\" transform=\"scale(1 -1)translate(0 -64)\" width=\"64\" x=\"541.326415\" xlink:href=\"data:image/png;base64,\niVBORw0KGgoAAAANSUhEUgAAAEAAAABACAYAAACqaXHeAAAABHNCSVQICAgIfAhkiAAAAy1JREFUeJztmt1LFFEYh5+Z3TUtFcMs0jLTyqAPgrIghKg0CCQJlLoIBMnow8CbILqIbqMiKqGgbqIu+geKKMIuRC/UkhQyMvtC2/wAE1LXdXe6OOvZ1TVaUXmhOb+bOTvnnfM++5v3zJmdHavEqnBwsWxpAGkZA6QBpGUMkAaQljFAGkBaxgBpAGkZA6QBpGUMkAaQljFAGkBaxgBpAGkZA6QBpGUMkAaQlusN8E41PJsK9M7x3AwAgmmq2w6qJ+dJwxM6ZmhbyrSBQsmWbtsBtXU8iYPYk9Gn8/bE9OMzO0YV7Mi4juk9lAnA72x1nHcsZjBHsVghpm0nU6M51jQEVa7EEf9Pea1dWwEYLkjVO8M+tV3eOQKAv1hVREb5Tx2TVdoOgGdLIQCOFa0Ay4k4HYicSjveZ2fpEpUrWVWZFYqenbBPxVvN7wD4eGs3AD0VD3VMbe8eALpPbQBgoChd93kCToRjes6QL9pO6R5UaHFkLpM1l7/GLve80e3z184BkHW3eeGpIvKuW6tyvXoBwLPh7brvw67gguRwfQW43gCrxK6MXDFivAiHZg0eL9ut26sufgLg7OoGAKqf1ui+zbf7AQh1f/57ZnvGGhmT05uXq8Z88RqAfSk/AKgqPq5jJr9+//fYTlh9TFFLdng8EJfPVMB83w/w5ucB4C9drfd5jqglpnp9EwD1D8sByLnalNCYha1qvUr3qhufzl/ZANStealjvgRXAHDjQQUA2dcTG3umTAUkVAFTNzkJXCdiFThcBEBflZp7l3Y8132Pz5QBkNSp5vLIozTdtzFjAAD/yRyVqrNLjXNhr465c/oeAMmWWg5bxvJ13822gwAU3Fdfzff+GwChwaE4RtdXgOsNmPdFcC7TY/ToHt0+cKURgCddOwGoLHyr+1prdgDgtHQkjNFfG50ey8r8APT1q98wbfvrAThRfEzHTC2jpgIW5TW5mVURuSHBiU/lr1NnbmXrqN5nN7YvDs8s+U0FmBclXS5jgDSAtIwB0gDSMgZIA0jLGCANIC1jgDSAtIwB0gDSMgZIA0jLGCANIC1jgDSAtIwB0gDScr0BfwAKa8QTdJjnGQAAAABJRU5ErkJggg==\" y=\"-21.487936\"/>\n   </g>\n   <g id=\"patch_38\">\n    <path d=\"M 541.326415 85.487936 \nL 541.326415 22.318125 \n\" style=\"fill:none;stroke:#000000;stroke-linecap:square;stroke-linejoin:miter;stroke-width:0.8;\"/>\n   </g>\n   <g id=\"patch_39\">\n    <path d=\"M 604.496226 85.487936 \nL 604.496226 22.318125 \n\" style=\"fill:none;stroke:#000000;stroke-linecap:square;stroke-linejoin:miter;stroke-width:0.8;\"/>\n   </g>\n   <g id=\"patch_40\">\n    <path d=\"M 541.326415 85.487936 \nL 604.496226 85.487936 \n\" style=\"fill:none;stroke:#000000;stroke-linecap:square;stroke-linejoin:miter;stroke-width:0.8;\"/>\n   </g>\n   <g id=\"patch_41\">\n    <path d=\"M 541.326415 22.318125 \nL 604.496226 22.318125 \n\" style=\"fill:none;stroke:#000000;stroke-linecap:square;stroke-linejoin:miter;stroke-width:0.8;\"/>\n   </g>\n   <g id=\"text_8\">\n    <!-- sandal -->\n    <g transform=\"translate(553.153508 16.318125)scale(0.12 -0.12)\">\n     <use xlink:href=\"#DejaVuSans-115\"/>\n     <use x=\"52.099609\" xlink:href=\"#DejaVuSans-97\"/>\n     <use x=\"113.378906\" xlink:href=\"#DejaVuSans-110\"/>\n     <use x=\"176.757812\" xlink:href=\"#DejaVuSans-100\"/>\n     <use x=\"240.234375\" xlink:href=\"#DejaVuSans-97\"/>\n     <use x=\"301.513672\" xlink:href=\"#DejaVuSans-108\"/>\n    </g>\n   </g>\n  </g>\n  <g id=\"axes_9\">\n   <g id=\"patch_42\">\n    <path d=\"M 617.130189 85.487936 \nL 680.3 85.487936 \nL 680.3 22.318125 \nL 617.130189 22.318125 \nz\n\" style=\"fill:#ffffff;\"/>\n   </g>\n   <g clip-path=\"url(#p897c77635f)\">\n    <image height=\"64\" id=\"image8891b693ef\" transform=\"scale(1 -1)translate(0 -64)\" width=\"64\" x=\"617.130189\" xlink:href=\"data:image/png;base64,\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\" y=\"-21.487936\"/>\n   </g>\n   <g id=\"patch_43\">\n    <path d=\"M 617.130189 85.487936 \nL 617.130189 22.318125 \n\" style=\"fill:none;stroke:#000000;stroke-linecap:square;stroke-linejoin:miter;stroke-width:0.8;\"/>\n   </g>\n   <g id=\"patch_44\">\n    <path d=\"M 680.3 85.487936 \nL 680.3 22.318125 \n\" style=\"fill:none;stroke:#000000;stroke-linecap:square;stroke-linejoin:miter;stroke-width:0.8;\"/>\n   </g>\n   <g id=\"patch_45\">\n    <path d=\"M 617.130189 85.487936 \nL 680.3 85.487936 \n\" style=\"fill:none;stroke:#000000;stroke-linecap:square;stroke-linejoin:miter;stroke-width:0.8;\"/>\n   </g>\n   <g id=\"patch_46\">\n    <path d=\"M 617.130189 22.318125 \nL 680.3 22.318125 \n\" style=\"fill:none;stroke:#000000;stroke-linecap:square;stroke-linejoin:miter;stroke-width:0.8;\"/>\n   </g>\n   <g id=\"text_9\">\n    <!-- coat -->\n    <g transform=\"translate(635.715719 16.318125)scale(0.12 -0.12)\">\n     <use xlink:href=\"#DejaVuSans-99\"/>\n     <use x=\"54.980469\" xlink:href=\"#DejaVuSans-111\"/>\n     <use x=\"116.162109\" xlink:href=\"#DejaVuSans-97\"/>\n     <use x=\"177.441406\" xlink:href=\"#DejaVuSans-116\"/>\n    </g>\n   </g>\n  </g>\n </g>\n <defs>\n  <clipPath id=\"pa68530da84\">\n   <rect height=\"63.169811\" width=\"63.169811\" x=\"10.7\" y=\"22.318125\"/>\n  </clipPath>\n  <clipPath id=\"p5f8e8f80ab\">\n   <rect height=\"63.169811\" width=\"63.169811\" x=\"86.503774\" y=\"22.318125\"/>\n  </clipPath>\n  <clipPath id=\"p2a3bd5dea1\">\n   <rect height=\"63.169811\" width=\"63.169811\" x=\"162.307547\" y=\"22.318125\"/>\n  </clipPath>\n  <clipPath id=\"pb9edc32ee1\">\n   <rect height=\"63.169811\" width=\"63.169811\" x=\"238.111321\" y=\"22.318125\"/>\n  </clipPath>\n  <clipPath id=\"pb508f35734\">\n   <rect height=\"63.169811\" width=\"63.169811\" x=\"313.915094\" y=\"22.318125\"/>\n  </clipPath>\n  <clipPath id=\"pc7a5aa2515\">\n   <rect height=\"63.169811\" width=\"63.169811\" x=\"389.718868\" y=\"22.318125\"/>\n  </clipPath>\n  <clipPath id=\"pf3b72e1da5\">\n   <rect height=\"63.169811\" width=\"63.169811\" x=\"465.522642\" y=\"22.318125\"/>\n  </clipPath>\n  <clipPath id=\"pdf3fa41b0c\">\n   <rect height=\"63.169811\" width=\"63.169811\" x=\"541.326415\" y=\"22.318125\"/>\n  </clipPath>\n  <clipPath id=\"p897c77635f\">\n   <rect height=\"63.169811\" width=\"63.169811\" x=\"617.130189\" y=\"22.318125\"/>\n  </clipPath>\n </defs>\n</svg>\n"
          },
          "metadata": {
            "tags": []
          }
        }
      ]
    },
    {
      "cell_type": "code",
      "metadata": {
        "id": "bew-TB7Sew6e",
        "colab_type": "code",
        "colab": {}
      },
      "source": [
        "batch_size = 256\n",
        "transformer = gdata.vision.transforms.ToTensor()\n",
        "num_workers = 16\n",
        "\n",
        "train_iter = gdata.DataLoader(mnist_train.transform_first(transformer), batch_size, shuffle=True, num_workers=num_workers)\n",
        "test_iter = gdata.DataLoader(mnist_test.transform_first(transformer), batch_size, shuffle=False, num_workers=num_workers)"
      ],
      "execution_count": 0,
      "outputs": []
    },
    {
      "cell_type": "code",
      "metadata": {
        "id": "mlMnqdvEm6gF",
        "colab_type": "code",
        "colab": {
          "base_uri": "https://localhost:8080/",
          "height": 34
        },
        "outputId": "7b5e8969-4b67-40fd-8bef-adf6a603f978"
      },
      "source": [
        "start = time.time()\n",
        "for X, y in train_iter:\n",
        "    continue \n",
        "'%.2f sec' % (time.time() - start)"
      ],
      "execution_count": 88,
      "outputs": [
        {
          "output_type": "execute_result",
          "data": {
            "text/plain": [
              "'5.30 sec'"
            ]
          },
          "metadata": {
            "tags": []
          },
          "execution_count": 88
        }
      ]
    },
    {
      "cell_type": "markdown",
      "metadata": {
        "id": "yoOUL6hlnN5u",
        "colab_type": "text"
      },
      "source": [
        "## 3.6 softmax 回归的从零开始实现"
      ]
    },
    {
      "cell_type": "code",
      "metadata": {
        "id": "Lrlg_Vs5pVZi",
        "colab_type": "code",
        "colab": {}
      },
      "source": [
        "%matplotlib inline \n",
        "import d2lzh as d2l \n",
        "from mxnet import autograd, nd "
      ],
      "execution_count": 0,
      "outputs": []
    },
    {
      "cell_type": "code",
      "metadata": {
        "id": "sK2yhy4LznSq",
        "colab_type": "code",
        "colab": {}
      },
      "source": [
        "batch_size = 256 \n",
        "train_iter, test_iter = d2l.load_data_fashion_mnist(batch_size)"
      ],
      "execution_count": 0,
      "outputs": []
    },
    {
      "cell_type": "code",
      "metadata": {
        "id": "c5_hPGaC5NPd",
        "colab_type": "code",
        "colab": {}
      },
      "source": [
        "num_inputs = 784 \n",
        "num_outputs = 10 \n",
        "\n",
        "W = nd.random.normal(scale=0.01, shape=(num_inputs, num_outputs))\n",
        "b = nd.zeros(num_outputs)"
      ],
      "execution_count": 0,
      "outputs": []
    },
    {
      "cell_type": "code",
      "metadata": {
        "id": "2yb7DmSz5etn",
        "colab_type": "code",
        "colab": {}
      },
      "source": [
        "W.attach_grad()\n",
        "b.attach_grad()"
      ],
      "execution_count": 0,
      "outputs": []
    },
    {
      "cell_type": "code",
      "metadata": {
        "id": "9Pj2xmRC6Ig8",
        "colab_type": "code",
        "colab": {
          "base_uri": "https://localhost:8080/",
          "height": 134
        },
        "outputId": "6f010d0a-5470-4941-a6a5-eb10e111884f"
      },
      "source": [
        "X = nd.array([[1, 2, 3], [4, 5, 6]])\n",
        "print(X)\n",
        "X.sum(axis=0, keepdims=True)"
      ],
      "execution_count": 214,
      "outputs": [
        {
          "output_type": "stream",
          "text": [
            "\n",
            "[[1. 2. 3.]\n",
            " [4. 5. 6.]]\n",
            "<NDArray 2x3 @cpu(0)>\n"
          ],
          "name": "stdout"
        },
        {
          "output_type": "execute_result",
          "data": {
            "text/plain": [
              "\n",
              "[[5. 7. 9.]]\n",
              "<NDArray 1x3 @cpu(0)>"
            ]
          },
          "metadata": {
            "tags": []
          },
          "execution_count": 214
        }
      ]
    },
    {
      "cell_type": "code",
      "metadata": {
        "id": "P4kXqhbo6bjE",
        "colab_type": "code",
        "colab": {
          "base_uri": "https://localhost:8080/",
          "height": 134
        },
        "outputId": "f4aa7f09-0a24-4a0d-be57-a9cda0f56b3b"
      },
      "source": [
        "X, X.sum(axis=1, keepdims=True)"
      ],
      "execution_count": 215,
      "outputs": [
        {
          "output_type": "execute_result",
          "data": {
            "text/plain": [
              "(\n",
              " [[1. 2. 3.]\n",
              "  [4. 5. 6.]]\n",
              " <NDArray 2x3 @cpu(0)>, \n",
              " [[ 6.]\n",
              "  [15.]]\n",
              " <NDArray 2x1 @cpu(0)>)"
            ]
          },
          "metadata": {
            "tags": []
          },
          "execution_count": 215
        }
      ]
    },
    {
      "cell_type": "code",
      "metadata": {
        "id": "o2gA8_md6yj9",
        "colab_type": "code",
        "colab": {}
      },
      "source": [
        "def softmax(X):\n",
        "    X_exp = X.exp()\n",
        "    partition = X_exp.sum(axis=1, keepdims=True)\n",
        "    return X_exp / partition "
      ],
      "execution_count": 0,
      "outputs": []
    },
    {
      "cell_type": "code",
      "metadata": {
        "id": "k-mPr77U7gxD",
        "colab_type": "code",
        "colab": {
          "base_uri": "https://localhost:8080/",
          "height": 118
        },
        "outputId": "7ffa5120-7808-40fe-f96a-d1488f624736"
      },
      "source": [
        "X = nd.random.normal(shape=(2, 5))\n",
        "X_prob = softmax(X)\n",
        "X_prob, X_prob.sum(axis=1)"
      ],
      "execution_count": 217,
      "outputs": [
        {
          "output_type": "execute_result",
          "data": {
            "text/plain": [
              "(\n",
              " [[0.7280542  0.07550384 0.08915064 0.09968377 0.00760758]\n",
              "  [0.24716635 0.08726549 0.17607024 0.2635011  0.22599685]]\n",
              " <NDArray 2x5 @cpu(0)>, \n",
              " [1. 1.]\n",
              " <NDArray 2 @cpu(0)>)"
            ]
          },
          "metadata": {
            "tags": []
          },
          "execution_count": 217
        }
      ]
    },
    {
      "cell_type": "code",
      "metadata": {
        "id": "O8jY3w2E7tPx",
        "colab_type": "code",
        "colab": {}
      },
      "source": [
        "def net(X):\n",
        "    return softmax(nd.dot(X.reshape((-1, num_inputs)), W) + b)"
      ],
      "execution_count": 0,
      "outputs": []
    },
    {
      "cell_type": "code",
      "metadata": {
        "id": "fC_zn7dgVu6Y",
        "colab_type": "code",
        "colab": {
          "base_uri": "https://localhost:8080/",
          "height": 67
        },
        "outputId": "f5a9b871-ac4b-4a48-8dd0-06ca7c4d53fa"
      },
      "source": [
        "y_hat = nd.array([[0.1, 0.3, 0.6], [0.3, 0.2, 0.5]])\n",
        "y = nd.array([0, 2], dtype='int32')\n",
        "nd.pick(y_hat, y)"
      ],
      "execution_count": 219,
      "outputs": [
        {
          "output_type": "execute_result",
          "data": {
            "text/plain": [
              "\n",
              "[0.1 0.5]\n",
              "<NDArray 2 @cpu(0)>"
            ]
          },
          "metadata": {
            "tags": []
          },
          "execution_count": 219
        }
      ]
    },
    {
      "cell_type": "code",
      "metadata": {
        "id": "9jNYk8vHXm6v",
        "colab_type": "code",
        "colab": {}
      },
      "source": [
        "def cross_entropy(y_hat, y):\n",
        "    return -nd.pick(y_hat, y).log()"
      ],
      "execution_count": 0,
      "outputs": []
    },
    {
      "cell_type": "code",
      "metadata": {
        "id": "wa2ghKBOYizD",
        "colab_type": "code",
        "colab": {}
      },
      "source": [
        "def accuracy(y_hat, y):\n",
        "    return (y_hat.argmax(axis=1) == y.astype('float32')).mean().asscalar()"
      ],
      "execution_count": 0,
      "outputs": []
    },
    {
      "cell_type": "code",
      "metadata": {
        "id": "Y17Aked_ZKD0",
        "colab_type": "code",
        "colab": {
          "base_uri": "https://localhost:8080/",
          "height": 34
        },
        "outputId": "3356427f-5309-41be-82b9-feefa2b9f83d"
      },
      "source": [
        "accuracy(y_hat, y)"
      ],
      "execution_count": 222,
      "outputs": [
        {
          "output_type": "execute_result",
          "data": {
            "text/plain": [
              "0.5"
            ]
          },
          "metadata": {
            "tags": []
          },
          "execution_count": 222
        }
      ]
    },
    {
      "cell_type": "code",
      "metadata": {
        "id": "USBdIe-EZVeB",
        "colab_type": "code",
        "colab": {}
      },
      "source": [
        "def evaluate_accuracy(data_iter, net):\n",
        "    acc_sum, n = 0.0, 0 \n",
        "    for X, y in data_iter:\n",
        "        y = y.astype('float32')\n",
        "        acc_sum += (net(X).argmax(axis=1) == y).sum().asscalar()\n",
        "        n += y.size \n",
        "    return acc_sum / n "
      ],
      "execution_count": 0,
      "outputs": []
    },
    {
      "cell_type": "code",
      "metadata": {
        "id": "kaIARgbLZ4iu",
        "colab_type": "code",
        "colab": {
          "base_uri": "https://localhost:8080/",
          "height": 34
        },
        "outputId": "58289f1c-ed53-4eba-f9c1-3ec4d65b7b27"
      },
      "source": [
        "evaluate_accuracy(test_iter, net)"
      ],
      "execution_count": 228,
      "outputs": [
        {
          "output_type": "execute_result",
          "data": {
            "text/plain": [
              "0.0992"
            ]
          },
          "metadata": {
            "tags": []
          },
          "execution_count": 228
        }
      ]
    },
    {
      "cell_type": "code",
      "metadata": {
        "id": "Z3Nl8XhyaA_g",
        "colab_type": "code",
        "colab": {}
      },
      "source": [
        "num_epochs, lr = 5, 0.1 \n",
        "\n",
        "def train_ch3(net, train_iter, test_iter, loss, num_epochs, batch_size, params=None, lr=None, trainer=None):\n",
        "    for epoch in range(num_epochs):\n",
        "        train_l_sum, train_acc_sum, n = 0.0, 0.0, 0\n",
        "        for X, y in train_iter:\n",
        "            with autograd.record():\n",
        "                y_hat = net(X)\n",
        "                l = loss(y_hat, y).sum()\n",
        "            l.backward()\n",
        "            if trainer is None:\n",
        "                d2l.sgd(params, lr, batch_size)\n",
        "            else:\n",
        "                trainer.step(batch_size)\n",
        "            y = y.astype('float32')\n",
        "            train_l_sum += l.asscalar()\n",
        "            train_acc_sum += (y_hat.argmax(axis=1) == y).sum().asscalar()\n",
        "            n += y.size \n",
        "        test_acc = evaluate_accuracy(test_iter, net)\n",
        "        print('epoch %d, loss %.4f, train acc %.3f, test acc %.3f' \n",
        "          % (epoch+1, train_l_sum / n, train_acc_sum / n, test_acc))"
      ],
      "execution_count": 0,
      "outputs": []
    },
    {
      "cell_type": "code",
      "metadata": {
        "id": "BAiwQ8jojFPb",
        "colab_type": "code",
        "colab": {
          "base_uri": "https://localhost:8080/",
          "height": 101
        },
        "outputId": "1f267dbd-417d-41e0-85a5-4ff2ab46e736"
      },
      "source": [
        "train_ch3(net, train_iter, test_iter, cross_entropy, num_epochs, batch_size, [W, b], lr)"
      ],
      "execution_count": 232,
      "outputs": [
        {
          "output_type": "stream",
          "text": [
            "epoch 1, loss 0.4781, train acc 0.838, test acc 0.844\n",
            "epoch 2, loss 0.4685, train acc 0.840, test acc 0.841\n",
            "epoch 3, loss 0.4621, train acc 0.842, test acc 0.842\n",
            "epoch 4, loss 0.4558, train acc 0.845, test acc 0.846\n",
            "epoch 5, loss 0.4515, train acc 0.846, test acc 0.847\n"
          ],
          "name": "stdout"
        }
      ]
    },
    {
      "cell_type": "code",
      "metadata": {
        "id": "TJa5TLz6rP4l",
        "colab_type": "code",
        "colab": {
          "base_uri": "https://localhost:8080/",
          "height": 166
        },
        "outputId": "e86dcb4e-6db4-4866-8fa5-a2c5616576fe"
      },
      "source": [
        "for X, y in test_iter:\n",
        "    break \n",
        "\n",
        "true_labels = d2l.get_fashion_mnist_labels(y.asnumpy())\n",
        "pred_labels = d2l.get_fashion_mnist_labels(net(X).argmax(axis=1).asnumpy())\n",
        "titles = [true + '\\n' + pred for true, pred in zip(true_labels, pred_labels)]\n",
        "d2l.show_fashion_mnist(X[0:9], titles[0:9])"
      ],
      "execution_count": 233,
      "outputs": [
        {
          "output_type": "display_data",
          "data": {
            "text/plain": [
              "<Figure size 864x864 with 9 Axes>"
            ],
            "image/svg+xml": "<?xml version=\"1.0\" encoding=\"utf-8\" standalone=\"no\"?>\n<!DOCTYPE svg PUBLIC \"-//W3C//DTD SVG 1.1//EN\"\n  \"http://www.w3.org/Graphics/SVG/1.1/DTD/svg11.dtd\">\n<!-- Created with matplotlib (https://matplotlib.org/) -->\n<svg height=\"109.625311pt\" version=\"1.1\" viewBox=\"0 0 687.5 109.625311\" width=\"687.5pt\" xmlns=\"http://www.w3.org/2000/svg\" xmlns:xlink=\"http://www.w3.org/1999/xlink\">\n <defs>\n  <style type=\"text/css\">\n*{stroke-linecap:butt;stroke-linejoin:round;}\n  </style>\n </defs>\n <g id=\"figure_1\">\n  <g id=\"patch_1\">\n   <path d=\"M 0 109.625311 \nL 687.5 109.625311 \nL 687.5 0 \nL 0 0 \nz\n\" style=\"fill:none;\"/>\n  </g>\n  <g id=\"axes_1\">\n   <g id=\"patch_2\">\n    <path d=\"M 10.7 98.925311 \nL 73.869811 98.925311 \nL 73.869811 35.7555 \nL 10.7 35.7555 \nz\n\" style=\"fill:#ffffff;\"/>\n   </g>\n   <g clip-path=\"url(#p4aafa67000)\">\n    <image height=\"64\" id=\"image39e180e4c8\" transform=\"scale(1 -1)translate(0 -64)\" width=\"64\" x=\"10.7\" xlink:href=\"data:image/png;base64,\niVBORw0KGgoAAAANSUhEUgAAAEAAAABACAYAAACqaXHeAAAABHNCSVQICAgIfAhkiAAACONJREFUeJztm1lwW2cVgL+rK8mSJS9x4iSunbVk6ZZAkq5QBmiadprCUyGdaSfAMKV0mKEt8MJDHxmYKQxThumUByZTKJQuFMrSkgCBTqdNQ2lCmo20iXFwFiexHduRZUlXuuLh/MuVdSXbk7dI5+VK/zn3v+f+Zz//f53Nzn1lLgOcj10HwKVVbWYs0xMBINsrU/tRdW31qyeIqjE3wMaUK0NZmScxLNf4mKXpGCjK2J/fvRz2iVzW3VcAROdE7Tj2d1mkcfdzbwFwT/qwQe3MXAvA5tRRAMb9FgA6InlDc8FvBcBFNCDleAbXEZHfCfW4vfnFANzcMmRoBksy5xMrbhTWovZVysXirF+p4TWg4RdgdiYQVP1p8NTbdwJweuM8M3YuLw7xrbGrAWiLiuqPe4mq+xOuqHvMsQ4yGikBkHS9CtqxVKv5/YMj8txexPTmovZBaGrArKjKtSNlJONWjfUlxgDwyoLriE4B0JoqGJphLw1ATEk7gn1Gqysak3BEqsNFoe1yM4ZmQ88gAOdCmVI8+aWafBvSGSmucJibDwjRhPaVIu2Pt31oxv46JslR0hWJa+n+L99laNKuDYkArhOSJCmIOSLJVCCM5kqxcB7nCE0NmBVVHR+QiIunzvlWIl5Z1rVbSXnES1Xd55cddVX2GhBFqSR/8k6sYu5c2T4j47XU5rE8s+1raHgNaPgFCDeBWg4lxBTynkxRCqylr0wg7wuuJSLhTIc8AM+vDJ/BMKgdYtrNAdYEUo4No/0X5gOwjDNqgsB85RoONYT/pgbUxeoVqxNisrk4YKu6IEScyhXPluJVNDrE+dhnxJQ2aE0Kg0IuVhM3G74NjzNSXOEQrgHTbSVsRdVYflKkqiUJEFE2rG05TPI6DEYiMk8pIG0PsecEXsU8FSxNVafgM75HCDS8BjT8AsytJRYGheo11GFPq7VRdyckjE4LlUHQ4U+HyFLAUUaylSbguPZ/eRZVoJln1pRXKMwuEarjTJxi9RpqSWvHmEHy9gjVktE0QSeqnV5MaYVXEul6Zcuum5vOY+1qsl4129SAuRBX2JnqwZVD7FpL82JReniTRdEA3R8Aa/u6a3Q232FwPS3jgO0aLYhJJ6g10A9w89M0wKkjy3odrdp3NQbMLhFSNlT2q1fSKQou5lgvrj362pazgO3kBAsm7eHnR0W6wX7fJV+6x0ui0m369cWbAOiM5AyNO1X7pUxhpP2C1o6Q6NDwGtDwCzC3llhIqyk2LmsYzNd/uV9UdtEicWajE+IMU0nrBHVo830xocJA2uD61ske4MmBbgCWLBsG4Auddid4Wk+Vcikk+anDt4amBoSO1kqEgl0X7VAU6ebkJYNqf1/C3ugiJcFdIvnsYru1lVS3X9goE3QdsVNPHegBoC8jWnVxexKAa+JWXlMLKytUJ2J51iHaiUkVarSj6QSrwQk7IRJd0gdAaei8DKjVnbzno4Zm9EEJW99d92rVpI+/eT8AN67+LwALW4R2ZfKCocn6Ip1/j8uz2mLWqK9NS59PJ1SdbhaoDJVLoxcB+NaJzwMwtLvP4Bbukz5Csn9U3uPDfkE0U+FqaPgFCDWBSEp2cpKvi9NKK/X8zLz/GJq1ccnyPigsAuBgdonBbUwNAHCh2A7AtnbxcJ/c8W1D46XlsV0HxbxG11s2fv65pwF4YfRmADakTwJwqmD3Fu9tOwDAUEmeMVKyYXRSHcl59uQtAHQ+JE64OHiqagEaXgNCw6A/OQlAd0LC0DUpkfbx3CJDM6r27HXF1hqo9N7NrADgRKa7Yt7YDePmd/6c3LfuYdGOFa3DBvencXG293VJ4rNK1Qs7CvYUyuHCVQCc8zoq+ABYmxQnmo7VlryGpgbUQ/7lnXUAbLxTbHAqsCe/IDEB2HCmt7EA7miTczuXOqSqe2V4EwBfW/Omoem9XsLYgexSmSfQOt/SfgiAr7z0iDA5JX7i2S8+ZWjOFEUbWtSRumC/sV3x0v+e+KWVNDWgJtTVgJW/ldVtv0uK73mxrMG5asVbI2JnmZI9AfboQUmExs6Kh95+qxym/NfEckOztyx+Qm9/PbJ4t8F9+YWvyzMKIvn5hyQh+uaxbYbm6bW/AmBE+SLNB9hew6qfSeJVr0fc8BrQ8AtQ1wTcv+8DYMKXaqwvPmpwOtk4OimV2/0L3jG411vkrHB6p6jw1Z+Sw2xBR6c3SzSsidkeV/c+Cb9+VGjiE6rJmq/eY9Tts774iBlrU/2y0rHj9V4PaGrADP0AVT19/2+fBeDJLc8bkmM5kXxRObEXR24yuB+ufgmAkSclpT7tSQqrj9AC3NB2GoD3xpcBcKpoWen5xgkALt0uyVHp0xsA+Om6Xxia309IsqS3zTYkBwzuS689DMAq9oa+XhCaGhA2GEmKzftZCXvLf6fO+NxlW9960yOlUmCdkAD8ZkwSH30YUtO2R23Nv2d0JQDzW+QZL49vMrjHe3cBMHZc7vtEYg8Ar2ZswXVySs4IXTXtWC7Ammck5TZdyubWWG1o+AUI7QfUUpn8ruXm9/NrnwPg7ZxUZUfVFaw6agfVExc1/WrHGUPzfkHy9Y9ERQb7C9Yah4qdAAwq5zmYk2s6YEK9cakltrWJw9x66AGDS93dX/k+dU6PNzUgVAMi0w4gqZWLLl9qhs7/RBKQe5dI5ba9858Gl9MnQ1TP/B/Z1QD86LWthqb3DXFR5zaJ5Ds/sBsr528Vll7Z+mPAfk3iBQ5SvTgmH0sdmZBw7D1gNah46rR6u9rOz7xqTUyDQH0fUGdX1ZCqz9VKt1xvxvJPSBj6w3VSsW197DEAUi/bxGTo0dsAePChnQD88Tt3GFxqj9j1ljfk+szh2wFY/j2rJeX99jO92sw1NWBGCNUAs6XkFaYhqg9KzgbKt60HYHi93RrzUjJXrltvcVn6Tvnekq4de2aevN5x2OZByZmh4RcgtBaoUn2DCImYbarC862D0m11DW5GEpjFu+14eVCSIl1vuJ32kJQzTxKh6Ucng98Hm3n0zm+QN+PEm05wRvg/05MEt6YYylMAAAAASUVORK5CYII=\" y=\"-34.925311\"/>\n   </g>\n   <g id=\"patch_3\">\n    <path d=\"M 10.7 98.925311 \nL 10.7 35.7555 \n\" style=\"fill:none;stroke:#000000;stroke-linecap:square;stroke-linejoin:miter;stroke-width:0.8;\"/>\n   </g>\n   <g id=\"patch_4\">\n    <path d=\"M 73.869811 98.925311 \nL 73.869811 35.7555 \n\" style=\"fill:none;stroke:#000000;stroke-linecap:square;stroke-linejoin:miter;stroke-width:0.8;\"/>\n   </g>\n   <g id=\"patch_5\">\n    <path d=\"M 10.7 98.925311 \nL 73.869811 98.925311 \n\" style=\"fill:none;stroke:#000000;stroke-linecap:square;stroke-linejoin:miter;stroke-width:0.8;\"/>\n   </g>\n   <g id=\"patch_6\">\n    <path d=\"M 10.7 35.7555 \nL 73.869811 35.7555 \n\" style=\"fill:none;stroke:#000000;stroke-linecap:square;stroke-linejoin:miter;stroke-width:0.8;\"/>\n   </g>\n   <g id=\"text_1\">\n    <!-- t-shirt -->\n    <defs>\n     <path d=\"M 18.3125 70.21875 \nL 18.3125 54.6875 \nL 36.8125 54.6875 \nL 36.8125 47.703125 \nL 18.3125 47.703125 \nL 18.3125 18.015625 \nQ 18.3125 11.328125 20.140625 9.421875 \nQ 21.96875 7.515625 27.59375 7.515625 \nL 36.8125 7.515625 \nL 36.8125 0 \nL 27.59375 0 \nQ 17.1875 0 13.234375 3.875 \nQ 9.28125 7.765625 9.28125 18.015625 \nL 9.28125 47.703125 \nL 2.6875 47.703125 \nL 2.6875 54.6875 \nL 9.28125 54.6875 \nL 9.28125 70.21875 \nz\n\" id=\"DejaVuSans-116\"/>\n     <path d=\"M 4.890625 31.390625 \nL 31.203125 31.390625 \nL 31.203125 23.390625 \nL 4.890625 23.390625 \nz\n\" id=\"DejaVuSans-45\"/>\n     <path d=\"M 44.28125 53.078125 \nL 44.28125 44.578125 \nQ 40.484375 46.53125 36.375 47.5 \nQ 32.28125 48.484375 27.875 48.484375 \nQ 21.1875 48.484375 17.84375 46.4375 \nQ 14.5 44.390625 14.5 40.28125 \nQ 14.5 37.15625 16.890625 35.375 \nQ 19.28125 33.59375 26.515625 31.984375 \nL 29.59375 31.296875 \nQ 39.15625 29.25 43.1875 25.515625 \nQ 47.21875 21.78125 47.21875 15.09375 \nQ 47.21875 7.46875 41.1875 3.015625 \nQ 35.15625 -1.421875 24.609375 -1.421875 \nQ 20.21875 -1.421875 15.453125 -0.5625 \nQ 10.6875 0.296875 5.421875 2 \nL 5.421875 11.28125 \nQ 10.40625 8.6875 15.234375 7.390625 \nQ 20.0625 6.109375 24.8125 6.109375 \nQ 31.15625 6.109375 34.5625 8.28125 \nQ 37.984375 10.453125 37.984375 14.40625 \nQ 37.984375 18.0625 35.515625 20.015625 \nQ 33.0625 21.96875 24.703125 23.78125 \nL 21.578125 24.515625 \nQ 13.234375 26.265625 9.515625 29.90625 \nQ 5.8125 33.546875 5.8125 39.890625 \nQ 5.8125 47.609375 11.28125 51.796875 \nQ 16.75 56 26.8125 56 \nQ 31.78125 56 36.171875 55.265625 \nQ 40.578125 54.546875 44.28125 53.078125 \nz\n\" id=\"DejaVuSans-115\"/>\n     <path d=\"M 54.890625 33.015625 \nL 54.890625 0 \nL 45.90625 0 \nL 45.90625 32.71875 \nQ 45.90625 40.484375 42.875 44.328125 \nQ 39.84375 48.1875 33.796875 48.1875 \nQ 26.515625 48.1875 22.3125 43.546875 \nQ 18.109375 38.921875 18.109375 30.90625 \nL 18.109375 0 \nL 9.078125 0 \nL 9.078125 75.984375 \nL 18.109375 75.984375 \nL 18.109375 46.1875 \nQ 21.34375 51.125 25.703125 53.5625 \nQ 30.078125 56 35.796875 56 \nQ 45.21875 56 50.046875 50.171875 \nQ 54.890625 44.34375 54.890625 33.015625 \nz\n\" id=\"DejaVuSans-104\"/>\n     <path d=\"M 9.421875 54.6875 \nL 18.40625 54.6875 \nL 18.40625 0 \nL 9.421875 0 \nz\nM 9.421875 75.984375 \nL 18.40625 75.984375 \nL 18.40625 64.59375 \nL 9.421875 64.59375 \nz\n\" id=\"DejaVuSans-105\"/>\n     <path d=\"M 41.109375 46.296875 \nQ 39.59375 47.171875 37.8125 47.578125 \nQ 36.03125 48 33.890625 48 \nQ 26.265625 48 22.1875 43.046875 \nQ 18.109375 38.09375 18.109375 28.8125 \nL 18.109375 0 \nL 9.078125 0 \nL 9.078125 54.6875 \nL 18.109375 54.6875 \nL 18.109375 46.1875 \nQ 20.953125 51.171875 25.484375 53.578125 \nQ 30.03125 56 36.53125 56 \nQ 37.453125 56 38.578125 55.875 \nQ 39.703125 55.765625 41.0625 55.515625 \nz\n\" id=\"DejaVuSans-114\"/>\n    </defs>\n    <g transform=\"translate(24.354281 16.318125)scale(0.12 -0.12)\">\n     <use xlink:href=\"#DejaVuSans-116\"/>\n     <use x=\"39.208984\" xlink:href=\"#DejaVuSans-45\"/>\n     <use x=\"75.292969\" xlink:href=\"#DejaVuSans-115\"/>\n     <use x=\"127.392578\" xlink:href=\"#DejaVuSans-104\"/>\n     <use x=\"190.771484\" xlink:href=\"#DejaVuSans-105\"/>\n     <use x=\"218.554688\" xlink:href=\"#DejaVuSans-114\"/>\n     <use x=\"259.667969\" xlink:href=\"#DejaVuSans-116\"/>\n    </g>\n    <!-- t-shirt -->\n    <g transform=\"translate(24.354281 29.7555)scale(0.12 -0.12)\">\n     <use xlink:href=\"#DejaVuSans-116\"/>\n     <use x=\"39.208984\" xlink:href=\"#DejaVuSans-45\"/>\n     <use x=\"75.292969\" xlink:href=\"#DejaVuSans-115\"/>\n     <use x=\"127.392578\" xlink:href=\"#DejaVuSans-104\"/>\n     <use x=\"190.771484\" xlink:href=\"#DejaVuSans-105\"/>\n     <use x=\"218.554688\" xlink:href=\"#DejaVuSans-114\"/>\n     <use x=\"259.667969\" xlink:href=\"#DejaVuSans-116\"/>\n    </g>\n   </g>\n  </g>\n  <g id=\"axes_2\">\n   <g id=\"patch_7\">\n    <path d=\"M 86.503774 98.925311 \nL 149.673585 98.925311 \nL 149.673585 35.7555 \nL 86.503774 35.7555 \nz\n\" style=\"fill:#ffffff;\"/>\n   </g>\n   <g clip-path=\"url(#p2a3c4553ca)\">\n    <image height=\"64\" id=\"image5d612d128c\" transform=\"scale(1 -1)translate(0 -64)\" width=\"64\" x=\"86.503774\" xlink:href=\"data:image/png;base64,\niVBORw0KGgoAAAANSUhEUgAAAEAAAABACAYAAACqaXHeAAAABHNCSVQICAgIfAhkiAAABYZJREFUeJztm02IHFUQx389PbMzs1/Z7OxOErNrdqO72ahEIUJUgkj8yCHBSBAjiAFRyMWzZw+eAkLwgxy8eRAEo5CDENFEQxC/FnTXRBPMt/vlbHZnd76np6c9VM97megp9AuE7rpMd9fr6uK9/6uqV1VjPWO96GGYKidGATg89pl6dvCn1wAYfXkKgPL+HYp35N33AZisjgDwxYEnAWhO/Rm4brHAJd5lFL8THzk0chqAoXhFPXtl6y8AfE8HAKWsXovN8QYAqfRFAD7avg+A/qngdQs9AkI/AXdkC2TsIgCzblI9m169x79aBKCZsBSv5DUBSFjyrDqgeUFThACTwu0t9wPQGftV7tEed67UC0C3j4BESfMc/3Le7QKg+EDNmI4RAkwKn92dBaADFwAXvZdnr2cAGOeS8JL8h5qerE886RrTMUKASeGrY7JydWwAnGaH4lnV9rmvZDU6mv5v1UsA4NZtYzqGHgGhnwCjWyAzugxoY+Z6er7Tc+2w7prRbrDkiVoto2nZTUxRhACTwg+O/gjAFWcAgD67rHiJYvvYzpx2dU1PVj7vB0LD65aN6RghwKTwfT1nAfg4/6g80F6QdK59X9tVfV/y3V+u0QNAb7IKgImAOPQICP0EGNkC9thmAObdnwFIWGLglhrdaszak/4ZwL9PFBuK14oAf8iLnAsLgwBsYj5wXSMEmBBa2iJu75OlxwHIJgoAPJy+psacWOhtV+TcVXV93ZGT4kJZjKBTN2erIwSYELqyWcTOVtYAGgEf/L3rplFzbe+4yzrYybudIqeSAsBb6sAURQgwIbS4SYKa1bqsYCrmAHD2wpAaM34LAhpPb1fX6+Ofy/sFQUKsZm6dQo+A0E+AkS3g9klQc6Msp7mlhvxuHZvRY255Z2VEG7pW4ORW/JxBt9zHUik1plmtBqJrhAATQmOrvth18mNbYhRzJR0K99/6jo6ElRtsUaJPzoHW0Ab98K/LwegaiJS7mMzEmH6Guz8tGaDZah8Ab08cV0PeY6LtlfoanRZvHYasuOQJM32SPrKcBkFT6BEQ+gkwsgUsR+C8ba24vem89AI8N1RSY47sfASA2BmpHFeyOi1u+7WheEoiyOGePADFrkzgukYIMCLU74Ua8HPfTlMCmg/z96kxV9+UVR49I/duSiOglT5PJsXoZZMiZzlzrxoT1MpFCDAh1K6IDWiFtDFLVnfR6VFjDm+XE99RpIvEzTiK1xmTwCceE5TMV/3MUK9W93/aCW6LIgSYENohCSDm6pIRWqnKIabiJtSYF7pkXx/17/sHCor3fJfYgLdqMv5GVQ5T9W5dUI0QEBCFfgKMbIHBSQl4zuyRwsbiol/jG9JneMcTA5l/VVLnvalZxat5YhD9PkmuXJXCyJATfGN7hAATQu3fpewVs2TlvLJ8pnhTL9xXFTFsg69fAWD34DnF+6Mu7q9WkiyRnZf3GzohFBhFCDAhtFkQl/ZEVlzdN3VxZ62ACOB0QfIBL62XAurN3SNfFrYB4DX8gGpV1qkwrL/RXli7fQo9AkI/AUZbZLptiemfHT4PwGJNJ0UH/BPeQkOixTlnreKtict22PWQ/Enqu/QYADUDNcIIASaF5+oSAO3svQDApDeieBs6JMuTsiToKTe1i2xlhCa6pX54YIe0271zcW/gOkYIMCn822NS8d37huT9JtK6ItwqlrTO/qdz44r3VL/YjH/q4uwuxeR/B0undGFkI1FhJBAyioBNn0pWePCQBEbTVd0fsL/nNwAmaxsBuLyqi2V7BgQVjifn/8fSElofP6a7xIL6D0noERD6CTC6BRqXpfXt6+KDAEwXNireqdwWAM7PSAl5sF+nxE4ubwVgpixB0lSXvNe8pvsLgqLQI+Bf9+yPmrpizKgAAAAASUVORK5CYII=\" y=\"-34.925311\"/>\n   </g>\n   <g id=\"patch_8\">\n    <path d=\"M 86.503774 98.925311 \nL 86.503774 35.7555 \n\" style=\"fill:none;stroke:#000000;stroke-linecap:square;stroke-linejoin:miter;stroke-width:0.8;\"/>\n   </g>\n   <g id=\"patch_9\">\n    <path d=\"M 149.673585 98.925311 \nL 149.673585 35.7555 \n\" style=\"fill:none;stroke:#000000;stroke-linecap:square;stroke-linejoin:miter;stroke-width:0.8;\"/>\n   </g>\n   <g id=\"patch_10\">\n    <path d=\"M 86.503774 98.925311 \nL 149.673585 98.925311 \n\" style=\"fill:none;stroke:#000000;stroke-linecap:square;stroke-linejoin:miter;stroke-width:0.8;\"/>\n   </g>\n   <g id=\"patch_11\">\n    <path d=\"M 86.503774 35.7555 \nL 149.673585 35.7555 \n\" style=\"fill:none;stroke:#000000;stroke-linecap:square;stroke-linejoin:miter;stroke-width:0.8;\"/>\n   </g>\n   <g id=\"text_2\">\n    <!-- trouser -->\n    <defs>\n     <path d=\"M 30.609375 48.390625 \nQ 23.390625 48.390625 19.1875 42.75 \nQ 14.984375 37.109375 14.984375 27.296875 \nQ 14.984375 17.484375 19.15625 11.84375 \nQ 23.34375 6.203125 30.609375 6.203125 \nQ 37.796875 6.203125 41.984375 11.859375 \nQ 46.1875 17.53125 46.1875 27.296875 \nQ 46.1875 37.015625 41.984375 42.703125 \nQ 37.796875 48.390625 30.609375 48.390625 \nz\nM 30.609375 56 \nQ 42.328125 56 49.015625 48.375 \nQ 55.71875 40.765625 55.71875 27.296875 \nQ 55.71875 13.875 49.015625 6.21875 \nQ 42.328125 -1.421875 30.609375 -1.421875 \nQ 18.84375 -1.421875 12.171875 6.21875 \nQ 5.515625 13.875 5.515625 27.296875 \nQ 5.515625 40.765625 12.171875 48.375 \nQ 18.84375 56 30.609375 56 \nz\n\" id=\"DejaVuSans-111\"/>\n     <path d=\"M 8.5 21.578125 \nL 8.5 54.6875 \nL 17.484375 54.6875 \nL 17.484375 21.921875 \nQ 17.484375 14.15625 20.5 10.265625 \nQ 23.53125 6.390625 29.59375 6.390625 \nQ 36.859375 6.390625 41.078125 11.03125 \nQ 45.3125 15.671875 45.3125 23.6875 \nL 45.3125 54.6875 \nL 54.296875 54.6875 \nL 54.296875 0 \nL 45.3125 0 \nL 45.3125 8.40625 \nQ 42.046875 3.421875 37.71875 1 \nQ 33.40625 -1.421875 27.6875 -1.421875 \nQ 18.265625 -1.421875 13.375 4.4375 \nQ 8.5 10.296875 8.5 21.578125 \nz\nM 31.109375 56 \nz\n\" id=\"DejaVuSans-117\"/>\n     <path d=\"M 56.203125 29.59375 \nL 56.203125 25.203125 \nL 14.890625 25.203125 \nQ 15.484375 15.921875 20.484375 11.0625 \nQ 25.484375 6.203125 34.421875 6.203125 \nQ 39.59375 6.203125 44.453125 7.46875 \nQ 49.3125 8.734375 54.109375 11.28125 \nL 54.109375 2.78125 \nQ 49.265625 0.734375 44.1875 -0.34375 \nQ 39.109375 -1.421875 33.890625 -1.421875 \nQ 20.796875 -1.421875 13.15625 6.1875 \nQ 5.515625 13.8125 5.515625 26.8125 \nQ 5.515625 40.234375 12.765625 48.109375 \nQ 20.015625 56 32.328125 56 \nQ 43.359375 56 49.78125 48.890625 \nQ 56.203125 41.796875 56.203125 29.59375 \nz\nM 47.21875 32.234375 \nQ 47.125 39.59375 43.09375 43.984375 \nQ 39.0625 48.390625 32.421875 48.390625 \nQ 24.90625 48.390625 20.390625 44.140625 \nQ 15.875 39.890625 15.1875 32.171875 \nz\n\" id=\"DejaVuSans-101\"/>\n    </defs>\n    <g transform=\"translate(96.513992 16.318125)scale(0.12 -0.12)\">\n     <use xlink:href=\"#DejaVuSans-116\"/>\n     <use x=\"39.208984\" xlink:href=\"#DejaVuSans-114\"/>\n     <use x=\"80.291016\" xlink:href=\"#DejaVuSans-111\"/>\n     <use x=\"141.472656\" xlink:href=\"#DejaVuSans-117\"/>\n     <use x=\"204.851562\" xlink:href=\"#DejaVuSans-115\"/>\n     <use x=\"256.951172\" xlink:href=\"#DejaVuSans-101\"/>\n     <use x=\"318.474609\" xlink:href=\"#DejaVuSans-114\"/>\n    </g>\n    <!-- trouser -->\n    <g transform=\"translate(96.513992 29.7555)scale(0.12 -0.12)\">\n     <use xlink:href=\"#DejaVuSans-116\"/>\n     <use x=\"39.208984\" xlink:href=\"#DejaVuSans-114\"/>\n     <use x=\"80.291016\" xlink:href=\"#DejaVuSans-111\"/>\n     <use x=\"141.472656\" xlink:href=\"#DejaVuSans-117\"/>\n     <use x=\"204.851562\" xlink:href=\"#DejaVuSans-115\"/>\n     <use x=\"256.951172\" xlink:href=\"#DejaVuSans-101\"/>\n     <use x=\"318.474609\" xlink:href=\"#DejaVuSans-114\"/>\n    </g>\n   </g>\n  </g>\n  <g id=\"axes_3\">\n   <g id=\"patch_12\">\n    <path d=\"M 162.307547 98.925311 \nL 225.477358 98.925311 \nL 225.477358 35.7555 \nL 162.307547 35.7555 \nz\n\" style=\"fill:#ffffff;\"/>\n   </g>\n   <g clip-path=\"url(#p30d9d66f83)\">\n    <image height=\"64\" id=\"imageea4ab3dc0d\" transform=\"scale(1 -1)translate(0 -64)\" width=\"64\" x=\"162.307547\" xlink:href=\"data:image/png;base64,\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\" y=\"-34.925311\"/>\n   </g>\n   <g id=\"patch_13\">\n    <path d=\"M 162.307547 98.925311 \nL 162.307547 35.7555 \n\" style=\"fill:none;stroke:#000000;stroke-linecap:square;stroke-linejoin:miter;stroke-width:0.8;\"/>\n   </g>\n   <g id=\"patch_14\">\n    <path d=\"M 225.477358 98.925311 \nL 225.477358 35.7555 \n\" style=\"fill:none;stroke:#000000;stroke-linecap:square;stroke-linejoin:miter;stroke-width:0.8;\"/>\n   </g>\n   <g id=\"patch_15\">\n    <path d=\"M 162.307547 98.925311 \nL 225.477358 98.925311 \n\" style=\"fill:none;stroke:#000000;stroke-linecap:square;stroke-linejoin:miter;stroke-width:0.8;\"/>\n   </g>\n   <g id=\"patch_16\">\n    <path d=\"M 162.307547 35.7555 \nL 225.477358 35.7555 \n\" style=\"fill:none;stroke:#000000;stroke-linecap:square;stroke-linejoin:miter;stroke-width:0.8;\"/>\n   </g>\n   <g id=\"text_3\">\n    <!-- pullover -->\n    <defs>\n     <path d=\"M 18.109375 8.203125 \nL 18.109375 -20.796875 \nL 9.078125 -20.796875 \nL 9.078125 54.6875 \nL 18.109375 54.6875 \nL 18.109375 46.390625 \nQ 20.953125 51.265625 25.265625 53.625 \nQ 29.59375 56 35.59375 56 \nQ 45.5625 56 51.78125 48.09375 \nQ 58.015625 40.1875 58.015625 27.296875 \nQ 58.015625 14.40625 51.78125 6.484375 \nQ 45.5625 -1.421875 35.59375 -1.421875 \nQ 29.59375 -1.421875 25.265625 0.953125 \nQ 20.953125 3.328125 18.109375 8.203125 \nz\nM 48.6875 27.296875 \nQ 48.6875 37.203125 44.609375 42.84375 \nQ 40.53125 48.484375 33.40625 48.484375 \nQ 26.265625 48.484375 22.1875 42.84375 \nQ 18.109375 37.203125 18.109375 27.296875 \nQ 18.109375 17.390625 22.1875 11.75 \nQ 26.265625 6.109375 33.40625 6.109375 \nQ 40.53125 6.109375 44.609375 11.75 \nQ 48.6875 17.390625 48.6875 27.296875 \nz\n\" id=\"DejaVuSans-112\"/>\n     <path d=\"M 9.421875 75.984375 \nL 18.40625 75.984375 \nL 18.40625 0 \nL 9.421875 0 \nz\n\" id=\"DejaVuSans-108\"/>\n     <path d=\"M 2.984375 54.6875 \nL 12.5 54.6875 \nL 29.59375 8.796875 \nL 46.6875 54.6875 \nL 56.203125 54.6875 \nL 35.6875 0 \nL 23.484375 0 \nz\n\" id=\"DejaVuSans-118\"/>\n    </defs>\n    <g transform=\"translate(169.566203 16.318125)scale(0.12 -0.12)\">\n     <use xlink:href=\"#DejaVuSans-112\"/>\n     <use x=\"63.476562\" xlink:href=\"#DejaVuSans-117\"/>\n     <use x=\"126.855469\" xlink:href=\"#DejaVuSans-108\"/>\n     <use x=\"154.638672\" xlink:href=\"#DejaVuSans-108\"/>\n     <use x=\"182.421875\" xlink:href=\"#DejaVuSans-111\"/>\n     <use x=\"243.603516\" xlink:href=\"#DejaVuSans-118\"/>\n     <use x=\"302.783203\" xlink:href=\"#DejaVuSans-101\"/>\n     <use x=\"364.306641\" xlink:href=\"#DejaVuSans-114\"/>\n    </g>\n    <!-- pullover -->\n    <g transform=\"translate(169.566203 29.7555)scale(0.12 -0.12)\">\n     <use xlink:href=\"#DejaVuSans-112\"/>\n     <use x=\"63.476562\" xlink:href=\"#DejaVuSans-117\"/>\n     <use x=\"126.855469\" xlink:href=\"#DejaVuSans-108\"/>\n     <use x=\"154.638672\" xlink:href=\"#DejaVuSans-108\"/>\n     <use x=\"182.421875\" xlink:href=\"#DejaVuSans-111\"/>\n     <use x=\"243.603516\" xlink:href=\"#DejaVuSans-118\"/>\n     <use x=\"302.783203\" xlink:href=\"#DejaVuSans-101\"/>\n     <use x=\"364.306641\" xlink:href=\"#DejaVuSans-114\"/>\n    </g>\n   </g>\n  </g>\n  <g id=\"axes_4\">\n   <g id=\"patch_17\">\n    <path d=\"M 238.111321 98.925311 \nL 301.281132 98.925311 \nL 301.281132 35.7555 \nL 238.111321 35.7555 \nz\n\" style=\"fill:#ffffff;\"/>\n   </g>\n   <g clip-path=\"url(#pdca54bc6f0)\">\n    <image height=\"64\" id=\"imagebb39203cf9\" transform=\"scale(1 -1)translate(0 -64)\" width=\"64\" x=\"238.111321\" xlink:href=\"data:image/png;base64,\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\" y=\"-34.925311\"/>\n   </g>\n   <g id=\"patch_18\">\n    <path d=\"M 238.111321 98.925311 \nL 238.111321 35.7555 \n\" style=\"fill:none;stroke:#000000;stroke-linecap:square;stroke-linejoin:miter;stroke-width:0.8;\"/>\n   </g>\n   <g id=\"patch_19\">\n    <path d=\"M 301.281132 98.925311 \nL 301.281132 35.7555 \n\" style=\"fill:none;stroke:#000000;stroke-linecap:square;stroke-linejoin:miter;stroke-width:0.8;\"/>\n   </g>\n   <g id=\"patch_20\">\n    <path d=\"M 238.111321 98.925311 \nL 301.281132 98.925311 \n\" style=\"fill:none;stroke:#000000;stroke-linecap:square;stroke-linejoin:miter;stroke-width:0.8;\"/>\n   </g>\n   <g id=\"patch_21\">\n    <path d=\"M 238.111321 35.7555 \nL 301.281132 35.7555 \n\" style=\"fill:none;stroke:#000000;stroke-linecap:square;stroke-linejoin:miter;stroke-width:0.8;\"/>\n   </g>\n   <g id=\"text_4\">\n    <!-- pullover -->\n    <g transform=\"translate(245.369976 16.318125)scale(0.12 -0.12)\">\n     <use xlink:href=\"#DejaVuSans-112\"/>\n     <use x=\"63.476562\" xlink:href=\"#DejaVuSans-117\"/>\n     <use x=\"126.855469\" xlink:href=\"#DejaVuSans-108\"/>\n     <use x=\"154.638672\" xlink:href=\"#DejaVuSans-108\"/>\n     <use x=\"182.421875\" xlink:href=\"#DejaVuSans-111\"/>\n     <use x=\"243.603516\" xlink:href=\"#DejaVuSans-118\"/>\n     <use x=\"302.783203\" xlink:href=\"#DejaVuSans-101\"/>\n     <use x=\"364.306641\" xlink:href=\"#DejaVuSans-114\"/>\n    </g>\n    <!-- t-shirt -->\n    <g transform=\"translate(251.765601 29.7555)scale(0.12 -0.12)\">\n     <use xlink:href=\"#DejaVuSans-116\"/>\n     <use x=\"39.208984\" xlink:href=\"#DejaVuSans-45\"/>\n     <use x=\"75.292969\" xlink:href=\"#DejaVuSans-115\"/>\n     <use x=\"127.392578\" xlink:href=\"#DejaVuSans-104\"/>\n     <use x=\"190.771484\" xlink:href=\"#DejaVuSans-105\"/>\n     <use x=\"218.554688\" xlink:href=\"#DejaVuSans-114\"/>\n     <use x=\"259.667969\" xlink:href=\"#DejaVuSans-116\"/>\n    </g>\n   </g>\n  </g>\n  <g id=\"axes_5\">\n   <g id=\"patch_22\">\n    <path d=\"M 313.915094 98.925311 \nL 377.084906 98.925311 \nL 377.084906 35.7555 \nL 313.915094 35.7555 \nz\n\" style=\"fill:#ffffff;\"/>\n   </g>\n   <g clip-path=\"url(#pe2c0210f7a)\">\n    <image height=\"64\" id=\"imageb709b9e275\" transform=\"scale(1 -1)translate(0 -64)\" width=\"64\" x=\"313.915094\" xlink:href=\"data:image/png;base64,\niVBORw0KGgoAAAANSUhEUgAAAEAAAABACAYAAACqaXHeAAAABHNCSVQICAgIfAhkiAAABV9JREFUeJztm0tMHVUYx38zl3sv5S0gL3tLaNFWK40m0tTCTl3YhIWxbXShq8adiy5I6sJg4kITFz5ifHSnCxcmGhMjvppoTYNog0oNC8W2IhRoFKE8Lpd778y4OHPOzHDvJZWZizEz34bh+7755uSc//le51ztQe24xU6RpjnPlv1ZPQbA6vFeJap5f9QjwzTKNiS9bJb/J1Sxo1+zSoPN0kqKykqhR0DoJ2Bnt0Axsh3cepOzFg3dXQAYv10VjDI6wwgB//UAJJkJ1z+a1yNqMYEAK0JA8FRWBGjJJADWxkbpAXR1AhDbcELk8qFbAai9Ng+AmU7bBoskUj4pQkA5jW+18ooyQmfpiKMb+1ogp1quvCTNtV5WMP4g9AgI/QT43wJbJClzH90JQG/bNAADTT8p2ZJRBcBEWji2wfovlCzbJ2w+Ez8FQPPZb30PsxSFHgFaOfsBR8ezAJxpHgfgSi6nZNW66dGdze9Sz3cnhN6pqWMALPb9Xa4hRgjw7QO2SnYaK9YAsIFA2qxRsmxe7POMFff8BajX58T7CREGF4t9OKACKfQICP0E+N4CxaCvxUVp9/QtUwB8kxHw1jXH8bXo6wAsmcL5ZQxnC2xYAt4nG78H4AUOFX44oMowQoBfA7ODRwHoeGlE8WK72z06GVOsbp2eUbw12+lV6QJBLW59Swxrf3zZa2fgsHqu/NO2NXrJx+gjBPhHwM+n3wCga99TinfgrVWPjllknnP2Ki8YIjRO55qU7GDyGgCNMW+ydP7ts843LjwBQOfJbQ8diBDgHwFjG9kCnrWppycLH7nfwYkITTGBlmqXrFITqXDadFLnzZSdq97miL0UegSEfgJ8b4G4DeVk47ri6WlvcmTY82xauuu9PADz+QYAVsxKJetJzgAwbZRen6rZYNYuQoBfAyk7VN3VNq9461MrRXXdqbAMg5IMFzoadOFYL2ZS9ouxAluxm+i33gxFCPBr4IdsLQBnUsOK92ym16MjQ51MiQESmihmau2iKGc5q9xsH4WNrHSLQbY6SZKigO4ThB4BoZ8A31tA5vIP7Cqsz99dbgbgWLXoC5xL71YymRXKMDiXbVCyx2pFE2z4q/sAaO331gQAZkBnWhEC/Bq4npMrd6NA9urLJwB4cuhNANbMpJI12o5xT3yhpO19g+JA5OqL9wNgWIVI8EsRAvwa+CXdJh7s/p+bWi94DzQM13zLHoGsFLeiiu7CxCq+Gt0PCIR8I+CTSz0AvH7bdw7zsOCx6s1X3cmOjAJ/2J2gSs3pK2ze630pcVts0XQKrpZR0S/0i4PQIyD0E+B7C1RP2vfbHnZ4l0+I5Kjz04RHN645yZKs/9sqlgCnNihGQ+2fAzCScZrn1o8T2x+0iyIE+DVQ93thcmLUiW7PXz1JDz9hd4HcFLN7BDKlBvg1J1Jhs/8eAGbyY4C3cRoUhR4Bvm+IxG7fC8Dw+Q8V74PVOo+O3Ofuww8ZBmVnyB0iN7fMO2IiERqaGVA6N/pLp9D/hkKPgNBPgG8naExeKeBJZyVPeCT03bVA2q4MJdzdIVK2zCc3RJ3RUSW2wMWJvUrnDqItEAgFdld4Lu+cCBuIJEeGNrm6Ok7IbNDFBagcwvnFcRCQtpKe99Q743GCpggBQRl6bv4h9fx8+zkAPlsTvwU4kBTX3lKu04wlU8x9rX1hMuE6UZ7Ni2FJXyDvDLW/56S/Qf12JEJAUIZmHnWSnNc+PgLAI/VjHp1XFvrV85fT+wFoqRG+o7/5spK1x0XilLL7hY+/cxqAPUvOPaSgKPQICP0ElPW2uHbvQWD7tXtFWysA+fnrgY1pM4UeAf8AnhWSYGBynd4AAAAASUVORK5CYII=\" y=\"-34.925311\"/>\n   </g>\n   <g id=\"patch_23\">\n    <path d=\"M 313.915094 98.925311 \nL 313.915094 35.7555 \n\" style=\"fill:none;stroke:#000000;stroke-linecap:square;stroke-linejoin:miter;stroke-width:0.8;\"/>\n   </g>\n   <g id=\"patch_24\">\n    <path d=\"M 377.084906 98.925311 \nL 377.084906 35.7555 \n\" style=\"fill:none;stroke:#000000;stroke-linecap:square;stroke-linejoin:miter;stroke-width:0.8;\"/>\n   </g>\n   <g id=\"patch_25\">\n    <path d=\"M 313.915094 98.925311 \nL 377.084906 98.925311 \n\" style=\"fill:none;stroke:#000000;stroke-linecap:square;stroke-linejoin:miter;stroke-width:0.8;\"/>\n   </g>\n   <g id=\"patch_26\">\n    <path d=\"M 313.915094 35.7555 \nL 377.084906 35.7555 \n\" style=\"fill:none;stroke:#000000;stroke-linecap:square;stroke-linejoin:miter;stroke-width:0.8;\"/>\n   </g>\n   <g id=\"text_5\">\n    <!-- dress -->\n    <defs>\n     <path d=\"M 45.40625 46.390625 \nL 45.40625 75.984375 \nL 54.390625 75.984375 \nL 54.390625 0 \nL 45.40625 0 \nL 45.40625 8.203125 \nQ 42.578125 3.328125 38.25 0.953125 \nQ 33.9375 -1.421875 27.875 -1.421875 \nQ 17.96875 -1.421875 11.734375 6.484375 \nQ 5.515625 14.40625 5.515625 27.296875 \nQ 5.515625 40.1875 11.734375 48.09375 \nQ 17.96875 56 27.875 56 \nQ 33.9375 56 38.25 53.625 \nQ 42.578125 51.265625 45.40625 46.390625 \nz\nM 14.796875 27.296875 \nQ 14.796875 17.390625 18.875 11.75 \nQ 22.953125 6.109375 30.078125 6.109375 \nQ 37.203125 6.109375 41.296875 11.75 \nQ 45.40625 17.390625 45.40625 27.296875 \nQ 45.40625 37.203125 41.296875 42.84375 \nQ 37.203125 48.484375 30.078125 48.484375 \nQ 22.953125 48.484375 18.875 42.84375 \nQ 14.796875 37.203125 14.796875 27.296875 \nz\n\" id=\"DejaVuSans-100\"/>\n    </defs>\n    <g transform=\"translate(329.283125 16.318125)scale(0.12 -0.12)\">\n     <use xlink:href=\"#DejaVuSans-100\"/>\n     <use x=\"63.476562\" xlink:href=\"#DejaVuSans-114\"/>\n     <use x=\"104.558594\" xlink:href=\"#DejaVuSans-101\"/>\n     <use x=\"166.082031\" xlink:href=\"#DejaVuSans-115\"/>\n     <use x=\"218.181641\" xlink:href=\"#DejaVuSans-115\"/>\n    </g>\n    <!-- coat -->\n    <defs>\n     <path d=\"M 48.78125 52.59375 \nL 48.78125 44.1875 \nQ 44.96875 46.296875 41.140625 47.34375 \nQ 37.3125 48.390625 33.40625 48.390625 \nQ 24.65625 48.390625 19.8125 42.84375 \nQ 14.984375 37.3125 14.984375 27.296875 \nQ 14.984375 17.28125 19.8125 11.734375 \nQ 24.65625 6.203125 33.40625 6.203125 \nQ 37.3125 6.203125 41.140625 7.25 \nQ 44.96875 8.296875 48.78125 10.40625 \nL 48.78125 2.09375 \nQ 45.015625 0.34375 40.984375 -0.53125 \nQ 36.96875 -1.421875 32.421875 -1.421875 \nQ 20.0625 -1.421875 12.78125 6.34375 \nQ 5.515625 14.109375 5.515625 27.296875 \nQ 5.515625 40.671875 12.859375 48.328125 \nQ 20.21875 56 33.015625 56 \nQ 37.15625 56 41.109375 55.140625 \nQ 45.0625 54.296875 48.78125 52.59375 \nz\n\" id=\"DejaVuSans-99\"/>\n     <path d=\"M 34.28125 27.484375 \nQ 23.390625 27.484375 19.1875 25 \nQ 14.984375 22.515625 14.984375 16.5 \nQ 14.984375 11.71875 18.140625 8.90625 \nQ 21.296875 6.109375 26.703125 6.109375 \nQ 34.1875 6.109375 38.703125 11.40625 \nQ 43.21875 16.703125 43.21875 25.484375 \nL 43.21875 27.484375 \nz\nM 52.203125 31.203125 \nL 52.203125 0 \nL 43.21875 0 \nL 43.21875 8.296875 \nQ 40.140625 3.328125 35.546875 0.953125 \nQ 30.953125 -1.421875 24.3125 -1.421875 \nQ 15.921875 -1.421875 10.953125 3.296875 \nQ 6 8.015625 6 15.921875 \nQ 6 25.140625 12.171875 29.828125 \nQ 18.359375 34.515625 30.609375 34.515625 \nL 43.21875 34.515625 \nL 43.21875 35.40625 \nQ 43.21875 41.609375 39.140625 45 \nQ 35.0625 48.390625 27.6875 48.390625 \nQ 23 48.390625 18.546875 47.265625 \nQ 14.109375 46.140625 10.015625 43.890625 \nL 10.015625 52.203125 \nQ 14.9375 54.109375 19.578125 55.046875 \nQ 24.21875 56 28.609375 56 \nQ 40.484375 56 46.34375 49.84375 \nQ 52.203125 43.703125 52.203125 31.203125 \nz\n\" id=\"DejaVuSans-97\"/>\n    </defs>\n    <g transform=\"translate(332.500625 29.7555)scale(0.12 -0.12)\">\n     <use xlink:href=\"#DejaVuSans-99\"/>\n     <use x=\"54.980469\" xlink:href=\"#DejaVuSans-111\"/>\n     <use x=\"116.162109\" xlink:href=\"#DejaVuSans-97\"/>\n     <use x=\"177.441406\" xlink:href=\"#DejaVuSans-116\"/>\n    </g>\n   </g>\n  </g>\n  <g id=\"axes_6\">\n   <g id=\"patch_27\">\n    <path d=\"M 389.718868 98.925311 \nL 452.888679 98.925311 \nL 452.888679 35.7555 \nL 389.718868 35.7555 \nz\n\" style=\"fill:#ffffff;\"/>\n   </g>\n   <g clip-path=\"url(#pa423a07aff)\">\n    <image height=\"64\" id=\"imaged3e188b923\" transform=\"scale(1 -1)translate(0 -64)\" width=\"64\" x=\"389.718868\" xlink:href=\"data:image/png;base64,\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\" y=\"-34.925311\"/>\n   </g>\n   <g id=\"patch_28\">\n    <path d=\"M 389.718868 98.925311 \nL 389.718868 35.7555 \n\" style=\"fill:none;stroke:#000000;stroke-linecap:square;stroke-linejoin:miter;stroke-width:0.8;\"/>\n   </g>\n   <g id=\"patch_29\">\n    <path d=\"M 452.888679 98.925311 \nL 452.888679 35.7555 \n\" style=\"fill:none;stroke:#000000;stroke-linecap:square;stroke-linejoin:miter;stroke-width:0.8;\"/>\n   </g>\n   <g id=\"patch_30\">\n    <path d=\"M 389.718868 98.925311 \nL 452.888679 98.925311 \n\" style=\"fill:none;stroke:#000000;stroke-linecap:square;stroke-linejoin:miter;stroke-width:0.8;\"/>\n   </g>\n   <g id=\"patch_31\">\n    <path d=\"M 389.718868 35.7555 \nL 452.888679 35.7555 \n\" style=\"fill:none;stroke:#000000;stroke-linecap:square;stroke-linejoin:miter;stroke-width:0.8;\"/>\n   </g>\n   <g id=\"text_6\">\n    <!-- pullover -->\n    <g transform=\"translate(396.977524 16.318125)scale(0.12 -0.12)\">\n     <use xlink:href=\"#DejaVuSans-112\"/>\n     <use x=\"63.476562\" xlink:href=\"#DejaVuSans-117\"/>\n     <use x=\"126.855469\" xlink:href=\"#DejaVuSans-108\"/>\n     <use x=\"154.638672\" xlink:href=\"#DejaVuSans-108\"/>\n     <use x=\"182.421875\" xlink:href=\"#DejaVuSans-111\"/>\n     <use x=\"243.603516\" xlink:href=\"#DejaVuSans-118\"/>\n     <use x=\"302.783203\" xlink:href=\"#DejaVuSans-101\"/>\n     <use x=\"364.306641\" xlink:href=\"#DejaVuSans-114\"/>\n    </g>\n    <!-- shirt -->\n    <g transform=\"translate(407.890024 29.7555)scale(0.12 -0.12)\">\n     <use xlink:href=\"#DejaVuSans-115\"/>\n     <use x=\"52.099609\" xlink:href=\"#DejaVuSans-104\"/>\n     <use x=\"115.478516\" xlink:href=\"#DejaVuSans-105\"/>\n     <use x=\"143.261719\" xlink:href=\"#DejaVuSans-114\"/>\n     <use x=\"184.375\" xlink:href=\"#DejaVuSans-116\"/>\n    </g>\n   </g>\n  </g>\n  <g id=\"axes_7\">\n   <g id=\"patch_32\">\n    <path d=\"M 465.522642 98.925311 \nL 528.692453 98.925311 \nL 528.692453 35.7555 \nL 465.522642 35.7555 \nz\n\" style=\"fill:#ffffff;\"/>\n   </g>\n   <g clip-path=\"url(#p0dbbab3b03)\">\n    <image height=\"64\" id=\"image895c7e5b2f\" transform=\"scale(1 -1)translate(0 -64)\" width=\"64\" x=\"465.522642\" xlink:href=\"data:image/png;base64,\niVBORw0KGgoAAAANSUhEUgAAAEAAAABACAYAAACqaXHeAAAABHNCSVQICAgIfAhkiAAACClJREFUeJztm3twVPUVxz/7zGZD2JBkN+8mIQYoBAiPMgQslRqRZrBCScHWOrSN2pHahwVLZ/pg+pKZ0j8ctQ6djtqmtcgMVqVQlJaOGpFHYKoJj4AxUptCSEiym03IZrOP/nHu/f0SwTrT6cz9Y/f8sze/c+69Z8/5/s7rt7HV2xqTpDDZrVbAakobwGoFrKa0AaxWwGpKG8BqBaymtAGsVsBqSnkDOM0LR45PLcZnlQMQyfcAEKwSsUSGvjHhkE97XD6TNs2LG3K+rgQAuS+/I+tX+5WM3esFwJY9Re6/Nqp4NpvxMLt8JuMJ46UJ/f6REVPYUOB/q+hTHgEpbwBb5R9/ngR4afmTarEjWgCAyxYD4HZvCIAMm+v/9uLeuEA44Mj6SNl4UqDvsGl/XY4NA1DknPKhz248+yUAujuM7zOk92nFD48CaQTgzHtFAt2Woka1eFP2VQAe8L8KwB+GKgHY2X6bkvlGjfCWZ3YC8H5smuJl2ccAiCfFvsGEBLwZrl4lczEmXhkxIquJNgCPbRyASFIQF4xnGetRJTMQrwDA7wwbMl7FC8Xk+omZu0WfWQaS9269zgApjwDbjSZC3c/PAWD73P0A9MWmAtCQde66B7iMbRVOaFu6bbJnI0nJlX6H/P1Y/1Ilk+2IALAtT1LkvhHtwQOD8wFY4bsAQJmrf5IeAHHkxQ6Sk/4GjcCusQJDD0njYwkdw1rmCfJTHgEpbwCnY/YMAGK+TLXocUtVVuIcBCBhBLPQBAiZsHLZpBQsd44rXtgo2PqM4FXskJT170iOkmlpqQFg2hpJWTv/fKfi2ctlrW7+uwCUGfePG1sKoNolqdljVIJd4x7FiyJysz3dABQa948kVeFLC5+Qd5Hi5IyflUAzdLcOUBsq3gSgdXQ6AAd7xFtbyl9RMqu84vHpz28GIKNPe+elpp0APHR6AwBVuZJWd0/X9x9a1wrAD86sBWBt/THFe6TgJACHRyUwNpx4AIB1N72tZN52iVcPfHMlADue2qV4JXZBcHu0EIC/BCWofsv/upKxOQUNaQSYF7kndJHyYvc8ANaWtgHw6cB5AOa6B5XMgtZ7Ae1510LN2x2U/VXik30a8Ii3mt5fqWTO9Yt3Tix+FoDN3SsUb07LVwBonPkWAFV+QdBQTMcp87p3oRRSGw9tVrzWhkcByDaQsDH3ODDZ246SouvWUpJ0WHTpy9CIGwC7UdB0DIu12jN1uRsckAj/5r2/ACY3JZX77wPgvqWy516+PBuAbVUHlcyDRqPyXkwKor+1zVa8xkUSA4aNwcIc32UA9p5ZoGS+XvsaAE98R5q46Xu/pnjNobkA1Hj+Jc8OSwxb7O1SMrEi+S4pj4CUN4DCfTSgIRy9KFuAWfIRMooMs6sDOF7/GAAto8UAbH19g+I5sqT7CsUlUK0okI5xT98SJXNnrRHgnCLzu1t/o3jbzq8HYGXhO5OU9eeG1fXjb9QD0F4r/UlX468V7/CoBGaz01wzVdLn0/03ax2HZOulEWBejBS51WJhjaREs8wtzpR0NrEb64v3AHBqpAKAaQHtnR99/AAA3917DwC1n5Riy21OUIF9pyXVbg8YgTKkC7ErF/wAZBSLd397VDw3o/qSklmzTO7b3y0B7lzhNcUrc0qH+NaYoLN1VHTMN4ongPNO8X0aAebFeJbup+8oPgPA1fFsADrD4pF63xkl0zxYB8C+F5YB4G/TE52unwUACCy4AkBZphRJC6f8U8k8U34YgDnNWwDYsf5ZxXv4c1IW/2pwIQCF5TIPqC/Q84gnj0tRVbpf9vvGTU2KNy8gafP+wlcByLELOhZ59PuPDkuAS3kEpLwB1EgsWTdfLX7xGanYuqO5APgcUlN7jVETQDghqbE9XCp/x/Sx0cnOCgCyzsraHV94A4ANOa1KZtOjDwEQyZeANa1DT+Y+tVW2wDrfKZFtld7AfVKn6p/e3wxA82XZik3FLYp3NlICwMwM2QpT7ZLydvXcomQGlw8AaQToIGg7flotVrslxV2KSr18JFgFwJcLjigZEw3LvFKsLHLrecD6+GcAuG3JWQAeP30LAPcs0T2/t1f6jHC1eN6ljwY5PyTDzNecEqgq8sVbNXdpHYuNadWuyhcBCOpjQ/LsMlHqjUsQfzcqQfm5yr8rmdupBdIIuPFY3Fkm+7r8T9KHr8oRy/dOKITMEXOGXSZDDhJ8kB45JUjwtkm52/5tffz23rgUJV+9cDcAKwKdivdjv6TbBa13ARA7IrHoe017lEyhMwhAT0zmjBMPVqpcfQCcilQAcKtXCrHP73hYyfh3pY/GgA9BgEnrz0lJfDGSD8DHMvT5vpkFbnQ0VeEW5JgTmRcGFgNQn6MLqX9ck98g1GV1Xnd/T0x+q2AekYUM3prsNiVzbFSO68xDk0sTjubCRhNWnSGxrGNM5hkH5+bpL5eQsjzlEZDyBnCaPzGxOfWhR3JcTmH3PChB7PDvnwLgubCGWceowKphigTIX/asUryLLtkyDT7pwxPGud3NnitK5lBQurgynwSz9kip4pmF1+osCV7bL4ken83WY/G/DsgIrSFPtoWZugH64hKsV3slVf/k+6sByE7oNGxSyiPgvwbBD9Lgpjp13bdUgkhuqXiwbGpI8aLGL6jG4lJnDUUkYA4M6l+DJMIG4swm1DFBjbixaPT1BSVS9MQnnkA7Je0Njcqzh/v0s/OPyXtznz76kd8pjYD0f4ykOKUNYLUCVlPaAFYrYDWlDWC1AlZT2gBWK2A1pQ1gtQJWU9oAVitgNf0H56x1Cl2XZhIAAAAASUVORK5CYII=\" y=\"-34.925311\"/>\n   </g>\n   <g id=\"patch_33\">\n    <path d=\"M 465.522642 98.925311 \nL 465.522642 35.7555 \n\" style=\"fill:none;stroke:#000000;stroke-linecap:square;stroke-linejoin:miter;stroke-width:0.8;\"/>\n   </g>\n   <g id=\"patch_34\">\n    <path d=\"M 528.692453 98.925311 \nL 528.692453 35.7555 \n\" style=\"fill:none;stroke:#000000;stroke-linecap:square;stroke-linejoin:miter;stroke-width:0.8;\"/>\n   </g>\n   <g id=\"patch_35\">\n    <path d=\"M 465.522642 98.925311 \nL 528.692453 98.925311 \n\" style=\"fill:none;stroke:#000000;stroke-linecap:square;stroke-linejoin:miter;stroke-width:0.8;\"/>\n   </g>\n   <g id=\"patch_36\">\n    <path d=\"M 465.522642 35.7555 \nL 528.692453 35.7555 \n\" style=\"fill:none;stroke:#000000;stroke-linecap:square;stroke-linejoin:miter;stroke-width:0.8;\"/>\n   </g>\n   <g id=\"text_7\">\n    <!-- bag -->\n    <defs>\n     <path d=\"M 48.6875 27.296875 \nQ 48.6875 37.203125 44.609375 42.84375 \nQ 40.53125 48.484375 33.40625 48.484375 \nQ 26.265625 48.484375 22.1875 42.84375 \nQ 18.109375 37.203125 18.109375 27.296875 \nQ 18.109375 17.390625 22.1875 11.75 \nQ 26.265625 6.109375 33.40625 6.109375 \nQ 40.53125 6.109375 44.609375 11.75 \nQ 48.6875 17.390625 48.6875 27.296875 \nz\nM 18.109375 46.390625 \nQ 20.953125 51.265625 25.265625 53.625 \nQ 29.59375 56 35.59375 56 \nQ 45.5625 56 51.78125 48.09375 \nQ 58.015625 40.1875 58.015625 27.296875 \nQ 58.015625 14.40625 51.78125 6.484375 \nQ 45.5625 -1.421875 35.59375 -1.421875 \nQ 29.59375 -1.421875 25.265625 0.953125 \nQ 20.953125 3.328125 18.109375 8.203125 \nL 18.109375 0 \nL 9.078125 0 \nL 9.078125 75.984375 \nL 18.109375 75.984375 \nz\n\" id=\"DejaVuSans-98\"/>\n     <path d=\"M 45.40625 27.984375 \nQ 45.40625 37.75 41.375 43.109375 \nQ 37.359375 48.484375 30.078125 48.484375 \nQ 22.859375 48.484375 18.828125 43.109375 \nQ 14.796875 37.75 14.796875 27.984375 \nQ 14.796875 18.265625 18.828125 12.890625 \nQ 22.859375 7.515625 30.078125 7.515625 \nQ 37.359375 7.515625 41.375 12.890625 \nQ 45.40625 18.265625 45.40625 27.984375 \nz\nM 54.390625 6.78125 \nQ 54.390625 -7.171875 48.1875 -13.984375 \nQ 42 -20.796875 29.203125 -20.796875 \nQ 24.46875 -20.796875 20.265625 -20.09375 \nQ 16.0625 -19.390625 12.109375 -17.921875 \nL 12.109375 -9.1875 \nQ 16.0625 -11.328125 19.921875 -12.34375 \nQ 23.78125 -13.375 27.78125 -13.375 \nQ 36.625 -13.375 41.015625 -8.765625 \nQ 45.40625 -4.15625 45.40625 5.171875 \nL 45.40625 9.625 \nQ 42.625 4.78125 38.28125 2.390625 \nQ 33.9375 0 27.875 0 \nQ 17.828125 0 11.671875 7.65625 \nQ 5.515625 15.328125 5.515625 27.984375 \nQ 5.515625 40.671875 11.671875 48.328125 \nQ 17.828125 56 27.875 56 \nQ 33.9375 56 38.28125 53.609375 \nQ 42.625 51.21875 45.40625 46.390625 \nL 45.40625 54.6875 \nL 54.390625 54.6875 \nz\n\" id=\"DejaVuSans-103\"/>\n    </defs>\n    <g transform=\"translate(485.812547 16.318125)scale(0.12 -0.12)\">\n     <use xlink:href=\"#DejaVuSans-98\"/>\n     <use x=\"63.476562\" xlink:href=\"#DejaVuSans-97\"/>\n     <use x=\"124.755859\" xlink:href=\"#DejaVuSans-103\"/>\n    </g>\n    <!-- bag -->\n    <g transform=\"translate(485.812547 29.7555)scale(0.12 -0.12)\">\n     <use xlink:href=\"#DejaVuSans-98\"/>\n     <use x=\"63.476562\" xlink:href=\"#DejaVuSans-97\"/>\n     <use x=\"124.755859\" xlink:href=\"#DejaVuSans-103\"/>\n    </g>\n   </g>\n  </g>\n  <g id=\"axes_8\">\n   <g id=\"patch_37\">\n    <path d=\"M 541.326415 98.925311 \nL 604.496226 98.925311 \nL 604.496226 35.7555 \nL 541.326415 35.7555 \nz\n\" style=\"fill:#ffffff;\"/>\n   </g>\n   <g clip-path=\"url(#pe260a60cbf)\">\n    <image height=\"64\" id=\"image55ae68046c\" transform=\"scale(1 -1)translate(0 -64)\" width=\"64\" x=\"541.326415\" xlink:href=\"data:image/png;base64,\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\" y=\"-34.925311\"/>\n   </g>\n   <g id=\"patch_38\">\n    <path d=\"M 541.326415 98.925311 \nL 541.326415 35.7555 \n\" style=\"fill:none;stroke:#000000;stroke-linecap:square;stroke-linejoin:miter;stroke-width:0.8;\"/>\n   </g>\n   <g id=\"patch_39\">\n    <path d=\"M 604.496226 98.925311 \nL 604.496226 35.7555 \n\" style=\"fill:none;stroke:#000000;stroke-linecap:square;stroke-linejoin:miter;stroke-width:0.8;\"/>\n   </g>\n   <g id=\"patch_40\">\n    <path d=\"M 541.326415 98.925311 \nL 604.496226 98.925311 \n\" style=\"fill:none;stroke:#000000;stroke-linecap:square;stroke-linejoin:miter;stroke-width:0.8;\"/>\n   </g>\n   <g id=\"patch_41\">\n    <path d=\"M 541.326415 35.7555 \nL 604.496226 35.7555 \n\" style=\"fill:none;stroke:#000000;stroke-linecap:square;stroke-linejoin:miter;stroke-width:0.8;\"/>\n   </g>\n   <g id=\"text_8\">\n    <!-- shirt -->\n    <g transform=\"translate(559.497571 16.318125)scale(0.12 -0.12)\">\n     <use xlink:href=\"#DejaVuSans-115\"/>\n     <use x=\"52.099609\" xlink:href=\"#DejaVuSans-104\"/>\n     <use x=\"115.478516\" xlink:href=\"#DejaVuSans-105\"/>\n     <use x=\"143.261719\" xlink:href=\"#DejaVuSans-114\"/>\n     <use x=\"184.375\" xlink:href=\"#DejaVuSans-116\"/>\n    </g>\n    <!-- shirt -->\n    <g transform=\"translate(559.497571 29.7555)scale(0.12 -0.12)\">\n     <use xlink:href=\"#DejaVuSans-115\"/>\n     <use x=\"52.099609\" xlink:href=\"#DejaVuSans-104\"/>\n     <use x=\"115.478516\" xlink:href=\"#DejaVuSans-105\"/>\n     <use x=\"143.261719\" xlink:href=\"#DejaVuSans-114\"/>\n     <use x=\"184.375\" xlink:href=\"#DejaVuSans-116\"/>\n    </g>\n   </g>\n  </g>\n  <g id=\"axes_9\">\n   <g id=\"patch_42\">\n    <path d=\"M 617.130189 98.925311 \nL 680.3 98.925311 \nL 680.3 35.7555 \nL 617.130189 35.7555 \nz\n\" style=\"fill:#ffffff;\"/>\n   </g>\n   <g clip-path=\"url(#p5b518ab504)\">\n    <image height=\"64\" id=\"image79848aab0b\" transform=\"scale(1 -1)translate(0 -64)\" width=\"64\" x=\"617.130189\" xlink:href=\"data:image/png;base64,\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\" y=\"-34.925311\"/>\n   </g>\n   <g id=\"patch_43\">\n    <path d=\"M 617.130189 98.925311 \nL 617.130189 35.7555 \n\" style=\"fill:none;stroke:#000000;stroke-linecap:square;stroke-linejoin:miter;stroke-width:0.8;\"/>\n   </g>\n   <g id=\"patch_44\">\n    <path d=\"M 680.3 98.925311 \nL 680.3 35.7555 \n\" style=\"fill:none;stroke:#000000;stroke-linecap:square;stroke-linejoin:miter;stroke-width:0.8;\"/>\n   </g>\n   <g id=\"patch_45\">\n    <path d=\"M 617.130189 98.925311 \nL 680.3 98.925311 \n\" style=\"fill:none;stroke:#000000;stroke-linecap:square;stroke-linejoin:miter;stroke-width:0.8;\"/>\n   </g>\n   <g id=\"patch_46\">\n    <path d=\"M 617.130189 35.7555 \nL 680.3 35.7555 \n\" style=\"fill:none;stroke:#000000;stroke-linecap:square;stroke-linejoin:miter;stroke-width:0.8;\"/>\n   </g>\n   <g id=\"text_9\">\n    <!-- sandal -->\n    <defs>\n     <path d=\"M 54.890625 33.015625 \nL 54.890625 0 \nL 45.90625 0 \nL 45.90625 32.71875 \nQ 45.90625 40.484375 42.875 44.328125 \nQ 39.84375 48.1875 33.796875 48.1875 \nQ 26.515625 48.1875 22.3125 43.546875 \nQ 18.109375 38.921875 18.109375 30.90625 \nL 18.109375 0 \nL 9.078125 0 \nL 9.078125 54.6875 \nL 18.109375 54.6875 \nL 18.109375 46.1875 \nQ 21.34375 51.125 25.703125 53.5625 \nQ 30.078125 56 35.796875 56 \nQ 45.21875 56 50.046875 50.171875 \nQ 54.890625 44.34375 54.890625 33.015625 \nz\n\" id=\"DejaVuSans-110\"/>\n    </defs>\n    <g transform=\"translate(628.957282 16.318125)scale(0.12 -0.12)\">\n     <use xlink:href=\"#DejaVuSans-115\"/>\n     <use x=\"52.099609\" xlink:href=\"#DejaVuSans-97\"/>\n     <use x=\"113.378906\" xlink:href=\"#DejaVuSans-110\"/>\n     <use x=\"176.757812\" xlink:href=\"#DejaVuSans-100\"/>\n     <use x=\"240.234375\" xlink:href=\"#DejaVuSans-97\"/>\n     <use x=\"301.513672\" xlink:href=\"#DejaVuSans-108\"/>\n    </g>\n    <!-- sandal -->\n    <g transform=\"translate(628.957282 29.7555)scale(0.12 -0.12)\">\n     <use xlink:href=\"#DejaVuSans-115\"/>\n     <use x=\"52.099609\" xlink:href=\"#DejaVuSans-97\"/>\n     <use x=\"113.378906\" xlink:href=\"#DejaVuSans-110\"/>\n     <use x=\"176.757812\" xlink:href=\"#DejaVuSans-100\"/>\n     <use x=\"240.234375\" xlink:href=\"#DejaVuSans-97\"/>\n     <use x=\"301.513672\" xlink:href=\"#DejaVuSans-108\"/>\n    </g>\n   </g>\n  </g>\n </g>\n <defs>\n  <clipPath id=\"p4aafa67000\">\n   <rect height=\"63.169811\" width=\"63.169811\" x=\"10.7\" y=\"35.7555\"/>\n  </clipPath>\n  <clipPath id=\"p2a3c4553ca\">\n   <rect height=\"63.169811\" width=\"63.169811\" x=\"86.503774\" y=\"35.7555\"/>\n  </clipPath>\n  <clipPath id=\"p30d9d66f83\">\n   <rect height=\"63.169811\" width=\"63.169811\" x=\"162.307547\" y=\"35.7555\"/>\n  </clipPath>\n  <clipPath id=\"pdca54bc6f0\">\n   <rect height=\"63.169811\" width=\"63.169811\" x=\"238.111321\" y=\"35.7555\"/>\n  </clipPath>\n  <clipPath id=\"pe2c0210f7a\">\n   <rect height=\"63.169811\" width=\"63.169811\" x=\"313.915094\" y=\"35.7555\"/>\n  </clipPath>\n  <clipPath id=\"pa423a07aff\">\n   <rect height=\"63.169811\" width=\"63.169811\" x=\"389.718868\" y=\"35.7555\"/>\n  </clipPath>\n  <clipPath id=\"p0dbbab3b03\">\n   <rect height=\"63.169811\" width=\"63.169811\" x=\"465.522642\" y=\"35.7555\"/>\n  </clipPath>\n  <clipPath id=\"pe260a60cbf\">\n   <rect height=\"63.169811\" width=\"63.169811\" x=\"541.326415\" y=\"35.7555\"/>\n  </clipPath>\n  <clipPath id=\"p5b518ab504\">\n   <rect height=\"63.169811\" width=\"63.169811\" x=\"617.130189\" y=\"35.7555\"/>\n  </clipPath>\n </defs>\n</svg>\n"
          },
          "metadata": {
            "tags": []
          }
        }
      ]
    },
    {
      "cell_type": "markdown",
      "metadata": {
        "id": "uHUrc6zXmuA4",
        "colab_type": "text"
      },
      "source": [
        "## 书上原版"
      ]
    },
    {
      "cell_type": "code",
      "metadata": {
        "id": "GdwMFc5snj8c",
        "colab_type": "code",
        "colab": {}
      },
      "source": [
        "%matplotlib inline\n",
        "import d2lzh as d2l\n",
        "from mxnet import autograd, nd"
      ],
      "execution_count": 0,
      "outputs": []
    },
    {
      "cell_type": "code",
      "metadata": {
        "id": "7RtyiMSLnn3P",
        "colab_type": "code",
        "colab": {}
      },
      "source": [
        "batch_size = 256\n",
        "train_iter, test_iter = d2l.load_data_fashion_mnist(batch_size)"
      ],
      "execution_count": 0,
      "outputs": []
    },
    {
      "cell_type": "code",
      "metadata": {
        "id": "lJPUwxp0nqr-",
        "colab_type": "code",
        "colab": {}
      },
      "source": [
        "num_inputs = 784\n",
        "num_outputs = 10\n",
        "\n",
        "W = nd.random.normal(scale=0.01, shape=(num_inputs, num_outputs))\n",
        "b = nd.zeros(num_outputs)"
      ],
      "execution_count": 0,
      "outputs": []
    },
    {
      "cell_type": "code",
      "metadata": {
        "id": "ArFAThOqnvI2",
        "colab_type": "code",
        "colab": {}
      },
      "source": [
        "W.attach_grad()\n",
        "b.attach_grad()"
      ],
      "execution_count": 0,
      "outputs": []
    },
    {
      "cell_type": "code",
      "metadata": {
        "id": "0_mGMe2Cn0aN",
        "colab_type": "code",
        "colab": {
          "base_uri": "https://localhost:8080/",
          "height": 118
        },
        "outputId": "687e90bc-4b6b-4456-ac81-0cb450c8fef9"
      },
      "source": [
        "X = nd.array([[1, 2, 3], [4, 5, 6]])\n",
        "X.sum(axis=0, keepdims=True), X.sum(axis=1, keepdims=True)"
      ],
      "execution_count": 280,
      "outputs": [
        {
          "output_type": "execute_result",
          "data": {
            "text/plain": [
              "(\n",
              " [[5. 7. 9.]]\n",
              " <NDArray 1x3 @cpu(0)>, \n",
              " [[ 6.]\n",
              "  [15.]]\n",
              " <NDArray 2x1 @cpu(0)>)"
            ]
          },
          "metadata": {
            "tags": []
          },
          "execution_count": 280
        }
      ]
    },
    {
      "cell_type": "code",
      "metadata": {
        "id": "pwtXQOIFn3Ue",
        "colab_type": "code",
        "colab": {}
      },
      "source": [
        "def softmax(X):\n",
        "    X_exp = X.exp()\n",
        "    partition = X_exp.sum(axis=1, keepdims=True)\n",
        "    return X_exp / partition  # 这里应用了广播机制"
      ],
      "execution_count": 0,
      "outputs": []
    },
    {
      "cell_type": "code",
      "metadata": {
        "id": "CvT_KMvIn60G",
        "colab_type": "code",
        "colab": {
          "base_uri": "https://localhost:8080/",
          "height": 118
        },
        "outputId": "eae05bf4-6449-451b-82af-dbc6b2b08f53"
      },
      "source": [
        "X = nd.random.normal(shape=(2, 5))\n",
        "X_prob = softmax(X)\n",
        "X_prob, X_prob.sum(axis=1)"
      ],
      "execution_count": 282,
      "outputs": [
        {
          "output_type": "execute_result",
          "data": {
            "text/plain": [
              "(\n",
              " [[0.570766   0.07913885 0.18184267 0.03541434 0.13283812]\n",
              "  [0.26933974 0.13468291 0.29104897 0.03192209 0.2730063 ]]\n",
              " <NDArray 2x5 @cpu(0)>, \n",
              " [0.99999994 1.        ]\n",
              " <NDArray 2 @cpu(0)>)"
            ]
          },
          "metadata": {
            "tags": []
          },
          "execution_count": 282
        }
      ]
    },
    {
      "cell_type": "code",
      "metadata": {
        "id": "Rf-DsjJFn-GG",
        "colab_type": "code",
        "colab": {}
      },
      "source": [
        "def net(X):\n",
        "    return softmax(nd.dot(X.reshape((-1, num_inputs)), W) + b)"
      ],
      "execution_count": 0,
      "outputs": []
    },
    {
      "cell_type": "code",
      "metadata": {
        "id": "kQmDcpePoAnd",
        "colab_type": "code",
        "colab": {
          "base_uri": "https://localhost:8080/",
          "height": 67
        },
        "outputId": "cddef3b5-aa20-4c5c-d9c6-9adcbc6b32d3"
      },
      "source": [
        "y_hat = nd.array([[0.1, 0.3, 0.6], [0.3, 0.2, 0.5]])\n",
        "y = nd.array([0, 2], dtype='int32')\n",
        "nd.pick(y_hat, y)"
      ],
      "execution_count": 284,
      "outputs": [
        {
          "output_type": "execute_result",
          "data": {
            "text/plain": [
              "\n",
              "[0.1 0.5]\n",
              "<NDArray 2 @cpu(0)>"
            ]
          },
          "metadata": {
            "tags": []
          },
          "execution_count": 284
        }
      ]
    },
    {
      "cell_type": "code",
      "metadata": {
        "id": "fYsZ3jg6oDQd",
        "colab_type": "code",
        "colab": {}
      },
      "source": [
        "def cross_entropy(y_hat, y):\n",
        "    return -nd.pick(y_hat, y).log()"
      ],
      "execution_count": 0,
      "outputs": []
    },
    {
      "cell_type": "code",
      "metadata": {
        "id": "6SOIzTVOoIgt",
        "colab_type": "code",
        "colab": {}
      },
      "source": [
        "def accuracy(y_hat, y):\n",
        "    return (y_hat.argmax(axis=1) == y.astype('float32')).mean().asscalar()"
      ],
      "execution_count": 0,
      "outputs": []
    },
    {
      "cell_type": "code",
      "metadata": {
        "id": "Nz6pB08moLMM",
        "colab_type": "code",
        "colab": {
          "base_uri": "https://localhost:8080/",
          "height": 34
        },
        "outputId": "30aa48dd-0dad-40c8-dc86-07f96b0c611f"
      },
      "source": [
        "accuracy(y_hat, y)"
      ],
      "execution_count": 287,
      "outputs": [
        {
          "output_type": "execute_result",
          "data": {
            "text/plain": [
              "0.5"
            ]
          },
          "metadata": {
            "tags": []
          },
          "execution_count": 287
        }
      ]
    },
    {
      "cell_type": "code",
      "metadata": {
        "id": "QjeDlIX8oNjE",
        "colab_type": "code",
        "colab": {}
      },
      "source": [
        "def evaluate_accuracy(data_iter, net):\n",
        "    acc_sum, n = 0.0, 0\n",
        "    for X, y in data_iter:\n",
        "        y = y.astype('float32')\n",
        "        acc_sum += (net(X).argmax(axis=1) == y).sum().asscalar()\n",
        "        n += y.size\n",
        "    return acc_sum / n"
      ],
      "execution_count": 0,
      "outputs": []
    },
    {
      "cell_type": "code",
      "metadata": {
        "id": "RHAlY8XYoQjc",
        "colab_type": "code",
        "colab": {
          "base_uri": "https://localhost:8080/",
          "height": 34
        },
        "outputId": "9c9c630b-0cb1-42ba-c99b-049771436801"
      },
      "source": [
        "evaluate_accuracy(test_iter, net)"
      ],
      "execution_count": 289,
      "outputs": [
        {
          "output_type": "execute_result",
          "data": {
            "text/plain": [
              "0.0859"
            ]
          },
          "metadata": {
            "tags": []
          },
          "execution_count": 289
        }
      ]
    },
    {
      "cell_type": "code",
      "metadata": {
        "id": "dY_J7dpDoTBM",
        "colab_type": "code",
        "colab": {}
      },
      "source": [
        "num_epochs, lr = 5, 0.1\n",
        "\n",
        "loss_dict = []\n",
        "# 本函数已保存在d2lzh包中方便以后使用\n",
        "def train_ch3(net, train_iter, test_iter, loss, num_epochs, batch_size,\n",
        "              params=None, lr=None, trainer=None):\n",
        "    for epoch in range(num_epochs):\n",
        "        train_l_sum, train_acc_sum, n = 0.0, 0.0, 0\n",
        "        my_n = 0\n",
        "        \n",
        "        for X, y in train_iter:\n",
        "            with autograd.record():\n",
        "                y_hat = net(X)\n",
        "                l = loss(y_hat, y).sum()\n",
        "            l.backward()\n",
        "            my_n += 1\n",
        "            # print(l)\n",
        "            # print(W.grad)\n",
        "            if trainer is None:\n",
        "                d2l.sgd(params, lr, batch_size)\n",
        "            else:\n",
        "                trainer.step(batch_size)  # “softmax回归的简洁实现”一节将用到\n",
        "            y = y.astype('float32')\n",
        "            train_l_sum += l.asscalar()\n",
        "            train_acc_sum += (y_hat.argmax(axis=1) == y).sum().asscalar()\n",
        "            n += y.size\n",
        "            loss_dict.append(l.asscalar())\n",
        "        # print(my_n)\n",
        "        test_acc = evaluate_accuracy(test_iter, net)\n",
        "        # print(X.shape)\n",
        "        # print(y.shape)\n",
        "        print('epoch %d, loss %.4f, train acc %.3f, test acc %.3f'\n",
        "              % (epoch + 1, train_l_sum / n, train_acc_sum / n, test_acc))\n"
      ],
      "execution_count": 0,
      "outputs": []
    },
    {
      "cell_type": "code",
      "metadata": {
        "id": "70JJXmpZobYX",
        "colab_type": "code",
        "colab": {
          "base_uri": "https://localhost:8080/",
          "height": 101
        },
        "outputId": "8af6a572-596f-41bc-86f1-3c2b2cc827e1"
      },
      "source": [
        "train_ch3(net, train_iter, test_iter, cross_entropy, num_epochs, batch_size,\n",
        "          [W, b], lr)"
      ],
      "execution_count": 319,
      "outputs": [
        {
          "output_type": "stream",
          "text": [
            "epoch 1, loss 0.4425, train acc 0.848, test acc 0.851\n",
            "epoch 2, loss 0.4400, train acc 0.850, test acc 0.851\n",
            "epoch 3, loss 0.4370, train acc 0.851, test acc 0.848\n",
            "epoch 4, loss 0.4336, train acc 0.853, test acc 0.854\n",
            "epoch 5, loss 0.4321, train acc 0.852, test acc 0.849\n"
          ],
          "name": "stdout"
        }
      ]
    },
    {
      "cell_type": "code",
      "metadata": {
        "id": "ugyaoIvwMqtV",
        "colab_type": "code",
        "colab": {
          "base_uri": "https://localhost:8080/",
          "height": 351
        },
        "outputId": "7b80f90a-d7b7-47f1-bc58-72605739eef6"
      },
      "source": [
        "import matplotlib.pyplot as plt \n",
        "\n",
        "plt.plot(loss_dict, label='loss')\n",
        "plt.legend()\n",
        "plt.show()"
      ],
      "execution_count": 320,
      "outputs": [
        {
          "output_type": "display_data",
          "data": {
            "text/plain": [
              "<Figure size 432x288 with 1 Axes>"
            ],
            "image/svg+xml": "<?xml version=\"1.0\" encoding=\"utf-8\" standalone=\"no\"?>\n<!DOCTYPE svg PUBLIC \"-//W3C//DTD SVG 1.1//EN\"\n  \"http://www.w3.org/Graphics/SVG/1.1/DTD/svg11.dtd\">\n<!-- Created with matplotlib (https://matplotlib.org/) -->\n<svg height=\"248.518125pt\" version=\"1.1\" viewBox=\"0 0 379.53491 248.518125\" width=\"379.53491pt\" xmlns=\"http://www.w3.org/2000/svg\" xmlns:xlink=\"http://www.w3.org/1999/xlink\">\n <defs>\n  <style type=\"text/css\">\n*{stroke-linecap:butt;stroke-linejoin:round;}\n  </style>\n </defs>\n <g id=\"figure_1\">\n  <g id=\"patch_1\">\n   <path d=\"M 0 248.518125 \nL 379.53491 248.518125 \nL 379.53491 0 \nL 0 0 \nz\n\" style=\"fill:none;\"/>\n  </g>\n  <g id=\"axes_1\">\n   <g id=\"patch_2\">\n    <path d=\"M 33.2875 224.64 \nL 368.0875 224.64 \nL 368.0875 7.2 \nL 33.2875 7.2 \nz\n\" style=\"fill:#ffffff;\"/>\n   </g>\n   <g id=\"matplotlib.axis_1\">\n    <g id=\"xtick_1\">\n     <g id=\"line2d_1\">\n      <defs>\n       <path d=\"M 0 0 \nL 0 3.5 \n\" id=\"mfaa5bd503a\" style=\"stroke:#000000;stroke-width:0.8;\"/>\n      </defs>\n      <g>\n       <use style=\"stroke:#000000;stroke-width:0.8;\" x=\"48.505682\" xlink:href=\"#mfaa5bd503a\" y=\"224.64\"/>\n      </g>\n     </g>\n     <g id=\"text_1\">\n      <!-- 0 -->\n      <defs>\n       <path d=\"M 31.78125 66.40625 \nQ 24.171875 66.40625 20.328125 58.90625 \nQ 16.5 51.421875 16.5 36.375 \nQ 16.5 21.390625 20.328125 13.890625 \nQ 24.171875 6.390625 31.78125 6.390625 \nQ 39.453125 6.390625 43.28125 13.890625 \nQ 47.125 21.390625 47.125 36.375 \nQ 47.125 51.421875 43.28125 58.90625 \nQ 39.453125 66.40625 31.78125 66.40625 \nz\nM 31.78125 74.21875 \nQ 44.046875 74.21875 50.515625 64.515625 \nQ 56.984375 54.828125 56.984375 36.375 \nQ 56.984375 17.96875 50.515625 8.265625 \nQ 44.046875 -1.421875 31.78125 -1.421875 \nQ 19.53125 -1.421875 13.0625 8.265625 \nQ 6.59375 17.96875 6.59375 36.375 \nQ 6.59375 54.828125 13.0625 64.515625 \nQ 19.53125 74.21875 31.78125 74.21875 \nz\n\" id=\"DejaVuSans-48\"/>\n      </defs>\n      <g transform=\"translate(45.324432 239.238438)scale(0.1 -0.1)\">\n       <use xlink:href=\"#DejaVuSans-48\"/>\n      </g>\n     </g>\n    </g>\n    <g id=\"xtick_2\">\n     <g id=\"line2d_2\">\n      <g>\n       <use style=\"stroke:#000000;stroke-width:0.8;\" x=\"100.356386\" xlink:href=\"#mfaa5bd503a\" y=\"224.64\"/>\n      </g>\n     </g>\n     <g id=\"text_2\">\n      <!-- 200 -->\n      <defs>\n       <path d=\"M 19.1875 8.296875 \nL 53.609375 8.296875 \nL 53.609375 0 \nL 7.328125 0 \nL 7.328125 8.296875 \nQ 12.9375 14.109375 22.625 23.890625 \nQ 32.328125 33.6875 34.8125 36.53125 \nQ 39.546875 41.84375 41.421875 45.53125 \nQ 43.3125 49.21875 43.3125 52.78125 \nQ 43.3125 58.59375 39.234375 62.25 \nQ 35.15625 65.921875 28.609375 65.921875 \nQ 23.96875 65.921875 18.8125 64.3125 \nQ 13.671875 62.703125 7.8125 59.421875 \nL 7.8125 69.390625 \nQ 13.765625 71.78125 18.9375 73 \nQ 24.125 74.21875 28.421875 74.21875 \nQ 39.75 74.21875 46.484375 68.546875 \nQ 53.21875 62.890625 53.21875 53.421875 \nQ 53.21875 48.921875 51.53125 44.890625 \nQ 49.859375 40.875 45.40625 35.40625 \nQ 44.1875 33.984375 37.640625 27.21875 \nQ 31.109375 20.453125 19.1875 8.296875 \nz\n\" id=\"DejaVuSans-50\"/>\n      </defs>\n      <g transform=\"translate(90.812636 239.238438)scale(0.1 -0.1)\">\n       <use xlink:href=\"#DejaVuSans-50\"/>\n       <use x=\"63.623047\" xlink:href=\"#DejaVuSans-48\"/>\n       <use x=\"127.246094\" xlink:href=\"#DejaVuSans-48\"/>\n      </g>\n     </g>\n    </g>\n    <g id=\"xtick_3\">\n     <g id=\"line2d_3\">\n      <g>\n       <use style=\"stroke:#000000;stroke-width:0.8;\" x=\"152.207091\" xlink:href=\"#mfaa5bd503a\" y=\"224.64\"/>\n      </g>\n     </g>\n     <g id=\"text_3\">\n      <!-- 400 -->\n      <defs>\n       <path d=\"M 37.796875 64.3125 \nL 12.890625 25.390625 \nL 37.796875 25.390625 \nz\nM 35.203125 72.90625 \nL 47.609375 72.90625 \nL 47.609375 25.390625 \nL 58.015625 25.390625 \nL 58.015625 17.1875 \nL 47.609375 17.1875 \nL 47.609375 0 \nL 37.796875 0 \nL 37.796875 17.1875 \nL 4.890625 17.1875 \nL 4.890625 26.703125 \nz\n\" id=\"DejaVuSans-52\"/>\n      </defs>\n      <g transform=\"translate(142.663341 239.238438)scale(0.1 -0.1)\">\n       <use xlink:href=\"#DejaVuSans-52\"/>\n       <use x=\"63.623047\" xlink:href=\"#DejaVuSans-48\"/>\n       <use x=\"127.246094\" xlink:href=\"#DejaVuSans-48\"/>\n      </g>\n     </g>\n    </g>\n    <g id=\"xtick_4\">\n     <g id=\"line2d_4\">\n      <g>\n       <use style=\"stroke:#000000;stroke-width:0.8;\" x=\"204.057796\" xlink:href=\"#mfaa5bd503a\" y=\"224.64\"/>\n      </g>\n     </g>\n     <g id=\"text_4\">\n      <!-- 600 -->\n      <defs>\n       <path d=\"M 33.015625 40.375 \nQ 26.375 40.375 22.484375 35.828125 \nQ 18.609375 31.296875 18.609375 23.390625 \nQ 18.609375 15.53125 22.484375 10.953125 \nQ 26.375 6.390625 33.015625 6.390625 \nQ 39.65625 6.390625 43.53125 10.953125 \nQ 47.40625 15.53125 47.40625 23.390625 \nQ 47.40625 31.296875 43.53125 35.828125 \nQ 39.65625 40.375 33.015625 40.375 \nz\nM 52.59375 71.296875 \nL 52.59375 62.3125 \nQ 48.875 64.0625 45.09375 64.984375 \nQ 41.3125 65.921875 37.59375 65.921875 \nQ 27.828125 65.921875 22.671875 59.328125 \nQ 17.53125 52.734375 16.796875 39.40625 \nQ 19.671875 43.65625 24.015625 45.921875 \nQ 28.375 48.1875 33.59375 48.1875 \nQ 44.578125 48.1875 50.953125 41.515625 \nQ 57.328125 34.859375 57.328125 23.390625 \nQ 57.328125 12.15625 50.6875 5.359375 \nQ 44.046875 -1.421875 33.015625 -1.421875 \nQ 20.359375 -1.421875 13.671875 8.265625 \nQ 6.984375 17.96875 6.984375 36.375 \nQ 6.984375 53.65625 15.1875 63.9375 \nQ 23.390625 74.21875 37.203125 74.21875 \nQ 40.921875 74.21875 44.703125 73.484375 \nQ 48.484375 72.75 52.59375 71.296875 \nz\n\" id=\"DejaVuSans-54\"/>\n      </defs>\n      <g transform=\"translate(194.514046 239.238438)scale(0.1 -0.1)\">\n       <use xlink:href=\"#DejaVuSans-54\"/>\n       <use x=\"63.623047\" xlink:href=\"#DejaVuSans-48\"/>\n       <use x=\"127.246094\" xlink:href=\"#DejaVuSans-48\"/>\n      </g>\n     </g>\n    </g>\n    <g id=\"xtick_5\">\n     <g id=\"line2d_5\">\n      <g>\n       <use style=\"stroke:#000000;stroke-width:0.8;\" x=\"255.9085\" xlink:href=\"#mfaa5bd503a\" y=\"224.64\"/>\n      </g>\n     </g>\n     <g id=\"text_5\">\n      <!-- 800 -->\n      <defs>\n       <path d=\"M 31.78125 34.625 \nQ 24.75 34.625 20.71875 30.859375 \nQ 16.703125 27.09375 16.703125 20.515625 \nQ 16.703125 13.921875 20.71875 10.15625 \nQ 24.75 6.390625 31.78125 6.390625 \nQ 38.8125 6.390625 42.859375 10.171875 \nQ 46.921875 13.96875 46.921875 20.515625 \nQ 46.921875 27.09375 42.890625 30.859375 \nQ 38.875 34.625 31.78125 34.625 \nz\nM 21.921875 38.8125 \nQ 15.578125 40.375 12.03125 44.71875 \nQ 8.5 49.078125 8.5 55.328125 \nQ 8.5 64.0625 14.71875 69.140625 \nQ 20.953125 74.21875 31.78125 74.21875 \nQ 42.671875 74.21875 48.875 69.140625 \nQ 55.078125 64.0625 55.078125 55.328125 \nQ 55.078125 49.078125 51.53125 44.71875 \nQ 48 40.375 41.703125 38.8125 \nQ 48.828125 37.15625 52.796875 32.3125 \nQ 56.78125 27.484375 56.78125 20.515625 \nQ 56.78125 9.90625 50.3125 4.234375 \nQ 43.84375 -1.421875 31.78125 -1.421875 \nQ 19.734375 -1.421875 13.25 4.234375 \nQ 6.78125 9.90625 6.78125 20.515625 \nQ 6.78125 27.484375 10.78125 32.3125 \nQ 14.796875 37.15625 21.921875 38.8125 \nz\nM 18.3125 54.390625 \nQ 18.3125 48.734375 21.84375 45.5625 \nQ 25.390625 42.390625 31.78125 42.390625 \nQ 38.140625 42.390625 41.71875 45.5625 \nQ 45.3125 48.734375 45.3125 54.390625 \nQ 45.3125 60.0625 41.71875 63.234375 \nQ 38.140625 66.40625 31.78125 66.40625 \nQ 25.390625 66.40625 21.84375 63.234375 \nQ 18.3125 60.0625 18.3125 54.390625 \nz\n\" id=\"DejaVuSans-56\"/>\n      </defs>\n      <g transform=\"translate(246.36475 239.238438)scale(0.1 -0.1)\">\n       <use xlink:href=\"#DejaVuSans-56\"/>\n       <use x=\"63.623047\" xlink:href=\"#DejaVuSans-48\"/>\n       <use x=\"127.246094\" xlink:href=\"#DejaVuSans-48\"/>\n      </g>\n     </g>\n    </g>\n    <g id=\"xtick_6\">\n     <g id=\"line2d_6\">\n      <g>\n       <use style=\"stroke:#000000;stroke-width:0.8;\" x=\"307.759205\" xlink:href=\"#mfaa5bd503a\" y=\"224.64\"/>\n      </g>\n     </g>\n     <g id=\"text_6\">\n      <!-- 1000 -->\n      <defs>\n       <path d=\"M 12.40625 8.296875 \nL 28.515625 8.296875 \nL 28.515625 63.921875 \nL 10.984375 60.40625 \nL 10.984375 69.390625 \nL 28.421875 72.90625 \nL 38.28125 72.90625 \nL 38.28125 8.296875 \nL 54.390625 8.296875 \nL 54.390625 0 \nL 12.40625 0 \nz\n\" id=\"DejaVuSans-49\"/>\n      </defs>\n      <g transform=\"translate(295.034205 239.238438)scale(0.1 -0.1)\">\n       <use xlink:href=\"#DejaVuSans-49\"/>\n       <use x=\"63.623047\" xlink:href=\"#DejaVuSans-48\"/>\n       <use x=\"127.246094\" xlink:href=\"#DejaVuSans-48\"/>\n       <use x=\"190.869141\" xlink:href=\"#DejaVuSans-48\"/>\n      </g>\n     </g>\n    </g>\n    <g id=\"xtick_7\">\n     <g id=\"line2d_7\">\n      <g>\n       <use style=\"stroke:#000000;stroke-width:0.8;\" x=\"359.60991\" xlink:href=\"#mfaa5bd503a\" y=\"224.64\"/>\n      </g>\n     </g>\n     <g id=\"text_7\">\n      <!-- 1200 -->\n      <g transform=\"translate(346.88491 239.238438)scale(0.1 -0.1)\">\n       <use xlink:href=\"#DejaVuSans-49\"/>\n       <use x=\"63.623047\" xlink:href=\"#DejaVuSans-50\"/>\n       <use x=\"127.246094\" xlink:href=\"#DejaVuSans-48\"/>\n       <use x=\"190.869141\" xlink:href=\"#DejaVuSans-48\"/>\n      </g>\n     </g>\n    </g>\n   </g>\n   <g id=\"matplotlib.axis_2\">\n    <g id=\"ytick_1\">\n     <g id=\"line2d_8\">\n      <defs>\n       <path d=\"M 0 0 \nL -3.5 0 \n\" id=\"m7879ec5666\" style=\"stroke:#000000;stroke-width:0.8;\"/>\n      </defs>\n      <g>\n       <use style=\"stroke:#000000;stroke-width:0.8;\" x=\"33.2875\" xlink:href=\"#m7879ec5666\" y=\"206.971485\"/>\n      </g>\n     </g>\n     <g id=\"text_8\">\n      <!-- 40 -->\n      <g transform=\"translate(13.5625 210.770703)scale(0.1 -0.1)\">\n       <use xlink:href=\"#DejaVuSans-52\"/>\n       <use x=\"63.623047\" xlink:href=\"#DejaVuSans-48\"/>\n      </g>\n     </g>\n    </g>\n    <g id=\"ytick_2\">\n     <g id=\"line2d_9\">\n      <g>\n       <use style=\"stroke:#000000;stroke-width:0.8;\" x=\"33.2875\" xlink:href=\"#m7879ec5666\" y=\"180.552076\"/>\n      </g>\n     </g>\n     <g id=\"text_9\">\n      <!-- 60 -->\n      <g transform=\"translate(13.5625 184.351295)scale(0.1 -0.1)\">\n       <use xlink:href=\"#DejaVuSans-54\"/>\n       <use x=\"63.623047\" xlink:href=\"#DejaVuSans-48\"/>\n      </g>\n     </g>\n    </g>\n    <g id=\"ytick_3\">\n     <g id=\"line2d_10\">\n      <g>\n       <use style=\"stroke:#000000;stroke-width:0.8;\" x=\"33.2875\" xlink:href=\"#m7879ec5666\" y=\"154.132667\"/>\n      </g>\n     </g>\n     <g id=\"text_10\">\n      <!-- 80 -->\n      <g transform=\"translate(13.5625 157.931886)scale(0.1 -0.1)\">\n       <use xlink:href=\"#DejaVuSans-56\"/>\n       <use x=\"63.623047\" xlink:href=\"#DejaVuSans-48\"/>\n      </g>\n     </g>\n    </g>\n    <g id=\"ytick_4\">\n     <g id=\"line2d_11\">\n      <g>\n       <use style=\"stroke:#000000;stroke-width:0.8;\" x=\"33.2875\" xlink:href=\"#m7879ec5666\" y=\"127.713258\"/>\n      </g>\n     </g>\n     <g id=\"text_11\">\n      <!-- 100 -->\n      <g transform=\"translate(7.2 131.512477)scale(0.1 -0.1)\">\n       <use xlink:href=\"#DejaVuSans-49\"/>\n       <use x=\"63.623047\" xlink:href=\"#DejaVuSans-48\"/>\n       <use x=\"127.246094\" xlink:href=\"#DejaVuSans-48\"/>\n      </g>\n     </g>\n    </g>\n    <g id=\"ytick_5\">\n     <g id=\"line2d_12\">\n      <g>\n       <use style=\"stroke:#000000;stroke-width:0.8;\" x=\"33.2875\" xlink:href=\"#m7879ec5666\" y=\"101.293849\"/>\n      </g>\n     </g>\n     <g id=\"text_12\">\n      <!-- 120 -->\n      <g transform=\"translate(7.2 105.093068)scale(0.1 -0.1)\">\n       <use xlink:href=\"#DejaVuSans-49\"/>\n       <use x=\"63.623047\" xlink:href=\"#DejaVuSans-50\"/>\n       <use x=\"127.246094\" xlink:href=\"#DejaVuSans-48\"/>\n      </g>\n     </g>\n    </g>\n    <g id=\"ytick_6\">\n     <g id=\"line2d_13\">\n      <g>\n       <use style=\"stroke:#000000;stroke-width:0.8;\" x=\"33.2875\" xlink:href=\"#m7879ec5666\" y=\"74.87444\"/>\n      </g>\n     </g>\n     <g id=\"text_13\">\n      <!-- 140 -->\n      <g transform=\"translate(7.2 78.673659)scale(0.1 -0.1)\">\n       <use xlink:href=\"#DejaVuSans-49\"/>\n       <use x=\"63.623047\" xlink:href=\"#DejaVuSans-52\"/>\n       <use x=\"127.246094\" xlink:href=\"#DejaVuSans-48\"/>\n      </g>\n     </g>\n    </g>\n    <g id=\"ytick_7\">\n     <g id=\"line2d_14\">\n      <g>\n       <use style=\"stroke:#000000;stroke-width:0.8;\" x=\"33.2875\" xlink:href=\"#m7879ec5666\" y=\"48.455032\"/>\n      </g>\n     </g>\n     <g id=\"text_14\">\n      <!-- 160 -->\n      <g transform=\"translate(7.2 52.25425)scale(0.1 -0.1)\">\n       <use xlink:href=\"#DejaVuSans-49\"/>\n       <use x=\"63.623047\" xlink:href=\"#DejaVuSans-54\"/>\n       <use x=\"127.246094\" xlink:href=\"#DejaVuSans-48\"/>\n      </g>\n     </g>\n    </g>\n    <g id=\"ytick_8\">\n     <g id=\"line2d_15\">\n      <g>\n       <use style=\"stroke:#000000;stroke-width:0.8;\" x=\"33.2875\" xlink:href=\"#m7879ec5666\" y=\"22.035623\"/>\n      </g>\n     </g>\n     <g id=\"text_15\">\n      <!-- 180 -->\n      <g transform=\"translate(7.2 25.834841)scale(0.1 -0.1)\">\n       <use xlink:href=\"#DejaVuSans-49\"/>\n       <use x=\"63.623047\" xlink:href=\"#DejaVuSans-56\"/>\n       <use x=\"127.246094\" xlink:href=\"#DejaVuSans-48\"/>\n      </g>\n     </g>\n    </g>\n   </g>\n   <g id=\"line2d_16\">\n    <path clip-path=\"url(#p85c7028c2b)\" d=\"M 48.505682 100.261398 \nL 48.764935 106.790542 \nL 49.024189 109.524719 \nL 49.283442 88.504426 \nL 49.542696 117.148075 \nL 50.061203 135.464536 \nL 50.320456 93.767375 \nL 50.57971 120.673138 \nL 50.838964 111.530836 \nL 51.098217 122.560383 \nL 51.616724 80.022448 \nL 51.875978 141.258506 \nL 52.135231 133.038229 \nL 52.653738 104.869334 \nL 52.912992 114.662406 \nL 53.172245 131.094949 \nL 53.431499 137.730379 \nL 53.690752 113.86127 \nL 53.950006 111.799723 \nL 54.209259 104.611121 \nL 54.468513 127.595635 \nL 54.727766 65.264006 \nL 54.98702 122.749188 \nL 55.246273 125.195672 \nL 55.505527 123.191944 \nL 55.76478 111.337455 \nL 56.024034 114.332799 \nL 56.283288 87.397315 \nL 56.542541 119.48125 \nL 56.801795 128.124792 \nL 57.061048 109.739143 \nL 57.320302 135.321073 \nL 57.579555 96.211149 \nL 57.838809 86.940853 \nL 58.098062 128.129528 \nL 58.357316 135.780337 \nL 58.616569 67.080118 \nL 58.875823 116.538373 \nL 59.135076 105.299311 \nL 59.39433 87.428457 \nL 59.653583 107.135479 \nL 59.912837 97.30284 \nL 60.17209 103.160323 \nL 60.431344 113.22344 \nL 60.690597 106.315194 \nL 60.949851 120.578685 \nL 61.209104 125.181815 \nL 61.468358 133.945056 \nL 61.727612 110.437048 \nL 61.986865 120.051575 \nL 62.246119 119.04829 \nL 62.505372 99.986071 \nL 62.764626 154.798494 \nL 63.023879 94.127651 \nL 63.542386 129.917472 \nL 63.80164 78.764547 \nL 64.060893 82.710406 \nL 64.320147 110.928704 \nL 64.5794 122.808085 \nL 64.838654 85.69682 \nL 65.097907 126.237748 \nL 65.357161 133.875869 \nL 65.616414 129.989834 \nL 65.875668 93.388586 \nL 66.134921 129.763477 \nL 66.394175 122.877937 \nL 66.912682 96.489317 \nL 67.171935 126.429627 \nL 67.690443 91.226207 \nL 67.949696 94.259333 \nL 68.20895 66.938781 \nL 68.468203 128.030228 \nL 68.727457 103.81597 \nL 68.98671 110.353863 \nL 69.245964 112.583091 \nL 69.505217 109.763552 \nL 69.764471 111.873545 \nL 70.023724 100.878476 \nL 70.282978 165.809537 \nL 70.542231 86.250536 \nL 70.801485 72.353619 \nL 71.060738 90.297137 \nL 71.319992 79.489291 \nL 71.579245 114.124341 \nL 71.838499 97.417691 \nL 72.097752 124.627372 \nL 72.357006 53.416814 \nL 72.616259 86.924224 \nL 72.875513 141.943129 \nL 73.134767 97.393362 \nL 73.39402 101.304129 \nL 73.912527 129.737909 \nL 74.171781 139.478685 \nL 74.431034 109.789564 \nL 74.690288 108.787005 \nL 74.949541 92.54624 \nL 75.208795 125.43515 \nL 75.468048 112.406682 \nL 75.727302 125.348871 \nL 75.986555 121.224608 \nL 76.245809 112.220387 \nL 76.505062 71.461053 \nL 76.764316 125.932742 \nL 77.023569 72.648447 \nL 77.542076 114.497114 \nL 77.80133 115.79699 \nL 78.060583 128.52793 \nL 78.319837 102.416581 \nL 78.579091 122.952627 \nL 78.838344 113.215045 \nL 79.097598 116.213795 \nL 79.356851 102.566464 \nL 79.616105 114.470134 \nL 79.875358 93.265229 \nL 80.393865 135.194017 \nL 80.653119 81.783735 \nL 80.912372 114.941704 \nL 81.171626 114.052312 \nL 81.430879 99.947613 \nL 81.690133 98.490899 \nL 81.949386 126.118614 \nL 82.20864 105.141456 \nL 82.467893 125.985975 \nL 82.727147 130.372785 \nL 83.245654 107.123557 \nL 83.504907 132.465122 \nL 83.764161 97.851286 \nL 84.023415 124.729525 \nL 84.282668 120.861057 \nL 84.541922 99.244678 \nL 84.801175 146.357624 \nL 85.060429 110.564215 \nL 85.319682 97.897273 \nL 85.578936 108.349248 \nL 85.838189 59.17036 \nL 86.356696 124.153334 \nL 86.61595 127.415296 \nL 86.875203 137.744539 \nL 87.134457 136.589496 \nL 87.39371 104.688914 \nL 87.652964 114.915006 \nL 87.912217 133.459457 \nL 88.171471 89.212863 \nL 88.430724 104.634109 \nL 88.689978 107.032359 \nL 88.949231 126.265685 \nL 89.208485 95.546017 \nL 89.467739 105.020003 \nL 89.726992 95.74868 \nL 90.245499 126.940885 \nL 90.504753 134.300615 \nL 90.764006 118.394376 \nL 91.02326 114.329412 \nL 91.282513 101.452672 \nL 91.541767 82.302037 \nL 91.80102 141.639432 \nL 92.060274 101.957822 \nL 92.319527 108.023308 \nL 92.578781 121.458694 \nL 93.097288 104.308482 \nL 93.356541 132.344758 \nL 93.615795 97.774369 \nL 93.875048 110.740019 \nL 94.134302 95.720864 \nL 94.393555 113.150071 \nL 94.652809 84.850916 \nL 94.912062 102.781967 \nL 95.171316 139.323209 \nL 95.43057 83.056411 \nL 95.689823 77.565623 \nL 96.20833 122.447013 \nL 96.467584 103.686707 \nL 96.726837 129.358152 \nL 96.986091 123.558861 \nL 97.245344 102.371381 \nL 97.504598 100.356637 \nL 97.763851 132.492837 \nL 98.023105 107.619021 \nL 98.282358 128.954137 \nL 98.541612 101.816777 \nL 98.800865 115.809487 \nL 99.060119 85.698815 \nL 99.319372 82.284581 \nL 99.837879 122.716323 \nL 100.097133 100.512204 \nL 100.356386 97.62759 \nL 100.61564 116.680748 \nL 100.874894 88.67247 \nL 101.134147 112.798442 \nL 101.393401 116.492669 \nL 101.652654 109.553129 \nL 101.911908 123.791627 \nL 102.171161 107.429561 \nL 102.430415 115.970043 \nL 102.689668 86.969556 \nL 103.208175 147.072723 \nL 103.467429 83.717884 \nL 103.726682 102.91645 \nL 103.985936 92.359329 \nL 104.245189 120.206558 \nL 104.504443 94.288711 \nL 104.763696 109.987168 \nL 105.02295 90.059352 \nL 105.282203 90.944269 \nL 105.541457 94.4458 \nL 105.80071 105.843272 \nL 106.059964 103.7721 \nL 106.319218 89.73691 \nL 106.578471 122.583623 \nL 106.837725 94.956069 \nL 107.096978 124.28817 \nL 107.356232 112.903175 \nL 107.615485 128.720111 \nL 107.874739 128.586091 \nL 108.133992 111.888975 \nL 108.393246 127.880214 \nL 108.911753 104.549109 \nL 109.171006 214.756364 \nL 109.43026 104.617863 \nL 109.689513 140.251905 \nL 109.948767 79.482115 \nL 110.20802 136.259717 \nL 110.467274 80.032949 \nL 110.726527 130.591553 \nL 110.985781 67.970124 \nL 111.245034 114.875893 \nL 111.504288 121.485623 \nL 111.763542 139.605933 \nL 112.022795 126.929597 \nL 112.282049 93.673668 \nL 112.541302 114.341738 \nL 112.800556 86.50235 \nL 113.059809 109.319557 \nL 113.319063 99.82741 \nL 113.578316 120.45686 \nL 113.83757 110.79035 \nL 114.096823 94.228181 \nL 114.356077 125.364311 \nL 114.61533 117.90012 \nL 114.874584 104.463223 \nL 115.133837 121.057954 \nL 115.393091 124.00073 \nL 115.652344 123.488505 \nL 115.911598 113.659847 \nL 116.430105 124.608728 \nL 116.689358 118.352208 \nL 116.948612 139.931237 \nL 117.207865 133.365347 \nL 117.467119 136.170918 \nL 117.726373 114.914311 \nL 117.985626 143.127368 \nL 118.24488 132.11307 \nL 118.504133 147.073469 \nL 118.763387 62.974822 \nL 119.02264 125.517187 \nL 119.281894 111.348007 \nL 119.541147 107.12272 \nL 119.800401 128.118714 \nL 120.059654 125.061864 \nL 120.318908 106.788698 \nL 120.578161 117.63079 \nL 120.837415 103.374797 \nL 121.096668 125.973367 \nL 121.355922 127.698564 \nL 121.615175 117.835136 \nL 121.874429 118.837413 \nL 122.133682 118.712817 \nL 122.392936 90.555643 \nL 122.652189 107.057998 \nL 122.911443 102.594683 \nL 123.170697 111.370593 \nL 123.42995 133.544618 \nL 123.689204 100.183211 \nL 124.207711 122.145705 \nL 124.466964 108.962335 \nL 124.726218 123.461072 \nL 124.985471 122.361721 \nL 125.244725 108.648248 \nL 125.503978 102.032219 \nL 125.763232 134.785739 \nL 126.022485 131.499892 \nL 126.281739 106.66265 \nL 126.800246 117.195493 \nL 127.059499 103.31852 \nL 127.318753 113.292627 \nL 127.578006 88.885685 \nL 127.83726 120.848701 \nL 128.096513 111.707326 \nL 128.355767 94.703862 \nL 128.615021 105.370503 \nL 128.874274 82.898324 \nL 129.133528 85.424829 \nL 129.392781 135.32709 \nL 129.652035 105.871067 \nL 129.911288 107.973603 \nL 130.170542 121.838612 \nL 130.429795 93.088679 \nL 130.689049 128.818132 \nL 130.948302 109.412317 \nL 131.207556 112.707386 \nL 131.466809 98.270358 \nL 131.726063 105.984226 \nL 131.985316 108.061243 \nL 132.24457 95.152867 \nL 132.503823 96.444842 \nL 132.763077 109.696381 \nL 133.02233 110.053371 \nL 133.281584 107.000139 \nL 133.540837 85.266763 \nL 133.800091 111.456177 \nL 134.059345 105.085723 \nL 134.318598 110.530675 \nL 134.577852 105.782974 \nL 134.837105 124.276167 \nL 135.096359 95.983784 \nL 135.355612 117.880246 \nL 135.614866 115.247547 \nL 135.874119 114.391877 \nL 136.392626 99.137738 \nL 136.65188 122.472783 \nL 136.911133 111.843684 \nL 137.170387 109.732471 \nL 137.42964 131.556743 \nL 137.948147 89.951918 \nL 138.207401 90.717822 \nL 138.725908 136.107929 \nL 138.985161 119.983457 \nL 139.244415 127.418481 \nL 139.762922 110.455683 \nL 140.281429 137.022969 \nL 140.540683 127.390151 \nL 140.799936 91.65707 \nL 141.05919 119.09863 \nL 141.318443 112.453647 \nL 141.577697 123.900835 \nL 141.83695 73.452607 \nL 142.096204 91.353938 \nL 142.355457 134.049264 \nL 142.614711 106.159153 \nL 142.873964 104.358178 \nL 143.133218 92.594686 \nL 143.392471 111.899708 \nL 143.651725 84.996566 \nL 143.910978 129.460597 \nL 144.170232 95.789144 \nL 144.429485 132.510222 \nL 144.688739 106.739164 \nL 145.207246 139.077855 \nL 145.4665 134.19048 \nL 145.725753 107.990161 \nL 145.985007 106.85591 \nL 146.24426 120.529514 \nL 146.503514 148.001369 \nL 146.762767 102.281755 \nL 147.022021 104.78241 \nL 147.281274 123.909643 \nL 147.540528 95.602405 \nL 147.799781 133.050595 \nL 148.059035 120.280058 \nL 148.318288 139.43933 \nL 148.577542 80.349546 \nL 148.836795 108.130057 \nL 149.096049 108.324344 \nL 149.355302 81.402335 \nL 149.614556 112.406068 \nL 149.873809 106.004422 \nL 150.133063 128.059737 \nL 150.392316 108.446986 \nL 150.65157 103.003163 \nL 150.910824 71.649334 \nL 151.170077 117.894073 \nL 151.429331 103.569175 \nL 151.688584 80.54718 \nL 151.947838 79.527346 \nL 152.207091 123.743363 \nL 152.466345 128.415608 \nL 152.984852 84.754749 \nL 153.503359 123.578947 \nL 154.021866 83.103335 \nL 154.281119 92.106759 \nL 154.540373 108.50157 \nL 154.799626 113.299128 \nL 155.05888 126.748462 \nL 155.577387 75.764991 \nL 155.83664 80.501949 \nL 156.355148 113.517391 \nL 156.614401 107.079354 \nL 156.873655 146.360073 \nL 157.132908 103.640761 \nL 157.392162 91.230258 \nL 157.651415 106.225034 \nL 157.910669 101.539566 \nL 158.169922 93.915848 \nL 158.429176 137.301078 \nL 158.688429 135.253287 \nL 158.947683 91.585273 \nL 159.206936 109.05066 \nL 159.46619 113.085198 \nL 159.725443 125.869491 \nL 159.984697 103.089695 \nL 160.24395 117.402962 \nL 160.503204 17.083636 \nL 160.762457 143.835513 \nL 161.021711 106.666913 \nL 161.280964 121.589338 \nL 161.540218 96.67522 \nL 161.799472 112.01198 \nL 162.058725 93.434946 \nL 162.317979 136.444591 \nL 162.577232 133.343236 \nL 162.836486 133.022194 \nL 163.095739 109.111039 \nL 163.354993 132.784016 \nL 163.614246 96.366313 \nL 163.8735 96.820557 \nL 164.132753 123.178499 \nL 164.392007 104.490757 \nL 164.65126 119.176112 \nL 164.910514 125.8604 \nL 165.169767 116.872788 \nL 165.429021 119.396421 \nL 165.688274 110.246329 \nL 165.947528 83.371818 \nL 166.206781 98.01427 \nL 166.466035 96.475792 \nL 166.725288 103.396243 \nL 166.984542 116.802352 \nL 167.243795 98.350943 \nL 167.503049 133.485812 \nL 167.762303 131.494137 \nL 168.28081 74.334732 \nL 168.540063 90.763829 \nL 168.799317 91.646024 \nL 169.05857 117.068124 \nL 169.317824 107.865957 \nL 169.577077 130.240338 \nL 169.836331 122.507744 \nL 170.095584 204.411681 \nL 170.354838 79.792624 \nL 170.614091 114.024234 \nL 170.873345 106.442592 \nL 171.132598 112.493153 \nL 171.391852 113.203616 \nL 171.651105 83.785932 \nL 171.910359 138.328893 \nL 172.169612 105.165422 \nL 172.428866 95.388918 \nL 172.688119 96.569177 \nL 172.947373 103.697914 \nL 173.206627 88.405196 \nL 173.46588 108.182685 \nL 173.725134 141.277524 \nL 173.984387 60.325988 \nL 174.243641 99.591157 \nL 174.502894 117.10238 \nL 174.762148 125.052804 \nL 175.021401 127.475382 \nL 175.539908 119.451569 \nL 175.799162 93.543196 \nL 176.317669 120.082656 \nL 176.576922 95.648734 \nL 176.836176 122.254036 \nL 177.095429 132.370528 \nL 177.354683 95.311941 \nL 177.613936 138.20477 \nL 177.87319 68.626961 \nL 178.132443 156.057392 \nL 178.391697 116.453465 \nL 178.650951 98.147101 \nL 178.910204 133.332684 \nL 179.169458 111.400535 \nL 179.428711 76.031358 \nL 179.687965 122.813951 \nL 179.947218 143.221599 \nL 180.206472 151.142665 \nL 180.724979 104.869173 \nL 180.984232 134.969505 \nL 181.243486 138.874235 \nL 181.502739 102.993639 \nL 182.021246 129.624418 \nL 182.2805 135.628882 \nL 182.539753 82.36172 \nL 182.799007 105.489063 \nL 183.05826 114.30983 \nL 183.317514 133.394302 \nL 183.576767 101.222334 \nL 183.836021 124.366317 \nL 184.095275 111.320867 \nL 184.354528 139.722608 \nL 184.613782 101.215562 \nL 184.873035 130.128651 \nL 185.132289 99.280395 \nL 185.391542 114.381194 \nL 185.650796 75.188114 \nL 185.910049 91.702845 \nL 186.169303 116.044441 \nL 186.428556 90.830839 \nL 186.68781 114.691028 \nL 186.947063 111.301063 \nL 187.206317 105.53768 \nL 187.46557 90.081504 \nL 187.724824 129.020986 \nL 187.984077 65.874684 \nL 188.243331 109.535583 \nL 188.502584 94.807043 \nL 188.761838 137.179857 \nL 189.021091 91.337006 \nL 189.280345 109.212426 \nL 189.539598 111.031401 \nL 189.798852 105.733601 \nL 190.058106 114.206297 \nL 190.317359 110.903599 \nL 190.576613 120.416346 \nL 190.835866 103.377196 \nL 191.354373 94.864811 \nL 191.613627 127.497494 \nL 191.87288 125.203191 \nL 192.132134 90.753025 \nL 192.391387 94.320205 \nL 192.909894 121.390031 \nL 193.169148 105.1304 \nL 193.428401 107.016284 \nL 193.687655 94.432104 \nL 193.946908 120.018982 \nL 194.206162 126.945067 \nL 194.465415 116.975012 \nL 194.724669 124.086737 \nL 194.983922 127.056703 \nL 195.243176 108.890457 \nL 195.50243 128.166163 \nL 195.761683 128.498743 \nL 196.020937 136.766348 \nL 196.28019 130.974394 \nL 196.798697 82.301352 \nL 197.057951 144.420724 \nL 197.317204 111.167376 \nL 197.576458 148.97053 \nL 197.835711 118.502152 \nL 198.094965 107.879644 \nL 198.354218 123.024726 \nL 198.613472 83.821004 \nL 198.872725 100.423818 \nL 199.131979 95.725319 \nL 199.391232 112.809145 \nL 199.650486 121.89762 \nL 199.909739 114.419239 \nL 200.168993 113.408466 \nL 200.428246 88.236185 \nL 200.6875 87.228566 \nL 200.946754 93.120264 \nL 201.206007 131.756785 \nL 201.465261 75.640364 \nL 201.724514 138.472457 \nL 201.983768 90.689199 \nL 202.243021 147.103079 \nL 202.502275 112.0739 \nL 202.761528 124.829763 \nL 203.020782 99.463859 \nL 203.280035 125.928297 \nL 203.539289 119.322407 \nL 203.798542 84.072415 \nL 204.057796 99.711934 \nL 204.317049 142.155537 \nL 204.576303 82.742898 \nL 204.835556 116.088714 \nL 205.09481 129.038865 \nL 205.354063 125.11934 \nL 205.613317 114.749129 \nL 205.87257 138.783692 \nL 206.391078 80.265534 \nL 206.650331 143.176227 \nL 207.168838 65.446401 \nL 207.946599 140.694268 \nL 208.205852 129.355955 \nL 208.465106 96.976991 \nL 208.724359 106.324698 \nL 208.983613 86.499508 \nL 209.242866 140.597084 \nL 209.50212 135.858987 \nL 209.761373 111.502244 \nL 210.020627 107.275677 \nL 210.27988 118.962595 \nL 210.539134 123.623513 \nL 210.798387 94.431166 \nL 211.057641 116.436483 \nL 211.316894 87.812114 \nL 211.576148 133.014686 \nL 211.835402 108.252991 \nL 212.094655 111.622729 \nL 212.353909 136.135594 \nL 212.613162 122.322326 \nL 212.872416 140.957329 \nL 213.131669 116.58949 \nL 213.390923 136.750928 \nL 213.650176 105.546529 \nL 213.90943 110.494031 \nL 214.168683 101.4641 \nL 214.427937 127.507562 \nL 214.68719 127.193787 \nL 214.946444 131.234301 \nL 215.205697 132.148192 \nL 215.464951 137.27946 \nL 215.724204 103.867077 \nL 215.983458 121.875367 \nL 216.242711 124.94799 \nL 216.501965 91.537915 \nL 216.761218 103.330977 \nL 217.020472 128.625023 \nL 217.279725 122.570935 \nL 217.538979 87.571325 \nL 217.798233 93.748862 \nL 218.057486 137.981639 \nL 218.31674 113.707265 \nL 218.835247 125.421474 \nL 219.0945 134.250617 \nL 219.353754 103.675682 \nL 219.613007 103.459938 \nL 219.872261 134.2279 \nL 220.131514 114.381577 \nL 220.390768 121.957948 \nL 220.650021 116.467564 \nL 220.909275 115.105888 \nL 221.168528 89.895621 \nL 221.427782 116.831296 \nL 221.687035 123.104666 \nL 221.946289 99.330101 \nL 222.205542 129.283019 \nL 222.464796 89.424506 \nL 222.724049 121.887088 \nL 222.983303 86.713186 \nL 223.242557 114.489102 \nL 223.50181 114.322438 \nL 223.761064 91.11577 \nL 224.020317 122.573313 \nL 224.279571 119.901763 \nL 224.538824 99.344855 \nL 225.057331 151.896868 \nL 225.316585 82.882239 \nL 225.575838 115.240391 \nL 225.835092 126.493886 \nL 226.094345 102.148431 \nL 226.353599 99.572955 \nL 226.612852 101.628244 \nL 226.872106 73.223026 \nL 227.131359 93.451152 \nL 227.390613 125.908191 \nL 227.649866 76.848317 \nL 227.90912 120.920266 \nL 228.168373 123.662132 \nL 228.427627 97.604924 \nL 228.686881 107.050822 \nL 228.946134 128.733959 \nL 229.205388 127.44033 \nL 229.464641 68.403648 \nL 229.723895 107.300459 \nL 229.983148 100.175592 \nL 230.242402 102.096457 \nL 230.501655 87.867504 \nL 230.760909 106.090208 \nL 231.020162 188.782084 \nL 231.279416 135.373742 \nL 231.538669 111.772894 \nL 231.797923 120.637633 \nL 232.057176 79.024262 \nL 232.31643 107.97585 \nL 232.575683 93.882267 \nL 232.834937 93.949761 \nL 233.09419 99.039143 \nL 233.353444 90.835434 \nL 233.612697 148.943278 \nL 233.871951 109.243497 \nL 234.131205 102.115173 \nL 234.390458 98.358844 \nL 234.908965 125.06004 \nL 235.427472 88.748218 \nL 235.686726 120.309436 \nL 235.945979 123.986096 \nL 236.205233 102.911038 \nL 236.464486 132.897759 \nL 236.72374 96.370142 \nL 236.982993 103.303887 \nL 237.242247 94.754969 \nL 237.5015 112.395153 \nL 237.760754 99.568924 \nL 238.020007 123.702667 \nL 238.279261 135.517124 \nL 238.797768 89.801229 \nL 239.057021 121.325803 \nL 239.316275 63.265457 \nL 239.575528 136.660386 \nL 240.094036 98.993731 \nL 240.353289 108.527914 \nL 240.612543 99.438542 \nL 240.871796 118.443406 \nL 241.13105 124.339539 \nL 241.390303 97.833911 \nL 241.649557 111.153649 \nL 241.90881 115.334482 \nL 242.168064 94.457329 \nL 242.427317 106.137434 \nL 242.686571 101.191001 \nL 242.945824 108.145315 \nL 243.205078 120.638631 \nL 243.464331 109.15237 \nL 243.982838 99.554805 \nL 244.242092 102.914404 \nL 244.760599 121.845778 \nL 245.019852 114.865724 \nL 245.279106 102.655546 \nL 245.53836 99.8609 \nL 245.797613 120.901057 \nL 246.056867 117.3176 \nL 246.31612 117.820523 \nL 246.575374 94.968929 \nL 246.834627 127.095101 \nL 247.353134 93.956553 \nL 247.612388 145.289859 \nL 248.130895 100.106869 \nL 248.390148 129.565209 \nL 248.649402 113.40252 \nL 248.908655 111.894689 \nL 249.167909 144.118691 \nL 249.427162 97.551368 \nL 249.686416 109.886748 \nL 249.945669 139.672136 \nL 250.204923 120.558731 \nL 250.464176 133.010141 \nL 250.72343 100.36871 \nL 250.982684 109.445938 \nL 251.501191 93.368853 \nL 251.760444 116.505589 \nL 252.019698 126.063547 \nL 252.278951 126.67219 \nL 252.538205 130.029915 \nL 252.797458 113.234748 \nL 253.056712 113.573255 \nL 253.315965 93.063302 \nL 253.575219 56.115455 \nL 253.834472 111.380731 \nL 254.093726 110.629693 \nL 254.352979 121.86151 \nL 254.871486 90.62091 \nL 255.13074 120.708513 \nL 255.389993 122.778183 \nL 255.649247 120.000771 \nL 255.9085 133.297601 \nL 256.167754 122.552855 \nL 256.427008 118.772873 \nL 256.945515 132.171241 \nL 257.204768 125.409209 \nL 257.464022 107.905534 \nL 257.982529 135.788107 \nL 258.241782 102.528651 \nL 258.501036 117.123937 \nL 258.760289 115.781883 \nL 259.019543 120.26873 \nL 259.278796 108.365292 \nL 259.53805 125.010032 \nL 259.797303 111.761587 \nL 260.056557 112.331297 \nL 260.31581 109.496107 \nL 260.575064 98.960029 \nL 260.834317 97.822916 \nL 261.093571 89.915516 \nL 261.352824 125.142338 \nL 261.612078 105.372489 \nL 261.871332 140.814531 \nL 262.130585 113.12157 \nL 262.389839 60.756569 \nL 262.908346 95.463346 \nL 263.167599 110.548534 \nL 263.426853 105.675399 \nL 263.686106 126.92349 \nL 263.94536 131.91595 \nL 264.463867 83.769605 \nL 264.72312 103.017555 \nL 264.982374 102.467073 \nL 265.241627 103.769147 \nL 265.500881 128.482729 \nL 265.760134 108.952237 \nL 266.019388 125.504962 \nL 266.278641 81.159471 \nL 266.797148 115.884903 \nL 267.056402 123.972702 \nL 267.315655 97.525951 \nL 267.574909 84.629296 \nL 267.834163 153.78514 \nL 268.093416 114.993778 \nL 268.35267 112.355606 \nL 268.611923 161.935425 \nL 268.871177 123.209903 \nL 269.389684 86.003661 \nL 269.908191 122.072598 \nL 270.167444 105.271152 \nL 270.426698 113.883301 \nL 270.685951 135.651991 \nL 270.945205 111.240453 \nL 271.204458 112.805981 \nL 271.463712 106.673504 \nL 271.982219 134.806631 \nL 272.241472 123.599295 \nL 272.500726 133.151931 \nL 272.759979 99.037873 \nL 273.019233 110.632576 \nL 273.278487 135.48047 \nL 273.53774 118.850838 \nL 274.056247 110.844016 \nL 274.315501 145.350076 \nL 274.574754 124.916214 \nL 274.834008 116.897722 \nL 275.093261 82.099566 \nL 275.352515 102.580221 \nL 275.611768 103.780465 \nL 276.130275 119.973187 \nL 276.389529 133.836503 \nL 276.648782 131.264707 \nL 276.908036 111.73369 \nL 277.167289 121.375186 \nL 277.426543 122.044792 \nL 277.685796 129.684696 \nL 277.94505 71.511041 \nL 278.463557 126.794922 \nL 278.722811 124.463077 \nL 278.982064 135.629738 \nL 279.241318 93.647949 \nL 279.500571 121.319101 \nL 279.759825 126.061551 \nL 280.019078 120.488163 \nL 280.278332 122.640898 \nL 280.537585 122.199533 \nL 280.796839 124.704239 \nL 281.056092 94.093244 \nL 281.315346 135.07584 \nL 281.574599 124.494199 \nL 281.833853 109.315032 \nL 282.093106 117.235261 \nL 282.35236 157.963262 \nL 282.611613 74.816571 \nL 282.870867 110.74003 \nL 283.13012 101.393855 \nL 283.389374 109.203204 \nL 283.648627 88.922208 \nL 283.907881 137.735257 \nL 284.167135 99.874516 \nL 284.426388 140.506662 \nL 284.685642 128.125951 \nL 284.944895 98.908237 \nL 285.204149 109.731957 \nL 285.463402 113.305769 \nL 285.722656 94.994397 \nL 285.981909 147.193682 \nL 286.241163 109.953315 \nL 286.500416 133.754104 \nL 286.75967 134.824762 \nL 287.018923 138.532402 \nL 287.278177 104.186405 \nL 287.53743 97.904428 \nL 287.796684 105.914353 \nL 288.055937 132.936036 \nL 288.315191 109.409576 \nL 288.833698 130.367081 \nL 289.092951 124.325953 \nL 289.352205 125.180646 \nL 289.611458 102.245302 \nL 289.870712 117.748977 \nL 290.129966 84.715404 \nL 290.389219 100.207731 \nL 290.648473 96.438714 \nL 290.907726 139.10689 \nL 291.16698 139.091843 \nL 291.426233 82.084428 \nL 291.685487 117.812127 \nL 291.94474 204.333681 \nL 292.203994 117.914452 \nL 292.463247 131.5177 \nL 292.722501 109.756407 \nL 292.981754 134.759395 \nL 293.241008 98.52061 \nL 293.500261 126.284975 \nL 293.759515 75.167111 \nL 294.278022 119.432411 \nL 294.537275 86.174889 \nL 294.796529 102.033176 \nL 295.055782 91.20351 \nL 295.315036 95.058252 \nL 295.57429 101.561879 \nL 295.833543 98.975066 \nL 296.092797 106.439811 \nL 296.35205 130.009839 \nL 296.611304 128.184545 \nL 296.870557 109.447742 \nL 297.129811 121.144778 \nL 297.389064 118.804176 \nL 297.648318 97.606234 \nL 297.907571 132.056339 \nL 298.166825 82.137137 \nL 298.426078 124.828291 \nL 298.685332 84.800384 \nL 298.944585 120.309476 \nL 299.203839 108.845589 \nL 299.463092 117.716939 \nL 299.722346 100.167267 \nL 299.981599 144.657713 \nL 300.500106 103.210946 \nL 300.75936 141.284871 \nL 301.018614 91.876493 \nL 301.277867 112.665551 \nL 301.537121 143.767606 \nL 301.796374 114.591224 \nL 302.055628 98.089978 \nL 302.314881 94.293337 \nL 302.574135 128.992384 \nL 302.833388 115.345185 \nL 303.092642 148.526746 \nL 303.351895 111.143531 \nL 303.611149 136.144755 \nL 303.870402 141.660234 \nL 304.129656 99.69988 \nL 304.388909 146.027049 \nL 304.648163 99.613228 \nL 304.907416 106.031472 \nL 305.16667 136.001957 \nL 305.425923 127.744601 \nL 305.685177 65.374765 \nL 305.94443 100.293013 \nL 306.203684 119.094519 \nL 306.462938 97.477556 \nL 306.722191 133.973476 \nL 306.981445 126.236015 \nL 307.240698 128.593267 \nL 307.759205 88.394352 \nL 308.018459 112.329816 \nL 308.536966 129.097006 \nL 308.796219 117.804125 \nL 309.055473 128.863957 \nL 309.314726 152.722625 \nL 309.57398 85.022306 \nL 309.833233 160.666861 \nL 310.092487 95.315085 \nL 310.35174 83.961353 \nL 310.870247 150.307394 \nL 311.129501 87.258659 \nL 311.388754 98.505543 \nL 311.648008 98.397182 \nL 311.907261 121.241962 \nL 312.166515 118.475475 \nL 312.425769 133.066196 \nL 312.685022 87.06415 \nL 312.944276 120.648689 \nL 313.203529 105.981565 \nL 313.462783 114.068155 \nL 313.722036 148.310045 \nL 313.98129 141.057386 \nL 314.240543 125.964659 \nL 314.499797 137.378045 \nL 314.75905 140.862292 \nL 315.018304 95.184653 \nL 315.277557 125.648567 \nL 315.536811 120.16309 \nL 315.796064 104.833708 \nL 316.055318 79.727015 \nL 316.314571 115.447509 \nL 316.573825 94.415958 \nL 316.833078 100.120323 \nL 317.092332 83.450993 \nL 317.351585 111.037599 \nL 317.610839 76.774968 \nL 317.870093 118.142078 \nL 318.129346 122.270876 \nL 318.3886 84.84892 \nL 318.647853 102.505179 \nL 318.907107 133.323049 \nL 319.16636 117.163887 \nL 319.425614 113.075795 \nL 319.684867 127.055847 \nL 319.944121 127.638659 \nL 320.203374 115.441502 \nL 320.462628 128.109876 \nL 320.721881 119.795327 \nL 320.981135 98.562404 \nL 322.018149 135.375899 \nL 322.277402 130.104594 \nL 322.536656 103.114437 \nL 323.055163 116.309064 \nL 323.314417 91.961472 \nL 323.57367 97.768413 \nL 323.832924 96.147676 \nL 324.092177 151.836409 \nL 324.351431 103.649478 \nL 324.610684 134.288158 \nL 324.869938 109.404365 \nL 325.129191 104.703588 \nL 325.388445 146.29129 \nL 325.647698 134.264162 \nL 325.906952 111.835349 \nL 326.166205 150.094482 \nL 326.425459 110.0931 \nL 326.684712 123.971029 \nL 327.203219 102.738348 \nL 327.462473 124.681996 \nL 327.721726 116.318054 \nL 327.98098 123.965234 \nL 328.240233 105.257819 \nL 328.499487 150.286219 \nL 328.758741 108.416298 \nL 329.017994 156.043968 \nL 329.277248 151.62398 \nL 329.536501 82.269162 \nL 330.055008 113.996106 \nL 330.314262 108.061737 \nL 330.573515 106.057041 \nL 330.832769 88.067193 \nL 331.092022 119.127293 \nL 331.351276 110.031038 \nL 331.610529 136.453833 \nL 331.869783 115.87943 \nL 332.129036 85.138346 \nL 332.38829 79.21855 \nL 332.647543 129.948705 \nL 332.906797 131.580658 \nL 333.16605 98.917076 \nL 333.425304 103.029044 \nL 333.684557 115.645041 \nL 333.943811 110.738236 \nL 334.462318 130.520048 \nL 334.721572 122.005094 \nL 335.240079 94.171965 \nL 335.499332 86.133569 \nL 335.758586 127.871637 \nL 336.017839 137.973324 \nL 336.277093 116.703596 \nL 336.7956 96.905013 \nL 337.054853 132.370326 \nL 337.57336 115.458393 \nL 337.832614 88.612948 \nL 338.091867 86.675554 \nL 338.351121 125.610461 \nL 338.610374 106.924179 \nL 338.869628 115.069324 \nL 339.388135 122.908545 \nL 339.647388 118.926273 \nL 339.906642 120.761202 \nL 340.165896 95.359157 \nL 340.684403 113.472987 \nL 340.943656 78.710951 \nL 341.20291 106.405998 \nL 341.462163 89.130444 \nL 341.721417 116.665984 \nL 341.98067 115.786257 \nL 342.239924 90.287684 \nL 342.499177 101.815346 \nL 342.758431 149.280425 \nL 343.017684 100.549826 \nL 343.536191 127.439816 \nL 343.795445 110.514459 \nL 344.054698 127.210829 \nL 344.313952 110.835148 \nL 344.573205 117.841354 \nL 344.832459 106.587608 \nL 345.091712 75.508198 \nL 345.350966 143.390258 \nL 345.61022 125.820561 \nL 345.869473 128.216896 \nL 346.128727 102.469018 \nL 346.38798 113.895979 \nL 346.647234 105.015932 \nL 346.906487 121.745631 \nL 347.165741 95.196727 \nL 347.424994 102.743418 \nL 347.684248 125.416939 \nL 347.943501 91.919839 \nL 348.202755 92.433817 \nL 348.462008 110.935748 \nL 348.721262 90.302821 \nL 348.980515 138.510593 \nL 349.239769 123.507613 \nL 349.499022 101.068118 \nL 349.758276 113.691553 \nL 350.276783 107.840611 \nL 350.536036 127.158644 \nL 351.054544 94.409921 \nL 351.313797 120.680374 \nL 351.573051 115.874391 \nL 351.832304 134.630908 \nL 352.091558 113.046366 \nL 352.350811 115.451802 \nL 352.610065 80.326427 \nL 352.869318 213.316314 \nL 352.869318 213.316314 \n\" style=\"fill:none;stroke:#1f77b4;stroke-linecap:square;stroke-width:1.5;\"/>\n   </g>\n   <g id=\"patch_3\">\n    <path d=\"M 33.2875 224.64 \nL 33.2875 7.2 \n\" style=\"fill:none;stroke:#000000;stroke-linecap:square;stroke-linejoin:miter;stroke-width:0.8;\"/>\n   </g>\n   <g id=\"patch_4\">\n    <path d=\"M 368.0875 224.64 \nL 368.0875 7.2 \n\" style=\"fill:none;stroke:#000000;stroke-linecap:square;stroke-linejoin:miter;stroke-width:0.8;\"/>\n   </g>\n   <g id=\"patch_5\">\n    <path d=\"M 33.2875 224.64 \nL 368.0875 224.64 \n\" style=\"fill:none;stroke:#000000;stroke-linecap:square;stroke-linejoin:miter;stroke-width:0.8;\"/>\n   </g>\n   <g id=\"patch_6\">\n    <path d=\"M 33.2875 7.2 \nL 368.0875 7.2 \n\" style=\"fill:none;stroke:#000000;stroke-linecap:square;stroke-linejoin:miter;stroke-width:0.8;\"/>\n   </g>\n   <g id=\"legend_1\">\n    <g id=\"patch_7\">\n     <path d=\"M 309.771875 29.878125 \nL 361.0875 29.878125 \nQ 363.0875 29.878125 363.0875 27.878125 \nL 363.0875 14.2 \nQ 363.0875 12.2 361.0875 12.2 \nL 309.771875 12.2 \nQ 307.771875 12.2 307.771875 14.2 \nL 307.771875 27.878125 \nQ 307.771875 29.878125 309.771875 29.878125 \nz\n\" style=\"fill:#ffffff;opacity:0.8;stroke:#cccccc;stroke-linejoin:miter;\"/>\n    </g>\n    <g id=\"line2d_17\">\n     <path d=\"M 311.771875 20.298437 \nL 331.771875 20.298437 \n\" style=\"fill:none;stroke:#1f77b4;stroke-linecap:square;stroke-width:1.5;\"/>\n    </g>\n    <g id=\"line2d_18\"/>\n    <g id=\"text_16\">\n     <!-- loss -->\n     <defs>\n      <path d=\"M 9.421875 75.984375 \nL 18.40625 75.984375 \nL 18.40625 0 \nL 9.421875 0 \nz\n\" id=\"DejaVuSans-108\"/>\n      <path d=\"M 30.609375 48.390625 \nQ 23.390625 48.390625 19.1875 42.75 \nQ 14.984375 37.109375 14.984375 27.296875 \nQ 14.984375 17.484375 19.15625 11.84375 \nQ 23.34375 6.203125 30.609375 6.203125 \nQ 37.796875 6.203125 41.984375 11.859375 \nQ 46.1875 17.53125 46.1875 27.296875 \nQ 46.1875 37.015625 41.984375 42.703125 \nQ 37.796875 48.390625 30.609375 48.390625 \nz\nM 30.609375 56 \nQ 42.328125 56 49.015625 48.375 \nQ 55.71875 40.765625 55.71875 27.296875 \nQ 55.71875 13.875 49.015625 6.21875 \nQ 42.328125 -1.421875 30.609375 -1.421875 \nQ 18.84375 -1.421875 12.171875 6.21875 \nQ 5.515625 13.875 5.515625 27.296875 \nQ 5.515625 40.765625 12.171875 48.375 \nQ 18.84375 56 30.609375 56 \nz\n\" id=\"DejaVuSans-111\"/>\n      <path d=\"M 44.28125 53.078125 \nL 44.28125 44.578125 \nQ 40.484375 46.53125 36.375 47.5 \nQ 32.28125 48.484375 27.875 48.484375 \nQ 21.1875 48.484375 17.84375 46.4375 \nQ 14.5 44.390625 14.5 40.28125 \nQ 14.5 37.15625 16.890625 35.375 \nQ 19.28125 33.59375 26.515625 31.984375 \nL 29.59375 31.296875 \nQ 39.15625 29.25 43.1875 25.515625 \nQ 47.21875 21.78125 47.21875 15.09375 \nQ 47.21875 7.46875 41.1875 3.015625 \nQ 35.15625 -1.421875 24.609375 -1.421875 \nQ 20.21875 -1.421875 15.453125 -0.5625 \nQ 10.6875 0.296875 5.421875 2 \nL 5.421875 11.28125 \nQ 10.40625 8.6875 15.234375 7.390625 \nQ 20.0625 6.109375 24.8125 6.109375 \nQ 31.15625 6.109375 34.5625 8.28125 \nQ 37.984375 10.453125 37.984375 14.40625 \nQ 37.984375 18.0625 35.515625 20.015625 \nQ 33.0625 21.96875 24.703125 23.78125 \nL 21.578125 24.515625 \nQ 13.234375 26.265625 9.515625 29.90625 \nQ 5.8125 33.546875 5.8125 39.890625 \nQ 5.8125 47.609375 11.28125 51.796875 \nQ 16.75 56 26.8125 56 \nQ 31.78125 56 36.171875 55.265625 \nQ 40.578125 54.546875 44.28125 53.078125 \nz\n\" id=\"DejaVuSans-115\"/>\n     </defs>\n     <g transform=\"translate(339.771875 23.798437)scale(0.1 -0.1)\">\n      <use xlink:href=\"#DejaVuSans-108\"/>\n      <use x=\"27.783203\" xlink:href=\"#DejaVuSans-111\"/>\n      <use x=\"88.964844\" xlink:href=\"#DejaVuSans-115\"/>\n      <use x=\"141.064453\" xlink:href=\"#DejaVuSans-115\"/>\n     </g>\n    </g>\n   </g>\n  </g>\n </g>\n <defs>\n  <clipPath id=\"p85c7028c2b\">\n   <rect height=\"217.44\" width=\"334.8\" x=\"33.2875\" y=\"7.2\"/>\n  </clipPath>\n </defs>\n</svg>\n"
          },
          "metadata": {
            "tags": []
          }
        }
      ]
    },
    {
      "cell_type": "code",
      "metadata": {
        "id": "l0o1WzijoeFU",
        "colab_type": "code",
        "colab": {
          "base_uri": "https://localhost:8080/",
          "height": 166
        },
        "outputId": "4ef691a9-b4db-4622-a5f1-4e041ba796ff"
      },
      "source": [
        "for X, y in test_iter:\n",
        "    break\n",
        "\n",
        "true_labels = d2l.get_fashion_mnist_labels(y.asnumpy())\n",
        "pred_labels = d2l.get_fashion_mnist_labels(net(X).argmax(axis=1).asnumpy())\n",
        "titles = [true + '\\n' + pred for true, pred in zip(true_labels, pred_labels)]\n",
        "\n",
        "d2l.show_fashion_mnist(X[0:9], titles[0:9])"
      ],
      "execution_count": 234,
      "outputs": [
        {
          "output_type": "display_data",
          "data": {
            "text/plain": [
              "<Figure size 864x864 with 9 Axes>"
            ],
            "image/svg+xml": "<?xml version=\"1.0\" encoding=\"utf-8\" standalone=\"no\"?>\n<!DOCTYPE svg PUBLIC \"-//W3C//DTD SVG 1.1//EN\"\n  \"http://www.w3.org/Graphics/SVG/1.1/DTD/svg11.dtd\">\n<!-- Created with matplotlib (https://matplotlib.org/) -->\n<svg height=\"109.625311pt\" version=\"1.1\" viewBox=\"0 0 687.5 109.625311\" width=\"687.5pt\" xmlns=\"http://www.w3.org/2000/svg\" xmlns:xlink=\"http://www.w3.org/1999/xlink\">\n <defs>\n  <style type=\"text/css\">\n*{stroke-linecap:butt;stroke-linejoin:round;}\n  </style>\n </defs>\n <g id=\"figure_1\">\n  <g id=\"patch_1\">\n   <path d=\"M 0 109.625311 \nL 687.5 109.625311 \nL 687.5 0 \nL 0 0 \nz\n\" style=\"fill:none;\"/>\n  </g>\n  <g id=\"axes_1\">\n   <g id=\"patch_2\">\n    <path d=\"M 10.7 98.925311 \nL 73.869811 98.925311 \nL 73.869811 35.7555 \nL 10.7 35.7555 \nz\n\" style=\"fill:#ffffff;\"/>\n   </g>\n   <g clip-path=\"url(#p7a39e9348e)\">\n    <image height=\"64\" id=\"image09b011fce7\" transform=\"scale(1 -1)translate(0 -64)\" width=\"64\" x=\"10.7\" xlink:href=\"data:image/png;base64,\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\" y=\"-34.925311\"/>\n   </g>\n   <g id=\"patch_3\">\n    <path d=\"M 10.7 98.925311 \nL 10.7 35.7555 \n\" style=\"fill:none;stroke:#000000;stroke-linecap:square;stroke-linejoin:miter;stroke-width:0.8;\"/>\n   </g>\n   <g id=\"patch_4\">\n    <path d=\"M 73.869811 98.925311 \nL 73.869811 35.7555 \n\" style=\"fill:none;stroke:#000000;stroke-linecap:square;stroke-linejoin:miter;stroke-width:0.8;\"/>\n   </g>\n   <g id=\"patch_5\">\n    <path d=\"M 10.7 98.925311 \nL 73.869811 98.925311 \n\" style=\"fill:none;stroke:#000000;stroke-linecap:square;stroke-linejoin:miter;stroke-width:0.8;\"/>\n   </g>\n   <g id=\"patch_6\">\n    <path d=\"M 10.7 35.7555 \nL 73.869811 35.7555 \n\" style=\"fill:none;stroke:#000000;stroke-linecap:square;stroke-linejoin:miter;stroke-width:0.8;\"/>\n   </g>\n   <g id=\"text_1\">\n    <!-- t-shirt -->\n    <defs>\n     <path d=\"M 18.3125 70.21875 \nL 18.3125 54.6875 \nL 36.8125 54.6875 \nL 36.8125 47.703125 \nL 18.3125 47.703125 \nL 18.3125 18.015625 \nQ 18.3125 11.328125 20.140625 9.421875 \nQ 21.96875 7.515625 27.59375 7.515625 \nL 36.8125 7.515625 \nL 36.8125 0 \nL 27.59375 0 \nQ 17.1875 0 13.234375 3.875 \nQ 9.28125 7.765625 9.28125 18.015625 \nL 9.28125 47.703125 \nL 2.6875 47.703125 \nL 2.6875 54.6875 \nL 9.28125 54.6875 \nL 9.28125 70.21875 \nz\n\" id=\"DejaVuSans-116\"/>\n     <path d=\"M 4.890625 31.390625 \nL 31.203125 31.390625 \nL 31.203125 23.390625 \nL 4.890625 23.390625 \nz\n\" id=\"DejaVuSans-45\"/>\n     <path d=\"M 44.28125 53.078125 \nL 44.28125 44.578125 \nQ 40.484375 46.53125 36.375 47.5 \nQ 32.28125 48.484375 27.875 48.484375 \nQ 21.1875 48.484375 17.84375 46.4375 \nQ 14.5 44.390625 14.5 40.28125 \nQ 14.5 37.15625 16.890625 35.375 \nQ 19.28125 33.59375 26.515625 31.984375 \nL 29.59375 31.296875 \nQ 39.15625 29.25 43.1875 25.515625 \nQ 47.21875 21.78125 47.21875 15.09375 \nQ 47.21875 7.46875 41.1875 3.015625 \nQ 35.15625 -1.421875 24.609375 -1.421875 \nQ 20.21875 -1.421875 15.453125 -0.5625 \nQ 10.6875 0.296875 5.421875 2 \nL 5.421875 11.28125 \nQ 10.40625 8.6875 15.234375 7.390625 \nQ 20.0625 6.109375 24.8125 6.109375 \nQ 31.15625 6.109375 34.5625 8.28125 \nQ 37.984375 10.453125 37.984375 14.40625 \nQ 37.984375 18.0625 35.515625 20.015625 \nQ 33.0625 21.96875 24.703125 23.78125 \nL 21.578125 24.515625 \nQ 13.234375 26.265625 9.515625 29.90625 \nQ 5.8125 33.546875 5.8125 39.890625 \nQ 5.8125 47.609375 11.28125 51.796875 \nQ 16.75 56 26.8125 56 \nQ 31.78125 56 36.171875 55.265625 \nQ 40.578125 54.546875 44.28125 53.078125 \nz\n\" id=\"DejaVuSans-115\"/>\n     <path d=\"M 54.890625 33.015625 \nL 54.890625 0 \nL 45.90625 0 \nL 45.90625 32.71875 \nQ 45.90625 40.484375 42.875 44.328125 \nQ 39.84375 48.1875 33.796875 48.1875 \nQ 26.515625 48.1875 22.3125 43.546875 \nQ 18.109375 38.921875 18.109375 30.90625 \nL 18.109375 0 \nL 9.078125 0 \nL 9.078125 75.984375 \nL 18.109375 75.984375 \nL 18.109375 46.1875 \nQ 21.34375 51.125 25.703125 53.5625 \nQ 30.078125 56 35.796875 56 \nQ 45.21875 56 50.046875 50.171875 \nQ 54.890625 44.34375 54.890625 33.015625 \nz\n\" id=\"DejaVuSans-104\"/>\n     <path d=\"M 9.421875 54.6875 \nL 18.40625 54.6875 \nL 18.40625 0 \nL 9.421875 0 \nz\nM 9.421875 75.984375 \nL 18.40625 75.984375 \nL 18.40625 64.59375 \nL 9.421875 64.59375 \nz\n\" id=\"DejaVuSans-105\"/>\n     <path d=\"M 41.109375 46.296875 \nQ 39.59375 47.171875 37.8125 47.578125 \nQ 36.03125 48 33.890625 48 \nQ 26.265625 48 22.1875 43.046875 \nQ 18.109375 38.09375 18.109375 28.8125 \nL 18.109375 0 \nL 9.078125 0 \nL 9.078125 54.6875 \nL 18.109375 54.6875 \nL 18.109375 46.1875 \nQ 20.953125 51.171875 25.484375 53.578125 \nQ 30.03125 56 36.53125 56 \nQ 37.453125 56 38.578125 55.875 \nQ 39.703125 55.765625 41.0625 55.515625 \nz\n\" id=\"DejaVuSans-114\"/>\n    </defs>\n    <g transform=\"translate(24.354281 16.318125)scale(0.12 -0.12)\">\n     <use xlink:href=\"#DejaVuSans-116\"/>\n     <use x=\"39.208984\" xlink:href=\"#DejaVuSans-45\"/>\n     <use x=\"75.292969\" xlink:href=\"#DejaVuSans-115\"/>\n     <use x=\"127.392578\" xlink:href=\"#DejaVuSans-104\"/>\n     <use x=\"190.771484\" xlink:href=\"#DejaVuSans-105\"/>\n     <use x=\"218.554688\" xlink:href=\"#DejaVuSans-114\"/>\n     <use x=\"259.667969\" xlink:href=\"#DejaVuSans-116\"/>\n    </g>\n    <!-- t-shirt -->\n    <g transform=\"translate(24.354281 29.7555)scale(0.12 -0.12)\">\n     <use xlink:href=\"#DejaVuSans-116\"/>\n     <use x=\"39.208984\" xlink:href=\"#DejaVuSans-45\"/>\n     <use x=\"75.292969\" xlink:href=\"#DejaVuSans-115\"/>\n     <use x=\"127.392578\" xlink:href=\"#DejaVuSans-104\"/>\n     <use x=\"190.771484\" xlink:href=\"#DejaVuSans-105\"/>\n     <use x=\"218.554688\" xlink:href=\"#DejaVuSans-114\"/>\n     <use x=\"259.667969\" xlink:href=\"#DejaVuSans-116\"/>\n    </g>\n   </g>\n  </g>\n  <g id=\"axes_2\">\n   <g id=\"patch_7\">\n    <path d=\"M 86.503774 98.925311 \nL 149.673585 98.925311 \nL 149.673585 35.7555 \nL 86.503774 35.7555 \nz\n\" style=\"fill:#ffffff;\"/>\n   </g>\n   <g clip-path=\"url(#p882513138f)\">\n    <image height=\"64\" id=\"image9410158643\" transform=\"scale(1 -1)translate(0 -64)\" width=\"64\" x=\"86.503774\" xlink:href=\"data:image/png;base64,\niVBORw0KGgoAAAANSUhEUgAAAEAAAABACAYAAACqaXHeAAAABHNCSVQICAgIfAhkiAAABYZJREFUeJztm02IHFUQx389PbMzs1/Z7OxOErNrdqO72ahEIUJUgkj8yCHBSBAjiAFRyMWzZw+eAkLwgxy8eRAEo5CDENFEQxC/FnTXRBPMt/vlbHZnd76np6c9VM97megp9AuE7rpMd9fr6uK9/6uqV1VjPWO96GGYKidGATg89pl6dvCn1wAYfXkKgPL+HYp35N33AZisjgDwxYEnAWhO/Rm4brHAJd5lFL8THzk0chqAoXhFPXtl6y8AfE8HAKWsXovN8QYAqfRFAD7avg+A/qngdQs9AkI/AXdkC2TsIgCzblI9m169x79aBKCZsBSv5DUBSFjyrDqgeUFThACTwu0t9wPQGftV7tEed67UC0C3j4BESfMc/3Le7QKg+EDNmI4RAkwKn92dBaADFwAXvZdnr2cAGOeS8JL8h5qerE886RrTMUKASeGrY7JydWwAnGaH4lnV9rmvZDU6mv5v1UsA4NZtYzqGHgGhnwCjWyAzugxoY+Z6er7Tc+2w7prRbrDkiVoto2nZTUxRhACTwg+O/gjAFWcAgD67rHiJYvvYzpx2dU1PVj7vB0LD65aN6RghwKTwfT1nAfg4/6g80F6QdK59X9tVfV/y3V+u0QNAb7IKgImAOPQICP0EGNkC9thmAObdnwFIWGLglhrdaszak/4ZwL9PFBuK14oAf8iLnAsLgwBsYj5wXSMEmBBa2iJu75OlxwHIJgoAPJy+psacWOhtV+TcVXV93ZGT4kJZjKBTN2erIwSYELqyWcTOVtYAGgEf/L3rplFzbe+4yzrYybudIqeSAsBb6sAURQgwIbS4SYKa1bqsYCrmAHD2wpAaM34LAhpPb1fX6+Ofy/sFQUKsZm6dQo+A0E+AkS3g9klQc6Msp7mlhvxuHZvRY255Z2VEG7pW4ORW/JxBt9zHUik1plmtBqJrhAATQmOrvth18mNbYhRzJR0K99/6jo6ElRtsUaJPzoHW0Ab98K/LwegaiJS7mMzEmH6Guz8tGaDZah8Ab08cV0PeY6LtlfoanRZvHYasuOQJM32SPrKcBkFT6BEQ+gkwsgUsR+C8ba24vem89AI8N1RSY47sfASA2BmpHFeyOi1u+7WheEoiyOGePADFrkzgukYIMCLU74Ua8HPfTlMCmg/z96kxV9+UVR49I/duSiOglT5PJsXoZZMiZzlzrxoT1MpFCDAh1K6IDWiFtDFLVnfR6VFjDm+XE99RpIvEzTiK1xmTwCceE5TMV/3MUK9W93/aCW6LIgSYENohCSDm6pIRWqnKIabiJtSYF7pkXx/17/sHCor3fJfYgLdqMv5GVQ5T9W5dUI0QEBCFfgKMbIHBSQl4zuyRwsbiol/jG9JneMcTA5l/VVLnvalZxat5YhD9PkmuXJXCyJATfGN7hAATQu3fpewVs2TlvLJ8pnhTL9xXFTFsg69fAWD34DnF+6Mu7q9WkiyRnZf3GzohFBhFCDAhtFkQl/ZEVlzdN3VxZ62ACOB0QfIBL62XAurN3SNfFrYB4DX8gGpV1qkwrL/RXli7fQo9AkI/AUZbZLptiemfHT4PwGJNJ0UH/BPeQkOixTlnreKtict22PWQ/Enqu/QYADUDNcIIASaF5+oSAO3svQDApDeieBs6JMuTsiToKTe1i2xlhCa6pX54YIe0271zcW/gOkYIMCn822NS8d37huT9JtK6ItwqlrTO/qdz44r3VL/YjH/q4uwuxeR/B0undGFkI1FhJBAyioBNn0pWePCQBEbTVd0fsL/nNwAmaxsBuLyqi2V7BgQVjifn/8fSElofP6a7xIL6D0noERD6CTC6BRqXpfXt6+KDAEwXNireqdwWAM7PSAl5sF+nxE4ubwVgpixB0lSXvNe8pvsLgqLQI+Bf9+yPmrpizKgAAAAASUVORK5CYII=\" y=\"-34.925311\"/>\n   </g>\n   <g id=\"patch_8\">\n    <path d=\"M 86.503774 98.925311 \nL 86.503774 35.7555 \n\" style=\"fill:none;stroke:#000000;stroke-linecap:square;stroke-linejoin:miter;stroke-width:0.8;\"/>\n   </g>\n   <g id=\"patch_9\">\n    <path d=\"M 149.673585 98.925311 \nL 149.673585 35.7555 \n\" style=\"fill:none;stroke:#000000;stroke-linecap:square;stroke-linejoin:miter;stroke-width:0.8;\"/>\n   </g>\n   <g id=\"patch_10\">\n    <path d=\"M 86.503774 98.925311 \nL 149.673585 98.925311 \n\" style=\"fill:none;stroke:#000000;stroke-linecap:square;stroke-linejoin:miter;stroke-width:0.8;\"/>\n   </g>\n   <g id=\"patch_11\">\n    <path d=\"M 86.503774 35.7555 \nL 149.673585 35.7555 \n\" style=\"fill:none;stroke:#000000;stroke-linecap:square;stroke-linejoin:miter;stroke-width:0.8;\"/>\n   </g>\n   <g id=\"text_2\">\n    <!-- trouser -->\n    <defs>\n     <path d=\"M 30.609375 48.390625 \nQ 23.390625 48.390625 19.1875 42.75 \nQ 14.984375 37.109375 14.984375 27.296875 \nQ 14.984375 17.484375 19.15625 11.84375 \nQ 23.34375 6.203125 30.609375 6.203125 \nQ 37.796875 6.203125 41.984375 11.859375 \nQ 46.1875 17.53125 46.1875 27.296875 \nQ 46.1875 37.015625 41.984375 42.703125 \nQ 37.796875 48.390625 30.609375 48.390625 \nz\nM 30.609375 56 \nQ 42.328125 56 49.015625 48.375 \nQ 55.71875 40.765625 55.71875 27.296875 \nQ 55.71875 13.875 49.015625 6.21875 \nQ 42.328125 -1.421875 30.609375 -1.421875 \nQ 18.84375 -1.421875 12.171875 6.21875 \nQ 5.515625 13.875 5.515625 27.296875 \nQ 5.515625 40.765625 12.171875 48.375 \nQ 18.84375 56 30.609375 56 \nz\n\" id=\"DejaVuSans-111\"/>\n     <path d=\"M 8.5 21.578125 \nL 8.5 54.6875 \nL 17.484375 54.6875 \nL 17.484375 21.921875 \nQ 17.484375 14.15625 20.5 10.265625 \nQ 23.53125 6.390625 29.59375 6.390625 \nQ 36.859375 6.390625 41.078125 11.03125 \nQ 45.3125 15.671875 45.3125 23.6875 \nL 45.3125 54.6875 \nL 54.296875 54.6875 \nL 54.296875 0 \nL 45.3125 0 \nL 45.3125 8.40625 \nQ 42.046875 3.421875 37.71875 1 \nQ 33.40625 -1.421875 27.6875 -1.421875 \nQ 18.265625 -1.421875 13.375 4.4375 \nQ 8.5 10.296875 8.5 21.578125 \nz\nM 31.109375 56 \nz\n\" id=\"DejaVuSans-117\"/>\n     <path d=\"M 56.203125 29.59375 \nL 56.203125 25.203125 \nL 14.890625 25.203125 \nQ 15.484375 15.921875 20.484375 11.0625 \nQ 25.484375 6.203125 34.421875 6.203125 \nQ 39.59375 6.203125 44.453125 7.46875 \nQ 49.3125 8.734375 54.109375 11.28125 \nL 54.109375 2.78125 \nQ 49.265625 0.734375 44.1875 -0.34375 \nQ 39.109375 -1.421875 33.890625 -1.421875 \nQ 20.796875 -1.421875 13.15625 6.1875 \nQ 5.515625 13.8125 5.515625 26.8125 \nQ 5.515625 40.234375 12.765625 48.109375 \nQ 20.015625 56 32.328125 56 \nQ 43.359375 56 49.78125 48.890625 \nQ 56.203125 41.796875 56.203125 29.59375 \nz\nM 47.21875 32.234375 \nQ 47.125 39.59375 43.09375 43.984375 \nQ 39.0625 48.390625 32.421875 48.390625 \nQ 24.90625 48.390625 20.390625 44.140625 \nQ 15.875 39.890625 15.1875 32.171875 \nz\n\" id=\"DejaVuSans-101\"/>\n    </defs>\n    <g transform=\"translate(96.513992 16.318125)scale(0.12 -0.12)\">\n     <use xlink:href=\"#DejaVuSans-116\"/>\n     <use x=\"39.208984\" xlink:href=\"#DejaVuSans-114\"/>\n     <use x=\"80.291016\" xlink:href=\"#DejaVuSans-111\"/>\n     <use x=\"141.472656\" xlink:href=\"#DejaVuSans-117\"/>\n     <use x=\"204.851562\" xlink:href=\"#DejaVuSans-115\"/>\n     <use x=\"256.951172\" xlink:href=\"#DejaVuSans-101\"/>\n     <use x=\"318.474609\" xlink:href=\"#DejaVuSans-114\"/>\n    </g>\n    <!-- trouser -->\n    <g transform=\"translate(96.513992 29.7555)scale(0.12 -0.12)\">\n     <use xlink:href=\"#DejaVuSans-116\"/>\n     <use x=\"39.208984\" xlink:href=\"#DejaVuSans-114\"/>\n     <use x=\"80.291016\" xlink:href=\"#DejaVuSans-111\"/>\n     <use x=\"141.472656\" xlink:href=\"#DejaVuSans-117\"/>\n     <use x=\"204.851562\" xlink:href=\"#DejaVuSans-115\"/>\n     <use x=\"256.951172\" xlink:href=\"#DejaVuSans-101\"/>\n     <use x=\"318.474609\" xlink:href=\"#DejaVuSans-114\"/>\n    </g>\n   </g>\n  </g>\n  <g id=\"axes_3\">\n   <g id=\"patch_12\">\n    <path d=\"M 162.307547 98.925311 \nL 225.477358 98.925311 \nL 225.477358 35.7555 \nL 162.307547 35.7555 \nz\n\" style=\"fill:#ffffff;\"/>\n   </g>\n   <g clip-path=\"url(#p4e0dc54c19)\">\n    <image height=\"64\" id=\"imagea30c75d4db\" transform=\"scale(1 -1)translate(0 -64)\" width=\"64\" x=\"162.307547\" xlink:href=\"data:image/png;base64,\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\" y=\"-34.925311\"/>\n   </g>\n   <g id=\"patch_13\">\n    <path d=\"M 162.307547 98.925311 \nL 162.307547 35.7555 \n\" style=\"fill:none;stroke:#000000;stroke-linecap:square;stroke-linejoin:miter;stroke-width:0.8;\"/>\n   </g>\n   <g id=\"patch_14\">\n    <path d=\"M 225.477358 98.925311 \nL 225.477358 35.7555 \n\" style=\"fill:none;stroke:#000000;stroke-linecap:square;stroke-linejoin:miter;stroke-width:0.8;\"/>\n   </g>\n   <g id=\"patch_15\">\n    <path d=\"M 162.307547 98.925311 \nL 225.477358 98.925311 \n\" style=\"fill:none;stroke:#000000;stroke-linecap:square;stroke-linejoin:miter;stroke-width:0.8;\"/>\n   </g>\n   <g id=\"patch_16\">\n    <path d=\"M 162.307547 35.7555 \nL 225.477358 35.7555 \n\" style=\"fill:none;stroke:#000000;stroke-linecap:square;stroke-linejoin:miter;stroke-width:0.8;\"/>\n   </g>\n   <g id=\"text_3\">\n    <!-- pullover -->\n    <defs>\n     <path d=\"M 18.109375 8.203125 \nL 18.109375 -20.796875 \nL 9.078125 -20.796875 \nL 9.078125 54.6875 \nL 18.109375 54.6875 \nL 18.109375 46.390625 \nQ 20.953125 51.265625 25.265625 53.625 \nQ 29.59375 56 35.59375 56 \nQ 45.5625 56 51.78125 48.09375 \nQ 58.015625 40.1875 58.015625 27.296875 \nQ 58.015625 14.40625 51.78125 6.484375 \nQ 45.5625 -1.421875 35.59375 -1.421875 \nQ 29.59375 -1.421875 25.265625 0.953125 \nQ 20.953125 3.328125 18.109375 8.203125 \nz\nM 48.6875 27.296875 \nQ 48.6875 37.203125 44.609375 42.84375 \nQ 40.53125 48.484375 33.40625 48.484375 \nQ 26.265625 48.484375 22.1875 42.84375 \nQ 18.109375 37.203125 18.109375 27.296875 \nQ 18.109375 17.390625 22.1875 11.75 \nQ 26.265625 6.109375 33.40625 6.109375 \nQ 40.53125 6.109375 44.609375 11.75 \nQ 48.6875 17.390625 48.6875 27.296875 \nz\n\" id=\"DejaVuSans-112\"/>\n     <path d=\"M 9.421875 75.984375 \nL 18.40625 75.984375 \nL 18.40625 0 \nL 9.421875 0 \nz\n\" id=\"DejaVuSans-108\"/>\n     <path d=\"M 2.984375 54.6875 \nL 12.5 54.6875 \nL 29.59375 8.796875 \nL 46.6875 54.6875 \nL 56.203125 54.6875 \nL 35.6875 0 \nL 23.484375 0 \nz\n\" id=\"DejaVuSans-118\"/>\n    </defs>\n    <g transform=\"translate(169.566203 16.318125)scale(0.12 -0.12)\">\n     <use xlink:href=\"#DejaVuSans-112\"/>\n     <use x=\"63.476562\" xlink:href=\"#DejaVuSans-117\"/>\n     <use x=\"126.855469\" xlink:href=\"#DejaVuSans-108\"/>\n     <use x=\"154.638672\" xlink:href=\"#DejaVuSans-108\"/>\n     <use x=\"182.421875\" xlink:href=\"#DejaVuSans-111\"/>\n     <use x=\"243.603516\" xlink:href=\"#DejaVuSans-118\"/>\n     <use x=\"302.783203\" xlink:href=\"#DejaVuSans-101\"/>\n     <use x=\"364.306641\" xlink:href=\"#DejaVuSans-114\"/>\n    </g>\n    <!-- pullover -->\n    <g transform=\"translate(169.566203 29.7555)scale(0.12 -0.12)\">\n     <use xlink:href=\"#DejaVuSans-112\"/>\n     <use x=\"63.476562\" xlink:href=\"#DejaVuSans-117\"/>\n     <use x=\"126.855469\" xlink:href=\"#DejaVuSans-108\"/>\n     <use x=\"154.638672\" xlink:href=\"#DejaVuSans-108\"/>\n     <use x=\"182.421875\" xlink:href=\"#DejaVuSans-111\"/>\n     <use x=\"243.603516\" xlink:href=\"#DejaVuSans-118\"/>\n     <use x=\"302.783203\" xlink:href=\"#DejaVuSans-101\"/>\n     <use x=\"364.306641\" xlink:href=\"#DejaVuSans-114\"/>\n    </g>\n   </g>\n  </g>\n  <g id=\"axes_4\">\n   <g id=\"patch_17\">\n    <path d=\"M 238.111321 98.925311 \nL 301.281132 98.925311 \nL 301.281132 35.7555 \nL 238.111321 35.7555 \nz\n\" style=\"fill:#ffffff;\"/>\n   </g>\n   <g clip-path=\"url(#p7de600f75f)\">\n    <image height=\"64\" id=\"image87de0f37c0\" transform=\"scale(1 -1)translate(0 -64)\" width=\"64\" x=\"238.111321\" xlink:href=\"data:image/png;base64,\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\" y=\"-34.925311\"/>\n   </g>\n   <g id=\"patch_18\">\n    <path d=\"M 238.111321 98.925311 \nL 238.111321 35.7555 \n\" style=\"fill:none;stroke:#000000;stroke-linecap:square;stroke-linejoin:miter;stroke-width:0.8;\"/>\n   </g>\n   <g id=\"patch_19\">\n    <path d=\"M 301.281132 98.925311 \nL 301.281132 35.7555 \n\" style=\"fill:none;stroke:#000000;stroke-linecap:square;stroke-linejoin:miter;stroke-width:0.8;\"/>\n   </g>\n   <g id=\"patch_20\">\n    <path d=\"M 238.111321 98.925311 \nL 301.281132 98.925311 \n\" style=\"fill:none;stroke:#000000;stroke-linecap:square;stroke-linejoin:miter;stroke-width:0.8;\"/>\n   </g>\n   <g id=\"patch_21\">\n    <path d=\"M 238.111321 35.7555 \nL 301.281132 35.7555 \n\" style=\"fill:none;stroke:#000000;stroke-linecap:square;stroke-linejoin:miter;stroke-width:0.8;\"/>\n   </g>\n   <g id=\"text_4\">\n    <!-- pullover -->\n    <g transform=\"translate(245.369976 16.318125)scale(0.12 -0.12)\">\n     <use xlink:href=\"#DejaVuSans-112\"/>\n     <use x=\"63.476562\" xlink:href=\"#DejaVuSans-117\"/>\n     <use x=\"126.855469\" xlink:href=\"#DejaVuSans-108\"/>\n     <use x=\"154.638672\" xlink:href=\"#DejaVuSans-108\"/>\n     <use x=\"182.421875\" xlink:href=\"#DejaVuSans-111\"/>\n     <use x=\"243.603516\" xlink:href=\"#DejaVuSans-118\"/>\n     <use x=\"302.783203\" xlink:href=\"#DejaVuSans-101\"/>\n     <use x=\"364.306641\" xlink:href=\"#DejaVuSans-114\"/>\n    </g>\n    <!-- t-shirt -->\n    <g transform=\"translate(251.765601 29.7555)scale(0.12 -0.12)\">\n     <use xlink:href=\"#DejaVuSans-116\"/>\n     <use x=\"39.208984\" xlink:href=\"#DejaVuSans-45\"/>\n     <use x=\"75.292969\" xlink:href=\"#DejaVuSans-115\"/>\n     <use x=\"127.392578\" xlink:href=\"#DejaVuSans-104\"/>\n     <use x=\"190.771484\" xlink:href=\"#DejaVuSans-105\"/>\n     <use x=\"218.554688\" xlink:href=\"#DejaVuSans-114\"/>\n     <use x=\"259.667969\" xlink:href=\"#DejaVuSans-116\"/>\n    </g>\n   </g>\n  </g>\n  <g id=\"axes_5\">\n   <g id=\"patch_22\">\n    <path d=\"M 313.915094 98.925311 \nL 377.084906 98.925311 \nL 377.084906 35.7555 \nL 313.915094 35.7555 \nz\n\" style=\"fill:#ffffff;\"/>\n   </g>\n   <g clip-path=\"url(#pfd763bed70)\">\n    <image height=\"64\" id=\"imagee3b1d3ed7e\" transform=\"scale(1 -1)translate(0 -64)\" width=\"64\" x=\"313.915094\" xlink:href=\"data:image/png;base64,\niVBORw0KGgoAAAANSUhEUgAAAEAAAABACAYAAACqaXHeAAAABHNCSVQICAgIfAhkiAAABV9JREFUeJztm0tMHVUYx38zl3sv5S0gL3tLaNFWK40m0tTCTl3YhIWxbXShq8adiy5I6sJg4kITFz5ifHSnCxcmGhMjvppoTYNog0oNC8W2IhRoFKE8Lpd778y4OHPOzHDvJZWZizEz34bh+7755uSc//le51ztQe24xU6RpjnPlv1ZPQbA6vFeJap5f9QjwzTKNiS9bJb/J1Sxo1+zSoPN0kqKykqhR0DoJ2Bnt0Axsh3cepOzFg3dXQAYv10VjDI6wwgB//UAJJkJ1z+a1yNqMYEAK0JA8FRWBGjJJADWxkbpAXR1AhDbcELk8qFbAai9Ng+AmU7bBoskUj4pQkA5jW+18ooyQmfpiKMb+1ogp1quvCTNtV5WMP4g9AgI/QT43wJbJClzH90JQG/bNAADTT8p2ZJRBcBEWji2wfovlCzbJ2w+Ez8FQPPZb30PsxSFHgFaOfsBR8ezAJxpHgfgSi6nZNW66dGdze9Sz3cnhN6pqWMALPb9Xa4hRgjw7QO2SnYaK9YAsIFA2qxRsmxe7POMFff8BajX58T7CREGF4t9OKACKfQICP0E+N4CxaCvxUVp9/QtUwB8kxHw1jXH8bXo6wAsmcL5ZQxnC2xYAt4nG78H4AUOFX44oMowQoBfA7ODRwHoeGlE8WK72z06GVOsbp2eUbw12+lV6QJBLW59Swxrf3zZa2fgsHqu/NO2NXrJx+gjBPhHwM+n3wCga99TinfgrVWPjllknnP2Ki8YIjRO55qU7GDyGgCNMW+ydP7ts843LjwBQOfJbQ8diBDgHwFjG9kCnrWppycLH7nfwYkITTGBlmqXrFITqXDadFLnzZSdq97miL0UegSEfgJ8b4G4DeVk47ri6WlvcmTY82xauuu9PADz+QYAVsxKJetJzgAwbZRen6rZYNYuQoBfAyk7VN3VNq9461MrRXXdqbAMg5IMFzoadOFYL2ZS9ouxAluxm+i33gxFCPBr4IdsLQBnUsOK92ym16MjQ51MiQESmihmau2iKGc5q9xsH4WNrHSLQbY6SZKigO4ThB4BoZ8A31tA5vIP7Cqsz99dbgbgWLXoC5xL71YymRXKMDiXbVCyx2pFE2z4q/sAaO331gQAZkBnWhEC/Bq4npMrd6NA9urLJwB4cuhNANbMpJI12o5xT3yhpO19g+JA5OqL9wNgWIVI8EsRAvwa+CXdJh7s/p+bWi94DzQM13zLHoGsFLeiiu7CxCq+Gt0PCIR8I+CTSz0AvH7bdw7zsOCx6s1X3cmOjAJ/2J2gSs3pK2ze630pcVts0XQKrpZR0S/0i4PQIyD0E+B7C1RP2vfbHnZ4l0+I5Kjz04RHN645yZKs/9sqlgCnNihGQ+2fAzCScZrn1o8T2x+0iyIE+DVQ93thcmLUiW7PXz1JDz9hd4HcFLN7BDKlBvg1J1Jhs/8eAGbyY4C3cRoUhR4Bvm+IxG7fC8Dw+Q8V74PVOo+O3Ofuww8ZBmVnyB0iN7fMO2IiERqaGVA6N/pLp9D/hkKPgNBPgG8naExeKeBJZyVPeCT03bVA2q4MJdzdIVK2zCc3RJ3RUSW2wMWJvUrnDqItEAgFdld4Lu+cCBuIJEeGNrm6Ok7IbNDFBagcwvnFcRCQtpKe99Q743GCpggBQRl6bv4h9fx8+zkAPlsTvwU4kBTX3lKu04wlU8x9rX1hMuE6UZ7Ni2FJXyDvDLW/56S/Qf12JEJAUIZmHnWSnNc+PgLAI/VjHp1XFvrV85fT+wFoqRG+o7/5spK1x0XilLL7hY+/cxqAPUvOPaSgKPQICP0ElPW2uHbvQWD7tXtFWysA+fnrgY1pM4UeAf8AnhWSYGBynd4AAAAASUVORK5CYII=\" y=\"-34.925311\"/>\n   </g>\n   <g id=\"patch_23\">\n    <path d=\"M 313.915094 98.925311 \nL 313.915094 35.7555 \n\" style=\"fill:none;stroke:#000000;stroke-linecap:square;stroke-linejoin:miter;stroke-width:0.8;\"/>\n   </g>\n   <g id=\"patch_24\">\n    <path d=\"M 377.084906 98.925311 \nL 377.084906 35.7555 \n\" style=\"fill:none;stroke:#000000;stroke-linecap:square;stroke-linejoin:miter;stroke-width:0.8;\"/>\n   </g>\n   <g id=\"patch_25\">\n    <path d=\"M 313.915094 98.925311 \nL 377.084906 98.925311 \n\" style=\"fill:none;stroke:#000000;stroke-linecap:square;stroke-linejoin:miter;stroke-width:0.8;\"/>\n   </g>\n   <g id=\"patch_26\">\n    <path d=\"M 313.915094 35.7555 \nL 377.084906 35.7555 \n\" style=\"fill:none;stroke:#000000;stroke-linecap:square;stroke-linejoin:miter;stroke-width:0.8;\"/>\n   </g>\n   <g id=\"text_5\">\n    <!-- dress -->\n    <defs>\n     <path d=\"M 45.40625 46.390625 \nL 45.40625 75.984375 \nL 54.390625 75.984375 \nL 54.390625 0 \nL 45.40625 0 \nL 45.40625 8.203125 \nQ 42.578125 3.328125 38.25 0.953125 \nQ 33.9375 -1.421875 27.875 -1.421875 \nQ 17.96875 -1.421875 11.734375 6.484375 \nQ 5.515625 14.40625 5.515625 27.296875 \nQ 5.515625 40.1875 11.734375 48.09375 \nQ 17.96875 56 27.875 56 \nQ 33.9375 56 38.25 53.625 \nQ 42.578125 51.265625 45.40625 46.390625 \nz\nM 14.796875 27.296875 \nQ 14.796875 17.390625 18.875 11.75 \nQ 22.953125 6.109375 30.078125 6.109375 \nQ 37.203125 6.109375 41.296875 11.75 \nQ 45.40625 17.390625 45.40625 27.296875 \nQ 45.40625 37.203125 41.296875 42.84375 \nQ 37.203125 48.484375 30.078125 48.484375 \nQ 22.953125 48.484375 18.875 42.84375 \nQ 14.796875 37.203125 14.796875 27.296875 \nz\n\" id=\"DejaVuSans-100\"/>\n    </defs>\n    <g transform=\"translate(329.283125 16.318125)scale(0.12 -0.12)\">\n     <use xlink:href=\"#DejaVuSans-100\"/>\n     <use x=\"63.476562\" xlink:href=\"#DejaVuSans-114\"/>\n     <use x=\"104.558594\" xlink:href=\"#DejaVuSans-101\"/>\n     <use x=\"166.082031\" xlink:href=\"#DejaVuSans-115\"/>\n     <use x=\"218.181641\" xlink:href=\"#DejaVuSans-115\"/>\n    </g>\n    <!-- coat -->\n    <defs>\n     <path d=\"M 48.78125 52.59375 \nL 48.78125 44.1875 \nQ 44.96875 46.296875 41.140625 47.34375 \nQ 37.3125 48.390625 33.40625 48.390625 \nQ 24.65625 48.390625 19.8125 42.84375 \nQ 14.984375 37.3125 14.984375 27.296875 \nQ 14.984375 17.28125 19.8125 11.734375 \nQ 24.65625 6.203125 33.40625 6.203125 \nQ 37.3125 6.203125 41.140625 7.25 \nQ 44.96875 8.296875 48.78125 10.40625 \nL 48.78125 2.09375 \nQ 45.015625 0.34375 40.984375 -0.53125 \nQ 36.96875 -1.421875 32.421875 -1.421875 \nQ 20.0625 -1.421875 12.78125 6.34375 \nQ 5.515625 14.109375 5.515625 27.296875 \nQ 5.515625 40.671875 12.859375 48.328125 \nQ 20.21875 56 33.015625 56 \nQ 37.15625 56 41.109375 55.140625 \nQ 45.0625 54.296875 48.78125 52.59375 \nz\n\" id=\"DejaVuSans-99\"/>\n     <path d=\"M 34.28125 27.484375 \nQ 23.390625 27.484375 19.1875 25 \nQ 14.984375 22.515625 14.984375 16.5 \nQ 14.984375 11.71875 18.140625 8.90625 \nQ 21.296875 6.109375 26.703125 6.109375 \nQ 34.1875 6.109375 38.703125 11.40625 \nQ 43.21875 16.703125 43.21875 25.484375 \nL 43.21875 27.484375 \nz\nM 52.203125 31.203125 \nL 52.203125 0 \nL 43.21875 0 \nL 43.21875 8.296875 \nQ 40.140625 3.328125 35.546875 0.953125 \nQ 30.953125 -1.421875 24.3125 -1.421875 \nQ 15.921875 -1.421875 10.953125 3.296875 \nQ 6 8.015625 6 15.921875 \nQ 6 25.140625 12.171875 29.828125 \nQ 18.359375 34.515625 30.609375 34.515625 \nL 43.21875 34.515625 \nL 43.21875 35.40625 \nQ 43.21875 41.609375 39.140625 45 \nQ 35.0625 48.390625 27.6875 48.390625 \nQ 23 48.390625 18.546875 47.265625 \nQ 14.109375 46.140625 10.015625 43.890625 \nL 10.015625 52.203125 \nQ 14.9375 54.109375 19.578125 55.046875 \nQ 24.21875 56 28.609375 56 \nQ 40.484375 56 46.34375 49.84375 \nQ 52.203125 43.703125 52.203125 31.203125 \nz\n\" id=\"DejaVuSans-97\"/>\n    </defs>\n    <g transform=\"translate(332.500625 29.7555)scale(0.12 -0.12)\">\n     <use xlink:href=\"#DejaVuSans-99\"/>\n     <use x=\"54.980469\" xlink:href=\"#DejaVuSans-111\"/>\n     <use x=\"116.162109\" xlink:href=\"#DejaVuSans-97\"/>\n     <use x=\"177.441406\" xlink:href=\"#DejaVuSans-116\"/>\n    </g>\n   </g>\n  </g>\n  <g id=\"axes_6\">\n   <g id=\"patch_27\">\n    <path d=\"M 389.718868 98.925311 \nL 452.888679 98.925311 \nL 452.888679 35.7555 \nL 389.718868 35.7555 \nz\n\" style=\"fill:#ffffff;\"/>\n   </g>\n   <g clip-path=\"url(#p2cd6716444)\">\n    <image height=\"64\" id=\"imageb955abb1b2\" transform=\"scale(1 -1)translate(0 -64)\" width=\"64\" x=\"389.718868\" xlink:href=\"data:image/png;base64,\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\" y=\"-34.925311\"/>\n   </g>\n   <g id=\"patch_28\">\n    <path d=\"M 389.718868 98.925311 \nL 389.718868 35.7555 \n\" style=\"fill:none;stroke:#000000;stroke-linecap:square;stroke-linejoin:miter;stroke-width:0.8;\"/>\n   </g>\n   <g id=\"patch_29\">\n    <path d=\"M 452.888679 98.925311 \nL 452.888679 35.7555 \n\" style=\"fill:none;stroke:#000000;stroke-linecap:square;stroke-linejoin:miter;stroke-width:0.8;\"/>\n   </g>\n   <g id=\"patch_30\">\n    <path d=\"M 389.718868 98.925311 \nL 452.888679 98.925311 \n\" style=\"fill:none;stroke:#000000;stroke-linecap:square;stroke-linejoin:miter;stroke-width:0.8;\"/>\n   </g>\n   <g id=\"patch_31\">\n    <path d=\"M 389.718868 35.7555 \nL 452.888679 35.7555 \n\" style=\"fill:none;stroke:#000000;stroke-linecap:square;stroke-linejoin:miter;stroke-width:0.8;\"/>\n   </g>\n   <g id=\"text_6\">\n    <!-- pullover -->\n    <g transform=\"translate(396.977524 16.318125)scale(0.12 -0.12)\">\n     <use xlink:href=\"#DejaVuSans-112\"/>\n     <use x=\"63.476562\" xlink:href=\"#DejaVuSans-117\"/>\n     <use x=\"126.855469\" xlink:href=\"#DejaVuSans-108\"/>\n     <use x=\"154.638672\" xlink:href=\"#DejaVuSans-108\"/>\n     <use x=\"182.421875\" xlink:href=\"#DejaVuSans-111\"/>\n     <use x=\"243.603516\" xlink:href=\"#DejaVuSans-118\"/>\n     <use x=\"302.783203\" xlink:href=\"#DejaVuSans-101\"/>\n     <use x=\"364.306641\" xlink:href=\"#DejaVuSans-114\"/>\n    </g>\n    <!-- shirt -->\n    <g transform=\"translate(407.890024 29.7555)scale(0.12 -0.12)\">\n     <use xlink:href=\"#DejaVuSans-115\"/>\n     <use x=\"52.099609\" xlink:href=\"#DejaVuSans-104\"/>\n     <use x=\"115.478516\" xlink:href=\"#DejaVuSans-105\"/>\n     <use x=\"143.261719\" xlink:href=\"#DejaVuSans-114\"/>\n     <use x=\"184.375\" xlink:href=\"#DejaVuSans-116\"/>\n    </g>\n   </g>\n  </g>\n  <g id=\"axes_7\">\n   <g id=\"patch_32\">\n    <path d=\"M 465.522642 98.925311 \nL 528.692453 98.925311 \nL 528.692453 35.7555 \nL 465.522642 35.7555 \nz\n\" style=\"fill:#ffffff;\"/>\n   </g>\n   <g clip-path=\"url(#pfa699e4870)\">\n    <image height=\"64\" id=\"image0a92c43541\" transform=\"scale(1 -1)translate(0 -64)\" width=\"64\" x=\"465.522642\" xlink:href=\"data:image/png;base64,\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\" y=\"-34.925311\"/>\n   </g>\n   <g id=\"patch_33\">\n    <path d=\"M 465.522642 98.925311 \nL 465.522642 35.7555 \n\" style=\"fill:none;stroke:#000000;stroke-linecap:square;stroke-linejoin:miter;stroke-width:0.8;\"/>\n   </g>\n   <g id=\"patch_34\">\n    <path d=\"M 528.692453 98.925311 \nL 528.692453 35.7555 \n\" style=\"fill:none;stroke:#000000;stroke-linecap:square;stroke-linejoin:miter;stroke-width:0.8;\"/>\n   </g>\n   <g id=\"patch_35\">\n    <path d=\"M 465.522642 98.925311 \nL 528.692453 98.925311 \n\" style=\"fill:none;stroke:#000000;stroke-linecap:square;stroke-linejoin:miter;stroke-width:0.8;\"/>\n   </g>\n   <g id=\"patch_36\">\n    <path d=\"M 465.522642 35.7555 \nL 528.692453 35.7555 \n\" style=\"fill:none;stroke:#000000;stroke-linecap:square;stroke-linejoin:miter;stroke-width:0.8;\"/>\n   </g>\n   <g id=\"text_7\">\n    <!-- bag -->\n    <defs>\n     <path d=\"M 48.6875 27.296875 \nQ 48.6875 37.203125 44.609375 42.84375 \nQ 40.53125 48.484375 33.40625 48.484375 \nQ 26.265625 48.484375 22.1875 42.84375 \nQ 18.109375 37.203125 18.109375 27.296875 \nQ 18.109375 17.390625 22.1875 11.75 \nQ 26.265625 6.109375 33.40625 6.109375 \nQ 40.53125 6.109375 44.609375 11.75 \nQ 48.6875 17.390625 48.6875 27.296875 \nz\nM 18.109375 46.390625 \nQ 20.953125 51.265625 25.265625 53.625 \nQ 29.59375 56 35.59375 56 \nQ 45.5625 56 51.78125 48.09375 \nQ 58.015625 40.1875 58.015625 27.296875 \nQ 58.015625 14.40625 51.78125 6.484375 \nQ 45.5625 -1.421875 35.59375 -1.421875 \nQ 29.59375 -1.421875 25.265625 0.953125 \nQ 20.953125 3.328125 18.109375 8.203125 \nL 18.109375 0 \nL 9.078125 0 \nL 9.078125 75.984375 \nL 18.109375 75.984375 \nz\n\" id=\"DejaVuSans-98\"/>\n     <path d=\"M 45.40625 27.984375 \nQ 45.40625 37.75 41.375 43.109375 \nQ 37.359375 48.484375 30.078125 48.484375 \nQ 22.859375 48.484375 18.828125 43.109375 \nQ 14.796875 37.75 14.796875 27.984375 \nQ 14.796875 18.265625 18.828125 12.890625 \nQ 22.859375 7.515625 30.078125 7.515625 \nQ 37.359375 7.515625 41.375 12.890625 \nQ 45.40625 18.265625 45.40625 27.984375 \nz\nM 54.390625 6.78125 \nQ 54.390625 -7.171875 48.1875 -13.984375 \nQ 42 -20.796875 29.203125 -20.796875 \nQ 24.46875 -20.796875 20.265625 -20.09375 \nQ 16.0625 -19.390625 12.109375 -17.921875 \nL 12.109375 -9.1875 \nQ 16.0625 -11.328125 19.921875 -12.34375 \nQ 23.78125 -13.375 27.78125 -13.375 \nQ 36.625 -13.375 41.015625 -8.765625 \nQ 45.40625 -4.15625 45.40625 5.171875 \nL 45.40625 9.625 \nQ 42.625 4.78125 38.28125 2.390625 \nQ 33.9375 0 27.875 0 \nQ 17.828125 0 11.671875 7.65625 \nQ 5.515625 15.328125 5.515625 27.984375 \nQ 5.515625 40.671875 11.671875 48.328125 \nQ 17.828125 56 27.875 56 \nQ 33.9375 56 38.28125 53.609375 \nQ 42.625 51.21875 45.40625 46.390625 \nL 45.40625 54.6875 \nL 54.390625 54.6875 \nz\n\" id=\"DejaVuSans-103\"/>\n    </defs>\n    <g transform=\"translate(485.812547 16.318125)scale(0.12 -0.12)\">\n     <use xlink:href=\"#DejaVuSans-98\"/>\n     <use x=\"63.476562\" xlink:href=\"#DejaVuSans-97\"/>\n     <use x=\"124.755859\" xlink:href=\"#DejaVuSans-103\"/>\n    </g>\n    <!-- bag -->\n    <g transform=\"translate(485.812547 29.7555)scale(0.12 -0.12)\">\n     <use xlink:href=\"#DejaVuSans-98\"/>\n     <use x=\"63.476562\" xlink:href=\"#DejaVuSans-97\"/>\n     <use x=\"124.755859\" xlink:href=\"#DejaVuSans-103\"/>\n    </g>\n   </g>\n  </g>\n  <g id=\"axes_8\">\n   <g id=\"patch_37\">\n    <path d=\"M 541.326415 98.925311 \nL 604.496226 98.925311 \nL 604.496226 35.7555 \nL 541.326415 35.7555 \nz\n\" style=\"fill:#ffffff;\"/>\n   </g>\n   <g clip-path=\"url(#pecb340eaab)\">\n    <image height=\"64\" id=\"image9abcaf5e30\" transform=\"scale(1 -1)translate(0 -64)\" width=\"64\" x=\"541.326415\" xlink:href=\"data:image/png;base64,\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\" y=\"-34.925311\"/>\n   </g>\n   <g id=\"patch_38\">\n    <path d=\"M 541.326415 98.925311 \nL 541.326415 35.7555 \n\" style=\"fill:none;stroke:#000000;stroke-linecap:square;stroke-linejoin:miter;stroke-width:0.8;\"/>\n   </g>\n   <g id=\"patch_39\">\n    <path d=\"M 604.496226 98.925311 \nL 604.496226 35.7555 \n\" style=\"fill:none;stroke:#000000;stroke-linecap:square;stroke-linejoin:miter;stroke-width:0.8;\"/>\n   </g>\n   <g id=\"patch_40\">\n    <path d=\"M 541.326415 98.925311 \nL 604.496226 98.925311 \n\" style=\"fill:none;stroke:#000000;stroke-linecap:square;stroke-linejoin:miter;stroke-width:0.8;\"/>\n   </g>\n   <g id=\"patch_41\">\n    <path d=\"M 541.326415 35.7555 \nL 604.496226 35.7555 \n\" style=\"fill:none;stroke:#000000;stroke-linecap:square;stroke-linejoin:miter;stroke-width:0.8;\"/>\n   </g>\n   <g id=\"text_8\">\n    <!-- shirt -->\n    <g transform=\"translate(559.497571 16.318125)scale(0.12 -0.12)\">\n     <use xlink:href=\"#DejaVuSans-115\"/>\n     <use x=\"52.099609\" xlink:href=\"#DejaVuSans-104\"/>\n     <use x=\"115.478516\" xlink:href=\"#DejaVuSans-105\"/>\n     <use x=\"143.261719\" xlink:href=\"#DejaVuSans-114\"/>\n     <use x=\"184.375\" xlink:href=\"#DejaVuSans-116\"/>\n    </g>\n    <!-- shirt -->\n    <g transform=\"translate(559.497571 29.7555)scale(0.12 -0.12)\">\n     <use xlink:href=\"#DejaVuSans-115\"/>\n     <use x=\"52.099609\" xlink:href=\"#DejaVuSans-104\"/>\n     <use x=\"115.478516\" xlink:href=\"#DejaVuSans-105\"/>\n     <use x=\"143.261719\" xlink:href=\"#DejaVuSans-114\"/>\n     <use x=\"184.375\" xlink:href=\"#DejaVuSans-116\"/>\n    </g>\n   </g>\n  </g>\n  <g id=\"axes_9\">\n   <g id=\"patch_42\">\n    <path d=\"M 617.130189 98.925311 \nL 680.3 98.925311 \nL 680.3 35.7555 \nL 617.130189 35.7555 \nz\n\" style=\"fill:#ffffff;\"/>\n   </g>\n   <g clip-path=\"url(#p7c02e768f9)\">\n    <image height=\"64\" id=\"image8303ea5d81\" transform=\"scale(1 -1)translate(0 -64)\" width=\"64\" x=\"617.130189\" xlink:href=\"data:image/png;base64,\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\" y=\"-34.925311\"/>\n   </g>\n   <g id=\"patch_43\">\n    <path d=\"M 617.130189 98.925311 \nL 617.130189 35.7555 \n\" style=\"fill:none;stroke:#000000;stroke-linecap:square;stroke-linejoin:miter;stroke-width:0.8;\"/>\n   </g>\n   <g id=\"patch_44\">\n    <path d=\"M 680.3 98.925311 \nL 680.3 35.7555 \n\" style=\"fill:none;stroke:#000000;stroke-linecap:square;stroke-linejoin:miter;stroke-width:0.8;\"/>\n   </g>\n   <g id=\"patch_45\">\n    <path d=\"M 617.130189 98.925311 \nL 680.3 98.925311 \n\" style=\"fill:none;stroke:#000000;stroke-linecap:square;stroke-linejoin:miter;stroke-width:0.8;\"/>\n   </g>\n   <g id=\"patch_46\">\n    <path d=\"M 617.130189 35.7555 \nL 680.3 35.7555 \n\" style=\"fill:none;stroke:#000000;stroke-linecap:square;stroke-linejoin:miter;stroke-width:0.8;\"/>\n   </g>\n   <g id=\"text_9\">\n    <!-- sandal -->\n    <defs>\n     <path d=\"M 54.890625 33.015625 \nL 54.890625 0 \nL 45.90625 0 \nL 45.90625 32.71875 \nQ 45.90625 40.484375 42.875 44.328125 \nQ 39.84375 48.1875 33.796875 48.1875 \nQ 26.515625 48.1875 22.3125 43.546875 \nQ 18.109375 38.921875 18.109375 30.90625 \nL 18.109375 0 \nL 9.078125 0 \nL 9.078125 54.6875 \nL 18.109375 54.6875 \nL 18.109375 46.1875 \nQ 21.34375 51.125 25.703125 53.5625 \nQ 30.078125 56 35.796875 56 \nQ 45.21875 56 50.046875 50.171875 \nQ 54.890625 44.34375 54.890625 33.015625 \nz\n\" id=\"DejaVuSans-110\"/>\n    </defs>\n    <g transform=\"translate(628.957282 16.318125)scale(0.12 -0.12)\">\n     <use xlink:href=\"#DejaVuSans-115\"/>\n     <use x=\"52.099609\" xlink:href=\"#DejaVuSans-97\"/>\n     <use x=\"113.378906\" xlink:href=\"#DejaVuSans-110\"/>\n     <use x=\"176.757812\" xlink:href=\"#DejaVuSans-100\"/>\n     <use x=\"240.234375\" xlink:href=\"#DejaVuSans-97\"/>\n     <use x=\"301.513672\" xlink:href=\"#DejaVuSans-108\"/>\n    </g>\n    <!-- sandal -->\n    <g transform=\"translate(628.957282 29.7555)scale(0.12 -0.12)\">\n     <use xlink:href=\"#DejaVuSans-115\"/>\n     <use x=\"52.099609\" xlink:href=\"#DejaVuSans-97\"/>\n     <use x=\"113.378906\" xlink:href=\"#DejaVuSans-110\"/>\n     <use x=\"176.757812\" xlink:href=\"#DejaVuSans-100\"/>\n     <use x=\"240.234375\" xlink:href=\"#DejaVuSans-97\"/>\n     <use x=\"301.513672\" xlink:href=\"#DejaVuSans-108\"/>\n    </g>\n   </g>\n  </g>\n </g>\n <defs>\n  <clipPath id=\"p7a39e9348e\">\n   <rect height=\"63.169811\" width=\"63.169811\" x=\"10.7\" y=\"35.7555\"/>\n  </clipPath>\n  <clipPath id=\"p882513138f\">\n   <rect height=\"63.169811\" width=\"63.169811\" x=\"86.503774\" y=\"35.7555\"/>\n  </clipPath>\n  <clipPath id=\"p4e0dc54c19\">\n   <rect height=\"63.169811\" width=\"63.169811\" x=\"162.307547\" y=\"35.7555\"/>\n  </clipPath>\n  <clipPath id=\"p7de600f75f\">\n   <rect height=\"63.169811\" width=\"63.169811\" x=\"238.111321\" y=\"35.7555\"/>\n  </clipPath>\n  <clipPath id=\"pfd763bed70\">\n   <rect height=\"63.169811\" width=\"63.169811\" x=\"313.915094\" y=\"35.7555\"/>\n  </clipPath>\n  <clipPath id=\"p2cd6716444\">\n   <rect height=\"63.169811\" width=\"63.169811\" x=\"389.718868\" y=\"35.7555\"/>\n  </clipPath>\n  <clipPath id=\"pfa699e4870\">\n   <rect height=\"63.169811\" width=\"63.169811\" x=\"465.522642\" y=\"35.7555\"/>\n  </clipPath>\n  <clipPath id=\"pecb340eaab\">\n   <rect height=\"63.169811\" width=\"63.169811\" x=\"541.326415\" y=\"35.7555\"/>\n  </clipPath>\n  <clipPath id=\"p7c02e768f9\">\n   <rect height=\"63.169811\" width=\"63.169811\" x=\"617.130189\" y=\"35.7555\"/>\n  </clipPath>\n </defs>\n</svg>\n"
          },
          "metadata": {
            "tags": []
          }
        }
      ]
    },
    {
      "cell_type": "markdown",
      "metadata": {
        "id": "B9XmTnZ3sG3n",
        "colab_type": "text"
      },
      "source": [
        "## 3.7 softmax 回归的简洁实现"
      ]
    },
    {
      "cell_type": "code",
      "metadata": {
        "id": "VfssDqU-AYuM",
        "colab_type": "code",
        "colab": {}
      },
      "source": [
        "X = nd.random.normal(scale=0.1, shape=(256, 1, 28, 28))\n",
        "W = nd.random.normal(scale=0.1, shape=(784, 10))"
      ],
      "execution_count": 0,
      "outputs": []
    },
    {
      "cell_type": "code",
      "metadata": {
        "id": "alGjIE6FtNRh",
        "colab_type": "code",
        "colab": {
          "base_uri": "https://localhost:8080/",
          "height": 34
        },
        "outputId": "e0ff5483-a7a1-471b-8e29-5cc136a3cbb9"
      },
      "source": [
        "X.shape"
      ],
      "execution_count": 263,
      "outputs": [
        {
          "output_type": "execute_result",
          "data": {
            "text/plain": [
              "(256, 1, 28, 28)"
            ]
          },
          "metadata": {
            "tags": []
          },
          "execution_count": 263
        }
      ]
    },
    {
      "cell_type": "code",
      "metadata": {
        "id": "hIrA0WzUA1sx",
        "colab_type": "code",
        "colab": {
          "base_uri": "https://localhost:8080/",
          "height": 269
        },
        "outputId": "9a0c51ab-fcb7-4998-b13d-0f08f51ac04d"
      },
      "source": [
        "X.reshape((-1, 784))"
      ],
      "execution_count": 265,
      "outputs": [
        {
          "output_type": "execute_result",
          "data": {
            "text/plain": [
              "\n",
              "[[-0.15367763 -0.02658843  0.00347685 ... -0.14775227  0.06032347\n",
              "  -0.10581618]\n",
              " [-0.0741702   0.09215914  0.07529796 ...  0.0099817   0.03328478\n",
              "  -0.02433292]\n",
              " [ 0.08407104 -0.18633096  0.18260555 ...  0.0817024   0.16260067\n",
              "  -0.1379993 ]\n",
              " ...\n",
              " [-0.00855766  0.06492941  0.08482524 ...  0.01217262  0.05963828\n",
              "  -0.07540695]\n",
              " [ 0.0389862   0.09301686 -0.07027431 ...  0.11937422 -0.05759457\n",
              "  -0.15308489]\n",
              " [ 0.04264173  0.04359569  0.02981248 ...  0.06753636 -0.08837589\n",
              "   0.10681899]]\n",
              "<NDArray 256x784 @cpu(0)>"
            ]
          },
          "metadata": {
            "tags": []
          },
          "execution_count": 265
        }
      ]
    },
    {
      "cell_type": "code",
      "metadata": {
        "id": "1xhUXVHNBJQj",
        "colab_type": "code",
        "colab": {
          "base_uri": "https://localhost:8080/",
          "height": 34
        },
        "outputId": "54db30d3-a898-4f4c-cac0-59fcb489c7f8"
      },
      "source": [
        "W.shape"
      ],
      "execution_count": 266,
      "outputs": [
        {
          "output_type": "execute_result",
          "data": {
            "text/plain": [
              "(784, 10)"
            ]
          },
          "metadata": {
            "tags": []
          },
          "execution_count": 266
        }
      ]
    },
    {
      "cell_type": "code",
      "metadata": {
        "id": "cPcxU6_iBTpw",
        "colab_type": "code",
        "colab": {}
      },
      "source": [
        "my_net = nd.dot(X.reshape((-1, 784)), W)"
      ],
      "execution_count": 0,
      "outputs": []
    },
    {
      "cell_type": "code",
      "metadata": {
        "id": "00UkEGBdBfwH",
        "colab_type": "code",
        "colab": {
          "base_uri": "https://localhost:8080/",
          "height": 34
        },
        "outputId": "3a8808a1-d0f5-49ed-cc8c-c46c3bba0bbc"
      },
      "source": [
        "my_net.shape"
      ],
      "execution_count": 268,
      "outputs": [
        {
          "output_type": "execute_result",
          "data": {
            "text/plain": [
              "(256, 10)"
            ]
          },
          "metadata": {
            "tags": []
          },
          "execution_count": 268
        }
      ]
    },
    {
      "cell_type": "code",
      "metadata": {
        "id": "xhdhPW4ICMIo",
        "colab_type": "code",
        "colab": {
          "base_uri": "https://localhost:8080/",
          "height": 34
        },
        "outputId": "1f7a6a05-2c7e-4800-a5c9-fa523e36993c"
      },
      "source": [
        "softmax(my_net).shape"
      ],
      "execution_count": 272,
      "outputs": [
        {
          "output_type": "execute_result",
          "data": {
            "text/plain": [
              "(256, 10)"
            ]
          },
          "metadata": {
            "tags": []
          },
          "execution_count": 272
        }
      ]
    },
    {
      "cell_type": "code",
      "metadata": {
        "id": "zjx-Eb8NBiXH",
        "colab_type": "code",
        "colab": {}
      },
      "source": [
        "prob = softmax(my_net)"
      ],
      "execution_count": 0,
      "outputs": []
    },
    {
      "cell_type": "code",
      "metadata": {
        "id": "b3AFG6JKCIY2",
        "colab_type": "code",
        "colab": {
          "base_uri": "https://localhost:8080/",
          "height": 34
        },
        "outputId": "0a37277f-4511-41af-cdef-3f2ff491f578"
      },
      "source": [
        "prob.shape"
      ],
      "execution_count": 271,
      "outputs": [
        {
          "output_type": "execute_result",
          "data": {
            "text/plain": [
              "(256, 10)"
            ]
          },
          "metadata": {
            "tags": []
          },
          "execution_count": 271
        }
      ]
    },
    {
      "cell_type": "code",
      "metadata": {
        "id": "lsgr6lLQCKbP",
        "colab_type": "code",
        "colab": {
          "base_uri": "https://localhost:8080/",
          "height": 773
        },
        "outputId": "b2d5f843-9abf-42f8-e033-406f0616ac17"
      },
      "source": [
        "prob.sum(axis=1)"
      ],
      "execution_count": 273,
      "outputs": [
        {
          "output_type": "execute_result",
          "data": {
            "text/plain": [
              "\n",
              "[1.         1.         1.         1.         1.         1.\n",
              " 1.         1.         1.         1.         1.         1.\n",
              " 1.         1.         0.99999994 1.         0.99999994 1.\n",
              " 1.         1.         1.         1.         1.         1.\n",
              " 1.         1.         1.         1.         1.         1.\n",
              " 1.         1.         1.         0.99999994 1.         1.\n",
              " 1.         0.99999994 1.         1.         1.         1.\n",
              " 1.         0.99999994 1.         1.         1.         1.\n",
              " 1.         1.         1.         1.         1.         1.\n",
              " 1.         1.         1.         0.99999994 1.         1.\n",
              " 1.         0.99999994 1.         1.         1.         1.\n",
              " 1.         1.         1.         1.         1.         1.\n",
              " 1.         1.         1.         1.         1.         1.\n",
              " 0.99999994 1.         1.         1.         0.99999994 1.\n",
              " 1.         1.         1.         1.         1.         1.\n",
              " 1.         1.         1.         0.99999994 1.         1.\n",
              " 1.         0.99999994 1.         1.         1.         1.\n",
              " 1.         1.         0.99999994 1.         0.99999994 1.\n",
              " 1.         1.         1.         1.         1.         1.\n",
              " 1.         1.         1.         1.         1.         1.\n",
              " 1.         1.         1.         1.         1.         0.99999994\n",
              " 0.99999994 1.         1.         0.99999994 1.         1.\n",
              " 1.         1.         1.         1.         1.         1.\n",
              " 1.         1.         1.         1.         1.         1.\n",
              " 0.99999994 0.99999994 1.         1.         1.         1.\n",
              " 1.         1.         0.99999994 1.         1.         0.99999994\n",
              " 0.99999994 0.99999994 0.99999994 1.         1.         1.\n",
              " 1.         1.         1.         1.         0.99999994 1.\n",
              " 0.99999994 1.         1.         1.         1.         1.\n",
              " 1.         1.         1.         1.         1.         0.99999994\n",
              " 1.         1.         1.         1.         1.         1.\n",
              " 1.         1.         0.99999994 1.         1.         1.\n",
              " 1.         1.         0.99999994 1.         1.         1.\n",
              " 1.         1.         1.         1.         1.         0.99999994\n",
              " 1.         1.         0.99999994 0.99999994 1.         1.\n",
              " 1.         1.         1.         1.         1.         1.\n",
              " 1.         1.         1.         1.         1.         1.\n",
              " 0.99999994 1.         1.         1.         1.         1.\n",
              " 1.         1.         1.         1.         1.         1.\n",
              " 0.99999994 1.         1.         1.         1.         0.99999994\n",
              " 1.         1.         1.         1.         1.         1.\n",
              " 0.99999994 1.         1.         1.         1.         1.\n",
              " 1.         1.         1.         1.        ]\n",
              "<NDArray 256 @cpu(0)>"
            ]
          },
          "metadata": {
            "tags": []
          },
          "execution_count": 273
        }
      ]
    }
  ]
}